{
 "cells": [
  {
   "cell_type": "code",
   "execution_count": 1,
   "metadata": {},
   "outputs": [],
   "source": [
    "from scipy.stats import hypergeom\n",
    "\n",
    "import os\n",
    "import numpy as np\n",
    "import pandas as pd\n",
    "import networkx as nx"
   ]
  },
  {
   "cell_type": "markdown",
   "metadata": {},
   "source": [
    "# Script"
   ]
  },
  {
   "cell_type": "code",
   "execution_count": 2,
   "metadata": {},
   "outputs": [],
   "source": [
    "# =============================================================================\n",
    "#  --------------------- INPUT PARAMETER AND PATH CLASSES ---------------------\n",
    "# =============================================================================\n",
    "\n",
    "class InputParameters():\n",
    "    RUN   = 0  #sys.argv[1]\n",
    "    RANGE = 10\n",
    "    def __init__(self, network_name, feature, metric, method, aspect):\n",
    "        self.network_name = network_name\n",
    "        self.feature = feature\n",
    "        self.metric  = metric\n",
    "        self.method  = method\n",
    "        self.aspect  = aspect\n",
    "            \n",
    "class Paths():\n",
    "    DATA_DIRECTORY = \"/Users/markusyoussef/Desktop/git/supplements/data\"\n",
    "    RAW_DATA_DIRECTORY = f\"{DATA_DIRECTORY}/raw_data\"\n",
    "    YEAST_DIRECTORY = f\"{DATA_DIRECTORY}/processed_data/yeast\"\n",
    "    NETWORK_DIRECTORY = f\"{YEAST_DIRECTORY}/networks\"\n",
    "    ANNOTATION_DIRECTORY = f\"{YEAST_DIRECTORY}/annotations\"\n",
    "    \n",
    "    def __init__(self, in_parms):\n",
    "        self.NETWORK_FILE    = f\"{self.NETWORK_DIRECTORY}/{in_parms.network_name}.txt\"\n",
    "        self.ANNOTATION_FILE = f\"{self.ANNOTATION_DIRECTORY}/GO_{in_parms.aspect}_systematic_SGD.csv\"\n",
    "        \n",
    "        network_to_method = f\"{in_parms.network_name}/{in_parms.feature}/{in_parms.metric}/{in_parms.method}\"\n",
    "        self.CLUSTER_DIRECTORY = f\"{self.YEAST_DIRECTORY}/clusterings/\"  \\\n",
    "                                 f\"{network_to_method}\"\n",
    "        self.PVALUE_DIRECTORY  = f\"{self.YEAST_DIRECTORY}/pvalues/\"      \\\n",
    "                                 f\"{network_to_method}/{in_parms.aspect}\"\n",
    "    \n",
    "        if not os.path.exists(self.PVALUE_DIRECTORY):\n",
    "            os.makedirs(self.PVALUE_DIRECTORY)"
   ]
  },
  {
   "cell_type": "code",
   "execution_count": 3,
   "metadata": {},
   "outputs": [],
   "source": [
    "# =============================================================================\n",
    "#  -------------------------------- FUNCTIONS ---------------------------------\n",
    "# =============================================================================\n",
    "\n",
    "def get_pvalues(cluster_list, annotation, gene_population):\n",
    "    \"\"\"\n",
    "    Takes a liks of clusters and an annotation file and returns \n",
    "    a dataframe of p-values for each cluster and each annotation term\n",
    "    \"\"\"\n",
    "    \n",
    "    n_clusters = len(cluster_list)\n",
    "\n",
    "# ---------------------------- population size, M -----------------------------\n",
    "    nb_of_annoteted_genes = pd.DataFrame(len(gene_population),\n",
    "                                         index   = annotation.index,\n",
    "                                         columns = range(n_clusters))\n",
    "    \n",
    "# ---------- number of draws (i.e. quantity drawn in each trial), N -----------\n",
    "    n_GOterm_copies_of_cluster_sizes = iter([pd.Series(map(len, cluster_list))]*len(annotation))\n",
    "    size_of_clusters = pd.concat(n_GOterm_copies_of_cluster_sizes, axis=1).T\n",
    "    size_of_clusters.index = annotation.index\n",
    "    \n",
    "    # sum of |(annotated) genes in cluster| across all clusters \n",
    "    # == |overall (annotated) genes|\n",
    "    assert (size_of_clusters.sum(axis=1) == len(gene_population)).all()\n",
    "\n",
    "# -------------- number of success states in the population, n ----------------\n",
    "    n_cluster_copies_of_annotation_counts = iter([annotation.apply(len)]*n_clusters)\n",
    "    nb_annotated_genes_per_GO = pd.concat(n_cluster_copies_of_annotation_counts, axis=1)\n",
    "    nb_annotated_genes_per_GO.columns = range(n_clusters)\n",
    "\n",
    "# --------------------- number of observed successes, k -----------------------\n",
    "    gene_count_of_intersections = (\n",
    "                pd.Series([len(annotated_genes & gene_set) for gene_set in cluster_list])\n",
    "                                     for annotated_genes in annotation)\n",
    "    nb_annotated_genes_in_cluster = pd.concat(gene_count_of_intersections, axis=1).T\n",
    "    nb_annotated_genes_in_cluster.index   = annotation.index\n",
    "    nb_annotated_genes_in_cluster.columns = range(n_clusters)\n",
    "\n",
    "    # sum of |annotated genes per GO-term in cluster| across all clusters \n",
    "    # == |annotated genes per GO-term|\n",
    "    assert (nb_annotated_genes_in_cluster.sum(axis=1) == annotation.apply(len)).all()\n",
    "    \n",
    "# ------------ all of this just to execute a single scipy function -------------    \n",
    "    pvalues = pd.DataFrame(1-hypergeom.cdf(M = nb_of_annoteted_genes.values,\n",
    "                                        N = size_of_clusters.values,\n",
    "                                        n = nb_annotated_genes_per_GO.values,\n",
    "                                        k = nb_annotated_genes_in_cluster.values-1),\n",
    "                        index=GO2geneset_s.index)\n",
    "    \n",
    "    # set pvalues of unannotated cluster in GOterm to nan for assertion checks\n",
    "    pvalues[nb_annotated_genes_in_cluster == 0] = np.nan\n",
    "    return pvalues\n",
    "\n",
    "\n",
    "def assert_nan_values(pvalues, cluster_list, gene2GOset):\n",
    "    for cluster_idx in pvalues.columns:\n",
    "        if len(cluster_list[cluster_idx]) == 0:\n",
    "            assert (pvalues[cluster_idx].isna()).all()\n",
    "        else:\n",
    "            GOterms_in_cluster = set.union(*map(gene2GOset.get, cluster_list[cluster_idx]))\n",
    "            for GOterm in pvalues.index:\n",
    "                if not GOterm in GOterms_in_cluster:\n",
    "                    assert np.isnan(pvalues[cluster_idx][GOterm])"
   ]
  },
  {
   "cell_type": "code",
   "execution_count": 52,
   "metadata": {},
   "outputs": [],
   "source": [
    "# =============================================================================\n",
    "#  ----------------------------------- INIT -----------------------------------\n",
    "# =============================================================================\n",
    "\n",
    "# Global parameters\n",
    "RUN = 0\n",
    "RANGE = 10\n",
    "\n",
    "# Input parameters\n",
    "network_name = 'GI_Constanzo2016'\n",
    "feature = 'GCV-G'\n",
    "metric  = 'braycurtis'\n",
    "method  = 'kmedoid'\n",
    "aspect  = 'BP'  \n",
    "\n",
    "in_parms = InputParameters(network_name, feature, metric, method, aspect)"
   ]
  },
  {
   "cell_type": "code",
   "execution_count": 53,
   "metadata": {},
   "outputs": [
    {
     "name": "stdout",
     "output_type": "stream",
     "text": [
      "Network has 4628 genes, of which 1155 (24.96%) are un-annotated.\n"
     ]
    }
   ],
   "source": [
    "# =============================================================================\n",
    "#  ----------------------------------- MAIN -----------------------------------\n",
    "# =============================================================================\n",
    "\n",
    "network_nx = nx.read_edgelist(Paths(in_parms).NETWORK_FILE)\n",
    "annotation_df = pd.read_csv(Paths(in_parms).ANNOTATION_FILE)\n",
    "annotation_df = annotation_df[annotation_df.Systematic_ID.isin(network_nx)]\n",
    "\n",
    "annotated_geneset = set(annotation_df.Systematic_ID)\n",
    "\n",
    "GO2geneset = {go_id: set(genes.Systematic_ID) for go_id, genes in annotation_df.groupby('GO_ID')}\n",
    "gene2GOset = {gene : set(go_ids.GO_ID) for gene, go_ids in annotation_df.groupby('Systematic_ID')}\n",
    "\n",
    "GO2geneset_s = pd.Series(GO2geneset).sort_index()\n",
    "\n",
    "# ------------ unrelated statistics: number of un-annotated genes -------------\n",
    "nb_unannotated_genes = len(network_nx)-len(annotated_geneset)\n",
    "print(f\"Network has {len(network_nx)} genes, of which {nb_unannotated_genes} \" \n",
    "      f\"({100*nb_unannotated_genes/len(network_nx):.2f}%) are un-annotated.\")\n",
    "\n",
    "# ----------------------- this is where the fun starts ------------------------\n",
    "N = len(network_nx)\n",
    "M = int(np.sqrt(N/2))\n",
    "\n",
    "for n_clusters in range(M-RANGE, M+RANGE+1):\n",
    "    with open(f\"{Paths(in_parms).CLUSTER_DIRECTORY}/{RUN}_{n_clusters}.txt\", 'r') as f:\n",
    "                 cluster_list = [set(line.split()) for line in f]\n",
    "\n",
    "    # keep only annotated genes in cluster\n",
    "    annotated_cluster_list = [gene_set & annotated_geneset for gene_set in cluster_list]\n",
    "    \n",
    "    pvalues = get_pvalues(cluster_list    = annotated_cluster_list, \n",
    "                          annotation      = GO2geneset_s, \n",
    "                          gene_population = annotated_geneset)\n",
    "\n",
    "    # assert that un-annotated GO-terms have a p-value of nan\n",
    "    assert_nan_values(pvalues, annotated_cluster_list, gene2GOset)\n",
    "    \n",
    "    pvalues.to_csv(f\"{Paths(in_parms).PVALUE_DIRECTORY}/{RUN}_{n_clusters}.txt\")"
   ]
  },
  {
   "cell_type": "markdown",
   "metadata": {},
   "source": [
    "---"
   ]
  },
  {
   "cell_type": "markdown",
   "metadata": {},
   "source": [
    "# Testing"
   ]
  },
  {
   "cell_type": "code",
   "execution_count": 51,
   "metadata": {},
   "outputs": [],
   "source": [
    "# =============================================================================\n",
    "#  ----------------------------------- INIT -----------------------------------\n",
    "# =============================================================================\n",
    "\n",
    "# Global parameters\n",
    "RUN = 0\n",
    "RANGE = 10\n",
    "\n",
    "# Input parameters\n",
    "network_name = 'GI_Constanzo2016'\n",
    "feature = 'GCV-G'\n",
    "metric  = 'braycurtis'\n",
    "method  = 'kmedoid'\n",
    "aspect  = 'BP'  \n",
    "\n",
    "in_parms = InputParameters(network_name, feature, metric, method, aspect)"
   ]
  },
  {
   "cell_type": "code",
   "execution_count": 21,
   "metadata": {},
   "outputs": [
    {
     "name": "stdout",
     "output_type": "stream",
     "text": [
      "Network has 4628 genes, of which 1155 (24.96%) are un-annotated.\n"
     ]
    }
   ],
   "source": [
    "# =============================================================================\n",
    "#  ----------------------------------- MAIN -----------------------------------\n",
    "# =============================================================================\n",
    "\n",
    "network_nx = nx.read_edgelist(Paths(in_parms).NETWORK_FILE)\n",
    "annotation_df = pd.read_csv(Paths(in_parms).ANNOTATION_FILE)\n",
    "annotation_df = annotation_df[annotation_df.Systematic_ID.isin(network_nx)]\n",
    "\n",
    "annotated_geneset = set(annotation_df.Systematic_ID)\n",
    "\n",
    "GO2geneset = {go_id: set(genes.Systematic_ID) for go_id, genes in annotation_df.groupby('GO_ID')}\n",
    "gene2GOset = {gene : set(go_ids.GO_ID) for gene, go_ids in annotation_df.groupby('Systematic_ID')}\n",
    "\n",
    "GO2geneset_s = pd.Series(GO2geneset).sort_index()\n",
    "\n",
    "# ------------ unrelated statistics: number of un-annotated genes -------------\n",
    "nb_unannotated_genes = len(network_nx)-len(annotated_geneset)\n",
    "print(f\"Network has {len(network_nx)} genes, of which {nb_unannotated_genes} \" \n",
    "      f\"({100*nb_unannotated_genes/len(network_nx):.2f}%) are un-annotated.\")\n",
    "\n",
    "# ----------------------- this is where the fun starts ------------------------\n",
    "N = len(network_nx)\n",
    "M = int(np.sqrt(N/2))\n",
    "\n",
    "for n_clusters in range(M-RANGE, M+RANGE+1):\n",
    "    with open(f\"{Paths(in_parms).CLUSTER_DIRECTORY}/{RUN}_{n_clusters}.txt\", 'r') as f:\n",
    "                 cluster_list = [set(line.split()) for line in f]\n",
    "\n",
    "    # keep only annotated genes in cluster\n",
    "    annotated_cluster_list = [gene_set & annotated_geneset for gene_set in cluster_list]\n",
    "    \n",
    "    pvalues = get_pvalues(cluster_list    = annotated_cluster_list, \n",
    "                          annotation      = GO2geneset_s, \n",
    "                          gene_population = annotated_geneset)\n",
    "\n",
    "    # assert that un-annotated GO-terms have a p-value of nan\n",
    "    assert_nan_values(pvalues, annotated_cluster_list, gene2GOset)"
   ]
  },
  {
   "cell_type": "code",
   "execution_count": 22,
   "metadata": {},
   "outputs": [
    {
     "data": {
      "text/html": [
       "<div>\n",
       "<style scoped>\n",
       "    .dataframe tbody tr th:only-of-type {\n",
       "        vertical-align: middle;\n",
       "    }\n",
       "\n",
       "    .dataframe tbody tr th {\n",
       "        vertical-align: top;\n",
       "    }\n",
       "\n",
       "    .dataframe thead th {\n",
       "        text-align: right;\n",
       "    }\n",
       "</style>\n",
       "<table border=\"1\" class=\"dataframe\">\n",
       "  <thead>\n",
       "    <tr style=\"text-align: right;\">\n",
       "      <th></th>\n",
       "      <th>0</th>\n",
       "      <th>1</th>\n",
       "      <th>2</th>\n",
       "      <th>3</th>\n",
       "      <th>4</th>\n",
       "      <th>5</th>\n",
       "      <th>6</th>\n",
       "      <th>7</th>\n",
       "      <th>8</th>\n",
       "      <th>9</th>\n",
       "      <th>...</th>\n",
       "      <th>28</th>\n",
       "      <th>29</th>\n",
       "      <th>30</th>\n",
       "      <th>31</th>\n",
       "      <th>32</th>\n",
       "      <th>33</th>\n",
       "      <th>34</th>\n",
       "      <th>35</th>\n",
       "      <th>36</th>\n",
       "      <th>37</th>\n",
       "    </tr>\n",
       "  </thead>\n",
       "  <tbody>\n",
       "    <tr>\n",
       "      <th>GO:0016043</th>\n",
       "      <td>0.029825</td>\n",
       "      <td>NaN</td>\n",
       "      <td>0.34725</td>\n",
       "      <td>NaN</td>\n",
       "      <td>NaN</td>\n",
       "      <td>NaN</td>\n",
       "      <td>NaN</td>\n",
       "      <td>NaN</td>\n",
       "      <td>NaN</td>\n",
       "      <td>NaN</td>\n",
       "      <td>...</td>\n",
       "      <td>NaN</td>\n",
       "      <td>NaN</td>\n",
       "      <td>0.347250</td>\n",
       "      <td>NaN</td>\n",
       "      <td>NaN</td>\n",
       "      <td>NaN</td>\n",
       "      <td>NaN</td>\n",
       "      <td>NaN</td>\n",
       "      <td>NaN</td>\n",
       "      <td>NaN</td>\n",
       "    </tr>\n",
       "    <tr>\n",
       "      <th>GO:0022607</th>\n",
       "      <td>0.037432</td>\n",
       "      <td>NaN</td>\n",
       "      <td>NaN</td>\n",
       "      <td>NaN</td>\n",
       "      <td>NaN</td>\n",
       "      <td>NaN</td>\n",
       "      <td>NaN</td>\n",
       "      <td>NaN</td>\n",
       "      <td>NaN</td>\n",
       "      <td>NaN</td>\n",
       "      <td>...</td>\n",
       "      <td>NaN</td>\n",
       "      <td>NaN</td>\n",
       "      <td>0.144544</td>\n",
       "      <td>NaN</td>\n",
       "      <td>NaN</td>\n",
       "      <td>NaN</td>\n",
       "      <td>NaN</td>\n",
       "      <td>NaN</td>\n",
       "      <td>NaN</td>\n",
       "      <td>NaN</td>\n",
       "    </tr>\n",
       "  </tbody>\n",
       "</table>\n",
       "<p>2 rows × 38 columns</p>\n",
       "</div>"
      ],
      "text/plain": [
       "                  0   1        2   3   4   5   6   7   8   9   ...  28  29  \\\n",
       "GO:0016043  0.029825 NaN  0.34725 NaN NaN NaN NaN NaN NaN NaN  ... NaN NaN   \n",
       "GO:0022607  0.037432 NaN      NaN NaN NaN NaN NaN NaN NaN NaN  ... NaN NaN   \n",
       "\n",
       "                  30  31  32  33  34  35  36  37  \n",
       "GO:0016043  0.347250 NaN NaN NaN NaN NaN NaN NaN  \n",
       "GO:0022607  0.144544 NaN NaN NaN NaN NaN NaN NaN  \n",
       "\n",
       "[2 rows x 38 columns]"
      ]
     },
     "execution_count": 22,
     "metadata": {},
     "output_type": "execute_result"
    }
   ],
   "source": [
    "pvalues[pvalues[0] < 0.05]"
   ]
  },
  {
   "cell_type": "code",
   "execution_count": 41,
   "metadata": {},
   "outputs": [],
   "source": [
    "cluster_list    = annotated_cluster_list\n",
    "annotation      = GO2geneset_s \n",
    "gene_population = annotated_geneset"
   ]
  },
  {
   "cell_type": "code",
   "execution_count": 42,
   "metadata": {},
   "outputs": [],
   "source": [
    "n_clusters = len(cluster_list)\n",
    "\n",
    "# ---------------------------- population size, M -----------------------------\n",
    "nb_of_annoteted_genes = pd.DataFrame(len(gene_population),\n",
    "                                     index   = annotation.index,\n",
    "                                     columns = range(n_clusters))\n",
    "\n",
    "# ---------- number of draws (i.e. quantity drawn in each trial), N -----------\n",
    "n_GOterm_copies_of_cluster_sizes = iter([pd.Series(map(len, cluster_list))]*len(annotation))\n",
    "size_of_clusters = pd.concat(n_GOterm_copies_of_cluster_sizes, axis=1).T\n",
    "size_of_clusters.index = annotation.index\n",
    "\n",
    "# sum of |(annotated) genes in cluster| across all clusters \n",
    "# == |overall (annotated) genes|\n",
    "assert (size_of_clusters.sum(axis=1) == len(gene_population)).all()\n",
    "\n",
    "# -------------- number of success states in the population, n ----------------\n",
    "n_cluster_copies_of_annotation_counts = iter([annotation.apply(len)]*n_clusters)\n",
    "nb_annotated_genes = pd.concat(n_cluster_copies_of_annotation_counts, axis=1)\n",
    "nb_annotated_genes.columns = range(n_clusters)\n",
    "\n",
    "# --------------------- number of observed successes, k -----------------------\n",
    "gene_count_of_intersections = (\n",
    "            pd.Series([len(annotated_genes & gene_set) for gene_set in cluster_list])\n",
    "                                 for annotated_genes in annotation)\n",
    "nb_annotated_genes_in_cluster = pd.concat(gene_count_of_intersections, axis=1).T\n",
    "nb_annotated_genes_in_cluster.index   = annotation.index\n",
    "nb_annotated_genes_in_cluster.columns = range(n_clusters)\n",
    "\n",
    "# sum of |annotated genes per GO-term in cluster| across all clusters \n",
    "# == |annotated genes per GO-term|\n",
    "assert (nb_annotated_genes_in_cluster.sum(axis=1) == annotation.apply(len)).all()\n",
    "\n",
    "# ------------ all of this just to execute a single scipy function -------------    \n",
    "pvalues = pd.DataFrame(1-hypergeom.cdf(M = nb_of_annoteted_genes.values,\n",
    "                                    N = size_of_clusters.values,\n",
    "                                    n = nb_annotated_genes.values,\n",
    "                                    k = nb_annotated_genes_in_cluster.values-1),\n",
    "                    index=GO2geneset_s.index)\n",
    "\n",
    "# set pvalues of unannotated cluster in GOterm to nan for assertion checks\n",
    "pvalues[nb_annotated_genes_in_cluster == 0] = np.nan"
   ]
  },
  {
   "cell_type": "code",
   "execution_count": 50,
   "metadata": {},
   "outputs": [
    {
     "data": {
      "text/plain": [
       "(3473, 3440, 2.402390438247012, 2.395209580838323)"
      ]
     },
     "execution_count": 50,
     "metadata": {},
     "output_type": "execute_result"
    }
   ],
   "source": [
    "3473, 3440, 1206/502, 1200/501"
   ]
  },
  {
   "cell_type": "code",
   "execution_count": null,
   "metadata": {},
   "outputs": [],
   "source": []
  },
  {
   "cell_type": "code",
   "execution_count": 54,
   "metadata": {},
   "outputs": [
    {
     "data": {
      "text/plain": [
       "0     1200\n",
       "1        0\n",
       "2        1\n",
       "3        0\n",
       "4        0\n",
       "5        0\n",
       "6        0\n",
       "7        0\n",
       "8        0\n",
       "9        0\n",
       "10       0\n",
       "11       0\n",
       "12       0\n",
       "13       0\n",
       "14       0\n",
       "15       0\n",
       "16       0\n",
       "17       0\n",
       "18       0\n",
       "19       0\n",
       "20       1\n",
       "21       1\n",
       "22       0\n",
       "23       0\n",
       "24       1\n",
       "25       0\n",
       "26       1\n",
       "27       0\n",
       "28       0\n",
       "29       0\n",
       "30       1\n",
       "31       0\n",
       "32       0\n",
       "33       0\n",
       "34       0\n",
       "35       0\n",
       "36       0\n",
       "37       0\n",
       "Name: GO:0016043, dtype: int64"
      ]
     },
     "execution_count": 54,
     "metadata": {},
     "output_type": "execute_result"
    }
   ],
   "source": [
    "nb_annotated_genes_in_cluster.loc['GO:0016043']"
   ]
  },
  {
   "cell_type": "code",
   "execution_count": 56,
   "metadata": {},
   "outputs": [
    {
     "data": {
      "text/plain": [
       "0.029824731259029624"
      ]
     },
     "execution_count": 56,
     "metadata": {},
     "output_type": "execute_result"
    }
   ],
   "source": [
    "1-hypergeom.cdf(M = 3473,\n",
    "                N = 3440,\n",
    "                n = 1206,\n",
    "                k = 1200-1)"
   ]
  },
  {
   "cell_type": "code",
   "execution_count": 40,
   "metadata": {},
   "outputs": [
    {
     "data": {
      "text/plain": [
       "tuple"
      ]
     },
     "execution_count": 40,
     "metadata": {},
     "output_type": "execute_result"
    }
   ],
   "source": [
    "type(annotation)"
   ]
  },
  {
   "cell_type": "code",
   "execution_count": 37,
   "metadata": {},
   "outputs": [
    {
     "data": {
      "text/plain": [
       "pandas.core.series.Series"
      ]
     },
     "execution_count": 37,
     "metadata": {},
     "output_type": "execute_result"
    }
   ],
   "source": [
    "type(GO2geneset_s)"
   ]
  },
  {
   "cell_type": "code",
   "execution_count": null,
   "metadata": {},
   "outputs": [],
   "source": []
  }
 ],
 "metadata": {
  "kernelspec": {
   "display_name": "graco",
   "language": "python",
   "name": "graco"
  },
  "language_info": {
   "codemirror_mode": {
    "name": "ipython",
    "version": 3
   },
   "file_extension": ".py",
   "mimetype": "text/x-python",
   "name": "python",
   "nbconvert_exporter": "python",
   "pygments_lexer": "ipython3",
   "version": "3.7.7"
  }
 },
 "nbformat": 4,
 "nbformat_minor": 2
}
