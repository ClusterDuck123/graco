{
 "cells": [
  {
   "cell_type": "code",
   "execution_count": 1,
   "metadata": {},
   "outputs": [],
   "source": [
    "from scipy.spatial.distance import squareform, pdist, cdist\n",
    "from itertools import islice, combinations, product\n",
    "from pyclustering.cluster.kmedoids import kmedoids\n",
    "from functools import partial\n",
    "from random import sample\n",
    "\n",
    "import os\n",
    "import time\n",
    "import graco\n",
    "import numpy as np\n",
    "import pandas as pd\n",
    "import seaborn as sns\n",
    "import networkx as nx\n",
    "import matplotlib.pyplot as plt"
   ]
  },
  {
   "cell_type": "code",
   "execution_count": 2,
   "metadata": {},
   "outputs": [],
   "source": [
    "%matplotlib inline\n",
    "sns.set()\n",
    "pd.set_option(\"display.max_columns\", 50)\n",
    "\n",
    "DATA_DIRECTORY = \"/home/clusterduck123/Desktop/git/supplements/data\"\n",
    "CPP_DIRECTORY = \"/home/clusterduck123/Desktop/git/graco/graco/cpp\""
   ]
  },
  {
   "cell_type": "code",
   "execution_count": 3,
   "metadata": {},
   "outputs": [],
   "source": [
    "RAW_DATA_DIRECTORY = f\"{DATA_DIRECTORY}/raw_data\"\n",
    "PPI_DIRECTORY = f\"{DATA_DIRECTORY}/PPI\"\n",
    "ANNOTATIONS_DIRECTORY = f\"{DATA_DIRECTORY}/annotations\"\n",
    "MATRIX_DIRECTORY = f\"{DATA_DIRECTORY}/matrix\"\n",
    "CLUSTERS_DIRECTORY = f\"{DATA_DIRECTORY}/clusters\"\n",
    "\n",
    "if not os.path.exists(DATA_DIRECTORY):\n",
    "    os.makedirs(DATA_DIRECTORY)\n",
    "        \n",
    "if not os.path.exists(RAW_DATA_DIRECTORY):\n",
    "    os.makedirs(RAW_DATA_DIRECTORY)     \n",
    "    \n",
    "if not os.path.exists(PPI_DIRECTORY):\n",
    "    os.makedirs(PPI_DIRECTORY)\n",
    "    \n",
    "if not os.path.exists(ANNOTATIONS_DIRECTORY):\n",
    "    os.makedirs(ANNOTATIONS_DIRECTORY)\n",
    "    \n",
    "if not os.path.exists(MATRIX_DIRECTORY):\n",
    "    os.makedirs(MATRIX_DIRECTORY)\n",
    "    \n",
    "if not os.path.exists(CLUSTERS_DIRECTORY):\n",
    "    os.makedirs(CLUSTERS_DIRECTORY)\n",
    "    \n",
    "if not os.path.exists(f\"{CLUSTERS_DIRECTORY}/GDV\"):\n",
    "    os.makedirs(f\"{CLUSTERS_DIRECTORY}/GDV\")\n",
    "    \n",
    "if not os.path.exists(f\"{CLUSTERS_DIRECTORY}/GCV\"):\n",
    "    os.makedirs(f\"{CLUSTERS_DIRECTORY}/GCV\")"
   ]
  },
  {
   "cell_type": "markdown",
   "metadata": {},
   "source": [
    "# Distance matrices"
   ]
  },
  {
   "cell_type": "code",
   "execution_count": 4,
   "metadata": {},
   "outputs": [],
   "source": [
    "PPI_nx = nx.read_edgelist(f\"{PPI_DIRECTORY}/BioGRID_sc.txt\")\n",
    "GDV = graco.orbits(PPI_nx)\n",
    "GCV = graco.coefficients(GDV)"
   ]
  },
  {
   "cell_type": "markdown",
   "metadata": {},
   "source": [
    "## GDV-based"
   ]
  },
  {
   "cell_type": "markdown",
   "metadata": {},
   "source": [
    "### GDV similarity"
   ]
  },
  {
   "cell_type": "code",
   "execution_count": 22,
   "metadata": {},
   "outputs": [],
   "source": [
    "np.savetxt(f\"{CPP_DIRECTORY}/matrix.in\", GDV, \n",
    "           header=f\"{len(GDV)} 15\", fmt='%d')"
   ]
  },
  {
   "cell_type": "code",
   "execution_count": 23,
   "metadata": {},
   "outputs": [],
   "source": [
    "D = np.genfromtxt(f\"{CPP_DIRECTORY}/matrix.out\")\n",
    "np.savetxt(f\"{MATRIX_DIRECTORY}/sc_BioGRID_GDV_similarity.txt\", D, \n",
    "           fmt='%.7f', header=' '.join(PPI_nx), comments='')"
   ]
  },
  {
   "cell_type": "markdown",
   "metadata": {},
   "source": [
    "#### Rest"
   ]
  },
  {
   "cell_type": "code",
   "execution_count": 20,
   "metadata": {},
   "outputs": [],
   "source": [
    "all_distances = ['euclidean', 'cityblock', 'seuclidean', 'sqeuclidean', \n",
    "                 'cosine', 'correlation', 'chebyshev', 'canberra', \n",
    "                 'braycurtis', 'mahalanobis']"
   ]
  },
  {
   "cell_type": "code",
   "execution_count": 21,
   "metadata": {},
   "outputs": [],
   "source": [
    "for distance in all_distances:\n",
    "    D = cdist(GDV.values, GDV.values, distance)\n",
    "    np.savetxt(f\"{MATRIX_DIRECTORY}/sc_BioGRID_GDV_{distance}.txt\", D, \n",
    "               fmt='%.7f', header=' '.join(PPI_nx), comments='')"
   ]
  },
  {
   "cell_type": "markdown",
   "metadata": {},
   "source": [
    "## GCV-based"
   ]
  },
  {
   "cell_type": "code",
   "execution_count": 72,
   "metadata": {},
   "outputs": [],
   "source": [
    "PPI_nx = nx.read_edgelist(f\"{PPI_DIRECTORY}/BioGRID_sc.txt\")\n",
    "GCV = graco.coefficients(PPI_nx)"
   ]
  },
  {
   "cell_type": "markdown",
   "metadata": {},
   "source": [
    "### TVD - individual"
   ]
  },
  {
   "cell_type": "code",
   "execution_count": 8,
   "metadata": {},
   "outputs": [
    {
     "name": "stdout",
     "output_type": "stream",
     "text": [
      "0-0: 165.49sec\n",
      "-1-3: 161.96sec\n",
      "3-3: 162.53sec\n",
      "1-1: 162.82sec\n",
      "-1-2: 162.89sec\n",
      "-1-0: 161.32sec\n",
      "-1-1: 162.55sec\n",
      "1-2: 161.95sec\n",
      "2-1: 160.59sec\n"
     ]
    }
   ],
   "source": [
    "for order,source in set((order,source) for order,source,target in GCV.columns):\n",
    "    t1 = time.time()\n",
    "    D = cdist(np.array(GCV[order][source]), np.array(GCV[order][source]), graco.functions.tvd)\n",
    "    t2 = time.time()\n",
    "    print(f'{order}-{source}: {t2-t1:.2f}sec')  \n",
    "    np.savetxt(f\"{MATRIX_DIRECTORY}/sc_BioGRID_{order}GCV{source}_tvd.txt\", D, \n",
    "               fmt='%.7f', header=' '.join(PPI_nx), comments='')"
   ]
  },
  {
   "cell_type": "markdown",
   "metadata": {},
   "source": [
    "### TVD - combination"
   ]
  },
  {
   "cell_type": "code",
   "execution_count": 11,
   "metadata": {},
   "outputs": [],
   "source": [
    "D_list = []\n",
    "\n",
    "for order,source in set((order,source) for order,source,target in GCV.columns):\n",
    "    df = pd.read_csv(f\"{MATRIX_DIRECTORY}/sc_BioGRID_{order}GCV{source}_tvd.txt\", delimiter=' ')\n",
    "    D_list.append(np.array(df))\n",
    "\n",
    "D = np.nanmean(D_list, axis=0)\n",
    "np.savetxt(f\"{MATRIX_DIRECTORY}/sc_BioGRID_GCV_TVD.txt\", D, \n",
    "               fmt='%.7f', header=' '.join(PPI_nx), comments='')"
   ]
  },
  {
   "cell_type": "markdown",
   "metadata": {},
   "source": [
    "### Rest"
   ]
  },
  {
   "cell_type": "code",
   "execution_count": 7,
   "metadata": {},
   "outputs": [],
   "source": [
    "GCV = GCV.fillna(0)\n",
    "all_distances = ['euclidean', 'cityblock', 'seuclidean', 'sqeuclidean', \n",
    "                 'cosine', 'correlation', 'chebyshev', 'canberra', \n",
    "                 'braycurtis', 'mahalanobis']"
   ]
  },
  {
   "cell_type": "code",
   "execution_count": 16,
   "metadata": {},
   "outputs": [],
   "source": [
    "for distance in all_distances:\n",
    "    D = cdist(GCV.values, GCV.values, distance)\n",
    "    np.savetxt(f\"{MATRIX_DIRECTORY}/sc_BioGRID_GCV_{distance}.txt\", D, \n",
    "               fmt='%.7f', header=' '.join(PPI_nx), comments='')"
   ]
  },
  {
   "cell_type": "markdown",
   "metadata": {},
   "source": [
    "### Rest - individual"
   ]
  },
  {
   "cell_type": "code",
   "execution_count": 7,
   "metadata": {},
   "outputs": [],
   "source": [
    "all_distances = ['euclidean', 'cityblock', 'sqeuclidean', \n",
    "                 'cosine', 'correlation', 'chebyshev', 'canberra', \n",
    "                 'braycurtis']"
   ]
  },
  {
   "cell_type": "code",
   "execution_count": 8,
   "metadata": {
    "collapsed": true
   },
   "outputs": [
    {
     "name": "stdout",
     "output_type": "stream",
     "text": [
      "-1-3: 0.13sec\n",
      "0-0: 0.07sec\n",
      "1-1: 0.12sec\n",
      "3-3: 0.11sec\n",
      "-1-1: 0.12sec\n",
      "-1-0: 0.09sec\n",
      "1-2: 0.11sec\n",
      "2-1: 0.12sec\n",
      "-1-2: 0.13sec\n",
      "-1-3: 0.08sec\n",
      "0-0: 0.07sec\n",
      "1-1: 0.09sec\n",
      "3-3: 0.10sec\n",
      "-1-1: 0.10sec\n",
      "-1-0: 0.06sec\n",
      "1-2: 0.09sec\n",
      "2-1: 0.10sec\n",
      "-1-2: 0.09sec\n",
      "-1-3: 0.22sec\n",
      "0-0: 0.16sec\n",
      "1-1: 0.25sec\n",
      "3-3: 0.35sec\n",
      "-1-1: 0.23sec\n",
      "-1-0: 0.21sec\n",
      "1-2: 0.25sec\n",
      "2-1: 0.34sec\n",
      "-1-2: 0.21sec\n",
      "-1-3: 0.22sec\n",
      "0-0: 0.07sec\n",
      "1-1: 0.14sec\n",
      "3-3: 0.16sec\n",
      "-1-1: 0.18sec\n",
      "-1-0: 0.08sec\n",
      "1-2: 0.16sec\n",
      "2-1: 0.16sec\n",
      "-1-2: 0.15sec\n",
      "-1-3: 0.10sec\n",
      "0-0: 0.15sec\n",
      "1-1: 0.22sec\n",
      "3-3: 0.13sec\n",
      "-1-1: 0.19sec\n",
      "-1-0: 0.16sec\n",
      "1-2: 0.20sec\n",
      "2-1: 0.11sec\n",
      "-1-2: 0.18sec\n",
      "-1-3: 0.19sec\n",
      "0-0: 0.19sec\n",
      "1-1: 0.19sec\n",
      "3-3: 0.21sec\n",
      "-1-1: 0.11sec\n",
      "-1-0: 0.22sec\n",
      "1-2: 0.22sec\n",
      "2-1: 0.19sec\n",
      "-1-2: 0.20sec\n",
      "-1-3: 0.09sec\n",
      "0-0: 0.14sec\n",
      "1-1: 0.19sec\n",
      "3-3: 0.11sec\n",
      "-1-1: 0.22sec\n",
      "-1-0: 0.07sec\n",
      "1-2: 0.16sec\n",
      "2-1: 0.12sec\n",
      "-1-2: 0.08sec\n",
      "-1-3: 0.16sec\n",
      "0-0: 0.13sec\n",
      "1-1: 0.21sec\n",
      "3-3: 0.23sec\n",
      "-1-1: 0.30sec\n",
      "-1-0: 0.13sec\n",
      "1-2: 0.27sec\n",
      "2-1: 0.32sec\n",
      "-1-2: 0.18sec\n",
      "-1-3: 0.19sec\n",
      "0-0: 0.15sec\n",
      "1-1: 0.16sec\n",
      "3-3: 0.22sec\n",
      "-1-1: 0.22sec\n",
      "-1-0: 0.09sec\n",
      "1-2: 0.18sec\n",
      "2-1: 0.21sec\n",
      "-1-2: 0.21sec\n",
      "-1-3: 0.41sec\n",
      "0-0: 0.29sec\n",
      "1-1: 0.62sec\n",
      "3-3: 0.58sec\n",
      "-1-1: 0.61sec\n",
      "-1-0: 0.32sec\n",
      "1-2: 0.53sec\n",
      "2-1: 0.69sec\n",
      "-1-2: 0.36sec\n"
     ]
    }
   ],
   "source": [
    "for distance in all_distances:\n",
    "    for order,source in set((order,source) for order,source,target in GCV.columns):\n",
    "        D = cdist(np.array(GCV[order][source]), np.array(GCV[order][source]), distance)\n",
    "        print(f'{distance} {order: <2} {source}')  \n",
    "        np.savetxt(f\"{MATRIX_DIRECTORY}/sc_BioGRID_{order}GCV{source}_{distance}.txt\", D, \n",
    "                   fmt='%.7f', header=' '.join(PPI_nx), comments='')"
   ]
  },
  {
   "cell_type": "markdown",
   "metadata": {},
   "source": [
    "### Rest - combination"
   ]
  },
  {
   "cell_type": "code",
   "execution_count": 10,
   "metadata": {
    "collapsed": true
   },
   "outputs": [
    {
     "name": "stdout",
     "output_type": "stream",
     "text": [
      "euclidean\n",
      "cityblock\n",
      "seuclidean\n",
      "sqeuclidean\n",
      "cosine\n",
      "correlation\n",
      "chebyshev\n",
      "canberra\n",
      "braycurtis\n",
      "mahalanobis\n"
     ]
    }
   ],
   "source": [
    "for distance in all_distances:\n",
    "    D_list = []\n",
    "    for order,source in set((order,source) for order,source,target in GCV.columns):\n",
    "        df = pd.read_csv(f\"{MATRIX_DIRECTORY}/sc_BioGRID_{order}GCV{source}_{distance}.txt\", delimiter=' ')\n",
    "        D_list.append(np.array(df))\n",
    "\n",
    "    D = np.nanmean(D_list, axis=0)\n",
    "    print(distance)\n",
    "    np.savetxt(f\"{MATRIX_DIRECTORY}/sc_BioGRID_gGCV_{distance}.txt\", D, \n",
    "                   fmt='%.7f', header=' '.join(PPI_nx), comments='')"
   ]
  },
  {
   "cell_type": "markdown",
   "metadata": {},
   "source": [
    "### Normalized $L_p$"
   ]
  },
  {
   "cell_type": "code",
   "execution_count": 21,
   "metadata": {},
   "outputs": [],
   "source": [
    "def normalized_lp(P,Q,p=1):\n",
    "    v1 = np.divide(P, P+Q, out=np.zeros_like(P), where=(P+Q)!=0)\n",
    "    v2 = np.divide(Q, P+Q, out=np.zeros_like(Q), where=(P+Q)!=0)\n",
    "    return np.linalg.norm(v1-v2,p)\n",
    "\n",
    "def normalized_l1(P,Q):\n",
    "    return normalized_lp(P,Q,1)\n",
    "\n",
    "def normalized_l2(P,Q):\n",
    "    return normalized_lp(P,Q,2)\n",
    "\n",
    "def normalized_linf(P,Q):\n",
    "    return normalized_lp(P,Q,np.inf)"
   ]
  },
  {
   "cell_type": "code",
   "execution_count": 67,
   "metadata": {},
   "outputs": [],
   "source": [
    "p = 2"
   ]
  },
  {
   "cell_type": "code",
   "execution_count": 68,
   "metadata": {},
   "outputs": [
    {
     "name": "stdout",
     "output_type": "stream",
     "text": [
      "1.0\n"
     ]
    }
   ],
   "source": [
    "list_ = []\n",
    "for a,b in product(np.linspace(0,1,10), repeat=2):\n",
    "    v1 = np.array([a,1-b])\n",
    "    v2 = np.array([b,1-b])\n",
    "    \n",
    "    v1 = np.where(v1<0,0,v1)\n",
    "    v2 = np.where(v2<0,0,v2)\n",
    "    \n",
    "    list_.append(normalized_lp(v1,v2,p))\n",
    "print(max(list_))"
   ]
  },
  {
   "cell_type": "code",
   "execution_count": 69,
   "metadata": {},
   "outputs": [
    {
     "name": "stdout",
     "output_type": "stream",
     "text": [
      "1.7320508075688772\n"
     ]
    }
   ],
   "source": [
    "list_ = []\n",
    "for a,b,c,d in product(np.linspace(0,1,10), repeat=4):\n",
    "    if (a+b>1) or (c+d)>1:\n",
    "        continue\n",
    "    else:\n",
    "        v1 = np.array([a,b,1-a-b])\n",
    "        v2 = np.array([c,d,1-c-d])\n",
    "        \n",
    "        v1 = np.where(v1<0,0,v1)\n",
    "        v2 = np.where(v2<0,0,v2)\n",
    "        \n",
    "        list_.append(normalized_lp(v1,v2,p))\n",
    "print(max(list_))"
   ]
  },
  {
   "cell_type": "code",
   "execution_count": 70,
   "metadata": {},
   "outputs": [
    {
     "name": "stdout",
     "output_type": "stream",
     "text": [
      "2.0\n"
     ]
    }
   ],
   "source": [
    "list_ = []\n",
    "for a,b,c,d,e,f in product(np.linspace(0,1,10), repeat=6):\n",
    "    if (a+b+c>1) or (d+e+f)>1:\n",
    "        continue\n",
    "    else:\n",
    "        v1 = np.array([a,b,c,1-a-b-c])\n",
    "        v2 = np.array([d,e,f,1-d-e-f])\n",
    "        \n",
    "        v1 = np.where(v1<0,0,v1)\n",
    "        v2 = np.where(v2<0,0,v2)\n",
    "        \n",
    "        list_.append(normalized_lp(v1,v2,p))\n",
    "print(max(list_))"
   ]
  },
  {
   "cell_type": "markdown",
   "metadata": {},
   "source": [
    "#### Normalizes $L_p$ - individual"
   ]
  },
  {
   "cell_type": "code",
   "execution_count": 11,
   "metadata": {},
   "outputs": [
    {
     "name": "stdout",
     "output_type": "stream",
     "text": [
      "3  3\n",
      "1  2\n",
      "-1 0\n",
      "-1 1\n",
      "-1 2\n",
      "1  1\n",
      "0  0\n",
      "2  1\n",
      "-1 3\n"
     ]
    }
   ],
   "source": [
    "# p=1\n",
    "for order,source in set((order,source) for order,source,target in GCV.columns):\n",
    "    D = cdist(np.array(GCV[order][source]), np.array(GCV[order][source]), normalized_l1) / GCV[order][source].shape[1]\n",
    "    print(f'{order: <2} {source}')  \n",
    "    np.savetxt(f\"{MATRIX_DIRECTORY}/sc_BioGRID_{order}GCV{source}_normalizedl1.txt\", D, \n",
    "               fmt='%.7f', header=' '.join(PPI_nx), comments='')"
   ]
  },
  {
   "cell_type": "code",
   "execution_count": 12,
   "metadata": {},
   "outputs": [
    {
     "name": "stdout",
     "output_type": "stream",
     "text": [
      "0.9127796\n",
      "0.8750902\n",
      "1.0\n",
      "1.0\n",
      "1.0\n",
      "0.9175424999999999\n",
      "0.8398652\n",
      "0.9237966000000001\n",
      "1.0\n",
      "0.8864963166666667\n",
      "\n"
     ]
    }
   ],
   "source": [
    "# p=1\n",
    "D_list = []\n",
    "for order,source in set((order,source) for order,source,target in GCV.columns):\n",
    "    df = pd.read_csv(f\"{MATRIX_DIRECTORY}/sc_BioGRID_{order}GCV{source}_normalizedl1.txt\", delimiter=' ')\n",
    "    D_list.append(np.array(df))\n",
    "    print(np.nanmax(np.array(df)))\n",
    "\n",
    "D = np.nanmean(D_list, axis=0)\n",
    "print(np.max(D))\n",
    "print()\n",
    "np.savetxt(f\"{MATRIX_DIRECTORY}/sc_BioGRID_gGCV_normalizedl1.txt\", D, \n",
    "               fmt='%.7f', header=' '.join(PPI_nx), comments='')"
   ]
  },
  {
   "cell_type": "code",
   "execution_count": 74,
   "metadata": {},
   "outputs": [
    {
     "name": "stdout",
     "output_type": "stream",
     "text": [
      "3  3\n",
      "2  1\n",
      "-1 2\n",
      "1  1\n",
      "0  0\n",
      "-1 1\n",
      "1  2\n",
      "-1 0\n",
      "-1 3\n"
     ]
    }
   ],
   "source": [
    "# p=2\n",
    "for order,source in set((order,source) for order,source,target in GCV.columns):\n",
    "    D = cdist(np.array(GCV[order][source]), np.array(GCV[order][source]), normalized_l2) / np.sqrt(GCV[order][source].shape[1])\n",
    "    print(f'{order: <2} {source}')  \n",
    "    np.savetxt(f\"{MATRIX_DIRECTORY}/sc_BioGRID_{order}GCV{source}_normalizedl2.txt\", D, \n",
    "               fmt='%.7f', header=' '.join(PPI_nx), comments='')"
   ]
  },
  {
   "cell_type": "code",
   "execution_count": 75,
   "metadata": {},
   "outputs": [
    {
     "name": "stdout",
     "output_type": "stream",
     "text": [
      "0.9251966\n",
      "0.9331779\n",
      "1.0\n",
      "0.9278732\n",
      "0.8549950999999999\n",
      "1.0\n",
      "0.8948482\n",
      "1.0\n",
      "1.0\n",
      "0.9001188599999999\n",
      "\n"
     ]
    }
   ],
   "source": [
    "# p=2\n",
    "D_list = []\n",
    "for order,source in set((order,source) for order,source,target in GCV.columns):\n",
    "    df = pd.read_csv(f\"{MATRIX_DIRECTORY}/sc_BioGRID_{order}GCV{source}_normalizedl2.txt\", delimiter=' ')\n",
    "    D_list.append(np.array(df))\n",
    "    print(np.nanmax(np.array(df)))\n",
    "\n",
    "D = np.nanmean(D_list, axis=0)\n",
    "print(np.max(D))\n",
    "print()\n",
    "np.savetxt(f\"{MATRIX_DIRECTORY}/sc_BioGRID_gGCV_normalizedl2.txt\", D, \n",
    "               fmt='%.7f', header=' '.join(PPI_nx), comments='')"
   ]
  },
  {
   "cell_type": "code",
   "execution_count": 86,
   "metadata": {},
   "outputs": [
    {
     "name": "stdout",
     "output_type": "stream",
     "text": [
      "3  3\n",
      "2  1\n",
      "-1 2\n",
      "1  1\n",
      "0  0\n",
      "-1 1\n",
      "1  2\n",
      "-1 0\n",
      "-1 3\n"
     ]
    }
   ],
   "source": [
    "# p=inf\n",
    "for order,source in set((order,source) for order,source,target in GCV.columns):\n",
    "    D = cdist(np.array(GCV[order][source]), np.array(GCV[order][source]), normalized_linf)\n",
    "    print(f'{order: <2} {source}')  \n",
    "    np.savetxt(f\"{MATRIX_DIRECTORY}/sc_BioGRID_{order}GCV{source}_normalizedlinf.txt\", D, \n",
    "               fmt='%.7f', header=' '.join(PPI_nx), comments='')"
   ]
  },
  {
   "cell_type": "code",
   "execution_count": 87,
   "metadata": {},
   "outputs": [
    {
     "name": "stdout",
     "output_type": "stream",
     "text": [
      "1.0\n",
      "1.0\n",
      "1.0\n",
      "1.0\n",
      "1.0\n",
      "1.0\n",
      "1.0\n",
      "1.0\n",
      "1.0\n",
      "1.0\n",
      "\n"
     ]
    }
   ],
   "source": [
    "# p=inf\n",
    "D_list = []\n",
    "for order,source in set((order,source) for order,source,target in GCV.columns):\n",
    "    df = pd.read_csv(f\"{MATRIX_DIRECTORY}/sc_BioGRID_{order}GCV{source}_normalizedlinf.txt\", delimiter=' ')\n",
    "    D_list.append(np.array(df))\n",
    "    print(np.nanmax(np.array(df)))\n",
    "\n",
    "D = np.nanmean(D_list, axis=0)\n",
    "print(np.max(D))\n",
    "print()\n",
    "np.savetxt(f\"{MATRIX_DIRECTORY}/sc_BioGRID_gGCV_normalizedlinf.txt\", D, \n",
    "               fmt='%.7f', header=' '.join(PPI_nx), comments='')"
   ]
  },
  {
   "cell_type": "markdown",
   "metadata": {},
   "source": [
    "# Clustering"
   ]
  },
  {
   "cell_type": "code",
   "execution_count": 4,
   "metadata": {},
   "outputs": [],
   "source": [
    "def get_number_of_max_runs(GV, distance, n_clusters = 100):\n",
    "    runs = max(int(run) for run,species,db,ncluster_txt in \n",
    "             map(partial(str.split, sep='_'), os.listdir(f\"{CLUSTERS_DIRECTORY}/{GV}/{distance}\"))\n",
    "                if int(ncluster_txt.split('.')[0]) == n_clusters)\n",
    "    return runs"
   ]
  },
  {
   "cell_type": "markdown",
   "metadata": {},
   "source": [
    "## GDV"
   ]
  },
  {
   "cell_type": "code",
   "execution_count": 6,
   "metadata": {},
   "outputs": [],
   "source": [
    "MIN_CLUSTERS = 2\n",
    "MAX_CLUSTERS = 100\n",
    "\n",
    "all_distances = ['mahalanobis',]"
   ]
  },
  {
   "cell_type": "code",
   "execution_count": 7,
   "metadata": {
    "collapsed": true
   },
   "outputs": [
    {
     "name": "stdout",
     "output_type": "stream",
     "text": [
      "mahalanobis\n",
      "99: 507.44sec\n",
      "similarity\n",
      "99: 501.11sec\n",
      "mahalanobis\n",
      "99: 497.43sec\n",
      "similarity\n",
      "99: 499.39sec\n",
      "mahalanobis\n",
      "99: 497.79sec\n",
      "similarity\n",
      "99: 499.23sec\n",
      "mahalanobis\n",
      "99: 498.46sec\n",
      "similarity\n",
      "99: 500.07sec\n",
      "mahalanobis\n",
      "99: 498.37sec\n",
      "similarity\n",
      "99: 500.44sec\n",
      "mahalanobis\n",
      "99: 500.16sec\n",
      "similarity\n",
      "99: 500.32sec\n",
      "mahalanobis\n",
      "99: 497.62sec\n",
      "similarity\n",
      "99: 499.23sec\n",
      "mahalanobis\n",
      "99: 498.95sec\n",
      "similarity\n",
      "99: 499.71sec\n",
      "mahalanobis\n",
      "99: 497.96sec\n",
      "similarity\n",
      "99: 499.15sec\n",
      "mahalanobis\n",
      "99: 498.80sec\n",
      "similarity\n",
      "99: 500.92sec\n",
      "mahalanobis\n",
      "99: 498.55sec\n",
      "similarity\n",
      "99: 500.23sec\n",
      "mahalanobis\n",
      "99: 499.02sec\n",
      "similarity\n",
      "99: 500.84sec\n",
      "mahalanobis\n",
      "99: 498.60sec\n",
      "similarity\n",
      "99: 499.89sec\n",
      "mahalanobis\n",
      "99: 498.61sec\n",
      "similarity\n",
      "99: 500.33sec\n",
      "mahalanobis\n",
      "99: 499.67sec\n",
      "similarity\n",
      "99: 500.79sec\n",
      "mahalanobis\n",
      "99: 499.14sec\n",
      "similarity\n",
      "99: 500.67sec\n",
      "mahalanobis\n",
      "99: 499.16sec\n",
      "similarity\n",
      "99: 500.90sec\n",
      "mahalanobis\n",
      "99: 499.08sec\n",
      "similarity\n",
      "99: 501.52sec\n",
      "mahalanobis\n",
      "99: 499.56sec\n",
      "similarity\n",
      "99: 500.99sec\n",
      "mahalanobis\n",
      "99: 498.98sec\n",
      "similarity\n",
      "99: 501.10sec\n",
      "mahalanobis\n",
      "99: 498.51sec\n",
      "similarity\n",
      "99: 499.57sec\n",
      "mahalanobis\n",
      "99: 500.21sec\n",
      "similarity\n",
      "99: 500.83sec\n",
      "mahalanobis\n",
      "99: 500.78sec\n",
      "similarity\n",
      "99: 501.40sec\n",
      "mahalanobis\n",
      "99: 498.50sec\n",
      "similarity\n",
      "99: 501.44sec\n",
      "mahalanobis\n",
      "99: 500.66sec\n",
      "similarity\n",
      "99: 502.40sec\n",
      "mahalanobis\n",
      "99: 501.25sec\n",
      "similarity\n",
      "99: 502.32sec\n",
      "mahalanobis\n",
      "99: 499.02sec\n",
      "similarity\n",
      "99: 501.11sec\n",
      "mahalanobis\n",
      "99: 498.64sec\n",
      "similarity\n",
      "99: 500.32sec\n",
      "mahalanobis\n",
      "99: 499.04sec\n",
      "similarity\n",
      "99: 500.05sec\n",
      "mahalanobis\n",
      "99: 498.24sec\n",
      "similarity\n",
      "99: 500.74sec\n",
      "mahalanobis\n",
      "99: 499.34sec\n",
      "similarity\n",
      "99: 501.34sec\n",
      "mahalanobis\n",
      "99: 499.35sec\n",
      "similarity\n",
      "99: 501.54sec\n",
      "mahalanobis\n",
      "99: 498.49sec\n",
      "similarity\n",
      "99: 501.25sec\n",
      "mahalanobis\n",
      "99: 498.56sec\n",
      "similarity\n",
      "99: 500.56sec\n",
      "mahalanobis\n",
      "99: 499.06sec\n",
      "similarity\n",
      "99: 500.48sec\n",
      "mahalanobis\n",
      "99: 498.58sec\n",
      "similarity\n",
      "99: 501.06sec\n",
      "mahalanobis\n",
      "99: 499.09sec\n",
      "similarity\n",
      "99: 499.95sec\n",
      "mahalanobis\n",
      "99: 499.68sec\n",
      "similarity\n",
      "99: 500.41sec\n",
      "mahalanobis\n",
      "99: 498.53sec\n",
      "similarity\n",
      "99: 501.53sec\n",
      "mahalanobis\n",
      "99: 498.68sec\n",
      "similarity\n",
      "99: 499.59sec\n",
      "mahalanobis\n",
      "99: 498.63sec\n",
      "similarity\n",
      "99: 500.61sec\n",
      "mahalanobis\n",
      "99: 499.15sec\n",
      "similarity\n",
      "99: 500.56sec\n",
      "mahalanobis\n",
      "99: 498.85sec\n",
      "similarity\n",
      "99: 500.21sec\n",
      "mahalanobis\n",
      "99: 500.22sec\n",
      "similarity\n",
      "99: 501.81sec\n",
      "mahalanobis\n",
      "99: 497.70sec\n",
      "similarity\n",
      "99: 503.15sec\n",
      "mahalanobis\n",
      "99: 498.42sec\n",
      "similarity\n",
      "99: 500.10sec\n",
      "mahalanobis\n",
      "99: 499.58sec\n",
      "similarity\n",
      "99: 500.77sec\n",
      "mahalanobis\n",
      "99: 499.16sec\n",
      "similarity\n",
      "99: 499.82sec\n",
      "mahalanobis\n",
      "99: 499.00sec\n",
      "similarity\n",
      "99: 499.16sec\n",
      "mahalanobis\n",
      "99: 498.56sec\n",
      "similarity\n",
      "99: 500.12sec\n"
     ]
    }
   ],
   "source": [
    "# Automated\n",
    "for run in range(50):\n",
    "    for distance in all_distances:\n",
    "        print(distance)\n",
    "\n",
    "        if not os.path.exists(f\"{CLUSTERS_DIRECTORY}/GDV/{distance}\"):\n",
    "            os.makedirs(f\"{CLUSTERS_DIRECTORY}/GDV/{distance}\")\n",
    "\n",
    "        MATRIX_NAME = f\"sc_BioGRID_GDV_{distance}\"\n",
    "        with open(f\"{MATRIX_DIRECTORY}/{MATRIX_NAME}.txt\", 'r') as f:\n",
    "            line = f.readline()\n",
    "        D = np.genfromtxt(f\"{MATRIX_DIRECTORY}/{MATRIX_NAME}.txt\", skip_header=1)\n",
    "\n",
    "        int2gene = dict(enumerate(line.split()))\n",
    "\n",
    "        t1 = time.time()\n",
    "        for n_clusters in range(MIN_CLUSTERS, MAX_CLUSTERS):\n",
    "            initial_medoids = sample(range(len(D)), n_clusters)\n",
    "            kmedoids_instance = kmedoids(D, initial_medoids, data_type='distance_matrix')\n",
    "            kmedoids_instance.process()\n",
    "            \n",
    "            nr = get_number_of_max_runs('GDV', distance, n_clusters)\n",
    "\n",
    "            with open(f\"{CLUSTERS_DIRECTORY}/GDV/{distance}/{nr+1}_sc_BioGRID_{n_clusters}.txt\", 'w') as f:\n",
    "                for cluster in kmedoids_instance.get_clusters():\n",
    "                    f.write(' '.join(map(int2gene.get,cluster)) + '\\n')\n",
    "            t2 = time.time()\n",
    "            print(f'{n_clusters}: {t2-t1:.2f}sec', end='\\r')\n",
    "        print()"
   ]
  },
  {
   "cell_type": "markdown",
   "metadata": {},
   "source": [
    "## GCV"
   ]
  },
  {
   "cell_type": "code",
   "execution_count": 8,
   "metadata": {},
   "outputs": [],
   "source": [
    "MIN_CLUSTERS = 2\n",
    "MAX_CLUSTERS = 100\n",
    "\n",
    "all_distances = ['canberra']"
   ]
  },
  {
   "cell_type": "code",
   "execution_count": 9,
   "metadata": {},
   "outputs": [
    {
     "name": "stdout",
     "output_type": "stream",
     "text": [
      "canberra\n",
      "99: 506.22sec\n",
      "canberra\n",
      "99: 502.30sec\n",
      "canberra\n",
      "99: 504.05sec\n",
      "canberra\n",
      "99: 504.12sec\n",
      "canberra\n",
      "99: 503.22sec\n",
      "canberra\n",
      "99: 503.12sec\n",
      "canberra\n",
      "99: 502.59sec\n",
      "canberra\n",
      "99: 504.24sec\n",
      "canberra\n",
      "99: 501.88sec\n",
      "canberra\n",
      "99: 505.19sec\n",
      "canberra\n",
      "99: 503.14sec\n",
      "canberra\n",
      "99: 502.82sec\n",
      "canberra\n",
      "99: 493.82sec\n",
      "canberra\n",
      "99: 480.41sec\n",
      "canberra\n",
      "99: 480.19sec\n",
      "canberra\n",
      "99: 480.54sec\n",
      "canberra\n",
      "99: 480.99sec\n",
      "canberra\n",
      "99: 479.29sec\n",
      "canberra\n",
      "99: 479.52sec\n",
      "canberra\n",
      "99: 480.65sec\n",
      "canberra\n",
      "99: 480.17sec\n",
      "canberra\n",
      "99: 480.52sec\n",
      "canberra\n",
      "99: 479.34sec\n",
      "canberra\n",
      "99: 480.12sec\n",
      "canberra\n",
      "99: 479.85sec\n",
      "canberra\n",
      "99: 480.50sec\n",
      "canberra\n",
      "99: 481.70sec\n",
      "canberra\n",
      "99: 479.65sec\n",
      "canberra\n",
      "99: 480.18sec\n",
      "canberra\n",
      "99: 480.28sec\n",
      "canberra\n",
      "99: 480.39sec\n",
      "canberra\n",
      "99: 479.70sec\n",
      "canberra\n",
      "99: 479.83sec\n",
      "canberra\n",
      "99: 480.54sec\n",
      "canberra\n",
      "99: 480.62sec\n",
      "canberra\n",
      "99: 480.74sec\n",
      "canberra\n",
      "99: 480.56sec\n",
      "canberra\n",
      "99: 480.24sec\n",
      "canberra\n",
      "99: 480.46sec\n",
      "canberra\n",
      "99: 480.15sec\n",
      "canberra\n",
      "99: 479.94sec\n",
      "canberra\n",
      "99: 480.19sec\n",
      "canberra\n",
      "99: 480.32sec\n",
      "canberra\n",
      "99: 480.42sec\n",
      "canberra\n",
      "99: 480.32sec\n",
      "canberra\n",
      "99: 481.37sec\n",
      "canberra\n",
      "99: 480.49sec\n",
      "canberra\n",
      "99: 479.17sec\n",
      "canberra\n",
      "99: 480.45sec\n",
      "canberra\n",
      "99: 480.08sec\n"
     ]
    }
   ],
   "source": [
    "# Automated\n",
    "for run in range(50):\n",
    "    for distance in all_distances:\n",
    "        print(distance)\n",
    "\n",
    "        if not os.path.exists(f\"{CLUSTERS_DIRECTORY}/GCV/{distance}\"):\n",
    "            os.makedirs(f\"{CLUSTERS_DIRECTORY}/GCV/{distance}\")\n",
    "\n",
    "        MATRIX_NAME = f\"sc_BioGRID_GCV_{distance}\"\n",
    "        with open(f\"{MATRIX_DIRECTORY}/{MATRIX_NAME}.txt\", 'r') as f:\n",
    "            line = f.readline()\n",
    "        D = np.genfromtxt(f\"{MATRIX_DIRECTORY}/{MATRIX_NAME}.txt\", skip_header=1)\n",
    "\n",
    "        int2gene = dict(enumerate(line.split()))\n",
    "        \n",
    "        t1 = time.time()\n",
    "        for n_clusters in range(2, 100):\n",
    "            nr = get_number_of_max_runs('GCV', distance, n_clusters)\n",
    "        \n",
    "            initial_medoids = sample(range(len(D)), n_clusters)\n",
    "            kmedoids_instance = kmedoids(D, initial_medoids, data_type='distance_matrix')\n",
    "            kmedoids_instance.process()\n",
    "\n",
    "            with open(f\"{CLUSTERS_DIRECTORY}/GCV/{distance}/{nr+1}_sc_BioGRID_{n_clusters}.txt\", 'w') as f:\n",
    "                for cluster in kmedoids_instance.get_clusters():\n",
    "                    f.write(' '.join(map(int2gene.get,cluster)) + '\\n')\n",
    "            t2 = time.time()\n",
    "            print(f'{n_clusters}: {t2-t1:.2f}sec', end='\\r')\n",
    "        print()"
   ]
  },
  {
   "cell_type": "markdown",
   "metadata": {},
   "source": [
    "### gGCV"
   ]
  },
  {
   "cell_type": "code",
   "execution_count": 6,
   "metadata": {},
   "outputs": [],
   "source": [
    "MIN_CLUSTERS = 2\n",
    "MAX_CLUSTERS = 100\n",
    "\n",
    "all_distances = ['normalizedlinf']"
   ]
  },
  {
   "cell_type": "code",
   "execution_count": 8,
   "metadata": {
    "scrolled": true
   },
   "outputs": [
    {
     "name": "stdout",
     "output_type": "stream",
     "text": [
      "normalizedlinf\n",
      "99: 569.67sec\n",
      "normalizedlinf\n",
      "99: 555.84sec\n",
      "normalizedlinf\n",
      "99: 554.14sec\n",
      "normalizedlinf\n",
      "99: 555.52sec\n",
      "normalizedlinf\n",
      "99: 554.21sec\n",
      "normalizedlinf\n",
      "99: 555.25sec\n",
      "normalizedlinf\n",
      "99: 554.59sec\n",
      "normalizedlinf\n",
      "99: 554.19sec\n",
      "normalizedlinf\n",
      "99: 554.66sec\n",
      "normalizedlinf\n",
      "99: 555.05sec\n",
      "normalizedlinf\n",
      "99: 554.81sec\n",
      "normalizedlinf\n",
      "99: 554.58sec\n",
      "normalizedlinf\n",
      "99: 554.33sec\n",
      "normalizedlinf\n",
      "99: 554.85sec\n",
      "normalizedlinf\n",
      "99: 555.31sec\n",
      "normalizedlinf\n",
      "99: 554.66sec\n",
      "normalizedlinf\n",
      "99: 554.98sec\n",
      "normalizedlinf\n",
      "99: 554.77sec\n",
      "normalizedlinf\n",
      "99: 555.27sec\n",
      "normalizedlinf\n",
      "99: 555.33sec\n",
      "normalizedlinf\n",
      "99: 554.48sec\n",
      "normalizedlinf\n",
      "99: 555.08sec\n",
      "normalizedlinf\n",
      "99: 555.41sec\n",
      "normalizedlinf\n",
      "99: 554.54sec\n",
      "normalizedlinf\n",
      "99: 554.56sec\n",
      "normalizedlinf\n",
      "99: 556.31sec\n",
      "normalizedlinf\n",
      "99: 554.94sec\n",
      "normalizedlinf\n",
      "99: 555.55sec\n",
      "normalizedlinf\n",
      "99: 554.78sec\n",
      "normalizedlinf\n",
      "99: 555.50sec\n",
      "normalizedlinf\n",
      "99: 555.09sec\n",
      "normalizedlinf\n",
      "99: 554.69sec\n",
      "normalizedlinf\n",
      "99: 554.88sec\n",
      "normalizedlinf\n",
      "99: 555.27sec\n",
      "normalizedlinf\n",
      "99: 555.07sec\n",
      "normalizedlinf\n",
      "99: 555.76sec\n",
      "normalizedlinf\n",
      "99: 540.33sec\n",
      "normalizedlinf\n",
      "99: 529.24sec\n",
      "normalizedlinf\n",
      "99: 524.44sec\n",
      "normalizedlinf\n",
      "99: 523.82sec\n",
      "normalizedlinf\n",
      "99: 524.23sec\n",
      "normalizedlinf\n",
      "99: 523.94sec\n",
      "normalizedlinf\n",
      "99: 525.23sec\n",
      "normalizedlinf\n",
      "99: 524.44sec\n",
      "normalizedlinf\n",
      "99: 524.37sec\n",
      "normalizedlinf\n",
      "99: 524.98sec\n",
      "normalizedlinf\n",
      "99: 524.53sec\n",
      "normalizedlinf\n",
      "99: 524.52sec\n",
      "normalizedlinf\n",
      "99: 524.31sec\n"
     ]
    }
   ],
   "source": [
    "# Automated\n",
    "for run in range(49):\n",
    "    for distance in all_distances:\n",
    "        print(distance)\n",
    "\n",
    "        if not os.path.exists(f\"{CLUSTERS_DIRECTORY}/gGCV/{distance}\"):\n",
    "            os.makedirs(f\"{CLUSTERS_DIRECTORY}/gGCV/{distance}\")\n",
    "\n",
    "        MATRIX_NAME = f\"sc_BioGRID_gGCV_{distance}\"\n",
    "        with open(f\"{MATRIX_DIRECTORY}/{MATRIX_NAME}.txt\", 'r') as f:\n",
    "            line = f.readline()\n",
    "        D = np.loadtxt(f\"{MATRIX_DIRECTORY}/{MATRIX_NAME}.txt\", skiprows=1)\n",
    "\n",
    "        int2gene = dict(enumerate(line.split()))\n",
    "        \n",
    "        t1 = time.time()\n",
    "        for n_clusters in range(2, 100):\n",
    "            nr = get_number_of_max_runs('gGCV', distance, MAX_CLUSTERS-1) # CAREFULL !!!!!\n",
    "            initial_medoids = sample(range(len(D)), n_clusters)\n",
    "            kmedoids_instance = kmedoids(D, initial_medoids, data_type='distance_matrix')\n",
    "            kmedoids_instance.process()\n",
    "\n",
    "            with open(f\"{CLUSTERS_DIRECTORY}/gGCV/{distance}/{nr+1}_sc_BioGRID_{n_clusters}.txt\", 'w') as f:\n",
    "                for cluster in kmedoids_instance.get_clusters():\n",
    "                    f.write(' '.join(map(int2gene.get,cluster)) + '\\n')\n",
    "            t2 = time.time()\n",
    "            print(f'{n_clusters}: {t2-t1:.2f}sec', end='\\r')\n",
    "        print()"
   ]
  }
 ],
 "metadata": {
  "kernelspec": {
   "display_name": "graco",
   "language": "python",
   "name": "graco"
  },
  "language_info": {
   "codemirror_mode": {
    "name": "ipython",
    "version": 3
   },
   "file_extension": ".py",
   "mimetype": "text/x-python",
   "name": "python",
   "nbconvert_exporter": "python",
   "pygments_lexer": "ipython3",
   "version": "3.6.8"
  }
 },
 "nbformat": 4,
 "nbformat_minor": 2
}
