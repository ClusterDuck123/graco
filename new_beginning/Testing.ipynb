{
 "cells": [
  {
   "cell_type": "code",
   "execution_count": 23,
   "metadata": {},
   "outputs": [],
   "source": [
    "from scipy.spatial.distance import squareform, cdist\n",
    "from scipy.spatial.distance import pdist\n",
    "from itertools import combinations\n",
    "from functools import partial\n",
    "\n",
    "import networkx as nx\n",
    "import pandas as pd\n",
    "import numpy as np\n",
    "import random\n",
    "import graco\n",
    "import os"
   ]
  },
  {
   "cell_type": "code",
   "execution_count": 14,
   "metadata": {},
   "outputs": [],
   "source": [
    "? cdist"
   ]
  },
  {
   "cell_type": "code",
   "execution_count": 13,
   "metadata": {},
   "outputs": [
    {
     "ename": "ValueError",
     "evalue": "XA must be a 2-dimensional array.",
     "output_type": "error",
     "traceback": [
      "\u001b[0;31m---------------------------------------------------------------------------\u001b[0m",
      "\u001b[0;31mValueError\u001b[0m                                Traceback (most recent call last)",
      "\u001b[0;32m<ipython-input-13-ca7df7815c68>\u001b[0m in \u001b[0;36m<module>\u001b[0;34m\u001b[0m\n\u001b[0;32m----> 1\u001b[0;31m \u001b[0mcdist\u001b[0m\u001b[0;34m(\u001b[0m\u001b[0mu\u001b[0m\u001b[0;34m,\u001b[0m\u001b[0mv\u001b[0m\u001b[0;34m)\u001b[0m\u001b[0;34m\u001b[0m\u001b[0;34m\u001b[0m\u001b[0m\n\u001b[0m",
      "\u001b[0;32m~/Desktop/git/supplements/venv/graco/lib/python3.6/site-packages/scipy/spatial/distance.py\u001b[0m in \u001b[0;36mcdist\u001b[0;34m(XA, XB, metric, *args, **kwargs)\u001b[0m\n\u001b[1;32m   2715\u001b[0m \u001b[0;34m\u001b[0m\u001b[0m\n\u001b[1;32m   2716\u001b[0m     \u001b[0;32mif\u001b[0m \u001b[0mlen\u001b[0m\u001b[0;34m(\u001b[0m\u001b[0ms\u001b[0m\u001b[0;34m)\u001b[0m \u001b[0;34m!=\u001b[0m \u001b[0;36m2\u001b[0m\u001b[0;34m:\u001b[0m\u001b[0;34m\u001b[0m\u001b[0;34m\u001b[0m\u001b[0m\n\u001b[0;32m-> 2717\u001b[0;31m         \u001b[0;32mraise\u001b[0m \u001b[0mValueError\u001b[0m\u001b[0;34m(\u001b[0m\u001b[0;34m'XA must be a 2-dimensional array.'\u001b[0m\u001b[0;34m)\u001b[0m\u001b[0;34m\u001b[0m\u001b[0;34m\u001b[0m\u001b[0m\n\u001b[0m\u001b[1;32m   2718\u001b[0m     \u001b[0;32mif\u001b[0m \u001b[0mlen\u001b[0m\u001b[0;34m(\u001b[0m\u001b[0msB\u001b[0m\u001b[0;34m)\u001b[0m \u001b[0;34m!=\u001b[0m \u001b[0;36m2\u001b[0m\u001b[0;34m:\u001b[0m\u001b[0;34m\u001b[0m\u001b[0;34m\u001b[0m\u001b[0m\n\u001b[1;32m   2719\u001b[0m         \u001b[0;32mraise\u001b[0m \u001b[0mValueError\u001b[0m\u001b[0;34m(\u001b[0m\u001b[0;34m'XB must be a 2-dimensional array.'\u001b[0m\u001b[0;34m)\u001b[0m\u001b[0;34m\u001b[0m\u001b[0;34m\u001b[0m\u001b[0m\n",
      "\u001b[0;31mValueError\u001b[0m: XA must be a 2-dimensional array."
     ]
    }
   ],
   "source": [
    "cdist(u,v)"
   ]
  },
  {
   "cell_type": "code",
   "execution_count": 136,
   "metadata": {},
   "outputs": [],
   "source": [
    "GDV = np.random.randint(100, size=[2**12,15])"
   ]
  },
  {
   "cell_type": "code",
   "execution_count": 167,
   "metadata": {},
   "outputs": [],
   "source": [
    "distance, = random.sample(['euclidean', 'cityblock', 'seuclidean', 'sqeuclidean', \n",
    "                 'cosine', 'correlation', 'chebyshev', 'canberra', \n",
    "                 'braycurtis', 'mahalanobis'], 1)"
   ]
  },
  {
   "cell_type": "code",
   "execution_count": 168,
   "metadata": {},
   "outputs": [
    {
     "data": {
      "text/plain": [
       "'braycurtis'"
      ]
     },
     "execution_count": 168,
     "metadata": {},
     "output_type": "execute_result"
    }
   ],
   "source": [
    "distance"
   ]
  },
  {
   "cell_type": "code",
   "execution_count": 169,
   "metadata": {},
   "outputs": [],
   "source": [
    "D1 = cdist(GDV.astype(float),GDV.astype(float), distance)"
   ]
  },
  {
   "cell_type": "code",
   "execution_count": 170,
   "metadata": {},
   "outputs": [],
   "source": [
    "D2 = squareform(pdist(GDV, distance))"
   ]
  },
  {
   "cell_type": "code",
   "execution_count": 176,
   "metadata": {},
   "outputs": [
    {
     "data": {
      "text/plain": [
       "0.3383647798742138"
      ]
     },
     "execution_count": 176,
     "metadata": {},
     "output_type": "execute_result"
    }
   ],
   "source": [
    "float(pdist([u,v], distance))"
   ]
  },
  {
   "cell_type": "code",
   "execution_count": 172,
   "metadata": {},
   "outputs": [],
   "source": [
    "d1 = D1[0,1]\n",
    "d2 = D2[0,1]"
   ]
  },
  {
   "cell_type": "code",
   "execution_count": 173,
   "metadata": {},
   "outputs": [
    {
     "data": {
      "text/plain": [
       "(0.3383647798742138, 0.3383647798742138)"
      ]
     },
     "execution_count": 173,
     "metadata": {},
     "output_type": "execute_result"
    }
   ],
   "source": [
    "d1, d2"
   ]
  },
  {
   "cell_type": "code",
   "execution_count": 166,
   "metadata": {},
   "outputs": [],
   "source": [
    "u = GDV[0]\n",
    "v = GDV[1]"
   ]
  },
  {
   "cell_type": "code",
   "execution_count": 151,
   "metadata": {},
   "outputs": [
    {
     "ename": "AssertionError",
     "evalue": "\nArrays are not almost equal to 7 decimals\n\nMismatch: 100%\nMax absolute difference: 0.00059807\nMax relative difference: 6.10481976e-05\n x: array([[0.       , 5.9492918, 4.6737453, ..., 5.3742529, 4.9430062,\n        5.1458339],\n       [5.9492918, 0.       , 5.4020045, ..., 3.9525219, 4.445893 ,...\n y: array([[0.       , 5.9489287, 4.67346  , ..., 5.3739248, 4.9427044,\n        5.1455198],\n       [5.9489287, 0.       , 5.4016747, ..., 3.9522807, 4.4456216,...",
     "output_type": "error",
     "traceback": [
      "\u001b[0;31m---------------------------------------------------------------------------\u001b[0m",
      "\u001b[0;31mAssertionError\u001b[0m                            Traceback (most recent call last)",
      "\u001b[0;32m<ipython-input-151-ea84349341f8>\u001b[0m in \u001b[0;36m<module>\u001b[0;34m\u001b[0m\n\u001b[0;32m----> 1\u001b[0;31m \u001b[0mnp\u001b[0m\u001b[0;34m.\u001b[0m\u001b[0mtesting\u001b[0m\u001b[0;34m.\u001b[0m\u001b[0massert_almost_equal\u001b[0m\u001b[0;34m(\u001b[0m\u001b[0mD1\u001b[0m\u001b[0;34m,\u001b[0m\u001b[0mD2\u001b[0m\u001b[0;34m)\u001b[0m\u001b[0;34m\u001b[0m\u001b[0;34m\u001b[0m\u001b[0m\n\u001b[0m",
      "\u001b[0;32m~/Desktop/git/supplements/venv/graco/lib/python3.6/site-packages/numpy/testing/_private/utils.py\u001b[0m in \u001b[0;36massert_almost_equal\u001b[0;34m(actual, desired, decimal, err_msg, verbose)\u001b[0m\n\u001b[1;32m    582\u001b[0m     \u001b[0;32mif\u001b[0m \u001b[0misinstance\u001b[0m\u001b[0;34m(\u001b[0m\u001b[0mactual\u001b[0m\u001b[0;34m,\u001b[0m \u001b[0;34m(\u001b[0m\u001b[0mndarray\u001b[0m\u001b[0;34m,\u001b[0m \u001b[0mtuple\u001b[0m\u001b[0;34m,\u001b[0m \u001b[0mlist\u001b[0m\u001b[0;34m)\u001b[0m\u001b[0;34m)\u001b[0m\u001b[0;31m \u001b[0m\u001b[0;31m\\\u001b[0m\u001b[0;34m\u001b[0m\u001b[0;34m\u001b[0m\u001b[0m\n\u001b[1;32m    583\u001b[0m             \u001b[0;32mor\u001b[0m \u001b[0misinstance\u001b[0m\u001b[0;34m(\u001b[0m\u001b[0mdesired\u001b[0m\u001b[0;34m,\u001b[0m \u001b[0;34m(\u001b[0m\u001b[0mndarray\u001b[0m\u001b[0;34m,\u001b[0m \u001b[0mtuple\u001b[0m\u001b[0;34m,\u001b[0m \u001b[0mlist\u001b[0m\u001b[0;34m)\u001b[0m\u001b[0;34m)\u001b[0m\u001b[0;34m:\u001b[0m\u001b[0;34m\u001b[0m\u001b[0;34m\u001b[0m\u001b[0m\n\u001b[0;32m--> 584\u001b[0;31m         \u001b[0;32mreturn\u001b[0m \u001b[0massert_array_almost_equal\u001b[0m\u001b[0;34m(\u001b[0m\u001b[0mactual\u001b[0m\u001b[0;34m,\u001b[0m \u001b[0mdesired\u001b[0m\u001b[0;34m,\u001b[0m \u001b[0mdecimal\u001b[0m\u001b[0;34m,\u001b[0m \u001b[0merr_msg\u001b[0m\u001b[0;34m)\u001b[0m\u001b[0;34m\u001b[0m\u001b[0;34m\u001b[0m\u001b[0m\n\u001b[0m\u001b[1;32m    585\u001b[0m     \u001b[0;32mtry\u001b[0m\u001b[0;34m:\u001b[0m\u001b[0;34m\u001b[0m\u001b[0;34m\u001b[0m\u001b[0m\n\u001b[1;32m    586\u001b[0m         \u001b[0;31m# If one of desired/actual is not finite, handle it specially here:\u001b[0m\u001b[0;34m\u001b[0m\u001b[0;34m\u001b[0m\u001b[0;34m\u001b[0m\u001b[0m\n",
      "\u001b[0;32m~/Desktop/git/supplements/venv/graco/lib/python3.6/site-packages/numpy/testing/_private/utils.py\u001b[0m in \u001b[0;36massert_array_almost_equal\u001b[0;34m(x, y, decimal, err_msg, verbose)\u001b[0m\n\u001b[1;32m   1027\u001b[0m     assert_array_compare(compare, x, y, err_msg=err_msg, verbose=verbose,\n\u001b[1;32m   1028\u001b[0m              \u001b[0mheader\u001b[0m\u001b[0;34m=\u001b[0m\u001b[0;34m(\u001b[0m\u001b[0;34m'Arrays are not almost equal to %d decimals'\u001b[0m \u001b[0;34m%\u001b[0m \u001b[0mdecimal\u001b[0m\u001b[0;34m)\u001b[0m\u001b[0;34m,\u001b[0m\u001b[0;34m\u001b[0m\u001b[0;34m\u001b[0m\u001b[0m\n\u001b[0;32m-> 1029\u001b[0;31m              precision=decimal)\n\u001b[0m\u001b[1;32m   1030\u001b[0m \u001b[0;34m\u001b[0m\u001b[0m\n\u001b[1;32m   1031\u001b[0m \u001b[0;34m\u001b[0m\u001b[0m\n",
      "\u001b[0;32m~/Desktop/git/supplements/venv/graco/lib/python3.6/site-packages/numpy/testing/_private/utils.py\u001b[0m in \u001b[0;36massert_array_compare\u001b[0;34m(comparison, x, y, err_msg, verbose, header, precision, equal_nan, equal_inf)\u001b[0m\n\u001b[1;32m    839\u001b[0m                                 \u001b[0mverbose\u001b[0m\u001b[0;34m=\u001b[0m\u001b[0mverbose\u001b[0m\u001b[0;34m,\u001b[0m \u001b[0mheader\u001b[0m\u001b[0;34m=\u001b[0m\u001b[0mheader\u001b[0m\u001b[0;34m,\u001b[0m\u001b[0;34m\u001b[0m\u001b[0;34m\u001b[0m\u001b[0m\n\u001b[1;32m    840\u001b[0m                                 names=('x', 'y'), precision=precision)\n\u001b[0;32m--> 841\u001b[0;31m             \u001b[0;32mraise\u001b[0m \u001b[0mAssertionError\u001b[0m\u001b[0;34m(\u001b[0m\u001b[0mmsg\u001b[0m\u001b[0;34m)\u001b[0m\u001b[0;34m\u001b[0m\u001b[0;34m\u001b[0m\u001b[0m\n\u001b[0m\u001b[1;32m    842\u001b[0m     \u001b[0;32mexcept\u001b[0m \u001b[0mValueError\u001b[0m\u001b[0;34m:\u001b[0m\u001b[0;34m\u001b[0m\u001b[0;34m\u001b[0m\u001b[0m\n\u001b[1;32m    843\u001b[0m         \u001b[0;32mimport\u001b[0m \u001b[0mtraceback\u001b[0m\u001b[0;34m\u001b[0m\u001b[0;34m\u001b[0m\u001b[0m\n",
      "\u001b[0;31mAssertionError\u001b[0m: \nArrays are not almost equal to 7 decimals\n\nMismatch: 100%\nMax absolute difference: 0.00059807\nMax relative difference: 6.10481976e-05\n x: array([[0.       , 5.9492918, 4.6737453, ..., 5.3742529, 4.9430062,\n        5.1458339],\n       [5.9492918, 0.       , 5.4020045, ..., 3.9525219, 4.445893 ,...\n y: array([[0.       , 5.9489287, 4.67346  , ..., 5.3739248, 4.9427044,\n        5.1455198],\n       [5.9489287, 0.       , 5.4016747, ..., 3.9522807, 4.4456216,..."
     ]
    }
   ],
   "source": [
    "np.testing.assert_almost_equal(D1,D2)"
   ]
  },
  {
   "cell_type": "code",
   "execution_count": 105,
   "metadata": {},
   "outputs": [],
   "source": [
    "var = np.var(GDV, axis=0, ddof=1)"
   ]
  },
  {
   "cell_type": "code",
   "execution_count": 107,
   "metadata": {},
   "outputs": [
    {
     "data": {
      "text/plain": [
       "24.753621434742364"
      ]
     },
     "execution_count": 107,
     "metadata": {},
     "output_type": "execute_result"
    }
   ],
   "source": [
    "(np.sum((u-v)**2/np.var(GDV, axis=0, ddof=1)) + np.sum((u-v)**2/np.var(GDV, axis=0, ddof=0)))/2 "
   ]
  },
  {
   "cell_type": "code",
   "execution_count": 104,
   "metadata": {},
   "outputs": [
    {
     "data": {
      "text/plain": [
       "array([ 911.8836,  799.4275, 1065.5171,  724.8644,  846.3075,  873.2256,\n",
       "        849.4379,  805.4331,  610.6675,  882.2291,  761.5584, 1037.9659,\n",
       "        881.3444,  797.5684,  823.8604])"
      ]
     },
     "execution_count": 104,
     "metadata": {},
     "output_type": "execute_result"
    }
   ],
   "source": [
    "var"
   ]
  },
  {
   "cell_type": "code",
   "execution_count": 65,
   "metadata": {},
   "outputs": [
    {
     "ename": "AssertionError",
     "evalue": "\nArrays are not almost equal to 4 decimals\n\nMismatch: 99%\nMax absolute difference: 0.02046299\nMax relative difference: 0.00252207\n x: array([[0.    , 4.9753, 4.8311, ..., 5.6798, 5.5659, 5.9256],\n       [4.9753, 0.    , 6.4412, ..., 6.005 , 4.7027, 5.2528],\n       [4.8311, 6.4412, 0.    , ..., 4.1455, 6.039 , 7.1764],...\n y: array([[0.    , 4.9628, 4.8189, ..., 5.6656, 5.5519, 5.9107],\n       [4.9628, 0.    , 6.425 , ..., 5.9898, 4.6909, 5.2396],\n       [4.8189, 6.425 , 0.    , ..., 4.1351, 6.0238, 7.1584],...",
     "output_type": "error",
     "traceback": [
      "\u001b[0;31m---------------------------------------------------------------------------\u001b[0m",
      "\u001b[0;31mAssertionError\u001b[0m                            Traceback (most recent call last)",
      "\u001b[0;32m<ipython-input-65-cdfd989edc5d>\u001b[0m in \u001b[0;36m<module>\u001b[0;34m\u001b[0m\n\u001b[0;32m----> 1\u001b[0;31m \u001b[0mnp\u001b[0m\u001b[0;34m.\u001b[0m\u001b[0mtesting\u001b[0m\u001b[0;34m.\u001b[0m\u001b[0massert_almost_equal\u001b[0m\u001b[0;34m(\u001b[0m\u001b[0mD1\u001b[0m\u001b[0;34m,\u001b[0m \u001b[0mD2\u001b[0m\u001b[0;34m,\u001b[0m \u001b[0mdecimal\u001b[0m\u001b[0;34m=\u001b[0m\u001b[0;36m4\u001b[0m\u001b[0;34m)\u001b[0m\u001b[0;34m\u001b[0m\u001b[0;34m\u001b[0m\u001b[0m\n\u001b[0m",
      "\u001b[0;32m~/Desktop/git/supplements/venv/graco/lib/python3.6/site-packages/numpy/testing/_private/utils.py\u001b[0m in \u001b[0;36massert_almost_equal\u001b[0;34m(actual, desired, decimal, err_msg, verbose)\u001b[0m\n\u001b[1;32m    582\u001b[0m     \u001b[0;32mif\u001b[0m \u001b[0misinstance\u001b[0m\u001b[0;34m(\u001b[0m\u001b[0mactual\u001b[0m\u001b[0;34m,\u001b[0m \u001b[0;34m(\u001b[0m\u001b[0mndarray\u001b[0m\u001b[0;34m,\u001b[0m \u001b[0mtuple\u001b[0m\u001b[0;34m,\u001b[0m \u001b[0mlist\u001b[0m\u001b[0;34m)\u001b[0m\u001b[0;34m)\u001b[0m\u001b[0;31m \u001b[0m\u001b[0;31m\\\u001b[0m\u001b[0;34m\u001b[0m\u001b[0;34m\u001b[0m\u001b[0m\n\u001b[1;32m    583\u001b[0m             \u001b[0;32mor\u001b[0m \u001b[0misinstance\u001b[0m\u001b[0;34m(\u001b[0m\u001b[0mdesired\u001b[0m\u001b[0;34m,\u001b[0m \u001b[0;34m(\u001b[0m\u001b[0mndarray\u001b[0m\u001b[0;34m,\u001b[0m \u001b[0mtuple\u001b[0m\u001b[0;34m,\u001b[0m \u001b[0mlist\u001b[0m\u001b[0;34m)\u001b[0m\u001b[0;34m)\u001b[0m\u001b[0;34m:\u001b[0m\u001b[0;34m\u001b[0m\u001b[0;34m\u001b[0m\u001b[0m\n\u001b[0;32m--> 584\u001b[0;31m         \u001b[0;32mreturn\u001b[0m \u001b[0massert_array_almost_equal\u001b[0m\u001b[0;34m(\u001b[0m\u001b[0mactual\u001b[0m\u001b[0;34m,\u001b[0m \u001b[0mdesired\u001b[0m\u001b[0;34m,\u001b[0m \u001b[0mdecimal\u001b[0m\u001b[0;34m,\u001b[0m \u001b[0merr_msg\u001b[0m\u001b[0;34m)\u001b[0m\u001b[0;34m\u001b[0m\u001b[0;34m\u001b[0m\u001b[0m\n\u001b[0m\u001b[1;32m    585\u001b[0m     \u001b[0;32mtry\u001b[0m\u001b[0;34m:\u001b[0m\u001b[0;34m\u001b[0m\u001b[0;34m\u001b[0m\u001b[0m\n\u001b[1;32m    586\u001b[0m         \u001b[0;31m# If one of desired/actual is not finite, handle it specially here:\u001b[0m\u001b[0;34m\u001b[0m\u001b[0;34m\u001b[0m\u001b[0;34m\u001b[0m\u001b[0m\n",
      "\u001b[0;32m~/Desktop/git/supplements/venv/graco/lib/python3.6/site-packages/numpy/testing/_private/utils.py\u001b[0m in \u001b[0;36massert_array_almost_equal\u001b[0;34m(x, y, decimal, err_msg, verbose)\u001b[0m\n\u001b[1;32m   1027\u001b[0m     assert_array_compare(compare, x, y, err_msg=err_msg, verbose=verbose,\n\u001b[1;32m   1028\u001b[0m              \u001b[0mheader\u001b[0m\u001b[0;34m=\u001b[0m\u001b[0;34m(\u001b[0m\u001b[0;34m'Arrays are not almost equal to %d decimals'\u001b[0m \u001b[0;34m%\u001b[0m \u001b[0mdecimal\u001b[0m\u001b[0;34m)\u001b[0m\u001b[0;34m,\u001b[0m\u001b[0;34m\u001b[0m\u001b[0;34m\u001b[0m\u001b[0m\n\u001b[0;32m-> 1029\u001b[0;31m              precision=decimal)\n\u001b[0m\u001b[1;32m   1030\u001b[0m \u001b[0;34m\u001b[0m\u001b[0m\n\u001b[1;32m   1031\u001b[0m \u001b[0;34m\u001b[0m\u001b[0m\n",
      "\u001b[0;32m~/Desktop/git/supplements/venv/graco/lib/python3.6/site-packages/numpy/testing/_private/utils.py\u001b[0m in \u001b[0;36massert_array_compare\u001b[0;34m(comparison, x, y, err_msg, verbose, header, precision, equal_nan, equal_inf)\u001b[0m\n\u001b[1;32m    839\u001b[0m                                 \u001b[0mverbose\u001b[0m\u001b[0;34m=\u001b[0m\u001b[0mverbose\u001b[0m\u001b[0;34m,\u001b[0m \u001b[0mheader\u001b[0m\u001b[0;34m=\u001b[0m\u001b[0mheader\u001b[0m\u001b[0;34m,\u001b[0m\u001b[0;34m\u001b[0m\u001b[0;34m\u001b[0m\u001b[0m\n\u001b[1;32m    840\u001b[0m                                 names=('x', 'y'), precision=precision)\n\u001b[0;32m--> 841\u001b[0;31m             \u001b[0;32mraise\u001b[0m \u001b[0mAssertionError\u001b[0m\u001b[0;34m(\u001b[0m\u001b[0mmsg\u001b[0m\u001b[0;34m)\u001b[0m\u001b[0;34m\u001b[0m\u001b[0;34m\u001b[0m\u001b[0m\n\u001b[0m\u001b[1;32m    842\u001b[0m     \u001b[0;32mexcept\u001b[0m \u001b[0mValueError\u001b[0m\u001b[0;34m:\u001b[0m\u001b[0;34m\u001b[0m\u001b[0;34m\u001b[0m\u001b[0m\n\u001b[1;32m    843\u001b[0m         \u001b[0;32mimport\u001b[0m \u001b[0mtraceback\u001b[0m\u001b[0;34m\u001b[0m\u001b[0;34m\u001b[0m\u001b[0m\n",
      "\u001b[0;31mAssertionError\u001b[0m: \nArrays are not almost equal to 4 decimals\n\nMismatch: 99%\nMax absolute difference: 0.02046299\nMax relative difference: 0.00252207\n x: array([[0.    , 4.9753, 4.8311, ..., 5.6798, 5.5659, 5.9256],\n       [4.9753, 0.    , 6.4412, ..., 6.005 , 4.7027, 5.2528],\n       [4.8311, 6.4412, 0.    , ..., 4.1455, 6.039 , 7.1764],...\n y: array([[0.    , 4.9628, 4.8189, ..., 5.6656, 5.5519, 5.9107],\n       [4.9628, 0.    , 6.425 , ..., 5.9898, 4.6909, 5.2396],\n       [4.8189, 6.425 , 0.    , ..., 4.1351, 6.0238, 7.1584],..."
     ]
    }
   ],
   "source": [
    "np.testing.assert_almost_equal(D1, D2, decimal=4)"
   ]
  },
  {
   "cell_type": "code",
   "execution_count": 66,
   "metadata": {},
   "outputs": [
    {
     "data": {
      "text/plain": [
       "array([[0.        , 4.97530114, 4.83110061, ..., 5.67983905, 5.56589755,\n",
       "        5.92562222],\n",
       "       [4.97530114, 0.        , 6.44124966, ..., 6.00495613, 4.70269151,\n",
       "        5.25282916],\n",
       "       [4.83110061, 6.44124966, 0.        , ..., 4.14554063, 6.03904217,\n",
       "        7.17641413],\n",
       "       ...,\n",
       "       [5.67983905, 6.00495613, 4.14554063, ..., 0.        , 6.27902009,\n",
       "        6.90941899],\n",
       "       [5.56589755, 4.70269151, 6.03904217, ..., 6.27902009, 0.        ,\n",
       "        5.40386731],\n",
       "       [5.92562222, 5.25282916, 7.17641413, ..., 6.90941899, 5.40386731,\n",
       "        0.        ]])"
      ]
     },
     "execution_count": 66,
     "metadata": {},
     "output_type": "execute_result"
    }
   ],
   "source": [
    "D1"
   ]
  },
  {
   "cell_type": "code",
   "execution_count": null,
   "metadata": {},
   "outputs": [],
   "source": []
  },
  {
   "cell_type": "code",
   "execution_count": 8,
   "metadata": {},
   "outputs": [
    {
     "data": {
      "text/plain": [
       "0.8620689655172413"
      ]
     },
     "execution_count": 8,
     "metadata": {},
     "output_type": "execute_result"
    }
   ],
   "source": [
    "graco.distance.normalized1_lp(u,v,np.inf)"
   ]
  },
  {
   "cell_type": "code",
   "execution_count": 9,
   "metadata": {},
   "outputs": [
    {
     "data": {
      "text/plain": [
       "0.8620689655172413"
      ]
     },
     "execution_count": 9,
     "metadata": {},
     "output_type": "execute_result"
    }
   ],
   "source": [
    "graco.distance(u,v,'normalized1_linf')"
   ]
  },
  {
   "cell_type": "code",
   "execution_count": 9,
   "metadata": {},
   "outputs": [],
   "source": [
    "u,v = np.random.uniform(size=[2,100])"
   ]
  },
  {
   "cell_type": "code",
   "execution_count": 15,
   "metadata": {},
   "outputs": [
    {
     "data": {
      "text/plain": [
       "2"
      ]
     },
     "execution_count": 15,
     "metadata": {},
     "output_type": "execute_result"
    }
   ],
   "source": [
    "int('normalized1_l2'.split('normalized1_l')[1])"
   ]
  },
  {
   "cell_type": "code",
   "execution_count": 11,
   "metadata": {},
   "outputs": [],
   "source": [
    "np.testing.assert_almost_equal(D1, D2, decimal=4)"
   ]
  },
  {
   "cell_type": "code",
   "execution_count": 3,
   "metadata": {},
   "outputs": [],
   "source": [
    "for u,v in combinations(GDV,2):\n",
    "    break"
   ]
  },
  {
   "cell_type": "code",
   "execution_count": 5,
   "metadata": {},
   "outputs": [
    {
     "data": {
      "text/plain": [
       "0.2889752125926776"
      ]
     },
     "execution_count": 5,
     "metadata": {},
     "output_type": "execute_result"
    }
   ],
   "source": [
    "graco.distance.GDV_similarity(u,v)"
   ]
  },
  {
   "cell_type": "code",
   "execution_count": 2,
   "metadata": {},
   "outputs": [],
   "source": [
    "G = nx.erdos_renyi_graph(100,0.1)\n",
    "GDV = graco.orbits(G)\n",
    "GCV = graco.coefficients(GDV)"
   ]
  },
  {
   "cell_type": "code",
   "execution_count": 6,
   "metadata": {},
   "outputs": [],
   "source": [
    "def GCV_distance(GCV, distance, nan='include'):\n",
    "    \n",
    "    gcv = GCV.copy()\n",
    "    \n",
    "    levels = len(GCV.columns.levels)\n",
    "    gcv.columns = GCV.columns.droplevel(list(range(levels-2)))\n",
    "    \n",
    "    if nan == 'include':\n",
    "        pass\n",
    "    else:\n",
    "        raise Exception\n",
    "    return gcv"
   ]
  },
  {
   "cell_type": "code",
   "execution_count": 9,
   "metadata": {},
   "outputs": [
    {
     "data": {
      "text/html": [
       "<div>\n",
       "<style scoped>\n",
       "    .dataframe tbody tr th:only-of-type {\n",
       "        vertical-align: middle;\n",
       "    }\n",
       "\n",
       "    .dataframe tbody tr th {\n",
       "        vertical-align: top;\n",
       "    }\n",
       "\n",
       "    .dataframe thead tr th {\n",
       "        text-align: left;\n",
       "    }\n",
       "</style>\n",
       "<table border=\"1\" class=\"dataframe\">\n",
       "  <thead>\n",
       "    <tr>\n",
       "      <th>Source</th>\n",
       "      <th colspan=\"2\" halign=\"left\">0</th>\n",
       "      <th colspan=\"4\" halign=\"left\">1</th>\n",
       "      <th colspan=\"3\" halign=\"left\">2</th>\n",
       "      <th>3</th>\n",
       "      <th>...</th>\n",
       "      <th colspan=\"2\" halign=\"left\">1-2</th>\n",
       "      <th colspan=\"4\" halign=\"left\">2-1</th>\n",
       "      <th colspan=\"4\" halign=\"left\">3-3</th>\n",
       "    </tr>\n",
       "    <tr>\n",
       "      <th>Target</th>\n",
       "      <th>2</th>\n",
       "      <th>3</th>\n",
       "      <th>5</th>\n",
       "      <th>8</th>\n",
       "      <th>10</th>\n",
       "      <th>12</th>\n",
       "      <th>7</th>\n",
       "      <th>11</th>\n",
       "      <th>13</th>\n",
       "      <th>11</th>\n",
       "      <th>...</th>\n",
       "      <th>10</th>\n",
       "      <th>12</th>\n",
       "      <th>5</th>\n",
       "      <th>8</th>\n",
       "      <th>11</th>\n",
       "      <th>13</th>\n",
       "      <th>10</th>\n",
       "      <th>12</th>\n",
       "      <th>13</th>\n",
       "      <th>14</th>\n",
       "    </tr>\n",
       "  </thead>\n",
       "  <tbody>\n",
       "    <tr>\n",
       "      <th>0</th>\n",
       "      <td>0.942857</td>\n",
       "      <td>0.057143</td>\n",
       "      <td>0.841335</td>\n",
       "      <td>0.098361</td>\n",
       "      <td>0.056792</td>\n",
       "      <td>0.003513</td>\n",
       "      <td>0.883450</td>\n",
       "      <td>0.114996</td>\n",
       "      <td>0.001554</td>\n",
       "      <td>0.948718</td>\n",
       "      <td>...</td>\n",
       "      <td>0.088423</td>\n",
       "      <td>0.005469</td>\n",
       "      <td>0.817871</td>\n",
       "      <td>0.047809</td>\n",
       "      <td>0.042117</td>\n",
       "      <td>0.001138</td>\n",
       "      <td>0.906542</td>\n",
       "      <td>0.056075</td>\n",
       "      <td>0.037383</td>\n",
       "      <td>0.000000</td>\n",
       "    </tr>\n",
       "    <tr>\n",
       "      <th>1</th>\n",
       "      <td>0.863636</td>\n",
       "      <td>0.136364</td>\n",
       "      <td>0.786642</td>\n",
       "      <td>0.077922</td>\n",
       "      <td>0.120594</td>\n",
       "      <td>0.014842</td>\n",
       "      <td>0.742105</td>\n",
       "      <td>0.242105</td>\n",
       "      <td>0.015789</td>\n",
       "      <td>0.766667</td>\n",
       "      <td>...</td>\n",
       "      <td>0.140389</td>\n",
       "      <td>0.017279</td>\n",
       "      <td>0.779412</td>\n",
       "      <td>0.038603</td>\n",
       "      <td>0.063419</td>\n",
       "      <td>0.008272</td>\n",
       "      <td>0.764706</td>\n",
       "      <td>0.094118</td>\n",
       "      <td>0.105882</td>\n",
       "      <td>0.035294</td>\n",
       "    </tr>\n",
       "    <tr>\n",
       "      <th>2</th>\n",
       "      <td>0.800000</td>\n",
       "      <td>0.200000</td>\n",
       "      <td>0.716475</td>\n",
       "      <td>0.061303</td>\n",
       "      <td>0.186462</td>\n",
       "      <td>0.035760</td>\n",
       "      <td>0.645833</td>\n",
       "      <td>0.305556</td>\n",
       "      <td>0.048611</td>\n",
       "      <td>0.611111</td>\n",
       "      <td>...</td>\n",
       "      <td>0.161863</td>\n",
       "      <td>0.031042</td>\n",
       "      <td>0.773793</td>\n",
       "      <td>0.033103</td>\n",
       "      <td>0.060690</td>\n",
       "      <td>0.019310</td>\n",
       "      <td>0.722772</td>\n",
       "      <td>0.138614</td>\n",
       "      <td>0.138614</td>\n",
       "      <td>0.000000</td>\n",
       "    </tr>\n",
       "    <tr>\n",
       "      <th>3</th>\n",
       "      <td>0.892857</td>\n",
       "      <td>0.107143</td>\n",
       "      <td>0.805019</td>\n",
       "      <td>0.084942</td>\n",
       "      <td>0.098456</td>\n",
       "      <td>0.011583</td>\n",
       "      <td>0.800000</td>\n",
       "      <td>0.186667</td>\n",
       "      <td>0.013333</td>\n",
       "      <td>0.777778</td>\n",
       "      <td>...</td>\n",
       "      <td>0.067729</td>\n",
       "      <td>0.007968</td>\n",
       "      <td>0.845842</td>\n",
       "      <td>0.044625</td>\n",
       "      <td>0.028398</td>\n",
       "      <td>0.004057</td>\n",
       "      <td>0.836066</td>\n",
       "      <td>0.098361</td>\n",
       "      <td>0.065574</td>\n",
       "      <td>0.000000</td>\n",
       "    </tr>\n",
       "    <tr>\n",
       "      <th>4</th>\n",
       "      <td>0.928571</td>\n",
       "      <td>0.071429</td>\n",
       "      <td>0.873950</td>\n",
       "      <td>0.061625</td>\n",
       "      <td>0.064426</td>\n",
       "      <td>0.000000</td>\n",
       "      <td>0.846154</td>\n",
       "      <td>0.153846</td>\n",
       "      <td>0.000000</td>\n",
       "      <td>1.000000</td>\n",
       "      <td>...</td>\n",
       "      <td>0.063361</td>\n",
       "      <td>0.000000</td>\n",
       "      <td>0.871508</td>\n",
       "      <td>0.030726</td>\n",
       "      <td>0.033520</td>\n",
       "      <td>0.000000</td>\n",
       "      <td>1.000000</td>\n",
       "      <td>0.000000</td>\n",
       "      <td>0.000000</td>\n",
       "      <td>0.000000</td>\n",
       "    </tr>\n",
       "    <tr>\n",
       "      <th>...</th>\n",
       "      <td>...</td>\n",
       "      <td>...</td>\n",
       "      <td>...</td>\n",
       "      <td>...</td>\n",
       "      <td>...</td>\n",
       "      <td>...</td>\n",
       "      <td>...</td>\n",
       "      <td>...</td>\n",
       "      <td>...</td>\n",
       "      <td>...</td>\n",
       "      <td>...</td>\n",
       "      <td>...</td>\n",
       "      <td>...</td>\n",
       "      <td>...</td>\n",
       "      <td>...</td>\n",
       "      <td>...</td>\n",
       "      <td>...</td>\n",
       "      <td>...</td>\n",
       "      <td>...</td>\n",
       "      <td>...</td>\n",
       "      <td>...</td>\n",
       "    </tr>\n",
       "    <tr>\n",
       "      <th>95</th>\n",
       "      <td>0.904762</td>\n",
       "      <td>0.095238</td>\n",
       "      <td>0.848485</td>\n",
       "      <td>0.053030</td>\n",
       "      <td>0.098485</td>\n",
       "      <td>0.000000</td>\n",
       "      <td>0.789474</td>\n",
       "      <td>0.210526</td>\n",
       "      <td>0.000000</td>\n",
       "      <td>1.000000</td>\n",
       "      <td>...</td>\n",
       "      <td>0.092199</td>\n",
       "      <td>0.000000</td>\n",
       "      <td>0.868217</td>\n",
       "      <td>0.027132</td>\n",
       "      <td>0.038760</td>\n",
       "      <td>0.000000</td>\n",
       "      <td>1.000000</td>\n",
       "      <td>0.000000</td>\n",
       "      <td>0.000000</td>\n",
       "      <td>0.000000</td>\n",
       "    </tr>\n",
       "    <tr>\n",
       "      <th>96</th>\n",
       "      <td>0.933333</td>\n",
       "      <td>0.066667</td>\n",
       "      <td>0.863636</td>\n",
       "      <td>0.081818</td>\n",
       "      <td>0.054545</td>\n",
       "      <td>0.000000</td>\n",
       "      <td>0.857143</td>\n",
       "      <td>0.142857</td>\n",
       "      <td>0.000000</td>\n",
       "      <td>1.000000</td>\n",
       "      <td>...</td>\n",
       "      <td>0.040000</td>\n",
       "      <td>0.000000</td>\n",
       "      <td>0.879630</td>\n",
       "      <td>0.041667</td>\n",
       "      <td>0.018519</td>\n",
       "      <td>0.000000</td>\n",
       "      <td>1.000000</td>\n",
       "      <td>0.000000</td>\n",
       "      <td>0.000000</td>\n",
       "      <td>0.000000</td>\n",
       "    </tr>\n",
       "    <tr>\n",
       "      <th>97</th>\n",
       "      <td>0.944444</td>\n",
       "      <td>0.055556</td>\n",
       "      <td>0.840054</td>\n",
       "      <td>0.102151</td>\n",
       "      <td>0.057796</td>\n",
       "      <td>0.000000</td>\n",
       "      <td>0.882353</td>\n",
       "      <td>0.117647</td>\n",
       "      <td>0.000000</td>\n",
       "      <td>1.000000</td>\n",
       "      <td>...</td>\n",
       "      <td>0.044560</td>\n",
       "      <td>0.000000</td>\n",
       "      <td>0.857339</td>\n",
       "      <td>0.052126</td>\n",
       "      <td>0.019204</td>\n",
       "      <td>0.000000</td>\n",
       "      <td>1.000000</td>\n",
       "      <td>0.000000</td>\n",
       "      <td>0.000000</td>\n",
       "      <td>0.000000</td>\n",
       "    </tr>\n",
       "    <tr>\n",
       "      <th>98</th>\n",
       "      <td>0.911111</td>\n",
       "      <td>0.088889</td>\n",
       "      <td>0.817073</td>\n",
       "      <td>0.089431</td>\n",
       "      <td>0.079946</td>\n",
       "      <td>0.013550</td>\n",
       "      <td>0.823171</td>\n",
       "      <td>0.170732</td>\n",
       "      <td>0.006098</td>\n",
       "      <td>0.875000</td>\n",
       "      <td>...</td>\n",
       "      <td>0.076129</td>\n",
       "      <td>0.012903</td>\n",
       "      <td>0.827160</td>\n",
       "      <td>0.045267</td>\n",
       "      <td>0.038409</td>\n",
       "      <td>0.002743</td>\n",
       "      <td>0.808219</td>\n",
       "      <td>0.136986</td>\n",
       "      <td>0.054795</td>\n",
       "      <td>0.000000</td>\n",
       "    </tr>\n",
       "    <tr>\n",
       "      <th>99</th>\n",
       "      <td>0.857143</td>\n",
       "      <td>0.142857</td>\n",
       "      <td>0.763636</td>\n",
       "      <td>0.103030</td>\n",
       "      <td>0.115152</td>\n",
       "      <td>0.018182</td>\n",
       "      <td>0.733333</td>\n",
       "      <td>0.244444</td>\n",
       "      <td>0.022222</td>\n",
       "      <td>0.733333</td>\n",
       "      <td>...</td>\n",
       "      <td>0.084444</td>\n",
       "      <td>0.013333</td>\n",
       "      <td>0.807692</td>\n",
       "      <td>0.054487</td>\n",
       "      <td>0.035256</td>\n",
       "      <td>0.006410</td>\n",
       "      <td>0.791667</td>\n",
       "      <td>0.125000</td>\n",
       "      <td>0.083333</td>\n",
       "      <td>0.000000</td>\n",
       "    </tr>\n",
       "  </tbody>\n",
       "</table>\n",
       "<p>100 rows × 42 columns</p>\n",
       "</div>"
      ],
      "text/plain": [
       "Source         0                   1                                       2  \\\n",
       "Target         2         3         5         8        10        12         7   \n",
       "0       0.942857  0.057143  0.841335  0.098361  0.056792  0.003513  0.883450   \n",
       "1       0.863636  0.136364  0.786642  0.077922  0.120594  0.014842  0.742105   \n",
       "2       0.800000  0.200000  0.716475  0.061303  0.186462  0.035760  0.645833   \n",
       "3       0.892857  0.107143  0.805019  0.084942  0.098456  0.011583  0.800000   \n",
       "4       0.928571  0.071429  0.873950  0.061625  0.064426  0.000000  0.846154   \n",
       "..           ...       ...       ...       ...       ...       ...       ...   \n",
       "95      0.904762  0.095238  0.848485  0.053030  0.098485  0.000000  0.789474   \n",
       "96      0.933333  0.066667  0.863636  0.081818  0.054545  0.000000  0.857143   \n",
       "97      0.944444  0.055556  0.840054  0.102151  0.057796  0.000000  0.882353   \n",
       "98      0.911111  0.088889  0.817073  0.089431  0.079946  0.013550  0.823171   \n",
       "99      0.857143  0.142857  0.763636  0.103030  0.115152  0.018182  0.733333   \n",
       "\n",
       "Source                             3  ...       1-2                 2-1  \\\n",
       "Target        11        13        11  ...        10        12         5   \n",
       "0       0.114996  0.001554  0.948718  ...  0.088423  0.005469  0.817871   \n",
       "1       0.242105  0.015789  0.766667  ...  0.140389  0.017279  0.779412   \n",
       "2       0.305556  0.048611  0.611111  ...  0.161863  0.031042  0.773793   \n",
       "3       0.186667  0.013333  0.777778  ...  0.067729  0.007968  0.845842   \n",
       "4       0.153846  0.000000  1.000000  ...  0.063361  0.000000  0.871508   \n",
       "..           ...       ...       ...  ...       ...       ...       ...   \n",
       "95      0.210526  0.000000  1.000000  ...  0.092199  0.000000  0.868217   \n",
       "96      0.142857  0.000000  1.000000  ...  0.040000  0.000000  0.879630   \n",
       "97      0.117647  0.000000  1.000000  ...  0.044560  0.000000  0.857339   \n",
       "98      0.170732  0.006098  0.875000  ...  0.076129  0.012903  0.827160   \n",
       "99      0.244444  0.022222  0.733333  ...  0.084444  0.013333  0.807692   \n",
       "\n",
       "Source                                     3-3                                \n",
       "Target         8        11        13        10        12        13        14  \n",
       "0       0.047809  0.042117  0.001138  0.906542  0.056075  0.037383  0.000000  \n",
       "1       0.038603  0.063419  0.008272  0.764706  0.094118  0.105882  0.035294  \n",
       "2       0.033103  0.060690  0.019310  0.722772  0.138614  0.138614  0.000000  \n",
       "3       0.044625  0.028398  0.004057  0.836066  0.098361  0.065574  0.000000  \n",
       "4       0.030726  0.033520  0.000000  1.000000  0.000000  0.000000  0.000000  \n",
       "..           ...       ...       ...       ...       ...       ...       ...  \n",
       "95      0.027132  0.038760  0.000000  1.000000  0.000000  0.000000  0.000000  \n",
       "96      0.041667  0.018519  0.000000  1.000000  0.000000  0.000000  0.000000  \n",
       "97      0.052126  0.019204  0.000000  1.000000  0.000000  0.000000  0.000000  \n",
       "98      0.045267  0.038409  0.002743  0.808219  0.136986  0.054795  0.000000  \n",
       "99      0.054487  0.035256  0.006410  0.791667  0.125000  0.083333  0.000000  \n",
       "\n",
       "[100 rows x 42 columns]"
      ]
     },
     "execution_count": 9,
     "metadata": {},
     "output_type": "execute_result"
    }
   ],
   "source": [
    "GCV_distance(GCV, 3)"
   ]
  },
  {
   "cell_type": "code",
   "execution_count": 5,
   "metadata": {},
   "outputs": [
    {
     "data": {
      "text/html": [
       "<div>\n",
       "<style scoped>\n",
       "    .dataframe tbody tr th:only-of-type {\n",
       "        vertical-align: middle;\n",
       "    }\n",
       "\n",
       "    .dataframe tbody tr th {\n",
       "        vertical-align: top;\n",
       "    }\n",
       "\n",
       "    .dataframe thead tr th {\n",
       "        text-align: left;\n",
       "    }\n",
       "</style>\n",
       "<table border=\"1\" class=\"dataframe\">\n",
       "  <thead>\n",
       "    <tr>\n",
       "      <th>Order</th>\n",
       "      <th colspan=\"10\" halign=\"left\">D</th>\n",
       "      <th>...</th>\n",
       "      <th colspan=\"10\" halign=\"left\">G</th>\n",
       "    </tr>\n",
       "    <tr>\n",
       "      <th>Source</th>\n",
       "      <th colspan=\"2\" halign=\"left\">0</th>\n",
       "      <th colspan=\"4\" halign=\"left\">1</th>\n",
       "      <th colspan=\"3\" halign=\"left\">2</th>\n",
       "      <th>3</th>\n",
       "      <th>...</th>\n",
       "      <th colspan=\"2\" halign=\"left\">1-2</th>\n",
       "      <th colspan=\"4\" halign=\"left\">2-1</th>\n",
       "      <th colspan=\"4\" halign=\"left\">3-3</th>\n",
       "    </tr>\n",
       "    <tr>\n",
       "      <th>Target</th>\n",
       "      <th>2</th>\n",
       "      <th>3</th>\n",
       "      <th>5</th>\n",
       "      <th>8</th>\n",
       "      <th>10</th>\n",
       "      <th>12</th>\n",
       "      <th>7</th>\n",
       "      <th>11</th>\n",
       "      <th>13</th>\n",
       "      <th>11</th>\n",
       "      <th>...</th>\n",
       "      <th>10</th>\n",
       "      <th>12</th>\n",
       "      <th>5</th>\n",
       "      <th>8</th>\n",
       "      <th>11</th>\n",
       "      <th>13</th>\n",
       "      <th>10</th>\n",
       "      <th>12</th>\n",
       "      <th>13</th>\n",
       "      <th>14</th>\n",
       "    </tr>\n",
       "  </thead>\n",
       "  <tbody>\n",
       "    <tr>\n",
       "      <th>0</th>\n",
       "      <td>0.942857</td>\n",
       "      <td>0.057143</td>\n",
       "      <td>0.841335</td>\n",
       "      <td>0.098361</td>\n",
       "      <td>0.056792</td>\n",
       "      <td>0.003513</td>\n",
       "      <td>0.883450</td>\n",
       "      <td>0.114996</td>\n",
       "      <td>0.001554</td>\n",
       "      <td>0.948718</td>\n",
       "      <td>...</td>\n",
       "      <td>0.088423</td>\n",
       "      <td>0.005469</td>\n",
       "      <td>0.817871</td>\n",
       "      <td>0.047809</td>\n",
       "      <td>0.042117</td>\n",
       "      <td>0.001138</td>\n",
       "      <td>0.906542</td>\n",
       "      <td>0.056075</td>\n",
       "      <td>0.037383</td>\n",
       "      <td>0.000000</td>\n",
       "    </tr>\n",
       "    <tr>\n",
       "      <th>1</th>\n",
       "      <td>0.863636</td>\n",
       "      <td>0.136364</td>\n",
       "      <td>0.786642</td>\n",
       "      <td>0.077922</td>\n",
       "      <td>0.120594</td>\n",
       "      <td>0.014842</td>\n",
       "      <td>0.742105</td>\n",
       "      <td>0.242105</td>\n",
       "      <td>0.015789</td>\n",
       "      <td>0.766667</td>\n",
       "      <td>...</td>\n",
       "      <td>0.140389</td>\n",
       "      <td>0.017279</td>\n",
       "      <td>0.779412</td>\n",
       "      <td>0.038603</td>\n",
       "      <td>0.063419</td>\n",
       "      <td>0.008272</td>\n",
       "      <td>0.764706</td>\n",
       "      <td>0.094118</td>\n",
       "      <td>0.105882</td>\n",
       "      <td>0.035294</td>\n",
       "    </tr>\n",
       "    <tr>\n",
       "      <th>2</th>\n",
       "      <td>0.800000</td>\n",
       "      <td>0.200000</td>\n",
       "      <td>0.716475</td>\n",
       "      <td>0.061303</td>\n",
       "      <td>0.186462</td>\n",
       "      <td>0.035760</td>\n",
       "      <td>0.645833</td>\n",
       "      <td>0.305556</td>\n",
       "      <td>0.048611</td>\n",
       "      <td>0.611111</td>\n",
       "      <td>...</td>\n",
       "      <td>0.161863</td>\n",
       "      <td>0.031042</td>\n",
       "      <td>0.773793</td>\n",
       "      <td>0.033103</td>\n",
       "      <td>0.060690</td>\n",
       "      <td>0.019310</td>\n",
       "      <td>0.722772</td>\n",
       "      <td>0.138614</td>\n",
       "      <td>0.138614</td>\n",
       "      <td>0.000000</td>\n",
       "    </tr>\n",
       "    <tr>\n",
       "      <th>3</th>\n",
       "      <td>0.892857</td>\n",
       "      <td>0.107143</td>\n",
       "      <td>0.805019</td>\n",
       "      <td>0.084942</td>\n",
       "      <td>0.098456</td>\n",
       "      <td>0.011583</td>\n",
       "      <td>0.800000</td>\n",
       "      <td>0.186667</td>\n",
       "      <td>0.013333</td>\n",
       "      <td>0.777778</td>\n",
       "      <td>...</td>\n",
       "      <td>0.067729</td>\n",
       "      <td>0.007968</td>\n",
       "      <td>0.845842</td>\n",
       "      <td>0.044625</td>\n",
       "      <td>0.028398</td>\n",
       "      <td>0.004057</td>\n",
       "      <td>0.836066</td>\n",
       "      <td>0.098361</td>\n",
       "      <td>0.065574</td>\n",
       "      <td>0.000000</td>\n",
       "    </tr>\n",
       "    <tr>\n",
       "      <th>4</th>\n",
       "      <td>0.928571</td>\n",
       "      <td>0.071429</td>\n",
       "      <td>0.873950</td>\n",
       "      <td>0.061625</td>\n",
       "      <td>0.064426</td>\n",
       "      <td>0.000000</td>\n",
       "      <td>0.846154</td>\n",
       "      <td>0.153846</td>\n",
       "      <td>0.000000</td>\n",
       "      <td>1.000000</td>\n",
       "      <td>...</td>\n",
       "      <td>0.063361</td>\n",
       "      <td>0.000000</td>\n",
       "      <td>0.871508</td>\n",
       "      <td>0.030726</td>\n",
       "      <td>0.033520</td>\n",
       "      <td>0.000000</td>\n",
       "      <td>1.000000</td>\n",
       "      <td>0.000000</td>\n",
       "      <td>0.000000</td>\n",
       "      <td>0.000000</td>\n",
       "    </tr>\n",
       "    <tr>\n",
       "      <th>...</th>\n",
       "      <td>...</td>\n",
       "      <td>...</td>\n",
       "      <td>...</td>\n",
       "      <td>...</td>\n",
       "      <td>...</td>\n",
       "      <td>...</td>\n",
       "      <td>...</td>\n",
       "      <td>...</td>\n",
       "      <td>...</td>\n",
       "      <td>...</td>\n",
       "      <td>...</td>\n",
       "      <td>...</td>\n",
       "      <td>...</td>\n",
       "      <td>...</td>\n",
       "      <td>...</td>\n",
       "      <td>...</td>\n",
       "      <td>...</td>\n",
       "      <td>...</td>\n",
       "      <td>...</td>\n",
       "      <td>...</td>\n",
       "      <td>...</td>\n",
       "    </tr>\n",
       "    <tr>\n",
       "      <th>95</th>\n",
       "      <td>0.904762</td>\n",
       "      <td>0.095238</td>\n",
       "      <td>0.848485</td>\n",
       "      <td>0.053030</td>\n",
       "      <td>0.098485</td>\n",
       "      <td>0.000000</td>\n",
       "      <td>0.789474</td>\n",
       "      <td>0.210526</td>\n",
       "      <td>0.000000</td>\n",
       "      <td>1.000000</td>\n",
       "      <td>...</td>\n",
       "      <td>0.092199</td>\n",
       "      <td>0.000000</td>\n",
       "      <td>0.868217</td>\n",
       "      <td>0.027132</td>\n",
       "      <td>0.038760</td>\n",
       "      <td>0.000000</td>\n",
       "      <td>1.000000</td>\n",
       "      <td>0.000000</td>\n",
       "      <td>0.000000</td>\n",
       "      <td>0.000000</td>\n",
       "    </tr>\n",
       "    <tr>\n",
       "      <th>96</th>\n",
       "      <td>0.933333</td>\n",
       "      <td>0.066667</td>\n",
       "      <td>0.863636</td>\n",
       "      <td>0.081818</td>\n",
       "      <td>0.054545</td>\n",
       "      <td>0.000000</td>\n",
       "      <td>0.857143</td>\n",
       "      <td>0.142857</td>\n",
       "      <td>0.000000</td>\n",
       "      <td>1.000000</td>\n",
       "      <td>...</td>\n",
       "      <td>0.040000</td>\n",
       "      <td>0.000000</td>\n",
       "      <td>0.879630</td>\n",
       "      <td>0.041667</td>\n",
       "      <td>0.018519</td>\n",
       "      <td>0.000000</td>\n",
       "      <td>1.000000</td>\n",
       "      <td>0.000000</td>\n",
       "      <td>0.000000</td>\n",
       "      <td>0.000000</td>\n",
       "    </tr>\n",
       "    <tr>\n",
       "      <th>97</th>\n",
       "      <td>0.944444</td>\n",
       "      <td>0.055556</td>\n",
       "      <td>0.840054</td>\n",
       "      <td>0.102151</td>\n",
       "      <td>0.057796</td>\n",
       "      <td>0.000000</td>\n",
       "      <td>0.882353</td>\n",
       "      <td>0.117647</td>\n",
       "      <td>0.000000</td>\n",
       "      <td>1.000000</td>\n",
       "      <td>...</td>\n",
       "      <td>0.044560</td>\n",
       "      <td>0.000000</td>\n",
       "      <td>0.857339</td>\n",
       "      <td>0.052126</td>\n",
       "      <td>0.019204</td>\n",
       "      <td>0.000000</td>\n",
       "      <td>1.000000</td>\n",
       "      <td>0.000000</td>\n",
       "      <td>0.000000</td>\n",
       "      <td>0.000000</td>\n",
       "    </tr>\n",
       "    <tr>\n",
       "      <th>98</th>\n",
       "      <td>0.911111</td>\n",
       "      <td>0.088889</td>\n",
       "      <td>0.817073</td>\n",
       "      <td>0.089431</td>\n",
       "      <td>0.079946</td>\n",
       "      <td>0.013550</td>\n",
       "      <td>0.823171</td>\n",
       "      <td>0.170732</td>\n",
       "      <td>0.006098</td>\n",
       "      <td>0.875000</td>\n",
       "      <td>...</td>\n",
       "      <td>0.076129</td>\n",
       "      <td>0.012903</td>\n",
       "      <td>0.827160</td>\n",
       "      <td>0.045267</td>\n",
       "      <td>0.038409</td>\n",
       "      <td>0.002743</td>\n",
       "      <td>0.808219</td>\n",
       "      <td>0.136986</td>\n",
       "      <td>0.054795</td>\n",
       "      <td>0.000000</td>\n",
       "    </tr>\n",
       "    <tr>\n",
       "      <th>99</th>\n",
       "      <td>0.857143</td>\n",
       "      <td>0.142857</td>\n",
       "      <td>0.763636</td>\n",
       "      <td>0.103030</td>\n",
       "      <td>0.115152</td>\n",
       "      <td>0.018182</td>\n",
       "      <td>0.733333</td>\n",
       "      <td>0.244444</td>\n",
       "      <td>0.022222</td>\n",
       "      <td>0.733333</td>\n",
       "      <td>...</td>\n",
       "      <td>0.084444</td>\n",
       "      <td>0.013333</td>\n",
       "      <td>0.807692</td>\n",
       "      <td>0.054487</td>\n",
       "      <td>0.035256</td>\n",
       "      <td>0.006410</td>\n",
       "      <td>0.791667</td>\n",
       "      <td>0.125000</td>\n",
       "      <td>0.083333</td>\n",
       "      <td>0.000000</td>\n",
       "    </tr>\n",
       "  </tbody>\n",
       "</table>\n",
       "<p>100 rows × 42 columns</p>\n",
       "</div>"
      ],
      "text/plain": [
       "Order          D                                                              \\\n",
       "Source         0                   1                                       2   \n",
       "Target         2         3         5         8        10        12         7   \n",
       "0       0.942857  0.057143  0.841335  0.098361  0.056792  0.003513  0.883450   \n",
       "1       0.863636  0.136364  0.786642  0.077922  0.120594  0.014842  0.742105   \n",
       "2       0.800000  0.200000  0.716475  0.061303  0.186462  0.035760  0.645833   \n",
       "3       0.892857  0.107143  0.805019  0.084942  0.098456  0.011583  0.800000   \n",
       "4       0.928571  0.071429  0.873950  0.061625  0.064426  0.000000  0.846154   \n",
       "..           ...       ...       ...       ...       ...       ...       ...   \n",
       "95      0.904762  0.095238  0.848485  0.053030  0.098485  0.000000  0.789474   \n",
       "96      0.933333  0.066667  0.863636  0.081818  0.054545  0.000000  0.857143   \n",
       "97      0.944444  0.055556  0.840054  0.102151  0.057796  0.000000  0.882353   \n",
       "98      0.911111  0.088889  0.817073  0.089431  0.079946  0.013550  0.823171   \n",
       "99      0.857143  0.142857  0.763636  0.103030  0.115152  0.018182  0.733333   \n",
       "\n",
       "Order                                 ...         G                      \\\n",
       "Source                             3  ...       1-2                 2-1   \n",
       "Target        11        13        11  ...        10        12         5   \n",
       "0       0.114996  0.001554  0.948718  ...  0.088423  0.005469  0.817871   \n",
       "1       0.242105  0.015789  0.766667  ...  0.140389  0.017279  0.779412   \n",
       "2       0.305556  0.048611  0.611111  ...  0.161863  0.031042  0.773793   \n",
       "3       0.186667  0.013333  0.777778  ...  0.067729  0.007968  0.845842   \n",
       "4       0.153846  0.000000  1.000000  ...  0.063361  0.000000  0.871508   \n",
       "..           ...       ...       ...  ...       ...       ...       ...   \n",
       "95      0.210526  0.000000  1.000000  ...  0.092199  0.000000  0.868217   \n",
       "96      0.142857  0.000000  1.000000  ...  0.040000  0.000000  0.879630   \n",
       "97      0.117647  0.000000  1.000000  ...  0.044560  0.000000  0.857339   \n",
       "98      0.170732  0.006098  0.875000  ...  0.076129  0.012903  0.827160   \n",
       "99      0.244444  0.022222  0.733333  ...  0.084444  0.013333  0.807692   \n",
       "\n",
       "Order                                                                         \n",
       "Source                                     3-3                                \n",
       "Target         8        11        13        10        12        13        14  \n",
       "0       0.047809  0.042117  0.001138  0.906542  0.056075  0.037383  0.000000  \n",
       "1       0.038603  0.063419  0.008272  0.764706  0.094118  0.105882  0.035294  \n",
       "2       0.033103  0.060690  0.019310  0.722772  0.138614  0.138614  0.000000  \n",
       "3       0.044625  0.028398  0.004057  0.836066  0.098361  0.065574  0.000000  \n",
       "4       0.030726  0.033520  0.000000  1.000000  0.000000  0.000000  0.000000  \n",
       "..           ...       ...       ...       ...       ...       ...       ...  \n",
       "95      0.027132  0.038760  0.000000  1.000000  0.000000  0.000000  0.000000  \n",
       "96      0.041667  0.018519  0.000000  1.000000  0.000000  0.000000  0.000000  \n",
       "97      0.052126  0.019204  0.000000  1.000000  0.000000  0.000000  0.000000  \n",
       "98      0.045267  0.038409  0.002743  0.808219  0.136986  0.054795  0.000000  \n",
       "99      0.054487  0.035256  0.006410  0.791667  0.125000  0.083333  0.000000  \n",
       "\n",
       "[100 rows x 42 columns]"
      ]
     },
     "execution_count": 5,
     "metadata": {},
     "output_type": "execute_result"
    }
   ],
   "source": [
    "GCV"
   ]
  },
  {
   "cell_type": "code",
   "execution_count": 21,
   "metadata": {},
   "outputs": [
    {
     "data": {
      "text/plain": [
       "Index(['0', '0', '1', '1', '1', '1', '2', '2', '2', '3', '3', '3', '0-0',\n",
       "       '0-0', '2-1', '2-1', '2-1', '2-1', '1-2', '1-2', '1-2', '3-3', '3-3',\n",
       "       '3-3', '0-0', '0-0', '1-1', '1-1', '1-1', '1-1', '1-2', '1-2', '1-2',\n",
       "       '1-2', '2-1', '2-1', '2-1', '2-1', '3-3', '3-3', '3-3', '3-3'],\n",
       "      dtype='object', name='Source')"
      ]
     },
     "execution_count": 21,
     "metadata": {},
     "output_type": "execute_result"
    }
   ],
   "source": [
    "GCV.columns.droplevel([0,2])"
   ]
  },
  {
   "cell_type": "code",
   "execution_count": 22,
   "metadata": {},
   "outputs": [
    {
     "data": {
      "text/plain": [
       "range(0, -3)"
      ]
     },
     "execution_count": 22,
     "metadata": {},
     "output_type": "execute_result"
    }
   ],
   "source": [
    "range(-3)"
   ]
  },
  {
   "cell_type": "code",
   "execution_count": null,
   "metadata": {},
   "outputs": [],
   "source": []
  }
 ],
 "metadata": {
  "kernelspec": {
   "display_name": "graco",
   "language": "python",
   "name": "graco"
  },
  "language_info": {
   "codemirror_mode": {
    "name": "ipython",
    "version": 3
   },
   "file_extension": ".py",
   "mimetype": "text/x-python",
   "name": "python",
   "nbconvert_exporter": "python",
   "pygments_lexer": "ipython3",
   "version": "3.6.8"
  }
 },
 "nbformat": 4,
 "nbformat_minor": 2
}
