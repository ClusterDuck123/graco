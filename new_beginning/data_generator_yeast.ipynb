{
 "cells": [
  {
   "cell_type": "code",
   "execution_count": 1,
   "metadata": {},
   "outputs": [],
   "source": [
    "from goatools import obo_parser\n",
    "from zipfile import ZipFile\n",
    "\n",
    "import os\n",
    "import gzip\n",
    "import graco\n",
    "import shutil\n",
    "import requests\n",
    "import numpy as np\n",
    "import pandas as pd\n",
    "import networkx as nx\n",
    "import Bio.UniProt.GOA as GOA"
   ]
  },
  {
   "cell_type": "code",
   "execution_count": 2,
   "metadata": {},
   "outputs": [],
   "source": [
    "pd.set_option(\"display.max_columns\", 50)\n",
    "pd.set_option(\"display.max_rows\", 50)\n",
    "\n",
    "DATA_DIRECTORY = \"/media/clusterduck123/joe/data/\"\n",
    "RAW_DATA_DIRECTORY = f\"{DATA_DIRECTORY}/raw-data\"\n",
    "YEAST_DIRECTORY = f\"{DATA_DIRECTORY}/processed-data/yeast\"\n",
    "NETWORK_DIRECTORY = f\"{YEAST_DIRECTORY}/networks\"\n",
    "ANNOTATION_DIRECTORY = f\"{YEAST_DIRECTORY}/annotations\""
   ]
  },
  {
   "cell_type": "markdown",
   "metadata": {},
   "source": [
    "# Downloads"
   ]
  },
  {
   "cell_type": "markdown",
   "metadata": {},
   "source": [
    "## BioGRID"
   ]
  },
  {
   "cell_type": "code",
   "execution_count": 3,
   "metadata": {},
   "outputs": [],
   "source": [
    "if not os.path.exists(RAW_DATA_DIRECTORY):\n",
    "     os.makedirs(directory)\n",
    "\n",
    "VERSION = \"3.5.178\"\n",
    "BioGRID_FILENAME = f\"BIOGRID-ORGANISM-{VERSION}.tab2.zip\"\n",
    "BioGRID_URL = f\"https://downloads.thebiogrid.org/Download/BioGRID/Release-Archive/BIOGRID-{VERSION}\"\n",
    "BioGRID_FILEPATH = f\"{RAW_DATA_DIRECTORY}/{BioGRID_FILENAME}\" "
   ]
  },
  {
   "cell_type": "code",
   "execution_count": 6,
   "metadata": {},
   "outputs": [],
   "source": [
    "# Download\n",
    "r = requests.get(f\"{BioGRID_URL}/{BioGRID_FILENAME}\", allow_redirects=True)\n",
    "with open(BioGRID_FILEPATH, 'wb') as f:\n",
    "    f.write(r.content)"
   ]
  },
  {
   "cell_type": "markdown",
   "metadata": {},
   "source": [
    "### select yeast"
   ]
  },
  {
   "cell_type": "code",
   "execution_count": 7,
   "metadata": {},
   "outputs": [],
   "source": [
    "# Unzip Saccharomyces cerevisiae file\n",
    "with ZipFile(BioGRID_FILEPATH, 'r') as z:\n",
    "    BioGRID_sc_FILENAME, = [name for name in z.namelist() if 'cerevisiae' in name.lower()]\n",
    "    z.extract(BioGRID_sc_FILENAME, RAW_DATA_DIRECTORY)"
   ]
  },
  {
   "cell_type": "markdown",
   "metadata": {},
   "source": [
    "### SGD annotations"
   ]
  },
  {
   "cell_type": "code",
   "execution_count": 8,
   "metadata": {},
   "outputs": [],
   "source": [
    "SGD_FILENAME = \"sgd.gaf.gz\"\n",
    "SGD_URL = \"http://current.geneontology.org/annotations\"\n",
    "SGD_FILEPATH = f\"{RAW_DATA_DIRECTORY}/{SGD_FILENAME}\""
   ]
  },
  {
   "cell_type": "code",
   "execution_count": 9,
   "metadata": {},
   "outputs": [],
   "source": [
    "# Download\n",
    "r = requests.get(f\"{SGD_URL}/{SGD_FILENAME}\", allow_redirects=True)\n",
    "with open(SGD_FILEPATH, 'wb') as f:\n",
    "    f.write(r.content)"
   ]
  },
  {
   "cell_type": "markdown",
   "metadata": {},
   "source": [
    "### GO"
   ]
  },
  {
   "cell_type": "code",
   "execution_count": 10,
   "metadata": {},
   "outputs": [],
   "source": [
    "GO_FILENAME = \"go-basic.obo\"\n",
    "GO_URL = \"http://purl.obolibrary.org/obo/go\"\n",
    "GO_FILEPATH = f\"{RAW_DATA_DIRECTORY}/{GO_FILENAME}\""
   ]
  },
  {
   "cell_type": "code",
   "execution_count": 11,
   "metadata": {},
   "outputs": [],
   "source": [
    "# Download\n",
    "r = requests.get(f\"{GO_URL}/{GO_FILENAME}\", allow_redirects=True)\n",
    "with open(GO_FILEPATH, 'wb') as f:\n",
    "    f.write(r.content)"
   ]
  },
  {
   "cell_type": "markdown",
   "metadata": {},
   "source": [
    "## DEG"
   ]
  },
  {
   "cell_type": "code",
   "execution_count": 3,
   "metadata": {},
   "outputs": [],
   "source": [
    "DEG_FILENAME = \"deg-e-15.2.zip\"\n",
    "DEG_URL = f\"http://origin.tubic.org/deg/public/static/download/{DEG_FILENAME}\"\n",
    "DEG_FILEPATH = f\"{RAW_DATA_DIRECTORY}/{DEG_FILENAME}\""
   ]
  },
  {
   "cell_type": "code",
   "execution_count": 4,
   "metadata": {},
   "outputs": [],
   "source": [
    "# Download\n",
    "r = requests.get(f\"{DEG_URL}\", allow_redirects=True)\n",
    "with open(DEG_FILEPATH, 'wb') as f:\n",
    "    f.write(r.content)"
   ]
  },
  {
   "cell_type": "markdown",
   "metadata": {},
   "source": [
    "### select annotations"
   ]
  },
  {
   "cell_type": "code",
   "execution_count": 5,
   "metadata": {},
   "outputs": [],
   "source": [
    "# Unzip Saccharomyces cerevisiae file\n",
    "with ZipFile(DEG_FILEPATH, 'r') as z:\n",
    "    DEG_ANN_FILENAME, = ['degannotation-e.dat']\n",
    "    z.extract(DEG_ANN_FILENAME, RAW_DATA_DIRECTORY)"
   ]
  },
  {
   "cell_type": "markdown",
   "metadata": {},
   "source": [
    "# BioGRID PPI"
   ]
  },
  {
   "cell_type": "markdown",
   "metadata": {},
   "source": [
    "### Define interactor universes"
   ]
  },
  {
   "cell_type": "code",
   "execution_count": 4,
   "metadata": {},
   "outputs": [],
   "source": [
    "VERSION = \"3.5.178\"\n",
    "\n",
    "# load BioGRID file as dataframe\n",
    "organism_FILENAME = f\"BIOGRID-ORGANISM-Saccharomyces_cerevisiae_S288c-{VERSION}.tab2.txt\"\n",
    "organism_FILEPATH = f\"{RAW_DATA_DIRECTORY}/{organism_FILENAME}\"\n",
    "\n",
    "# remove entrez ids and scores because of mixed datatypes \n",
    "BioGRID_df = pd.read_csv(organism_FILEPATH, delimiter='\\t',\n",
    "                           usecols=[index for index in range(24) if index not in {1,2,18}])"
   ]
  },
  {
   "cell_type": "code",
   "execution_count": 5,
   "metadata": {},
   "outputs": [],
   "source": [
    "# BioGRID universe is the collection of every gene known to BioGRID\n",
    "universe = set(BioGRID_df['BioGRID ID Interactor A']) | \\\n",
    "           set(BioGRID_df['BioGRID ID Interactor B'])\n",
    "\n",
    "systematic_universe = set(BioGRID_df['Systematic Name Interactor A']) | \\\n",
    "                      set(BioGRID_df['Systematic Name Interactor B'])\n",
    "systematic_universe.remove('-')"
   ]
  },
  {
   "cell_type": "code",
   "execution_count": 6,
   "metadata": {},
   "outputs": [],
   "source": [
    "# Filter for (reliable) physical interactions\n",
    "EXPERIMENTAL_SYSTEM = {'Two-hybrid', \n",
    "                       'Affinity Capture-Luminescence',\n",
    "                       'Affinity Capture-MS', \n",
    "                       'Affinity Capture-RNA', \n",
    "                       'Affinity Capture-Western'}\n",
    "EXPERIMENTAL_SYSTEM_TYPE = {'physical'} # redundant because of experimental evidence filtering\n",
    "\n",
    "physical_interaction_df = BioGRID_df[BioGRID_df['Experimental System'].isin(EXPERIMENTAL_SYSTEM)]\n",
    "physical_interaction_df = physical_interaction_df[\n",
    "    physical_interaction_df['Experimental System Type'].isin(EXPERIMENTAL_SYSTEM_TYPE)] # just in case...\n",
    "\n",
    "\n",
    "physical_universe = set(physical_interaction_df['BioGRID ID Interactor A']) | \\\n",
    "                    set(physical_interaction_df['BioGRID ID Interactor B'])\n",
    "\n",
    "systematic_physical_universe = set(physical_interaction_df['Systematic Name Interactor A']) | \\\n",
    "                                       set(physical_interaction_df['Systematic Name Interactor B'])\n",
    "systematic_physical_universe.remove('-')"
   ]
  },
  {
   "cell_type": "markdown",
   "metadata": {},
   "source": [
    "### Define PPI"
   ]
  },
  {
   "cell_type": "code",
   "execution_count": 7,
   "metadata": {},
   "outputs": [],
   "source": [
    "# PPI in dataframe\n",
    "PPI_df = physical_interaction_df[\n",
    "    physical_interaction_df[\"Systematic Name Interactor A\"].str.startswith('Y') & \\\n",
    "    physical_interaction_df[\"Systematic Name Interactor B\"].str.startswith('Y')]\n",
    "\n",
    "PPI_universe = set(PPI_df['Systematic Name Interactor A']) | \\\n",
    "               set(PPI_df['Systematic Name Interactor B'])"
   ]
  },
  {
   "cell_type": "code",
   "execution_count": 8,
   "metadata": {},
   "outputs": [],
   "source": [
    "# Reduce PPI to simple network\n",
    "PPI_nx = nx.from_pandas_edgelist(PPI_df,'Systematic Name Interactor A', 'Systematic Name Interactor B')\n",
    "PPI_nx.remove_edges_from(nx.selfloop_edges(PPI_nx))"
   ]
  },
  {
   "cell_type": "markdown",
   "metadata": {},
   "source": [
    "### Summary"
   ]
  },
  {
   "cell_type": "code",
   "execution_count": 9,
   "metadata": {},
   "outputs": [
    {
     "name": "stdout",
     "output_type": "stream",
     "text": [
      "BioGRID universe sizes:\n",
      "=========================\n",
      "    -         -    : 7175\n",
      "systematic    -    : 6538\n",
      "    -      physical: 6553\n",
      "systematic physical: 6123\n",
      "-------------------------\n",
      "PPI population size: 5726\n"
     ]
    }
   ],
   "source": [
    "print(\"BioGRID universe sizes:\")\n",
    "print(\"=========================\")\n",
    "print(f\"    -         -    : {len(universe)}\")\n",
    "print(f\"systematic    -    : {len(systematic_universe)}\")\n",
    "print(f\"    -      physical: {len(physical_universe)}\")\n",
    "print(f\"systematic physical: {len(systematic_physical_universe)}\")\n",
    "print(\"-------------------------\")\n",
    "print(f\"PPI population size: {PPI_nx.number_of_nodes()}\")"
   ]
  },
  {
   "cell_type": "markdown",
   "metadata": {},
   "source": [
    "### Save"
   ]
  },
  {
   "cell_type": "code",
   "execution_count": 10,
   "metadata": {},
   "outputs": [],
   "source": [
    "if not os.path.exists(NETWORK_DIRECTORY):\n",
    "    os.makedirs(NETWORK_DIRECTORY)\n",
    "\n",
    "nx.write_edgelist(PPI_nx, f\"{NETWORK_DIRECTORY}/PPI_BioGRID.txt\", data=False)"
   ]
  },
  {
   "cell_type": "markdown",
   "metadata": {},
   "source": [
    "# BioGRID PPI (official)"
   ]
  },
  {
   "cell_type": "code",
   "execution_count": 6,
   "metadata": {},
   "outputs": [],
   "source": [
    "VERSION = \"3.5.178\"\n",
    "\n",
    "# load BioGRID file as dataframe\n",
    "organism_FILENAME = f\"BIOGRID-ORGANISM-Saccharomyces_cerevisiae_S288c-{VERSION}.tab2.txt\"\n",
    "organism_FILEPATH = f\"{RAW_DATA_DIRECTORY}/{organism_FILENAME}\"\n",
    "\n",
    "# remove entrez ids and scores because of mixed datatypes \n",
    "BioGRID_df = pd.read_csv(organism_FILEPATH, delimiter='\\t',\n",
    "                           usecols=[index for index in range(24) if index not in {1,2,18}])"
   ]
  },
  {
   "cell_type": "code",
   "execution_count": 7,
   "metadata": {},
   "outputs": [],
   "source": [
    "# BioGRID universe is the collection of every gene known to BioGRID\n",
    "universe = set(BioGRID_df['BioGRID ID Interactor A']) | \\\n",
    "           set(BioGRID_df['BioGRID ID Interactor B'])\n",
    "\n",
    "official_universe = set(BioGRID_df['Official Symbol Interactor A']) | \\\n",
    "                    set(BioGRID_df['Official Symbol Interactor B'])"
   ]
  },
  {
   "cell_type": "code",
   "execution_count": 8,
   "metadata": {},
   "outputs": [],
   "source": [
    "# Filter for (reliable) physical interactions\n",
    "EXPERIMENTAL_SYSTEM = {'Two-hybrid', \n",
    "                       'Affinity Capture-Luminescence',\n",
    "                       'Affinity Capture-MS', \n",
    "                       'Affinity Capture-RNA', \n",
    "                       'Affinity Capture-Western'}\n",
    "EXPERIMENTAL_SYSTEM_TYPE = {'physical'} # redundant because of experimental evidence filtering\n",
    "\n",
    "physical_interaction_df = BioGRID_df[BioGRID_df['Experimental System'].isin(EXPERIMENTAL_SYSTEM)]\n",
    "physical_interaction_df = physical_interaction_df[\n",
    "    physical_interaction_df['Experimental System Type'].isin(EXPERIMENTAL_SYSTEM_TYPE)] # just in case...\n",
    "\n",
    "\n",
    "physical_universe = set(physical_interaction_df['BioGRID ID Interactor A']) | \\\n",
    "                    set(physical_interaction_df['BioGRID ID Interactor B'])\n",
    "\n",
    "official_physical_universe = set(physical_interaction_df['Official Symbol Interactor A']) | \\\n",
    "                             set(physical_interaction_df['Official Symbol Interactor B'])"
   ]
  },
  {
   "cell_type": "markdown",
   "metadata": {},
   "source": [
    "### Define PPI"
   ]
  },
  {
   "cell_type": "code",
   "execution_count": 9,
   "metadata": {},
   "outputs": [],
   "source": [
    "# PPI in dataframe\n",
    "PPI_df = physical_interaction_df\n",
    "\n",
    "PPI_universe = set(PPI_df['Official Symbol Interactor A']) | \\\n",
    "               set(PPI_df['Official Symbol Interactor B'])"
   ]
  },
  {
   "cell_type": "code",
   "execution_count": 10,
   "metadata": {},
   "outputs": [],
   "source": [
    "# Reduce PPI to simple network\n",
    "PPI_nx = nx.from_pandas_edgelist(PPI_df,'Official Symbol Interactor A', 'Official Symbol Interactor B')\n",
    "PPI_nx.remove_edges_from(nx.selfloop_edges(PPI_nx))"
   ]
  },
  {
   "cell_type": "markdown",
   "metadata": {},
   "source": [
    "### Summary"
   ]
  },
  {
   "cell_type": "code",
   "execution_count": 11,
   "metadata": {},
   "outputs": [
    {
     "name": "stdout",
     "output_type": "stream",
     "text": [
      "BioGRID universe sizes:\n",
      "=========================\n",
      "    -       -    : 7175\n",
      "official    -    : 7091\n",
      "    -    physical: 6553\n",
      "official physical: 6502\n",
      "-------------------------\n",
      "PPI population size: 6502\n"
     ]
    }
   ],
   "source": [
    "print(\"BioGRID universe sizes:\")\n",
    "print(\"=========================\")\n",
    "print(f\"    -       -    : {len(universe)}\")\n",
    "print(f\"official    -    : {len(official_universe)}\")\n",
    "print(f\"    -    physical: {len(physical_universe)}\")\n",
    "print(f\"official physical: {len(official_physical_universe)}\")\n",
    "print(\"-------------------------\")\n",
    "print(f\"PPI population size: {PPI_nx.number_of_nodes()}\")"
   ]
  },
  {
   "cell_type": "markdown",
   "metadata": {},
   "source": [
    "### Save"
   ]
  },
  {
   "cell_type": "code",
   "execution_count": 12,
   "metadata": {},
   "outputs": [],
   "source": [
    "if not os.path.exists(NETWORK_DIRECTORY):\n",
    "    os.makedirs(NETWORK_DIRECTORY)\n",
    "\n",
    "nx.write_edgelist(PPI_nx, f\"{NETWORK_DIRECTORY}/PPI_BioGRID_official.txt\", data=False)"
   ]
  },
  {
   "cell_type": "markdown",
   "metadata": {},
   "source": [
    "# Annotations"
   ]
  },
  {
   "cell_type": "markdown",
   "metadata": {},
   "source": [
    "## SGD (S. cerevisiae)"
   ]
  },
  {
   "cell_type": "code",
   "execution_count": 11,
   "metadata": {},
   "outputs": [],
   "source": [
    "SGD_FILENAME = \"sgd.gaf.gz\"\n",
    "SGD_FILEPATH = f\"{RAW_DATA_DIRECTORY}/{SGD_FILENAME}\"\n",
    "\n",
    "# load SGD gaf-file as dataframe \n",
    "with gzip.open(SGD_FILEPATH, 'rt') as gz:\n",
    "    SGD_df = pd.DataFrame(annotation for annotation in GOA.gafiterator(gz))\n",
    "    \n",
    "# Define column with systematic gene names. In SGD this is always the first synonym.\n",
    "SGD_df['Systematic_ID']  = SGD_df.Synonym.apply(lambda list_:list_[0])"
   ]
  },
  {
   "cell_type": "code",
   "execution_count": 12,
   "metadata": {},
   "outputs": [],
   "source": [
    "# Filter for proteins\n",
    "lc_protein_gaf_df = SGD_df[SGD_df['Systematic_ID'].str.startswith('Y')]\n",
    "\n",
    "# Filter through evidence code\n",
    "protein_gaf_df = lc_protein_gaf_df[lc_protein_gaf_df['Evidence'].isin(['EXP', 'IDA', 'IPI', 'IMP', 'IGI', 'IEP'])]\n",
    "\n",
    "# Split into the three GOs\n",
    "protein_BP_gaf_df = protein_gaf_df[protein_gaf_df['Aspect']=='P']\n",
    "protein_MF_gaf_df = protein_gaf_df[protein_gaf_df['Aspect']=='F']\n",
    "protein_CC_gaf_df = protein_gaf_df[protein_gaf_df['Aspect']=='C']"
   ]
  },
  {
   "cell_type": "code",
   "execution_count": 13,
   "metadata": {},
   "outputs": [],
   "source": [
    "# Get rid of all unnecesarry columns in the GAFs\n",
    "high_IC_annotations_df = protein_gaf_df[['Systematic_ID', 'GO_ID']].dropna().drop_duplicates()\n",
    "\n",
    "# Split into the three GOs\n",
    "high_IC_BP_annotations_df = protein_BP_gaf_df[['Systematic_ID', 'GO_ID']].dropna().drop_duplicates()\n",
    "high_IC_MF_annotations_df = protein_MF_gaf_df[['Systematic_ID', 'GO_ID']].dropna().drop_duplicates()\n",
    "high_IC_CC_annotations_df = protein_CC_gaf_df[['Systematic_ID', 'GO_ID']].dropna().drop_duplicates()"
   ]
  },
  {
   "cell_type": "markdown",
   "metadata": {},
   "source": [
    "### GO DAG extention (Yeast2GO)"
   ]
  },
  {
   "cell_type": "code",
   "execution_count": 14,
   "metadata": {},
   "outputs": [
    {
     "name": "stdout",
     "output_type": "stream",
     "text": [
      "/home/clusterduck123/Desktop/git/supplements/data/raw-data/go-basic.obo: fmt(1.2) rel(2019-10-07) 47,285 GO Terms\n"
     ]
    }
   ],
   "source": [
    "# Load obo and gaf files\n",
    "GO_FILENAME = \"go-basic.obo\"\n",
    "GO_FILEPATH = f\"{RAW_DATA_DIRECTORY}/{GO_FILENAME}\"\n",
    "\n",
    "# Create annotations with all upstream terms in dict\n",
    "go_dag = obo_parser.GODag(GO_FILEPATH)\n",
    "go2parents = {go_id:{*go_dag[go_id].get_all_parents(), go_id} for go_id in go_dag.keys()}"
   ]
  },
  {
   "cell_type": "code",
   "execution_count": 15,
   "metadata": {},
   "outputs": [],
   "source": [
    "# Create full list/dataframe of annotations\n",
    "all_annotations_list = [(gene_id, go_term, go_dag[go_term].level) \n",
    "                                for _, (gene_id, go_id) in high_IC_annotations_df.iterrows()\n",
    "                                    for go_term in go2parents[go_id]]\n",
    "all_annotations_df = pd.DataFrame(\n",
    "                            all_annotations_list,  \n",
    "                            columns = ['Systematic_ID', 'GO_ID', 'Level']).drop_duplicates()\n",
    "\n",
    "# Split into the three GOs\n",
    "all_BP_annotations_list = [entry for entry in all_annotations_list \n",
    "                               if go_dag[entry[1]].namespace == \"biological_process\"]\n",
    "all_MF_annotations_list = [entry for entry in all_annotations_list \n",
    "                               if go_dag[entry[1]].namespace == \"molecular_function\"]\n",
    "all_CC_annotations_list = [entry for entry in all_annotations_list \n",
    "                               if go_dag[entry[1]].namespace == \"cellular_component\"]\n",
    "\n",
    "all_BP_annotations_df = pd.DataFrame(\n",
    "                            all_BP_annotations_list,  \n",
    "                            columns = ['Systematic_ID', 'GO_ID', 'Level']).drop_duplicates()\n",
    "all_MF_annotations_df = pd.DataFrame(\n",
    "                            all_MF_annotations_list,  \n",
    "                            columns = ['Systematic_ID', 'GO_ID', 'Level']).drop_duplicates()\n",
    "all_CC_annotations_df = pd.DataFrame(\n",
    "                            all_CC_annotations_list,  \n",
    "                            columns = ['Systematic_ID', 'GO_ID', 'Level']).drop_duplicates()"
   ]
  },
  {
   "cell_type": "markdown",
   "metadata": {},
   "source": [
    "### Summary"
   ]
  },
  {
   "cell_type": "code",
   "execution_count": 16,
   "metadata": {},
   "outputs": [
    {
     "name": "stdout",
     "output_type": "stream",
     "text": [
      "SGD universe sizes:\n",
      "============================================\n",
      "Biological Process : 4532 genes, 4662 GO-IDs \n",
      "Molecular Functions: 3564 genes, 2105 GO-IDs \n",
      "Cellular Components: 4013 genes, 904  GO-IDs \n",
      "--------------------------------------------\n",
      "All annotations    : 4967 genes, 7671 GO-IDs \n"
     ]
    }
   ],
   "source": [
    "print(\"SGD universe sizes:\")\n",
    "print(\"============================================\")\n",
    "print(\"Biological Process : \" \n",
    "    f\"{len(set(map(lambda x:x[0],all_BP_annotations_list)))} genes, \"\n",
    "    f\"{len(set(map(lambda x:x[1],all_BP_annotations_list)))} GO-IDs \")\n",
    "print(\"Molecular Functions: \" \n",
    "    f\"{len(set(map(lambda x:x[0],all_MF_annotations_list)))} genes, \"\n",
    "    f\"{len(set(map(lambda x:x[1],all_MF_annotations_list)))} GO-IDs \")\n",
    "print(\"Cellular Components: \" \n",
    "    f\"{len(set(map(lambda x:x[0],all_CC_annotations_list)))} genes, \"\n",
    "    f\"{len(set(map(lambda x:x[1],all_CC_annotations_list)))}  GO-IDs \")\n",
    "print('--------------------------------------------')\n",
    "print(\"All annotations    : \" \n",
    "    f\"{len(set(map(lambda x:x[0],all_annotations_list)))} genes, \"\n",
    "    f\"{len(set(map(lambda x:x[1],all_annotations_list)))} GO-IDs \")"
   ]
  },
  {
   "cell_type": "markdown",
   "metadata": {},
   "source": [
    "### Save"
   ]
  },
  {
   "cell_type": "code",
   "execution_count": 17,
   "metadata": {},
   "outputs": [],
   "source": [
    "if not os.path.exists(ANNOTATION_DIRECTORY):\n",
    "    os.makedirs(ANNOTATION_DIRECTORY)\n",
    "\n",
    "all_annotations_df.to_csv(f\"{ANNOTATION_DIRECTORY}/GO_all_SGD.csv\", index=False)\n",
    "\n",
    "all_BP_annotations_df.to_csv(f\"{ANNOTATION_DIRECTORY}/GO_BP_SGD.csv\", index=False)\n",
    "all_MF_annotations_df.to_csv(f\"{ANNOTATION_DIRECTORY}/GO_MF_SGD.csv\", index=False)\n",
    "all_CC_annotations_df.to_csv(f\"{ANNOTATION_DIRECTORY}/GO_CC_SGD.csv\", index=False)"
   ]
  },
  {
   "cell_type": "markdown",
   "metadata": {},
   "source": [
    "## BioGRID $\\cap$ SGD"
   ]
  },
  {
   "cell_type": "code",
   "execution_count": 18,
   "metadata": {},
   "outputs": [],
   "source": [
    "PPI_nx = nx.read_edgelist(f\"{NETWORK_DIRECTORY}/PPI_BioGRID.txt\")\n",
    "\n",
    "all_annotations_df = pd.read_csv(f\"{ANNOTATION_DIRECTORY}/GO_all_SGD.csv\")\n",
    "\n",
    "all_BP_annotations_df = pd.read_csv(f\"{ANNOTATION_DIRECTORY}/GO_BP_SGD.csv\")\n",
    "all_MF_annotations_df = pd.read_csv(f\"{ANNOTATION_DIRECTORY}/GO_MF_SGD.csv\")\n",
    "all_CC_annotations_df = pd.read_csv(f\"{ANNOTATION_DIRECTORY}/GO_CC_SGD.csv\")"
   ]
  },
  {
   "cell_type": "code",
   "execution_count": 19,
   "metadata": {},
   "outputs": [],
   "source": [
    "PPI_annotations_df = all_annotations_df[all_annotations_df.Systematic_ID.isin(PPI_nx.nodes)]\n",
    "\n",
    "PPI_BP_annotations_df = all_BP_annotations_df[all_BP_annotations_df.Systematic_ID.isin(PPI_nx.nodes)]\n",
    "PPI_MF_annotations_df = all_MF_annotations_df[all_MF_annotations_df.Systematic_ID.isin(PPI_nx.nodes)]\n",
    "PPI_CC_annotations_df = all_CC_annotations_df[all_CC_annotations_df.Systematic_ID.isin(PPI_nx.nodes)]"
   ]
  },
  {
   "cell_type": "markdown",
   "metadata": {},
   "source": [
    "### Summary"
   ]
  },
  {
   "cell_type": "code",
   "execution_count": 20,
   "metadata": {},
   "outputs": [
    {
     "name": "stdout",
     "output_type": "stream",
     "text": [
      "SGD ∩ BioGRID universe sizes:\n",
      "============================================\n",
      "Biological Process : 4496 genes, 4658 GO-IDs \n",
      "Molecular Functions: 3537 genes, 2097 GO-IDs \n",
      "Cellular Components: 3993 genes, 904  GO-IDs \n",
      "--------------------------------------------\n",
      "All annotations    : 4923 genes, 7659 GO-IDs \n"
     ]
    }
   ],
   "source": [
    "print(r\"SGD ∩ BioGRID universe sizes:\")\n",
    "print(\"============================================\")\n",
    "print(\"Biological Process : \" \n",
    "    f\"{len(set(PPI_BP_annotations_df.Systematic_ID))} genes, \"\n",
    "    f\"{len(set(PPI_BP_annotations_df.GO_ID))} GO-IDs \")\n",
    "print(\"Molecular Functions: \" \n",
    "    f\"{len(set(PPI_MF_annotations_df.Systematic_ID))} genes, \"\n",
    "    f\"{len(set(PPI_MF_annotations_df.GO_ID))} GO-IDs \")\n",
    "print(\"Cellular Components: \" \n",
    "    f\"{len(set(PPI_CC_annotations_df.Systematic_ID))} genes, \"\n",
    "    f\"{len(set(PPI_CC_annotations_df.GO_ID))}  GO-IDs \")\n",
    "print('--------------------------------------------')\n",
    "print(\"All annotations    : \" \n",
    "    f\"{len(set(PPI_annotations_df.Systematic_ID))} genes, \"\n",
    "    f\"{len(set(PPI_annotations_df.GO_ID))} GO-IDs \")"
   ]
  },
  {
   "cell_type": "markdown",
   "metadata": {},
   "source": [
    "### Save"
   ]
  },
  {
   "cell_type": "code",
   "execution_count": 21,
   "metadata": {},
   "outputs": [],
   "source": [
    "PPI_annotations_df.to_csv(f\"{ANNOTATION_DIRECTORY}/GO_all_BioGRID-SGD.csv\", index=False)\n",
    "\n",
    "PPI_BP_annotations_df.to_csv(f\"{ANNOTATION_DIRECTORY}/GO_BP_BioGRID-SGD.csv\", index=False)\n",
    "PPI_MF_annotations_df.to_csv(f\"{ANNOTATION_DIRECTORY}/GO_MF_BioGRID-SGD.csv\", index=False)\n",
    "PPI_CC_annotations_df.to_csv(f\"{ANNOTATION_DIRECTORY}/GO_CC_BioGRID-SGD.csv\", index=False)"
   ]
  }
 ],
 "metadata": {
  "kernelspec": {
   "display_name": "graco",
   "language": "python",
   "name": "graco"
  },
  "language_info": {
   "codemirror_mode": {
    "name": "ipython",
    "version": 3
   },
   "file_extension": ".py",
   "mimetype": "text/x-python",
   "name": "python",
   "nbconvert_exporter": "python",
   "pygments_lexer": "ipython3",
   "version": "3.6.8"
  }
 },
 "nbformat": 4,
 "nbformat_minor": 2
}
