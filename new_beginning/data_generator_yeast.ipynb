{
 "cells": [
  {
   "cell_type": "code",
   "execution_count": 1,
   "metadata": {},
   "outputs": [],
   "source": [
    "from goatools import obo_parser\n",
    "from zipfile import ZipFile\n",
    "\n",
    "import os\n",
    "import gzip\n",
    "import graco\n",
    "import shutil\n",
    "import requests\n",
    "import numpy as np\n",
    "import pandas as pd\n",
    "import networkx as nx\n",
    "import Bio.UniProt.GOA as GOA"
   ]
  },
  {
   "cell_type": "code",
   "execution_count": 2,
   "metadata": {},
   "outputs": [],
   "source": [
    "pd.set_option(\"display.max_columns\", 50)\n",
    "pd.set_option(\"display.max_rows\", 50)\n",
    "\n",
    "DATA_DIRECTORY = \"/media/clusterduck123/joe/data/\"\n",
    "RAW_DATA_DIRECTORY = f\"{DATA_DIRECTORY}/raw_data\"\n",
    "YEAST_DIRECTORY = f\"{DATA_DIRECTORY}/processed_data/yeast\"\n",
    "NETWORK_DIRECTORY = f\"{YEAST_DIRECTORY}/networks\"\n",
    "ANNOTATION_DIRECTORY = f\"{YEAST_DIRECTORY}/annotations\""
   ]
  },
  {
   "cell_type": "markdown",
   "metadata": {},
   "source": [
    "# Downloads"
   ]
  },
  {
   "cell_type": "markdown",
   "metadata": {},
   "source": [
    "## COEXPRESdb"
   ]
  },
  {
   "cell_type": "code",
   "execution_count": 3,
   "metadata": {},
   "outputs": [],
   "source": [
    "if not os.path.exists(RAW_DATA_DIRECTORY):\n",
    "     os.makedirs(directory)\n",
    "\n",
    "COEXPRESdb_FILENAME = f\"Sce-u.v18-11.G5879-S4798.combat_pca_subagging.mrgeo.d.zip\"\n",
    "COEXPRESdb_URL = f\"https://coxpresdb.jp/download/Sce-u.c2-0/coex/\"\n",
    "COEXPRESdb_FILEPATH = f\"{RAW_DATA_DIRECTORY}/{COEXPRESdb_FILENAME}\" "
   ]
  },
  {
   "cell_type": "code",
   "execution_count": 4,
   "metadata": {},
   "outputs": [],
   "source": [
    "# Download\n",
    "r = requests.get(f\"{COEXPRESdb_URL}\", allow_redirects=True)\n",
    "with open(COEXPRESdb_FILEPATH, 'wb') as f:\n",
    "    f.write(r.content)"
   ]
  },
  {
   "cell_type": "code",
   "execution_count": 8,
   "metadata": {},
   "outputs": [],
   "source": [
    "# Unzip folder\n",
    "\n",
    "COEXPRESdb_FOLDER = \"Sce-u.v18-11.G5879-S4798.combat_pca_subagging.mrgeo.d\"\n",
    "with ZipFile(COEXPRESdb_FILEPATH, 'r') as z:\n",
    "    z.extractall(RAW_DATA_DIRECTORY)"
   ]
  },
  {
   "cell_type": "markdown",
   "metadata": {},
   "source": [
    "## BioGRID"
   ]
  },
  {
   "cell_type": "code",
   "execution_count": 3,
   "metadata": {},
   "outputs": [],
   "source": [
    "if not os.path.exists(RAW_DATA_DIRECTORY):\n",
    "     os.makedirs(directory)\n",
    "\n",
    "VERSION = \"3.5.181\"\n",
    "BioGRID_FILENAME = f\"BIOGRID-ORGANISM-{VERSION}.tab2.zip\"\n",
    "BioGRID_URL = f\"https://downloads.thebiogrid.org/Download/BioGRID/Release-Archive/BIOGRID-{VERSION}\"\n",
    "BioGRID_FILEPATH = f\"{RAW_DATA_DIRECTORY}/{BioGRID_FILENAME}\" "
   ]
  },
  {
   "cell_type": "code",
   "execution_count": 4,
   "metadata": {},
   "outputs": [],
   "source": [
    "# Download\n",
    "r = requests.get(f\"{BioGRID_URL}/{BioGRID_FILENAME}\", allow_redirects=True)\n",
    "with open(BioGRID_FILEPATH, 'wb') as f:\n",
    "    f.write(r.content)"
   ]
  },
  {
   "cell_type": "markdown",
   "metadata": {},
   "source": [
    "### select yeast"
   ]
  },
  {
   "cell_type": "code",
   "execution_count": 5,
   "metadata": {},
   "outputs": [],
   "source": [
    "# Unzip Saccharomyces cerevisiae file\n",
    "with ZipFile(BioGRID_FILEPATH, 'r') as z:\n",
    "    BioGRID_sc_FILENAME, = [name for name in z.namelist() if 'cerevisiae' in name.lower()]\n",
    "    z.extract(BioGRID_sc_FILENAME, RAW_DATA_DIRECTORY)"
   ]
  },
  {
   "cell_type": "markdown",
   "metadata": {},
   "source": [
    "## SGD annotations"
   ]
  },
  {
   "cell_type": "code",
   "execution_count": 6,
   "metadata": {},
   "outputs": [],
   "source": [
    "SGD_FILENAME = \"sgd.gaf.gz\"\n",
    "SGD_URL = \"http://current.geneontology.org/annotations\"\n",
    "SGD_FILEPATH = f\"{RAW_DATA_DIRECTORY}/{SGD_FILENAME}\""
   ]
  },
  {
   "cell_type": "code",
   "execution_count": 7,
   "metadata": {},
   "outputs": [],
   "source": [
    "# Download\n",
    "r = requests.get(f\"{SGD_URL}/{SGD_FILENAME}\", allow_redirects=True)\n",
    "with open(SGD_FILEPATH, 'wb') as f:\n",
    "    f.write(r.content)"
   ]
  },
  {
   "cell_type": "markdown",
   "metadata": {},
   "source": [
    "## GO basic"
   ]
  },
  {
   "cell_type": "code",
   "execution_count": 10,
   "metadata": {},
   "outputs": [],
   "source": [
    "GO_FILENAME = \"go-basic.obo\"\n",
    "GO_URL = \"http://purl.obolibrary.org/obo/go\"\n",
    "GO_FILEPATH = f\"{RAW_DATA_DIRECTORY}/{GO_FILENAME}\""
   ]
  },
  {
   "cell_type": "code",
   "execution_count": 11,
   "metadata": {},
   "outputs": [],
   "source": [
    "# Download\n",
    "r = requests.get(f\"{GO_URL}/{GO_FILENAME}\", allow_redirects=True)\n",
    "with open(GO_FILEPATH, 'wb') as f:\n",
    "    f.write(r.content)"
   ]
  },
  {
   "cell_type": "markdown",
   "metadata": {},
   "source": [
    "## DEG"
   ]
  },
  {
   "cell_type": "code",
   "execution_count": 3,
   "metadata": {},
   "outputs": [],
   "source": [
    "DEG_FILENAME = \"deg-e-15.2.zip\"\n",
    "DEG_URL = f\"http://origin.tubic.org/deg/public/static/download/{DEG_FILENAME}\"\n",
    "DEG_FILEPATH = f\"{RAW_DATA_DIRECTORY}/{DEG_FILENAME}\""
   ]
  },
  {
   "cell_type": "code",
   "execution_count": 4,
   "metadata": {},
   "outputs": [],
   "source": [
    "# Download\n",
    "r = requests.get(f\"{DEG_URL}\", allow_redirects=True)\n",
    "with open(DEG_FILEPATH, 'wb') as f:\n",
    "    f.write(r.content)"
   ]
  },
  {
   "cell_type": "markdown",
   "metadata": {},
   "source": [
    "### select yeast"
   ]
  },
  {
   "cell_type": "code",
   "execution_count": 5,
   "metadata": {},
   "outputs": [],
   "source": [
    "# Unzip Saccharomyces cerevisiae file\n",
    "with ZipFile(DEG_FILEPATH, 'r') as z:\n",
    "    DEG_ANN_FILENAME, = ['degannotation-e.dat']\n",
    "    z.extract(DEG_ANN_FILENAME, RAW_DATA_DIRECTORY)"
   ]
  },
  {
   "cell_type": "markdown",
   "metadata": {},
   "source": [
    "# Full PPI (BioGRID)"
   ]
  },
  {
   "cell_type": "markdown",
   "metadata": {},
   "source": [
    "### Load BioGRID as dataframe"
   ]
  },
  {
   "cell_type": "code",
   "execution_count": 3,
   "metadata": {},
   "outputs": [],
   "source": [
    "VERSION = \"3.5.181\"\n",
    "\n",
    "# load BioGRID file as dataframe\n",
    "organism_FILENAME = f\"BIOGRID-ORGANISM-Saccharomyces_cerevisiae_S288c-{VERSION}.tab2.txt\"\n",
    "organism_FILEPATH = f\"{RAW_DATA_DIRECTORY}/{organism_FILENAME}\"\n",
    "\n",
    "# remove entrez_id column and score_column because of mixed datatypes \n",
    "BioGRID_df = pd.read_csv(organism_FILEPATH, delimiter='\\t',\n",
    "                           usecols=[index for index in range(24) if index not in {1,2,18}])"
   ]
  },
  {
   "cell_type": "markdown",
   "metadata": {},
   "source": [
    "### Flilter for evidence code"
   ]
  },
  {
   "cell_type": "code",
   "execution_count": 4,
   "metadata": {},
   "outputs": [],
   "source": [
    "# Filter for (reliable) physical interactions\n",
    "EXPERIMENTAL_SYSTEM = {'Two-hybrid', \n",
    "                       'Affinity Capture-Luminescence',\n",
    "                       'Affinity Capture-MS', \n",
    "                       'Affinity Capture-RNA', \n",
    "                       'Affinity Capture-Western'}\n",
    "\n",
    "physical_interaction_df = BioGRID_df[BioGRID_df['Experimental System'].isin(EXPERIMENTAL_SYSTEM)]\n",
    "\n",
    "# Check if all evidence codes measure physical interactions\n",
    "EXPERIMENTAL_SYSTEM_TYPE = {'physical'} \n",
    "assert physical_interaction_df['Experimental System Type'].isin(EXPERIMENTAL_SYSTEM_TYPE).all()"
   ]
  },
  {
   "cell_type": "markdown",
   "metadata": {},
   "source": [
    "### Define PPI"
   ]
  },
  {
   "cell_type": "code",
   "execution_count": 5,
   "metadata": {},
   "outputs": [],
   "source": [
    "# Reduce PPI to simple network\n",
    "PPI_nx = nx.from_pandas_edgelist(physical_interaction_df,\n",
    "                                 'BioGRID ID Interactor A', \n",
    "                                 'BioGRID ID Interactor B')\n",
    "PPI_nx.remove_edges_from(nx.selfloop_edges(PPI_nx))"
   ]
  },
  {
   "cell_type": "markdown",
   "metadata": {},
   "source": [
    "### Summary"
   ]
  },
  {
   "cell_type": "code",
   "execution_count": 6,
   "metadata": {},
   "outputs": [
    {
     "name": "stdout",
     "output_type": "stream",
     "text": [
      "PPI nodes  :   6715\n",
      "PPI edges  :  96618\n",
      "PPI density: 0.0043\n"
     ]
    }
   ],
   "source": [
    "print(f\"PPI nodes  : {PPI_nx.number_of_nodes():>6d}\")\n",
    "print(f\"PPI edges  : {PPI_nx.number_of_edges():>6d}\")\n",
    "print(f\"PPI density: {nx.density(PPI_nx):.4f}\")"
   ]
  },
  {
   "cell_type": "markdown",
   "metadata": {},
   "source": [
    "### Save"
   ]
  },
  {
   "cell_type": "code",
   "execution_count": 7,
   "metadata": {},
   "outputs": [],
   "source": [
    "if not os.path.exists(NETWORK_DIRECTORY):\n",
    "    os.makedirs(NETWORK_DIRECTORY)\n",
    "\n",
    "nx.write_edgelist(PPI_nx, f\"{NETWORK_DIRECTORY}/full_PPI_BioGRID.txt\", data=False)"
   ]
  },
  {
   "cell_type": "markdown",
   "metadata": {},
   "source": [
    "# Systematic PPI (BioGRID)"
   ]
  },
  {
   "cell_type": "markdown",
   "metadata": {},
   "source": [
    "### Define systematic dictionary"
   ]
  },
  {
   "cell_type": "code",
   "execution_count": 20,
   "metadata": {},
   "outputs": [],
   "source": [
    "identifier_df = pd.read_csv(f\"{RAW_DATA_DIRECTORY}/BIOGRID_SC_IDENTIFIERS-3.5.181.csv\", index_col=0)\n",
    "identifier_df = identifier_df[identifier_df.IDENTIFIER_TYPE == 'SYSTEMATIC NAME']\n",
    "identifier_s = pd.Series(identifier_df.IDENTIFIER_VALUE.values, index=identifier_df.BIOGRID_ID)"
   ]
  },
  {
   "cell_type": "markdown",
   "metadata": {},
   "source": [
    "### Define systematic PPI"
   ]
  },
  {
   "cell_type": "code",
   "execution_count": 21,
   "metadata": {},
   "outputs": [],
   "source": [
    "PPI_nx = nx.read_edgelist(f\"{NETWORK_DIRECTORY}/full_PPI_BioGRID.txt\", nodetype=int)\n",
    "\n",
    "sys_PPI_nx = nx.relabel_nodes(PPI_nx, identifier_s)\n",
    "\n",
    "nodes = filter(lambda x:str(x).startswith('Y'),sys_PPI_nx.nodes())\n",
    "sys_PPI_nx = nx.induced_subgraph(sys_PPI_nx, nodes)\n",
    "sys_PPI_nx = nx.induced_subgraph(sys_PPI_nx,\n",
    "                                 max(nx.connected_components(sys_PPI_nx), \n",
    "                                     key=len))"
   ]
  },
  {
   "cell_type": "markdown",
   "metadata": {},
   "source": [
    "### Summary"
   ]
  },
  {
   "cell_type": "code",
   "execution_count": 22,
   "metadata": {},
   "outputs": [
    {
     "name": "stdout",
     "output_type": "stream",
     "text": [
      "      full PPI nodes  :   6715\n",
      "      full PPI edges  :  96618\n",
      "      full PPI density: 0.0043\n",
      "------------------------------\n",
      "systematic PPI nodes  :   5726\n",
      "systematic PPI edges  :  92974\n",
      "systematic PPI density: 0.0057\n"
     ]
    }
   ],
   "source": [
    "print(f\"      full PPI nodes  : {PPI_nx.number_of_nodes():>6d}\")\n",
    "print(f\"      full PPI edges  : {PPI_nx.number_of_edges():>6d}\")\n",
    "print(f\"      full PPI density: {nx.density(PPI_nx):.4f}\")\n",
    "print('------------------------------')\n",
    "print(f\"systematic PPI nodes  : {sys_PPI_nx.number_of_nodes():>6d}\")\n",
    "print(f\"systematic PPI edges  : {sys_PPI_nx.number_of_edges():>6d}\")\n",
    "print(f\"systematic PPI density: {nx.density(sys_PPI_nx):.4f}\")"
   ]
  },
  {
   "cell_type": "markdown",
   "metadata": {},
   "source": [
    "### Save"
   ]
  },
  {
   "cell_type": "code",
   "execution_count": 23,
   "metadata": {},
   "outputs": [],
   "source": [
    "if not os.path.exists(NETWORK_DIRECTORY):\n",
    "    os.makedirs(NETWORK_DIRECTORY)\n",
    "\n",
    "nx.write_edgelist(sys_PPI_nx, f\"{NETWORK_DIRECTORY}/systematic_PPI_BioGRID.txt\", data=False)"
   ]
  },
  {
   "cell_type": "markdown",
   "metadata": {},
   "source": [
    "# Official PPI (BioGRID)"
   ]
  },
  {
   "cell_type": "markdown",
   "metadata": {},
   "source": [
    "### Define official dictionary"
   ]
  },
  {
   "cell_type": "code",
   "execution_count": 14,
   "metadata": {},
   "outputs": [],
   "source": [
    "identifier_df = pd.read_csv(f\"{RAW_DATA_DIRECTORY}/BIOGRID_SC_IDENTIFIERS-3.5.181.csv\", index_col=0)\n",
    "identifier_df = identifier_df[identifier_df.IDENTIFIER_TYPE == 'OFFICIAL SYMBOL']\n",
    "identifier_s = pd.Series(identifier_df.IDENTIFIER_VALUE.values, index=identifier_df.BIOGRID_ID)"
   ]
  },
  {
   "cell_type": "markdown",
   "metadata": {},
   "source": [
    "### Define official PPI"
   ]
  },
  {
   "cell_type": "code",
   "execution_count": 15,
   "metadata": {},
   "outputs": [],
   "source": [
    "PPI_nx = nx.read_edgelist(f\"{NETWORK_DIRECTORY}/full_PPI_BioGRID.txt\", nodetype=int)\n",
    "\n",
    "off_PPI_nx = nx.relabel_nodes(PPI_nx, identifier_s)\n",
    "\n",
    "nodes = filter(lambda x:isinstance(x,str), off_PPI_nx.nodes())\n",
    "off_PPI_nx = nx.induced_subgraph(off_PPI_nx, nodes)\n",
    "off_PPI_nx = nx.induced_subgraph(off_PPI_nx,\n",
    "                                 max(nx.connected_components(off_PPI_nx), \n",
    "                                     key=len))"
   ]
  },
  {
   "cell_type": "markdown",
   "metadata": {},
   "source": [
    "### Summary"
   ]
  },
  {
   "cell_type": "code",
   "execution_count": 17,
   "metadata": {},
   "outputs": [
    {
     "name": "stdout",
     "output_type": "stream",
     "text": [
      "    full PPI nodes  :   6715\n",
      "    full PPI edges  :  96618\n",
      "    full PPI density: 0.0043\n",
      "------------------------------\n",
      "official PPI nodes  :   5881\n",
      "official PPI edges  :  93805\n",
      "official PPI density: 0.0054\n"
     ]
    }
   ],
   "source": [
    "print(f\"    full PPI nodes  : {PPI_nx.number_of_nodes():>6d}\")\n",
    "print(f\"    full PPI edges  : {PPI_nx.number_of_edges():>6d}\")\n",
    "print(f\"    full PPI density: {nx.density(PPI_nx):.4f}\")\n",
    "print('------------------------------')\n",
    "print(f\"official PPI nodes  : {off_PPI_nx.number_of_nodes():>6d}\")\n",
    "print(f\"official PPI edges  : {off_PPI_nx.number_of_edges():>6d}\")\n",
    "print(f\"official PPI density: {nx.density(off_PPI_nx):.4f}\")"
   ]
  },
  {
   "cell_type": "markdown",
   "metadata": {},
   "source": [
    "### Save"
   ]
  },
  {
   "cell_type": "code",
   "execution_count": 18,
   "metadata": {},
   "outputs": [],
   "source": [
    "if not os.path.exists(NETWORK_DIRECTORY):\n",
    "    os.makedirs(NETWORK_DIRECTORY)\n",
    "\n",
    "nx.write_edgelist(off_PPI_nx, f\"{NETWORK_DIRECTORY}/official_PPI_BioGRID.txt\", data=False)"
   ]
  },
  {
   "cell_type": "markdown",
   "metadata": {},
   "source": [
    "# Full CoEx (COEXPRESdb)"
   ]
  },
  {
   "cell_type": "markdown",
   "metadata": {},
   "source": [
    "### Define CoEx"
   ]
  },
  {
   "cell_type": "code",
   "execution_count": 3,
   "metadata": {},
   "outputs": [],
   "source": [
    "COEXPRESdb_DIRPATH = f\"{RAW_DATA_DIRECTORY}/Sce-u.v18-11.G5879-S4798.combat_pca_subagging.mrgeo.d/\"\n",
    "TOP_PERCENTAGE = 0.01\n",
    "\n",
    "edge_dict = dict()\n",
    "for source in os.listdir(COEXPRESdb_DIRPATH):\n",
    "    with open(COEXPRESdb_DIRPATH + source, 'r') as f:\n",
    "        content = f.readlines()\n",
    "    selected_lines = iter(content[1:int(len(content) * TOP_PERCENTAGE)+1])\n",
    "    target_list   = map(lambda x:x.split()[0], selected_lines)\n",
    "    edge_dict[source] = target_list\n",
    "\n",
    "CoEx_nx = nx.Graph()\n",
    "CoEx_nx.add_edges_from([(source,target) for source,target_list in edge_dict.items() \n",
    "                                  for target in target_list])"
   ]
  },
  {
   "cell_type": "markdown",
   "metadata": {},
   "source": [
    "### Summary"
   ]
  },
  {
   "cell_type": "code",
   "execution_count": 4,
   "metadata": {},
   "outputs": [
    {
     "name": "stdout",
     "output_type": "stream",
     "text": [
      "CoEx nodes  :   5879\n",
      "CoEx edges  : 231974\n",
      "CoEx density: 0.0134\n"
     ]
    }
   ],
   "source": [
    "print(f\"CoEx nodes  : {CoEx_nx.number_of_nodes():>6d}\")\n",
    "print(f\"CoEx edges  : {CoEx_nx.number_of_edges()}\")\n",
    "print(f\"CoEx density: {nx.density(CoEx_nx):.4f}\")"
   ]
  },
  {
   "cell_type": "markdown",
   "metadata": {},
   "source": [
    "### Save"
   ]
  },
  {
   "cell_type": "code",
   "execution_count": 5,
   "metadata": {},
   "outputs": [],
   "source": [
    "if not os.path.exists(NETWORK_DIRECTORY):\n",
    "    os.makedirs(NETWORK_DIRECTORY)\n",
    "\n",
    "nx.write_edgelist(CoEx_nx, f\"{NETWORK_DIRECTORY}/full_CoEx_COEXPRESdb.txt\", data=False)"
   ]
  },
  {
   "cell_type": "markdown",
   "metadata": {},
   "source": [
    "# Systematic CoEx (COEXPRESdb)"
   ]
  },
  {
   "cell_type": "markdown",
   "metadata": {},
   "source": [
    "### Define systematic dictionary"
   ]
  },
  {
   "cell_type": "code",
   "execution_count": 3,
   "metadata": {},
   "outputs": [],
   "source": [
    "identifiers = {'SYSTEMATIC NAME', 'ENTREZ_GENE'}\n",
    "identifier_df = pd.read_csv(f\"{RAW_DATA_DIRECTORY}/BIOGRID_SC_IDENTIFIERS-3.5.181.csv\", index_col=0)\n",
    "identifier_df = identifier_df[identifier_df.IDENTIFIER_TYPE.isin(identifiers)]\n",
    "\n",
    "unmelted_identifier_df = identifier_df.pivot(index='BIOGRID_ID', columns='IDENTIFIER_TYPE')['IDENTIFIER_VALUE']\n",
    "identifier_s = pd.Series(data  = unmelted_identifier_df['SYSTEMATIC NAME'].values, \n",
    "                         index = unmelted_identifier_df['ENTREZ_GENE'])"
   ]
  },
  {
   "cell_type": "markdown",
   "metadata": {},
   "source": [
    "### Define systematic CoEx"
   ]
  },
  {
   "cell_type": "code",
   "execution_count": 9,
   "metadata": {},
   "outputs": [],
   "source": [
    "CoEx_nx = nx.read_edgelist(f\"{NETWORK_DIRECTORY}/full_CoEx_COEXPRESdb.txt\")\n",
    "\n",
    "sys_CoEx_nx = nx.relabel_nodes(CoEx_nx, identifier_s)\n",
    "\n",
    "nodes = filter(lambda x:str(x).startswith('Y'),sys_CoEx_nx.nodes())\n",
    "sys_CoEx_nx = nx.induced_subgraph(sys_CoEx_nx, nodes)\n",
    "sys_CoEx_nx = nx.induced_subgraph(sys_CoEx_nx,\n",
    "                                 max(nx.connected_components(sys_CoEx_nx), \n",
    "                                     key=len))"
   ]
  },
  {
   "cell_type": "markdown",
   "metadata": {},
   "source": [
    "### Summary"
   ]
  },
  {
   "cell_type": "code",
   "execution_count": 12,
   "metadata": {},
   "outputs": [
    {
     "name": "stdout",
     "output_type": "stream",
     "text": [
      "      full CoEx nodes  :   5879\n",
      "      full CoEx edges  : 231974\n",
      "      full CoEx density: 0.0134\n",
      "------------------------------\n",
      "systematic CoEx nodes  :   5696\n",
      "systematic CoEx edges  : 222695\n",
      "systematic CoEx density: 0.0137\n"
     ]
    }
   ],
   "source": [
    "print(f\"      full CoEx nodes  : {CoEx_nx.number_of_nodes():>6d}\")\n",
    "print(f\"      full CoEx edges  : {CoEx_nx.number_of_edges():>6d}\")\n",
    "print(f\"      full CoEx density: {nx.density(CoEx_nx):.4f}\")\n",
    "print('------------------------------')\n",
    "print(f\"systematic CoEx nodes  : {sys_CoEx_nx.number_of_nodes():>6d}\")\n",
    "print(f\"systematic CoEx edges  : {sys_CoEx_nx.number_of_edges():>6d}\")\n",
    "print(f\"systematic CoEx density: {nx.density(sys_CoEx_nx):.4f}\")"
   ]
  },
  {
   "cell_type": "markdown",
   "metadata": {},
   "source": [
    "### Save"
   ]
  },
  {
   "cell_type": "code",
   "execution_count": 16,
   "metadata": {},
   "outputs": [],
   "source": [
    "if not os.path.exists(NETWORK_DIRECTORY):\n",
    "    os.makedirs(NETWORK_DIRECTORY)\n",
    "\n",
    "nx.write_edgelist(sys_CoEx_nx, f\"{NETWORK_DIRECTORY}/systematic_CoEx_COEXPRESdb.txt\", data=False)"
   ]
  },
  {
   "cell_type": "markdown",
   "metadata": {},
   "source": [
    "# Systematic GI (Costanzo, 2016)"
   ]
  },
  {
   "cell_type": "markdown",
   "metadata": {},
   "source": [
    "### Load raw data"
   ]
  },
  {
   "cell_type": "code",
   "execution_count": 3,
   "metadata": {},
   "outputs": [],
   "source": [
    "GI_df = pd.read_csv(f\"{RAW_DATA_DIRECTORY}/Work_Correlation.csv\", \n",
    "                 delimiter=' ', \n",
    "                 index_col=1).drop('Unnamed: 0', axis=1)"
   ]
  },
  {
   "cell_type": "markdown",
   "metadata": {},
   "source": [
    "### Define GI network"
   ]
  },
  {
   "cell_type": "code",
   "execution_count": 12,
   "metadata": {
    "scrolled": true
   },
   "outputs": [
    {
     "name": "stdout",
     "output_type": "stream",
     "text": [
      "Size of connected components:  (4628, 3, 3, 4, 3, 3, 5, 4, 3)\n"
     ]
    }
   ],
   "source": [
    "GI_nx = nx.from_pandas_adjacency(GI_df>=0.2)\n",
    "\n",
    "#remove isolated edges\n",
    "GI_nx.remove_edges_from([tuple(test) for test in nx.connected_components(GI_nx) if len(test) == 2])\n",
    "\n",
    "# remove isolated nodes\n",
    "GI_nx.remove_nodes_from(list(nx.isolates(GI_nx)))\n",
    "\n",
    "print(\"Size of connected components: \", tuple(map(len,list(nx.connected_components(GI_nx)))))"
   ]
  },
  {
   "cell_type": "markdown",
   "metadata": {},
   "source": [
    "### Summary"
   ]
  },
  {
   "cell_type": "code",
   "execution_count": 16,
   "metadata": {},
   "outputs": [
    {
     "name": "stdout",
     "output_type": "stream",
     "text": [
      "GI nodes  :   4656\n",
      "GI edges  :  30099\n",
      "GI density: 0.0028\n"
     ]
    }
   ],
   "source": [
    "print(f\"GI nodes  : {GI_nx.number_of_nodes():>6d}\")\n",
    "print(f\"GI edges  : {GI_nx.number_of_edges():>6d}\")\n",
    "print(f\"GI density: {nx.density(GI_nx):.4f}\")"
   ]
  },
  {
   "cell_type": "markdown",
   "metadata": {},
   "source": [
    "### Save"
   ]
  },
  {
   "cell_type": "code",
   "execution_count": 17,
   "metadata": {},
   "outputs": [],
   "source": [
    "if not os.path.exists(NETWORK_DIRECTORY):\n",
    "    os.makedirs(NETWORK_DIRECTORY)\n",
    "\n",
    "nx.write_edgelist(GI_nx, f\"{NETWORK_DIRECTORY}/GI_Constanzo2016.txt\", data=False)"
   ]
  },
  {
   "cell_type": "markdown",
   "metadata": {},
   "source": [
    "# Annotations"
   ]
  },
  {
   "cell_type": "markdown",
   "metadata": {},
   "source": [
    "## SGD (S. cerevisiae)"
   ]
  },
  {
   "cell_type": "code",
   "execution_count": 3,
   "metadata": {},
   "outputs": [],
   "source": [
    "SGD_FILENAME = \"sgd.gaf.gz\"\n",
    "SGD_FILEPATH = f\"{RAW_DATA_DIRECTORY}/{SGD_FILENAME}\"\n",
    "\n",
    "# load SGD gaf-file as dataframe \n",
    "with gzip.open(SGD_FILEPATH, 'rt') as gz:\n",
    "    SGD_df = pd.DataFrame(annotation for annotation in GOA.gafiterator(gz))\n",
    "    \n",
    "# Define column with systematic gene names. In SGD this is always the first synonym.\n",
    "SGD_df['Systematic_ID']  = SGD_df.Synonym.apply(lambda list_:list_[0])"
   ]
  },
  {
   "cell_type": "code",
   "execution_count": 5,
   "metadata": {},
   "outputs": [],
   "source": [
    "# Filter for proteins\n",
    "lc_protein_gaf_df = SGD_df[SGD_df['Systematic_ID'].str.startswith('Y')]\n",
    "\n",
    "# Filter through evidence code\n",
    "protein_gaf_df = lc_protein_gaf_df[lc_protein_gaf_df['Evidence'].isin(['EXP', 'IDA', 'IPI', 'IMP', 'IGI', 'IEP'])]\n",
    "\n",
    "# Split into the three GOs\n",
    "protein_BP_gaf_df = protein_gaf_df[protein_gaf_df['Aspect']=='P']\n",
    "protein_MF_gaf_df = protein_gaf_df[protein_gaf_df['Aspect']=='F']\n",
    "protein_CC_gaf_df = protein_gaf_df[protein_gaf_df['Aspect']=='C']"
   ]
  },
  {
   "cell_type": "code",
   "execution_count": 6,
   "metadata": {},
   "outputs": [],
   "source": [
    "# Get rid of all unnecesarry columns in the GAFs\n",
    "high_IC_annotations_df = protein_gaf_df[['Systematic_ID', 'GO_ID']].dropna().drop_duplicates()\n",
    "\n",
    "# Split into the three GOs\n",
    "high_IC_BP_annotations_df = protein_BP_gaf_df[['Systematic_ID', 'GO_ID']].dropna().drop_duplicates()\n",
    "high_IC_MF_annotations_df = protein_MF_gaf_df[['Systematic_ID', 'GO_ID']].dropna().drop_duplicates()\n",
    "high_IC_CC_annotations_df = protein_CC_gaf_df[['Systematic_ID', 'GO_ID']].dropna().drop_duplicates()"
   ]
  },
  {
   "cell_type": "markdown",
   "metadata": {},
   "source": [
    "### GO DAG extention (Yeast2GO)"
   ]
  },
  {
   "cell_type": "code",
   "execution_count": 7,
   "metadata": {},
   "outputs": [
    {
     "name": "stdout",
     "output_type": "stream",
     "text": [
      "/media/clusterduck123/joe/data//raw_data/go-basic.obo: fmt(1.2) rel(2019-10-07) 47,285 GO Terms\n"
     ]
    }
   ],
   "source": [
    "# Load obo and gaf files\n",
    "GO_FILENAME = \"go-basic.obo\"\n",
    "GO_FILEPATH = f\"{RAW_DATA_DIRECTORY}/{GO_FILENAME}\"\n",
    "\n",
    "# Create annotations with all upstream terms in dict\n",
    "go_dag = obo_parser.GODag(GO_FILEPATH)\n",
    "go2parents = {go_id:{*go_dag[go_id].get_all_parents(), go_id} for go_id in go_dag.keys()}"
   ]
  },
  {
   "cell_type": "code",
   "execution_count": 8,
   "metadata": {},
   "outputs": [],
   "source": [
    "# Create full list/dataframe of annotations\n",
    "all_annotations_list = [(gene_id, go_term, go_dag[go_term].level) \n",
    "                                for _, (gene_id, go_id) in high_IC_annotations_df.iterrows()\n",
    "                                    for go_term in go2parents[go_id]]\n",
    "all_annotations_df = pd.DataFrame(\n",
    "                            all_annotations_list,  \n",
    "                            columns = ['Systematic_ID', 'GO_ID', 'Level']).drop_duplicates()\n",
    "\n",
    "# Split into the three GOs\n",
    "all_BP_annotations_list = [entry for entry in all_annotations_list \n",
    "                               if go_dag[entry[1]].namespace == \"biological_process\"]\n",
    "all_MF_annotations_list = [entry for entry in all_annotations_list \n",
    "                               if go_dag[entry[1]].namespace == \"molecular_function\"]\n",
    "all_CC_annotations_list = [entry for entry in all_annotations_list \n",
    "                               if go_dag[entry[1]].namespace == \"cellular_component\"]\n",
    "\n",
    "all_BP_annotations_df = pd.DataFrame(\n",
    "                            all_BP_annotations_list,  \n",
    "                            columns = ['Systematic_ID', 'GO_ID', 'Level']).drop_duplicates()\n",
    "all_MF_annotations_df = pd.DataFrame(\n",
    "                            all_MF_annotations_list,  \n",
    "                            columns = ['Systematic_ID', 'GO_ID', 'Level']).drop_duplicates()\n",
    "all_CC_annotations_df = pd.DataFrame(\n",
    "                            all_CC_annotations_list,  \n",
    "                            columns = ['Systematic_ID', 'GO_ID', 'Level']).drop_duplicates()"
   ]
  },
  {
   "cell_type": "markdown",
   "metadata": {},
   "source": [
    "### Summary"
   ]
  },
  {
   "cell_type": "code",
   "execution_count": 9,
   "metadata": {},
   "outputs": [
    {
     "name": "stdout",
     "output_type": "stream",
     "text": [
      "SGD universe sizes:\n",
      "============================================\n",
      "Biological Process : 4534 genes, 4701 GO-IDs \n",
      "Molecular Functions: 3569 genes, 2117 GO-IDs \n",
      "Cellular Components: 4014 genes, 910  GO-IDs \n",
      "--------------------------------------------\n",
      "All annotations    : 4969 genes, 7728 GO-IDs \n"
     ]
    }
   ],
   "source": [
    "print(\"SGD universe sizes:\")\n",
    "print(\"============================================\")\n",
    "print(\"Biological Process : \" \n",
    "    f\"{len(set(map(lambda x:x[0],all_BP_annotations_list)))} genes, \"\n",
    "    f\"{len(set(map(lambda x:x[1],all_BP_annotations_list)))} GO-IDs \")\n",
    "print(\"Molecular Functions: \" \n",
    "    f\"{len(set(map(lambda x:x[0],all_MF_annotations_list)))} genes, \"\n",
    "    f\"{len(set(map(lambda x:x[1],all_MF_annotations_list)))} GO-IDs \")\n",
    "print(\"Cellular Components: \" \n",
    "    f\"{len(set(map(lambda x:x[0],all_CC_annotations_list)))} genes, \"\n",
    "    f\"{len(set(map(lambda x:x[1],all_CC_annotations_list)))}  GO-IDs \")\n",
    "print('--------------------------------------------')\n",
    "print(\"All annotations    : \" \n",
    "    f\"{len(set(map(lambda x:x[0],all_annotations_list)))} genes, \"\n",
    "    f\"{len(set(map(lambda x:x[1],all_annotations_list)))} GO-IDs \")"
   ]
  },
  {
   "cell_type": "markdown",
   "metadata": {},
   "source": [
    "### Save"
   ]
  },
  {
   "cell_type": "code",
   "execution_count": 10,
   "metadata": {},
   "outputs": [],
   "source": [
    "if not os.path.exists(ANNOTATION_DIRECTORY):\n",
    "    os.makedirs(ANNOTATION_DIRECTORY)\n",
    "\n",
    "all_annotations_df.to_csv(f\"{ANNOTATION_DIRECTORY}/GO_all_systematic_SGD.csv\", index=False)\n",
    "\n",
    "all_BP_annotations_df.to_csv(f\"{ANNOTATION_DIRECTORY}/GO_BP_systematic_SGD.csv\", index=False)\n",
    "all_MF_annotations_df.to_csv(f\"{ANNOTATION_DIRECTORY}/GO_MF_systematic_SGD.csv\", index=False)\n",
    "all_CC_annotations_df.to_csv(f\"{ANNOTATION_DIRECTORY}/GO_CC_systematic_SGD.csv\", index=False)"
   ]
  },
  {
   "cell_type": "markdown",
   "metadata": {},
   "source": [
    "## systematic BioGRID $\\cap$ SGD"
   ]
  },
  {
   "cell_type": "code",
   "execution_count": 10,
   "metadata": {},
   "outputs": [],
   "source": [
    "PPI_nx = nx.read_edgelist(f\"{NETWORK_DIRECTORY}/systematic_PPI_BioGRID.txt\")\n",
    "\n",
    "all_annotations_df = pd.read_csv(f\"{ANNOTATION_DIRECTORY}/GO_all_SGD.csv\")\n",
    "\n",
    "all_BP_annotations_df = pd.read_csv(f\"{ANNOTATION_DIRECTORY}/GO_BP_systematic_SGD.csv\")\n",
    "all_MF_annotations_df = pd.read_csv(f\"{ANNOTATION_DIRECTORY}/GO_MF_systematic_SGD.csv\")\n",
    "all_CC_annotations_df = pd.read_csv(f\"{ANNOTATION_DIRECTORY}/GO_CC_systematic_SGD.csv\")"
   ]
  },
  {
   "cell_type": "code",
   "execution_count": 11,
   "metadata": {},
   "outputs": [],
   "source": [
    "PPI_annotations_df = all_annotations_df[all_annotations_df.Systematic_ID.isin(PPI_nx.nodes)]\n",
    "\n",
    "PPI_BP_annotations_df = all_BP_annotations_df[all_BP_annotations_df.Systematic_ID.isin(PPI_nx.nodes)]\n",
    "PPI_MF_annotations_df = all_MF_annotations_df[all_MF_annotations_df.Systematic_ID.isin(PPI_nx.nodes)]\n",
    "PPI_CC_annotations_df = all_CC_annotations_df[all_CC_annotations_df.Systematic_ID.isin(PPI_nx.nodes)]"
   ]
  },
  {
   "cell_type": "markdown",
   "metadata": {},
   "source": [
    "### Summary"
   ]
  },
  {
   "cell_type": "code",
   "execution_count": 12,
   "metadata": {},
   "outputs": [
    {
     "name": "stdout",
     "output_type": "stream",
     "text": [
      "SGD ∩ BioGRID universe sizes:\n",
      "============================================\n",
      "Biological Process : 4498 genes, 4697 GO-IDs \n",
      "Molecular Functions: 3542 genes, 2109 GO-IDs \n",
      "Cellular Components: 3994 genes, 910  GO-IDs \n",
      "--------------------------------------------\n",
      "All annotations    : 4925 genes, 7716 GO-IDs \n"
     ]
    }
   ],
   "source": [
    "print(r\"SGD ∩ BioGRID universe sizes:\")\n",
    "print(\"============================================\")\n",
    "print(\"Biological Process : \" \n",
    "    f\"{len(set(PPI_BP_annotations_df.Systematic_ID))} genes, \"\n",
    "    f\"{len(set(PPI_BP_annotations_df.GO_ID))} GO-IDs \")\n",
    "print(\"Molecular Functions: \" \n",
    "    f\"{len(set(PPI_MF_annotations_df.Systematic_ID))} genes, \"\n",
    "    f\"{len(set(PPI_MF_annotations_df.GO_ID))} GO-IDs \")\n",
    "print(\"Cellular Components: \" \n",
    "    f\"{len(set(PPI_CC_annotations_df.Systematic_ID))} genes, \"\n",
    "    f\"{len(set(PPI_CC_annotations_df.GO_ID))}  GO-IDs \")\n",
    "print('--------------------------------------------')\n",
    "print(\"All annotations    : \" \n",
    "    f\"{len(set(PPI_annotations_df.Systematic_ID))} genes, \"\n",
    "    f\"{len(set(PPI_annotations_df.GO_ID))} GO-IDs \")"
   ]
  },
  {
   "cell_type": "markdown",
   "metadata": {},
   "source": [
    "### Save"
   ]
  },
  {
   "cell_type": "code",
   "execution_count": 13,
   "metadata": {},
   "outputs": [],
   "source": [
    "PPI_annotations_df.to_csv(f\"{ANNOTATION_DIRECTORY}/GO_all_systematic_BioGRID-SGD.csv\", index=False)\n",
    "\n",
    "PPI_BP_annotations_df.to_csv(f\"{ANNOTATION_DIRECTORY}/GO_BP_systematic_BioGRID-SGD.csv\", index=False)\n",
    "PPI_MF_annotations_df.to_csv(f\"{ANNOTATION_DIRECTORY}/GO_MF_systematic_BioGRID-SGD.csv\", index=False)\n",
    "PPI_CC_annotations_df.to_csv(f\"{ANNOTATION_DIRECTORY}/GO_CC_systematic_BioGRID-SGD.csv\", index=False)"
   ]
  }
 ],
 "metadata": {
  "kernelspec": {
   "display_name": "graco",
   "language": "python",
   "name": "graco"
  },
  "language_info": {
   "codemirror_mode": {
    "name": "ipython",
    "version": 3
   },
   "file_extension": ".py",
   "mimetype": "text/x-python",
   "name": "python",
   "nbconvert_exporter": "python",
   "pygments_lexer": "ipython3",
   "version": "3.6.8"
  }
 },
 "nbformat": 4,
 "nbformat_minor": 2
}
