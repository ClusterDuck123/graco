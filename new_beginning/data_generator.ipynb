{
 "cells": [
  {
   "cell_type": "code",
   "execution_count": 6,
   "metadata": {},
   "outputs": [],
   "source": [
    "from goatools import obo_parser\n",
    "from zipfile import ZipFile\n",
    "\n",
    "import os\n",
    "import gzip\n",
    "import graco\n",
    "import shutil\n",
    "import requests\n",
    "import numpy as np\n",
    "import pandas as pd\n",
    "import networkx as nx\n",
    "import Bio.UniProt.GOA as GOA"
   ]
  },
  {
   "cell_type": "code",
   "execution_count": 3,
   "metadata": {},
   "outputs": [],
   "source": [
    "pd.set_option(\"display.max_columns\", 50)\n",
    "\n",
    "DATA_DIRECTORY = \"/home/clusterduck123/Desktop/git/supplements/data\"\n",
    "CPP_DIRECTORY = \"/home/clusterduck123/Desktop/git/graco/graco/cpp\""
   ]
  },
  {
   "cell_type": "code",
   "execution_count": 4,
   "metadata": {},
   "outputs": [],
   "source": [
    "RAW_DATA_DIRECTORY = f\"{DATA_DIRECTORY}/raw_data\"\n",
    "PPI_DIRECTORY = f\"{DATA_DIRECTORY}/PPI\"\n",
    "ANNOTATIONS_DIRECTORY = f\"{DATA_DIRECTORY}/annotations\"\n",
    "MATRIX_DIRECTORY = f\"{DATA_DIRECTORY}/matrix\"\n",
    "CLUSTERS_DIRECTORY = f\"{DATA_DIRECTORY}/clusters\"\n",
    "\n",
    "if not os.path.exists(DATA_DIRECTORY):\n",
    "    os.makedirs(DATA_DIRECTORY)\n",
    "        \n",
    "if not os.path.exists(RAW_DATA_DIRECTORY):\n",
    "    os.makedirs(RAW_DATA_DIRECTORY)     \n",
    "    \n",
    "if not os.path.exists(PPI_DIRECTORY):\n",
    "    os.makedirs(PPI_DIRECTORY)\n",
    "    \n",
    "if not os.path.exists(ANNOTATIONS_DIRECTORY):\n",
    "    os.makedirs(ANNOTATIONS_DIRECTORY)\n",
    "    \n",
    "if not os.path.exists(MATRIX_DIRECTORY):\n",
    "    os.makedirs(MATRIX_DIRECTORY)\n",
    "    \n",
    "if not os.path.exists(CLUSTERS_DIRECTORY):\n",
    "    os.makedirs(CLUSTERS_DIRECTORY)"
   ]
  },
  {
   "cell_type": "markdown",
   "metadata": {},
   "source": [
    "# Downloads"
   ]
  },
  {
   "cell_type": "markdown",
   "metadata": {},
   "source": [
    "### BioGRID"
   ]
  },
  {
   "cell_type": "code",
   "execution_count": 4,
   "metadata": {},
   "outputs": [],
   "source": [
    "if not os.path.exists(RAW_DATA_DIRECTORY):\n",
    "     os.makedirs(directory)\n",
    "\n",
    "BioGRID_FILENAME = \"BIOGRID-ORGANISM-3.5.177.tab2.zip\"\n",
    "BioGRID_URL = \"https://downloads.thebiogrid.org/Download/BioGRID/Release-Archive/BIOGRID-3.5.177\"\n",
    "BioGRID_FILEPATH = f\"{RAW_DATA_DIRECTORY}/{BioGRID_FILENAME}\" "
   ]
  },
  {
   "cell_type": "code",
   "execution_count": 5,
   "metadata": {},
   "outputs": [],
   "source": [
    "# Download\n",
    "r = requests.get(f\"{BioGRID_URL}/{BioGRID_FILENAME}\", allow_redirects=True)\n",
    "with open(BioGRID_FILEPATH, 'wb') as f:\n",
    "    f.write(r.content)"
   ]
  },
  {
   "cell_type": "code",
   "execution_count": 6,
   "metadata": {},
   "outputs": [],
   "source": [
    "# Unzip Saccharomyces cerevisiae file\n",
    "with ZipFile(BioGRID_FILEPATH, 'r') as z:\n",
    "    BioGRID_sc_FILENAME, = [name for name in z.namelist() if 'cerevisiae' in name.lower()]\n",
    "    z.extract(BioGRID_sc_FILENAME, RAW_DATA_DIRECTORY)"
   ]
  },
  {
   "cell_type": "markdown",
   "metadata": {},
   "source": [
    "### SGD annotations"
   ]
  },
  {
   "cell_type": "code",
   "execution_count": 9,
   "metadata": {},
   "outputs": [],
   "source": [
    "SGD_FILENAME = \"sgd.gaf.gz\"\n",
    "SGD_URL = \"http://current.geneontology.org/annotations\"\n",
    "SGD_FILEPATH = f\"{RAW_DATA_DIRECTORY}/{SGD_FILENAME}\""
   ]
  },
  {
   "cell_type": "code",
   "execution_count": 10,
   "metadata": {},
   "outputs": [],
   "source": [
    "# Download\n",
    "r = requests.get(f\"{SGD_URL}/{SGD_FILENAME}\", allow_redirects=True)\n",
    "with open(SGD_FILEPATH, 'wb') as f:\n",
    "    f.write(r.content)"
   ]
  },
  {
   "cell_type": "markdown",
   "metadata": {},
   "source": [
    "### GO"
   ]
  },
  {
   "cell_type": "code",
   "execution_count": 11,
   "metadata": {},
   "outputs": [],
   "source": [
    "GO_FILENAME = \"go-basic.obo\"\n",
    "GO_URL = \"http://purl.obolibrary.org/obo/go\"\n",
    "GO_FILEPATH = f\"{RAW_DATA_DIRECTORY}/{GO_FILENAME}\""
   ]
  },
  {
   "cell_type": "code",
   "execution_count": 12,
   "metadata": {},
   "outputs": [],
   "source": [
    "# Download\n",
    "r = requests.get(f\"{GO_URL}/{GO_FILENAME}\", allow_redirects=True)\n",
    "with open(GO_FILEPATH, 'wb') as f:\n",
    "    f.write(r.content)"
   ]
  },
  {
   "cell_type": "markdown",
   "metadata": {},
   "source": [
    "# BioGRID PPI (S. cerevisiae)"
   ]
  },
  {
   "cell_type": "markdown",
   "metadata": {},
   "source": [
    "## Define interactor universes"
   ]
  },
  {
   "cell_type": "code",
   "execution_count": 7,
   "metadata": {},
   "outputs": [],
   "source": [
    "# load BioGRID file as dataframe\n",
    "organism_FILENAME = \"BIOGRID-ORGANISM-Saccharomyces_cerevisiae_S288c-3.5.177.tab2.txt\"\n",
    "organism_FILEPATH = f\"{RAW_DATA_DIRECTORY}/{organism_FILENAME}\"\n",
    "\n",
    "# remove entrez ids and scores because of mixed datatypes \n",
    "BioGRID_df = pd.read_csv(organism_FILEPATH, delimiter='\\t',\n",
    "                           usecols=[index for index in range(24) if index not in {1,2,18}])"
   ]
  },
  {
   "cell_type": "code",
   "execution_count": 8,
   "metadata": {},
   "outputs": [],
   "source": [
    "# BioGRID universe is the collection of every gene known to BioGRID\n",
    "universe = set(BioGRID_df['BioGRID ID Interactor A']) | \\\n",
    "           set(BioGRID_df['BioGRID ID Interactor B'])\n",
    "\n",
    "systematic_universe = set(BioGRID_df['Systematic Name Interactor A']) | \\\n",
    "                      set(BioGRID_df['Systematic Name Interactor B'])\n",
    "systematic_universe.remove('-')"
   ]
  },
  {
   "cell_type": "code",
   "execution_count": 9,
   "metadata": {},
   "outputs": [],
   "source": [
    "# Filter for (reliable) physical interactions\n",
    "EXPERIMENTAL_SYSTEM = {'Two-hybrid', \n",
    "                       'Affinity Capture-Luminescence',\n",
    "                       'Affinity Capture-MS', \n",
    "                       'Affinity Capture-RNA', \n",
    "                       'Affinity Capture-Western'}\n",
    "EXPERIMENTAL_SYSTEM_TYPE = {'physical'} # redundant because of experimental evidence filtering\n",
    "\n",
    "physical_interaction_df = BioGRID_df[BioGRID_df['Experimental System'].isin(EXPERIMENTAL_SYSTEM)]\n",
    "physical_interaction_df = physical_interaction_df[\n",
    "    physical_interaction_df['Experimental System Type'].isin(EXPERIMENTAL_SYSTEM_TYPE)] # just in case...\n",
    "\n",
    "\n",
    "physical_universe = set(physical_interaction_df['BioGRID ID Interactor A']) | \\\n",
    "                    set(physical_interaction_df['BioGRID ID Interactor B'])\n",
    "\n",
    "systematic_physical_universe = set(physical_interaction_df['Systematic Name Interactor A']) | \\\n",
    "                                       set(physical_interaction_df['Systematic Name Interactor B'])\n",
    "systematic_physical_universe.remove('-')"
   ]
  },
  {
   "cell_type": "markdown",
   "metadata": {},
   "source": [
    "## Define PPI"
   ]
  },
  {
   "cell_type": "code",
   "execution_count": 10,
   "metadata": {},
   "outputs": [],
   "source": [
    "# PPI in dataframe\n",
    "PPI_df = physical_interaction_df[\n",
    "    physical_interaction_df[\"Systematic Name Interactor A\"].str.startswith('Y') & \\\n",
    "    physical_interaction_df[\"Systematic Name Interactor B\"].str.startswith('Y')]\n",
    "\n",
    "PPI_universe = set(PPI_df['Systematic Name Interactor A']) | \\\n",
    "               set(PPI_df['Systematic Name Interactor B'])"
   ]
  },
  {
   "cell_type": "code",
   "execution_count": 11,
   "metadata": {},
   "outputs": [],
   "source": [
    "# Reduce PPI to simple network\n",
    "PPI_nx = nx.from_pandas_edgelist(PPI_df,'Systematic Name Interactor A', 'Systematic Name Interactor B')\n",
    "PPI_nx.remove_edges_from(nx.selfloop_edges(PPI_nx))"
   ]
  },
  {
   "cell_type": "markdown",
   "metadata": {},
   "source": [
    "### Summary"
   ]
  },
  {
   "cell_type": "code",
   "execution_count": 12,
   "metadata": {},
   "outputs": [
    {
     "name": "stdout",
     "output_type": "stream",
     "text": [
      "BioGRID universe sizes:\n",
      "=========================\n",
      "    -         -    : 7172\n",
      "systematic    -    : 6535\n",
      "    -      physical: 6551\n",
      "systematic physical: 6121\n",
      "-------------------------\n",
      "PPI population size: 5726\n"
     ]
    }
   ],
   "source": [
    "print(\"BioGRID universe sizes:\")\n",
    "print(\"=========================\")\n",
    "print(f\"    -         -    : {len(universe)}\")\n",
    "print(f\"systematic    -    : {len(systematic_universe)}\")\n",
    "print(f\"    -      physical: {len(physical_universe)}\")\n",
    "print(f\"systematic physical: {len(systematic_physical_universe)}\")\n",
    "print(\"-------------------------\")\n",
    "print(f\"PPI population size: {PPI_nx.number_of_nodes()}\")"
   ]
  },
  {
   "cell_type": "markdown",
   "metadata": {},
   "source": [
    "### Save"
   ]
  },
  {
   "cell_type": "code",
   "execution_count": 13,
   "metadata": {},
   "outputs": [],
   "source": [
    "nx.write_edgelist(PPI_nx, f\"{PPI_DIRECTORY}/BioGRID_sc.txt\", data=False)"
   ]
  },
  {
   "cell_type": "markdown",
   "metadata": {},
   "source": [
    "# SGD annotations (S. cerevisiae)"
   ]
  },
  {
   "cell_type": "code",
   "execution_count": 7,
   "metadata": {},
   "outputs": [],
   "source": [
    "SGD_FILENAME = \"sgd.gaf.gz\"\n",
    "SGD_FILEPATH = f\"{RAW_DATA_DIRECTORY}/{SGD_FILENAME}\"\n",
    "\n",
    "# load SGD gaf-file as dataframe \n",
    "with gzip.open(SGD_FILEPATH, 'rt') as gz:\n",
    "    SGD_df = pd.DataFrame(annotation for annotation in GOA.gafiterator(gz))\n",
    "    \n",
    "# Define column with systematic gene names. In SGD this is always the first synonym.\n",
    "SGD_df['Systematic_ID']  = SGD_df.Synonym.apply(lambda list_:list_[0])"
   ]
  },
  {
   "cell_type": "code",
   "execution_count": 21,
   "metadata": {},
   "outputs": [],
   "source": [
    "# Filter for proteins\n",
    "lc_protein_gaf_df = SGD_df[SGD_df['Systematic_ID'].str.startswith('Y')]\n",
    "\n",
    "# Filter through evidence code\n",
    "protein_gaf_df = lc_protein_gaf_df[lc_protein_gaf_df['Evidence'].isin(['EXP', 'IDA', 'IPI', 'IMP', 'IGI', 'IEP'])]\n",
    "\n",
    "# Split into the three GOs\n",
    "protein_BP_gaf_df = protein_gaf_df[protein_gaf_df['Aspect']=='P']\n",
    "protein_MF_gaf_df = protein_gaf_df[protein_gaf_df['Aspect']=='F']\n",
    "protein_CC_gaf_df = protein_gaf_df[protein_gaf_df['Aspect']=='C']"
   ]
  },
  {
   "cell_type": "code",
   "execution_count": 22,
   "metadata": {},
   "outputs": [],
   "source": [
    "# Get rid of all unnecesarry columns in the GAFs\n",
    "high_IC_annotations_df = protein_gaf_df[['Systematic_ID', 'GO_ID']].dropna().drop_duplicates()\n",
    "\n",
    "# Split into the three GOs\n",
    "high_IC_BP_annotations_df = protein_BP_gaf_df[['Systematic_ID', 'GO_ID']].dropna().drop_duplicates()\n",
    "high_IC_MF_annotations_df = protein_MF_gaf_df[['Systematic_ID', 'GO_ID']].dropna().drop_duplicates()\n",
    "high_IC_CC_annotations_df = protein_CC_gaf_df[['Systematic_ID', 'GO_ID']].dropna().drop_duplicates()"
   ]
  },
  {
   "cell_type": "markdown",
   "metadata": {},
   "source": [
    "### GO DAG extention (Yeast2GO)"
   ]
  },
  {
   "cell_type": "code",
   "execution_count": 23,
   "metadata": {},
   "outputs": [
    {
     "name": "stdout",
     "output_type": "stream",
     "text": [
      "/Users/markusyoussef/Desktop/git/supplements/data/raw_data/go-basic.obo: fmt(1.2) rel(2019-10-07) 47,285 GO Terms\n"
     ]
    }
   ],
   "source": [
    "# Load obo and gaf files\n",
    "GO_FILENAME = \"go-basic.obo\"\n",
    "GO_FILEPATH = f\"{RAW_DATA_DIRECTORY}/{GO_FILENAME}\"\n",
    "\n",
    "# Create annotations with all upstream terms in dict\n",
    "go_dag = obo_parser.GODag(GO_FILEPATH)\n",
    "go2parents = {go_id:{*go_dag[go_id].get_all_parents(), go_id} for go_id in go_dag.keys()}"
   ]
  },
  {
   "cell_type": "code",
   "execution_count": 24,
   "metadata": {},
   "outputs": [],
   "source": [
    "# Create full list/dataframe of annotations\n",
    "all_annotations_list = [(gene_id, go_term, go_dag[go_term].level) \n",
    "                                for _, (gene_id, go_id) in high_IC_annotations_df.iterrows()\n",
    "                                    for go_term in go2parents[go_id]]\n",
    "all_annotations_df = pd.DataFrame(\n",
    "                            all_annotations_list,  \n",
    "                            columns = ['Systematic_ID', 'GO_ID', 'Level']).drop_duplicates()\n",
    "\n",
    "# Split into the three GOs\n",
    "all_BP_annotations_list = [entry for entry in all_annotations_list \n",
    "                               if go_dag[entry[1]].namespace == \"biological_process\"]\n",
    "all_MF_annotations_list = [entry for entry in all_annotations_list \n",
    "                               if go_dag[entry[1]].namespace == \"molecular_function\"]\n",
    "all_CC_annotations_list = [entry for entry in all_annotations_list \n",
    "                               if go_dag[entry[1]].namespace == \"cellular_component\"]\n",
    "\n",
    "all_BP_annotations_df = pd.DataFrame(\n",
    "                            all_BP_annotations_list,  \n",
    "                            columns = ['Systematic_ID', 'GO_ID', 'Level']).drop_duplicates()\n",
    "all_MF_annotations_df = pd.DataFrame(\n",
    "                            all_MF_annotations_list,  \n",
    "                            columns = ['Systematic_ID', 'GO_ID', 'Level']).drop_duplicates()\n",
    "all_CC_annotations_df = pd.DataFrame(\n",
    "                            all_CC_annotations_list,  \n",
    "                            columns = ['Systematic_ID', 'GO_ID', 'Level']).drop_duplicates()"
   ]
  },
  {
   "cell_type": "markdown",
   "metadata": {},
   "source": [
    "### Summary"
   ]
  },
  {
   "cell_type": "code",
   "execution_count": 25,
   "metadata": {},
   "outputs": [
    {
     "name": "stdout",
     "output_type": "stream",
     "text": [
      "SGD universe sizes:\n",
      "============================================\n",
      "Biological Process : 4532 genes, 4662 GO-IDs \n",
      "Molecular Functions: 3564 genes, 2105 GO-IDs \n",
      "Cellular Components: 4013 genes, 904  GO-IDs \n",
      "--------------------------------------------\n",
      "All annotations    : 4967 genes, 7671 GO-IDs \n"
     ]
    }
   ],
   "source": [
    "print(\"SGD universe sizes:\")\n",
    "print(\"============================================\")\n",
    "print(\"Biological Process : \" \n",
    "    f\"{len(set(map(lambda x:x[0],all_BP_annotations_list)))} genes, \"\n",
    "    f\"{len(set(map(lambda x:x[1],all_BP_annotations_list)))} GO-IDs \")\n",
    "print(\"Molecular Functions: \" \n",
    "    f\"{len(set(map(lambda x:x[0],all_MF_annotations_list)))} genes, \"\n",
    "    f\"{len(set(map(lambda x:x[1],all_MF_annotations_list)))} GO-IDs \")\n",
    "print(\"Cellular Components: \" \n",
    "    f\"{len(set(map(lambda x:x[0],all_CC_annotations_list)))} genes, \"\n",
    "    f\"{len(set(map(lambda x:x[1],all_CC_annotations_list)))}  GO-IDs \")\n",
    "print('--------------------------------------------')\n",
    "print(\"All annotations    : \" \n",
    "    f\"{len(set(map(lambda x:x[0],all_annotations_list)))} genes, \"\n",
    "    f\"{len(set(map(lambda x:x[1],all_annotations_list)))} GO-IDs \")"
   ]
  },
  {
   "cell_type": "markdown",
   "metadata": {},
   "source": [
    "### Save"
   ]
  },
  {
   "cell_type": "code",
   "execution_count": 26,
   "metadata": {},
   "outputs": [],
   "source": [
    "all_annotations_df.to_csv(f\"{ANNOTATIONS_DIRECTORY}/SGD_sc.csv\", index=False)\n",
    "\n",
    "all_BP_annotations_df.to_csv(f\"{ANNOTATIONS_DIRECTORY}/SGD_BP_sc.csv\", index=False)\n",
    "all_MF_annotations_df.to_csv(f\"{ANNOTATIONS_DIRECTORY}/SGD_MF_sc.csv\", index=False)\n",
    "all_CC_annotations_df.to_csv(f\"{ANNOTATIONS_DIRECTORY}/SGD_CC_sc.csv\", index=False)"
   ]
  },
  {
   "cell_type": "markdown",
   "metadata": {},
   "source": [
    "# BioGRID $\\cap$ SGD"
   ]
  },
  {
   "cell_type": "code",
   "execution_count": 27,
   "metadata": {},
   "outputs": [],
   "source": [
    "PPI_nx = nx.read_edgelist(f\"{PPI_DIRECTORY}/BioGRID_sc.txt\")\n",
    "\n",
    "all_annotations_df = pd.read_csv(f\"{ANNOTATIONS_DIRECTORY}/SGD_sc.csv\")\n",
    "\n",
    "all_BP_annotations_df = pd.read_csv(f\"{ANNOTATIONS_DIRECTORY}/SGD_BP_sc.csv\")\n",
    "all_MF_annotations_df = pd.read_csv(f\"{ANNOTATIONS_DIRECTORY}/SGD_MF_sc.csv\")\n",
    "all_CC_annotations_df = pd.read_csv(f\"{ANNOTATIONS_DIRECTORY}/SGD_CC_sc.csv\")"
   ]
  },
  {
   "cell_type": "code",
   "execution_count": 28,
   "metadata": {},
   "outputs": [],
   "source": [
    "PPI_annotations_df = all_annotations_df[all_annotations_df.Systematic_ID.isin(PPI_nx.nodes)]\n",
    "\n",
    "PPI_BP_annotations_df = all_BP_annotations_df[all_BP_annotations_df.Systematic_ID.isin(PPI_nx.nodes)]\n",
    "PPI_MF_annotations_df = all_MF_annotations_df[all_MF_annotations_df.Systematic_ID.isin(PPI_nx.nodes)]\n",
    "PPI_CC_annotations_df = all_CC_annotations_df[all_CC_annotations_df.Systematic_ID.isin(PPI_nx.nodes)]"
   ]
  },
  {
   "cell_type": "markdown",
   "metadata": {},
   "source": [
    "### Summary"
   ]
  },
  {
   "cell_type": "code",
   "execution_count": 29,
   "metadata": {},
   "outputs": [
    {
     "name": "stdout",
     "output_type": "stream",
     "text": [
      "SGD ∩ BioGRID universe sizes:\n",
      "============================================\n",
      "Biological Process : 4496 genes, 4496 GO-IDs \n",
      "Molecular Functions: 3537 genes, 3537 GO-IDs \n",
      "Cellular Components: 3993 genes, 3993  GO-IDs \n",
      "--------------------------------------------\n",
      "All annotations    : 4923 genes, 4923 GO-IDs \n"
     ]
    }
   ],
   "source": [
    "print(r\"SGD ∩ BioGRID universe sizes:\")\n",
    "print(\"============================================\")\n",
    "print(\"Biological Process : \" \n",
    "    f\"{len(set(PPI_BP_annotations_df.Systematic_ID))} genes, \"\n",
    "    f\"{len(set(PPI_BP_annotations_df.Systematic_ID))} GO-IDs \")\n",
    "print(\"Molecular Functions: \" \n",
    "    f\"{len(set(PPI_MF_annotations_df.Systematic_ID))} genes, \"\n",
    "    f\"{len(set(PPI_MF_annotations_df.Systematic_ID))} GO-IDs \")\n",
    "print(\"Cellular Components: \" \n",
    "    f\"{len(set(PPI_CC_annotations_df.Systematic_ID))} genes, \"\n",
    "    f\"{len(set(PPI_CC_annotations_df.Systematic_ID))}  GO-IDs \")\n",
    "print('--------------------------------------------')\n",
    "print(\"All annotations    : \" \n",
    "    f\"{len(set(PPI_annotations_df.Systematic_ID))} genes, \"\n",
    "    f\"{len(set(PPI_annotations_df.Systematic_ID))} GO-IDs \")"
   ]
  },
  {
   "cell_type": "markdown",
   "metadata": {},
   "source": [
    "### Save"
   ]
  },
  {
   "cell_type": "code",
   "execution_count": 30,
   "metadata": {},
   "outputs": [],
   "source": [
    "PPI_annotations_df.to_csv(f\"{ANNOTATIONS_DIRECTORY}/BioGRID-SGD_sc.csv\", index=False)\n",
    "\n",
    "PPI_BP_annotations_df.to_csv(f\"{ANNOTATIONS_DIRECTORY}/BioGRID-SGD_BP_sc.csv\", index=False)\n",
    "PPI_MF_annotations_df.to_csv(f\"{ANNOTATIONS_DIRECTORY}/BioGRID-SGD_MF_sc.csv\", index=False)\n",
    "PPI_CC_annotations_df.to_csv(f\"{ANNOTATIONS_DIRECTORY}/BioGRID-SGD_CC_sc.csv\", index=False)"
   ]
  }
 ],
 "metadata": {
  "kernelspec": {
   "display_name": "graco",
   "language": "python",
   "name": "graco"
  },
  "language_info": {
   "codemirror_mode": {
    "name": "ipython",
    "version": 3
   },
   "file_extension": ".py",
   "mimetype": "text/x-python",
   "name": "python",
   "nbconvert_exporter": "python",
   "pygments_lexer": "ipython3",
   "version": "3.6.8"
  }
 },
 "nbformat": 4,
 "nbformat_minor": 2
}
