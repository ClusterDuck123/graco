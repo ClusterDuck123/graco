{
 "cells": [
  {
   "cell_type": "code",
   "execution_count": 1,
   "metadata": {},
   "outputs": [],
   "source": [
    "from scipy.spatial.distance import squareform, cdist\n",
    "from functools import partial\n",
    "\n",
    "import os\n",
    "import graco\n",
    "import numpy as np\n",
    "import pandas as pd\n",
    "import networkx as nx"
   ]
  },
  {
   "cell_type": "code",
   "execution_count": 2,
   "metadata": {},
   "outputs": [],
   "source": [
    "pd.set_option(\"display.max_columns\", 50)\n",
    "\n",
    "DATA_DIRECTORY = \"/media/clusterduck123/joe/data\"\n",
    "HUMAN_DIRECTORY = f\"{DATA_DIRECTORY}/processed-data/human\"\n",
    "NETWORK_DIRECTORY = f\"{HUMAN_DIRECTORY}/networks\"\n",
    "MATRIX_DIRECTORY  = f\"{HUMAN_DIRECTORY}/distance-matrices\""
   ]
  },
  {
   "cell_type": "markdown",
   "metadata": {},
   "source": [
    "# Distance matrices"
   ]
  },
  {
   "cell_type": "code",
   "execution_count": 3,
   "metadata": {},
   "outputs": [],
   "source": [
    "PPI_nx = nx.read_edgelist(f\"{NETWORK_DIRECTORY}/PPI_BioGRID.txt\")\n",
    "GDV = graco.orbits(PPI_nx)\n",
    "GCV = graco.coefficients(GDV)"
   ]
  },
  {
   "cell_type": "markdown",
   "metadata": {},
   "source": [
    "## GDV"
   ]
  },
  {
   "cell_type": "markdown",
   "metadata": {},
   "source": [
    "## GCV-D"
   ]
  },
  {
   "cell_type": "code",
   "execution_count": 4,
   "metadata": {},
   "outputs": [],
   "source": [
    "feature = 'GCV-D'\n",
    "feature_matrix = GCV['D']\n",
    "\n",
    "if not os.path.exists(f\"{MATRIX_DIRECTORY}/{feature}\"):\n",
    "    os.makedirs(f\"{MATRIX_DIRECTORY}/{feature}/\")"
   ]
  },
  {
   "cell_type": "code",
   "execution_count": 5,
   "metadata": {},
   "outputs": [],
   "source": [
    "for distance in {'canberra', 'cityblock', 'hellinger'}:\n",
    "    D = graco.GCV_distance(feature_matrix, distance)\n",
    "    np.savetxt(f\"{MATRIX_DIRECTORY}/{feature}/{distance}_BioGRID.txt\", D, \n",
    "           fmt='%.7f', header=' '.join(PPI_nx), comments='')"
   ]
  },
  {
   "cell_type": "markdown",
   "metadata": {},
   "source": [
    "## GCV-A"
   ]
  },
  {
   "cell_type": "code",
   "execution_count": 6,
   "metadata": {},
   "outputs": [],
   "source": [
    "feature = 'GCV-A'\n",
    "feature_matrix = GCV['A']\n",
    "\n",
    "if not os.path.exists(f\"{MATRIX_DIRECTORY}/{feature}\"):\n",
    "    os.makedirs(f\"{MATRIX_DIRECTORY}/{feature}/\")"
   ]
  },
  {
   "cell_type": "code",
   "execution_count": 7,
   "metadata": {},
   "outputs": [],
   "source": [
    "for distance in {'canberra', 'cityblock', 'hellinger'}:\n",
    "    D = graco.GCV_distance(feature_matrix, distance)\n",
    "    np.savetxt(f\"{MATRIX_DIRECTORY}/{feature}/{distance}_BioGRID.txt\", D, \n",
    "           fmt='%.7f', header=' '.join(PPI_nx), comments='')"
   ]
  },
  {
   "cell_type": "markdown",
   "metadata": {},
   "source": [
    "## GCV-G"
   ]
  },
  {
   "cell_type": "code",
   "execution_count": 8,
   "metadata": {},
   "outputs": [],
   "source": [
    "feature = 'GCV-G'\n",
    "feature_matrix = GCV['G']\n",
    "\n",
    "if not os.path.exists(f\"{MATRIX_DIRECTORY}/{feature}\"):\n",
    "    os.makedirs(f\"{MATRIX_DIRECTORY}/{feature}/\")"
   ]
  },
  {
   "cell_type": "code",
   "execution_count": 9,
   "metadata": {},
   "outputs": [],
   "source": [
    "for distance in {'canberra', 'cityblock', 'hellinger'}:\n",
    "    D = graco.GCV_distance(feature_matrix, distance)\n",
    "    np.savetxt(f\"{MATRIX_DIRECTORY}/{feature}/{distance}_BioGRID.txt\", D, \n",
    "           fmt='%.7f', header=' '.join(PPI_nx), comments='')"
   ]
  },
  {
   "cell_type": "markdown",
   "metadata": {},
   "source": [
    "## GCV-DA"
   ]
  },
  {
   "cell_type": "code",
   "execution_count": 4,
   "metadata": {},
   "outputs": [],
   "source": [
    "feature = 'GCV-DA'\n",
    "feature_matrix = GCV[['D','A']]\n",
    "\n",
    "if not os.path.exists(f\"{MATRIX_DIRECTORY}/{feature}\"):\n",
    "    os.makedirs(f\"{MATRIX_DIRECTORY}/{feature}/\")"
   ]
  },
  {
   "cell_type": "code",
   "execution_count": 5,
   "metadata": {},
   "outputs": [],
   "source": [
    "for distance in {'hellinger'}:\n",
    "    D = graco.GCV_distance_matrix(feature_matrix, distance)\n",
    "    np.savetxt(f\"{MATRIX_DIRECTORY}/{feature}/{distance}_BioGRID.txt\", D, \n",
    "           fmt='%.7f', header=' '.join(PPI_nx), comments='')\n",
    "    del D"
   ]
  },
  {
   "cell_type": "markdown",
   "metadata": {},
   "source": [
    "## GCV-DG"
   ]
  },
  {
   "cell_type": "code",
   "execution_count": 4,
   "metadata": {},
   "outputs": [],
   "source": [
    "feature = 'GCV-DG'\n",
    "feature_matrix = GCV[['D','G']]\n",
    "\n",
    "if not os.path.exists(f\"{MATRIX_DIRECTORY}/{feature}\"):\n",
    "    os.makedirs(f\"{MATRIX_DIRECTORY}/{feature}/\")"
   ]
  },
  {
   "cell_type": "code",
   "execution_count": 5,
   "metadata": {},
   "outputs": [],
   "source": [
    "for distance in {'canberra', 'cityblock', 'hellinger'}:\n",
    "    D = graco.GCV_distance_matrix(feature_matrix, distance)\n",
    "    np.savetxt(f\"{MATRIX_DIRECTORY}/{feature}/{distance}_BioGRID.txt\", D, \n",
    "           fmt='%.7f', header=' '.join(PPI_nx), comments='')\n",
    "    del D"
   ]
  },
  {
   "cell_type": "code",
   "execution_count": null,
   "metadata": {},
   "outputs": [],
   "source": []
  }
 ],
 "metadata": {
  "kernelspec": {
   "display_name": "graco",
   "language": "python",
   "name": "graco"
  },
  "language_info": {
   "codemirror_mode": {
    "name": "ipython",
    "version": 3
   },
   "file_extension": ".py",
   "mimetype": "text/x-python",
   "name": "python",
   "nbconvert_exporter": "python",
   "pygments_lexer": "ipython3",
   "version": "3.6.8"
  }
 },
 "nbformat": 4,
 "nbformat_minor": 2
}
