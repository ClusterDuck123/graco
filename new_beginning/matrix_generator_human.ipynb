{
 "cells": [
  {
   "cell_type": "code",
   "execution_count": 1,
   "metadata": {},
   "outputs": [],
   "source": [
    "from scipy.spatial.distance import squareform, cdist\n",
    "from functools import partial\n",
    "\n",
    "import os\n",
    "import graco\n",
    "import numpy as np\n",
    "import pandas as pd\n",
    "import networkx as nx"
   ]
  },
  {
   "cell_type": "code",
   "execution_count": 2,
   "metadata": {},
   "outputs": [],
   "source": [
    "PROCESSEDDATA_DIRECTORY = \"/home/clusterduck123/Desktop/git/supplements/data/processed_data/\"\n",
    "PPI_DIRECTORY = f\"{PROCESSEDDATA_DIRECTORY}/PPIs\"\n",
    "ORGANISM = \"human\""
   ]
  },
  {
   "cell_type": "code",
   "execution_count": 3,
   "metadata": {},
   "outputs": [],
   "source": [
    "FEATURE_DIRECTORY = f\"{PROCESSEDDATA_DIRECTORY}/{ORGANISM}/features\"\n",
    "    \n",
    "if not os.path.exists(FEATURE_DIRECTORY):\n",
    "    os.makedirs(FEATURE_DIRECTORY)"
   ]
  },
  {
   "cell_type": "markdown",
   "metadata": {},
   "source": [
    "# Distance matrices"
   ]
  },
  {
   "cell_type": "code",
   "execution_count": 4,
   "metadata": {},
   "outputs": [],
   "source": [
    "PPI_nx = nx.read_edgelist(f\"{PPI_DIRECTORY}/hs_BioGRID.txt\")\n",
    "GDV = graco.orbits(PPI_nx)\n",
    "GCV = graco.coefficients(GDV)"
   ]
  },
  {
   "cell_type": "markdown",
   "metadata": {},
   "source": [
    "## GDV-based"
   ]
  },
  {
   "cell_type": "code",
   "execution_count": 5,
   "metadata": {},
   "outputs": [],
   "source": [
    "if not os.path.exists(f\"{FEATURE_DIRECTORY}/GDV/distance_matrices\"):\n",
    "    os.makedirs(f\"{FEATURE_DIRECTORY}/GDV/distance_matrices/\")"
   ]
  },
  {
   "cell_type": "markdown",
   "metadata": {},
   "source": [
    "### graco"
   ]
  },
  {
   "cell_type": "code",
   "execution_count": 6,
   "metadata": {},
   "outputs": [],
   "source": [
    "# GDV similaritz\n",
    "D = graco.distances.GDV_similarity(GDV)\n",
    "np.savetxt(f\"{FEATURE_DIRECTORY}/GDV/distance_matrices/GDV-similarity_BioGRID.txt\", D, \n",
    "           fmt='%.7f', header=' '.join(PPI_nx), comments='')"
   ]
  },
  {
   "cell_type": "code",
   "execution_count": 7,
   "metadata": {},
   "outputs": [],
   "source": [
    "# Normalized L_p\n",
    "D = graco.distances.normalized1_lp(GDV,1)\n",
    "np.savetxt(f\"{FEATURE_DIRECTORY}/GDV/distance_matrices/normalized1-l1_BioGRID.txt\", D, \n",
    "           fmt='%.7f', header=' '.join(PPI_nx), comments='')\n",
    "\n",
    "D = graco.distances.normalized1_lp(GDV,2)\n",
    "np.savetxt(f\"{FEATURE_DIRECTORY}/GDV/distance_matrices/normalized1-l2_BioGRID.txt\", D, \n",
    "           fmt='%.7f', header=' '.join(PPI_nx), comments='')\n",
    "\n",
    "D = graco.distances.normalized1_lp(GDV,np.inf)\n",
    "np.savetxt(f\"{FEATURE_DIRECTORY}/GDV/distance_matrices/normalized1-linf_BioGRID.txt\", D, \n",
    "           fmt='%.7f', header=' '.join(PPI_nx), comments='')"
   ]
  },
  {
   "cell_type": "markdown",
   "metadata": {},
   "source": [
    "### cdist"
   ]
  },
  {
   "cell_type": "code",
   "execution_count": 8,
   "metadata": {},
   "outputs": [],
   "source": [
    "all_distances = ['euclidean', 'cityblock', 'seuclidean', 'sqeuclidean', \n",
    "                 'cosine', 'correlation', 'chebyshev', 'canberra', \n",
    "                 'braycurtis', 'mahalanobis']"
   ]
  },
  {
   "cell_type": "code",
   "execution_count": 9,
   "metadata": {},
   "outputs": [],
   "source": [
    "for distance in all_distances:\n",
    "    D = cdist(GDV.values, GDV.values, distance)\n",
    "    np.savetxt(f\"{FEATURE_DIRECTORY}/GDV/distance_matrices/{distance}_BioGRID.txt\", D, \n",
    "               fmt='%.7f', header=' '.join(PPI_nx), comments='')"
   ]
  },
  {
   "cell_type": "markdown",
   "metadata": {},
   "source": [
    "## GCV-based"
   ]
  },
  {
   "cell_type": "code",
   "execution_count": 11,
   "metadata": {},
   "outputs": [
    {
     "ename": "FileNotFoundError",
     "evalue": "[Errno 2] No such file or directory: '/home/clusterduck123/Desktop/git/supplements/data/processed_data//PPIs/BioGRID_sc.txt'",
     "output_type": "error",
     "traceback": [
      "\u001b[0;31m---------------------------------------------------------------------------\u001b[0m",
      "\u001b[0;31mFileNotFoundError\u001b[0m                         Traceback (most recent call last)",
      "\u001b[0;32m<ipython-input-11-40ffb81a8905>\u001b[0m in \u001b[0;36m<module>\u001b[0;34m\u001b[0m\n\u001b[0;32m----> 1\u001b[0;31m \u001b[0mPPI_nx\u001b[0m \u001b[0;34m=\u001b[0m \u001b[0mnx\u001b[0m\u001b[0;34m.\u001b[0m\u001b[0mread_edgelist\u001b[0m\u001b[0;34m(\u001b[0m\u001b[0;34mf\"{PPI_DIRECTORY}/BioGRID_sc.txt\"\u001b[0m\u001b[0;34m)\u001b[0m\u001b[0;34m\u001b[0m\u001b[0;34m\u001b[0m\u001b[0m\n\u001b[0m\u001b[1;32m      2\u001b[0m \u001b[0mGCV\u001b[0m \u001b[0;34m=\u001b[0m \u001b[0mgraco\u001b[0m\u001b[0;34m.\u001b[0m\u001b[0mcoefficients\u001b[0m\u001b[0;34m(\u001b[0m\u001b[0mPPI_nx\u001b[0m\u001b[0;34m)\u001b[0m\u001b[0;34m\u001b[0m\u001b[0;34m\u001b[0m\u001b[0m\n",
      "\u001b[0;32m</home/clusterduck123/Desktop/git/supplements/venv/graco/lib/python3.6/site-packages/decorator.py:decorator-gen-743>\u001b[0m in \u001b[0;36mread_edgelist\u001b[0;34m(path, comments, delimiter, create_using, nodetype, data, edgetype, encoding)\u001b[0m\n",
      "\u001b[0;32m~/Desktop/git/supplements/venv/graco/lib/python3.6/site-packages/networkx/utils/decorators.py\u001b[0m in \u001b[0;36m_open_file\u001b[0;34m(func_to_be_decorated, *args, **kwargs)\u001b[0m\n\u001b[1;32m    212\u001b[0m         \u001b[0;32mif\u001b[0m \u001b[0mis_string_like\u001b[0m\u001b[0;34m(\u001b[0m\u001b[0mpath\u001b[0m\u001b[0;34m)\u001b[0m\u001b[0;34m:\u001b[0m\u001b[0;34m\u001b[0m\u001b[0;34m\u001b[0m\u001b[0m\n\u001b[1;32m    213\u001b[0m             \u001b[0mext\u001b[0m \u001b[0;34m=\u001b[0m \u001b[0msplitext\u001b[0m\u001b[0;34m(\u001b[0m\u001b[0mpath\u001b[0m\u001b[0;34m)\u001b[0m\u001b[0;34m[\u001b[0m\u001b[0;36m1\u001b[0m\u001b[0;34m]\u001b[0m\u001b[0;34m\u001b[0m\u001b[0;34m\u001b[0m\u001b[0m\n\u001b[0;32m--> 214\u001b[0;31m             \u001b[0mfobj\u001b[0m \u001b[0;34m=\u001b[0m \u001b[0m_dispatch_dict\u001b[0m\u001b[0;34m[\u001b[0m\u001b[0mext\u001b[0m\u001b[0;34m]\u001b[0m\u001b[0;34m(\u001b[0m\u001b[0mpath\u001b[0m\u001b[0;34m,\u001b[0m \u001b[0mmode\u001b[0m\u001b[0;34m=\u001b[0m\u001b[0mmode\u001b[0m\u001b[0;34m)\u001b[0m\u001b[0;34m\u001b[0m\u001b[0;34m\u001b[0m\u001b[0m\n\u001b[0m\u001b[1;32m    215\u001b[0m             \u001b[0mclose_fobj\u001b[0m \u001b[0;34m=\u001b[0m \u001b[0;32mTrue\u001b[0m\u001b[0;34m\u001b[0m\u001b[0;34m\u001b[0m\u001b[0m\n\u001b[1;32m    216\u001b[0m         \u001b[0;32melif\u001b[0m \u001b[0mhasattr\u001b[0m\u001b[0;34m(\u001b[0m\u001b[0mpath\u001b[0m\u001b[0;34m,\u001b[0m \u001b[0;34m'read'\u001b[0m\u001b[0;34m)\u001b[0m\u001b[0;34m:\u001b[0m\u001b[0;34m\u001b[0m\u001b[0;34m\u001b[0m\u001b[0m\n",
      "\u001b[0;31mFileNotFoundError\u001b[0m: [Errno 2] No such file or directory: '/home/clusterduck123/Desktop/git/supplements/data/processed_data//PPIs/BioGRID_sc.txt'"
     ]
    }
   ],
   "source": [
    "PPI_nx = nx.read_edgelist(f\"{PPI_DIRECTORY}/BioGRID_sc.txt\")\n",
    "GCV = graco.coefficients(PPI_nx)"
   ]
  },
  {
   "cell_type": "markdown",
   "metadata": {},
   "source": [
    "### TVD - individual"
   ]
  },
  {
   "cell_type": "code",
   "execution_count": 8,
   "metadata": {},
   "outputs": [
    {
     "name": "stdout",
     "output_type": "stream",
     "text": [
      "0-0: 165.49sec\n",
      "-1-3: 161.96sec\n",
      "3-3: 162.53sec\n",
      "1-1: 162.82sec\n",
      "-1-2: 162.89sec\n",
      "-1-0: 161.32sec\n",
      "-1-1: 162.55sec\n",
      "1-2: 161.95sec\n",
      "2-1: 160.59sec\n"
     ]
    }
   ],
   "source": [
    "for order,source in set((order,source) for order,source,target in GCV.columns):\n",
    "    t1 = time.time()\n",
    "    D = cdist(np.array(GCV[order][source]), np.array(GCV[order][source]), graco.functions.tvd)\n",
    "    t2 = time.time()\n",
    "    print(f'{order}-{source}: {t2-t1:.2f}sec')  \n",
    "    np.savetxt(f\"{MATRIX_DIRECTORY}/sc_BioGRID_{order}GCV{source}_tvd.txt\", D, \n",
    "               fmt='%.7f', header=' '.join(PPI_nx), comments='')"
   ]
  },
  {
   "cell_type": "markdown",
   "metadata": {},
   "source": [
    "### TVD - combination"
   ]
  },
  {
   "cell_type": "code",
   "execution_count": 11,
   "metadata": {},
   "outputs": [],
   "source": [
    "D_list = []\n",
    "\n",
    "for order,source in set((order,source) for order,source,target in GCV.columns):\n",
    "    df = pd.read_csv(f\"{MATRIX_DIRECTORY}/sc_BioGRID_{order}GCV{source}_tvd.txt\", delimiter=' ')\n",
    "    D_list.append(np.array(df))\n",
    "\n",
    "D = np.nanmean(D_list, axis=0)\n",
    "np.savetxt(f\"{MATRIX_DIRECTORY}/sc_BioGRID_GCV_TVD.txt\", D, \n",
    "               fmt='%.7f', header=' '.join(PPI_nx), comments='')"
   ]
  },
  {
   "cell_type": "markdown",
   "metadata": {},
   "source": [
    "### Rest"
   ]
  },
  {
   "cell_type": "code",
   "execution_count": 7,
   "metadata": {},
   "outputs": [],
   "source": [
    "GCV = GCV.fillna(0)\n",
    "all_distances = ['euclidean', 'cityblock', 'seuclidean', 'sqeuclidean', \n",
    "                 'cosine', 'correlation', 'chebyshev', 'canberra', \n",
    "                 'braycurtis', 'mahalanobis']"
   ]
  },
  {
   "cell_type": "code",
   "execution_count": 16,
   "metadata": {},
   "outputs": [],
   "source": [
    "for distance in all_distances:\n",
    "    D = cdist(GCV.values, GCV.values, distance)\n",
    "    np.savetxt(f\"{MATRIX_DIRECTORY}/sc_BioGRID_GCV_{distance}.txt\", D, \n",
    "               fmt='%.7f', header=' '.join(PPI_nx), comments='')"
   ]
  },
  {
   "cell_type": "markdown",
   "metadata": {},
   "source": [
    "### Rest - individual"
   ]
  },
  {
   "cell_type": "code",
   "execution_count": 7,
   "metadata": {},
   "outputs": [],
   "source": [
    "all_distances = ['euclidean', 'cityblock', 'sqeuclidean', \n",
    "                 'cosine', 'correlation', 'chebyshev', 'canberra', \n",
    "                 'braycurtis']"
   ]
  },
  {
   "cell_type": "code",
   "execution_count": 8,
   "metadata": {
    "collapsed": true
   },
   "outputs": [
    {
     "name": "stdout",
     "output_type": "stream",
     "text": [
      "-1-3: 0.13sec\n",
      "0-0: 0.07sec\n",
      "1-1: 0.12sec\n",
      "3-3: 0.11sec\n",
      "-1-1: 0.12sec\n",
      "-1-0: 0.09sec\n",
      "1-2: 0.11sec\n",
      "2-1: 0.12sec\n",
      "-1-2: 0.13sec\n",
      "-1-3: 0.08sec\n",
      "0-0: 0.07sec\n",
      "1-1: 0.09sec\n",
      "3-3: 0.10sec\n",
      "-1-1: 0.10sec\n",
      "-1-0: 0.06sec\n",
      "1-2: 0.09sec\n",
      "2-1: 0.10sec\n",
      "-1-2: 0.09sec\n",
      "-1-3: 0.22sec\n",
      "0-0: 0.16sec\n",
      "1-1: 0.25sec\n",
      "3-3: 0.35sec\n",
      "-1-1: 0.23sec\n",
      "-1-0: 0.21sec\n",
      "1-2: 0.25sec\n",
      "2-1: 0.34sec\n",
      "-1-2: 0.21sec\n",
      "-1-3: 0.22sec\n",
      "0-0: 0.07sec\n",
      "1-1: 0.14sec\n",
      "3-3: 0.16sec\n",
      "-1-1: 0.18sec\n",
      "-1-0: 0.08sec\n",
      "1-2: 0.16sec\n",
      "2-1: 0.16sec\n",
      "-1-2: 0.15sec\n",
      "-1-3: 0.10sec\n",
      "0-0: 0.15sec\n",
      "1-1: 0.22sec\n",
      "3-3: 0.13sec\n",
      "-1-1: 0.19sec\n",
      "-1-0: 0.16sec\n",
      "1-2: 0.20sec\n",
      "2-1: 0.11sec\n",
      "-1-2: 0.18sec\n",
      "-1-3: 0.19sec\n",
      "0-0: 0.19sec\n",
      "1-1: 0.19sec\n",
      "3-3: 0.21sec\n",
      "-1-1: 0.11sec\n",
      "-1-0: 0.22sec\n",
      "1-2: 0.22sec\n",
      "2-1: 0.19sec\n",
      "-1-2: 0.20sec\n",
      "-1-3: 0.09sec\n",
      "0-0: 0.14sec\n",
      "1-1: 0.19sec\n",
      "3-3: 0.11sec\n",
      "-1-1: 0.22sec\n",
      "-1-0: 0.07sec\n",
      "1-2: 0.16sec\n",
      "2-1: 0.12sec\n",
      "-1-2: 0.08sec\n",
      "-1-3: 0.16sec\n",
      "0-0: 0.13sec\n",
      "1-1: 0.21sec\n",
      "3-3: 0.23sec\n",
      "-1-1: 0.30sec\n",
      "-1-0: 0.13sec\n",
      "1-2: 0.27sec\n",
      "2-1: 0.32sec\n",
      "-1-2: 0.18sec\n",
      "-1-3: 0.19sec\n",
      "0-0: 0.15sec\n",
      "1-1: 0.16sec\n",
      "3-3: 0.22sec\n",
      "-1-1: 0.22sec\n",
      "-1-0: 0.09sec\n",
      "1-2: 0.18sec\n",
      "2-1: 0.21sec\n",
      "-1-2: 0.21sec\n",
      "-1-3: 0.41sec\n",
      "0-0: 0.29sec\n",
      "1-1: 0.62sec\n",
      "3-3: 0.58sec\n",
      "-1-1: 0.61sec\n",
      "-1-0: 0.32sec\n",
      "1-2: 0.53sec\n",
      "2-1: 0.69sec\n",
      "-1-2: 0.36sec\n"
     ]
    }
   ],
   "source": [
    "for distance in all_distances:\n",
    "    for order,source in set((order,source) for order,source,target in GCV.columns):\n",
    "        D = cdist(np.array(GCV[order][source]), np.array(GCV[order][source]), distance)\n",
    "        print(f'{distance} {order: <2} {source}')  \n",
    "        np.savetxt(f\"{MATRIX_DIRECTORY}/sc_BioGRID_{order}GCV{source}_{distance}.txt\", D, \n",
    "                   fmt='%.7f', header=' '.join(PPI_nx), comments='')"
   ]
  },
  {
   "cell_type": "markdown",
   "metadata": {},
   "source": [
    "### Rest - combination"
   ]
  },
  {
   "cell_type": "code",
   "execution_count": 10,
   "metadata": {
    "collapsed": true
   },
   "outputs": [
    {
     "name": "stdout",
     "output_type": "stream",
     "text": [
      "euclidean\n",
      "cityblock\n",
      "seuclidean\n",
      "sqeuclidean\n",
      "cosine\n",
      "correlation\n",
      "chebyshev\n",
      "canberra\n",
      "braycurtis\n",
      "mahalanobis\n"
     ]
    }
   ],
   "source": [
    "for distance in all_distances:\n",
    "    D_list = []\n",
    "    for order,source in set((order,source) for order,source,target in GCV.columns):\n",
    "        df = pd.read_csv(f\"{MATRIX_DIRECTORY}/sc_BioGRID_{order}GCV{source}_{distance}.txt\", delimiter=' ')\n",
    "        D_list.append(np.array(df))\n",
    "\n",
    "    D = np.nanmean(D_list, axis=0)\n",
    "    print(distance)\n",
    "    np.savetxt(f\"{MATRIX_DIRECTORY}/sc_BioGRID_gGCV_{distance}.txt\", D, \n",
    "                   fmt='%.7f', header=' '.join(PPI_nx), comments='')"
   ]
  },
  {
   "cell_type": "markdown",
   "metadata": {},
   "source": [
    "### Normalized $L_p$"
   ]
  },
  {
   "cell_type": "code",
   "execution_count": 21,
   "metadata": {},
   "outputs": [],
   "source": [
    "def normalized_lp(P,Q,p=1):\n",
    "    v1 = np.divide(P, P+Q, out=np.zeros_like(P), where=(P+Q)!=0)\n",
    "    v2 = np.divide(Q, P+Q, out=np.zeros_like(Q), where=(P+Q)!=0)\n",
    "    return np.linalg.norm(v1-v2,p)\n",
    "\n",
    "def normalized_l1(P,Q):\n",
    "    return normalized_lp(P,Q,1)\n",
    "\n",
    "def normalized_l2(P,Q):\n",
    "    return normalized_lp(P,Q,2)\n",
    "\n",
    "def normalized_linf(P,Q):\n",
    "    return normalized_lp(P,Q,np.inf)"
   ]
  },
  {
   "cell_type": "code",
   "execution_count": 67,
   "metadata": {},
   "outputs": [],
   "source": [
    "p = 2"
   ]
  },
  {
   "cell_type": "code",
   "execution_count": 68,
   "metadata": {},
   "outputs": [
    {
     "name": "stdout",
     "output_type": "stream",
     "text": [
      "1.0\n"
     ]
    }
   ],
   "source": [
    "list_ = []\n",
    "for a,b in product(np.linspace(0,1,10), repeat=2):\n",
    "    v1 = np.array([a,1-b])\n",
    "    v2 = np.array([b,1-b])\n",
    "    \n",
    "    v1 = np.where(v1<0,0,v1)\n",
    "    v2 = np.where(v2<0,0,v2)\n",
    "    \n",
    "    list_.append(normalized_lp(v1,v2,p))\n",
    "print(max(list_))"
   ]
  },
  {
   "cell_type": "code",
   "execution_count": 69,
   "metadata": {},
   "outputs": [
    {
     "name": "stdout",
     "output_type": "stream",
     "text": [
      "1.7320508075688772\n"
     ]
    }
   ],
   "source": [
    "list_ = []\n",
    "for a,b,c,d in product(np.linspace(0,1,10), repeat=4):\n",
    "    if (a+b>1) or (c+d)>1:\n",
    "        continue\n",
    "    else:\n",
    "        v1 = np.array([a,b,1-a-b])\n",
    "        v2 = np.array([c,d,1-c-d])\n",
    "        \n",
    "        v1 = np.where(v1<0,0,v1)\n",
    "        v2 = np.where(v2<0,0,v2)\n",
    "        \n",
    "        list_.append(normalized_lp(v1,v2,p))\n",
    "print(max(list_))"
   ]
  },
  {
   "cell_type": "code",
   "execution_count": 70,
   "metadata": {},
   "outputs": [
    {
     "name": "stdout",
     "output_type": "stream",
     "text": [
      "2.0\n"
     ]
    }
   ],
   "source": [
    "list_ = []\n",
    "for a,b,c,d,e,f in product(np.linspace(0,1,10), repeat=6):\n",
    "    if (a+b+c>1) or (d+e+f)>1:\n",
    "        continue\n",
    "    else:\n",
    "        v1 = np.array([a,b,c,1-a-b-c])\n",
    "        v2 = np.array([d,e,f,1-d-e-f])\n",
    "        \n",
    "        v1 = np.where(v1<0,0,v1)\n",
    "        v2 = np.where(v2<0,0,v2)\n",
    "        \n",
    "        list_.append(normalized_lp(v1,v2,p))\n",
    "print(max(list_))"
   ]
  },
  {
   "cell_type": "markdown",
   "metadata": {},
   "source": [
    "#### Normalizes $L_p$ - individual"
   ]
  },
  {
   "cell_type": "code",
   "execution_count": 11,
   "metadata": {},
   "outputs": [
    {
     "name": "stdout",
     "output_type": "stream",
     "text": [
      "3  3\n",
      "1  2\n",
      "-1 0\n",
      "-1 1\n",
      "-1 2\n",
      "1  1\n",
      "0  0\n",
      "2  1\n",
      "-1 3\n"
     ]
    }
   ],
   "source": [
    "# p=1\n",
    "for order,source in set((order,source) for order,source,target in GCV.columns):\n",
    "    D = cdist(np.array(GCV[order][source]), np.array(GCV[order][source]), normalized_l1) / GCV[order][source].shape[1]\n",
    "    print(f'{order: <2} {source}')  \n",
    "    np.savetxt(f\"{MATRIX_DIRECTORY}/sc_BioGRID_{order}GCV{source}_normalizedl1.txt\", D, \n",
    "               fmt='%.7f', header=' '.join(PPI_nx), comments='')"
   ]
  },
  {
   "cell_type": "code",
   "execution_count": 12,
   "metadata": {},
   "outputs": [
    {
     "name": "stdout",
     "output_type": "stream",
     "text": [
      "0.9127796\n",
      "0.8750902\n",
      "1.0\n",
      "1.0\n",
      "1.0\n",
      "0.9175424999999999\n",
      "0.8398652\n",
      "0.9237966000000001\n",
      "1.0\n",
      "0.8864963166666667\n",
      "\n"
     ]
    }
   ],
   "source": [
    "# p=1\n",
    "D_list = []\n",
    "for order,source in set((order,source) for order,source,target in GCV.columns):\n",
    "    df = pd.read_csv(f\"{MATRIX_DIRECTORY}/sc_BioGRID_{order}GCV{source}_normalizedl1.txt\", delimiter=' ')\n",
    "    D_list.append(np.array(df))\n",
    "    print(np.nanmax(np.array(df)))\n",
    "\n",
    "D = np.nanmean(D_list, axis=0)\n",
    "print(np.max(D))\n",
    "print()\n",
    "np.savetxt(f\"{MATRIX_DIRECTORY}/sc_BioGRID_gGCV_normalizedl1.txt\", D, \n",
    "               fmt='%.7f', header=' '.join(PPI_nx), comments='')"
   ]
  },
  {
   "cell_type": "code",
   "execution_count": 74,
   "metadata": {},
   "outputs": [
    {
     "name": "stdout",
     "output_type": "stream",
     "text": [
      "3  3\n",
      "2  1\n",
      "-1 2\n",
      "1  1\n",
      "0  0\n",
      "-1 1\n",
      "1  2\n",
      "-1 0\n",
      "-1 3\n"
     ]
    }
   ],
   "source": [
    "# p=2\n",
    "for order,source in set((order,source) for order,source,target in GCV.columns):\n",
    "    D = cdist(np.array(GCV[order][source]), np.array(GCV[order][source]), normalized_l2) / np.sqrt(GCV[order][source].shape[1])\n",
    "    print(f'{order: <2} {source}')  \n",
    "    np.savetxt(f\"{MATRIX_DIRECTORY}/sc_BioGRID_{order}GCV{source}_normalizedl2.txt\", D, \n",
    "               fmt='%.7f', header=' '.join(PPI_nx), comments='')"
   ]
  },
  {
   "cell_type": "code",
   "execution_count": 75,
   "metadata": {},
   "outputs": [
    {
     "name": "stdout",
     "output_type": "stream",
     "text": [
      "0.9251966\n",
      "0.9331779\n",
      "1.0\n",
      "0.9278732\n",
      "0.8549950999999999\n",
      "1.0\n",
      "0.8948482\n",
      "1.0\n",
      "1.0\n",
      "0.9001188599999999\n",
      "\n"
     ]
    }
   ],
   "source": [
    "# p=2\n",
    "D_list = []\n",
    "for order,source in set((order,source) for order,source,target in GCV.columns):\n",
    "    df = pd.read_csv(f\"{MATRIX_DIRECTORY}/sc_BioGRID_{order}GCV{source}_normalizedl2.txt\", delimiter=' ')\n",
    "    D_list.append(np.array(df))\n",
    "    print(np.nanmax(np.array(df)))\n",
    "\n",
    "D = np.nanmean(D_list, axis=0)\n",
    "print(np.max(D))\n",
    "print()\n",
    "np.savetxt(f\"{MATRIX_DIRECTORY}/sc_BioGRID_gGCV_normalizedl2.txt\", D, \n",
    "               fmt='%.7f', header=' '.join(PPI_nx), comments='')"
   ]
  },
  {
   "cell_type": "code",
   "execution_count": null,
   "metadata": {},
   "outputs": [],
   "source": []
  }
 ],
 "metadata": {
  "kernelspec": {
   "display_name": "graco",
   "language": "python",
   "name": "graco"
  },
  "language_info": {
   "codemirror_mode": {
    "name": "ipython",
    "version": 3
   },
   "file_extension": ".py",
   "mimetype": "text/x-python",
   "name": "python",
   "nbconvert_exporter": "python",
   "pygments_lexer": "ipython3",
   "version": "3.6.8"
  }
 },
 "nbformat": 4,
 "nbformat_minor": 2
}
