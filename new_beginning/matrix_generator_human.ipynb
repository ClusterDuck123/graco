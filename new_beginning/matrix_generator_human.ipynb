{
 "cells": [
  {
   "cell_type": "code",
   "execution_count": 1,
   "metadata": {},
   "outputs": [],
   "source": [
    "from scipy.spatial.distance import squareform, cdist\n",
    "from functools import partial\n",
    "\n",
    "import os\n",
    "import graco\n",
    "import numpy as np\n",
    "import pandas as pd\n",
    "import networkx as nx"
   ]
  },
  {
   "cell_type": "code",
   "execution_count": 2,
   "metadata": {},
   "outputs": [],
   "source": [
    "pd.set_option(\"display.max_columns\", 50)\n",
    "\n",
    "DATA_DIRECTORY = \"/media/clusterduck123/joe/data\"\n",
    "HUMAN_DIRECTORY = f\"{DATA_DIRECTORY}/processed-data/human\"\n",
    "NETWORK_DIRECTORY = f\"{HUMAN_DIRECTORY}/networks\"\n",
    "MATRIX_DIRECTORY  = f\"{HUMAN_DIRECTORY}/distance-matrices\""
   ]
  },
  {
   "cell_type": "markdown",
   "metadata": {},
   "source": [
    "# Distance matrices"
   ]
  },
  {
   "cell_type": "code",
   "execution_count": 3,
   "metadata": {},
   "outputs": [],
   "source": [
    "PPI_nx = nx.read_edgelist(f\"{NETWORK_DIRECTORY}/PPI_BioGRID.txt\")\n",
    "GDV = graco.orbits(PPI_nx)\n",
    "GCV = graco.coefficients(GDV)"
   ]
  },
  {
   "cell_type": "markdown",
   "metadata": {},
   "source": [
    "## GDV"
   ]
  },
  {
   "cell_type": "markdown",
   "metadata": {},
   "source": [
    "## GCV-D"
   ]
  },
  {
   "cell_type": "code",
   "execution_count": 4,
   "metadata": {},
   "outputs": [],
   "source": [
    "feature = 'GCV-D'\n",
    "feature_matrix = GCV['D']\n",
    "\n",
    "if not os.path.exists(f\"{MATRIX_DIRECTORY}/{feature}\"):\n",
    "    os.makedirs(f\"{MATRIX_DIRECTORY}/{feature}/\")"
   ]
  },
  {
   "cell_type": "code",
   "execution_count": 5,
   "metadata": {},
   "outputs": [],
   "source": [
    "for distance in {'canberra', 'cityblock', 'hellinger'}:\n",
    "    D = graco.GCV_distance(feature_matrix, distance)\n",
    "    np.savetxt(f\"{MATRIX_DIRECTORY}/{feature}/{distance}_BioGRID.txt\", D, \n",
    "           fmt='%.7f', header=' '.join(PPI_nx), comments='')"
   ]
  },
  {
   "cell_type": "markdown",
   "metadata": {},
   "source": [
    "## GCV-A"
   ]
  },
  {
   "cell_type": "code",
   "execution_count": 6,
   "metadata": {},
   "outputs": [],
   "source": [
    "feature = 'GCV-A'\n",
    "feature_matrix = GCV['A']\n",
    "\n",
    "if not os.path.exists(f\"{MATRIX_DIRECTORY}/{feature}\"):\n",
    "    os.makedirs(f\"{MATRIX_DIRECTORY}/{feature}/\")"
   ]
  },
  {
   "cell_type": "code",
   "execution_count": null,
   "metadata": {},
   "outputs": [],
   "source": [
    "for distance in {'canberra', 'cityblock', 'hellinger'}:\n",
    "    D = graco.GCV_distance(feature_matrix, distance)\n",
    "    np.savetxt(f\"{MATRIX_DIRECTORY}/{feature}/{distance}_BioGRID.txt\", D, \n",
    "           fmt='%.7f', header=' '.join(PPI_nx), comments='')"
   ]
  },
  {
   "cell_type": "markdown",
   "metadata": {},
   "source": [
    "## GCV-G"
   ]
  },
  {
   "cell_type": "code",
   "execution_count": null,
   "metadata": {},
   "outputs": [],
   "source": [
    "feature = 'GCV-G'\n",
    "feature_matrix = GCV['G']\n",
    "\n",
    "if not os.path.exists(f\"{MATRIX_DIRECTORY}/{feature}\"):\n",
    "    os.makedirs(f\"{MATRIX_DIRECTORY}/{feature}/\")"
   ]
  },
  {
   "cell_type": "code",
   "execution_count": null,
   "metadata": {},
   "outputs": [],
   "source": [
    "for distance in {'canberra', 'cityblock', 'hellinger'}:\n",
    "    D = graco.GCV_distance(feature_matrix, distance)\n",
    "    np.savetxt(f\"{MATRIX_DIRECTORY}/{feature}/{distance}_BioGRID.txt\", D, \n",
    "           fmt='%.7f', header=' '.join(PPI_nx), comments='')"
   ]
  },
  {
   "cell_type": "markdown",
   "metadata": {},
   "source": [
    "## GCV-DA"
   ]
  },
  {
   "cell_type": "code",
   "execution_count": null,
   "metadata": {},
   "outputs": [],
   "source": [
    "feature = 'GCV-DA'\n",
    "feature_matrix = GCV[['D','A']]\n",
    "\n",
    "if not os.path.exists(f\"{MATRIX_DIRECTORY}/{feature}\"):\n",
    "    os.makedirs(f\"{MATRIX_DIRECTORY}/{feature}/\")"
   ]
  },
  {
   "cell_type": "code",
   "execution_count": null,
   "metadata": {},
   "outputs": [],
   "source": [
    "for distance in {'canberra', 'cityblock', 'hellinger'}:\n",
    "    D = graco.GCV_distance(feature_matrix, distance)\n",
    "    np.savetxt(f\"{MATRIX_DIRECTORY}/{feature}/{distance}_BioGRID.txt\", D, \n",
    "           fmt='%.7f', header=' '.join(PPI_nx), comments='')"
   ]
  },
  {
   "cell_type": "markdown",
   "metadata": {},
   "source": [
    "## GCV-DG"
   ]
  },
  {
   "cell_type": "code",
   "execution_count": 5,
   "metadata": {},
   "outputs": [],
   "source": [
    "GCV_DG = GCV[['D', 'G']]\n",
    "\n",
    "if not os.path.exists(f\"{MATRIX_DIRECTORY}/GCV-DG\"):\n",
    "    os.makedirs(f\"{MATRIX_DIRECTORY}/GCV-DG/\")"
   ]
  },
  {
   "cell_type": "code",
   "execution_count": 6,
   "metadata": {},
   "outputs": [],
   "source": [
    "order_source_DG = sorted({(order,source) for order,source,target in GCV_DG.columns})"
   ]
  },
  {
   "cell_type": "markdown",
   "metadata": {},
   "source": [
    "### graco"
   ]
  },
  {
   "cell_type": "code",
   "execution_count": 8,
   "metadata": {},
   "outputs": [
    {
     "name": "stdout",
     "output_type": "stream",
     "text": [
      "2 1.0\n",
      "4 1.0\n",
      "3 1.0\n",
      "3 1.0\n",
      "2 1.0\n",
      "4 1.0\n",
      "4 1.0\n"
     ]
    },
    {
     "ename": "MemoryError",
     "evalue": "Unable to allocate array with shape (17125, 1, 17125) and data type float64",
     "output_type": "error",
     "traceback": [
      "\u001b[0;31m---------------------------------------------------------------------------\u001b[0m",
      "\u001b[0;31mMemoryError\u001b[0m                               Traceback (most recent call last)",
      "\u001b[0;32m<ipython-input-8-2843dcb9540c>\u001b[0m in \u001b[0;36m<module>\u001b[0;34m\u001b[0m\n\u001b[1;32m      3\u001b[0m \u001b[0;32mfor\u001b[0m \u001b[0morder\u001b[0m\u001b[0;34m,\u001b[0m\u001b[0msource\u001b[0m \u001b[0;32min\u001b[0m \u001b[0morder_source_DG\u001b[0m\u001b[0;34m:\u001b[0m\u001b[0;34m\u001b[0m\u001b[0;34m\u001b[0m\u001b[0m\n\u001b[1;32m      4\u001b[0m     \u001b[0mlength\u001b[0m \u001b[0;34m=\u001b[0m \u001b[0mlen\u001b[0m\u001b[0;34m(\u001b[0m\u001b[0mGCV_DG\u001b[0m\u001b[0;34m[\u001b[0m\u001b[0morder\u001b[0m\u001b[0;34m]\u001b[0m\u001b[0;34m[\u001b[0m\u001b[0msource\u001b[0m\u001b[0;34m]\u001b[0m\u001b[0;34m.\u001b[0m\u001b[0mT\u001b[0m\u001b[0;34m)\u001b[0m\u001b[0;34m\u001b[0m\u001b[0;34m\u001b[0m\u001b[0m\n\u001b[0;32m----> 5\u001b[0;31m     \u001b[0mD\u001b[0m \u001b[0;34m=\u001b[0m \u001b[0mgraco\u001b[0m\u001b[0;34m.\u001b[0m\u001b[0mdistance_matrix\u001b[0m\u001b[0;34m.\u001b[0m\u001b[0mnormalized1_lp\u001b[0m\u001b[0;34m(\u001b[0m\u001b[0mGCV_DG\u001b[0m\u001b[0;34m[\u001b[0m\u001b[0morder\u001b[0m\u001b[0;34m]\u001b[0m\u001b[0;34m[\u001b[0m\u001b[0msource\u001b[0m\u001b[0;34m]\u001b[0m\u001b[0;34m,\u001b[0m \u001b[0;36m1\u001b[0m\u001b[0;34m)\u001b[0m \u001b[0;34m/\u001b[0m \u001b[0mnormalizer\u001b[0m\u001b[0;34m(\u001b[0m\u001b[0;34m'normalized1_l1'\u001b[0m\u001b[0;34m,\u001b[0m\u001b[0mlength\u001b[0m\u001b[0;34m)\u001b[0m\u001b[0;34m\u001b[0m\u001b[0;34m\u001b[0m\u001b[0m\n\u001b[0m\u001b[1;32m      6\u001b[0m     \u001b[0mD_dict\u001b[0m\u001b[0;34m[\u001b[0m\u001b[0;34m(\u001b[0m\u001b[0morder\u001b[0m\u001b[0;34m,\u001b[0m\u001b[0msource\u001b[0m\u001b[0;34m)\u001b[0m\u001b[0;34m]\u001b[0m \u001b[0;34m=\u001b[0m \u001b[0mD\u001b[0m\u001b[0;34m\u001b[0m\u001b[0;34m\u001b[0m\u001b[0m\n\u001b[1;32m      7\u001b[0m     \u001b[0mprint\u001b[0m\u001b[0;34m(\u001b[0m\u001b[0mlength\u001b[0m\u001b[0;34m,\u001b[0m \u001b[0mnp\u001b[0m\u001b[0;34m.\u001b[0m\u001b[0mnanmax\u001b[0m\u001b[0;34m(\u001b[0m\u001b[0mD\u001b[0m\u001b[0;34m)\u001b[0m\u001b[0;34m)\u001b[0m\u001b[0;34m\u001b[0m\u001b[0;34m\u001b[0m\u001b[0m\n",
      "\u001b[0;32m~/Desktop/git/supplements/venv/graco/lib/python3.6/site-packages/graco/distance_matrix.py\u001b[0m in \u001b[0;36mnormalized1_lp\u001b[0;34m(M, p)\u001b[0m\n\u001b[1;32m     51\u001b[0m         \u001b[0mcmd\u001b[0m \u001b[0;34m=\u001b[0m \u001b[0;34m[\u001b[0m\u001b[0;34mf\"{CPP_DIRECTORY}/float_normalized1_lp\"\u001b[0m\u001b[0;34m,\u001b[0m \u001b[0mstr\u001b[0m\u001b[0;34m(\u001b[0m\u001b[0mp\u001b[0m\u001b[0;34m)\u001b[0m\u001b[0;34m,\u001b[0m \u001b[0mMATRIX_IN\u001b[0m\u001b[0;34m,\u001b[0m \u001b[0mMATRIX_OUT\u001b[0m\u001b[0;34m]\u001b[0m\u001b[0;34m\u001b[0m\u001b[0;34m\u001b[0m\u001b[0m\n\u001b[1;32m     52\u001b[0m         \u001b[0mrun_cmd\u001b[0m\u001b[0;34m(\u001b[0m\u001b[0mcmd\u001b[0m\u001b[0;34m)\u001b[0m\u001b[0;34m\u001b[0m\u001b[0;34m\u001b[0m\u001b[0m\n\u001b[0;32m---> 53\u001b[0;31m         \u001b[0;32mreturn\u001b[0m \u001b[0mnp\u001b[0m\u001b[0;34m.\u001b[0m\u001b[0mloadtxt\u001b[0m\u001b[0;34m(\u001b[0m\u001b[0mMATRIX_OUT\u001b[0m\u001b[0;34m)\u001b[0m\u001b[0;34m\u001b[0m\u001b[0;34m\u001b[0m\u001b[0m\n\u001b[0m\u001b[1;32m     54\u001b[0m     \u001b[0;32melse\u001b[0m\u001b[0;34m:\u001b[0m\u001b[0;34m\u001b[0m\u001b[0;34m\u001b[0m\u001b[0m\n\u001b[1;32m     55\u001b[0m         \u001b[0;32mraise\u001b[0m \u001b[0mException\u001b[0m\u001b[0;34m(\u001b[0m\u001b[0;34mf\"Datatype not understood. {M.dtype}\"\u001b[0m\u001b[0;34m)\u001b[0m\u001b[0;34m\u001b[0m\u001b[0;34m\u001b[0m\u001b[0m\n",
      "\u001b[0;32m~/Desktop/git/supplements/venv/graco/lib/python3.6/site-packages/numpy/lib/npyio.py\u001b[0m in \u001b[0;36mloadtxt\u001b[0;34m(fname, dtype, comments, delimiter, converters, skiprows, usecols, unpack, ndmin, encoding, max_rows)\u001b[0m\n\u001b[1;32m   1146\u001b[0m         \u001b[0;32mfor\u001b[0m \u001b[0mx\u001b[0m \u001b[0;32min\u001b[0m \u001b[0mread_data\u001b[0m\u001b[0;34m(\u001b[0m\u001b[0m_loadtxt_chunksize\u001b[0m\u001b[0;34m)\u001b[0m\u001b[0;34m:\u001b[0m\u001b[0;34m\u001b[0m\u001b[0;34m\u001b[0m\u001b[0m\n\u001b[1;32m   1147\u001b[0m             \u001b[0;32mif\u001b[0m \u001b[0mX\u001b[0m \u001b[0;32mis\u001b[0m \u001b[0;32mNone\u001b[0m\u001b[0;34m:\u001b[0m\u001b[0;34m\u001b[0m\u001b[0;34m\u001b[0m\u001b[0m\n\u001b[0;32m-> 1148\u001b[0;31m                 \u001b[0mX\u001b[0m \u001b[0;34m=\u001b[0m \u001b[0mnp\u001b[0m\u001b[0;34m.\u001b[0m\u001b[0marray\u001b[0m\u001b[0;34m(\u001b[0m\u001b[0mx\u001b[0m\u001b[0;34m,\u001b[0m \u001b[0mdtype\u001b[0m\u001b[0;34m)\u001b[0m\u001b[0;34m\u001b[0m\u001b[0;34m\u001b[0m\u001b[0m\n\u001b[0m\u001b[1;32m   1149\u001b[0m             \u001b[0;32melse\u001b[0m\u001b[0;34m:\u001b[0m\u001b[0;34m\u001b[0m\u001b[0;34m\u001b[0m\u001b[0m\n\u001b[1;32m   1150\u001b[0m                 \u001b[0mnshape\u001b[0m \u001b[0;34m=\u001b[0m \u001b[0mlist\u001b[0m\u001b[0;34m(\u001b[0m\u001b[0mX\u001b[0m\u001b[0;34m.\u001b[0m\u001b[0mshape\u001b[0m\u001b[0;34m)\u001b[0m\u001b[0;34m\u001b[0m\u001b[0;34m\u001b[0m\u001b[0m\n",
      "\u001b[0;31mMemoryError\u001b[0m: Unable to allocate array with shape (17125, 1, 17125) and data type float64"
     ]
    }
   ],
   "source": [
    "# Normalized1 L_1\n",
    "D_dict = {}\n",
    "for order,source in order_source_DG:\n",
    "    length = len(GCV_DG[order][source].T)\n",
    "    D = graco.distance_matrix.normalized1_lp(GCV_DG[order][source], 1) / normalizer('normalized1_l1',length)\n",
    "    D_dict[(order,source)] = D \n",
    "    print(length, np.nanmax(D))\n",
    "    \n",
    "D = np.nanmean([D_i for D_i in D_dict.values()], axis=0)\n",
    "np.savetxt(f\"{MATRIX_DIRECTORY}/GCV-DG/normalized1-l1_BioGRID.txt\", D, \n",
    "           fmt='%.7f', header=' '.join(PPI_nx), comments='')"
   ]
  },
  {
   "cell_type": "code",
   "execution_count": null,
   "metadata": {},
   "outputs": [],
   "source": [
    "# Normalized1 L_2\n",
    "D_dict = {}\n",
    "for order,source in order_source_DG:\n",
    "    length = len(GCV_DG[order][source].T)\n",
    "    D = graco.distance_matrix.normalized1_lp(GCV_DG[order][source], 2) / normalizer('normalized1_l2',length)\n",
    "    D_dict[(order,source)] = D \n",
    "    print(length, np.nanmax(D))\n",
    "    \n",
    "D = np.nanmean([D_i for D_i in D_dict.values()], axis=0)\n",
    "np.savetxt(f\"{MATRIX_DIRECTORY}/GCV-DG/normalized1-l2_BioGRID.txt\", D, \n",
    "           fmt='%.7f', header=' '.join(PPI_nx), comments='')"
   ]
  },
  {
   "cell_type": "code",
   "execution_count": null,
   "metadata": {},
   "outputs": [],
   "source": [
    "# Normalized1 L_inf\n",
    "D_dict = {}\n",
    "for order,source in order_source_DG:\n",
    "    length = len(GCV_DG[order][source].T)\n",
    "    D = graco.distance_matrix.normalized1_lp(GCV_DG[order][source], np.inf) / normalizer('normalized1_linf',length)\n",
    "    D_dict[(order,source)] = D \n",
    "    print(length, np.nanmax(D))\n",
    "    \n",
    "D = np.nanmean([D_i for D_i in D_dict.values()], axis=0)\n",
    "np.savetxt(f\"{MATRIX_DIRECTORY}/GCV-DG/normalized1-linf_BioGRID.txt\", D, \n",
    "           fmt='%.7f', header=' '.join(PPI_nx), comments='')"
   ]
  },
  {
   "cell_type": "code",
   "execution_count": null,
   "metadata": {},
   "outputs": [],
   "source": []
  }
 ],
 "metadata": {
  "kernelspec": {
   "display_name": "graco",
   "language": "python",
   "name": "graco"
  },
  "language_info": {
   "codemirror_mode": {
    "name": "ipython",
    "version": 3
   },
   "file_extension": ".py",
   "mimetype": "text/x-python",
   "name": "python",
   "nbconvert_exporter": "python",
   "pygments_lexer": "ipython3",
   "version": "3.6.8"
  }
 },
 "nbformat": 4,
 "nbformat_minor": 2
}
