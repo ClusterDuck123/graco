{
 "cells": [
  {
   "cell_type": "code",
   "execution_count": 1,
   "metadata": {},
   "outputs": [],
   "source": [
    "from scipy.spatial.distance import squareform, cdist\n",
    "from functools import partial\n",
    "\n",
    "import os\n",
    "import graco\n",
    "import numpy as np\n",
    "import pandas as pd\n",
    "import networkx as nx"
   ]
  },
  {
   "cell_type": "code",
   "execution_count": 2,
   "metadata": {},
   "outputs": [],
   "source": [
    "pd.set_option(\"display.max_columns\", 50)\n",
    "\n",
    "DATA_DIRECTORY = \"/media/clusterduck123/joe/data\"\n",
    "HUMAN_DIRECTORY = f\"{DATA_DIRECTORY}/processed-data/organisms/human\"\n",
    "NETWORK_DIRECTORY = f\"{HUMAN_DIRECTORY}/networks\"\n",
    "MATRIX_DIRECTORY  = f\"{HUMAN_DIRECTORY}/distance-matrices\""
   ]
  },
  {
   "cell_type": "markdown",
   "metadata": {},
   "source": [
    "# Distance matrices"
   ]
  },
  {
   "cell_type": "code",
   "execution_count": 3,
   "metadata": {},
   "outputs": [],
   "source": [
    "PPI_nx = nx.read_edgelist(f\"{NETWORK_DIRECTORY}/PPI_BioGRID.txt\")\n",
    "GDV = graco.orbits(PPI_nx)\n",
    "GCV = graco.coefficients(GDV)"
   ]
  },
  {
   "cell_type": "code",
   "execution_count": 4,
   "metadata": {},
   "outputs": [],
   "source": [
    "def normalizer(distance, length):\n",
    "    if   distance == 'normalized1_l1'  : return length         \n",
    "    elif distance == 'normalized1_l2'  : return np.sqrt(length)\n",
    "    elif distance == 'normalized1_linf': return 1              \n",
    "    \n",
    "    elif distance == 'cityblock'   : return 2         \n",
    "    elif distance == 'euclidean'   : return np.sqrt(2)\n",
    "    elif distance == 'sqeuclidean' : return 2         \n",
    "    elif distance == 'chebyshev'   : return 1         \n",
    "        \n",
    "    elif distance == 'cosine'      : return 1\n",
    "    elif distance == 'correlation' : return 2\n",
    "        \n",
    "    elif distance == 'canberra'   : return length\n",
    "    elif distance == 'braycurtis' : return 1     \n",
    "     \n",
    "#    'seuclidean', , 'mahalanobis'"
   ]
  },
  {
   "cell_type": "markdown",
   "metadata": {},
   "source": [
    "## GDV"
   ]
  },
  {
   "cell_type": "code",
   "execution_count": 4,
   "metadata": {},
   "outputs": [],
   "source": [
    "if not os.path.exists(f\"{MATRIX_DIRECTORY}/GDV\"):\n",
    "    os.makedirs(f\"{MATRIX_DIRECTORY}/GDV/\")"
   ]
  },
  {
   "cell_type": "markdown",
   "metadata": {},
   "source": [
    "### graco"
   ]
  },
  {
   "cell_type": "code",
   "execution_count": 7,
   "metadata": {},
   "outputs": [],
   "source": [
    "# GDV similarity\n",
    "D = graco.distances.GDV_similarity(GDV)\n",
    "np.savetxt(f\"{MATRIX_DIRECTORY}/GDV/GDV-similarity_BioGRID.txt\", D, \n",
    "           fmt='%.7f', header=' '.join(PPI_nx), comments='')"
   ]
  },
  {
   "cell_type": "code",
   "execution_count": 8,
   "metadata": {},
   "outputs": [],
   "source": [
    "# Normalized L_p\n",
    "D = graco.distances.normalized1_lp(GDV,1)\n",
    "np.savetxt(f\"{MATRIX_DIRECTORY}/GDV/normalized1-l1_BioGRID.txt\", D, \n",
    "           fmt='%.7f', header=' '.join(PPI_nx), comments='')\n",
    "\n",
    "D = graco.distances.normalized1_lp(GDV,2)\n",
    "np.savetxt(f\"{MATRIX_DIRECTORY}/GDV/normalized1-l2_BioGRID.txt\", D, \n",
    "           fmt='%.7f', header=' '.join(PPI_nx), comments='')\n",
    "\n",
    "D = graco.distances.normalized1_lp(GDV,np.inf)\n",
    "np.savetxt(f\"{MATRIX_DIRECTORY}/GDV/normalized1-linf_BioGRID.txt\", D, \n",
    "           fmt='%.7f', header=' '.join(PPI_nx), comments='')"
   ]
  },
  {
   "cell_type": "markdown",
   "metadata": {},
   "source": [
    "### cdist"
   ]
  },
  {
   "cell_type": "code",
   "execution_count": 9,
   "metadata": {},
   "outputs": [],
   "source": [
    "all_distances = ['euclidean', 'cityblock', 'seuclidean', 'sqeuclidean', \n",
    "                 'cosine', 'correlation', 'chebyshev', 'canberra', \n",
    "                 'braycurtis', 'mahalanobis']"
   ]
  },
  {
   "cell_type": "code",
   "execution_count": 10,
   "metadata": {},
   "outputs": [],
   "source": [
    "for distance in all_distances:\n",
    "    D = cdist(GDV.values, GDV.values, distance)\n",
    "    np.savetxt(f\"{MATRIX_DIRECTORY}/GDV/{distance}_BioGRID.txt\", D, \n",
    "               fmt='%.7f', header=' '.join(PPI_nx), comments='')"
   ]
  },
  {
   "cell_type": "markdown",
   "metadata": {},
   "source": [
    "# GCV-D0"
   ]
  },
  {
   "cell_type": "code",
   "execution_count": 7,
   "metadata": {},
   "outputs": [],
   "source": [
    "GCV_D0 = GCV['D']\n",
    "\n",
    "if not os.path.exists(f\"{MATRIX_DIRECTORY}/GCV-D0\"):\n",
    "    os.makedirs(f\"{MATRIX_DIRECTORY}/GCV-D0/\")"
   ]
  },
  {
   "cell_type": "code",
   "execution_count": 8,
   "metadata": {},
   "outputs": [],
   "source": [
    "source_D0 = sorted({source for source,target in GCV_D0.columns})"
   ]
  },
  {
   "cell_type": "markdown",
   "metadata": {},
   "source": [
    "### graco"
   ]
  },
  {
   "cell_type": "code",
   "execution_count": 7,
   "metadata": {
    "collapsed": true
   },
   "outputs": [
    {
     "name": "stdout",
     "output_type": "stream",
     "text": [
      "2 1.0\n",
      "4 1.0\n",
      "3 1.0\n",
      "3 1.0\n"
     ]
    }
   ],
   "source": [
    "# Normalized1 L_1\n",
    "D_all = np.zeros([len(GCV_D0), len(GCV_D0)])\n",
    "for source in source_D0:\n",
    "    length = len(GCV_D0[source].T)\n",
    "    D_i = graco.distances.normalized1_lp(GCV_D0[source], 1) / normalizer('normalized1_l1',length)\n",
    "    D_i = np.nan_to_num(D_i, nan=0.0)\n",
    "    D_all += D_i\n",
    "    print(length, np.max(D_i))\n",
    "    \n",
    "np.savetxt(f\"{MATRIX_DIRECTORY}/GCV-D0/normalized1-l1_BioGRID.txt\", D_all/len(source_D0), \n",
    "           fmt='%.7f', header=' '.join(PPI_nx), comments='')"
   ]
  },
  {
   "cell_type": "code",
   "execution_count": 9,
   "metadata": {
    "collapsed": true
   },
   "outputs": [
    {
     "name": "stdout",
     "output_type": "stream",
     "text": [
      "2 0.9999974810218273\n",
      "4 1.0\n",
      "3 0.9999995337498914\n",
      "3 0.9999995337498914\n"
     ]
    }
   ],
   "source": [
    "# Normalized1 L_2\n",
    "D_all = np.zeros([len(GCV_D0), len(GCV_D0)])\n",
    "for source in source_D0:\n",
    "    length = len(GCV_D0[source].T)\n",
    "    D_i = graco.distances.normalized1_lp(GCV_D0[source], 2) / normalizer('normalized1_l2',length)\n",
    "    D_i = np.nan_to_num(D_i, nan=0.0)\n",
    "    D_all += D_i\n",
    "    print(length, np.max(D_i))\n",
    "    \n",
    "np.savetxt(f\"{MATRIX_DIRECTORY}/GCV-D0/normalized1-l2_BioGRID.txt\", D_all/len(source_D0), \n",
    "           fmt='%.7f', header=' '.join(PPI_nx), comments='')"
   ]
  },
  {
   "cell_type": "code",
   "execution_count": 10,
   "metadata": {
    "collapsed": true
   },
   "outputs": [
    {
     "name": "stdout",
     "output_type": "stream",
     "text": [
      "2 1.0\n",
      "4 1.0\n",
      "3 1.0\n",
      "3 1.0\n"
     ]
    }
   ],
   "source": [
    "# Normalized1 L_inf\n",
    "D_all = np.zeros([len(GCV_D0), len(GCV_D0)])\n",
    "for source in source_D0:\n",
    "    length = len(GCV_D0[source].T)\n",
    "    D_i = graco.distances.normalized1_lp(GCV_D0[source], np.inf) / normalizer('normalized1_linf',length)\n",
    "    D_i = np.nan_to_num(D_i, nan=0.0)\n",
    "    D_all += D_i\n",
    "    print(length, np.max(D_i))\n",
    "    \n",
    "np.savetxt(f\"{MATRIX_DIRECTORY}/GCV-D0/normalized1-linf_BioGRID.txt\", D_all/len(source_D0), \n",
    "           fmt='%.7f', header=' '.join(PPI_nx), comments='')"
   ]
  },
  {
   "cell_type": "markdown",
   "metadata": {},
   "source": [
    "### cdist"
   ]
  },
  {
   "cell_type": "code",
   "execution_count": 12,
   "metadata": {},
   "outputs": [],
   "source": [
    "all_distances = ['cityblock', 'euclidean', 'sqeuclidean', 'chebyshev',\n",
    "                 'cosine', 'correlation', \n",
    "                 'canberra', 'braycurtis', \n",
    "                 #'mahalanobis', 'seuclidean'\n",
    "                ]"
   ]
  },
  {
   "cell_type": "code",
   "execution_count": 13,
   "metadata": {},
   "outputs": [
    {
     "name": "stdout",
     "output_type": "stream",
     "text": [
      "cityblock\n",
      "2 1.0\n",
      "4 1.0\n",
      "3 1.0\n",
      "3 1.0\n",
      "\n",
      "euclidean\n",
      "2 1.0\n",
      "4 0.9988459376986899\n",
      "3 1.0\n",
      "3 1.0\n",
      "\n",
      "sqeuclidean\n",
      "2 1.0\n",
      "4 0.9976932072571753\n",
      "3 1.0\n",
      "3 1.0\n",
      "\n",
      "chebyshev\n",
      "2 1.0\n",
      "4 1.0\n",
      "3 1.0\n",
      "3 1.0\n",
      "\n",
      "cosine\n",
      "2 1.0\n",
      "4 1.0\n",
      "3 1.0\n",
      "3 1.0\n",
      "\n",
      "correlation\n",
      "2 1.0\n",
      "4 0.9998535209089816\n",
      "3 1.0\n",
      "3 1.0\n",
      "\n",
      "canberra\n",
      "2 1.0\n",
      "4 1.0\n",
      "3 1.0\n",
      "3 1.0\n",
      "\n",
      "braycurtis\n",
      "2 1.0\n",
      "4 1.0\n",
      "3 1.0\n",
      "3 1.0\n",
      "\n"
     ]
    }
   ],
   "source": [
    "for distance in all_distances:\n",
    "    print(distance)\n",
    "    D_all = np.zeros([len(GCV_D0), len(GCV_D0)])\n",
    "    for source in source_D0:\n",
    "        length = len(GCV_D0[source].T)\n",
    "        D_i = cdist(GCV_D0[source].values, GCV_D0[source].values, distance) / normalizer(distance,length)\n",
    "        D_i = np.nan_to_num(D_i, nan=0.0)\n",
    "        D_all += D_i\n",
    "        print(length, np.max(D_i))\n",
    "\n",
    "    np.savetxt(f\"{MATRIX_DIRECTORY}/GCV-D0/{distance}_BioGRID.txt\", D_all/len(source_D0), \n",
    "               fmt='%.7f', header=' '.join(PPI_nx), comments='')\n",
    "    print()"
   ]
  },
  {
   "cell_type": "markdown",
   "metadata": {},
   "source": [
    "## GCV-A"
   ]
  },
  {
   "cell_type": "code",
   "execution_count": 5,
   "metadata": {},
   "outputs": [],
   "source": [
    "GCV_A = GCV['A']\n",
    "\n",
    "if not os.path.exists(f\"{MATRIX_DIRECTORY}/GCV-A\"):\n",
    "    os.makedirs(f\"{MATRIX_DIRECTORY}/GCV-A/\")"
   ]
  },
  {
   "cell_type": "code",
   "execution_count": 6,
   "metadata": {},
   "outputs": [],
   "source": [
    "source_A = sorted({source for source,target in GCV_A.columns})"
   ]
  },
  {
   "cell_type": "markdown",
   "metadata": {},
   "source": [
    "### graco"
   ]
  },
  {
   "cell_type": "code",
   "execution_count": 9,
   "metadata": {},
   "outputs": [
    {
     "name": "stdout",
     "output_type": "stream",
     "text": [
      "2 0.83986\n",
      "3 0.9640933333333334\n",
      "4 0.9771975\n",
      "3 0.9869866666666667\n"
     ]
    }
   ],
   "source": [
    "# Normalized1 L_1\n",
    "D_dict = {}\n",
    "for source in source_A:\n",
    "    length = len(GCV_A[source].T)\n",
    "    D = graco.distances.normalized1_lp(GCV_A[source], 1) / normalizer('normalized1_l1',length)\n",
    "    D_dict[source] = D \n",
    "    print(length, np.max(D))\n",
    "    \n",
    "D = np.nanmean([D_i for D_i in D_dict.values()], axis=0)\n",
    "np.savetxt(f\"{MATRIX_DIRECTORY}/GCV-A/normalized1-l1_BioGRID.txt\", D, \n",
    "           fmt='%.7f', header=' '.join(PPI_nx), comments='')"
   ]
  },
  {
   "cell_type": "code",
   "execution_count": 10,
   "metadata": {},
   "outputs": [
    {
     "name": "stdout",
     "output_type": "stream",
     "text": [
      "2 0.8549910934039021\n",
      "3 0.9654277996308165\n",
      "4 0.977995\n",
      "3 0.9871592637631141\n"
     ]
    }
   ],
   "source": [
    "# Normalized1 L_2\n",
    "D_dict = {}\n",
    "for source in source_A:\n",
    "    length = len(GCV_A[source].T)\n",
    "    D = graco.distances.normalized1_lp(GCV_A[source], 2) / normalizer('normalized1_l2',length)\n",
    "    D_dict[source] = D \n",
    "    print(length, np.max(D))\n",
    "    \n",
    "D = np.nanmean([D_i for D_i in D_dict.values()], axis=0)\n",
    "np.savetxt(f\"{MATRIX_DIRECTORY}/GCV-A/normalized1-l2_BioGRID.txt\", D, \n",
    "           fmt='%.7f', header=' '.join(PPI_nx), comments='')"
   ]
  },
  {
   "cell_type": "code",
   "execution_count": 11,
   "metadata": {
    "scrolled": true
   },
   "outputs": [
    {
     "name": "stdout",
     "output_type": "stream",
     "text": [
      "2 1.0\n",
      "3 1.0\n",
      "4 1.0\n",
      "3 1.0\n"
     ]
    }
   ],
   "source": [
    "# Normalized1 L_inf\n",
    "D_dict = {}\n",
    "for source in source_A:\n",
    "    length = len(GCV_A[source].T)\n",
    "    D = graco.distances.normalized1_lp(GCV_A[source], np.inf) / normalizer('normalized1_linf',length)\n",
    "    D_dict[source] = D \n",
    "    print(length, np.max(D))\n",
    "    \n",
    "D = np.nanmean([D_i for D_i in D_dict.values()], axis=0)\n",
    "np.savetxt(f\"{MATRIX_DIRECTORY}/GCV-A/normalized1-linf_BioGRID.txt\", D, \n",
    "           fmt='%.7f', header=' '.join(PPI_nx), comments='')"
   ]
  },
  {
   "cell_type": "markdown",
   "metadata": {},
   "source": [
    "### cdist"
   ]
  },
  {
   "cell_type": "code",
   "execution_count": 7,
   "metadata": {},
   "outputs": [],
   "source": [
    "all_distances = ['cityblock', 'euclidean', 'sqeuclidean', 'chebyshev',\n",
    "                 'cosine', 'correlation', \n",
    "                 'canberra', 'braycurtis', \n",
    "                 #'mahalanobis', 'seuclidean'\n",
    "                ]"
   ]
  },
  {
   "cell_type": "code",
   "execution_count": 10,
   "metadata": {},
   "outputs": [
    {
     "name": "stdout",
     "output_type": "stream",
     "text": [
      "cityblock\n",
      "2 0.8093264320893911\n",
      "3 0.9430716971275914\n",
      "4 0.769331987867176\n",
      "3 0.6719674409720175\n",
      "\n",
      "euclidean\n",
      "2 0.8093264320893909\n",
      "3 0.8264211655912044\n",
      "4 0.7252102456752573\n",
      "3 0.7199663059860392\n",
      "\n",
      "sqeuclidean\n",
      "2 0.6550092736785438\n",
      "3 0.6829719429371248\n",
      "4 0.525929900432367\n",
      "3 0.518351481755183\n",
      "\n",
      "chebyshev\n",
      "2 0.8093264320893911\n",
      "3 0.9430716971275914\n",
      "4 0.9522149563282507\n",
      "3 0.9800902969906579\n",
      "\n",
      "cosine\n",
      "2 0.7706828246032714\n",
      "3 0.917813990757563\n",
      "4 0.875548762584852\n",
      "3 0.92802683899653\n",
      "\n",
      "correlation\n",
      "2 1.0\n",
      "3 0.9999987195021924\n",
      "4 0.7803105799574437\n",
      "3 0.9999929541007613\n",
      "\n",
      "canberra\n",
      "2 0.8398607535689212\n",
      "3 0.9640919806842181\n",
      "4 0.9771971150187941\n",
      "3 0.9869859701301028\n",
      "\n",
      "braycurtis\n",
      "2 0.8093264320893911\n",
      "3 0.9430716971275914\n",
      "4 0.9409390942152436\n",
      "3 0.971223643991514\n",
      "\n"
     ]
    }
   ],
   "source": [
    "for distance in all_distances:\n",
    "    print(distance)\n",
    "    D_dict = {}\n",
    "    for source in source_A:\n",
    "        length = len(GCV_A[source].T)\n",
    "        D = cdist(GCV_A[source].values, GCV_A[source].values, distance) / normalizer(distance,length)\n",
    "        D_dict[source] = D \n",
    "        print(length, np.max(D))\n",
    "\n",
    "    D = np.nanmean([D_i for D_i in D_dict.values()], axis=0)\n",
    "    np.savetxt(f\"{MATRIX_DIRECTORY}/GCV-A/{distance}_BioGRID.txt\", D, \n",
    "               fmt='%.7f', header=' '.join(PPI_nx), comments='')\n",
    "    print()"
   ]
  },
  {
   "cell_type": "markdown",
   "metadata": {},
   "source": [
    "# GCV-D based"
   ]
  },
  {
   "cell_type": "code",
   "execution_count": 5,
   "metadata": {},
   "outputs": [],
   "source": [
    "GCV_D = GCV['D']\n",
    "\n",
    "if not os.path.exists(f\"{MATRIX_DIRECTORY}/GCV-D\"):\n",
    "    os.makedirs(f\"{MATRIX_DIRECTORY}/GCV-D/\")"
   ]
  },
  {
   "cell_type": "code",
   "execution_count": 6,
   "metadata": {},
   "outputs": [],
   "source": [
    "source_D = sorted({source for source,target in GCV_D.columns})"
   ]
  },
  {
   "cell_type": "markdown",
   "metadata": {},
   "source": [
    "### graco"
   ]
  },
  {
   "cell_type": "code",
   "execution_count": 8,
   "metadata": {},
   "outputs": [
    {
     "name": "stdout",
     "output_type": "stream",
     "text": [
      "2 1.0\n",
      "4 1.0\n",
      "3 1.0\n",
      "3 1.0\n"
     ]
    },
    {
     "name": "stderr",
     "output_type": "stream",
     "text": [
      "/home/clusterduck123/Desktop/git/supplements/venv/graco/lib/python3.6/site-packages/ipykernel_launcher.py:9: RuntimeWarning: Mean of empty slice\n",
      "  if __name__ == '__main__':\n"
     ]
    }
   ],
   "source": [
    "# Normalized1 L_1\n",
    "D_dict = {}\n",
    "for source in source_D:\n",
    "    length = len(GCV_D[source].T)\n",
    "    D = graco.distances.normalized1_lp(GCV_D[source], 1) / normalizer('normalized1_l1',length)\n",
    "    D_dict[source] = D \n",
    "    print(length, np.nanmax(D))\n",
    "    \n",
    "D = np.nanmean([D_i for D_i in D_dict.values()], axis=0)\n",
    "np.savetxt(f\"{MATRIX_DIRECTORY}/GCV-D/normalized1-l1_BioGRID.txt\", D, \n",
    "           fmt='%.7f', header=' '.join(PPI_nx), comments='')"
   ]
  },
  {
   "cell_type": "code",
   "execution_count": 11,
   "metadata": {},
   "outputs": [
    {
     "name": "stdout",
     "output_type": "stream",
     "text": [
      "2 0.9999974810218273\n",
      "4 1.0\n",
      "3 0.9999995337498914\n",
      "3 0.9999995337498914\n"
     ]
    },
    {
     "name": "stderr",
     "output_type": "stream",
     "text": [
      "/home/clusterduck123/Desktop/git/supplements/venv/graco/lib/python3.6/site-packages/ipykernel_launcher.py:9: RuntimeWarning: Mean of empty slice\n",
      "  if __name__ == '__main__':\n"
     ]
    }
   ],
   "source": [
    "# Normalized1 L_2\n",
    "D_dict = {}\n",
    "for source in source_D:\n",
    "    length = len(GCV_D[source].T)\n",
    "    D = graco.distances.normalized1_lp(GCV_D[source], 2) / normalizer('normalized1_l2',length)\n",
    "    D_dict[source] = D \n",
    "    print(length, np.nanmax(D))\n",
    "    \n",
    "D = np.nanmean([D_i for D_i in D_dict.values()], axis=0)\n",
    "np.savetxt(f\"{MATRIX_DIRECTORY}/GCV-D/normalized1-l2_BioGRID.txt\", D, \n",
    "           fmt='%.7f', header=' '.join(PPI_nx), comments='')"
   ]
  },
  {
   "cell_type": "code",
   "execution_count": 12,
   "metadata": {},
   "outputs": [
    {
     "name": "stdout",
     "output_type": "stream",
     "text": [
      "2 1.0\n",
      "4 1.0\n",
      "3 1.0\n",
      "3 1.0\n"
     ]
    },
    {
     "name": "stderr",
     "output_type": "stream",
     "text": [
      "/home/clusterduck123/Desktop/git/supplements/venv/graco/lib/python3.6/site-packages/ipykernel_launcher.py:9: RuntimeWarning: Mean of empty slice\n",
      "  if __name__ == '__main__':\n"
     ]
    }
   ],
   "source": [
    "# Normalized1 L_inf\n",
    "D_dict = {}\n",
    "for source in source_D:\n",
    "    length = len(GCV_D[source].T)\n",
    "    D = graco.distances.normalized1_lp(GCV_D[source], np.inf) / normalizer('normalized1_linf',length)\n",
    "    D_dict[source] = D \n",
    "    print(length, np.nanmax(D))\n",
    "    \n",
    "D = np.nanmean([D_i for D_i in D_dict.values()], axis=0)\n",
    "np.savetxt(f\"{MATRIX_DIRECTORY}/GCV-D/normalized1-linf_BioGRID.txt\", D, \n",
    "           fmt='%.7f', header=' '.join(PPI_nx), comments='')"
   ]
  },
  {
   "cell_type": "markdown",
   "metadata": {},
   "source": [
    "# GCV-G"
   ]
  },
  {
   "cell_type": "code",
   "execution_count": 5,
   "metadata": {},
   "outputs": [],
   "source": [
    "GCV_G = GCV['G']\n",
    "\n",
    "if not os.path.exists(f\"{MATRIX_DIRECTORY}/GCV-G\"):\n",
    "    os.makedirs(f\"{MATRIX_DIRECTORY}/GCV-G/\")"
   ]
  },
  {
   "cell_type": "code",
   "execution_count": 6,
   "metadata": {},
   "outputs": [],
   "source": [
    "source_G = sorted({source for source,target in GCV_G.columns})"
   ]
  },
  {
   "cell_type": "markdown",
   "metadata": {},
   "source": [
    "### graco"
   ]
  },
  {
   "cell_type": "code",
   "execution_count": 7,
   "metadata": {},
   "outputs": [
    {
     "name": "stdout",
     "output_type": "stream",
     "text": [
      "2 0.83986\n",
      "4 0.91754\n",
      "4 0.875085\n",
      "4 1.0\n",
      "4 1.0\n"
     ]
    }
   ],
   "source": [
    "# Normalized1 L_1\n",
    "D_dict = {}\n",
    "for source in source_G:\n",
    "    length = len(GCV_G[source].T)\n",
    "    D = graco.distances.normalized1_lp(GCV_G[source], 1) / normalizer('normalized1_l1',length)\n",
    "    D_dict[source] = D \n",
    "    print(length, np.nanmax(D))\n",
    "    \n",
    "D = np.nanmean([D_i for D_i in D_dict.values()], axis=0)\n",
    "np.savetxt(f\"{MATRIX_DIRECTORY}/GCV-G/normalized1-l1_BioGRID.txt\", D, \n",
    "           fmt='%.7f', header=' '.join(PPI_nx), comments='')"
   ]
  },
  {
   "cell_type": "code",
   "execution_count": 8,
   "metadata": {},
   "outputs": [
    {
     "name": "stdout",
     "output_type": "stream",
     "text": [
      "2 0.8549910934039021\n",
      "4 0.92787\n",
      "4 0.894845\n",
      "4 1.0\n",
      "4 1.0\n"
     ]
    }
   ],
   "source": [
    "# Normalized1 L_2\n",
    "D_dict = {}\n",
    "for source in source_G:\n",
    "    length = len(GCV_G[source].T)\n",
    "    D = graco.distances.normalized1_lp(GCV_G[source], 2) / normalizer('normalized1_l2',length)\n",
    "    D_dict[source] = D \n",
    "    print(length, np.nanmax(D))\n",
    "    \n",
    "D = np.nanmean([D_i for D_i in D_dict.values()], axis=0)\n",
    "np.savetxt(f\"{MATRIX_DIRECTORY}/GCV-G/normalized1-l2_BioGRID.txt\", D, \n",
    "           fmt='%.7f', header=' '.join(PPI_nx), comments='')"
   ]
  },
  {
   "cell_type": "code",
   "execution_count": 9,
   "metadata": {},
   "outputs": [
    {
     "name": "stdout",
     "output_type": "stream",
     "text": [
      "2 1.0\n",
      "4 1.0\n",
      "4 1.0\n",
      "4 1.0\n",
      "4 1.0\n"
     ]
    }
   ],
   "source": [
    "# Normalized1 L_inf\n",
    "D_dict = {}\n",
    "for source in source_G:\n",
    "    length = len(GCV_G[source].T)\n",
    "    D = graco.distances.normalized1_lp(GCV_G[source], np.inf) / normalizer('normalized1_linf',length)\n",
    "    D_dict[source] = D \n",
    "    print(length, np.nanmax(D))\n",
    "    \n",
    "D = np.nanmean([D_i for D_i in D_dict.values()], axis=0)\n",
    "np.savetxt(f\"{MATRIX_DIRECTORY}/GCV-G/normalized1-linf_BioGRID.txt\", D, \n",
    "           fmt='%.7f', header=' '.join(PPI_nx), comments='')"
   ]
  },
  {
   "cell_type": "markdown",
   "metadata": {},
   "source": [
    "### cdist"
   ]
  },
  {
   "cell_type": "code",
   "execution_count": 7,
   "metadata": {},
   "outputs": [],
   "source": [
    "all_distances = ['cityblock', 'euclidean', 'sqeuclidean', 'chebyshev',\n",
    "                 'cosine', 'correlation', \n",
    "                 'canberra', 'braycurtis', \n",
    "                 #'mahalanobis', 'seuclidean'\n",
    "                ]"
   ]
  },
  {
   "cell_type": "code",
   "execution_count": null,
   "metadata": {},
   "outputs": [],
   "source": [
    "distance = chebyshev\n",
    "D_dict = {}\n",
    "for source in source_G:\n",
    "    length = len(GCV_G[source].T)\n",
    "    D = cdist(GCV_G[source].values, GCV_G[source].values, distance) / normalizer(distance,length)\n",
    "    D_dict[source] = D \n",
    "    print(length, np.nanmax(D), np.isnan(D).any())\n",
    "\n",
    "D = np.nanmean([D_i for D_i in D_dict.values()], axis=0)\n",
    "np.savetxt(f\"{MATRIX_DIRECTORY}/GCV-G/{distance}_BioGRID.txt\", D, \n",
    "           fmt='%.7f', header=' '.join(PPI_nx), comments='')\n",
    "print()"
   ]
  },
  {
   "cell_type": "code",
   "execution_count": 18,
   "metadata": {},
   "outputs": [],
   "source": [
    "source = source_G[3]"
   ]
  },
  {
   "cell_type": "code",
   "execution_count": 30,
   "metadata": {},
   "outputs": [],
   "source": []
  },
  {
   "cell_type": "code",
   "execution_count": 52,
   "metadata": {},
   "outputs": [],
   "source": [
    "distance = 'chebyshev'\n",
    "\n",
    "D_all = pd.DataFrame(0., index=GCV_G.index, columns=GCV_G.index)\n",
    "Count = pd.DataFrame(0 , index=GCV_G.index, columns=GCV_G.index)\n",
    "\n",
    "length = len(GCV_G[source].T)"
   ]
  },
  {
   "cell_type": "code",
   "execution_count": 58,
   "metadata": {},
   "outputs": [],
   "source": [
    "assert (GCV_G[source].T.isna().any() == GCV_G[source].T.isna().all()).all()\n",
    "D_i = pd.DataFrame(cdist(GCV_G[source].values, GCV_G[source].values, distance) / normalizer(distance,length),\n",
    "                   index=GCV_G.index, columns=GCV_G.index)"
   ]
  },
  {
   "cell_type": "code",
   "execution_count": 62,
   "metadata": {},
   "outputs": [],
   "source": [
    "assert (GCV_G[source].T.isna().any() == GCV_G[source].T.isna().all()).all()\n",
    "mask_index = GCV_G.index[~GCV_G[source].T.isna().any()]"
   ]
  },
  {
   "cell_type": "code",
   "execution_count": 67,
   "metadata": {},
   "outputs": [],
   "source": [
    "D_all.loc[mask_index,mask_index] += D_i.loc[mask_index,mask_index]"
   ]
  },
  {
   "cell_type": "code",
   "execution_count": 69,
   "metadata": {},
   "outputs": [
    {
     "data": {
      "text/html": [
       "<div>\n",
       "<style scoped>\n",
       "    .dataframe tbody tr th:only-of-type {\n",
       "        vertical-align: middle;\n",
       "    }\n",
       "\n",
       "    .dataframe tbody tr th {\n",
       "        vertical-align: top;\n",
       "    }\n",
       "\n",
       "    .dataframe thead th {\n",
       "        text-align: right;\n",
       "    }\n",
       "</style>\n",
       "<table border=\"1\" class=\"dataframe\">\n",
       "  <thead>\n",
       "    <tr style=\"text-align: right;\">\n",
       "      <th></th>\n",
       "      <th>YLR418C</th>\n",
       "      <th>YOL145C</th>\n",
       "      <th>YOR123C</th>\n",
       "      <th>YBR279W</th>\n",
       "      <th>YML069W</th>\n",
       "      <th>YGL244W</th>\n",
       "      <th>YGL207W</th>\n",
       "      <th>YDR167W</th>\n",
       "      <th>YDL140C</th>\n",
       "      <th>YGR104C</th>\n",
       "      <th>YAL021C</th>\n",
       "      <th>YOL051W</th>\n",
       "      <th>YDR138W</th>\n",
       "      <th>YGR005C</th>\n",
       "      <th>YML010W</th>\n",
       "      <th>YIL035C</th>\n",
       "      <th>YLR150W</th>\n",
       "      <th>YNL189W</th>\n",
       "      <th>YMR186W</th>\n",
       "      <th>YBR221C</th>\n",
       "      <th>YGL017W</th>\n",
       "      <th>YGR043C</th>\n",
       "      <th>YGR252W</th>\n",
       "      <th>YJR148W</th>\n",
       "      <th>YOR061W</th>\n",
       "      <th>...</th>\n",
       "      <th>YJL062W</th>\n",
       "      <th>YNL130C</th>\n",
       "      <th>YNL320W</th>\n",
       "      <th>YNL336W</th>\n",
       "      <th>YNR061C</th>\n",
       "      <th>YOL092W</th>\n",
       "      <th>YOR067C</th>\n",
       "      <th>YJL077W-A</th>\n",
       "      <th>YDL159W-A</th>\n",
       "      <th>YMR170C</th>\n",
       "      <th>YNL067W-B</th>\n",
       "      <th>YGR204C-A</th>\n",
       "      <th>YLR157C</th>\n",
       "      <th>YPL223C</th>\n",
       "      <th>YJL077W-B</th>\n",
       "      <th>YAL067C</th>\n",
       "      <th>YMR158C-A</th>\n",
       "      <th>YJL077C</th>\n",
       "      <th>YNL146C-A</th>\n",
       "      <th>YGL188C-A</th>\n",
       "      <th>YFR018C</th>\n",
       "      <th>YBR056W-A</th>\n",
       "      <th>YOR278W</th>\n",
       "      <th>YCR010C</th>\n",
       "      <th>YBL029C-A</th>\n",
       "    </tr>\n",
       "  </thead>\n",
       "  <tbody>\n",
       "    <tr>\n",
       "      <th>YLR418C</th>\n",
       "      <td>0.000000</td>\n",
       "      <td>0.021066</td>\n",
       "      <td>0.020024</td>\n",
       "      <td>0.019538</td>\n",
       "      <td>0.003553</td>\n",
       "      <td>0.011633</td>\n",
       "      <td>0.047340</td>\n",
       "      <td>0.005836</td>\n",
       "      <td>0.044163</td>\n",
       "      <td>0.021083</td>\n",
       "      <td>0.445725</td>\n",
       "      <td>0.017348</td>\n",
       "      <td>0.037850</td>\n",
       "      <td>0.024923</td>\n",
       "      <td>0.071713</td>\n",
       "      <td>0.052942</td>\n",
       "      <td>0.013274</td>\n",
       "      <td>0.023243</td>\n",
       "      <td>0.265731</td>\n",
       "      <td>0.016132</td>\n",
       "      <td>0.071381</td>\n",
       "      <td>0.113822</td>\n",
       "      <td>0.119176</td>\n",
       "      <td>0.034335</td>\n",
       "      <td>0.028644</td>\n",
       "      <td>...</td>\n",
       "      <td>0.214102</td>\n",
       "      <td>0.120994</td>\n",
       "      <td>0.0</td>\n",
       "      <td>0.116801</td>\n",
       "      <td>0.163777</td>\n",
       "      <td>0.0</td>\n",
       "      <td>0.0</td>\n",
       "      <td>0.0</td>\n",
       "      <td>0.0</td>\n",
       "      <td>0.033480</td>\n",
       "      <td>0.058055</td>\n",
       "      <td>0.0</td>\n",
       "      <td>0.110804</td>\n",
       "      <td>0.0</td>\n",
       "      <td>0.134106</td>\n",
       "      <td>0.0</td>\n",
       "      <td>0.0</td>\n",
       "      <td>0.0</td>\n",
       "      <td>0.0</td>\n",
       "      <td>0.0</td>\n",
       "      <td>0.0</td>\n",
       "      <td>0.0</td>\n",
       "      <td>0.0</td>\n",
       "      <td>0.0</td>\n",
       "      <td>0.0</td>\n",
       "    </tr>\n",
       "    <tr>\n",
       "      <th>YOL145C</th>\n",
       "      <td>0.021066</td>\n",
       "      <td>0.000000</td>\n",
       "      <td>0.023240</td>\n",
       "      <td>0.001528</td>\n",
       "      <td>0.022282</td>\n",
       "      <td>0.013365</td>\n",
       "      <td>0.068406</td>\n",
       "      <td>0.021659</td>\n",
       "      <td>0.065229</td>\n",
       "      <td>0.042149</td>\n",
       "      <td>0.466791</td>\n",
       "      <td>0.008713</td>\n",
       "      <td>0.016785</td>\n",
       "      <td>0.003857</td>\n",
       "      <td>0.092779</td>\n",
       "      <td>0.074007</td>\n",
       "      <td>0.034339</td>\n",
       "      <td>0.035130</td>\n",
       "      <td>0.286796</td>\n",
       "      <td>0.019287</td>\n",
       "      <td>0.050315</td>\n",
       "      <td>0.092756</td>\n",
       "      <td>0.140242</td>\n",
       "      <td>0.031251</td>\n",
       "      <td>0.049710</td>\n",
       "      <td>...</td>\n",
       "      <td>0.235168</td>\n",
       "      <td>0.142060</td>\n",
       "      <td>0.0</td>\n",
       "      <td>0.095736</td>\n",
       "      <td>0.184842</td>\n",
       "      <td>0.0</td>\n",
       "      <td>0.0</td>\n",
       "      <td>0.0</td>\n",
       "      <td>0.0</td>\n",
       "      <td>0.030396</td>\n",
       "      <td>0.061544</td>\n",
       "      <td>0.0</td>\n",
       "      <td>0.089738</td>\n",
       "      <td>0.0</td>\n",
       "      <td>0.113040</td>\n",
       "      <td>0.0</td>\n",
       "      <td>0.0</td>\n",
       "      <td>0.0</td>\n",
       "      <td>0.0</td>\n",
       "      <td>0.0</td>\n",
       "      <td>0.0</td>\n",
       "      <td>0.0</td>\n",
       "      <td>0.0</td>\n",
       "      <td>0.0</td>\n",
       "      <td>0.0</td>\n",
       "    </tr>\n",
       "    <tr>\n",
       "      <th>YOR123C</th>\n",
       "      <td>0.020024</td>\n",
       "      <td>0.023240</td>\n",
       "      <td>0.000000</td>\n",
       "      <td>0.021712</td>\n",
       "      <td>0.023577</td>\n",
       "      <td>0.009875</td>\n",
       "      <td>0.045166</td>\n",
       "      <td>0.025860</td>\n",
       "      <td>0.045548</td>\n",
       "      <td>0.033082</td>\n",
       "      <td>0.443551</td>\n",
       "      <td>0.025652</td>\n",
       "      <td>0.040024</td>\n",
       "      <td>0.027097</td>\n",
       "      <td>0.069539</td>\n",
       "      <td>0.050768</td>\n",
       "      <td>0.025285</td>\n",
       "      <td>0.039529</td>\n",
       "      <td>0.263557</td>\n",
       "      <td>0.004352</td>\n",
       "      <td>0.073555</td>\n",
       "      <td>0.115996</td>\n",
       "      <td>0.117002</td>\n",
       "      <td>0.014311</td>\n",
       "      <td>0.031294</td>\n",
       "      <td>...</td>\n",
       "      <td>0.211928</td>\n",
       "      <td>0.118820</td>\n",
       "      <td>0.0</td>\n",
       "      <td>0.118975</td>\n",
       "      <td>0.161603</td>\n",
       "      <td>0.0</td>\n",
       "      <td>0.0</td>\n",
       "      <td>0.0</td>\n",
       "      <td>0.0</td>\n",
       "      <td>0.013456</td>\n",
       "      <td>0.038304</td>\n",
       "      <td>0.0</td>\n",
       "      <td>0.112978</td>\n",
       "      <td>0.0</td>\n",
       "      <td>0.136280</td>\n",
       "      <td>0.0</td>\n",
       "      <td>0.0</td>\n",
       "      <td>0.0</td>\n",
       "      <td>0.0</td>\n",
       "      <td>0.0</td>\n",
       "      <td>0.0</td>\n",
       "      <td>0.0</td>\n",
       "      <td>0.0</td>\n",
       "      <td>0.0</td>\n",
       "      <td>0.0</td>\n",
       "    </tr>\n",
       "    <tr>\n",
       "      <th>YBR279W</th>\n",
       "      <td>0.019538</td>\n",
       "      <td>0.001528</td>\n",
       "      <td>0.021712</td>\n",
       "      <td>0.000000</td>\n",
       "      <td>0.020754</td>\n",
       "      <td>0.011837</td>\n",
       "      <td>0.066878</td>\n",
       "      <td>0.020131</td>\n",
       "      <td>0.063701</td>\n",
       "      <td>0.040621</td>\n",
       "      <td>0.465263</td>\n",
       "      <td>0.010039</td>\n",
       "      <td>0.018313</td>\n",
       "      <td>0.005385</td>\n",
       "      <td>0.091251</td>\n",
       "      <td>0.072480</td>\n",
       "      <td>0.032811</td>\n",
       "      <td>0.034186</td>\n",
       "      <td>0.285268</td>\n",
       "      <td>0.017759</td>\n",
       "      <td>0.051843</td>\n",
       "      <td>0.094284</td>\n",
       "      <td>0.138714</td>\n",
       "      <td>0.029924</td>\n",
       "      <td>0.048182</td>\n",
       "      <td>...</td>\n",
       "      <td>0.233640</td>\n",
       "      <td>0.140532</td>\n",
       "      <td>0.0</td>\n",
       "      <td>0.097263</td>\n",
       "      <td>0.183314</td>\n",
       "      <td>0.0</td>\n",
       "      <td>0.0</td>\n",
       "      <td>0.0</td>\n",
       "      <td>0.0</td>\n",
       "      <td>0.029070</td>\n",
       "      <td>0.060016</td>\n",
       "      <td>0.0</td>\n",
       "      <td>0.091266</td>\n",
       "      <td>0.0</td>\n",
       "      <td>0.114568</td>\n",
       "      <td>0.0</td>\n",
       "      <td>0.0</td>\n",
       "      <td>0.0</td>\n",
       "      <td>0.0</td>\n",
       "      <td>0.0</td>\n",
       "      <td>0.0</td>\n",
       "      <td>0.0</td>\n",
       "      <td>0.0</td>\n",
       "      <td>0.0</td>\n",
       "      <td>0.0</td>\n",
       "    </tr>\n",
       "    <tr>\n",
       "      <th>YML069W</th>\n",
       "      <td>0.003553</td>\n",
       "      <td>0.022282</td>\n",
       "      <td>0.023577</td>\n",
       "      <td>0.020754</td>\n",
       "      <td>0.000000</td>\n",
       "      <td>0.015186</td>\n",
       "      <td>0.046124</td>\n",
       "      <td>0.002294</td>\n",
       "      <td>0.042947</td>\n",
       "      <td>0.019867</td>\n",
       "      <td>0.444509</td>\n",
       "      <td>0.018564</td>\n",
       "      <td>0.039067</td>\n",
       "      <td>0.026140</td>\n",
       "      <td>0.070496</td>\n",
       "      <td>0.051725</td>\n",
       "      <td>0.012057</td>\n",
       "      <td>0.022402</td>\n",
       "      <td>0.264514</td>\n",
       "      <td>0.019685</td>\n",
       "      <td>0.072598</td>\n",
       "      <td>0.115039</td>\n",
       "      <td>0.117959</td>\n",
       "      <td>0.037888</td>\n",
       "      <td>0.027427</td>\n",
       "      <td>...</td>\n",
       "      <td>0.212885</td>\n",
       "      <td>0.119777</td>\n",
       "      <td>0.0</td>\n",
       "      <td>0.118018</td>\n",
       "      <td>0.162560</td>\n",
       "      <td>0.0</td>\n",
       "      <td>0.0</td>\n",
       "      <td>0.0</td>\n",
       "      <td>0.0</td>\n",
       "      <td>0.037033</td>\n",
       "      <td>0.061608</td>\n",
       "      <td>0.0</td>\n",
       "      <td>0.112021</td>\n",
       "      <td>0.0</td>\n",
       "      <td>0.135323</td>\n",
       "      <td>0.0</td>\n",
       "      <td>0.0</td>\n",
       "      <td>0.0</td>\n",
       "      <td>0.0</td>\n",
       "      <td>0.0</td>\n",
       "      <td>0.0</td>\n",
       "      <td>0.0</td>\n",
       "      <td>0.0</td>\n",
       "      <td>0.0</td>\n",
       "      <td>0.0</td>\n",
       "    </tr>\n",
       "    <tr>\n",
       "      <th>...</th>\n",
       "      <td>...</td>\n",
       "      <td>...</td>\n",
       "      <td>...</td>\n",
       "      <td>...</td>\n",
       "      <td>...</td>\n",
       "      <td>...</td>\n",
       "      <td>...</td>\n",
       "      <td>...</td>\n",
       "      <td>...</td>\n",
       "      <td>...</td>\n",
       "      <td>...</td>\n",
       "      <td>...</td>\n",
       "      <td>...</td>\n",
       "      <td>...</td>\n",
       "      <td>...</td>\n",
       "      <td>...</td>\n",
       "      <td>...</td>\n",
       "      <td>...</td>\n",
       "      <td>...</td>\n",
       "      <td>...</td>\n",
       "      <td>...</td>\n",
       "      <td>...</td>\n",
       "      <td>...</td>\n",
       "      <td>...</td>\n",
       "      <td>...</td>\n",
       "      <td>...</td>\n",
       "      <td>...</td>\n",
       "      <td>...</td>\n",
       "      <td>...</td>\n",
       "      <td>...</td>\n",
       "      <td>...</td>\n",
       "      <td>...</td>\n",
       "      <td>...</td>\n",
       "      <td>...</td>\n",
       "      <td>...</td>\n",
       "      <td>...</td>\n",
       "      <td>...</td>\n",
       "      <td>...</td>\n",
       "      <td>...</td>\n",
       "      <td>...</td>\n",
       "      <td>...</td>\n",
       "      <td>...</td>\n",
       "      <td>...</td>\n",
       "      <td>...</td>\n",
       "      <td>...</td>\n",
       "      <td>...</td>\n",
       "      <td>...</td>\n",
       "      <td>...</td>\n",
       "      <td>...</td>\n",
       "      <td>...</td>\n",
       "      <td>...</td>\n",
       "    </tr>\n",
       "    <tr>\n",
       "      <th>YFR018C</th>\n",
       "      <td>0.000000</td>\n",
       "      <td>0.000000</td>\n",
       "      <td>0.000000</td>\n",
       "      <td>0.000000</td>\n",
       "      <td>0.000000</td>\n",
       "      <td>0.000000</td>\n",
       "      <td>0.000000</td>\n",
       "      <td>0.000000</td>\n",
       "      <td>0.000000</td>\n",
       "      <td>0.000000</td>\n",
       "      <td>0.000000</td>\n",
       "      <td>0.000000</td>\n",
       "      <td>0.000000</td>\n",
       "      <td>0.000000</td>\n",
       "      <td>0.000000</td>\n",
       "      <td>0.000000</td>\n",
       "      <td>0.000000</td>\n",
       "      <td>0.000000</td>\n",
       "      <td>0.000000</td>\n",
       "      <td>0.000000</td>\n",
       "      <td>0.000000</td>\n",
       "      <td>0.000000</td>\n",
       "      <td>0.000000</td>\n",
       "      <td>0.000000</td>\n",
       "      <td>0.000000</td>\n",
       "      <td>...</td>\n",
       "      <td>0.000000</td>\n",
       "      <td>0.000000</td>\n",
       "      <td>0.0</td>\n",
       "      <td>0.000000</td>\n",
       "      <td>0.000000</td>\n",
       "      <td>0.0</td>\n",
       "      <td>0.0</td>\n",
       "      <td>0.0</td>\n",
       "      <td>0.0</td>\n",
       "      <td>0.000000</td>\n",
       "      <td>0.000000</td>\n",
       "      <td>0.0</td>\n",
       "      <td>0.000000</td>\n",
       "      <td>0.0</td>\n",
       "      <td>0.000000</td>\n",
       "      <td>0.0</td>\n",
       "      <td>0.0</td>\n",
       "      <td>0.0</td>\n",
       "      <td>0.0</td>\n",
       "      <td>0.0</td>\n",
       "      <td>0.0</td>\n",
       "      <td>0.0</td>\n",
       "      <td>0.0</td>\n",
       "      <td>0.0</td>\n",
       "      <td>0.0</td>\n",
       "    </tr>\n",
       "    <tr>\n",
       "      <th>YBR056W-A</th>\n",
       "      <td>0.000000</td>\n",
       "      <td>0.000000</td>\n",
       "      <td>0.000000</td>\n",
       "      <td>0.000000</td>\n",
       "      <td>0.000000</td>\n",
       "      <td>0.000000</td>\n",
       "      <td>0.000000</td>\n",
       "      <td>0.000000</td>\n",
       "      <td>0.000000</td>\n",
       "      <td>0.000000</td>\n",
       "      <td>0.000000</td>\n",
       "      <td>0.000000</td>\n",
       "      <td>0.000000</td>\n",
       "      <td>0.000000</td>\n",
       "      <td>0.000000</td>\n",
       "      <td>0.000000</td>\n",
       "      <td>0.000000</td>\n",
       "      <td>0.000000</td>\n",
       "      <td>0.000000</td>\n",
       "      <td>0.000000</td>\n",
       "      <td>0.000000</td>\n",
       "      <td>0.000000</td>\n",
       "      <td>0.000000</td>\n",
       "      <td>0.000000</td>\n",
       "      <td>0.000000</td>\n",
       "      <td>...</td>\n",
       "      <td>0.000000</td>\n",
       "      <td>0.000000</td>\n",
       "      <td>0.0</td>\n",
       "      <td>0.000000</td>\n",
       "      <td>0.000000</td>\n",
       "      <td>0.0</td>\n",
       "      <td>0.0</td>\n",
       "      <td>0.0</td>\n",
       "      <td>0.0</td>\n",
       "      <td>0.000000</td>\n",
       "      <td>0.000000</td>\n",
       "      <td>0.0</td>\n",
       "      <td>0.000000</td>\n",
       "      <td>0.0</td>\n",
       "      <td>0.000000</td>\n",
       "      <td>0.0</td>\n",
       "      <td>0.0</td>\n",
       "      <td>0.0</td>\n",
       "      <td>0.0</td>\n",
       "      <td>0.0</td>\n",
       "      <td>0.0</td>\n",
       "      <td>0.0</td>\n",
       "      <td>0.0</td>\n",
       "      <td>0.0</td>\n",
       "      <td>0.0</td>\n",
       "    </tr>\n",
       "    <tr>\n",
       "      <th>YOR278W</th>\n",
       "      <td>0.000000</td>\n",
       "      <td>0.000000</td>\n",
       "      <td>0.000000</td>\n",
       "      <td>0.000000</td>\n",
       "      <td>0.000000</td>\n",
       "      <td>0.000000</td>\n",
       "      <td>0.000000</td>\n",
       "      <td>0.000000</td>\n",
       "      <td>0.000000</td>\n",
       "      <td>0.000000</td>\n",
       "      <td>0.000000</td>\n",
       "      <td>0.000000</td>\n",
       "      <td>0.000000</td>\n",
       "      <td>0.000000</td>\n",
       "      <td>0.000000</td>\n",
       "      <td>0.000000</td>\n",
       "      <td>0.000000</td>\n",
       "      <td>0.000000</td>\n",
       "      <td>0.000000</td>\n",
       "      <td>0.000000</td>\n",
       "      <td>0.000000</td>\n",
       "      <td>0.000000</td>\n",
       "      <td>0.000000</td>\n",
       "      <td>0.000000</td>\n",
       "      <td>0.000000</td>\n",
       "      <td>...</td>\n",
       "      <td>0.000000</td>\n",
       "      <td>0.000000</td>\n",
       "      <td>0.0</td>\n",
       "      <td>0.000000</td>\n",
       "      <td>0.000000</td>\n",
       "      <td>0.0</td>\n",
       "      <td>0.0</td>\n",
       "      <td>0.0</td>\n",
       "      <td>0.0</td>\n",
       "      <td>0.000000</td>\n",
       "      <td>0.000000</td>\n",
       "      <td>0.0</td>\n",
       "      <td>0.000000</td>\n",
       "      <td>0.0</td>\n",
       "      <td>0.000000</td>\n",
       "      <td>0.0</td>\n",
       "      <td>0.0</td>\n",
       "      <td>0.0</td>\n",
       "      <td>0.0</td>\n",
       "      <td>0.0</td>\n",
       "      <td>0.0</td>\n",
       "      <td>0.0</td>\n",
       "      <td>0.0</td>\n",
       "      <td>0.0</td>\n",
       "      <td>0.0</td>\n",
       "    </tr>\n",
       "    <tr>\n",
       "      <th>YCR010C</th>\n",
       "      <td>0.000000</td>\n",
       "      <td>0.000000</td>\n",
       "      <td>0.000000</td>\n",
       "      <td>0.000000</td>\n",
       "      <td>0.000000</td>\n",
       "      <td>0.000000</td>\n",
       "      <td>0.000000</td>\n",
       "      <td>0.000000</td>\n",
       "      <td>0.000000</td>\n",
       "      <td>0.000000</td>\n",
       "      <td>0.000000</td>\n",
       "      <td>0.000000</td>\n",
       "      <td>0.000000</td>\n",
       "      <td>0.000000</td>\n",
       "      <td>0.000000</td>\n",
       "      <td>0.000000</td>\n",
       "      <td>0.000000</td>\n",
       "      <td>0.000000</td>\n",
       "      <td>0.000000</td>\n",
       "      <td>0.000000</td>\n",
       "      <td>0.000000</td>\n",
       "      <td>0.000000</td>\n",
       "      <td>0.000000</td>\n",
       "      <td>0.000000</td>\n",
       "      <td>0.000000</td>\n",
       "      <td>...</td>\n",
       "      <td>0.000000</td>\n",
       "      <td>0.000000</td>\n",
       "      <td>0.0</td>\n",
       "      <td>0.000000</td>\n",
       "      <td>0.000000</td>\n",
       "      <td>0.0</td>\n",
       "      <td>0.0</td>\n",
       "      <td>0.0</td>\n",
       "      <td>0.0</td>\n",
       "      <td>0.000000</td>\n",
       "      <td>0.000000</td>\n",
       "      <td>0.0</td>\n",
       "      <td>0.000000</td>\n",
       "      <td>0.0</td>\n",
       "      <td>0.000000</td>\n",
       "      <td>0.0</td>\n",
       "      <td>0.0</td>\n",
       "      <td>0.0</td>\n",
       "      <td>0.0</td>\n",
       "      <td>0.0</td>\n",
       "      <td>0.0</td>\n",
       "      <td>0.0</td>\n",
       "      <td>0.0</td>\n",
       "      <td>0.0</td>\n",
       "      <td>0.0</td>\n",
       "    </tr>\n",
       "    <tr>\n",
       "      <th>YBL029C-A</th>\n",
       "      <td>0.000000</td>\n",
       "      <td>0.000000</td>\n",
       "      <td>0.000000</td>\n",
       "      <td>0.000000</td>\n",
       "      <td>0.000000</td>\n",
       "      <td>0.000000</td>\n",
       "      <td>0.000000</td>\n",
       "      <td>0.000000</td>\n",
       "      <td>0.000000</td>\n",
       "      <td>0.000000</td>\n",
       "      <td>0.000000</td>\n",
       "      <td>0.000000</td>\n",
       "      <td>0.000000</td>\n",
       "      <td>0.000000</td>\n",
       "      <td>0.000000</td>\n",
       "      <td>0.000000</td>\n",
       "      <td>0.000000</td>\n",
       "      <td>0.000000</td>\n",
       "      <td>0.000000</td>\n",
       "      <td>0.000000</td>\n",
       "      <td>0.000000</td>\n",
       "      <td>0.000000</td>\n",
       "      <td>0.000000</td>\n",
       "      <td>0.000000</td>\n",
       "      <td>0.000000</td>\n",
       "      <td>...</td>\n",
       "      <td>0.000000</td>\n",
       "      <td>0.000000</td>\n",
       "      <td>0.0</td>\n",
       "      <td>0.000000</td>\n",
       "      <td>0.000000</td>\n",
       "      <td>0.0</td>\n",
       "      <td>0.0</td>\n",
       "      <td>0.0</td>\n",
       "      <td>0.0</td>\n",
       "      <td>0.000000</td>\n",
       "      <td>0.000000</td>\n",
       "      <td>0.0</td>\n",
       "      <td>0.000000</td>\n",
       "      <td>0.0</td>\n",
       "      <td>0.000000</td>\n",
       "      <td>0.0</td>\n",
       "      <td>0.0</td>\n",
       "      <td>0.0</td>\n",
       "      <td>0.0</td>\n",
       "      <td>0.0</td>\n",
       "      <td>0.0</td>\n",
       "      <td>0.0</td>\n",
       "      <td>0.0</td>\n",
       "      <td>0.0</td>\n",
       "      <td>0.0</td>\n",
       "    </tr>\n",
       "  </tbody>\n",
       "</table>\n",
       "<p>5726 rows × 5726 columns</p>\n",
       "</div>"
      ],
      "text/plain": [
       "            YLR418C   YOL145C   YOR123C   YBR279W   YML069W   YGL244W  \\\n",
       "YLR418C    0.000000  0.021066  0.020024  0.019538  0.003553  0.011633   \n",
       "YOL145C    0.021066  0.000000  0.023240  0.001528  0.022282  0.013365   \n",
       "YOR123C    0.020024  0.023240  0.000000  0.021712  0.023577  0.009875   \n",
       "YBR279W    0.019538  0.001528  0.021712  0.000000  0.020754  0.011837   \n",
       "YML069W    0.003553  0.022282  0.023577  0.020754  0.000000  0.015186   \n",
       "...             ...       ...       ...       ...       ...       ...   \n",
       "YFR018C    0.000000  0.000000  0.000000  0.000000  0.000000  0.000000   \n",
       "YBR056W-A  0.000000  0.000000  0.000000  0.000000  0.000000  0.000000   \n",
       "YOR278W    0.000000  0.000000  0.000000  0.000000  0.000000  0.000000   \n",
       "YCR010C    0.000000  0.000000  0.000000  0.000000  0.000000  0.000000   \n",
       "YBL029C-A  0.000000  0.000000  0.000000  0.000000  0.000000  0.000000   \n",
       "\n",
       "            YGL207W   YDR167W   YDL140C   YGR104C   YAL021C   YOL051W  \\\n",
       "YLR418C    0.047340  0.005836  0.044163  0.021083  0.445725  0.017348   \n",
       "YOL145C    0.068406  0.021659  0.065229  0.042149  0.466791  0.008713   \n",
       "YOR123C    0.045166  0.025860  0.045548  0.033082  0.443551  0.025652   \n",
       "YBR279W    0.066878  0.020131  0.063701  0.040621  0.465263  0.010039   \n",
       "YML069W    0.046124  0.002294  0.042947  0.019867  0.444509  0.018564   \n",
       "...             ...       ...       ...       ...       ...       ...   \n",
       "YFR018C    0.000000  0.000000  0.000000  0.000000  0.000000  0.000000   \n",
       "YBR056W-A  0.000000  0.000000  0.000000  0.000000  0.000000  0.000000   \n",
       "YOR278W    0.000000  0.000000  0.000000  0.000000  0.000000  0.000000   \n",
       "YCR010C    0.000000  0.000000  0.000000  0.000000  0.000000  0.000000   \n",
       "YBL029C-A  0.000000  0.000000  0.000000  0.000000  0.000000  0.000000   \n",
       "\n",
       "            YDR138W   YGR005C   YML010W   YIL035C   YLR150W   YNL189W  \\\n",
       "YLR418C    0.037850  0.024923  0.071713  0.052942  0.013274  0.023243   \n",
       "YOL145C    0.016785  0.003857  0.092779  0.074007  0.034339  0.035130   \n",
       "YOR123C    0.040024  0.027097  0.069539  0.050768  0.025285  0.039529   \n",
       "YBR279W    0.018313  0.005385  0.091251  0.072480  0.032811  0.034186   \n",
       "YML069W    0.039067  0.026140  0.070496  0.051725  0.012057  0.022402   \n",
       "...             ...       ...       ...       ...       ...       ...   \n",
       "YFR018C    0.000000  0.000000  0.000000  0.000000  0.000000  0.000000   \n",
       "YBR056W-A  0.000000  0.000000  0.000000  0.000000  0.000000  0.000000   \n",
       "YOR278W    0.000000  0.000000  0.000000  0.000000  0.000000  0.000000   \n",
       "YCR010C    0.000000  0.000000  0.000000  0.000000  0.000000  0.000000   \n",
       "YBL029C-A  0.000000  0.000000  0.000000  0.000000  0.000000  0.000000   \n",
       "\n",
       "            YMR186W   YBR221C   YGL017W   YGR043C   YGR252W   YJR148W  \\\n",
       "YLR418C    0.265731  0.016132  0.071381  0.113822  0.119176  0.034335   \n",
       "YOL145C    0.286796  0.019287  0.050315  0.092756  0.140242  0.031251   \n",
       "YOR123C    0.263557  0.004352  0.073555  0.115996  0.117002  0.014311   \n",
       "YBR279W    0.285268  0.017759  0.051843  0.094284  0.138714  0.029924   \n",
       "YML069W    0.264514  0.019685  0.072598  0.115039  0.117959  0.037888   \n",
       "...             ...       ...       ...       ...       ...       ...   \n",
       "YFR018C    0.000000  0.000000  0.000000  0.000000  0.000000  0.000000   \n",
       "YBR056W-A  0.000000  0.000000  0.000000  0.000000  0.000000  0.000000   \n",
       "YOR278W    0.000000  0.000000  0.000000  0.000000  0.000000  0.000000   \n",
       "YCR010C    0.000000  0.000000  0.000000  0.000000  0.000000  0.000000   \n",
       "YBL029C-A  0.000000  0.000000  0.000000  0.000000  0.000000  0.000000   \n",
       "\n",
       "            YOR061W  ...   YJL062W   YNL130C  YNL320W   YNL336W   YNR061C  \\\n",
       "YLR418C    0.028644  ...  0.214102  0.120994      0.0  0.116801  0.163777   \n",
       "YOL145C    0.049710  ...  0.235168  0.142060      0.0  0.095736  0.184842   \n",
       "YOR123C    0.031294  ...  0.211928  0.118820      0.0  0.118975  0.161603   \n",
       "YBR279W    0.048182  ...  0.233640  0.140532      0.0  0.097263  0.183314   \n",
       "YML069W    0.027427  ...  0.212885  0.119777      0.0  0.118018  0.162560   \n",
       "...             ...  ...       ...       ...      ...       ...       ...   \n",
       "YFR018C    0.000000  ...  0.000000  0.000000      0.0  0.000000  0.000000   \n",
       "YBR056W-A  0.000000  ...  0.000000  0.000000      0.0  0.000000  0.000000   \n",
       "YOR278W    0.000000  ...  0.000000  0.000000      0.0  0.000000  0.000000   \n",
       "YCR010C    0.000000  ...  0.000000  0.000000      0.0  0.000000  0.000000   \n",
       "YBL029C-A  0.000000  ...  0.000000  0.000000      0.0  0.000000  0.000000   \n",
       "\n",
       "           YOL092W  YOR067C  YJL077W-A  YDL159W-A   YMR170C  YNL067W-B  \\\n",
       "YLR418C        0.0      0.0        0.0        0.0  0.033480   0.058055   \n",
       "YOL145C        0.0      0.0        0.0        0.0  0.030396   0.061544   \n",
       "YOR123C        0.0      0.0        0.0        0.0  0.013456   0.038304   \n",
       "YBR279W        0.0      0.0        0.0        0.0  0.029070   0.060016   \n",
       "YML069W        0.0      0.0        0.0        0.0  0.037033   0.061608   \n",
       "...            ...      ...        ...        ...       ...        ...   \n",
       "YFR018C        0.0      0.0        0.0        0.0  0.000000   0.000000   \n",
       "YBR056W-A      0.0      0.0        0.0        0.0  0.000000   0.000000   \n",
       "YOR278W        0.0      0.0        0.0        0.0  0.000000   0.000000   \n",
       "YCR010C        0.0      0.0        0.0        0.0  0.000000   0.000000   \n",
       "YBL029C-A      0.0      0.0        0.0        0.0  0.000000   0.000000   \n",
       "\n",
       "           YGR204C-A   YLR157C  YPL223C  YJL077W-B  YAL067C  YMR158C-A  \\\n",
       "YLR418C          0.0  0.110804      0.0   0.134106      0.0        0.0   \n",
       "YOL145C          0.0  0.089738      0.0   0.113040      0.0        0.0   \n",
       "YOR123C          0.0  0.112978      0.0   0.136280      0.0        0.0   \n",
       "YBR279W          0.0  0.091266      0.0   0.114568      0.0        0.0   \n",
       "YML069W          0.0  0.112021      0.0   0.135323      0.0        0.0   \n",
       "...              ...       ...      ...        ...      ...        ...   \n",
       "YFR018C          0.0  0.000000      0.0   0.000000      0.0        0.0   \n",
       "YBR056W-A        0.0  0.000000      0.0   0.000000      0.0        0.0   \n",
       "YOR278W          0.0  0.000000      0.0   0.000000      0.0        0.0   \n",
       "YCR010C          0.0  0.000000      0.0   0.000000      0.0        0.0   \n",
       "YBL029C-A        0.0  0.000000      0.0   0.000000      0.0        0.0   \n",
       "\n",
       "           YJL077C  YNL146C-A  YGL188C-A  YFR018C  YBR056W-A  YOR278W  \\\n",
       "YLR418C        0.0        0.0        0.0      0.0        0.0      0.0   \n",
       "YOL145C        0.0        0.0        0.0      0.0        0.0      0.0   \n",
       "YOR123C        0.0        0.0        0.0      0.0        0.0      0.0   \n",
       "YBR279W        0.0        0.0        0.0      0.0        0.0      0.0   \n",
       "YML069W        0.0        0.0        0.0      0.0        0.0      0.0   \n",
       "...            ...        ...        ...      ...        ...      ...   \n",
       "YFR018C        0.0        0.0        0.0      0.0        0.0      0.0   \n",
       "YBR056W-A      0.0        0.0        0.0      0.0        0.0      0.0   \n",
       "YOR278W        0.0        0.0        0.0      0.0        0.0      0.0   \n",
       "YCR010C        0.0        0.0        0.0      0.0        0.0      0.0   \n",
       "YBL029C-A      0.0        0.0        0.0      0.0        0.0      0.0   \n",
       "\n",
       "           YCR010C  YBL029C-A  \n",
       "YLR418C        0.0        0.0  \n",
       "YOL145C        0.0        0.0  \n",
       "YOR123C        0.0        0.0  \n",
       "YBR279W        0.0        0.0  \n",
       "YML069W        0.0        0.0  \n",
       "...            ...        ...  \n",
       "YFR018C        0.0        0.0  \n",
       "YBR056W-A      0.0        0.0  \n",
       "YOR278W        0.0        0.0  \n",
       "YCR010C        0.0        0.0  \n",
       "YBL029C-A      0.0        0.0  \n",
       "\n",
       "[5726 rows x 5726 columns]"
      ]
     },
     "execution_count": 69,
     "metadata": {},
     "output_type": "execute_result"
    }
   ],
   "source": [
    "D_"
   ]
  },
  {
   "cell_type": "code",
   "execution_count": 15,
   "metadata": {},
   "outputs": [
    {
     "name": "stdout",
     "output_type": "stream",
     "text": [
      "cityblock\n",
      "2 0.8093264320893911 False\n",
      "4 0.8075409455443076 False\n",
      "4 0.7549106801870417 False\n",
      "4 0.6151361314930966 True\n",
      "4 0.7887025900275332 True\n",
      "\n",
      "euclidean\n",
      "2 0.8093264320893909 False\n",
      "4 0.8061449172901909 False\n",
      "4 0.7417992051710224 False\n",
      "4 0.6392917858289597 True\n",
      "4 0.7615003551376018 True\n",
      "\n",
      "sqeuclidean\n",
      "2 0.6550092736785438 False\n",
      "4 0.6498696276728086 False\n",
      "4 0.5502660607923605 False\n",
      "4 0.40869398742838065 True\n",
      "4 0.5798827908746939 True\n",
      "\n",
      "chebyshev\n",
      "2 0.8093264320893911 False\n",
      "4 0.8075409455443076 False\n",
      "4 0.7533777915944772 False\n",
      "4 0.8201815086574622 False\n",
      "4 0.7887025900275332 False\n",
      "\n",
      "cosine\n",
      "2 0.7706828246032714 False\n",
      "4 0.8999994436765109 False\n",
      "4 0.7907524261027041 False\n",
      "4 0.6269304238392925 True\n",
      "4 0.8829081117925971 True\n",
      "\n",
      "correlation\n",
      "2 1.0 False\n",
      "4 0.7743774448536456 False\n",
      "4 0.7316981676689341 False\n",
      "4 0.603187078718982 True\n",
      "4 0.7739425932745478 True\n",
      "\n",
      "canberra\n",
      "2 0.8398607535689212 False\n",
      "4 0.9175402415759402 False\n",
      "4 0.8750855972220317 False\n",
      "4 0.9237940019324842 False\n",
      "4 0.9127805408346124 False\n",
      "\n",
      "braycurtis\n",
      "2 0.8093264320893911 False\n",
      "4 0.8075409455443077 False\n",
      "4 0.7549106801870418 False\n",
      "4 0.7738003073670819 True\n",
      "4 0.7887025900275332 True\n",
      "\n"
     ]
    }
   ],
   "source": [
    "for distance in all_distances:\n",
    "    print(distance)\n",
    "    D_dict = {}\n",
    "    for source in source_G:\n",
    "        length = len(GCV_G[source].T)\n",
    "        D = cdist(GCV_G[source].values, GCV_G[source].values, distance) / normalizer(distance,length)\n",
    "        D_dict[source] = D \n",
    "        print(length, np.nanmax(D), np.isnan(D).any())\n",
    "\n",
    "    D = np.nanmean([D_i for D_i in D_dict.values()], axis=0)\n",
    "    np.savetxt(f\"{MATRIX_DIRECTORY}/GCV-G/{distance}_BioGRID.txt\", D, \n",
    "               fmt='%.7f', header=' '.join(PPI_nx), comments='')\n",
    "    print()"
   ]
  },
  {
   "cell_type": "markdown",
   "metadata": {},
   "source": [
    "# GCV-AD"
   ]
  },
  {
   "cell_type": "code",
   "execution_count": 8,
   "metadata": {},
   "outputs": [],
   "source": [
    "GCV_AD = GCV[['A','D']]\n",
    "\n",
    "if not os.path.exists(f\"{MATRIX_DIRECTORY}/GCV-AD\"):\n",
    "    os.makedirs(f\"{MATRIX_DIRECTORY}/GCV-AD/\")"
   ]
  },
  {
   "cell_type": "code",
   "execution_count": 9,
   "metadata": {},
   "outputs": [],
   "source": [
    "order_source_AD = sorted({(order,source) for order,source,target in GCV_AD.columns})"
   ]
  },
  {
   "cell_type": "markdown",
   "metadata": {},
   "source": [
    "### graco"
   ]
  },
  {
   "cell_type": "code",
   "execution_count": 10,
   "metadata": {},
   "outputs": [
    {
     "name": "stdout",
     "output_type": "stream",
     "text": [
      "2 0.83986\n",
      "3 0.9640933333333334\n",
      "4 0.9771975\n",
      "3 0.9869866666666667\n",
      "2 1.0\n",
      "4 1.0\n",
      "3 1.0\n",
      "3 1.0\n"
     ]
    }
   ],
   "source": [
    "# Normalized1 L_1\n",
    "D_dict = {}\n",
    "for order,source in order_source_AD:\n",
    "    length = len(GCV_AD[order][source].T)\n",
    "    D = graco.distances.normalized1_lp(GCV_AD[order][source], 1) / normalizer('normalized1_l1',length)\n",
    "    D_dict[(order,source)] = D \n",
    "    print(length, np.nanmax(D))\n",
    "    \n",
    "D = np.nanmean([D_i for D_i in D_dict.values()], axis=0)\n",
    "np.savetxt(f\"{MATRIX_DIRECTORY}/GCV-AD/normalized1-l1_BioGRID.txt\", D, \n",
    "           fmt='%.7f', header=' '.join(PPI_nx), comments='')"
   ]
  },
  {
   "cell_type": "code",
   "execution_count": 13,
   "metadata": {},
   "outputs": [
    {
     "name": "stdout",
     "output_type": "stream",
     "text": [
      "2 0.8549910934039021\n",
      "3 0.9654277996308165\n",
      "4 0.977995\n",
      "3 0.9871592637631141\n",
      "2 0.9999974810218273\n",
      "4 1.0\n",
      "3 0.9999995337498914\n",
      "3 0.9999995337498914\n"
     ]
    }
   ],
   "source": [
    "# Normalized1 L_2\n",
    "D_dict = {}\n",
    "for order,source in order_source_AD:\n",
    "    length = len(GCV_AD[order][source].T)\n",
    "    D = graco.distances.normalized1_lp(GCV_AD[order][source], 2) / normalizer('normalized1_l2',length)\n",
    "    D_dict[(order,source)] = D \n",
    "    print(length, np.nanmax(D))\n",
    "    \n",
    "D = np.nanmean([D_i for D_i in D_dict.values()], axis=0)\n",
    "np.savetxt(f\"{MATRIX_DIRECTORY}/GCV-AD/normalized1-l2_BioGRID.txt\", D, \n",
    "           fmt='%.7f', header=' '.join(PPI_nx), comments='')"
   ]
  },
  {
   "cell_type": "code",
   "execution_count": 14,
   "metadata": {},
   "outputs": [
    {
     "name": "stdout",
     "output_type": "stream",
     "text": [
      "2 1.0\n",
      "3 1.0\n",
      "4 1.0\n",
      "3 1.0\n",
      "2 1.0\n",
      "4 1.0\n",
      "3 1.0\n",
      "3 1.0\n"
     ]
    }
   ],
   "source": [
    "# Normalized1 L_inf\n",
    "D_dict = {}\n",
    "for order,source in order_source_AD:\n",
    "    length = len(GCV_AD[order][source].T)\n",
    "    D = graco.distances.normalized1_lp(GCV_AD[order][source], np.inf) / normalizer('normalized1_linf',length)\n",
    "    D_dict[(order,source)] = D \n",
    "    print(length, np.nanmax(D))\n",
    "    \n",
    "D = np.nanmean([D_i for D_i in D_dict.values()], axis=0)\n",
    "np.savetxt(f\"{MATRIX_DIRECTORY}/GCV-AD/normalized1-linf_BioGRID.txt\", D, \n",
    "           fmt='%.7f', header=' '.join(PPI_nx), comments='')"
   ]
  },
  {
   "cell_type": "markdown",
   "metadata": {},
   "source": [
    "# GCV-DG"
   ]
  },
  {
   "cell_type": "code",
   "execution_count": 5,
   "metadata": {},
   "outputs": [],
   "source": [
    "GCV_DG = GCV[['D', 'G']]\n",
    "\n",
    "if not os.path.exists(f\"{MATRIX_DIRECTORY}/GCV-DG\"):\n",
    "    os.makedirs(f\"{MATRIX_DIRECTORY}/GCV-DG/\")"
   ]
  },
  {
   "cell_type": "code",
   "execution_count": 6,
   "metadata": {},
   "outputs": [],
   "source": [
    "order_source_DG = sorted({(order,source) for order,source,target in GCV_DG.columns})"
   ]
  },
  {
   "cell_type": "markdown",
   "metadata": {},
   "source": [
    "### graco"
   ]
  },
  {
   "cell_type": "code",
   "execution_count": 8,
   "metadata": {},
   "outputs": [
    {
     "name": "stdout",
     "output_type": "stream",
     "text": [
      "2 1.0\n",
      "4 1.0\n",
      "3 1.0\n",
      "3 1.0\n",
      "2 1.0\n",
      "4 1.0\n",
      "4 1.0\n"
     ]
    },
    {
     "ename": "MemoryError",
     "evalue": "Unable to allocate array with shape (17125, 1, 17125) and data type float64",
     "output_type": "error",
     "traceback": [
      "\u001b[0;31m---------------------------------------------------------------------------\u001b[0m",
      "\u001b[0;31mMemoryError\u001b[0m                               Traceback (most recent call last)",
      "\u001b[0;32m<ipython-input-8-2843dcb9540c>\u001b[0m in \u001b[0;36m<module>\u001b[0;34m\u001b[0m\n\u001b[1;32m      3\u001b[0m \u001b[0;32mfor\u001b[0m \u001b[0morder\u001b[0m\u001b[0;34m,\u001b[0m\u001b[0msource\u001b[0m \u001b[0;32min\u001b[0m \u001b[0morder_source_DG\u001b[0m\u001b[0;34m:\u001b[0m\u001b[0;34m\u001b[0m\u001b[0;34m\u001b[0m\u001b[0m\n\u001b[1;32m      4\u001b[0m     \u001b[0mlength\u001b[0m \u001b[0;34m=\u001b[0m \u001b[0mlen\u001b[0m\u001b[0;34m(\u001b[0m\u001b[0mGCV_DG\u001b[0m\u001b[0;34m[\u001b[0m\u001b[0morder\u001b[0m\u001b[0;34m]\u001b[0m\u001b[0;34m[\u001b[0m\u001b[0msource\u001b[0m\u001b[0;34m]\u001b[0m\u001b[0;34m.\u001b[0m\u001b[0mT\u001b[0m\u001b[0;34m)\u001b[0m\u001b[0;34m\u001b[0m\u001b[0;34m\u001b[0m\u001b[0m\n\u001b[0;32m----> 5\u001b[0;31m     \u001b[0mD\u001b[0m \u001b[0;34m=\u001b[0m \u001b[0mgraco\u001b[0m\u001b[0;34m.\u001b[0m\u001b[0mdistance_matrix\u001b[0m\u001b[0;34m.\u001b[0m\u001b[0mnormalized1_lp\u001b[0m\u001b[0;34m(\u001b[0m\u001b[0mGCV_DG\u001b[0m\u001b[0;34m[\u001b[0m\u001b[0morder\u001b[0m\u001b[0;34m]\u001b[0m\u001b[0;34m[\u001b[0m\u001b[0msource\u001b[0m\u001b[0;34m]\u001b[0m\u001b[0;34m,\u001b[0m \u001b[0;36m1\u001b[0m\u001b[0;34m)\u001b[0m \u001b[0;34m/\u001b[0m \u001b[0mnormalizer\u001b[0m\u001b[0;34m(\u001b[0m\u001b[0;34m'normalized1_l1'\u001b[0m\u001b[0;34m,\u001b[0m\u001b[0mlength\u001b[0m\u001b[0;34m)\u001b[0m\u001b[0;34m\u001b[0m\u001b[0;34m\u001b[0m\u001b[0m\n\u001b[0m\u001b[1;32m      6\u001b[0m     \u001b[0mD_dict\u001b[0m\u001b[0;34m[\u001b[0m\u001b[0;34m(\u001b[0m\u001b[0morder\u001b[0m\u001b[0;34m,\u001b[0m\u001b[0msource\u001b[0m\u001b[0;34m)\u001b[0m\u001b[0;34m]\u001b[0m \u001b[0;34m=\u001b[0m \u001b[0mD\u001b[0m\u001b[0;34m\u001b[0m\u001b[0;34m\u001b[0m\u001b[0m\n\u001b[1;32m      7\u001b[0m     \u001b[0mprint\u001b[0m\u001b[0;34m(\u001b[0m\u001b[0mlength\u001b[0m\u001b[0;34m,\u001b[0m \u001b[0mnp\u001b[0m\u001b[0;34m.\u001b[0m\u001b[0mnanmax\u001b[0m\u001b[0;34m(\u001b[0m\u001b[0mD\u001b[0m\u001b[0;34m)\u001b[0m\u001b[0;34m)\u001b[0m\u001b[0;34m\u001b[0m\u001b[0;34m\u001b[0m\u001b[0m\n",
      "\u001b[0;32m~/Desktop/git/supplements/venv/graco/lib/python3.6/site-packages/graco/distance_matrix.py\u001b[0m in \u001b[0;36mnormalized1_lp\u001b[0;34m(M, p)\u001b[0m\n\u001b[1;32m     51\u001b[0m         \u001b[0mcmd\u001b[0m \u001b[0;34m=\u001b[0m \u001b[0;34m[\u001b[0m\u001b[0;34mf\"{CPP_DIRECTORY}/float_normalized1_lp\"\u001b[0m\u001b[0;34m,\u001b[0m \u001b[0mstr\u001b[0m\u001b[0;34m(\u001b[0m\u001b[0mp\u001b[0m\u001b[0;34m)\u001b[0m\u001b[0;34m,\u001b[0m \u001b[0mMATRIX_IN\u001b[0m\u001b[0;34m,\u001b[0m \u001b[0mMATRIX_OUT\u001b[0m\u001b[0;34m]\u001b[0m\u001b[0;34m\u001b[0m\u001b[0;34m\u001b[0m\u001b[0m\n\u001b[1;32m     52\u001b[0m         \u001b[0mrun_cmd\u001b[0m\u001b[0;34m(\u001b[0m\u001b[0mcmd\u001b[0m\u001b[0;34m)\u001b[0m\u001b[0;34m\u001b[0m\u001b[0;34m\u001b[0m\u001b[0m\n\u001b[0;32m---> 53\u001b[0;31m         \u001b[0;32mreturn\u001b[0m \u001b[0mnp\u001b[0m\u001b[0;34m.\u001b[0m\u001b[0mloadtxt\u001b[0m\u001b[0;34m(\u001b[0m\u001b[0mMATRIX_OUT\u001b[0m\u001b[0;34m)\u001b[0m\u001b[0;34m\u001b[0m\u001b[0;34m\u001b[0m\u001b[0m\n\u001b[0m\u001b[1;32m     54\u001b[0m     \u001b[0;32melse\u001b[0m\u001b[0;34m:\u001b[0m\u001b[0;34m\u001b[0m\u001b[0;34m\u001b[0m\u001b[0m\n\u001b[1;32m     55\u001b[0m         \u001b[0;32mraise\u001b[0m \u001b[0mException\u001b[0m\u001b[0;34m(\u001b[0m\u001b[0;34mf\"Datatype not understood. {M.dtype}\"\u001b[0m\u001b[0;34m)\u001b[0m\u001b[0;34m\u001b[0m\u001b[0;34m\u001b[0m\u001b[0m\n",
      "\u001b[0;32m~/Desktop/git/supplements/venv/graco/lib/python3.6/site-packages/numpy/lib/npyio.py\u001b[0m in \u001b[0;36mloadtxt\u001b[0;34m(fname, dtype, comments, delimiter, converters, skiprows, usecols, unpack, ndmin, encoding, max_rows)\u001b[0m\n\u001b[1;32m   1146\u001b[0m         \u001b[0;32mfor\u001b[0m \u001b[0mx\u001b[0m \u001b[0;32min\u001b[0m \u001b[0mread_data\u001b[0m\u001b[0;34m(\u001b[0m\u001b[0m_loadtxt_chunksize\u001b[0m\u001b[0;34m)\u001b[0m\u001b[0;34m:\u001b[0m\u001b[0;34m\u001b[0m\u001b[0;34m\u001b[0m\u001b[0m\n\u001b[1;32m   1147\u001b[0m             \u001b[0;32mif\u001b[0m \u001b[0mX\u001b[0m \u001b[0;32mis\u001b[0m \u001b[0;32mNone\u001b[0m\u001b[0;34m:\u001b[0m\u001b[0;34m\u001b[0m\u001b[0;34m\u001b[0m\u001b[0m\n\u001b[0;32m-> 1148\u001b[0;31m                 \u001b[0mX\u001b[0m \u001b[0;34m=\u001b[0m \u001b[0mnp\u001b[0m\u001b[0;34m.\u001b[0m\u001b[0marray\u001b[0m\u001b[0;34m(\u001b[0m\u001b[0mx\u001b[0m\u001b[0;34m,\u001b[0m \u001b[0mdtype\u001b[0m\u001b[0;34m)\u001b[0m\u001b[0;34m\u001b[0m\u001b[0;34m\u001b[0m\u001b[0m\n\u001b[0m\u001b[1;32m   1149\u001b[0m             \u001b[0;32melse\u001b[0m\u001b[0;34m:\u001b[0m\u001b[0;34m\u001b[0m\u001b[0;34m\u001b[0m\u001b[0m\n\u001b[1;32m   1150\u001b[0m                 \u001b[0mnshape\u001b[0m \u001b[0;34m=\u001b[0m \u001b[0mlist\u001b[0m\u001b[0;34m(\u001b[0m\u001b[0mX\u001b[0m\u001b[0;34m.\u001b[0m\u001b[0mshape\u001b[0m\u001b[0;34m)\u001b[0m\u001b[0;34m\u001b[0m\u001b[0;34m\u001b[0m\u001b[0m\n",
      "\u001b[0;31mMemoryError\u001b[0m: Unable to allocate array with shape (17125, 1, 17125) and data type float64"
     ]
    }
   ],
   "source": [
    "# Normalized1 L_1\n",
    "D_dict = {}\n",
    "for order,source in order_source_DG:\n",
    "    length = len(GCV_DG[order][source].T)\n",
    "    D = graco.distance_matrix.normalized1_lp(GCV_DG[order][source], 1) / normalizer('normalized1_l1',length)\n",
    "    D_dict[(order,source)] = D \n",
    "    print(length, np.nanmax(D))\n",
    "    \n",
    "D = np.nanmean([D_i for D_i in D_dict.values()], axis=0)\n",
    "np.savetxt(f\"{MATRIX_DIRECTORY}/GCV-DG/normalized1-l1_BioGRID.txt\", D, \n",
    "           fmt='%.7f', header=' '.join(PPI_nx), comments='')"
   ]
  },
  {
   "cell_type": "code",
   "execution_count": null,
   "metadata": {},
   "outputs": [],
   "source": [
    "# Normalized1 L_2\n",
    "D_dict = {}\n",
    "for order,source in order_source_DG:\n",
    "    length = len(GCV_DG[order][source].T)\n",
    "    D = graco.distance_matrix.normalized1_lp(GCV_DG[order][source], 2) / normalizer('normalized1_l2',length)\n",
    "    D_dict[(order,source)] = D \n",
    "    print(length, np.nanmax(D))\n",
    "    \n",
    "D = np.nanmean([D_i for D_i in D_dict.values()], axis=0)\n",
    "np.savetxt(f\"{MATRIX_DIRECTORY}/GCV-DG/normalized1-l2_BioGRID.txt\", D, \n",
    "           fmt='%.7f', header=' '.join(PPI_nx), comments='')"
   ]
  },
  {
   "cell_type": "code",
   "execution_count": null,
   "metadata": {},
   "outputs": [],
   "source": [
    "# Normalized1 L_inf\n",
    "D_dict = {}\n",
    "for order,source in order_source_DG:\n",
    "    length = len(GCV_DG[order][source].T)\n",
    "    D = graco.distance_matrix.normalized1_lp(GCV_DG[order][source], np.inf) / normalizer('normalized1_linf',length)\n",
    "    D_dict[(order,source)] = D \n",
    "    print(length, np.nanmax(D))\n",
    "    \n",
    "D = np.nanmean([D_i for D_i in D_dict.values()], axis=0)\n",
    "np.savetxt(f\"{MATRIX_DIRECTORY}/GCV-DG/normalized1-linf_BioGRID.txt\", D, \n",
    "           fmt='%.7f', header=' '.join(PPI_nx), comments='')"
   ]
  },
  {
   "cell_type": "code",
   "execution_count": null,
   "metadata": {},
   "outputs": [],
   "source": []
  }
 ],
 "metadata": {
  "kernelspec": {
   "display_name": "graco",
   "language": "python",
   "name": "graco"
  },
  "language_info": {
   "codemirror_mode": {
    "name": "ipython",
    "version": 3
   },
   "file_extension": ".py",
   "mimetype": "text/x-python",
   "name": "python",
   "nbconvert_exporter": "python",
   "pygments_lexer": "ipython3",
   "version": "3.6.8"
  }
 },
 "nbformat": 4,
 "nbformat_minor": 2
}
