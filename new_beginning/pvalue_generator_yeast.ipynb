{
 "cells": [
  {
   "cell_type": "code",
   "execution_count": 1,
   "metadata": {},
   "outputs": [],
   "source": [
    "from itertools import islice, combinations, product\n",
    "from pyclustering.cluster.kmedoids import kmedoids\n",
    "from collections import defaultdict\n",
    "from scipy.stats import hypergeom\n",
    "from collections import Counter\n",
    "from goatools import obo_parser\n",
    "from functools import partial\n",
    "\n",
    "import os\n",
    "import time\n",
    "import random\n",
    "import numpy as np\n",
    "import pandas as pd\n",
    "import networkx as nx"
   ]
  },
  {
   "cell_type": "code",
   "execution_count": 2,
   "metadata": {},
   "outputs": [],
   "source": [
    "DATA_DIRECTORY = \"/media/clusterduck123/joe/data\"\n",
    "RAW_DATA_DIRECTORY = f\"{DATA_DIRECTORY}/raw-data\"\n",
    "YEAST_DIRECTORY = f\"{DATA_DIRECTORY}/processed-data/yeast\"\n",
    "NETWORK_DIRECTORY = f\"{YEAST_DIRECTORY}/networks\"\n",
    "ANNOTATION_DIRECTORY = f\"{YEAST_DIRECTORY}/annotations\"\n",
    "MATRIX_DIRECTORY  = f\"{YEAST_DIRECTORY}/distance-matrices\""
   ]
  },
  {
   "cell_type": "markdown",
   "metadata": {},
   "source": [
    "# Enrichement"
   ]
  },
  {
   "cell_type": "markdown",
   "metadata": {},
   "source": [
    "#### Load and parse annotation data"
   ]
  },
  {
   "cell_type": "code",
   "execution_count": 3,
   "metadata": {},
   "outputs": [
    {
     "name": "stdout",
     "output_type": "stream",
     "text": [
      "/media/clusterduck123/joe/data/raw-data/go-basic.obo: fmt(1.2) rel(2019-10-07) 47,285 GO Terms\n"
     ]
    }
   ],
   "source": [
    "aspect  = 'BP'\n",
    "method  = 'kmedoid'\n",
    "network = 'systematic_CoEx_COEXPRESdb' \n",
    "\n",
    "PPI = nx.read_edgelist(f\"{NETWORK_DIRECTORY}/PPI_BioGRID.txt\")\n",
    "annotation_df = pd.read_csv(f\"{ANNOTATION_DIRECTORY}/GO_{aspect}_BioGRID-SGD.csv\")\n",
    "go_dag = obo_parser.GODag(f\"{RAW_DATA_DIRECTORY}/go-basic.obo\")\n",
    "\n",
    "gene_population = set(PPI.nodes())\n",
    "GO_population = set(annotation_df.GO_ID)"
   ]
  },
  {
   "cell_type": "markdown",
   "metadata": {},
   "source": [
    "#### Define convenient dictionaries"
   ]
  },
  {
   "cell_type": "code",
   "execution_count": 4,
   "metadata": {},
   "outputs": [],
   "source": [
    "# Conversion dictionaries\n",
    "GO2genes = pd.Series({go_id: set(genes.Systematic_ID) for go_id, genes in annotation_df.groupby('GO_ID')}, \n",
    "                     name='nb_genes')\n",
    "\n",
    "gene2GO  = {gene : set(go_ids.GO_ID) for gene, go_ids in annotation_df.groupby('Systematic_ID')}\n",
    "global_GO_counter = GO2genes.apply(len)"
   ]
  },
  {
   "cell_type": "markdown",
   "metadata": {},
   "source": [
    "## Here we GO"
   ]
  },
  {
   "cell_type": "markdown",
   "metadata": {},
   "source": [
    "### Functions"
   ]
  },
  {
   "cell_type": "markdown",
   "metadata": {},
   "source": [
    "#### Parser fuctions"
   ]
  },
  {
   "cell_type": "code",
   "execution_count": 12,
   "metadata": {},
   "outputs": [],
   "source": [
    "def get_number_of_pre_runs(CLUSTER_DIRECTORY, distance, n_clusters = 99):\n",
    "    splitted_file_names = [name.split('_') for name in os.listdir(CLUSTER_DIRECTORY)]\n",
    "    pre_runs = [int(run) for run, ncluster in splitted_file_names if ncluster == str(n_clusters)]\n",
    "    if pre_runs:\n",
    "        return max(pre_runs)+1\n",
    "    else:\n",
    "        return -1"
   ]
  },
  {
   "cell_type": "markdown",
   "metadata": {},
   "source": [
    "#### Loop functions"
   ]
  },
  {
   "cell_type": "code",
   "execution_count": 13,
   "metadata": {},
   "outputs": [],
   "source": [
    "def cluster2GO(cluster):\n",
    "    return set.union(*(gene2GO.get(gene, set()) for gene in cluster))\n",
    "\n",
    "def is_annotated_in(gene, GO_set):\n",
    "    return not gene2GO.get(gene,set()).isdisjoint(GO_set)"
   ]
  },
  {
   "cell_type": "markdown",
   "metadata": {},
   "source": [
    "## GDV"
   ]
  },
  {
   "cell_type": "code",
   "execution_count": 14,
   "metadata": {},
   "outputs": [],
   "source": [
    "feature = 'GDV'\n",
    "\n",
    "all_distances = sorted('_'.join(filename.split('_')[:-1]) \n",
    "                           for filename in os.listdir(f\"{MATRIX_DIRECTORY}/{feature}\"))"
   ]
  },
  {
   "cell_type": "code",
   "execution_count": 15,
   "metadata": {},
   "outputs": [],
   "source": [
    "MIN_CLUSTERS = 2\n",
    "MAX_CLUSTERS = 100\n",
    "MAX_RUNS = 10"
   ]
  },
  {
   "cell_type": "code",
   "execution_count": 16,
   "metadata": {},
   "outputs": [
    {
     "name": "stdout",
     "output_type": "stream",
     "text": [
      "canberra\n",
      "\n",
      "mahalanobis\n",
      "\n",
      "GDV_similarity\n",
      "\n"
     ]
    }
   ],
   "source": [
    "for distance in {'GDV_similarity', 'canberra', 'mahalanobis'}:\n",
    "    \n",
    "    t1 = time.time()\n",
    "    print(distance)\n",
    "    \n",
    "    CLUSTER_DIRECTORY = f\"{YEAST_DIRECTORY}/clusterings/{network}/{feature}/{distance}/{method}\"\n",
    "    PVALUE_DIRECTORY  = f\"{YEAST_DIRECTORY}/p-values/{network}/{feature}/{distance}/{method}/{aspect}\"\n",
    "    \n",
    "    if not os.path.exists(PVALUE_DIRECTORY):\n",
    "        os.makedirs(PVALUE_DIRECTORY)\n",
    "    \n",
    "    runs = min(get_number_of_pre_runs(CLUSTER_DIRECTORY, distance, MAX_CLUSTERS), MAX_RUNS)\n",
    "\n",
    "    for run in range(runs):\n",
    "        for nb_clusters in range(MIN_CLUSTERS, MAX_CLUSTERS):\n",
    "            if os.path.exists(f\"{PVALUE_DIRECTORY}/{run}_{nb_clusters}_BioGRID.txt\"):\n",
    "                continue\n",
    "            with open(f\"{CLUSTER_DIRECTORY}/{run}_{nb_clusters}_BioGRID.txt\", 'r') as f:\n",
    "                 cluster_list = [set(line.split()) for line in f]\n",
    "            cluster_df = pd.Series({gene:cluster_idx \n",
    "                                        for cluster_idx,cluster in enumerate(cluster_list) \n",
    "                                        for gene in cluster})\n",
    "\n",
    "            nb_annotated_genes_in_cluster = pd.DataFrame(np.array(\n",
    "                    [ [len(go_genes & cluster) for cluster in cluster_list] for go_genes in GO2genes]),\n",
    "                                                       index   = GO2genes.index,\n",
    "                                                       columns = range(nb_clusters))\n",
    "\n",
    "            \n",
    "            k = nb_annotated_genes_in_cluster\n",
    "            \n",
    "            K = pd.concat([global_GO_counter[GO2genes.index]]*nb_clusters, axis=1)\n",
    "            K.columns = k.columns\n",
    "            \n",
    "            n = pd.concat([pd.DataFrame(map(len, cluster_list)).T]*len(GO2genes))\n",
    "            n.index = k.index\n",
    "            \n",
    "            N = pd.DataFrame(len(PPI), columns=k.columns, index=k.index)\n",
    "            \n",
    "            assert K.eq(k.sum(axis=1), axis=0).all().all()\n",
    "            assert N.eq(n.sum(axis=1), axis=0).all().all()\n",
    "            \n",
    "            # scipy has a really messed up nomeclature... \n",
    "            p_values = pd.DataFrame(1-hypergeom.cdf(k=k-1, M=N, N=n, n=K), index=GO2genes.index)\n",
    "            p_values.to_csv(f\"{PVALUE_DIRECTORY}/{run}_{nb_clusters}_BioGRID.txt\")\n",
    "            t2 = time.time()\n",
    "            print(f'{run}_{nb_clusters}: {t2-t1:.2f}sec', end='\\r')\n",
    "    print()"
   ]
  },
  {
   "cell_type": "markdown",
   "metadata": {},
   "source": [
    "# GCV-A"
   ]
  },
  {
   "cell_type": "code",
   "execution_count": 10,
   "metadata": {},
   "outputs": [],
   "source": [
    "feature = 'GCV-A'\n",
    "\n",
    "all_distances = sorted('_'.join(filename.split('_')[:-1]) \n",
    "                           for filename in os.listdir(f\"{MATRIX_DIRECTORY}/{feature}\"))"
   ]
  },
  {
   "cell_type": "code",
   "execution_count": 11,
   "metadata": {},
   "outputs": [],
   "source": [
    "MIN_CLUSTERS = 2\n",
    "MAX_CLUSTERS = 100\n",
    "MAX_RUNS = 30"
   ]
  },
  {
   "cell_type": "code",
   "execution_count": 12,
   "metadata": {},
   "outputs": [
    {
     "name": "stdout",
     "output_type": "stream",
     "text": [
      "canberra\n",
      "\n",
      "cityblock\n",
      "\n"
     ]
    }
   ],
   "source": [
    "method = 'kmedoid'\n",
    "\n",
    "for distance in {'canberra', 'cityblock'}:\n",
    "    \n",
    "    t1 = time.time()\n",
    "    print(distance)\n",
    "    \n",
    "    CLUSTER_DIRECTORY = f\"{YEAST_DIRECTORY}/clusterings/{feature}/{distance}/{method}\"\n",
    "    PVALUE_DIRECTORY  = f\"{YEAST_DIRECTORY}/p-values/{feature}/{distance}/{method}/{aspect}\"\n",
    "    \n",
    "    if not os.path.exists(PVALUE_DIRECTORY):\n",
    "        os.makedirs(PVALUE_DIRECTORY)\n",
    "    \n",
    "    runs = min(get_number_of_pre_runs(CLUSTER_DIRECTORY, distance, MAX_CLUSTERS), MAX_RUNS)\n",
    "\n",
    "    for run in range(runs):\n",
    "        for nb_clusters in range(MIN_CLUSTERS, MAX_CLUSTERS):\n",
    "            if os.path.exists(f\"{PVALUE_DIRECTORY}/{run}_{nb_clusters}_BioGRID.txt\"):\n",
    "                continue\n",
    "            with open(f\"{CLUSTER_DIRECTORY}/{run}_{nb_clusters}_BioGRID.txt\", 'r') as f:\n",
    "                 cluster_list = [set(line.split()) for line in f]\n",
    "            cluster_df = pd.Series({gene:cluster_idx \n",
    "                                        for cluster_idx,cluster in enumerate(cluster_list) \n",
    "                                        for gene in cluster})\n",
    "\n",
    "            nb_annotated_genes_in_cluster = pd.DataFrame(np.array(\n",
    "                    [ [len(go_genes & cluster) for cluster in cluster_list] for go_genes in GO2genes]),\n",
    "                                                       index   = GO2genes.index,\n",
    "                                                       columns = range(nb_clusters))\n",
    "\n",
    "            \n",
    "            k = nb_annotated_genes_in_cluster\n",
    "            \n",
    "            K = pd.concat([global_GO_counter[GO2genes.index]]*nb_clusters, axis=1)\n",
    "            K.columns = k.columns\n",
    "            \n",
    "            n = pd.concat([pd.DataFrame(map(len, cluster_list)).T]*len(GO2genes))\n",
    "            n.index = k.index\n",
    "            \n",
    "            N = pd.DataFrame(len(PPI), columns=k.columns, index=k.index)\n",
    "            \n",
    "            assert K.eq(k.sum(axis=1), axis=0).all().all()\n",
    "            assert N.eq(n.sum(axis=1), axis=0).all().all()\n",
    "            \n",
    "            # scipy has a really messed up nomeclature... \n",
    "            p_values = pd.DataFrame(1-hypergeom.cdf(k=k-1, M=N, N=n, n=K), index=GO2genes.index)\n",
    "            p_values.to_csv(f\"{PVALUE_DIRECTORY}/{run}_{nb_clusters}_BioGRID.txt\")\n",
    "            t2 = time.time()\n",
    "            print(f'{run}_{nb_clusters}: {t2-t1:.2f}sec', end='\\r')\n",
    "    print()"
   ]
  },
  {
   "cell_type": "markdown",
   "metadata": {},
   "source": [
    "## GCV-G"
   ]
  },
  {
   "cell_type": "code",
   "execution_count": 13,
   "metadata": {},
   "outputs": [],
   "source": [
    "feature = 'GCV-G'\n",
    "\n",
    "all_distances = sorted('_'.join(filename.split('_')[:-1]) \n",
    "                           for filename in os.listdir(f\"{MATRIX_DIRECTORY}/{feature}\"))"
   ]
  },
  {
   "cell_type": "code",
   "execution_count": 14,
   "metadata": {},
   "outputs": [],
   "source": [
    "MIN_CLUSTERS = 2\n",
    "MAX_CLUSTERS = 100\n",
    "MAX_RUNS = 30"
   ]
  },
  {
   "cell_type": "code",
   "execution_count": 15,
   "metadata": {
    "scrolled": true
   },
   "outputs": [
    {
     "name": "stdout",
     "output_type": "stream",
     "text": [
      "canberra\n",
      "\n",
      "cityblock\n",
      "\n"
     ]
    }
   ],
   "source": [
    "method = 'kmedoid'\n",
    "\n",
    "for distance in {'canberra', 'cityblock'}:\n",
    "    \n",
    "    t1 = time.time()\n",
    "    print(distance)\n",
    "    \n",
    "    CLUSTER_DIRECTORY = f\"{YEAST_DIRECTORY}/clusterings/{feature}/{distance}/{method}\"\n",
    "    PVALUE_DIRECTORY  = f\"{YEAST_DIRECTORY}/p-values/{feature}/{distance}/{method}/{aspect}\"\n",
    "    \n",
    "    if not os.path.exists(PVALUE_DIRECTORY):\n",
    "        os.makedirs(PVALUE_DIRECTORY)\n",
    "    \n",
    "    runs = min(get_number_of_pre_runs(CLUSTER_DIRECTORY, distance, MAX_CLUSTERS), MAX_RUNS)\n",
    "\n",
    "    for run in range(runs):\n",
    "        for nb_clusters in range(MIN_CLUSTERS, MAX_CLUSTERS):\n",
    "            if os.path.exists(f\"{PVALUE_DIRECTORY}/{run}_{nb_clusters}_BioGRID.txt\"):\n",
    "                continue\n",
    "            with open(f\"{CLUSTER_DIRECTORY}/{run}_{nb_clusters}_BioGRID.txt\", 'r') as f:\n",
    "                 cluster_list = [set(line.split()) for line in f]\n",
    "            cluster_df = pd.Series({gene:cluster_idx \n",
    "                                        for cluster_idx,cluster in enumerate(cluster_list) \n",
    "                                        for gene in cluster})\n",
    "\n",
    "            nb_annotated_genes_in_cluster = pd.DataFrame(np.array(\n",
    "                    [ [len(go_genes & cluster) for cluster in cluster_list] for go_genes in GO2genes]),\n",
    "                                                       index   = GO2genes.index,\n",
    "                                                       columns = range(nb_clusters))\n",
    "\n",
    "            \n",
    "            k = nb_annotated_genes_in_cluster\n",
    "            \n",
    "            K = pd.concat([global_GO_counter[GO2genes.index]]*nb_clusters, axis=1)\n",
    "            K.columns = k.columns\n",
    "            \n",
    "            n = pd.concat([pd.DataFrame(map(len, cluster_list)).T]*len(GO2genes))\n",
    "            n.index = k.index\n",
    "            \n",
    "            N = pd.DataFrame(len(PPI), columns=k.columns, index=k.index)\n",
    "            \n",
    "            assert K.eq(k.sum(axis=1), axis=0).all().all()\n",
    "            assert N.eq(n.sum(axis=1), axis=0).all().all()\n",
    "            \n",
    "            # scipy has a really messed up nomeclature... \n",
    "            p_values = pd.DataFrame(1-hypergeom.cdf(k=k-1, M=N, N=n, n=K), index=GO2genes.index)\n",
    "            p_values.to_csv(f\"{PVALUE_DIRECTORY}/{run}_{nb_clusters}_BioGRID.txt\")\n",
    "            t2 = time.time()\n",
    "            print(f'{run}_{nb_clusters}: {t2-t1:.2f}sec', end='\\r')\n",
    "    print()"
   ]
  },
  {
   "cell_type": "markdown",
   "metadata": {},
   "source": [
    "# GCV-DG"
   ]
  },
  {
   "cell_type": "code",
   "execution_count": 16,
   "metadata": {},
   "outputs": [],
   "source": [
    "feature = 'GCV-DG'\n",
    "\n",
    "all_distances = sorted('_'.join(filename.split('_')[:-1]) \n",
    "                           for filename in os.listdir(f\"{MATRIX_DIRECTORY}/{feature}\"))"
   ]
  },
  {
   "cell_type": "code",
   "execution_count": 17,
   "metadata": {},
   "outputs": [],
   "source": [
    "MIN_CLUSTERS = 2\n",
    "MAX_CLUSTERS = 100\n",
    "MAX_RUNS = 10"
   ]
  },
  {
   "cell_type": "code",
   "execution_count": 18,
   "metadata": {
    "scrolled": true
   },
   "outputs": [
    {
     "name": "stdout",
     "output_type": "stream",
     "text": [
      "canberra\n",
      "\n",
      "cityblock\n",
      "\n"
     ]
    }
   ],
   "source": [
    "method = 'kmedoid'\n",
    "\n",
    "for distance in {'canberra', 'cityblock'}:\n",
    "    \n",
    "    t1 = time.time()\n",
    "    print(distance)\n",
    "    \n",
    "    CLUSTER_DIRECTORY = f\"{YEAST_DIRECTORY}/clusterings/{feature}/{distance}/{method}\"\n",
    "    PVALUE_DIRECTORY  = f\"{YEAST_DIRECTORY}/p-values/{feature}/{distance}/{method}/{aspect}\"\n",
    "    \n",
    "    if not os.path.exists(PVALUE_DIRECTORY):\n",
    "        os.makedirs(PVALUE_DIRECTORY)\n",
    "    \n",
    "    runs = min(get_number_of_pre_runs(CLUSTER_DIRECTORY, distance, MAX_CLUSTERS), MAX_RUNS)\n",
    "\n",
    "    for run in range(runs):\n",
    "        for nb_clusters in range(MIN_CLUSTERS, MAX_CLUSTERS):\n",
    "            if os.path.exists(f\"{PVALUE_DIRECTORY}/{run}_{nb_clusters}_BioGRID.txt\"):\n",
    "                continue\n",
    "            with open(f\"{CLUSTER_DIRECTORY}/{run}_{nb_clusters}_BioGRID.txt\", 'r') as f:\n",
    "                 cluster_list = [set(line.split()) for line in f]\n",
    "            cluster_df = pd.Series({gene:cluster_idx \n",
    "                                        for cluster_idx,cluster in enumerate(cluster_list) \n",
    "                                        for gene in cluster})\n",
    "\n",
    "            nb_annotated_genes_in_cluster = pd.DataFrame(np.array(\n",
    "                    [ [len(go_genes & cluster) for cluster in cluster_list] for go_genes in GO2genes]),\n",
    "                                                       index   = GO2genes.index,\n",
    "                                                       columns = range(nb_clusters))\n",
    "\n",
    "            \n",
    "            k = nb_annotated_genes_in_cluster\n",
    "            \n",
    "            K = pd.concat([global_GO_counter[GO2genes.index]]*nb_clusters, axis=1)\n",
    "            K.columns = k.columns\n",
    "            \n",
    "            n = pd.concat([pd.DataFrame(map(len, cluster_list)).T]*len(GO2genes))\n",
    "            n.index = k.index\n",
    "            \n",
    "            N = pd.DataFrame(len(PPI), columns=k.columns, index=k.index)\n",
    "            \n",
    "            if not (distance in {'correlation', 'mahalanobis'}):\n",
    "                assert K.eq(k.sum(axis=1), axis=0).all().all()\n",
    "                assert N.eq(n.sum(axis=1), axis=0).all().all()\n",
    "            \n",
    "            # scipy has a really messed up nomeclature... \n",
    "            p_values = pd.DataFrame(1-hypergeom.cdf(k=k-1, M=N, N=n, n=K), index=GO2genes.index)\n",
    "            p_values.to_csv(f\"{PVALUE_DIRECTORY}/{run}_{nb_clusters}_BioGRID.txt\")\n",
    "            t2 = time.time()\n",
    "            print(f'{run}_{nb_clusters}: {t2-t1:.2f}sec', end='\\r')\n",
    "    print()"
   ]
  },
  {
   "cell_type": "markdown",
   "metadata": {},
   "source": [
    "# GCV-DA"
   ]
  },
  {
   "cell_type": "code",
   "execution_count": 19,
   "metadata": {},
   "outputs": [],
   "source": [
    "feature = 'GCV-DA'\n",
    "\n",
    "all_distances = sorted('_'.join(filename.split('_')[:-1]) \n",
    "                           for filename in os.listdir(f\"{MATRIX_DIRECTORY}/{feature}\"))"
   ]
  },
  {
   "cell_type": "code",
   "execution_count": 20,
   "metadata": {},
   "outputs": [],
   "source": [
    "MIN_CLUSTERS = 2\n",
    "MAX_CLUSTERS = 100\n",
    "MAX_RUNS = 30"
   ]
  },
  {
   "cell_type": "code",
   "execution_count": 21,
   "metadata": {},
   "outputs": [
    {
     "name": "stdout",
     "output_type": "stream",
     "text": [
      "canberra\n"
     ]
    },
    {
     "name": "stderr",
     "output_type": "stream",
     "text": [
      "/home/clusterduck123/Desktop/git/supplements/venv/graco/lib/python3.6/site-packages/pandas/core/computation/expressions.py:194: UserWarning: evaluating in Python space because the '*' operator is not supported by numexpr for the bool dtype, use '&' instead\n",
      "  op=op_str, alt_op=unsupported[op_str]\n"
     ]
    },
    {
     "name": "stdout",
     "output_type": "stream",
     "text": [
      "26_99: 148.99sec\n",
      "cityblock\n",
      "26_99: 142.00sec\n"
     ]
    }
   ],
   "source": [
    "method = 'kmedoid'\n",
    "\n",
    "for distance in {'canberra', 'cityblock'}:\n",
    "    \n",
    "    t1 = time.time()\n",
    "    print(distance)\n",
    "    \n",
    "    CLUSTER_DIRECTORY = f\"{YEAST_DIRECTORY}/clusterings/{feature}/{distance}/{method}\"\n",
    "    PVALUE_DIRECTORY  = f\"{YEAST_DIRECTORY}/p-values/{feature}/{distance}/{method}/{aspect}\"\n",
    "    \n",
    "    if not os.path.exists(PVALUE_DIRECTORY):\n",
    "        os.makedirs(PVALUE_DIRECTORY)\n",
    "    \n",
    "    runs = min(get_number_of_pre_runs(CLUSTER_DIRECTORY, distance, MAX_CLUSTERS), MAX_RUNS)\n",
    "\n",
    "    for run in range(runs):\n",
    "        for nb_clusters in range(MIN_CLUSTERS, MAX_CLUSTERS):\n",
    "            if os.path.exists(f\"{PVALUE_DIRECTORY}/{run}_{nb_clusters}_BioGRID.txt\"):\n",
    "                continue\n",
    "            with open(f\"{CLUSTER_DIRECTORY}/{run}_{nb_clusters}_BioGRID.txt\", 'r') as f:\n",
    "                 cluster_list = [set(line.split()) for line in f]\n",
    "            cluster_df = pd.Series({gene:cluster_idx \n",
    "                                        for cluster_idx,cluster in enumerate(cluster_list) \n",
    "                                        for gene in cluster})\n",
    "\n",
    "            nb_annotated_genes_in_cluster = pd.DataFrame(np.array(\n",
    "                    [ [len(go_genes & cluster) for cluster in cluster_list] for go_genes in GO2genes]),\n",
    "                                                       index   = GO2genes.index,\n",
    "                                                       columns = range(nb_clusters))\n",
    "\n",
    "            \n",
    "            k = nb_annotated_genes_in_cluster\n",
    "            \n",
    "            K = pd.concat([global_GO_counter[GO2genes.index]]*nb_clusters, axis=1)\n",
    "            K.columns = k.columns\n",
    "            \n",
    "            n = pd.concat([pd.DataFrame(map(len, cluster_list)).T]*len(GO2genes))\n",
    "            n.index = k.index\n",
    "            \n",
    "            N = pd.DataFrame(len(PPI), columns=k.columns, index=k.index)\n",
    "            \n",
    "            assert K.eq(k.sum(axis=1), axis=0).all().all()\n",
    "            assert N.eq(n.sum(axis=1), axis=0).all().all()\n",
    "            \n",
    "            # scipy has a really messed up nomeclature... \n",
    "            p_values = pd.DataFrame(1-hypergeom.cdf(k=k-1, M=N, N=n, n=K), index=GO2genes.index)\n",
    "            p_values.to_csv(f\"{PVALUE_DIRECTORY}/{run}_{nb_clusters}_BioGRID.txt\")\n",
    "            t2 = time.time()\n",
    "            print(f'{run}_{nb_clusters}: {t2-t1:.2f}sec', end='\\r')\n",
    "    print()"
   ]
  },
  {
   "cell_type": "markdown",
   "metadata": {},
   "source": [
    "## GCV-all"
   ]
  },
  {
   "cell_type": "code",
   "execution_count": 22,
   "metadata": {},
   "outputs": [],
   "source": [
    "feature = 'GCV-all'\n",
    "\n",
    "all_distances = sorted('_'.join(filename.split('_')[:-1]) \n",
    "                           for filename in os.listdir(f\"{MATRIX_DIRECTORY}/{feature}\"))"
   ]
  },
  {
   "cell_type": "code",
   "execution_count": 23,
   "metadata": {},
   "outputs": [],
   "source": [
    "MIN_CLUSTERS = 2\n",
    "MAX_CLUSTERS = 100\n",
    "MAX_RUNS = 5"
   ]
  },
  {
   "cell_type": "code",
   "execution_count": 24,
   "metadata": {},
   "outputs": [
    {
     "name": "stdout",
     "output_type": "stream",
     "text": [
      "canberra\n",
      "\n",
      "cityblock\n",
      "\n"
     ]
    }
   ],
   "source": [
    "method = 'kmedoid'\n",
    "\n",
    "for distance in {'canberra', 'cityblock'}:\n",
    "    \n",
    "    t1 = time.time()\n",
    "    print(distance)\n",
    "    \n",
    "    CLUSTER_DIRECTORY = f\"{YEAST_DIRECTORY}/clusterings/{feature}/{distance}/{method}\"\n",
    "    PVALUE_DIRECTORY  = f\"{YEAST_DIRECTORY}/p-values/{feature}/{distance}/{method}/{aspect}\"\n",
    "    \n",
    "    if not os.path.exists(PVALUE_DIRECTORY):\n",
    "        os.makedirs(PVALUE_DIRECTORY)\n",
    "    \n",
    "    runs = min(get_number_of_pre_runs(CLUSTER_DIRECTORY, distance, MAX_CLUSTERS), MAX_RUNS)\n",
    "\n",
    "    for run in range(runs):\n",
    "        for nb_clusters in range(MIN_CLUSTERS, MAX_CLUSTERS):\n",
    "            if os.path.exists(f\"{PVALUE_DIRECTORY}/{run}_{nb_clusters}_BioGRID.txt\"):\n",
    "                continue\n",
    "            with open(f\"{CLUSTER_DIRECTORY}/{run}_{nb_clusters}_BioGRID.txt\", 'r') as f:\n",
    "                 cluster_list = [set(line.split()) for line in f]\n",
    "            cluster_df = pd.Series({gene:cluster_idx \n",
    "                                        for cluster_idx,cluster in enumerate(cluster_list) \n",
    "                                        for gene in cluster})\n",
    "\n",
    "            nb_annotated_genes_in_cluster = pd.DataFrame(np.array(\n",
    "                    [ [len(go_genes & cluster) for cluster in cluster_list] for go_genes in GO2genes]),\n",
    "                                                       index   = GO2genes.index,\n",
    "                                                       columns = range(nb_clusters))\n",
    "\n",
    "            \n",
    "            k = nb_annotated_genes_in_cluster\n",
    "            \n",
    "            K = pd.concat([global_GO_counter[GO2genes.index]]*nb_clusters, axis=1)\n",
    "            K.columns = k.columns\n",
    "            \n",
    "            n = pd.concat([pd.DataFrame(map(len, cluster_list)).T]*len(GO2genes))\n",
    "            n.index = k.index\n",
    "            \n",
    "            N = pd.DataFrame(len(PPI), columns=k.columns, index=k.index)\n",
    "            \n",
    "            if not distance in {'correlation', 'mahalanobis'}:\n",
    "                assert K.eq(k.sum(axis=1), axis=0).all().all()\n",
    "                assert N.eq(n.sum(axis=1), axis=0).all().all()\n",
    "            \n",
    "            # scipy has a really messed up nomeclature... \n",
    "            p_values = pd.DataFrame(1-hypergeom.cdf(k=k-1, M=N, N=n, n=K), index=GO2genes.index)\n",
    "            p_values.to_csv(f\"{PVALUE_DIRECTORY}/{run}_{nb_clusters}_BioGRID.txt\")\n",
    "            t2 = time.time()\n",
    "            print(f'{run}_{nb_clusters}: {t2-t1:.2f}sec', end='\\r')\n",
    "    print()"
   ]
  },
  {
   "cell_type": "markdown",
   "metadata": {},
   "source": [
    "## GCV-nonredundant"
   ]
  },
  {
   "cell_type": "code",
   "execution_count": 25,
   "metadata": {},
   "outputs": [],
   "source": [
    "feature = 'GCV-nonredundant'\n",
    "\n",
    "all_distances = sorted('_'.join(filename.split('_')[:-1]) \n",
    "                           for filename in os.listdir(f\"{MATRIX_DIRECTORY}/{feature}\"))"
   ]
  },
  {
   "cell_type": "code",
   "execution_count": 26,
   "metadata": {},
   "outputs": [],
   "source": [
    "MIN_CLUSTERS = 2\n",
    "MAX_CLUSTERS = 100\n",
    "MAX_RUNS = 5"
   ]
  },
  {
   "cell_type": "code",
   "execution_count": 27,
   "metadata": {},
   "outputs": [
    {
     "name": "stdout",
     "output_type": "stream",
     "text": [
      "canberra\n",
      "\n",
      "cityblock\n",
      "\n"
     ]
    }
   ],
   "source": [
    "method = 'kmedoid'\n",
    "\n",
    "for distance in {'canberra', 'cityblock'}:\n",
    "    \n",
    "    t1 = time.time()\n",
    "    print(distance)\n",
    "    \n",
    "    CLUSTER_DIRECTORY = f\"{YEAST_DIRECTORY}/clusterings/{feature}/{distance}/{method}\"\n",
    "    PVALUE_DIRECTORY  = f\"{YEAST_DIRECTORY}/p-values/{feature}/{distance}/{method}/{aspect}\"\n",
    "    \n",
    "    if not os.path.exists(PVALUE_DIRECTORY):\n",
    "        os.makedirs(PVALUE_DIRECTORY)\n",
    "    \n",
    "    runs = min(get_number_of_pre_runs(CLUSTER_DIRECTORY, distance, MAX_CLUSTERS), MAX_RUNS)\n",
    "\n",
    "    for run in range(runs):\n",
    "        for nb_clusters in range(MIN_CLUSTERS, MAX_CLUSTERS):\n",
    "            if os.path.exists(f\"{PVALUE_DIRECTORY}/{run}_{nb_clusters}_BioGRID.txt\"):\n",
    "                continue\n",
    "            with open(f\"{CLUSTER_DIRECTORY}/{run}_{nb_clusters}_BioGRID.txt\", 'r') as f:\n",
    "                 cluster_list = [set(line.split()) for line in f]\n",
    "            cluster_df = pd.Series({gene:cluster_idx \n",
    "                                        for cluster_idx,cluster in enumerate(cluster_list) \n",
    "                                        for gene in cluster})\n",
    "\n",
    "            nb_annotated_genes_in_cluster = pd.DataFrame(np.array(\n",
    "                    [ [len(go_genes & cluster) for cluster in cluster_list] for go_genes in GO2genes]),\n",
    "                                                       index   = GO2genes.index,\n",
    "                                                       columns = range(nb_clusters))\n",
    "\n",
    "            \n",
    "            k = nb_annotated_genes_in_cluster\n",
    "            \n",
    "            K = pd.concat([global_GO_counter[GO2genes.index]]*nb_clusters, axis=1)\n",
    "            K.columns = k.columns\n",
    "            \n",
    "            n = pd.concat([pd.DataFrame(map(len, cluster_list)).T]*len(GO2genes))\n",
    "            n.index = k.index\n",
    "            \n",
    "            N = pd.DataFrame(len(PPI), columns=k.columns, index=k.index)\n",
    "            \n",
    "            if not distance in {'correlation', 'mahalanobis'}:\n",
    "                assert K.eq(k.sum(axis=1), axis=0).all().all()\n",
    "                assert N.eq(n.sum(axis=1), axis=0).all().all()\n",
    "            \n",
    "            # scipy has a really messed up nomeclature... \n",
    "            p_values = pd.DataFrame(1-hypergeom.cdf(k=k-1, M=N, N=n, n=K), index=GO2genes.index)\n",
    "            p_values.to_csv(f\"{PVALUE_DIRECTORY}/{run}_{nb_clusters}_BioGRID.txt\")\n",
    "            t2 = time.time()\n",
    "            print(f'{run}_{nb_clusters}: {t2-t1:.2f}sec', end='\\r')\n",
    "    print()"
   ]
  },
  {
   "cell_type": "markdown",
   "metadata": {},
   "source": [
    "## GCV-orca"
   ]
  },
  {
   "cell_type": "code",
   "execution_count": 28,
   "metadata": {},
   "outputs": [],
   "source": [
    "feature = 'GCV-orca'\n",
    "\n",
    "all_distances = sorted('_'.join(filename.split('_')[:-1]) \n",
    "                           for filename in os.listdir(f\"{MATRIX_DIRECTORY}/{feature}\"))"
   ]
  },
  {
   "cell_type": "code",
   "execution_count": 29,
   "metadata": {},
   "outputs": [],
   "source": [
    "MIN_CLUSTERS = 2\n",
    "MAX_CLUSTERS = 100\n",
    "MAX_RUNS = 10"
   ]
  },
  {
   "cell_type": "code",
   "execution_count": 30,
   "metadata": {},
   "outputs": [
    {
     "name": "stdout",
     "output_type": "stream",
     "text": [
      "hellinger\n",
      "\n"
     ]
    }
   ],
   "source": [
    "method = 'kmedoid'\n",
    "\n",
    "for distance in {'hellinger'}:\n",
    "    \n",
    "    t1 = time.time()\n",
    "    print(distance)\n",
    "    \n",
    "    CLUSTER_DIRECTORY = f\"{YEAST_DIRECTORY}/clusterings/{feature}/{distance}/{method}\"\n",
    "    PVALUE_DIRECTORY  = f\"{YEAST_DIRECTORY}/p-values/{feature}/{distance}/{method}/{aspect}\"\n",
    "    \n",
    "    if not os.path.exists(PVALUE_DIRECTORY):\n",
    "        os.makedirs(PVALUE_DIRECTORY)\n",
    "    \n",
    "    runs = min(get_number_of_pre_runs(CLUSTER_DIRECTORY, distance, MAX_CLUSTERS), MAX_RUNS)\n",
    "\n",
    "    for run in range(runs):\n",
    "        for nb_clusters in range(MIN_CLUSTERS, MAX_CLUSTERS):\n",
    "            if os.path.exists(f\"{PVALUE_DIRECTORY}/{run}_{nb_clusters}_BioGRID.txt\"):\n",
    "                continue\n",
    "            with open(f\"{CLUSTER_DIRECTORY}/{run}_{nb_clusters}_BioGRID.txt\", 'r') as f:\n",
    "                 cluster_list = [set(line.split()) for line in f]\n",
    "            cluster_df = pd.Series({gene:cluster_idx \n",
    "                                        for cluster_idx,cluster in enumerate(cluster_list) \n",
    "                                        for gene in cluster})\n",
    "\n",
    "            nb_annotated_genes_in_cluster = pd.DataFrame(np.array(\n",
    "                    [ [len(go_genes & cluster) for cluster in cluster_list] for go_genes in GO2genes]),\n",
    "                                                       index   = GO2genes.index,\n",
    "                                                       columns = range(nb_clusters))\n",
    "\n",
    "            \n",
    "            k = nb_annotated_genes_in_cluster\n",
    "            \n",
    "            K = pd.concat([global_GO_counter[GO2genes.index]]*nb_clusters, axis=1)\n",
    "            K.columns = k.columns\n",
    "            \n",
    "            n = pd.concat([pd.DataFrame(map(len, cluster_list)).T]*len(GO2genes))\n",
    "            n.index = k.index\n",
    "            \n",
    "            N = pd.DataFrame(len(PPI), columns=k.columns, index=k.index)\n",
    "            \n",
    "            if not distance in {'correlation', 'mahalanobis'}:\n",
    "                assert K.eq(k.sum(axis=1), axis=0).all().all()\n",
    "                assert N.eq(n.sum(axis=1), axis=0).all().all()\n",
    "            \n",
    "            # scipy has a really messed up nomeclature... \n",
    "            p_values = pd.DataFrame(1-hypergeom.cdf(k=k-1, M=N, N=n, n=K), index=GO2genes.index)\n",
    "            p_values.to_csv(f\"{PVALUE_DIRECTORY}/{run}_{nb_clusters}_BioGRID.txt\")\n",
    "            t2 = time.time()\n",
    "            print(f'{run}_{nb_clusters}: {t2-t1:.2f}sec', end='\\r')\n",
    "    print()"
   ]
  },
  {
   "cell_type": "markdown",
   "metadata": {},
   "source": [
    "## GCV-orca+"
   ]
  },
  {
   "cell_type": "code",
   "execution_count": 31,
   "metadata": {},
   "outputs": [],
   "source": [
    "feature = 'GCV-orca+'\n",
    "\n",
    "all_distances = sorted('_'.join(filename.split('_')[:-1]) \n",
    "                           for filename in os.listdir(f\"{MATRIX_DIRECTORY}/{feature}\"))"
   ]
  },
  {
   "cell_type": "code",
   "execution_count": 32,
   "metadata": {},
   "outputs": [],
   "source": [
    "MIN_CLUSTERS = 2\n",
    "MAX_CLUSTERS = 100\n",
    "MAX_RUNS = 10"
   ]
  },
  {
   "cell_type": "code",
   "execution_count": 33,
   "metadata": {},
   "outputs": [
    {
     "name": "stdout",
     "output_type": "stream",
     "text": [
      "canberra\n",
      "\n",
      "cityblock\n",
      "\n"
     ]
    }
   ],
   "source": [
    "method = 'kmedoid'\n",
    "\n",
    "for distance in {'canberra', 'cityblock'}:\n",
    "    \n",
    "    t1 = time.time()\n",
    "    print(distance)\n",
    "    \n",
    "    CLUSTER_DIRECTORY = f\"{YEAST_DIRECTORY}/clusterings/{feature}/{distance}/{method}\"\n",
    "    PVALUE_DIRECTORY  = f\"{YEAST_DIRECTORY}/p-values/{feature}/{distance}/{method}/{aspect}\"\n",
    "    \n",
    "    if not os.path.exists(PVALUE_DIRECTORY):\n",
    "        os.makedirs(PVALUE_DIRECTORY)\n",
    "    \n",
    "    runs = min(get_number_of_pre_runs(CLUSTER_DIRECTORY, distance, MAX_CLUSTERS), MAX_RUNS)\n",
    "\n",
    "    for run in range(runs):\n",
    "        for nb_clusters in range(MIN_CLUSTERS, MAX_CLUSTERS):\n",
    "            if os.path.exists(f\"{PVALUE_DIRECTORY}/{run}_{nb_clusters}_BioGRID.txt\"):\n",
    "                continue\n",
    "            with open(f\"{CLUSTER_DIRECTORY}/{run}_{nb_clusters}_BioGRID.txt\", 'r') as f:\n",
    "                 cluster_list = [set(line.split()) for line in f]\n",
    "            cluster_df = pd.Series({gene:cluster_idx \n",
    "                                        for cluster_idx,cluster in enumerate(cluster_list) \n",
    "                                        for gene in cluster})\n",
    "\n",
    "            nb_annotated_genes_in_cluster = pd.DataFrame(np.array(\n",
    "                    [ [len(go_genes & cluster) for cluster in cluster_list] for go_genes in GO2genes]),\n",
    "                                                       index   = GO2genes.index,\n",
    "                                                       columns = range(nb_clusters))\n",
    "\n",
    "            \n",
    "            k = nb_annotated_genes_in_cluster\n",
    "            \n",
    "            K = pd.concat([global_GO_counter[GO2genes.index]]*nb_clusters, axis=1)\n",
    "            K.columns = k.columns\n",
    "            \n",
    "            n = pd.concat([pd.DataFrame(map(len, cluster_list)).T]*len(GO2genes))\n",
    "            n.index = k.index\n",
    "            \n",
    "            N = pd.DataFrame(len(PPI), columns=k.columns, index=k.index)\n",
    "            \n",
    "            if not distance in {'correlation', 'mahalanobis'}:\n",
    "                assert K.eq(k.sum(axis=1), axis=0).all().all()\n",
    "                assert N.eq(n.sum(axis=1), axis=0).all().all()\n",
    "            \n",
    "            # scipy has a really messed up nomeclature... \n",
    "            p_values = pd.DataFrame(1-hypergeom.cdf(k=k-1, M=N, N=n, n=K), index=GO2genes.index)\n",
    "            p_values.to_csv(f\"{PVALUE_DIRECTORY}/{run}_{nb_clusters}_BioGRID.txt\")\n",
    "            t2 = time.time()\n",
    "            print(f'{run}_{nb_clusters}: {t2-t1:.2f}sec', end='\\r')\n",
    "    print()"
   ]
  },
  {
   "cell_type": "code",
   "execution_count": null,
   "metadata": {},
   "outputs": [],
   "source": []
  },
  {
   "cell_type": "code",
   "execution_count": null,
   "metadata": {},
   "outputs": [],
   "source": []
  }
 ],
 "metadata": {
  "kernelspec": {
   "display_name": "graco",
   "language": "python",
   "name": "graco"
  },
  "language_info": {
   "codemirror_mode": {
    "name": "ipython",
    "version": 3
   },
   "file_extension": ".py",
   "mimetype": "text/x-python",
   "name": "python",
   "nbconvert_exporter": "python",
   "pygments_lexer": "ipython3",
   "version": "3.6.8"
  }
 },
 "nbformat": 4,
 "nbformat_minor": 2
}
