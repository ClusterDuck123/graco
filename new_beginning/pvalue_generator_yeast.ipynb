{
 "cells": [
  {
   "cell_type": "code",
   "execution_count": 1,
   "metadata": {},
   "outputs": [],
   "source": [
    "from itertools import islice, combinations, product\n",
    "from pyclustering.cluster.kmedoids import kmedoids\n",
    "from collections import defaultdict\n",
    "from scipy.stats import hypergeom\n",
    "from collections import Counter\n",
    "from goatools import obo_parser\n",
    "from functools import partial\n",
    "\n",
    "import os\n",
    "import time\n",
    "import random\n",
    "import numpy as np\n",
    "import pandas as pd\n",
    "import networkx as nx"
   ]
  },
  {
   "cell_type": "code",
   "execution_count": 2,
   "metadata": {},
   "outputs": [],
   "source": [
    "DATA_DIRECTORY = \"/media/clusterduck123/joe/data\"\n",
    "RAW_DATA_DIRECTORY = f\"{DATA_DIRECTORY}/raw-data\"\n",
    "YEAST_DIRECTORY = f\"{DATA_DIRECTORY}/processed-data/yeast\"\n",
    "NETWORK_DIRECTORY = f\"{YEAST_DIRECTORY}/networks\"\n",
    "ANNOTATION_DIRECTORY = f\"{YEAST_DIRECTORY}/annotations\"\n",
    "MATRIX_DIRECTORY  = f\"{YEAST_DIRECTORY}/distance-matrices\""
   ]
  },
  {
   "cell_type": "markdown",
   "metadata": {},
   "source": [
    "# Enrichement"
   ]
  },
  {
   "cell_type": "markdown",
   "metadata": {},
   "source": [
    "#### Load and parse annotation data"
   ]
  },
  {
   "cell_type": "code",
   "execution_count": 3,
   "metadata": {},
   "outputs": [
    {
     "name": "stdout",
     "output_type": "stream",
     "text": [
      "/media/clusterduck123/joe/data/raw-data/go-basic.obo: fmt(1.2) rel(2019-10-07) 47,285 GO Terms\n"
     ]
    }
   ],
   "source": [
    "aspect = 'BP'\n",
    "PPI = nx.read_edgelist(f\"{NETWORK_DIRECTORY}/PPI_BioGRID.txt\")\n",
    "annotation_df = pd.read_csv(f\"{ANNOTATION_DIRECTORY}/GO_{aspect}_BioGRID-SGD.csv\")\n",
    "go_dag = obo_parser.GODag(f\"{RAW_DATA_DIRECTORY}/go-basic.obo\")\n",
    "\n",
    "gene_population = set(PPI.nodes())\n",
    "GO_population = set(annotation_df.GO_ID)"
   ]
  },
  {
   "cell_type": "markdown",
   "metadata": {},
   "source": [
    "#### Define convenient dictionaries"
   ]
  },
  {
   "cell_type": "code",
   "execution_count": 4,
   "metadata": {},
   "outputs": [],
   "source": [
    "# Conversion dictionaries\n",
    "GO2genes = pd.Series({go_id: set(genes.Systematic_ID) for go_id, genes in annotation_df.groupby('GO_ID')}, \n",
    "                     name='nb_genes')\n",
    "\n",
    "gene2GO  = {gene : set(go_ids.GO_ID) for gene, go_ids in annotation_df.groupby('Systematic_ID')}\n",
    "global_GO_counter = GO2genes.apply(len)"
   ]
  },
  {
   "cell_type": "markdown",
   "metadata": {},
   "source": [
    "## Here we GO"
   ]
  },
  {
   "cell_type": "markdown",
   "metadata": {},
   "source": [
    "### Functions"
   ]
  },
  {
   "cell_type": "markdown",
   "metadata": {},
   "source": [
    "#### Parser fuctions"
   ]
  },
  {
   "cell_type": "code",
   "execution_count": 5,
   "metadata": {},
   "outputs": [],
   "source": [
    "def get_number_of_pre_runs(CLUSTER_DIRECTORY, distance, n_clusters = 99):\n",
    "    splitted_file_names = [name.split('_') for name in os.listdir(CLUSTER_DIRECTORY)]\n",
    "    pre_runs = [int(run) for run, ncluster, db_txt in splitted_file_names if ncluster == str(n_clusters)]\n",
    "    if pre_runs:\n",
    "        return max(pre_runs)+1\n",
    "    else:\n",
    "        return -1"
   ]
  },
  {
   "cell_type": "markdown",
   "metadata": {},
   "source": [
    "#### Loop functions"
   ]
  },
  {
   "cell_type": "code",
   "execution_count": 6,
   "metadata": {},
   "outputs": [],
   "source": [
    "def cluster2GO(cluster):\n",
    "    return set.union(*(gene2GO.get(gene, set()) for gene in cluster))\n",
    "\n",
    "def is_annotated_in(gene, GO_set):\n",
    "    return not gene2GO.get(gene,set()).isdisjoint(GO_set)"
   ]
  },
  {
   "cell_type": "markdown",
   "metadata": {},
   "source": [
    "## GDV"
   ]
  },
  {
   "cell_type": "code",
   "execution_count": 7,
   "metadata": {},
   "outputs": [],
   "source": [
    "feature = 'GDV'\n",
    "\n",
    "all_distances = sorted('_'.join(filename.split('_')[:-1]) \n",
    "                           for filename in os.listdir(f\"{MATRIX_DIRECTORY}/{feature}\"))"
   ]
  },
  {
   "cell_type": "code",
   "execution_count": 8,
   "metadata": {},
   "outputs": [],
   "source": [
    "MIN_CLUSTERS = 2\n",
    "MAX_CLUSTERS = 100\n",
    "MAX_RUNS = 10"
   ]
  },
  {
   "cell_type": "code",
   "execution_count": 11,
   "metadata": {},
   "outputs": [
    {
     "name": "stdout",
     "output_type": "stream",
     "text": [
      "normalized1_linf\n",
      "5_99: 840.60sec\n",
      "canberra\n",
      "6_99: 215.80sec\n"
     ]
    }
   ],
   "source": [
    "method = 'kmedoid'\n",
    "\n",
    "for distance in ['normalized1_linf', 'canberra']:\n",
    "    \n",
    "    t1 = time.time()\n",
    "    print(distance)\n",
    "    \n",
    "    CLUSTER_DIRECTORY = f\"{YEAST_DIRECTORY}/clusterings/{feature}/{distance}/{method}\"\n",
    "    PVALUE_DIRECTORY  = f\"{YEAST_DIRECTORY}/p-values/{feature}/{distance}/{method}/{aspect}\"\n",
    "    \n",
    "    if not os.path.exists(PVALUE_DIRECTORY):\n",
    "        os.makedirs(PVALUE_DIRECTORY)\n",
    "    \n",
    "    runs = min(get_number_of_pre_runs(CLUSTER_DIRECTORY, distance, MAX_CLUSTERS), MAX_RUNS)\n",
    "\n",
    "    for run in range(runs):\n",
    "        for nb_clusters in range(MIN_CLUSTERS, MAX_CLUSTERS):\n",
    "            if os.path.exists(f\"{PVALUE_DIRECTORY}/{run}_{nb_clusters}_BioGRID.txt\"):\n",
    "                continue\n",
    "            with open(f\"{CLUSTER_DIRECTORY}/{run}_{nb_clusters}_BioGRID.txt\", 'r') as f:\n",
    "                 cluster_list = [set(line.split()) for line in f]\n",
    "            cluster_df = pd.Series({gene:cluster_idx \n",
    "                                        for cluster_idx,cluster in enumerate(cluster_list) \n",
    "                                        for gene in cluster})\n",
    "\n",
    "            nb_annotated_genes_in_cluster = pd.DataFrame(np.array(\n",
    "                    [ [len(go_genes & cluster) for cluster in cluster_list] for go_genes in GO2genes]),\n",
    "                                                       index   = GO2genes.index,\n",
    "                                                       columns = range(nb_clusters))\n",
    "\n",
    "            \n",
    "            k = nb_annotated_genes_in_cluster\n",
    "            \n",
    "            K = pd.concat([global_GO_counter[GO2genes.index]]*nb_clusters, axis=1)\n",
    "            K.columns = k.columns\n",
    "            \n",
    "            n = pd.concat([pd.DataFrame(map(len, cluster_list)).T]*len(GO2genes))\n",
    "            n.index = k.index\n",
    "            \n",
    "            N = pd.DataFrame(len(PPI), columns=k.columns, index=k.index)\n",
    "            \n",
    "            assert K.eq(k.sum(axis=1), axis=0).all().all()\n",
    "            assert N.eq(n.sum(axis=1), axis=0).all().all()\n",
    "            \n",
    "            # scipy has a really messed up nomeclature... \n",
    "            p_values = pd.DataFrame(1-hypergeom.cdf(k=k-1, M=N, N=n, n=K), index=GO2genes.index)\n",
    "            p_values.to_csv(f\"{PVALUE_DIRECTORY}/{run}_{nb_clusters}_BioGRID.txt\")\n",
    "            t2 = time.time()\n",
    "            print(f'{run}_{nb_clusters}: {t2-t1:.2f}sec', end='\\r')\n",
    "    print()"
   ]
  },
  {
   "cell_type": "markdown",
   "metadata": {},
   "source": [
    "# GCV-A"
   ]
  },
  {
   "cell_type": "code",
   "execution_count": 7,
   "metadata": {},
   "outputs": [],
   "source": [
    "feature = 'GCV-A'\n",
    "\n",
    "all_distances = sorted('_'.join(filename.split('_')[:-1]) \n",
    "                           for filename in os.listdir(f\"{MATRIX_DIRECTORY}/{feature}\"))"
   ]
  },
  {
   "cell_type": "code",
   "execution_count": 8,
   "metadata": {},
   "outputs": [],
   "source": [
    "MIN_CLUSTERS = 2\n",
    "MAX_CLUSTERS = 100\n",
    "MAX_RUNS = 30"
   ]
  },
  {
   "cell_type": "code",
   "execution_count": 10,
   "metadata": {},
   "outputs": [
    {
     "name": "stdout",
     "output_type": "stream",
     "text": [
      "braycurtis\n",
      "0_2: 0.10sec\r",
      "0_3: 0.20sec\r"
     ]
    },
    {
     "name": "stderr",
     "output_type": "stream",
     "text": [
      "/home/clusterduck123/Desktop/git/supplements/venv/graco/lib/python3.6/site-packages/pandas/core/computation/expressions.py:194: UserWarning: evaluating in Python space because the '*' operator is not supported by numexpr for the bool dtype, use '&' instead\n",
      "  op=op_str, alt_op=unsupported[op_str]\n"
     ]
    },
    {
     "name": "stdout",
     "output_type": "stream",
     "text": [
      "6_99: 243.94sec\n",
      "canberra\n",
      "6_99: 239.90sec\n",
      "chebyshev\n",
      "6_99: 244.72sec\n",
      "cityblock\n",
      "6_99: 243.24sec\n",
      "correlation\n",
      "5_99: 208.80sec\n",
      "cosine\n",
      "5_99: 207.99sec\n",
      "euclidean\n",
      "5_99: 208.82sec\n",
      "mahalanobis\n",
      "5_99: 204.29sec\n",
      "normalized1_l1\n",
      "5_99: 200.67sec\n",
      "normalized1_l2\n",
      "5_99: 202.49sec\n",
      "normalized1_linf\n",
      "5_99: 201.75sec\n",
      "normalized2_l1\n",
      "5_99: 203.01sec\n",
      "normalized2_l2\n",
      "5_99: 204.62sec\n",
      "normalized2_linf\n",
      "5_99: 209.50sec\n",
      "seuclidean\n",
      "5_99: 206.21sec\n",
      "sqeuclidean\n",
      "6_99: 244.03sec\n"
     ]
    }
   ],
   "source": [
    "method = 'kmedoid'\n",
    "\n",
    "for distance in all_distances:\n",
    "    \n",
    "    t1 = time.time()\n",
    "    print(distance)\n",
    "    \n",
    "    CLUSTER_DIRECTORY = f\"{YEAST_DIRECTORY}/clusterings/{feature}/{distance}/{method}\"\n",
    "    PVALUE_DIRECTORY  = f\"{YEAST_DIRECTORY}/p-values/{feature}/{distance}/{method}/{aspect}\"\n",
    "    \n",
    "    if not os.path.exists(PVALUE_DIRECTORY):\n",
    "        os.makedirs(PVALUE_DIRECTORY)\n",
    "    \n",
    "    runs = min(get_number_of_pre_runs(CLUSTER_DIRECTORY, distance, MAX_CLUSTERS), MAX_RUNS)\n",
    "\n",
    "    for run in range(runs):\n",
    "        for nb_clusters in range(MIN_CLUSTERS, MAX_CLUSTERS):\n",
    "            if os.path.exists(f\"{PVALUE_DIRECTORY}/{run}_{nb_clusters}_BioGRID.txt\"):\n",
    "                continue\n",
    "            with open(f\"{CLUSTER_DIRECTORY}/{run}_{nb_clusters}_BioGRID.txt\", 'r') as f:\n",
    "                 cluster_list = [set(line.split()) for line in f]\n",
    "            cluster_df = pd.Series({gene:cluster_idx \n",
    "                                        for cluster_idx,cluster in enumerate(cluster_list) \n",
    "                                        for gene in cluster})\n",
    "\n",
    "            nb_annotated_genes_in_cluster = pd.DataFrame(np.array(\n",
    "                    [ [len(go_genes & cluster) for cluster in cluster_list] for go_genes in GO2genes]),\n",
    "                                                       index   = GO2genes.index,\n",
    "                                                       columns = range(nb_clusters))\n",
    "\n",
    "            \n",
    "            k = nb_annotated_genes_in_cluster\n",
    "            \n",
    "            K = pd.concat([global_GO_counter[GO2genes.index]]*nb_clusters, axis=1)\n",
    "            K.columns = k.columns\n",
    "            \n",
    "            n = pd.concat([pd.DataFrame(map(len, cluster_list)).T]*len(GO2genes))\n",
    "            n.index = k.index\n",
    "            \n",
    "            N = pd.DataFrame(len(PPI), columns=k.columns, index=k.index)\n",
    "            \n",
    "            assert K.eq(k.sum(axis=1), axis=0).all().all()\n",
    "            assert N.eq(n.sum(axis=1), axis=0).all().all()\n",
    "            \n",
    "            # scipy has a really messed up nomeclature... \n",
    "            p_values = pd.DataFrame(1-hypergeom.cdf(k=k-1, M=N, N=n, n=K), index=GO2genes.index)\n",
    "            p_values.to_csv(f\"{PVALUE_DIRECTORY}/{run}_{nb_clusters}_BioGRID.txt\")\n",
    "            t2 = time.time()\n",
    "            print(f'{run}_{nb_clusters}: {t2-t1:.2f}sec', end='\\r')\n",
    "    print()"
   ]
  },
  {
   "cell_type": "markdown",
   "metadata": {},
   "source": [
    "## GCV-G"
   ]
  },
  {
   "cell_type": "code",
   "execution_count": 7,
   "metadata": {},
   "outputs": [],
   "source": [
    "feature = 'GCV-G'\n",
    "\n",
    "all_distances = sorted('_'.join(filename.split('_')[:-1]) \n",
    "                           for filename in os.listdir(f\"{MATRIX_DIRECTORY}/{feature}\"))"
   ]
  },
  {
   "cell_type": "code",
   "execution_count": 8,
   "metadata": {},
   "outputs": [],
   "source": [
    "MIN_CLUSTERS = 2\n",
    "MAX_CLUSTERS = 100\n",
    "MAX_RUNS = 30"
   ]
  },
  {
   "cell_type": "code",
   "execution_count": 9,
   "metadata": {
    "scrolled": true
   },
   "outputs": [
    {
     "name": "stdout",
     "output_type": "stream",
     "text": [
      "braycurtis\n",
      "0_2: 0.11sec\r"
     ]
    },
    {
     "name": "stderr",
     "output_type": "stream",
     "text": [
      "/home/clusterduck123/Desktop/git/supplements/venv/graco/lib/python3.6/site-packages/pandas/core/computation/expressions.py:194: UserWarning: evaluating in Python space because the '*' operator is not supported by numexpr for the bool dtype, use '&' instead\n",
      "  op=op_str, alt_op=unsupported[op_str]\n"
     ]
    },
    {
     "name": "stdout",
     "output_type": "stream",
     "text": [
      "6_99: 274.75sec\n",
      "canberra\n",
      "6_99: 252.69sec\n",
      "chebyshev\n",
      "5_99: 209.88sec\n",
      "cityblock\n",
      "5_99: 218.18sec\n",
      "correlation\n",
      "5_99: 223.47sec\n",
      "cosine\n",
      "5_99: 213.33sec\n",
      "euclidean\n",
      "5_99: 219.21sec\n",
      "hellinger\n"
     ]
    },
    {
     "ename": "FileNotFoundError",
     "evalue": "[Errno 2] No such file or directory: '/media/clusterduck123/joe/data/processed-data/yeast/clusterings/GCV-G/hellinger/kmedoid'",
     "output_type": "error",
     "traceback": [
      "\u001b[0;31m---------------------------------------------------------------------------\u001b[0m",
      "\u001b[0;31mFileNotFoundError\u001b[0m                         Traceback (most recent call last)",
      "\u001b[0;32m<ipython-input-9-76f0280b14c5>\u001b[0m in \u001b[0;36m<module>\u001b[0;34m\u001b[0m\n\u001b[1;32m     12\u001b[0m         \u001b[0mos\u001b[0m\u001b[0;34m.\u001b[0m\u001b[0mmakedirs\u001b[0m\u001b[0;34m(\u001b[0m\u001b[0mPVALUE_DIRECTORY\u001b[0m\u001b[0;34m)\u001b[0m\u001b[0;34m\u001b[0m\u001b[0;34m\u001b[0m\u001b[0m\n\u001b[1;32m     13\u001b[0m \u001b[0;34m\u001b[0m\u001b[0m\n\u001b[0;32m---> 14\u001b[0;31m     \u001b[0mruns\u001b[0m \u001b[0;34m=\u001b[0m \u001b[0mmin\u001b[0m\u001b[0;34m(\u001b[0m\u001b[0mget_number_of_pre_runs\u001b[0m\u001b[0;34m(\u001b[0m\u001b[0mCLUSTER_DIRECTORY\u001b[0m\u001b[0;34m,\u001b[0m \u001b[0mdistance\u001b[0m\u001b[0;34m,\u001b[0m \u001b[0mMAX_CLUSTERS\u001b[0m\u001b[0;34m)\u001b[0m\u001b[0;34m,\u001b[0m \u001b[0mMAX_RUNS\u001b[0m\u001b[0;34m)\u001b[0m\u001b[0;34m\u001b[0m\u001b[0;34m\u001b[0m\u001b[0m\n\u001b[0m\u001b[1;32m     15\u001b[0m \u001b[0;34m\u001b[0m\u001b[0m\n\u001b[1;32m     16\u001b[0m     \u001b[0;32mfor\u001b[0m \u001b[0mrun\u001b[0m \u001b[0;32min\u001b[0m \u001b[0mrange\u001b[0m\u001b[0;34m(\u001b[0m\u001b[0mruns\u001b[0m\u001b[0;34m)\u001b[0m\u001b[0;34m:\u001b[0m\u001b[0;34m\u001b[0m\u001b[0;34m\u001b[0m\u001b[0m\n",
      "\u001b[0;32m<ipython-input-5-989a08fb7191>\u001b[0m in \u001b[0;36mget_number_of_pre_runs\u001b[0;34m(CLUSTER_DIRECTORY, distance, n_clusters)\u001b[0m\n\u001b[1;32m      1\u001b[0m \u001b[0;32mdef\u001b[0m \u001b[0mget_number_of_pre_runs\u001b[0m\u001b[0;34m(\u001b[0m\u001b[0mCLUSTER_DIRECTORY\u001b[0m\u001b[0;34m,\u001b[0m \u001b[0mdistance\u001b[0m\u001b[0;34m,\u001b[0m \u001b[0mn_clusters\u001b[0m \u001b[0;34m=\u001b[0m \u001b[0;36m99\u001b[0m\u001b[0;34m)\u001b[0m\u001b[0;34m:\u001b[0m\u001b[0;34m\u001b[0m\u001b[0;34m\u001b[0m\u001b[0m\n\u001b[0;32m----> 2\u001b[0;31m     \u001b[0msplitted_file_names\u001b[0m \u001b[0;34m=\u001b[0m \u001b[0;34m[\u001b[0m\u001b[0mname\u001b[0m\u001b[0;34m.\u001b[0m\u001b[0msplit\u001b[0m\u001b[0;34m(\u001b[0m\u001b[0;34m'_'\u001b[0m\u001b[0;34m)\u001b[0m \u001b[0;32mfor\u001b[0m \u001b[0mname\u001b[0m \u001b[0;32min\u001b[0m \u001b[0mos\u001b[0m\u001b[0;34m.\u001b[0m\u001b[0mlistdir\u001b[0m\u001b[0;34m(\u001b[0m\u001b[0mCLUSTER_DIRECTORY\u001b[0m\u001b[0;34m)\u001b[0m\u001b[0;34m]\u001b[0m\u001b[0;34m\u001b[0m\u001b[0;34m\u001b[0m\u001b[0m\n\u001b[0m\u001b[1;32m      3\u001b[0m     \u001b[0mpre_runs\u001b[0m \u001b[0;34m=\u001b[0m \u001b[0;34m[\u001b[0m\u001b[0mint\u001b[0m\u001b[0;34m(\u001b[0m\u001b[0mrun\u001b[0m\u001b[0;34m)\u001b[0m \u001b[0;32mfor\u001b[0m \u001b[0mrun\u001b[0m\u001b[0;34m,\u001b[0m \u001b[0mncluster\u001b[0m\u001b[0;34m,\u001b[0m \u001b[0mdb_txt\u001b[0m \u001b[0;32min\u001b[0m \u001b[0msplitted_file_names\u001b[0m \u001b[0;32mif\u001b[0m \u001b[0mncluster\u001b[0m \u001b[0;34m==\u001b[0m \u001b[0mstr\u001b[0m\u001b[0;34m(\u001b[0m\u001b[0mn_clusters\u001b[0m\u001b[0;34m)\u001b[0m\u001b[0;34m]\u001b[0m\u001b[0;34m\u001b[0m\u001b[0;34m\u001b[0m\u001b[0m\n\u001b[1;32m      4\u001b[0m     \u001b[0;32mif\u001b[0m \u001b[0mpre_runs\u001b[0m\u001b[0;34m:\u001b[0m\u001b[0;34m\u001b[0m\u001b[0;34m\u001b[0m\u001b[0m\n\u001b[1;32m      5\u001b[0m         \u001b[0;32mreturn\u001b[0m \u001b[0mmax\u001b[0m\u001b[0;34m(\u001b[0m\u001b[0mpre_runs\u001b[0m\u001b[0;34m)\u001b[0m\u001b[0;34m+\u001b[0m\u001b[0;36m1\u001b[0m\u001b[0;34m\u001b[0m\u001b[0;34m\u001b[0m\u001b[0m\n",
      "\u001b[0;31mFileNotFoundError\u001b[0m: [Errno 2] No such file or directory: '/media/clusterduck123/joe/data/processed-data/yeast/clusterings/GCV-G/hellinger/kmedoid'"
     ]
    }
   ],
   "source": [
    "method = 'kmedoid'\n",
    "\n",
    "for distance in all_distances:\n",
    "    \n",
    "    t1 = time.time()\n",
    "    print(distance)\n",
    "    \n",
    "    CLUSTER_DIRECTORY = f\"{YEAST_DIRECTORY}/clusterings/{feature}/{distance}/{method}\"\n",
    "    PVALUE_DIRECTORY  = f\"{YEAST_DIRECTORY}/p-values/{feature}/{distance}/{method}/{aspect}\"\n",
    "    \n",
    "    if not os.path.exists(PVALUE_DIRECTORY):\n",
    "        os.makedirs(PVALUE_DIRECTORY)\n",
    "    \n",
    "    runs = min(get_number_of_pre_runs(CLUSTER_DIRECTORY, distance, MAX_CLUSTERS), MAX_RUNS)\n",
    "\n",
    "    for run in range(runs):\n",
    "        for nb_clusters in range(MIN_CLUSTERS, MAX_CLUSTERS):\n",
    "            if os.path.exists(f\"{PVALUE_DIRECTORY}/{run}_{nb_clusters}_BioGRID.txt\"):\n",
    "                continue\n",
    "            with open(f\"{CLUSTER_DIRECTORY}/{run}_{nb_clusters}_BioGRID.txt\", 'r') as f:\n",
    "                 cluster_list = [set(line.split()) for line in f]\n",
    "            cluster_df = pd.Series({gene:cluster_idx \n",
    "                                        for cluster_idx,cluster in enumerate(cluster_list) \n",
    "                                        for gene in cluster})\n",
    "\n",
    "            nb_annotated_genes_in_cluster = pd.DataFrame(np.array(\n",
    "                    [ [len(go_genes & cluster) for cluster in cluster_list] for go_genes in GO2genes]),\n",
    "                                                       index   = GO2genes.index,\n",
    "                                                       columns = range(nb_clusters))\n",
    "\n",
    "            \n",
    "            k = nb_annotated_genes_in_cluster\n",
    "            \n",
    "            K = pd.concat([global_GO_counter[GO2genes.index]]*nb_clusters, axis=1)\n",
    "            K.columns = k.columns\n",
    "            \n",
    "            n = pd.concat([pd.DataFrame(map(len, cluster_list)).T]*len(GO2genes))\n",
    "            n.index = k.index\n",
    "            \n",
    "            N = pd.DataFrame(len(PPI), columns=k.columns, index=k.index)\n",
    "            \n",
    "            assert K.eq(k.sum(axis=1), axis=0).all().all()\n",
    "            assert N.eq(n.sum(axis=1), axis=0).all().all()\n",
    "            \n",
    "            # scipy has a really messed up nomeclature... \n",
    "            p_values = pd.DataFrame(1-hypergeom.cdf(k=k-1, M=N, N=n, n=K), index=GO2genes.index)\n",
    "            p_values.to_csv(f\"{PVALUE_DIRECTORY}/{run}_{nb_clusters}_BioGRID.txt\")\n",
    "            t2 = time.time()\n",
    "            print(f'{run}_{nb_clusters}: {t2-t1:.2f}sec', end='\\r')\n",
    "    print()"
   ]
  },
  {
   "cell_type": "markdown",
   "metadata": {},
   "source": [
    "# GCV-DG"
   ]
  },
  {
   "cell_type": "code",
   "execution_count": 10,
   "metadata": {},
   "outputs": [],
   "source": [
    "feature = 'GCV-DG'\n",
    "\n",
    "all_distances = sorted('_'.join(filename.split('_')[:-1]) \n",
    "                           for filename in os.listdir(f\"{MATRIX_DIRECTORY}/{feature}\"))"
   ]
  },
  {
   "cell_type": "code",
   "execution_count": 11,
   "metadata": {},
   "outputs": [],
   "source": [
    "MIN_CLUSTERS = 2\n",
    "MAX_CLUSTERS = 100\n",
    "MAX_RUNS = 10"
   ]
  },
  {
   "cell_type": "code",
   "execution_count": 12,
   "metadata": {
    "scrolled": true
   },
   "outputs": [
    {
     "name": "stdout",
     "output_type": "stream",
     "text": [
      "braycurtis\n",
      "\n",
      "canberra\n",
      "\n",
      "chebyshev\n",
      "\n",
      "cityblock\n",
      "\n",
      "correlation\n",
      "\n",
      "cosine\n",
      "\n",
      "euclidean\n",
      "\n",
      "hellinger\n",
      "\n",
      "mahalanobis\n",
      "\n",
      "normalized1_l1\n",
      "\n",
      "normalized1_l2\n",
      "\n",
      "normalized1_linf\n",
      "\n",
      "normalized2_l1\n",
      "\n",
      "normalized2_l2\n",
      "\n",
      "normalized2_linf\n",
      "\n",
      "seuclidean\n",
      "\n",
      "sqeuclidean\n",
      "\n"
     ]
    }
   ],
   "source": [
    "method = 'kmedoid'\n",
    "\n",
    "for distance in all_distances:\n",
    "    \n",
    "    t1 = time.time()\n",
    "    print(distance)\n",
    "    \n",
    "    CLUSTER_DIRECTORY = f\"{YEAST_DIRECTORY}/clusterings/{feature}/{distance}/{method}\"\n",
    "    PVALUE_DIRECTORY  = f\"{YEAST_DIRECTORY}/p-values/{feature}/{distance}/{method}/{aspect}\"\n",
    "    \n",
    "    if not os.path.exists(PVALUE_DIRECTORY):\n",
    "        os.makedirs(PVALUE_DIRECTORY)\n",
    "    \n",
    "    runs = min(get_number_of_pre_runs(CLUSTER_DIRECTORY, distance, MAX_CLUSTERS), MAX_RUNS)\n",
    "\n",
    "    for run in range(runs):\n",
    "        for nb_clusters in range(MIN_CLUSTERS, MAX_CLUSTERS):\n",
    "            if os.path.exists(f\"{PVALUE_DIRECTORY}/{run}_{nb_clusters}_BioGRID.txt\"):\n",
    "                continue\n",
    "            with open(f\"{CLUSTER_DIRECTORY}/{run}_{nb_clusters}_BioGRID.txt\", 'r') as f:\n",
    "                 cluster_list = [set(line.split()) for line in f]\n",
    "            cluster_df = pd.Series({gene:cluster_idx \n",
    "                                        for cluster_idx,cluster in enumerate(cluster_list) \n",
    "                                        for gene in cluster})\n",
    "\n",
    "            nb_annotated_genes_in_cluster = pd.DataFrame(np.array(\n",
    "                    [ [len(go_genes & cluster) for cluster in cluster_list] for go_genes in GO2genes]),\n",
    "                                                       index   = GO2genes.index,\n",
    "                                                       columns = range(nb_clusters))\n",
    "\n",
    "            \n",
    "            k = nb_annotated_genes_in_cluster\n",
    "            \n",
    "            K = pd.concat([global_GO_counter[GO2genes.index]]*nb_clusters, axis=1)\n",
    "            K.columns = k.columns\n",
    "            \n",
    "            n = pd.concat([pd.DataFrame(map(len, cluster_list)).T]*len(GO2genes))\n",
    "            n.index = k.index\n",
    "            \n",
    "            N = pd.DataFrame(len(PPI), columns=k.columns, index=k.index)\n",
    "            \n",
    "            if not (distance in {'correlation', 'mahalanobis'}):\n",
    "                assert K.eq(k.sum(axis=1), axis=0).all().all()\n",
    "                assert N.eq(n.sum(axis=1), axis=0).all().all()\n",
    "            \n",
    "            # scipy has a really messed up nomeclature... \n",
    "            p_values = pd.DataFrame(1-hypergeom.cdf(k=k-1, M=N, N=n, n=K), index=GO2genes.index)\n",
    "            p_values.to_csv(f\"{PVALUE_DIRECTORY}/{run}_{nb_clusters}_BioGRID.txt\")\n",
    "            t2 = time.time()\n",
    "            print(f'{run}_{nb_clusters}: {t2-t1:.2f}sec', end='\\r')\n",
    "    print()"
   ]
  },
  {
   "cell_type": "markdown",
   "metadata": {},
   "source": [
    "# GCV-DA"
   ]
  },
  {
   "cell_type": "code",
   "execution_count": 8,
   "metadata": {},
   "outputs": [],
   "source": [
    "time.sleep(3600)"
   ]
  },
  {
   "cell_type": "code",
   "execution_count": 9,
   "metadata": {},
   "outputs": [],
   "source": [
    "feature = 'GCV-DA'\n",
    "\n",
    "all_distances = sorted('_'.join(filename.split('_')[:-1]) \n",
    "                           for filename in os.listdir(f\"{MATRIX_DIRECTORY}/{feature}\"))"
   ]
  },
  {
   "cell_type": "code",
   "execution_count": 10,
   "metadata": {},
   "outputs": [],
   "source": [
    "MIN_CLUSTERS = 2\n",
    "MAX_CLUSTERS = 100\n",
    "MAX_RUNS = 30"
   ]
  },
  {
   "cell_type": "code",
   "execution_count": 11,
   "metadata": {},
   "outputs": [
    {
     "name": "stdout",
     "output_type": "stream",
     "text": [
      "canberra\n"
     ]
    },
    {
     "name": "stderr",
     "output_type": "stream",
     "text": [
      "/home/clusterduck123/Desktop/git/supplements/venv/graco/lib/python3.6/site-packages/pandas/core/computation/expressions.py:194: UserWarning: evaluating in Python space because the '*' operator is not supported by numexpr for the bool dtype, use '&' instead\n",
      "  op=op_str, alt_op=unsupported[op_str]\n"
     ]
    },
    {
     "name": "stdout",
     "output_type": "stream",
     "text": [
      "9_99: 1404.43sec\n"
     ]
    }
   ],
   "source": [
    "method = 'kmedoid'\n",
    "\n",
    "for distance in {'canberra'}:\n",
    "    \n",
    "    t1 = time.time()\n",
    "    print(distance)\n",
    "    \n",
    "    CLUSTER_DIRECTORY = f\"{YEAST_DIRECTORY}/clusterings/{feature}/{distance}/{method}\"\n",
    "    PVALUE_DIRECTORY  = f\"{YEAST_DIRECTORY}/p-values/{feature}/{distance}/{method}/{aspect}\"\n",
    "    \n",
    "    if not os.path.exists(PVALUE_DIRECTORY):\n",
    "        os.makedirs(PVALUE_DIRECTORY)\n",
    "    \n",
    "    runs = min(get_number_of_pre_runs(CLUSTER_DIRECTORY, distance, MAX_CLUSTERS), MAX_RUNS)\n",
    "\n",
    "    for run in range(runs):\n",
    "        for nb_clusters in range(MIN_CLUSTERS, MAX_CLUSTERS):\n",
    "            if os.path.exists(f\"{PVALUE_DIRECTORY}/{run}_{nb_clusters}_BioGRID.txt\"):\n",
    "                continue\n",
    "            with open(f\"{CLUSTER_DIRECTORY}/{run}_{nb_clusters}_BioGRID.txt\", 'r') as f:\n",
    "                 cluster_list = [set(line.split()) for line in f]\n",
    "            cluster_df = pd.Series({gene:cluster_idx \n",
    "                                        for cluster_idx,cluster in enumerate(cluster_list) \n",
    "                                        for gene in cluster})\n",
    "\n",
    "            nb_annotated_genes_in_cluster = pd.DataFrame(np.array(\n",
    "                    [ [len(go_genes & cluster) for cluster in cluster_list] for go_genes in GO2genes]),\n",
    "                                                       index   = GO2genes.index,\n",
    "                                                       columns = range(nb_clusters))\n",
    "\n",
    "            \n",
    "            k = nb_annotated_genes_in_cluster\n",
    "            \n",
    "            K = pd.concat([global_GO_counter[GO2genes.index]]*nb_clusters, axis=1)\n",
    "            K.columns = k.columns\n",
    "            \n",
    "            n = pd.concat([pd.DataFrame(map(len, cluster_list)).T]*len(GO2genes))\n",
    "            n.index = k.index\n",
    "            \n",
    "            N = pd.DataFrame(len(PPI), columns=k.columns, index=k.index)\n",
    "            \n",
    "            assert K.eq(k.sum(axis=1), axis=0).all().all()\n",
    "            assert N.eq(n.sum(axis=1), axis=0).all().all()\n",
    "            \n",
    "            # scipy has a really messed up nomeclature... \n",
    "            p_values = pd.DataFrame(1-hypergeom.cdf(k=k-1, M=N, N=n, n=K), index=GO2genes.index)\n",
    "            p_values.to_csv(f\"{PVALUE_DIRECTORY}/{run}_{nb_clusters}_BioGRID.txt\")\n",
    "            t2 = time.time()\n",
    "            print(f'{run}_{nb_clusters}: {t2-t1:.2f}sec', end='\\r')\n",
    "    print()"
   ]
  },
  {
   "cell_type": "markdown",
   "metadata": {},
   "source": [
    "## GCV-all1"
   ]
  },
  {
   "cell_type": "code",
   "execution_count": 7,
   "metadata": {},
   "outputs": [],
   "source": [
    "feature = 'GCV-all1'\n",
    "\n",
    "all_distances = sorted('_'.join(filename.split('_')[:-1]) \n",
    "                           for filename in os.listdir(f\"{MATRIX_DIRECTORY}/{feature}\"))"
   ]
  },
  {
   "cell_type": "code",
   "execution_count": 8,
   "metadata": {},
   "outputs": [],
   "source": [
    "MIN_CLUSTERS = 2\n",
    "MAX_CLUSTERS = 100\n",
    "MAX_RUNS = 5"
   ]
  },
  {
   "cell_type": "code",
   "execution_count": 9,
   "metadata": {},
   "outputs": [
    {
     "name": "stdout",
     "output_type": "stream",
     "text": [
      "canberra\n"
     ]
    },
    {
     "name": "stderr",
     "output_type": "stream",
     "text": [
      "/home/clusterduck123/Desktop/git/supplements/venv/graco/lib/python3.6/site-packages/pandas/core/computation/expressions.py:194: UserWarning: evaluating in Python space because the '*' operator is not supported by numexpr for the bool dtype, use '&' instead\n",
      "  op=op_str, alt_op=unsupported[op_str]\n"
     ]
    },
    {
     "name": "stdout",
     "output_type": "stream",
     "text": [
      "4_99: 239.72sec\n"
     ]
    }
   ],
   "source": [
    "method = 'kmedoid'\n",
    "\n",
    "for distance in {'canberra'}:\n",
    "    \n",
    "    t1 = time.time()\n",
    "    print(distance)\n",
    "    \n",
    "    CLUSTER_DIRECTORY = f\"{YEAST_DIRECTORY}/clusterings/{feature}/{distance}/{method}\"\n",
    "    PVALUE_DIRECTORY  = f\"{YEAST_DIRECTORY}/p-values/{feature}/{distance}/{method}/{aspect}\"\n",
    "    \n",
    "    if not os.path.exists(PVALUE_DIRECTORY):\n",
    "        os.makedirs(PVALUE_DIRECTORY)\n",
    "    \n",
    "    runs = min(get_number_of_pre_runs(CLUSTER_DIRECTORY, distance, MAX_CLUSTERS), MAX_RUNS)\n",
    "\n",
    "    for run in range(runs):\n",
    "        for nb_clusters in range(MIN_CLUSTERS, MAX_CLUSTERS):\n",
    "            if os.path.exists(f\"{PVALUE_DIRECTORY}/{run}_{nb_clusters}_BioGRID.txt\"):\n",
    "                continue\n",
    "            with open(f\"{CLUSTER_DIRECTORY}/{run}_{nb_clusters}_BioGRID.txt\", 'r') as f:\n",
    "                 cluster_list = [set(line.split()) for line in f]\n",
    "            cluster_df = pd.Series({gene:cluster_idx \n",
    "                                        for cluster_idx,cluster in enumerate(cluster_list) \n",
    "                                        for gene in cluster})\n",
    "\n",
    "            nb_annotated_genes_in_cluster = pd.DataFrame(np.array(\n",
    "                    [ [len(go_genes & cluster) for cluster in cluster_list] for go_genes in GO2genes]),\n",
    "                                                       index   = GO2genes.index,\n",
    "                                                       columns = range(nb_clusters))\n",
    "\n",
    "            \n",
    "            k = nb_annotated_genes_in_cluster\n",
    "            \n",
    "            K = pd.concat([global_GO_counter[GO2genes.index]]*nb_clusters, axis=1)\n",
    "            K.columns = k.columns\n",
    "            \n",
    "            n = pd.concat([pd.DataFrame(map(len, cluster_list)).T]*len(GO2genes))\n",
    "            n.index = k.index\n",
    "            \n",
    "            N = pd.DataFrame(len(PPI), columns=k.columns, index=k.index)\n",
    "            \n",
    "            if not distance in {'correlation', 'mahalanobis'}:\n",
    "                assert K.eq(k.sum(axis=1), axis=0).all().all()\n",
    "                assert N.eq(n.sum(axis=1), axis=0).all().all()\n",
    "            \n",
    "            # scipy has a really messed up nomeclature... \n",
    "            p_values = pd.DataFrame(1-hypergeom.cdf(k=k-1, M=N, N=n, n=K), index=GO2genes.index)\n",
    "            p_values.to_csv(f\"{PVALUE_DIRECTORY}/{run}_{nb_clusters}_BioGRID.txt\")\n",
    "            t2 = time.time()\n",
    "            print(f'{run}_{nb_clusters}: {t2-t1:.2f}sec', end='\\r')\n",
    "    print()"
   ]
  },
  {
   "cell_type": "markdown",
   "metadata": {},
   "source": [
    "## GCV-all2"
   ]
  },
  {
   "cell_type": "code",
   "execution_count": 7,
   "metadata": {},
   "outputs": [],
   "source": [
    "feature = 'GCV-all2'\n",
    "\n",
    "all_distances = sorted('_'.join(filename.split('_')[:-1]) \n",
    "                           for filename in os.listdir(f\"{MATRIX_DIRECTORY}/{feature}\"))"
   ]
  },
  {
   "cell_type": "code",
   "execution_count": 8,
   "metadata": {},
   "outputs": [],
   "source": [
    "MIN_CLUSTERS = 2\n",
    "MAX_CLUSTERS = 100\n",
    "MAX_RUNS = 5"
   ]
  },
  {
   "cell_type": "code",
   "execution_count": 9,
   "metadata": {},
   "outputs": [
    {
     "name": "stdout",
     "output_type": "stream",
     "text": [
      "canberra\n"
     ]
    },
    {
     "name": "stderr",
     "output_type": "stream",
     "text": [
      "/home/clusterduck123/Desktop/git/supplements/venv/graco/lib/python3.6/site-packages/pandas/core/computation/expressions.py:194: UserWarning: evaluating in Python space because the '*' operator is not supported by numexpr for the bool dtype, use '&' instead\n",
      "  op=op_str, alt_op=unsupported[op_str]\n"
     ]
    },
    {
     "name": "stdout",
     "output_type": "stream",
     "text": [
      "4_99: 686.77sec\n"
     ]
    }
   ],
   "source": [
    "method = 'kmedoid'\n",
    "\n",
    "for distance in {'canberra'}:\n",
    "    \n",
    "    t1 = time.time()\n",
    "    print(distance)\n",
    "    \n",
    "    CLUSTER_DIRECTORY = f\"{YEAST_DIRECTORY}/clusterings/{feature}/{distance}/{method}\"\n",
    "    PVALUE_DIRECTORY  = f\"{YEAST_DIRECTORY}/p-values/{feature}/{distance}/{method}/{aspect}\"\n",
    "    \n",
    "    if not os.path.exists(PVALUE_DIRECTORY):\n",
    "        os.makedirs(PVALUE_DIRECTORY)\n",
    "    \n",
    "    runs = min(get_number_of_pre_runs(CLUSTER_DIRECTORY, distance, MAX_CLUSTERS), MAX_RUNS)\n",
    "\n",
    "    for run in range(runs):\n",
    "        for nb_clusters in range(MIN_CLUSTERS, MAX_CLUSTERS):\n",
    "            if os.path.exists(f\"{PVALUE_DIRECTORY}/{run}_{nb_clusters}_BioGRID.txt\"):\n",
    "                continue\n",
    "            with open(f\"{CLUSTER_DIRECTORY}/{run}_{nb_clusters}_BioGRID.txt\", 'r') as f:\n",
    "                 cluster_list = [set(line.split()) for line in f]\n",
    "            cluster_df = pd.Series({gene:cluster_idx \n",
    "                                        for cluster_idx,cluster in enumerate(cluster_list) \n",
    "                                        for gene in cluster})\n",
    "\n",
    "            nb_annotated_genes_in_cluster = pd.DataFrame(np.array(\n",
    "                    [ [len(go_genes & cluster) for cluster in cluster_list] for go_genes in GO2genes]),\n",
    "                                                       index   = GO2genes.index,\n",
    "                                                       columns = range(nb_clusters))\n",
    "\n",
    "            \n",
    "            k = nb_annotated_genes_in_cluster\n",
    "            \n",
    "            K = pd.concat([global_GO_counter[GO2genes.index]]*nb_clusters, axis=1)\n",
    "            K.columns = k.columns\n",
    "            \n",
    "            n = pd.concat([pd.DataFrame(map(len, cluster_list)).T]*len(GO2genes))\n",
    "            n.index = k.index\n",
    "            \n",
    "            N = pd.DataFrame(len(PPI), columns=k.columns, index=k.index)\n",
    "            \n",
    "            if not distance in {'correlation', 'mahalanobis'}:\n",
    "                assert K.eq(k.sum(axis=1), axis=0).all().all()\n",
    "                assert N.eq(n.sum(axis=1), axis=0).all().all()\n",
    "            \n",
    "            # scipy has a really messed up nomeclature... \n",
    "            p_values = pd.DataFrame(1-hypergeom.cdf(k=k-1, M=N, N=n, n=K), index=GO2genes.index)\n",
    "            p_values.to_csv(f\"{PVALUE_DIRECTORY}/{run}_{nb_clusters}_BioGRID.txt\")\n",
    "            t2 = time.time()\n",
    "            print(f'{run}_{nb_clusters}: {t2-t1:.2f}sec', end='\\r')\n",
    "    print()"
   ]
  },
  {
   "cell_type": "markdown",
   "metadata": {},
   "source": [
    "## GCV-orca"
   ]
  },
  {
   "cell_type": "code",
   "execution_count": 7,
   "metadata": {},
   "outputs": [],
   "source": [
    "feature = 'GCV-orca'\n",
    "\n",
    "all_distances = sorted('_'.join(filename.split('_')[:-1]) \n",
    "                           for filename in os.listdir(f\"{MATRIX_DIRECTORY}/{feature}\"))"
   ]
  },
  {
   "cell_type": "code",
   "execution_count": 8,
   "metadata": {},
   "outputs": [],
   "source": [
    "MIN_CLUSTERS = 2\n",
    "MAX_CLUSTERS = 100\n",
    "MAX_RUNS = 10"
   ]
  },
  {
   "cell_type": "code",
   "execution_count": 9,
   "metadata": {},
   "outputs": [
    {
     "name": "stdout",
     "output_type": "stream",
     "text": [
      "canberra\n",
      "0_2: 0.07sec\r"
     ]
    },
    {
     "name": "stderr",
     "output_type": "stream",
     "text": [
      "/home/clusterduck123/Desktop/git/supplements/venv/graco/lib/python3.6/site-packages/pandas/core/computation/expressions.py:194: UserWarning: evaluating in Python space because the '*' operator is not supported by numexpr for the bool dtype, use '&' instead\n",
      "  op=op_str, alt_op=unsupported[op_str]\n"
     ]
    },
    {
     "name": "stdout",
     "output_type": "stream",
     "text": [
      "9_99: 328.28sec\n"
     ]
    }
   ],
   "source": [
    "method = 'kmedoid'\n",
    "\n",
    "for distance in {'canberra'}:\n",
    "    \n",
    "    t1 = time.time()\n",
    "    print(distance)\n",
    "    \n",
    "    CLUSTER_DIRECTORY = f\"{YEAST_DIRECTORY}/clusterings/{feature}/{distance}/{method}\"\n",
    "    PVALUE_DIRECTORY  = f\"{YEAST_DIRECTORY}/p-values/{feature}/{distance}/{method}/{aspect}\"\n",
    "    \n",
    "    if not os.path.exists(PVALUE_DIRECTORY):\n",
    "        os.makedirs(PVALUE_DIRECTORY)\n",
    "    \n",
    "    runs = min(get_number_of_pre_runs(CLUSTER_DIRECTORY, distance, MAX_CLUSTERS), MAX_RUNS)\n",
    "\n",
    "    for run in range(runs):\n",
    "        for nb_clusters in range(MIN_CLUSTERS, MAX_CLUSTERS):\n",
    "            if os.path.exists(f\"{PVALUE_DIRECTORY}/{run}_{nb_clusters}_BioGRID.txt\"):\n",
    "                continue\n",
    "            with open(f\"{CLUSTER_DIRECTORY}/{run}_{nb_clusters}_BioGRID.txt\", 'r') as f:\n",
    "                 cluster_list = [set(line.split()) for line in f]\n",
    "            cluster_df = pd.Series({gene:cluster_idx \n",
    "                                        for cluster_idx,cluster in enumerate(cluster_list) \n",
    "                                        for gene in cluster})\n",
    "\n",
    "            nb_annotated_genes_in_cluster = pd.DataFrame(np.array(\n",
    "                    [ [len(go_genes & cluster) for cluster in cluster_list] for go_genes in GO2genes]),\n",
    "                                                       index   = GO2genes.index,\n",
    "                                                       columns = range(nb_clusters))\n",
    "\n",
    "            \n",
    "            k = nb_annotated_genes_in_cluster\n",
    "            \n",
    "            K = pd.concat([global_GO_counter[GO2genes.index]]*nb_clusters, axis=1)\n",
    "            K.columns = k.columns\n",
    "            \n",
    "            n = pd.concat([pd.DataFrame(map(len, cluster_list)).T]*len(GO2genes))\n",
    "            n.index = k.index\n",
    "            \n",
    "            N = pd.DataFrame(len(PPI), columns=k.columns, index=k.index)\n",
    "            \n",
    "            if not distance in {'correlation', 'mahalanobis'}:\n",
    "                assert K.eq(k.sum(axis=1), axis=0).all().all()\n",
    "                assert N.eq(n.sum(axis=1), axis=0).all().all()\n",
    "            \n",
    "            # scipy has a really messed up nomeclature... \n",
    "            p_values = pd.DataFrame(1-hypergeom.cdf(k=k-1, M=N, N=n, n=K), index=GO2genes.index)\n",
    "            p_values.to_csv(f\"{PVALUE_DIRECTORY}/{run}_{nb_clusters}_BioGRID.txt\")\n",
    "            t2 = time.time()\n",
    "            print(f'{run}_{nb_clusters}: {t2-t1:.2f}sec', end='\\r')\n",
    "    print()"
   ]
  },
  {
   "cell_type": "markdown",
   "metadata": {},
   "source": [
    "## GCV-orca+"
   ]
  },
  {
   "cell_type": "code",
   "execution_count": 7,
   "metadata": {},
   "outputs": [],
   "source": [
    "feature = 'GCV-orca+'\n",
    "\n",
    "all_distances = sorted('_'.join(filename.split('_')[:-1]) \n",
    "                           for filename in os.listdir(f\"{MATRIX_DIRECTORY}/{feature}\"))"
   ]
  },
  {
   "cell_type": "code",
   "execution_count": 8,
   "metadata": {},
   "outputs": [],
   "source": [
    "MIN_CLUSTERS = 2\n",
    "MAX_CLUSTERS = 100\n",
    "MAX_RUNS = 10"
   ]
  },
  {
   "cell_type": "code",
   "execution_count": 9,
   "metadata": {},
   "outputs": [
    {
     "name": "stdout",
     "output_type": "stream",
     "text": [
      "canberra\n"
     ]
    },
    {
     "name": "stderr",
     "output_type": "stream",
     "text": [
      "/home/clusterduck123/Desktop/git/supplements/venv/graco/lib/python3.6/site-packages/pandas/core/computation/expressions.py:194: UserWarning: evaluating in Python space because the '*' operator is not supported by numexpr for the bool dtype, use '&' instead\n",
      "  op=op_str, alt_op=unsupported[op_str]\n"
     ]
    },
    {
     "name": "stdout",
     "output_type": "stream",
     "text": [
      "6_99: 961.65sec\n"
     ]
    }
   ],
   "source": [
    "method = 'kmedoid'\n",
    "\n",
    "for distance in {'canberra'}:\n",
    "    \n",
    "    t1 = time.time()\n",
    "    print(distance)\n",
    "    \n",
    "    CLUSTER_DIRECTORY = f\"{YEAST_DIRECTORY}/clusterings/{feature}/{distance}/{method}\"\n",
    "    PVALUE_DIRECTORY  = f\"{YEAST_DIRECTORY}/p-values/{feature}/{distance}/{method}/{aspect}\"\n",
    "    \n",
    "    if not os.path.exists(PVALUE_DIRECTORY):\n",
    "        os.makedirs(PVALUE_DIRECTORY)\n",
    "    \n",
    "    runs = min(get_number_of_pre_runs(CLUSTER_DIRECTORY, distance, MAX_CLUSTERS), MAX_RUNS)\n",
    "\n",
    "    for run in range(runs):\n",
    "        for nb_clusters in range(MIN_CLUSTERS, MAX_CLUSTERS):\n",
    "            if os.path.exists(f\"{PVALUE_DIRECTORY}/{run}_{nb_clusters}_BioGRID.txt\"):\n",
    "                continue\n",
    "            with open(f\"{CLUSTER_DIRECTORY}/{run}_{nb_clusters}_BioGRID.txt\", 'r') as f:\n",
    "                 cluster_list = [set(line.split()) for line in f]\n",
    "            cluster_df = pd.Series({gene:cluster_idx \n",
    "                                        for cluster_idx,cluster in enumerate(cluster_list) \n",
    "                                        for gene in cluster})\n",
    "\n",
    "            nb_annotated_genes_in_cluster = pd.DataFrame(np.array(\n",
    "                    [ [len(go_genes & cluster) for cluster in cluster_list] for go_genes in GO2genes]),\n",
    "                                                       index   = GO2genes.index,\n",
    "                                                       columns = range(nb_clusters))\n",
    "\n",
    "            \n",
    "            k = nb_annotated_genes_in_cluster\n",
    "            \n",
    "            K = pd.concat([global_GO_counter[GO2genes.index]]*nb_clusters, axis=1)\n",
    "            K.columns = k.columns\n",
    "            \n",
    "            n = pd.concat([pd.DataFrame(map(len, cluster_list)).T]*len(GO2genes))\n",
    "            n.index = k.index\n",
    "            \n",
    "            N = pd.DataFrame(len(PPI), columns=k.columns, index=k.index)\n",
    "            \n",
    "            if not distance in {'correlation', 'mahalanobis'}:\n",
    "                assert K.eq(k.sum(axis=1), axis=0).all().all()\n",
    "                assert N.eq(n.sum(axis=1), axis=0).all().all()\n",
    "            \n",
    "            # scipy has a really messed up nomeclature... \n",
    "            p_values = pd.DataFrame(1-hypergeom.cdf(k=k-1, M=N, N=n, n=K), index=GO2genes.index)\n",
    "            p_values.to_csv(f\"{PVALUE_DIRECTORY}/{run}_{nb_clusters}_BioGRID.txt\")\n",
    "            t2 = time.time()\n",
    "            print(f'{run}_{nb_clusters}: {t2-t1:.2f}sec', end='\\r')\n",
    "    print()"
   ]
  },
  {
   "cell_type": "code",
   "execution_count": null,
   "metadata": {},
   "outputs": [],
   "source": []
  }
 ],
 "metadata": {
  "kernelspec": {
   "display_name": "graco",
   "language": "python",
   "name": "graco"
  },
  "language_info": {
   "codemirror_mode": {
    "name": "ipython",
    "version": 3
   },
   "file_extension": ".py",
   "mimetype": "text/x-python",
   "name": "python",
   "nbconvert_exporter": "python",
   "pygments_lexer": "ipython3",
   "version": "3.6.8"
  }
 },
 "nbformat": 4,
 "nbformat_minor": 2
}
