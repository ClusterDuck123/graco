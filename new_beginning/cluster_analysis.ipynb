{
 "cells": [
  {
   "cell_type": "code",
   "execution_count": 1,
   "metadata": {},
   "outputs": [],
   "source": [
    "from itertools import islice, combinations, product\n",
    "from pyclustering.cluster.kmedoids import kmedoids\n",
    "from scipy.spatial.distance import squareform\n",
    "from collections import defaultdict\n",
    "from scipy.stats import hypergeom\n",
    "from collections import Counter\n",
    "from goatools import obo_parser\n",
    "from scipy.special import comb\n",
    "from functools import partial\n",
    "\n",
    "import os\n",
    "import time\n",
    "import graco\n",
    "import random\n",
    "import numpy as np\n",
    "import pandas as pd\n",
    "import seaborn as sns\n",
    "import networkx as nx\n",
    "import matplotlib.pyplot as plt\n",
    "\n",
    "sns.set()"
   ]
  },
  {
   "cell_type": "code",
   "execution_count": 2,
   "metadata": {},
   "outputs": [],
   "source": [
    "def get_number_of_max_runs(GV, distance, nb_clusters):\n",
    "    runs = max(int(run) for run,species,db,ncluster_txt in \n",
    "             map(partial(str.split, sep='_'), os.listdir(f\"{CLUSTERS_DIRECTORY}/{GV}/{distance}\"))\n",
    "                if int(ncluster_txt.split('.')[0]) == nb_clusters)\n",
    "    return runs"
   ]
  },
  {
   "cell_type": "code",
   "execution_count": 3,
   "metadata": {},
   "outputs": [],
   "source": [
    "pd.set_option(\"display.max_columns\", 50)\n",
    "\n",
    "DATA_DIRECTORY = \"/home/clusterduck123/Desktop/git/supplements/data\"\n",
    "CPP_DIRECTORY = \"/home/clusterduck123/Desktop/git/graco/graco/cpp\"\n",
    "\n",
    "RAW_DATA_DIRECTORY = f\"{DATA_DIRECTORY}/raw_data\"\n",
    "PPI_DIRECTORY = f\"{DATA_DIRECTORY}/PPI\"\n",
    "ANNOTATIONS_DIRECTORY = f\"{DATA_DIRECTORY}/annotations\"\n",
    "MATRIX_DIRECTORY = f\"{DATA_DIRECTORY}/matrix\"\n",
    "CLUSTERS_DIRECTORY = f\"{DATA_DIRECTORY}/clusters\""
   ]
  },
  {
   "cell_type": "code",
   "execution_count": 12,
   "metadata": {},
   "outputs": [],
   "source": [
    "method2name = {'GDV_similarity'  : 'Tijana', \n",
    "               'GDV_mahalanobis' : 'Mahalanobis',\n",
    "               'gGCV_normalizedl1'   : '$L_1$',\n",
    "               'gGCV_normalizedl2'   : '$L_2$',\n",
    "               'gGCV_normalizedlinf' : '$L_{\\infty}$'}"
   ]
  },
  {
   "cell_type": "markdown",
   "metadata": {},
   "source": [
    "# Rand Index"
   ]
  },
  {
   "cell_type": "code",
   "execution_count": 13,
   "metadata": {},
   "outputs": [],
   "source": [
    "def vcomb(*args):\n",
    "    return np.vectorize(partial(comb,exact=True))(*args)\n",
    "\n",
    "def get_tp_fp_tn_fn(cooccurrence_matrix):\n",
    "    tp_plus_fp = vcomb(cooccurrence_matrix.sum(0, dtype=int),2).sum()\n",
    "    tp_plus_fn = vcomb(cooccurrence_matrix.sum(1, dtype=int),2).sum()\n",
    "    tp = vcomb(cooccurrence_matrix.astype(int), 2).sum()\n",
    "    fp = tp_plus_fp - tp\n",
    "    fn = tp_plus_fn - tp\n",
    "    tn = vcomb(cooccurrence_matrix.sum(), 2) - tp - fp - fn\n",
    "    return [tp, fp, tn, fn]\n",
    "\n",
    "def rand_index(partition1, partition2):\n",
    "    D = np.array([[len(cluster1 & cluster2) for cluster1 in partition1]\n",
    "                                            for cluster2 in partition2])\n",
    "    \n",
    "    tp,fp,tn,fn =  get_tp_fp_tn_fn(D)\n",
    "    return (tp + tn) / (tp + fp + fn + tn)"
   ]
  },
  {
   "cell_type": "code",
   "execution_count": 14,
   "metadata": {},
   "outputs": [],
   "source": [
    "MIN_CLUSTERS = 2\n",
    "MAX_CLUSTERS = 100\n",
    "MAX_RUNS = 50"
   ]
  },
  {
   "cell_type": "code",
   "execution_count": 17,
   "metadata": {},
   "outputs": [],
   "source": [
    "partitions = defaultdict(list)\n",
    "\n",
    "methods = ['GDV_similarity', 'GDV_mahalanobis', 'gGCV_normalizedl1', 'gGCV_normalizedl2', 'gGCV_normalizedlinf']\n",
    "for method in methods:\n",
    "    GV, distance = method.split('_')\n",
    "    for run in range(MAX_RUNS):\n",
    "        for nb_clusters in [10]:\n",
    "            with open(f\"{CLUSTERS_DIRECTORY}/{GV}/{distance}/{run}_sc_BioGRID_{nb_clusters}.txt\", 'r') as f:\n",
    "                partitions[method].append([set(line.split()) for line in f])"
   ]
  },
  {
   "cell_type": "code",
   "execution_count": 18,
   "metadata": {},
   "outputs": [
    {
     "data": {
      "image/png": "[encoded data removed]",
      "text/plain": [
       "<Figure size 1008x720 with 1 Axes>"
      ]
     },
     "metadata": {
      "needs_background": "light"
     },
     "output_type": "display_data"
    }
   ],
   "source": [
    "fig, ax = plt.subplots(figsize=(14,10))\n",
    "for method in methods:\n",
    "    D = [rand_index(partition1, partition2) for partition1, partition2 in combinations(partitions[method],2)]\n",
    "    plt.hist(D, bins=50, alpha=0.75, label=method2name[method]);\n",
    "plt.legend();"
   ]
  },
  {
   "cell_type": "markdown",
   "metadata": {},
   "source": [
    "# Jaccard index"
   ]
  },
  {
   "cell_type": "code",
   "execution_count": 4,
   "metadata": {},
   "outputs": [],
   "source": [
    "def jaccard(set1,set2):\n",
    "    return len(set1 & set2) / len(set1 | set2)\n",
    "\n",
    "def gene2cluster_idx(gene, partition):\n",
    "    for cluster_idx, cluster in enumerate(partition):\n",
    "        if gene in cluster:\n",
    "            return cluster_idx\n",
    "        \n",
    "def gene2cluster(gene, partition):\n",
    "    for cluster in partition:\n",
    "        if gene in cluster:\n",
    "            return cluster"
   ]
  },
  {
   "cell_type": "code",
   "execution_count": 5,
   "metadata": {},
   "outputs": [],
   "source": [
    "MIN_CLUSTERS = 2\n",
    "MAX_CLUSTERS = 100\n",
    "MAX_RUNS = 50"
   ]
  },
  {
   "cell_type": "code",
   "execution_count": 6,
   "metadata": {},
   "outputs": [],
   "source": [
    "methods = ['GDV_similarity']\n",
    "clusters = []\n",
    "for method in methods:\n",
    "    GV, distance = method.split('_')\n",
    "    \n",
    "    for run in range(MAX_RUNS):\n",
    "        for nb_clusters in [10]:\n",
    "            with open(f\"{CLUSTERS_DIRECTORY}/{GV}/{distance}/{run}_sc_BioGRID_{nb_clusters}.txt\", 'r') as f:\n",
    "                clusters.append([set(line.split()) for line in f])"
   ]
  },
  {
   "cell_type": "code",
   "execution_count": 7,
   "metadata": {},
   "outputs": [],
   "source": [
    "PPI = nx.read_edgelist(f\"{PPI_DIRECTORY}/BioGRID_sc.txt\")\n",
    "N = len(PPI)"
   ]
  },
  {
   "cell_type": "code",
   "execution_count": 17,
   "metadata": {},
   "outputs": [
    {
     "name": "stdout",
     "output_type": "stream",
     "text": [
      "CPU times: user 19.2 s, sys: 0 ns, total: 19.2 s\n",
      "Wall time: 19.3 s\n"
     ]
    }
   ],
   "source": [
    "%%time\n",
    "\n",
    "a = 0\n",
    "b = 0\n",
    "c = 0\n",
    "d = 0\n",
    "\n",
    "#for cluster in clusters[0]:\n",
    "#    for gene1,gene2 in combinations(cluster,2):\n",
    "#        cluster_idx1 = gene2cluster_idx(gene1,clusters[1])\n",
    "#        if gene2 in clusters[1][cluster_idx1]:\n",
    "#            a += 1\n",
    "#        else:\n",
    "#            c += 1\n",
    "            \n",
    "for gene1, gene2 in combinations(PPI,2):\n",
    "    cluster_idx11 = gene2cluster_idx(gene1,clusters[0])\n",
    "    cluster_idx21 = gene2cluster_idx(gene1,clusters[1])\n",
    "    if   gene2 in clusters[0][cluster_idx11] and gene2 in clusters[1][cluster_idx21]:\n",
    "        a += 1\n",
    "    elif gene2 in clusters[0][cluster_idx11] and not gene2 in clusters[1][cluster_idx21]:\n",
    "        c += 1\n",
    "    elif gene2 not in clusters[0][cluster_idx11] and gene2 in clusters[1][cluster_idx21]:\n",
    "        d += 1\n",
    "    elif gene2 not in clusters[0][cluster_idx11] and gene2 not in clusters[1][cluster_idx21]:\n",
    "        b += 1\n",
    "    else:\n",
    "        raise Exception"
   ]
  },
  {
   "cell_type": "code",
   "execution_count": 26,
   "metadata": {},
   "outputs": [],
   "source": [
    "a2 = 0\n",
    "b2 = 0\n",
    "c2 = 0\n",
    "d2 = 0\n",
    "\n",
    "for cluster in clusters[0]:\n",
    "    for gene1,gene2 in combinations(cluster,2):\n",
    "        cluster_idx1 = gene2cluster_idx(gene1,clusters[1])\n",
    "        if gene2 in clusters[1][cluster_idx1]:\n",
    "            a2 += 1\n",
    "        else:\n",
    "            c2 += 1\n",
    "\n",
    "for cluster1, cluster2 in combinations(clusters[0],2):\n",
    "    for gene1,gene2 in product(cluster1,cluster2):\n",
    "        if gene2 in gene2cluster(gene1,clusters[1]):\n",
    "            d2 += 1\n",
    "        else:\n",
    "            b2 += 1"
   ]
  },
  {
   "cell_type": "code",
   "execution_count": 27,
   "metadata": {},
   "outputs": [
    {
     "name": "stdout",
     "output_type": "stream",
     "text": [
      "0.9310880729439147\n"
     ]
    }
   ],
   "source": [
    "print((a2+b2)/(a2+b2+c2+d2))"
   ]
  },
  {
   "cell_type": "code",
   "execution_count": 8,
   "metadata": {},
   "outputs": [],
   "source": [
    "D = np.array([[len(cluster1 & cluster2) for cluster1 in clusters[0]]\n",
    "                                        for cluster2 in clusters[1]])"
   ]
  },
  {
   "cell_type": "code",
   "execution_count": 9,
   "metadata": {},
   "outputs": [],
   "source": [
    "from scipy.special import comb"
   ]
  },
  {
   "cell_type": "code",
   "execution_count": 10,
   "metadata": {},
   "outputs": [],
   "source": [
    "def get_tp_fp_tn_fn(cooccurrence_matrix, comb):\n",
    "    tp_plus_fp = comb(cooccurrence_matrix.sum(0, dtype=int),2).sum()\n",
    "    tp_plus_fn = comb(cooccurrence_matrix.sum(1, dtype=int),2).sum()\n",
    "    tp = comb(cooccurrence_matrix.astype(int), 2).sum()\n",
    "    fp = tp_plus_fp - tp\n",
    "    fn = tp_plus_fn - tp\n",
    "    tn = comb(cooccurrence_matrix.sum(), 2) - tp - fp - fn\n",
    "    return [tp, fp, tn, fn]"
   ]
  },
  {
   "cell_type": "code",
   "execution_count": 11,
   "metadata": {},
   "outputs": [
    {
     "name": "stdout",
     "output_type": "stream",
     "text": [
      "Rand index: 0.931088\n"
     ]
    }
   ],
   "source": [
    "tp,fp,tn,fn =  get_tp_fp_tn_fn(D, np.vectorize(partial(comb, exact=True)))\n",
    "\n",
    "print(\"Rand index: %f\" % (float(tp + tn) / (tp + fp + fn + tn)))"
   ]
  },
  {
   "cell_type": "code",
   "execution_count": 14,
   "metadata": {},
   "outputs": [],
   "source": [
    "def vcomb(*args):\n",
    "    return np.vectorize(partial(comb,exact=True))(*args)\n",
    "\n",
    "def get_tp_fp_tn_fn(cooccurrence_matrix):\n",
    "    tp_plus_fp = vcomb(cooccurrence_matrix.sum(0, dtype=int),2).sum()\n",
    "    tp_plus_fn = vcomb(cooccurrence_matrix.sum(1, dtype=int),2).sum()\n",
    "    tp = vcomb(cooccurrence_matrix.astype(int), 2).sum()\n",
    "    fp = tp_plus_fp - tp\n",
    "    fn = tp_plus_fn - tp\n",
    "    tn = vcomb(cooccurrence_matrix.sum(), 2) - tp - fp - fn\n",
    "    return [tp, fp, tn, fn]\n",
    "\n",
    "def rand_index(partition1, partition2):\n",
    "    D = np.array([[len(cluster1 & cluster2) for cluster1 in partition1]\n",
    "                                            for cluster2 in partition2])\n",
    "    \n",
    "    tp,fp,tn,fn =  get_tp_fp_tn_fn(D)\n",
    "    return (tp + tn) / (tp + fp + fn + tn)"
   ]
  },
  {
   "cell_type": "code",
   "execution_count": 16,
   "metadata": {},
   "outputs": [
    {
     "name": "stdout",
     "output_type": "stream",
     "text": [
      "1.24 ms ± 16.4 µs per loop (mean ± std. dev. of 7 runs, 1000 loops each)\n"
     ]
    }
   ],
   "source": [
    "%%timeit\n",
    "rand_index(clusters[0], clusters[1])"
   ]
  },
  {
   "cell_type": "code",
   "execution_count": 17,
   "metadata": {},
   "outputs": [
    {
     "data": {
      "text/plain": [
       "1.581"
      ]
     },
     "execution_count": 17,
     "metadata": {},
     "output_type": "execute_result"
    }
   ],
   "source": [
    "50*51/2 * 0.00124"
   ]
  },
  {
   "cell_type": "code",
   "execution_count": null,
   "metadata": {},
   "outputs": [],
   "source": []
  }
 ],
 "metadata": {
  "kernelspec": {
   "display_name": "graco",
   "language": "python",
   "name": "graco"
  },
  "language_info": {
   "codemirror_mode": {
    "name": "ipython",
    "version": 3
   },
   "file_extension": ".py",
   "mimetype": "text/x-python",
   "name": "python",
   "nbconvert_exporter": "python",
   "pygments_lexer": "ipython3",
   "version": "3.6.8"
  }
 },
 "nbformat": 4,
 "nbformat_minor": 2
}
