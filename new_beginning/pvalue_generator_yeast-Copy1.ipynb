{
 "cells": [
  {
   "cell_type": "code",
   "execution_count": 1,
   "metadata": {},
   "outputs": [],
   "source": [
    "from itertools import islice, combinations, product\n",
    "from pyclustering.cluster.kmedoids import kmedoids\n",
    "from collections import defaultdict\n",
    "from scipy.stats import hypergeom\n",
    "from collections import Counter\n",
    "from goatools import obo_parser\n",
    "from functools import partial\n",
    "\n",
    "import os\n",
    "import time\n",
    "import random\n",
    "import numpy as np\n",
    "import pandas as pd\n",
    "import networkx as nx"
   ]
  },
  {
   "cell_type": "code",
   "execution_count": 2,
   "metadata": {},
   "outputs": [],
   "source": [
    "DATA_DIRECTORY = \"/home/clusterduck123/Desktop/git/supplements/data\"\n",
    "RAW_DATA_DIRECTORY = f\"{DATA_DIRECTORY}/raw-data\"\n",
    "YEAST_DIRECTORY = f\"{DATA_DIRECTORY}/processed-data/organisms/yeast\"\n",
    "NETWORK_DIRECTORY = f\"{YEAST_DIRECTORY}/networks\"\n",
    "ANNOTATION_DIRECTORY = f\"{YEAST_DIRECTORY}/annotations\""
   ]
  },
  {
   "cell_type": "markdown",
   "metadata": {},
   "source": [
    "# Enrichement"
   ]
  },
  {
   "cell_type": "markdown",
   "metadata": {},
   "source": [
    "#### Load and parse annotation data"
   ]
  },
  {
   "cell_type": "code",
   "execution_count": 3,
   "metadata": {},
   "outputs": [
    {
     "name": "stdout",
     "output_type": "stream",
     "text": [
      "/home/clusterduck123/Desktop/git/supplements/data/raw-data/go-basic.obo: fmt(1.2) rel(2019-10-07) 47,285 GO Terms\n"
     ]
    }
   ],
   "source": [
    "namespace = 'CC'\n",
    "PPI = nx.read_edgelist(f\"{NETWORK_DIRECTORY}/PPI_BioGRID.txt\")\n",
    "annotation_df = pd.read_csv(f\"{ANNOTATION_DIRECTORY}/GO_{namespace}_BioGRID-SGD.csv\")\n",
    "go_dag = obo_parser.GODag(f\"{RAW_DATA_DIRECTORY}/go-basic.obo\")\n",
    "\n",
    "gene_population = set(PPI.nodes())\n",
    "GO_population = set(annotation_df.GO_ID)"
   ]
  },
  {
   "cell_type": "markdown",
   "metadata": {},
   "source": [
    "#### Define convenient dictionaries"
   ]
  },
  {
   "cell_type": "code",
   "execution_count": 4,
   "metadata": {},
   "outputs": [],
   "source": [
    "# Conversion dictionaries\n",
    "GO2genes = pd.Series({go_id: set(genes.Systematic_ID) for go_id, genes in annotation_df.groupby('GO_ID')}, \n",
    "                     name='nb_genes')\n",
    "\n",
    "gene2GO  = {gene : set(go_ids.GO_ID) for gene, go_ids in annotation_df.groupby('Systematic_ID')}\n",
    "global_GO_counter = GO2genes.apply(len)"
   ]
  },
  {
   "cell_type": "markdown",
   "metadata": {},
   "source": [
    "## Here we GO"
   ]
  },
  {
   "cell_type": "markdown",
   "metadata": {},
   "source": [
    "### Functions"
   ]
  },
  {
   "cell_type": "markdown",
   "metadata": {},
   "source": [
    "#### Parser fuctions"
   ]
  },
  {
   "cell_type": "code",
   "execution_count": 5,
   "metadata": {},
   "outputs": [],
   "source": [
    "def get_number_of_pre_runs(CLUSTER_DIRECTORY, distance, n_clusters = 99):\n",
    "    splitted_file_names = [name.split('_') for name in os.listdir(CLUSTER_DIRECTORY)]\n",
    "    pre_runs = [int(run) for run, ncluster, db_txt in splitted_file_names if ncluster == str(n_clusters)]\n",
    "    if pre_runs:\n",
    "        return max(pre_runs)+1\n",
    "    else:\n",
    "        return -1"
   ]
  },
  {
   "cell_type": "markdown",
   "metadata": {},
   "source": [
    "#### Loop functions"
   ]
  },
  {
   "cell_type": "code",
   "execution_count": 6,
   "metadata": {},
   "outputs": [],
   "source": [
    "def cluster2GO(cluster):\n",
    "    return set.union(*(gene2GO.get(gene, set()) for gene in cluster))\n",
    "\n",
    "def is_annotated_in(gene, GO_set):\n",
    "    return not gene2GO.get(gene,set()).isdisjoint(GO_set)"
   ]
  },
  {
   "cell_type": "markdown",
   "metadata": {},
   "source": [
    "## GDV"
   ]
  },
  {
   "cell_type": "code",
   "execution_count": 7,
   "metadata": {},
   "outputs": [],
   "source": [
    "MIN_CLUSTERS = 2\n",
    "MAX_CLUSTERS = 100\n",
    "MAX_RUNS = 30\n",
    "\n",
    "all_distances = [filename.split('_')[0] for filename in os.listdir(f\"{YEAST_DIRECTORY}/distance-matrices/GDV\")]"
   ]
  },
  {
   "cell_type": "code",
   "execution_count": null,
   "metadata": {
    "scrolled": true
   },
   "outputs": [
    {
     "name": "stdout",
     "output_type": "stream",
     "text": [
      "mahalanobis\n"
     ]
    },
    {
     "name": "stderr",
     "output_type": "stream",
     "text": [
      "/home/clusterduck123/Desktop/git/supplements/venv/graco/lib/python3.6/site-packages/pandas/core/computation/expressions.py:194: UserWarning: evaluating in Python space because the '*' operator is not supported by numexpr for the bool dtype, use '&' instead\n",
      "  op=op_str, alt_op=unsupported[op_str]\n"
     ]
    },
    {
     "name": "stdout",
     "output_type": "stream",
     "text": [
      "29_99: 4718.23sec\n",
      "euclidean\n",
      "29_99: 4632.47sec\n",
      "GDV-similarity\n",
      "29_99: 4391.90sec\n",
      "chebyshev\n",
      "29_99: 4530.31sec\n",
      "normalized1-l2\n",
      "29_99: 4228.03sec\n",
      "cosine\n",
      "29_99: 4318.00sec\n",
      "correlation\n",
      "29_99: 4310.39sec\n",
      "seuclidean\n",
      "29_99: 4351.09sec\n",
      "normalized1-l1\n",
      "29_99: 4231.50sec\n",
      "canberra\n",
      "29_99: 4230.00sec\n",
      "cityblock\n",
      "29_99: 4457.99sec\n",
      "normalized1-linf\n",
      "29_99: 4143.46sec\n",
      "sqeuclidean\n",
      "29_99: 4362.59sec\n",
      "braycurtis\n",
      "27_47: 4072.44sec\r"
     ]
    }
   ],
   "source": [
    "method = 'kmedoid'\n",
    "\n",
    "for distance in all_distances:\n",
    "    \n",
    "    t1 = time.time()\n",
    "    print(distance)\n",
    "    \n",
    "    CLUSTER_DIRECTORY = f\"{YEAST_DIRECTORY}/clusterings/GDV/{distance}/{method}\"\n",
    "    PVALUE_DIRECTORY  = f\"{YEAST_DIRECTORY}/enrichments/GDV/{distance}/{method}/{namespace}\"\n",
    "    \n",
    "    if not os.path.exists(PVALUE_DIRECTORY):\n",
    "        os.makedirs(PVALUE_DIRECTORY)\n",
    "    \n",
    "    runs = min(get_number_of_pre_runs(CLUSTER_DIRECTORY, distance, MAX_CLUSTERS), MAX_RUNS)\n",
    "\n",
    "    for run in range(runs):\n",
    "        for nb_clusters in range(MIN_CLUSTERS, MAX_CLUSTERS):\n",
    "            with open(f\"{CLUSTER_DIRECTORY}/{run}_{nb_clusters}_BioGRID.txt\", 'r') as f:\n",
    "                 cluster_list = [set(line.split()) for line in f]\n",
    "            cluster_df = pd.Series({gene:cluster_idx \n",
    "                                        for cluster_idx,cluster in enumerate(cluster_list) \n",
    "                                        for gene in cluster})\n",
    "\n",
    "            nb_annotated_genes_in_cluster = pd.DataFrame(np.array(\n",
    "                    [ [len(go_genes & cluster) for cluster in cluster_list] for go_genes in GO2genes]),\n",
    "                                                       index   = GO2genes.index,\n",
    "                                                       columns = range(nb_clusters))\n",
    "\n",
    "            \n",
    "            k = nb_annotated_genes_in_cluster\n",
    "            \n",
    "            K = pd.concat([global_GO_counter[GO2genes.index]]*nb_clusters, axis=1)\n",
    "            K.columns = k.columns\n",
    "            \n",
    "            n = pd.concat([pd.DataFrame(map(len, cluster_list)).T]*len(GO2genes))\n",
    "            n.index = k.index\n",
    "            \n",
    "            N = pd.DataFrame(len(PPI), columns=k.columns, index=k.index)\n",
    "            \n",
    "            assert K.eq(k.sum(axis=1), axis=0).all().all()\n",
    "            assert N.eq(n.sum(axis=1), axis=0).all().all()\n",
    "            \n",
    "            # scipy has a really messed up nomeclature... \n",
    "            p_values = pd.DataFrame(1-hypergeom.cdf(k=k-1, M=N, N=n, n=K), index=GO2genes.index)\n",
    "            p_values.to_csv(f\"{PVALUE_DIRECTORY}/{run}_{nb_clusters}_BioGRID.txt\")\n",
    "            t2 = time.time()\n",
    "            print(f'{run}_{nb_clusters}: {t2-t1:.2f}sec', end='\\r')\n",
    "    print()"
   ]
  },
  {
   "cell_type": "markdown",
   "metadata": {},
   "source": [
    "### GCV-A"
   ]
  },
  {
   "cell_type": "code",
   "execution_count": 9,
   "metadata": {},
   "outputs": [],
   "source": [
    "MIN_CLUSTERS = 2\n",
    "MAX_CLUSTERS = 100\n",
    "MAX_RUNS = 3\n",
    "\n",
    "all_distances = [filename.split('_')[0] for filename in os.listdir(f\"{YEAST_DIRECTORY}/distance-matrices/GCV-A\")]"
   ]
  },
  {
   "cell_type": "code",
   "execution_count": 10,
   "metadata": {},
   "outputs": [
    {
     "name": "stdout",
     "output_type": "stream",
     "text": [
      "all1_normalized1-l1\n",
      "2_99: 427.04sec\n",
      "all2_normalized1-l1\n",
      "2_99: 421.76sec\n",
      "all1_normalized1-l2\n",
      "2_99: 440.98sec\n",
      "all2_normalized1-l2\n",
      "2_99: 437.67sec\n",
      "all1_normalized1-linf\n",
      "2_99: 433.70sec\n"
     ]
    }
   ],
   "source": [
    "method = 'kmedoid'\n",
    "\n",
    "for distance in ['all1_normalized1-l1', 'all2_normalized1-l1', \n",
    "                 'all1_normalized1-l2', 'all2_normalized1-l2', \n",
    "                 'all1_normalized1-linf']:\n",
    "    \n",
    "    t1 = time.time()\n",
    "    print(distance)\n",
    "    \n",
    "    CLUSTER_DIRECTORY = f\"{YEAST_DIRECTORY}/clusterings/GCV-A/{distance}/{method}\"\n",
    "    PVALUE_DIRECTORY  = f\"{YEAST_DIRECTORY}/enrichments/GCV-A/{distance}/{method}/{namespace}\"\n",
    "    \n",
    "    if not os.path.exists(PVALUE_DIRECTORY):\n",
    "        os.makedirs(PVALUE_DIRECTORY)\n",
    "    \n",
    "    runs = min(get_number_of_pre_runs(CLUSTER_DIRECTORY, distance, MAX_CLUSTERS), MAX_RUNS)\n",
    "\n",
    "    for run in range(runs):\n",
    "        for nb_clusters in range(MIN_CLUSTERS, MAX_CLUSTERS):\n",
    "            with open(f\"{CLUSTER_DIRECTORY}/{run}_{nb_clusters}_BioGRID.txt\", 'r') as f:\n",
    "                 cluster_list = [set(line.split()) for line in f]\n",
    "            cluster_df = pd.Series({gene:cluster_idx \n",
    "                                        for cluster_idx,cluster in enumerate(cluster_list) \n",
    "                                        for gene in cluster})\n",
    "\n",
    "            nb_annotated_genes_in_cluster = pd.DataFrame(np.array(\n",
    "                    [ [len(go_genes & cluster) for cluster in cluster_list] for go_genes in GO2genes]),\n",
    "                                                       index   = GO2genes.index,\n",
    "                                                       columns = range(nb_clusters))\n",
    "\n",
    "            \n",
    "            k = nb_annotated_genes_in_cluster\n",
    "            \n",
    "            K = pd.concat([global_GO_counter[GO2genes.index]]*nb_clusters, axis=1)\n",
    "            K.columns = k.columns\n",
    "            \n",
    "            n = pd.concat([pd.DataFrame(map(len, cluster_list)).T]*len(GO2genes))\n",
    "            n.index = k.index\n",
    "            \n",
    "            N = pd.DataFrame(len(PPI), columns=k.columns, index=k.index)\n",
    "            \n",
    "            assert K.eq(k.sum(axis=1), axis=0).all().all()\n",
    "            assert N.eq(n.sum(axis=1), axis=0).all().all()\n",
    "            \n",
    "            # scipy has a really messed up nomeclature... \n",
    "            p_values = pd.DataFrame(1-hypergeom.cdf(k=k-1, M=N, N=n, n=K), index=GO2genes.index)\n",
    "            p_values.to_csv(f\"{PVALUE_DIRECTORY}/{run}_{nb_clusters}_BioGRID.txt\")\n",
    "            t2 = time.time()\n",
    "            print(f'{run}_{nb_clusters}: {t2-t1:.2f}sec', end='\\r')\n",
    "    print()"
   ]
  },
  {
   "cell_type": "markdown",
   "metadata": {},
   "source": [
    "## GCV-G"
   ]
  },
  {
   "cell_type": "code",
   "execution_count": 10,
   "metadata": {},
   "outputs": [],
   "source": [
    "MIN_CLUSTERS = 2\n",
    "MAX_CLUSTERS = 100\n",
    "MAX_RUNS = 20\n",
    "\n",
    "all_distances = [filename.split('_')[0] for filename in os.listdir(f\"{YEAST_DIRECTORY}/distance-matrices/GCV-G\")]"
   ]
  },
  {
   "cell_type": "code",
   "execution_count": null,
   "metadata": {},
   "outputs": [
    {
     "name": "stdout",
     "output_type": "stream",
     "text": [
      "all1_normalized1-l1\n",
      "19_99: 3168.42sec\n",
      "all2_normalized1-l1\n",
      "19_99: 2893.55sec\n",
      "all1_normalized1-l2\n",
      "16_83: 2557.75sec\r"
     ]
    }
   ],
   "source": [
    "method = 'kmedoid'\n",
    "\n",
    "for distance in ['all1_normalized1-l1', 'all2_normalized1-l1', \n",
    "                 'all1_normalized1-l2', 'all2_normalized1-l2', \n",
    "                 'all1_normalized1-linf']:\n",
    "    \n",
    "    t1 = time.time()\n",
    "    print(distance)\n",
    "    \n",
    "    CLUSTER_DIRECTORY = f\"{YEAST_DIRECTORY}/clusterings/GCV-G/{distance}/{method}\"\n",
    "    PVALUE_DIRECTORY  = f\"{YEAST_DIRECTORY}/enrichments/GCV-G/{distance}/{method}/{namespace}\"\n",
    "    \n",
    "    if not os.path.exists(PVALUE_DIRECTORY):\n",
    "        os.makedirs(PVALUE_DIRECTORY)\n",
    "    \n",
    "    runs = min(get_number_of_pre_runs(CLUSTER_DIRECTORY, distance, MAX_CLUSTERS), MAX_RUNS)\n",
    "\n",
    "    for run in range(runs):\n",
    "        for nb_clusters in range(MIN_CLUSTERS, MAX_CLUSTERS):\n",
    "            with open(f\"{CLUSTER_DIRECTORY}/{run}_{nb_clusters}_BioGRID.txt\", 'r') as f:\n",
    "                 cluster_list = [set(line.split()) for line in f]\n",
    "            cluster_df = pd.Series({gene:cluster_idx \n",
    "                                        for cluster_idx,cluster in enumerate(cluster_list) \n",
    "                                        for gene in cluster})\n",
    "\n",
    "            nb_annotated_genes_in_cluster = pd.DataFrame(np.array(\n",
    "                    [ [len(go_genes & cluster) for cluster in cluster_list] for go_genes in GO2genes]),\n",
    "                                                       index   = GO2genes.index,\n",
    "                                                       columns = range(nb_clusters))\n",
    "\n",
    "            \n",
    "            k = nb_annotated_genes_in_cluster\n",
    "            \n",
    "            K = pd.concat([global_GO_counter[GO2genes.index]]*nb_clusters, axis=1)\n",
    "            K.columns = k.columns\n",
    "            \n",
    "            n = pd.concat([pd.DataFrame(map(len, cluster_list)).T]*len(GO2genes))\n",
    "            n.index = k.index\n",
    "            \n",
    "            N = pd.DataFrame(len(PPI), columns=k.columns, index=k.index)\n",
    "            \n",
    "            assert K.eq(k.sum(axis=1), axis=0).all().all()\n",
    "            assert N.eq(n.sum(axis=1), axis=0).all().all()\n",
    "            \n",
    "            # scipy has a really messed up nomeclature... \n",
    "            p_values = pd.DataFrame(1-hypergeom.cdf(k=k-1, M=N, N=n, n=K), index=GO2genes.index)\n",
    "            p_values.to_csv(f\"{PVALUE_DIRECTORY}/{run}_{nb_clusters}_BioGRID.txt\")\n",
    "            t2 = time.time()\n",
    "            print(f'{run}_{nb_clusters}: {t2-t1:.2f}sec', end='\\r')\n",
    "    print()"
   ]
  },
  {
   "cell_type": "markdown",
   "metadata": {},
   "source": [
    "# GCV-DG"
   ]
  },
  {
   "cell_type": "code",
   "execution_count": 7,
   "metadata": {},
   "outputs": [],
   "source": [
    "MIN_CLUSTERS = 2\n",
    "MAX_CLUSTERS = 100\n",
    "MAX_RUNS = 30\n",
    "\n",
    "all_distances = [filename.split('_')[0] for filename in os.listdir(f\"{YEAST_DIRECTORY}/distance-matrices/GCV-DG\")]"
   ]
  },
  {
   "cell_type": "code",
   "execution_count": 8,
   "metadata": {},
   "outputs": [
    {
     "name": "stdout",
     "output_type": "stream",
     "text": [
      "all1_normalized1-l1\n",
      "0_2: 0.14sec\r"
     ]
    },
    {
     "name": "stderr",
     "output_type": "stream",
     "text": [
      "/home/clusterduck123/Desktop/git/supplements/venv/graco/lib/python3.6/site-packages/pandas/core/computation/expressions.py:194: UserWarning: evaluating in Python space because the '*' operator is not supported by numexpr for the bool dtype, use '&' instead\n",
      "  op=op_str, alt_op=unsupported[op_str]\n"
     ]
    },
    {
     "name": "stdout",
     "output_type": "stream",
     "text": [
      "14_99: 545.10sec\n",
      "all2_normalized1-l1\n",
      "14_99: 525.81sec\n",
      "all1_normalized1-l2\n",
      "15_99: 551.32sec\n",
      "all2_normalized1-l2\n",
      "8_95: 304.69sec\r"
     ]
    },
    {
     "ename": "OSError",
     "evalue": "[Errno 28] No space left on device",
     "output_type": "error",
     "traceback": [
      "\u001b[0;31m---------------------------------------------------------------------------\u001b[0m",
      "\u001b[0;31mOSError\u001b[0m                                   Traceback (most recent call last)",
      "\u001b[0;32m<ipython-input-8-3af8db8e961e>\u001b[0m in \u001b[0;36m<module>\u001b[0;34m\u001b[0m\n\u001b[1;32m     45\u001b[0m             \u001b[0;31m# scipy has a really messed up nomeclature...\u001b[0m\u001b[0;34m\u001b[0m\u001b[0;34m\u001b[0m\u001b[0;34m\u001b[0m\u001b[0m\n\u001b[1;32m     46\u001b[0m             \u001b[0mp_values\u001b[0m \u001b[0;34m=\u001b[0m \u001b[0mpd\u001b[0m\u001b[0;34m.\u001b[0m\u001b[0mDataFrame\u001b[0m\u001b[0;34m(\u001b[0m\u001b[0;36m1\u001b[0m\u001b[0;34m-\u001b[0m\u001b[0mhypergeom\u001b[0m\u001b[0;34m.\u001b[0m\u001b[0mcdf\u001b[0m\u001b[0;34m(\u001b[0m\u001b[0mk\u001b[0m\u001b[0;34m=\u001b[0m\u001b[0mk\u001b[0m\u001b[0;34m-\u001b[0m\u001b[0;36m1\u001b[0m\u001b[0;34m,\u001b[0m \u001b[0mM\u001b[0m\u001b[0;34m=\u001b[0m\u001b[0mN\u001b[0m\u001b[0;34m,\u001b[0m \u001b[0mN\u001b[0m\u001b[0;34m=\u001b[0m\u001b[0mn\u001b[0m\u001b[0;34m,\u001b[0m \u001b[0mn\u001b[0m\u001b[0;34m=\u001b[0m\u001b[0mK\u001b[0m\u001b[0;34m)\u001b[0m\u001b[0;34m,\u001b[0m \u001b[0mindex\u001b[0m\u001b[0;34m=\u001b[0m\u001b[0mGO2genes\u001b[0m\u001b[0;34m.\u001b[0m\u001b[0mindex\u001b[0m\u001b[0;34m)\u001b[0m\u001b[0;34m\u001b[0m\u001b[0;34m\u001b[0m\u001b[0m\n\u001b[0;32m---> 47\u001b[0;31m             \u001b[0mp_values\u001b[0m\u001b[0;34m.\u001b[0m\u001b[0mto_csv\u001b[0m\u001b[0;34m(\u001b[0m\u001b[0;34mf\"{PVALUE_DIRECTORY}/{run}_{nb_clusters}_BioGRID.txt\"\u001b[0m\u001b[0;34m)\u001b[0m\u001b[0;34m\u001b[0m\u001b[0;34m\u001b[0m\u001b[0m\n\u001b[0m\u001b[1;32m     48\u001b[0m             \u001b[0mt2\u001b[0m \u001b[0;34m=\u001b[0m \u001b[0mtime\u001b[0m\u001b[0;34m.\u001b[0m\u001b[0mtime\u001b[0m\u001b[0;34m(\u001b[0m\u001b[0;34m)\u001b[0m\u001b[0;34m\u001b[0m\u001b[0;34m\u001b[0m\u001b[0m\n\u001b[1;32m     49\u001b[0m             \u001b[0mprint\u001b[0m\u001b[0;34m(\u001b[0m\u001b[0;34mf'{run}_{nb_clusters}: {t2-t1:.2f}sec'\u001b[0m\u001b[0;34m,\u001b[0m \u001b[0mend\u001b[0m\u001b[0;34m=\u001b[0m\u001b[0;34m'\\r'\u001b[0m\u001b[0;34m)\u001b[0m\u001b[0;34m\u001b[0m\u001b[0;34m\u001b[0m\u001b[0m\n",
      "\u001b[0;32m~/Desktop/git/supplements/venv/graco/lib/python3.6/site-packages/pandas/core/generic.py\u001b[0m in \u001b[0;36mto_csv\u001b[0;34m(self, path_or_buf, sep, na_rep, float_format, columns, header, index, index_label, mode, encoding, compression, quoting, quotechar, line_terminator, chunksize, date_format, doublequote, escapechar, decimal)\u001b[0m\n\u001b[1;32m   3226\u001b[0m             \u001b[0mdecimal\u001b[0m\u001b[0;34m=\u001b[0m\u001b[0mdecimal\u001b[0m\u001b[0;34m,\u001b[0m\u001b[0;34m\u001b[0m\u001b[0;34m\u001b[0m\u001b[0m\n\u001b[1;32m   3227\u001b[0m         )\n\u001b[0;32m-> 3228\u001b[0;31m         \u001b[0mformatter\u001b[0m\u001b[0;34m.\u001b[0m\u001b[0msave\u001b[0m\u001b[0;34m(\u001b[0m\u001b[0;34m)\u001b[0m\u001b[0;34m\u001b[0m\u001b[0;34m\u001b[0m\u001b[0m\n\u001b[0m\u001b[1;32m   3229\u001b[0m \u001b[0;34m\u001b[0m\u001b[0m\n\u001b[1;32m   3230\u001b[0m         \u001b[0;32mif\u001b[0m \u001b[0mpath_or_buf\u001b[0m \u001b[0;32mis\u001b[0m \u001b[0;32mNone\u001b[0m\u001b[0;34m:\u001b[0m\u001b[0;34m\u001b[0m\u001b[0;34m\u001b[0m\u001b[0m\n",
      "\u001b[0;32m~/Desktop/git/supplements/venv/graco/lib/python3.6/site-packages/pandas/io/formats/csvs.py\u001b[0m in \u001b[0;36msave\u001b[0;34m(self)\u001b[0m\n\u001b[1;32m    200\u001b[0m                 \u001b[0mself\u001b[0m\u001b[0;34m.\u001b[0m\u001b[0mwriter\u001b[0m \u001b[0;34m=\u001b[0m \u001b[0mUnicodeWriter\u001b[0m\u001b[0;34m(\u001b[0m\u001b[0mf\u001b[0m\u001b[0;34m,\u001b[0m \u001b[0;34m**\u001b[0m\u001b[0mwriter_kwargs\u001b[0m\u001b[0;34m)\u001b[0m\u001b[0;34m\u001b[0m\u001b[0;34m\u001b[0m\u001b[0m\n\u001b[1;32m    201\u001b[0m \u001b[0;34m\u001b[0m\u001b[0m\n\u001b[0;32m--> 202\u001b[0;31m             \u001b[0mself\u001b[0m\u001b[0;34m.\u001b[0m\u001b[0m_save\u001b[0m\u001b[0;34m(\u001b[0m\u001b[0;34m)\u001b[0m\u001b[0;34m\u001b[0m\u001b[0;34m\u001b[0m\u001b[0m\n\u001b[0m\u001b[1;32m    203\u001b[0m \u001b[0;34m\u001b[0m\u001b[0m\n\u001b[1;32m    204\u001b[0m         \u001b[0;32mfinally\u001b[0m\u001b[0;34m:\u001b[0m\u001b[0;34m\u001b[0m\u001b[0;34m\u001b[0m\u001b[0m\n",
      "\u001b[0;32m~/Desktop/git/supplements/venv/graco/lib/python3.6/site-packages/pandas/io/formats/csvs.py\u001b[0m in \u001b[0;36m_save\u001b[0;34m(self)\u001b[0m\n\u001b[1;32m    322\u001b[0m                 \u001b[0;32mbreak\u001b[0m\u001b[0;34m\u001b[0m\u001b[0;34m\u001b[0m\u001b[0m\n\u001b[1;32m    323\u001b[0m \u001b[0;34m\u001b[0m\u001b[0m\n\u001b[0;32m--> 324\u001b[0;31m             \u001b[0mself\u001b[0m\u001b[0;34m.\u001b[0m\u001b[0m_save_chunk\u001b[0m\u001b[0;34m(\u001b[0m\u001b[0mstart_i\u001b[0m\u001b[0;34m,\u001b[0m \u001b[0mend_i\u001b[0m\u001b[0;34m)\u001b[0m\u001b[0;34m\u001b[0m\u001b[0;34m\u001b[0m\u001b[0m\n\u001b[0m\u001b[1;32m    325\u001b[0m \u001b[0;34m\u001b[0m\u001b[0m\n\u001b[1;32m    326\u001b[0m     \u001b[0;32mdef\u001b[0m \u001b[0m_save_chunk\u001b[0m\u001b[0;34m(\u001b[0m\u001b[0mself\u001b[0m\u001b[0;34m,\u001b[0m \u001b[0mstart_i\u001b[0m\u001b[0;34m,\u001b[0m \u001b[0mend_i\u001b[0m\u001b[0;34m)\u001b[0m\u001b[0;34m:\u001b[0m\u001b[0;34m\u001b[0m\u001b[0;34m\u001b[0m\u001b[0m\n",
      "\u001b[0;32m~/Desktop/git/supplements/venv/graco/lib/python3.6/site-packages/pandas/io/formats/csvs.py\u001b[0m in \u001b[0;36m_save_chunk\u001b[0;34m(self, start_i, end_i)\u001b[0m\n\u001b[1;32m    354\u001b[0m         )\n\u001b[1;32m    355\u001b[0m \u001b[0;34m\u001b[0m\u001b[0m\n\u001b[0;32m--> 356\u001b[0;31m         \u001b[0mlibwriters\u001b[0m\u001b[0;34m.\u001b[0m\u001b[0mwrite_csv_rows\u001b[0m\u001b[0;34m(\u001b[0m\u001b[0mself\u001b[0m\u001b[0;34m.\u001b[0m\u001b[0mdata\u001b[0m\u001b[0;34m,\u001b[0m \u001b[0mix\u001b[0m\u001b[0;34m,\u001b[0m \u001b[0mself\u001b[0m\u001b[0;34m.\u001b[0m\u001b[0mnlevels\u001b[0m\u001b[0;34m,\u001b[0m \u001b[0mself\u001b[0m\u001b[0;34m.\u001b[0m\u001b[0mcols\u001b[0m\u001b[0;34m,\u001b[0m \u001b[0mself\u001b[0m\u001b[0;34m.\u001b[0m\u001b[0mwriter\u001b[0m\u001b[0;34m)\u001b[0m\u001b[0;34m\u001b[0m\u001b[0;34m\u001b[0m\u001b[0m\n\u001b[0m",
      "\u001b[0;32mpandas/_libs/writers.pyx\u001b[0m in \u001b[0;36mpandas._libs.writers.write_csv_rows\u001b[0;34m()\u001b[0m\n",
      "\u001b[0;31mOSError\u001b[0m: [Errno 28] No space left on device"
     ]
    }
   ],
   "source": [
    "method = 'kmedoid'\n",
    "\n",
    "for distance in ['all1_normalized1-l1', 'all2_normalized1-l1', \n",
    "                 'all1_normalized1-l2', 'all2_normalized1-l2', \n",
    "                 'all1_normalized1-linf']:\n",
    "    \n",
    "    t1 = time.time()\n",
    "    print(distance)\n",
    "    \n",
    "    CLUSTER_DIRECTORY = f\"{YEAST_DIRECTORY}/clusterings/GCV-DG/{distance}/{method}\"\n",
    "    PVALUE_DIRECTORY  = f\"{YEAST_DIRECTORY}/enrichments/GCV-DG/{distance}/{method}/{namespace}\"\n",
    "    \n",
    "    if not os.path.exists(PVALUE_DIRECTORY):\n",
    "        os.makedirs(PVALUE_DIRECTORY)\n",
    "    \n",
    "    runs = min(get_number_of_pre_runs(CLUSTER_DIRECTORY, distance, MAX_CLUSTERS), MAX_RUNS-1)\n",
    "\n",
    "    for run in range(runs):\n",
    "        for nb_clusters in range(MIN_CLUSTERS, MAX_CLUSTERS):\n",
    "            with open(f\"{CLUSTER_DIRECTORY}/{run}_{nb_clusters}_BioGRID.txt\", 'r') as f:\n",
    "                 cluster_list = [set(line.split()) for line in f]\n",
    "            cluster_df = pd.Series({gene:cluster_idx \n",
    "                                        for cluster_idx,cluster in enumerate(cluster_list) \n",
    "                                        for gene in cluster})\n",
    "\n",
    "            nb_annotated_genes_in_cluster = pd.DataFrame(np.array(\n",
    "                    [ [len(go_genes & cluster) for cluster in cluster_list] for go_genes in GO2genes]),\n",
    "                                                       index   = GO2genes.index,\n",
    "                                                       columns = range(nb_clusters))\n",
    "\n",
    "            \n",
    "            k = nb_annotated_genes_in_cluster\n",
    "            \n",
    "            K = pd.concat([global_GO_counter[GO2genes.index]]*nb_clusters, axis=1)\n",
    "            K.columns = k.columns\n",
    "            \n",
    "            n = pd.concat([pd.DataFrame(map(len, cluster_list)).T]*len(GO2genes))\n",
    "            n.index = k.index\n",
    "            \n",
    "            N = pd.DataFrame(len(PPI), columns=k.columns, index=k.index)\n",
    "            \n",
    "            assert K.eq(k.sum(axis=1), axis=0).all().all()\n",
    "            assert N.eq(n.sum(axis=1), axis=0).all().all()\n",
    "            \n",
    "            # scipy has a really messed up nomeclature... \n",
    "            p_values = pd.DataFrame(1-hypergeom.cdf(k=k-1, M=N, N=n, n=K), index=GO2genes.index)\n",
    "            p_values.to_csv(f\"{PVALUE_DIRECTORY}/{run}_{nb_clusters}_BioGRID.txt\")\n",
    "            t2 = time.time()\n",
    "            print(f'{run}_{nb_clusters}: {t2-t1:.2f}sec', end='\\r')\n",
    "    print()"
   ]
  },
  {
   "cell_type": "code",
   "execution_count": null,
   "metadata": {},
   "outputs": [],
   "source": []
  }
 ],
 "metadata": {
  "kernelspec": {
   "display_name": "graco",
   "language": "python",
   "name": "graco"
  },
  "language_info": {
   "codemirror_mode": {
    "name": "ipython",
    "version": 3
   },
   "file_extension": ".py",
   "mimetype": "text/x-python",
   "name": "python",
   "nbconvert_exporter": "python",
   "pygments_lexer": "ipython3",
   "version": "3.6.8"
  }
 },
 "nbformat": 4,
 "nbformat_minor": 2
}
