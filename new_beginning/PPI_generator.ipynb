{
 "cells": [
  {
   "cell_type": "code",
   "execution_count": 55,
   "metadata": {},
   "outputs": [],
   "source": [
    "from zipfile import ZipFile\n",
    "\n",
    "import os\n",
    "import pandas as pd\n",
    "import networkx as nx"
   ]
  },
  {
   "cell_type": "markdown",
   "metadata": {},
   "source": [
    "# Extract from zip file"
   ]
  },
  {
   "cell_type": "code",
   "execution_count": 2,
   "metadata": {},
   "outputs": [],
   "source": [
    "DATA_DIRECTORY = \"/Users/markusyoussef/Desktop/git/supplements/data/\"\n",
    "RAW_DATA_DIRECTORY = f\"{DATA_DIRECTORY}/raw_data\"\n",
    "PPI_DIRECTORY = f\"{DATA_DIRECTORY}/processed_data/PPIs\"\n",
    "\n",
    "VERSION = \"3.5.184\"\n",
    "BioGRID_FILENAME = f\"BIOGRID-ORGANISM-{VERSION}.tab3.zip\"\n",
    "BioGRID_URL = f\"https://downloads.thebiogrid.org/Download/BioGRID/Release-Archive/BIOGRID-{VERSION}\"\n",
    "BioGRID_FILEPATH = f\"{RAW_DATA_DIRECTORY}/{BioGRID_FILENAME}\" "
   ]
  },
  {
   "cell_type": "code",
   "execution_count": 16,
   "metadata": {},
   "outputs": [],
   "source": [
    "# Unzip Saccharomyces cerevisiae file\n",
    "with ZipFile(BioGRID_FILEPATH, 'r') as z:\n",
    "    for name in z.namelist():\n",
    "        z.extract(name, PPI_DIRECTORY)"
   ]
  },
  {
   "cell_type": "markdown",
   "metadata": {},
   "source": [
    "# Read as dataframes"
   ]
  },
  {
   "cell_type": "code",
   "execution_count": 17,
   "metadata": {},
   "outputs": [],
   "source": [
    "organism_code = {\n",
    "    'cerevisiae': 559292,\n",
    "    'sapiens': 9606\n",
    "}"
   ]
  },
  {
   "cell_type": "code",
   "execution_count": 67,
   "metadata": {},
   "outputs": [
    {
     "name": "stdout",
     "output_type": "stream",
     "text": [
      "5990 112911 Saccharomyces_cerevisiae_S288c\n",
      "2728 4792 Rattus_norvegicus\n",
      "1261 2079 Escherichia_coli_K12_MG1655\n",
      "17829 370709 Homo_sapiens\n",
      "7561 23196 Mus_musculus\n",
      "913 1296 Candida_albicans_SC5314\n",
      "8882 52238 Drosophila_melanogaster\n",
      "10348 48459 Arabidopsis_thaliana_Columbia\n",
      "1218 2499 Plasmodium_falciparum_3D7\n",
      "5336 19404 Caenorhabditis_elegans\n",
      "3412 12234 Schizosaccharomyces_pombe_972h\n",
      "2044 12800 Escherichia_coli_K12_W3110\n",
      "951 1042 Xenopus_laevis\n"
     ]
    }
   ],
   "source": [
    "for file in os.listdir(PPI_DIRECTORY):\n",
    "    organism = file.split('-')[2]\n",
    "    df = pd.read_csv(f\"{PPI_DIRECTORY}/{file}\", \n",
    "                     delimiter  = '\\t',\n",
    "                     low_memory = False)\n",
    "    organism_code = max(df.groupby('Organism Interactor A'), key = lambda x:len(x[1]))[0]\n",
    "    df = df[(df['Organism Interactor A'] == organism_code) & \n",
    "            (df['Organism Interactor B'] == organism_code) &\n",
    "            (df['Experimental System Type'] == 'physical')]\n",
    "    \n",
    "    G = nx.from_pandas_edgelist(df, source = 'BioGRID ID Interactor A', \n",
    "                                    target = 'BioGRID ID Interactor B')\n",
    "    \n",
    "    N = G.number_of_nodes()\n",
    "    E = G.number_of_edges()\n",
    "    \n",
    "    print(N, E, organism)\n",
    "    \n",
    "    nx.write_edgelist(G, f\"/Users/markusyoussef/Desktop/git/supplements/data/networks/PPI/{organism}.txt\")"
   ]
  },
  {
   "cell_type": "code",
   "execution_count": null,
   "metadata": {},
   "outputs": [],
   "source": []
  },
  {
   "cell_type": "code",
   "execution_count": null,
   "metadata": {},
   "outputs": [],
   "source": [
    "yeast_organisms = {'Candida_albicans_SC5314',\n",
    "                   'Schizosaccharomyces_pombe', \n",
    "                   'Saccharomyces_cerevisiae'}"
   ]
  }
 ],
 "metadata": {
  "kernelspec": {
   "display_name": "graco",
   "language": "python",
   "name": "graco"
  },
  "language_info": {
   "codemirror_mode": {
    "name": "ipython",
    "version": 3
   },
   "file_extension": ".py",
   "mimetype": "text/x-python",
   "name": "python",
   "nbconvert_exporter": "python",
   "pygments_lexer": "ipython3",
   "version": "3.7.4"
  }
 },
 "nbformat": 4,
 "nbformat_minor": 2
}
