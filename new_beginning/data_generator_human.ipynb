{
 "cells": [
  {
   "cell_type": "code",
   "execution_count": 1,
   "metadata": {},
   "outputs": [],
   "source": [
    "from goatools import obo_parser\n",
    "from zipfile import ZipFile\n",
    "\n",
    "import os\n",
    "import gzip\n",
    "import graco\n",
    "import shutil\n",
    "import requests\n",
    "import numpy as np\n",
    "import pandas as pd\n",
    "import networkx as nx\n",
    "import Bio.UniProt.GOA as GOA"
   ]
  },
  {
   "cell_type": "code",
   "execution_count": 2,
   "metadata": {},
   "outputs": [],
   "source": [
    "pd.set_option(\"display.max_columns\", 50)\n",
    "pd.set_option(\"display.max_rows\", 50)\n",
    "\n",
    "DATA_DIRECTORY = \"/Users/markusyoussef/Desktop/git/supplements/data\"\n",
    "RAW_DATA_DIRECTORY = f\"{DATA_DIRECTORY}/raw_data\"\n",
    "HUMAN_DIRECTORY = f\"{DATA_DIRECTORY}/processed_data/human\"\n",
    "NETWORK_DIRECTORY = f\"{HUMAN_DIRECTORY}/networks\"\n",
    "ANNOTATION_DIRECTORY = f\"{HUMAN_DIRECTORY}/annotations\""
   ]
  },
  {
   "cell_type": "markdown",
   "metadata": {},
   "source": [
    "# Downloads"
   ]
  },
  {
   "cell_type": "markdown",
   "metadata": {},
   "source": [
    "## BioGRID"
   ]
  },
  {
   "cell_type": "code",
   "execution_count": 5,
   "metadata": {},
   "outputs": [],
   "source": [
    "if not os.path.exists(RAW_DATA_DIRECTORY):\n",
    "     os.makedirs(RAW_DATA_DIRECTORY)\n",
    "\n",
    "VERSION = \"3.5.184\"\n",
    "BioGRID_FILENAME = f\"BIOGRID-ORGANISM-{VERSION}.tab3.zip\"\n",
    "BioGRID_URL = f\"https://downloads.thebiogrid.org/Download/BioGRID/Release-Archive/BIOGRID-{VERSION}\"\n",
    "BioGRID_FILEPATH = f\"{RAW_DATA_DIRECTORY}/{BioGRID_FILENAME}\" "
   ]
  },
  {
   "cell_type": "code",
   "execution_count": 23,
   "metadata": {},
   "outputs": [],
   "source": [
    "# Download\n",
    "r = requests.get(f\"{BioGRID_URL}/{BioGRID_FILENAME}\", allow_redirects=True)\n",
    "with open(BioGRID_FILEPATH, 'wb') as f:\n",
    "    f.write(r.content)"
   ]
  },
  {
   "cell_type": "markdown",
   "metadata": {},
   "source": [
    "### Select H. Sapiens"
   ]
  },
  {
   "cell_type": "code",
   "execution_count": 6,
   "metadata": {},
   "outputs": [],
   "source": [
    "# Unzip Homo Sapiens file\n",
    "with ZipFile(BioGRID_FILEPATH, 'r') as z:\n",
    "    BioGRID_sc_FILENAME, = [name for name in z.namelist() if 'sapiens' in name.lower()]\n",
    "    z.extract(BioGRID_sc_FILENAME, RAW_DATA_DIRECTORY)"
   ]
  },
  {
   "cell_type": "markdown",
   "metadata": {},
   "source": [
    "### Human annotations (EBI)"
   ]
  },
  {
   "cell_type": "code",
   "execution_count": 7,
   "metadata": {},
   "outputs": [],
   "source": [
    "EBI_FILENAME = \"goa_human.gaf.gz\"\n",
    "EBI_URL = \"http://geneontology.org/gene-associations\"\n",
    "EBI_FILEPATH = f\"{RAW_DATA_DIRECTORY}/{EBI_FILENAME}\""
   ]
  },
  {
   "cell_type": "code",
   "execution_count": 8,
   "metadata": {},
   "outputs": [],
   "source": [
    "# Download\n",
    "r = requests.get(f\"{EBI_URL}/{EBI_FILENAME}\", allow_redirects=True)\n",
    "with open(EBI_FILEPATH, 'wb') as f:\n",
    "    f.write(r.content)"
   ]
  },
  {
   "cell_type": "markdown",
   "metadata": {},
   "source": [
    "### GO"
   ]
  },
  {
   "cell_type": "code",
   "execution_count": 27,
   "metadata": {},
   "outputs": [],
   "source": [
    "GO_FILENAME = \"go.obo\"\n",
    "GO_URL = \"http://purl.obolibrary.org/obo/go\"\n",
    "GO_FILEPATH = f\"{RAW_DATA_DIRECTORY}/{GO_FILENAME}\""
   ]
  },
  {
   "cell_type": "code",
   "execution_count": 28,
   "metadata": {},
   "outputs": [],
   "source": [
    "# Download\n",
    "r = requests.get(f\"{GO_URL}/{GO_FILENAME}\", allow_redirects=True)\n",
    "with open(GO_FILEPATH, 'wb') as f:\n",
    "    f.write(r.content)"
   ]
  },
  {
   "cell_type": "markdown",
   "metadata": {},
   "source": [
    "# Full PPI (BioGRID)"
   ]
  },
  {
   "cell_type": "markdown",
   "metadata": {},
   "source": [
    "### Load BioGRID as dataframe"
   ]
  },
  {
   "cell_type": "code",
   "execution_count": 9,
   "metadata": {},
   "outputs": [],
   "source": [
    "VERSION = \"3.5.184\""
   ]
  },
  {
   "cell_type": "code",
   "execution_count": 11,
   "metadata": {},
   "outputs": [],
   "source": [
    "VERSION = \"3.5.184\"\n",
    "\n",
    "# load BioGRID file as dataframe\n",
    "organism_FILENAME = f\"BIOGRID-ORGANISM-Homo_sapiens-{VERSION}.tab3.txt\"\n",
    "organism_FILEPATH = f\"{RAW_DATA_DIRECTORY}/{organism_FILENAME}\"\n",
    "\n",
    "# remove entrez_id column and score_column because of mixed datatypes \n",
    "BioGRID_df = pd.read_csv(organism_FILEPATH, delimiter='\\t',\n",
    "                           usecols=[index for index in range(24) if index not in {1,2,18}])"
   ]
  },
  {
   "cell_type": "markdown",
   "metadata": {},
   "source": [
    "### Flilter for evidence code"
   ]
  },
  {
   "cell_type": "code",
   "execution_count": 12,
   "metadata": {},
   "outputs": [],
   "source": [
    "# Filter for (reliable) physical interactions\n",
    "EXPERIMENTAL_SYSTEM = {'Two-hybrid', \n",
    "                       'Affinity Capture-Luminescence',\n",
    "                       'Affinity Capture-MS', \n",
    "                       'Affinity Capture-RNA', \n",
    "                       'Affinity Capture-Western'}\n",
    "\n",
    "physical_interaction_df = BioGRID_df[BioGRID_df['Experimental System'].isin(EXPERIMENTAL_SYSTEM)]\n",
    "\n",
    "# Check if all evidence codes measure physical interactions\n",
    "EXPERIMENTAL_SYSTEM_TYPE = {'physical'} \n",
    "assert physical_interaction_df['Experimental System Type'].isin(EXPERIMENTAL_SYSTEM_TYPE).all()"
   ]
  },
  {
   "cell_type": "markdown",
   "metadata": {},
   "source": [
    "### Define PPI"
   ]
  },
  {
   "cell_type": "code",
   "execution_count": 13,
   "metadata": {},
   "outputs": [],
   "source": [
    "# Reduce PPI to simple network\n",
    "PPI_nx = nx.from_pandas_edgelist(physical_interaction_df,\n",
    "                                 'BioGRID ID Interactor A', \n",
    "                                 'BioGRID ID Interactor B')\n",
    "PPI_nx.remove_edges_from(nx.selfloop_edges(PPI_nx))\n",
    "PPI_nx = nx.induced_subgraph(PPI_nx, max(nx.connected_components(PPI_nx), key=len))"
   ]
  },
  {
   "cell_type": "markdown",
   "metadata": {},
   "source": [
    "### Summary"
   ]
  },
  {
   "cell_type": "code",
   "execution_count": 14,
   "metadata": {},
   "outputs": [
    {
     "name": "stdout",
     "output_type": "stream",
     "text": [
      "PPI nodes  :  22573\n",
      "PPI edges  : 321276\n",
      "PPI density: 0.0013\n"
     ]
    }
   ],
   "source": [
    "print(f\"PPI nodes  : {PPI_nx.number_of_nodes():>6d}\")\n",
    "print(f\"PPI edges  : {PPI_nx.number_of_edges():>6d}\")\n",
    "print(f\"PPI density: {nx.density(PPI_nx):.4f}\")"
   ]
  },
  {
   "cell_type": "markdown",
   "metadata": {},
   "source": [
    "### Save"
   ]
  },
  {
   "cell_type": "code",
   "execution_count": 15,
   "metadata": {},
   "outputs": [],
   "source": [
    "if not os.path.exists(NETWORK_DIRECTORY):\n",
    "    os.makedirs(NETWORK_DIRECTORY)\n",
    "\n",
    "nx.write_edgelist(PPI_nx, f\"{NETWORK_DIRECTORY}/full_PPI_BioGRID.txt\", data=False)"
   ]
  },
  {
   "cell_type": "markdown",
   "metadata": {},
   "source": [
    "# Official PPI (BioGRID)"
   ]
  },
  {
   "cell_type": "code",
   "execution_count": 17,
   "metadata": {},
   "outputs": [],
   "source": [
    "df = pd.read_csv(f\"{RAW_DATA_DIRECTORY}/BIOGRID-IDENTIFIERS-3.5.184.tab.txt\", \n",
    "                 header=20, \n",
    "                 delimiter='\\t')\n",
    "df = df[df.ORGANISM_OFFICIAL_NAME == 'Homo sapiens']\n",
    "df.to_csv(f\"{RAW_DATA_DIRECTORY}/BIOGRID_HS_IDENTIFIERS-3.5.184.csv\")"
   ]
  },
  {
   "cell_type": "markdown",
   "metadata": {},
   "source": [
    "### Define official dictionary"
   ]
  },
  {
   "cell_type": "code",
   "execution_count": 19,
   "metadata": {},
   "outputs": [
    {
     "name": "stderr",
     "output_type": "stream",
     "text": [
      "/Users/markusyoussef/Desktop/git/supplements/venv/graco/lib/python3.7/site-packages/numpy/lib/arraysetops.py:569: FutureWarning: elementwise comparison failed; returning scalar instead, but in the future will perform elementwise comparison\n",
      "  mask |= (ar1 == a)\n"
     ]
    }
   ],
   "source": [
    "identifier_df = pd.read_csv(f\"{RAW_DATA_DIRECTORY}/BIOGRID_HS_IDENTIFIERS-{VERSION}.csv\", index_col=0)\n",
    "identifier_df = identifier_df[identifier_df.IDENTIFIER_TYPE == 'OFFICIAL SYMBOL']\n",
    "identifier_s = pd.Series(identifier_df.IDENTIFIER_VALUE.values, index=identifier_df.BIOGRID_ID)"
   ]
  },
  {
   "cell_type": "markdown",
   "metadata": {},
   "source": [
    "### Define official PPI"
   ]
  },
  {
   "cell_type": "code",
   "execution_count": 24,
   "metadata": {},
   "outputs": [],
   "source": [
    "PPI_nx = nx.read_edgelist(f\"{NETWORK_DIRECTORY}/full_PPI_BioGRID.txt\", nodetype=int)\n",
    "\n",
    "off_PPI_nx = nx.relabel_nodes(PPI_nx, identifier_s)\n",
    "\n",
    "nodes = filter(lambda x:isinstance(x,str), off_PPI_nx.nodes())\n",
    "off_PPI_nx = nx.induced_subgraph(off_PPI_nx, nodes)\n",
    "off_PPI_nx = nx.induced_subgraph(off_PPI_nx,\n",
    "                                 max(nx.connected_components(off_PPI_nx), \n",
    "                                     key=len))"
   ]
  },
  {
   "cell_type": "markdown",
   "metadata": {},
   "source": [
    "### Summary"
   ]
  },
  {
   "cell_type": "code",
   "execution_count": 25,
   "metadata": {},
   "outputs": [
    {
     "name": "stdout",
     "output_type": "stream",
     "text": [
      "    full PPI nodes  :  22573\n",
      "    full PPI edges  : 321276\n",
      "    full PPI density: 0.0013\n",
      "------------------------------\n",
      "official PPI nodes  :  17245\n",
      "official PPI edges  : 294344\n",
      "official PPI density: 0.0020\n"
     ]
    }
   ],
   "source": [
    "print(f\"    full PPI nodes  : {PPI_nx.number_of_nodes():>6d}\")\n",
    "print(f\"    full PPI edges  : {PPI_nx.number_of_edges():>6d}\")\n",
    "print(f\"    full PPI density: {nx.density(PPI_nx):.4f}\")\n",
    "print('------------------------------')\n",
    "print(f\"official PPI nodes  : {off_PPI_nx.number_of_nodes():>6d}\")\n",
    "print(f\"official PPI edges  : {off_PPI_nx.number_of_edges():>6d}\")\n",
    "print(f\"official PPI density: {nx.density(off_PPI_nx):.4f}\")"
   ]
  },
  {
   "cell_type": "markdown",
   "metadata": {},
   "source": [
    "### Save"
   ]
  },
  {
   "cell_type": "code",
   "execution_count": 26,
   "metadata": {},
   "outputs": [],
   "source": [
    "if not os.path.exists(NETWORK_DIRECTORY):\n",
    "    os.makedirs(NETWORK_DIRECTORY)\n",
    "\n",
    "nx.write_edgelist(off_PPI_nx, f\"{NETWORK_DIRECTORY}/official_PPI_BioGRID.txt\", data=False)"
   ]
  },
  {
   "cell_type": "markdown",
   "metadata": {},
   "source": [
    "---"
   ]
  },
  {
   "cell_type": "markdown",
   "metadata": {},
   "source": [
    "## Old code"
   ]
  },
  {
   "cell_type": "code",
   "execution_count": 31,
   "metadata": {},
   "outputs": [],
   "source": [
    "# BioGRID universe is the collection of every gene known to BioGRID\n",
    "universe = set(BioGRID_df['BioGRID ID Interactor A']) | \\\n",
    "           set(BioGRID_df['BioGRID ID Interactor B'])\n",
    "\n",
    "symbol_universe = set(BioGRID_df['Official Symbol Interactor A']) | \\\n",
    "                  set(BioGRID_df['Official Symbol Interactor B'])"
   ]
  },
  {
   "cell_type": "code",
   "execution_count": 32,
   "metadata": {},
   "outputs": [],
   "source": [
    "# Filter for (reliable) physical interactions\n",
    "EXPERIMENTAL_SYSTEM = {'Two-hybrid', \n",
    "                       'Affinity Capture-Luminescence',\n",
    "                       'Affinity Capture-MS', \n",
    "                       'Affinity Capture-RNA', \n",
    "                       'Affinity Capture-Western'}\n",
    "EXPERIMENTAL_SYSTEM_TYPE = {'physical'} # redundant because of experimental evidence filtering\n",
    "\n",
    "physical_interaction_df = BioGRID_df[BioGRID_df['Experimental System'].isin(EXPERIMENTAL_SYSTEM)]\n",
    "physical_interaction_df = physical_interaction_df[\n",
    "    physical_interaction_df['Experimental System Type'].isin(EXPERIMENTAL_SYSTEM_TYPE)] # just in case...\n",
    "\n",
    "\n",
    "physical_universe = set(physical_interaction_df['BioGRID ID Interactor A']) | \\\n",
    "                    set(physical_interaction_df['BioGRID ID Interactor B'])\n",
    "\n",
    "symbol_physical_universe = set(physical_interaction_df['Official Symbol Interactor A']) | \\\n",
    "                           set(physical_interaction_df['Official Symbol Interactor B'])"
   ]
  },
  {
   "cell_type": "markdown",
   "metadata": {},
   "source": [
    "### Define PPI"
   ]
  },
  {
   "cell_type": "code",
   "execution_count": 33,
   "metadata": {},
   "outputs": [],
   "source": [
    "# PPI in dataframe\n",
    "PPI_df = physical_interaction_df[\n",
    "    (physical_interaction_df['Organism Interactor A'] == 9606) & \\\n",
    "    (physical_interaction_df['Organism Interactor B'] == 9606)]\n",
    "\n",
    "PPI_universe = set(PPI_df['Official Symbol Interactor A']) | \\\n",
    "               set(PPI_df['Official Symbol Interactor B'])"
   ]
  },
  {
   "cell_type": "code",
   "execution_count": 34,
   "metadata": {},
   "outputs": [],
   "source": [
    "# Reduce PPI to simple network\n",
    "PPI_nx = nx.from_pandas_edgelist(PPI_df,'Official Symbol Interactor A', 'Official Symbol Interactor B')\n",
    "PPI_nx.remove_edges_from(nx.selfloop_edges(PPI_nx))"
   ]
  },
  {
   "cell_type": "markdown",
   "metadata": {},
   "source": [
    "### Summary"
   ]
  },
  {
   "cell_type": "code",
   "execution_count": 35,
   "metadata": {},
   "outputs": [
    {
     "name": "stdout",
     "output_type": "stream",
     "text": [
      "BioGRID universe sizes:\n",
      "=========================\n",
      "  -       -    : 24277\n",
      "symbol    -    : 23416\n",
      "  -    physical: 22332\n",
      "symbol physical: 21799\n",
      "-------------------------\n",
      "PPI population size: 17137\n"
     ]
    }
   ],
   "source": [
    "print(\"BioGRID universe sizes:\")\n",
    "print(\"=========================\")\n",
    "print(f\"  -       -    : {len(universe)}\")\n",
    "print(f\"symbol    -    : {len(symbol_universe)}\")\n",
    "print(f\"  -    physical: {len(physical_universe)}\")\n",
    "print(f\"symbol physical: {len(symbol_physical_universe)}\")\n",
    "print(\"-------------------------\")\n",
    "print(f\"PPI population size: {PPI_nx.number_of_nodes()}\")"
   ]
  },
  {
   "cell_type": "markdown",
   "metadata": {},
   "source": [
    "### Save"
   ]
  },
  {
   "cell_type": "code",
   "execution_count": 38,
   "metadata": {},
   "outputs": [],
   "source": [
    "if not os.path.exists(NETWORK_DIRECTORY):\n",
    "    os.makedirs(NETWORK_DIRECTORY)\n",
    "    \n",
    "nx.write_edgelist(PPI_nx, f\"{NETWORK_DIRECTORY}/PPI_BioGRID.txt\", data=False)"
   ]
  },
  {
   "cell_type": "markdown",
   "metadata": {},
   "source": [
    "# Annotations"
   ]
  },
  {
   "cell_type": "markdown",
   "metadata": {},
   "source": [
    "## EBI (H. Sapiens)"
   ]
  },
  {
   "cell_type": "code",
   "execution_count": 3,
   "metadata": {},
   "outputs": [],
   "source": [
    "EBI_FILENAME = \"goa_human.gaf.gz\"\n",
    "EBI_FILEPATH = f\"{RAW_DATA_DIRECTORY}/{EBI_FILENAME}\"\n",
    "\n",
    "# load SGD gaf-file as dataframe \n",
    "with gzip.open(EBI_FILEPATH, 'rt') as gz:\n",
    "    EBI_df = pd.DataFrame(annotation for annotation in GOA.gafiterator(gz))"
   ]
  },
  {
   "cell_type": "code",
   "execution_count": 4,
   "metadata": {},
   "outputs": [],
   "source": [
    "# Filter for proteins\n",
    "lc_protein_gaf_df = EBI_df[EBI_df.DB_Object_Type == 'protein']\n",
    "\n",
    "# Filter through evidence code\n",
    "protein_gaf_df = lc_protein_gaf_df[lc_protein_gaf_df['Evidence'].isin(['EXP', 'IDA', 'IPI', 'IMP', 'IGI', 'IEP'])]\n",
    "\n",
    "# Split into the three GOs\n",
    "protein_BP_gaf_df = protein_gaf_df[protein_gaf_df['Aspect']=='P']\n",
    "protein_MF_gaf_df = protein_gaf_df[protein_gaf_df['Aspect']=='F']\n",
    "protein_CC_gaf_df = protein_gaf_df[protein_gaf_df['Aspect']=='C']"
   ]
  },
  {
   "cell_type": "code",
   "execution_count": 5,
   "metadata": {},
   "outputs": [],
   "source": [
    "# Get rid of all unnecesarry columns in the GAFs\n",
    "high_IC_annotations_df = protein_gaf_df[['DB_Object_Symbol', 'GO_ID']].dropna().drop_duplicates()\n",
    "\n",
    "# Split into the three GOs\n",
    "high_IC_BP_annotations_df = protein_BP_gaf_df[['DB_Object_Symbol', 'GO_ID']].dropna().drop_duplicates()\n",
    "high_IC_MF_annotations_df = protein_MF_gaf_df[['DB_Object_Symbol', 'GO_ID']].dropna().drop_duplicates()\n",
    "high_IC_CC_annotations_df = protein_CC_gaf_df[['DB_Object_Symbol', 'GO_ID']].dropna().drop_duplicates()"
   ]
  },
  {
   "cell_type": "markdown",
   "metadata": {},
   "source": [
    "### GO DAG extention (Human2GO)"
   ]
  },
  {
   "cell_type": "code",
   "execution_count": 6,
   "metadata": {},
   "outputs": [
    {
     "name": "stdout",
     "output_type": "stream",
     "text": [
      "/Users/markusyoussef/Desktop/git/supplements/data/raw_data/go.obo: fmt(1.2) rel(2020-04-23) 47,239 GO Terms\n"
     ]
    }
   ],
   "source": [
    "# Load obo and gaf files\n",
    "GO_FILENAME = \"go.obo\"\n",
    "GO_FILEPATH = f\"{RAW_DATA_DIRECTORY}/{GO_FILENAME}\"\n",
    "\n",
    "# Create annotations with all upstream terms in dict\n",
    "go_dag = obo_parser.GODag(GO_FILEPATH)\n",
    "go2parents = {go_id:{*go_dag[go_id].get_all_parents(), go_id} for go_id in go_dag.keys()}"
   ]
  },
  {
   "cell_type": "code",
   "execution_count": 7,
   "metadata": {},
   "outputs": [],
   "source": [
    "# Create full list/dataframe of annotations\n",
    "all_annotations_list = [(gene_id, go_term, go_dag[go_term].level) \n",
    "                                for _, (gene_id, go_id) in high_IC_annotations_df.iterrows()\n",
    "                                    for go_term in go2parents[go_id]]\n",
    "all_annotations_df = pd.DataFrame(\n",
    "                            all_annotations_list,  \n",
    "                            columns = ['DB_Object_Symbol', 'GO_ID', 'Level']).drop_duplicates()\n",
    "\n",
    "# Split into the three GOs\n",
    "all_BP_annotations_list = [entry for entry in all_annotations_list \n",
    "                               if go_dag[entry[1]].namespace == \"biological_process\"]\n",
    "all_MF_annotations_list = [entry for entry in all_annotations_list \n",
    "                               if go_dag[entry[1]].namespace == \"molecular_function\"]\n",
    "all_CC_annotations_list = [entry for entry in all_annotations_list \n",
    "                               if go_dag[entry[1]].namespace == \"cellular_component\"]\n",
    "\n",
    "all_BP_annotations_df = pd.DataFrame(\n",
    "                            all_BP_annotations_list,  \n",
    "                            columns = ['DB_Object_Symbol', 'GO_ID', 'Level']).drop_duplicates()\n",
    "all_MF_annotations_df = pd.DataFrame(\n",
    "                            all_MF_annotations_list,  \n",
    "                            columns = ['DB_Object_Symbol', 'GO_ID', 'Level']).drop_duplicates()\n",
    "all_CC_annotations_df = pd.DataFrame(\n",
    "                            all_CC_annotations_list,  \n",
    "                            columns = ['DB_Object_Symbol', 'GO_ID', 'Level']).drop_duplicates()"
   ]
  },
  {
   "cell_type": "markdown",
   "metadata": {},
   "source": [
    "### Summary"
   ]
  },
  {
   "cell_type": "code",
   "execution_count": 8,
   "metadata": {},
   "outputs": [
    {
     "name": "stdout",
     "output_type": "stream",
     "text": [
      "EBI universe sizes:\n",
      "============================================\n",
      "Biological Process : 9172 genes, 11263 GO-IDs \n",
      "Molecular Functions: 12204 genes, 3590 GO-IDs \n",
      "Cellular Components: 10216 genes, 1439  GO-IDs \n",
      "--------------------------------------------\n",
      "All annotations    : 14064 genes, 16292 GO-IDs \n"
     ]
    }
   ],
   "source": [
    "print(\"EBI universe sizes:\")\n",
    "print(\"============================================\")\n",
    "print(\"Biological Process : \" \n",
    "    f\"{len(set(map(lambda x:x[0],all_BP_annotations_list)))} genes, \"\n",
    "    f\"{len(set(map(lambda x:x[1],all_BP_annotations_list)))} GO-IDs \")\n",
    "print(\"Molecular Functions: \" \n",
    "    f\"{len(set(map(lambda x:x[0],all_MF_annotations_list)))} genes, \"\n",
    "    f\"{len(set(map(lambda x:x[1],all_MF_annotations_list)))} GO-IDs \")\n",
    "print(\"Cellular Components: \" \n",
    "    f\"{len(set(map(lambda x:x[0],all_CC_annotations_list)))} genes, \"\n",
    "    f\"{len(set(map(lambda x:x[1],all_CC_annotations_list)))}  GO-IDs \")\n",
    "print('--------------------------------------------')\n",
    "print(\"All annotations    : \" \n",
    "    f\"{len(set(map(lambda x:x[0],all_annotations_list)))} genes, \"\n",
    "    f\"{len(set(map(lambda x:x[1],all_annotations_list)))} GO-IDs \")"
   ]
  },
  {
   "cell_type": "markdown",
   "metadata": {},
   "source": [
    "### Save"
   ]
  },
  {
   "cell_type": "code",
   "execution_count": 10,
   "metadata": {},
   "outputs": [],
   "source": [
    "if not os.path.exists(ANNOTATION_DIRECTORY):\n",
    "    os.makedirs(ANNOTATION_DIRECTORY)\n",
    "\n",
    "all_annotations_df.to_csv(f\"{ANNOTATION_DIRECTORY}/GO_all_official_EBI.csv\", index=False)\n",
    "\n",
    "all_BP_annotations_df.to_csv(f\"{ANNOTATION_DIRECTORY}/GO_BP_official_EBI.csv\", index=False)\n",
    "all_MF_annotations_df.to_csv(f\"{ANNOTATION_DIRECTORY}/GO_MF_official_EBI.csv\", index=False)\n",
    "all_CC_annotations_df.to_csv(f\"{ANNOTATION_DIRECTORY}/GO_CC_official_EBI.csv\", index=False)"
   ]
  },
  {
   "cell_type": "markdown",
   "metadata": {},
   "source": [
    "## BioGRID $\\cap$ EBI"
   ]
  },
  {
   "cell_type": "code",
   "execution_count": 13,
   "metadata": {},
   "outputs": [],
   "source": [
    "PPI_nx = nx.read_edgelist(f\"{NETWORK_DIRECTORY}/official_PPI_BioGRID.txt\")\n",
    "\n",
    "all_annotations_df = pd.read_csv(f\"{ANNOTATION_DIRECTORY}/GO_all_official_EBI.csv\")\n",
    "\n",
    "all_BP_annotations_df = pd.read_csv(f\"{ANNOTATION_DIRECTORY}/GO_BP_official_EBI.csv\")\n",
    "all_MF_annotations_df = pd.read_csv(f\"{ANNOTATION_DIRECTORY}/GO_MF_official_EBI.csv\")\n",
    "all_CC_annotations_df = pd.read_csv(f\"{ANNOTATION_DIRECTORY}/GO_CC_official_EBI.csv\")"
   ]
  },
  {
   "cell_type": "code",
   "execution_count": 14,
   "metadata": {},
   "outputs": [],
   "source": [
    "PPI_annotations_df = all_annotations_df[all_annotations_df.DB_Object_Symbol.isin(PPI_nx.nodes)]\n",
    "\n",
    "PPI_BP_annotations_df = all_BP_annotations_df[all_BP_annotations_df.DB_Object_Symbol.isin(PPI_nx.nodes)]\n",
    "PPI_MF_annotations_df = all_MF_annotations_df[all_MF_annotations_df.DB_Object_Symbol.isin(PPI_nx.nodes)]\n",
    "PPI_CC_annotations_df = all_CC_annotations_df[all_CC_annotations_df.DB_Object_Symbol.isin(PPI_nx.nodes)]"
   ]
  },
  {
   "cell_type": "markdown",
   "metadata": {},
   "source": [
    "### Summary"
   ]
  },
  {
   "cell_type": "code",
   "execution_count": 15,
   "metadata": {},
   "outputs": [
    {
     "name": "stdout",
     "output_type": "stream",
     "text": [
      "EBI ∩ BioGRID universe sizes:\n",
      "============================================\n",
      "Biological Process : 8186 genes, 10988 GO-IDs \n",
      "Molecular Functions: 11072 genes, 3452 GO-IDs \n",
      "Cellular Components: 9159 genes, 1417  GO-IDs \n",
      "--------------------------------------------\n",
      "All annotations    : 12490 genes, 15857 GO-IDs \n"
     ]
    }
   ],
   "source": [
    "print(r\"EBI ∩ BioGRID universe sizes:\")\n",
    "print(\"============================================\")\n",
    "print(\"Biological Process : \" \n",
    "    f\"{len(set(PPI_BP_annotations_df.DB_Object_Symbol))} genes, \"\n",
    "    f\"{len(set(PPI_BP_annotations_df.GO_ID))} GO-IDs \")\n",
    "print(\"Molecular Functions: \" \n",
    "    f\"{len(set(PPI_MF_annotations_df.DB_Object_Symbol))} genes, \"\n",
    "    f\"{len(set(PPI_MF_annotations_df.GO_ID))} GO-IDs \")\n",
    "print(\"Cellular Components: \" \n",
    "    f\"{len(set(PPI_CC_annotations_df.DB_Object_Symbol))} genes, \"\n",
    "    f\"{len(set(PPI_CC_annotations_df.GO_ID))}  GO-IDs \")\n",
    "print('--------------------------------------------')\n",
    "print(\"All annotations    : \" \n",
    "    f\"{len(set(PPI_annotations_df.DB_Object_Symbol))} genes, \"\n",
    "    f\"{len(set(PPI_annotations_df.GO_ID))} GO-IDs \")"
   ]
  },
  {
   "cell_type": "markdown",
   "metadata": {},
   "source": [
    "### Save"
   ]
  },
  {
   "cell_type": "code",
   "execution_count": 16,
   "metadata": {},
   "outputs": [],
   "source": [
    "PPI_annotations_df.to_csv(f\"{ANNOTATION_DIRECTORY}/GO_all_official_BioGRID-EBI.csv\", index=False)\n",
    "\n",
    "PPI_BP_annotations_df.to_csv(f\"{ANNOTATION_DIRECTORY}/GO_BP_official_BioGRID-EBI.csv\", index=False)\n",
    "PPI_MF_annotations_df.to_csv(f\"{ANNOTATION_DIRECTORY}/GO_MF_official_BioGRID-EBI.csv\", index=False)\n",
    "PPI_CC_annotations_df.to_csv(f\"{ANNOTATION_DIRECTORY}/GO_CC_official_BioGRID-EBI.csv\", index=False)"
   ]
  },
  {
   "cell_type": "code",
   "execution_count": null,
   "metadata": {},
   "outputs": [],
   "source": []
  }
 ],
 "metadata": {
  "kernelspec": {
   "display_name": "graco",
   "language": "python",
   "name": "graco"
  },
  "language_info": {
   "codemirror_mode": {
    "name": "ipython",
    "version": 3
   },
   "file_extension": ".py",
   "mimetype": "text/x-python",
   "name": "python",
   "nbconvert_exporter": "python",
   "pygments_lexer": "ipython3",
   "version": "3.7.4"
  }
 },
 "nbformat": 4,
 "nbformat_minor": 2
}
