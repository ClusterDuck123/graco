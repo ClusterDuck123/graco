{
 "cells": [
  {
   "cell_type": "code",
   "execution_count": 1,
   "metadata": {},
   "outputs": [],
   "source": [
    "from goatools import obo_parser\n",
    "from scipy.spatial.distance import squareform\n",
    "from statsmodels.distributions.empirical_distribution import ECDF\n",
    "\n",
    "import graco\n",
    "import random\n",
    "import numpy as np\n",
    "import pandas as pd\n",
    "import networkx as nx\n",
    "import seaborn as sns\n",
    "import matplotlib.pyplot as plt"
   ]
  },
  {
   "cell_type": "code",
   "execution_count": 2,
   "metadata": {},
   "outputs": [],
   "source": [
    "DATA_DIRECTORY = \"/media/clusterduck123/joe/data\"\n",
    "RAW_DATA_DIRECTORY = f\"{DATA_DIRECTORY}/raw-data\"\n",
    "YEAST_DIRECTORY = f\"{DATA_DIRECTORY}/processed-data/yeast\"\n",
    "NETWORK_DIRECTORY = f\"{YEAST_DIRECTORY}/networks\"\n",
    "ANNOTATION_DIRECTORY = f\"{YEAST_DIRECTORY}/annotations\""
   ]
  },
  {
   "cell_type": "markdown",
   "metadata": {},
   "source": [
    "# Load data"
   ]
  },
  {
   "cell_type": "markdown",
   "metadata": {},
   "source": [
    "## PPI"
   ]
  },
  {
   "cell_type": "code",
   "execution_count": 3,
   "metadata": {},
   "outputs": [],
   "source": [
    "PPI_nx = nx.read_edgelist(f\"{NETWORK_DIRECTORY}/PPI_BioGRID.txt\")\n",
    "GDV = graco.orbits(PPI_nx)\n",
    "GCV = graco.coefficients(GDV)"
   ]
  },
  {
   "cell_type": "markdown",
   "metadata": {},
   "source": [
    "## Annotations"
   ]
  },
  {
   "cell_type": "code",
   "execution_count": 4,
   "metadata": {},
   "outputs": [
    {
     "name": "stdout",
     "output_type": "stream",
     "text": [
      "/media/clusterduck123/joe/data/raw-data/go-basic.obo: fmt(1.2) rel(2019-10-07) 47,285 GO Terms\n"
     ]
    }
   ],
   "source": [
    "aspect = 'BP'\n",
    "PPI = nx.read_edgelist(f\"{NETWORK_DIRECTORY}/PPI_BioGRID.txt\")\n",
    "annotation_df = pd.read_csv(f\"{ANNOTATION_DIRECTORY}/GO_{aspect}_BioGRID-SGD.csv\")\n",
    "go_dag = obo_parser.GODag(f\"{RAW_DATA_DIRECTORY}/go-basic.obo\")\n",
    "\n",
    "gene_population = set(PPI.nodes())\n",
    "GO_population = set(annotation_df.GO_ID)"
   ]
  },
  {
   "cell_type": "code",
   "execution_count": 5,
   "metadata": {},
   "outputs": [],
   "source": [
    "# Conversion dictionaries\n",
    "GO2genes = pd.Series({go_id: set(genes.Systematic_ID) for go_id, genes in annotation_df.groupby('GO_ID')}, \n",
    "                     name='nb_genes')\n",
    "\n",
    "gene2GO  = {gene : set(go_ids.GO_ID) for gene, go_ids in annotation_df.groupby('Systematic_ID')}\n",
    "global_GO_counter = GO2genes.apply(len)"
   ]
  },
  {
   "cell_type": "markdown",
   "metadata": {},
   "source": [
    "# Action"
   ]
  },
  {
   "cell_type": "code",
   "execution_count": 6,
   "metadata": {},
   "outputs": [
    {
     "name": "stdout",
     "output_type": "stream",
     "text": [
      "293\n"
     ]
    }
   ],
   "source": [
    "abundand_GO = [go_id for go_id,gene_list in GO2genes.items() if len(gene_list) > 99]\n",
    "print(len(abundand_GO))"
   ]
  },
  {
   "cell_type": "code",
   "execution_count": 43,
   "metadata": {},
   "outputs": [],
   "source": [
    "Eq = ['D','A']\n",
    "distance = 'cityblock'\n",
    "\n",
    "D = graco.GCV_distance(GCV[Eq], distance)\n",
    "all_genes = set(GCV[Eq].dropna().index)"
   ]
  },
  {
   "cell_type": "code",
   "execution_count": 47,
   "metadata": {},
   "outputs": [
    {
     "data": {
      "text/plain": [
       "(5184, 5726)"
      ]
     },
     "execution_count": 47,
     "metadata": {},
     "output_type": "execute_result"
    }
   ],
   "source": [
    "len(all_genes), len(GCV)"
   ]
  },
  {
   "cell_type": "code",
   "execution_count": 50,
   "metadata": {},
   "outputs": [
    {
     "data": {
      "text/html": [
       "<div>\n",
       "<style scoped>\n",
       "    .dataframe tbody tr th:only-of-type {\n",
       "        vertical-align: middle;\n",
       "    }\n",
       "\n",
       "    .dataframe tbody tr th {\n",
       "        vertical-align: top;\n",
       "    }\n",
       "\n",
       "    .dataframe thead tr th {\n",
       "        text-align: left;\n",
       "    }\n",
       "</style>\n",
       "<table border=\"1\" class=\"dataframe\">\n",
       "  <thead>\n",
       "    <tr>\n",
       "      <th>Group</th>\n",
       "      <th colspan=\"10\" halign=\"left\">D</th>\n",
       "      <th>...</th>\n",
       "      <th colspan=\"10\" halign=\"left\">A</th>\n",
       "    </tr>\n",
       "    <tr>\n",
       "      <th>Equation</th>\n",
       "      <th colspan=\"2\" halign=\"left\">0</th>\n",
       "      <th colspan=\"4\" halign=\"left\">1</th>\n",
       "      <th colspan=\"3\" halign=\"left\">2</th>\n",
       "      <th>3</th>\n",
       "      <th>...</th>\n",
       "      <th colspan=\"4\" halign=\"left\">1</th>\n",
       "      <th colspan=\"3\" halign=\"left\">2</th>\n",
       "      <th colspan=\"3\" halign=\"left\">3</th>\n",
       "    </tr>\n",
       "    <tr>\n",
       "      <th>Orbit</th>\n",
       "      <th>2</th>\n",
       "      <th>3</th>\n",
       "      <th>10</th>\n",
       "      <th>12</th>\n",
       "      <th>5</th>\n",
       "      <th>8</th>\n",
       "      <th>11</th>\n",
       "      <th>13</th>\n",
       "      <th>7</th>\n",
       "      <th>11</th>\n",
       "      <th>...</th>\n",
       "      <th>10</th>\n",
       "      <th>13</th>\n",
       "      <th>4</th>\n",
       "      <th>8</th>\n",
       "      <th>10</th>\n",
       "      <th>13</th>\n",
       "      <th>6</th>\n",
       "      <th>12</th>\n",
       "      <th>14</th>\n",
       "      <th>9</th>\n",
       "    </tr>\n",
       "  </thead>\n",
       "  <tbody>\n",
       "    <tr>\n",
       "      <th>YLR418C</th>\n",
       "      <td>0.716298</td>\n",
       "      <td>0.283702</td>\n",
       "      <td>0.448191</td>\n",
       "      <td>0.051512</td>\n",
       "      <td>0.465943</td>\n",
       "      <td>0.034354</td>\n",
       "      <td>0.350676</td>\n",
       "      <td>0.074459</td>\n",
       "      <td>0.574866</td>\n",
       "      <td>0.442697</td>\n",
       "      <td>...</td>\n",
       "      <td>0.399458</td>\n",
       "      <td>0.005437</td>\n",
       "      <td>0.559049</td>\n",
       "      <td>0.015309</td>\n",
       "      <td>0.037223</td>\n",
       "      <td>0.000507</td>\n",
       "      <td>0.962271</td>\n",
       "      <td>0.136243</td>\n",
       "      <td>0.010375</td>\n",
       "      <td>0.696388</td>\n",
       "    </tr>\n",
       "    <tr>\n",
       "      <th>YOL145C</th>\n",
       "      <td>0.712994</td>\n",
       "      <td>0.287006</td>\n",
       "      <td>0.424165</td>\n",
       "      <td>0.061155</td>\n",
       "      <td>0.477013</td>\n",
       "      <td>0.037667</td>\n",
       "      <td>0.339691</td>\n",
       "      <td>0.083229</td>\n",
       "      <td>0.577081</td>\n",
       "      <td>0.421939</td>\n",
       "      <td>...</td>\n",
       "      <td>0.417895</td>\n",
       "      <td>0.004241</td>\n",
       "      <td>0.536513</td>\n",
       "      <td>0.018555</td>\n",
       "      <td>0.028322</td>\n",
       "      <td>0.000287</td>\n",
       "      <td>0.971390</td>\n",
       "      <td>0.142626</td>\n",
       "      <td>0.005326</td>\n",
       "      <td>0.698770</td>\n",
       "    </tr>\n",
       "    <tr>\n",
       "      <th>YOR123C</th>\n",
       "      <td>0.527738</td>\n",
       "      <td>0.472262</td>\n",
       "      <td>0.486947</td>\n",
       "      <td>0.094954</td>\n",
       "      <td>0.373118</td>\n",
       "      <td>0.044981</td>\n",
       "      <td>0.478586</td>\n",
       "      <td>0.201108</td>\n",
       "      <td>0.320305</td>\n",
       "      <td>0.267403</td>\n",
       "      <td>...</td>\n",
       "      <td>0.329827</td>\n",
       "      <td>0.002537</td>\n",
       "      <td>0.634632</td>\n",
       "      <td>0.015234</td>\n",
       "      <td>0.020687</td>\n",
       "      <td>0.000159</td>\n",
       "      <td>0.979154</td>\n",
       "      <td>0.129152</td>\n",
       "      <td>0.004279</td>\n",
       "      <td>0.728858</td>\n",
       "    </tr>\n",
       "    <tr>\n",
       "      <th>YBR279W</th>\n",
       "      <td>0.699565</td>\n",
       "      <td>0.300435</td>\n",
       "      <td>0.439870</td>\n",
       "      <td>0.059224</td>\n",
       "      <td>0.462896</td>\n",
       "      <td>0.038010</td>\n",
       "      <td>0.348832</td>\n",
       "      <td>0.089842</td>\n",
       "      <td>0.561325</td>\n",
       "      <td>0.406129</td>\n",
       "      <td>...</td>\n",
       "      <td>0.369829</td>\n",
       "      <td>0.003552</td>\n",
       "      <td>0.591109</td>\n",
       "      <td>0.015979</td>\n",
       "      <td>0.025211</td>\n",
       "      <td>0.000242</td>\n",
       "      <td>0.974547</td>\n",
       "      <td>0.120099</td>\n",
       "      <td>0.004791</td>\n",
       "      <td>0.745428</td>\n",
       "    </tr>\n",
       "    <tr>\n",
       "      <th>YML069W</th>\n",
       "      <td>0.708524</td>\n",
       "      <td>0.291476</td>\n",
       "      <td>0.491373</td>\n",
       "      <td>0.052778</td>\n",
       "      <td>0.427800</td>\n",
       "      <td>0.028050</td>\n",
       "      <td>0.317771</td>\n",
       "      <td>0.084666</td>\n",
       "      <td>0.597563</td>\n",
       "      <td>0.386221</td>\n",
       "      <td>...</td>\n",
       "      <td>0.440705</td>\n",
       "      <td>0.006513</td>\n",
       "      <td>0.521112</td>\n",
       "      <td>0.012579</td>\n",
       "      <td>0.040442</td>\n",
       "      <td>0.000598</td>\n",
       "      <td>0.958960</td>\n",
       "      <td>0.145781</td>\n",
       "      <td>0.013135</td>\n",
       "      <td>0.669032</td>\n",
       "    </tr>\n",
       "    <tr>\n",
       "      <th>...</th>\n",
       "      <td>...</td>\n",
       "      <td>...</td>\n",
       "      <td>...</td>\n",
       "      <td>...</td>\n",
       "      <td>...</td>\n",
       "      <td>...</td>\n",
       "      <td>...</td>\n",
       "      <td>...</td>\n",
       "      <td>...</td>\n",
       "      <td>...</td>\n",
       "      <td>...</td>\n",
       "      <td>...</td>\n",
       "      <td>...</td>\n",
       "      <td>...</td>\n",
       "      <td>...</td>\n",
       "      <td>...</td>\n",
       "      <td>...</td>\n",
       "      <td>...</td>\n",
       "      <td>...</td>\n",
       "      <td>...</td>\n",
       "      <td>...</td>\n",
       "    </tr>\n",
       "    <tr>\n",
       "      <th>YFR018C</th>\n",
       "      <td>NaN</td>\n",
       "      <td>NaN</td>\n",
       "      <td>NaN</td>\n",
       "      <td>NaN</td>\n",
       "      <td>NaN</td>\n",
       "      <td>NaN</td>\n",
       "      <td>NaN</td>\n",
       "      <td>NaN</td>\n",
       "      <td>NaN</td>\n",
       "      <td>NaN</td>\n",
       "      <td>...</td>\n",
       "      <td>0.000000</td>\n",
       "      <td>0.000000</td>\n",
       "      <td>1.000000</td>\n",
       "      <td>0.000000</td>\n",
       "      <td>0.000000</td>\n",
       "      <td>0.000000</td>\n",
       "      <td>1.000000</td>\n",
       "      <td>0.000000</td>\n",
       "      <td>0.000000</td>\n",
       "      <td>1.000000</td>\n",
       "    </tr>\n",
       "    <tr>\n",
       "      <th>YBR056W-A</th>\n",
       "      <td>NaN</td>\n",
       "      <td>NaN</td>\n",
       "      <td>NaN</td>\n",
       "      <td>NaN</td>\n",
       "      <td>NaN</td>\n",
       "      <td>NaN</td>\n",
       "      <td>NaN</td>\n",
       "      <td>NaN</td>\n",
       "      <td>NaN</td>\n",
       "      <td>NaN</td>\n",
       "      <td>...</td>\n",
       "      <td>0.000000</td>\n",
       "      <td>0.000000</td>\n",
       "      <td>1.000000</td>\n",
       "      <td>0.000000</td>\n",
       "      <td>0.000000</td>\n",
       "      <td>0.000000</td>\n",
       "      <td>1.000000</td>\n",
       "      <td>0.000000</td>\n",
       "      <td>0.000000</td>\n",
       "      <td>1.000000</td>\n",
       "    </tr>\n",
       "    <tr>\n",
       "      <th>YOR278W</th>\n",
       "      <td>NaN</td>\n",
       "      <td>NaN</td>\n",
       "      <td>NaN</td>\n",
       "      <td>NaN</td>\n",
       "      <td>NaN</td>\n",
       "      <td>NaN</td>\n",
       "      <td>NaN</td>\n",
       "      <td>NaN</td>\n",
       "      <td>NaN</td>\n",
       "      <td>NaN</td>\n",
       "      <td>...</td>\n",
       "      <td>0.000000</td>\n",
       "      <td>0.000000</td>\n",
       "      <td>1.000000</td>\n",
       "      <td>0.000000</td>\n",
       "      <td>0.000000</td>\n",
       "      <td>0.000000</td>\n",
       "      <td>1.000000</td>\n",
       "      <td>0.000000</td>\n",
       "      <td>0.000000</td>\n",
       "      <td>1.000000</td>\n",
       "    </tr>\n",
       "    <tr>\n",
       "      <th>YCR010C</th>\n",
       "      <td>NaN</td>\n",
       "      <td>NaN</td>\n",
       "      <td>NaN</td>\n",
       "      <td>NaN</td>\n",
       "      <td>NaN</td>\n",
       "      <td>NaN</td>\n",
       "      <td>NaN</td>\n",
       "      <td>NaN</td>\n",
       "      <td>NaN</td>\n",
       "      <td>NaN</td>\n",
       "      <td>...</td>\n",
       "      <td>0.000000</td>\n",
       "      <td>0.000000</td>\n",
       "      <td>1.000000</td>\n",
       "      <td>0.000000</td>\n",
       "      <td>0.000000</td>\n",
       "      <td>0.000000</td>\n",
       "      <td>1.000000</td>\n",
       "      <td>0.000000</td>\n",
       "      <td>0.000000</td>\n",
       "      <td>1.000000</td>\n",
       "    </tr>\n",
       "    <tr>\n",
       "      <th>YBL029C-A</th>\n",
       "      <td>NaN</td>\n",
       "      <td>NaN</td>\n",
       "      <td>NaN</td>\n",
       "      <td>NaN</td>\n",
       "      <td>NaN</td>\n",
       "      <td>NaN</td>\n",
       "      <td>NaN</td>\n",
       "      <td>NaN</td>\n",
       "      <td>NaN</td>\n",
       "      <td>NaN</td>\n",
       "      <td>...</td>\n",
       "      <td>0.000000</td>\n",
       "      <td>0.000000</td>\n",
       "      <td>1.000000</td>\n",
       "      <td>0.000000</td>\n",
       "      <td>0.000000</td>\n",
       "      <td>0.000000</td>\n",
       "      <td>1.000000</td>\n",
       "      <td>0.000000</td>\n",
       "      <td>0.000000</td>\n",
       "      <td>1.000000</td>\n",
       "    </tr>\n",
       "  </tbody>\n",
       "</table>\n",
       "<p>5726 rows × 24 columns</p>\n",
       "</div>"
      ],
      "text/plain": [
       "Group             D                                                    \\\n",
       "Equation          0                   1                                 \n",
       "Orbit             2         3        10        12         5         8   \n",
       "YLR418C    0.716298  0.283702  0.448191  0.051512  0.465943  0.034354   \n",
       "YOL145C    0.712994  0.287006  0.424165  0.061155  0.477013  0.037667   \n",
       "YOR123C    0.527738  0.472262  0.486947  0.094954  0.373118  0.044981   \n",
       "YBR279W    0.699565  0.300435  0.439870  0.059224  0.462896  0.038010   \n",
       "YML069W    0.708524  0.291476  0.491373  0.052778  0.427800  0.028050   \n",
       "...             ...       ...       ...       ...       ...       ...   \n",
       "YFR018C         NaN       NaN       NaN       NaN       NaN       NaN   \n",
       "YBR056W-A       NaN       NaN       NaN       NaN       NaN       NaN   \n",
       "YOR278W         NaN       NaN       NaN       NaN       NaN       NaN   \n",
       "YCR010C         NaN       NaN       NaN       NaN       NaN       NaN   \n",
       "YBL029C-A       NaN       NaN       NaN       NaN       NaN       NaN   \n",
       "\n",
       "Group                                              ...         A            \\\n",
       "Equation          2                             3  ...         1             \n",
       "Orbit            11        13         7        11  ...        10        13   \n",
       "YLR418C    0.350676  0.074459  0.574866  0.442697  ...  0.399458  0.005437   \n",
       "YOL145C    0.339691  0.083229  0.577081  0.421939  ...  0.417895  0.004241   \n",
       "YOR123C    0.478586  0.201108  0.320305  0.267403  ...  0.329827  0.002537   \n",
       "YBR279W    0.348832  0.089842  0.561325  0.406129  ...  0.369829  0.003552   \n",
       "YML069W    0.317771  0.084666  0.597563  0.386221  ...  0.440705  0.006513   \n",
       "...             ...       ...       ...       ...  ...       ...       ...   \n",
       "YFR018C         NaN       NaN       NaN       NaN  ...  0.000000  0.000000   \n",
       "YBR056W-A       NaN       NaN       NaN       NaN  ...  0.000000  0.000000   \n",
       "YOR278W         NaN       NaN       NaN       NaN  ...  0.000000  0.000000   \n",
       "YCR010C         NaN       NaN       NaN       NaN  ...  0.000000  0.000000   \n",
       "YBL029C-A       NaN       NaN       NaN       NaN  ...  0.000000  0.000000   \n",
       "\n",
       "Group                                                                  \\\n",
       "Equation                              2                             3   \n",
       "Orbit             4         8        10        13         6        12   \n",
       "YLR418C    0.559049  0.015309  0.037223  0.000507  0.962271  0.136243   \n",
       "YOL145C    0.536513  0.018555  0.028322  0.000287  0.971390  0.142626   \n",
       "YOR123C    0.634632  0.015234  0.020687  0.000159  0.979154  0.129152   \n",
       "YBR279W    0.591109  0.015979  0.025211  0.000242  0.974547  0.120099   \n",
       "YML069W    0.521112  0.012579  0.040442  0.000598  0.958960  0.145781   \n",
       "...             ...       ...       ...       ...       ...       ...   \n",
       "YFR018C    1.000000  0.000000  0.000000  0.000000  1.000000  0.000000   \n",
       "YBR056W-A  1.000000  0.000000  0.000000  0.000000  1.000000  0.000000   \n",
       "YOR278W    1.000000  0.000000  0.000000  0.000000  1.000000  0.000000   \n",
       "YCR010C    1.000000  0.000000  0.000000  0.000000  1.000000  0.000000   \n",
       "YBL029C-A  1.000000  0.000000  0.000000  0.000000  1.000000  0.000000   \n",
       "\n",
       "Group                          \n",
       "Equation                       \n",
       "Orbit            14         9  \n",
       "YLR418C    0.010375  0.696388  \n",
       "YOL145C    0.005326  0.698770  \n",
       "YOR123C    0.004279  0.728858  \n",
       "YBR279W    0.004791  0.745428  \n",
       "YML069W    0.013135  0.669032  \n",
       "...             ...       ...  \n",
       "YFR018C    0.000000  1.000000  \n",
       "YBR056W-A  0.000000  1.000000  \n",
       "YOR278W    0.000000  1.000000  \n",
       "YCR010C    0.000000  1.000000  \n",
       "YBL029C-A  0.000000  1.000000  \n",
       "\n",
       "[5726 rows x 24 columns]"
      ]
     },
     "execution_count": 50,
     "metadata": {},
     "output_type": "execute_result"
    }
   ],
   "source": [
    "GCV[Eq]"
   ]
  },
  {
   "cell_type": "code",
   "execution_count": 46,
   "metadata": {},
   "outputs": [
    {
     "data": {
      "text/plain": [
       "False"
      ]
     },
     "execution_count": 46,
     "metadata": {},
     "output_type": "execute_result"
    }
   ],
   "source": [
    "D.isna().any().any()"
   ]
  },
  {
   "cell_type": "code",
   "execution_count": 12,
   "metadata": {},
   "outputs": [],
   "source": [
    "GO_id = abundand_GO[0]\n",
    "GO_genes  = GO2genes[GO_id]              & set(GCV[Eq].dropna().index)\n",
    "nGO_genes = (gene_population - GO_genes) & set(GCV[Eq].dropna().index)\n",
    "\n",
    "assert len(all_genes) == len(GO_genes) + len(nGO_genes)\n",
    "k = len(GO_genes)"
   ]
  },
  {
   "cell_type": "code",
   "execution_count": 13,
   "metadata": {},
   "outputs": [],
   "source": [
    "mu_list  = []\n",
    "var_list = []\n",
    "\n",
    "for i in range(1000):\n",
    "    sample_genes = random.sample(all_genes,k)\n",
    "    sample_dists = squareform(D.loc[sample_genes,sample_genes])\n",
    "    \n",
    "    mu_list.append( np.mean(sample_dists))\n",
    "    var_list.append(np.var( sample_dists))"
   ]
  },
  {
   "cell_type": "code",
   "execution_count": 14,
   "metadata": {},
   "outputs": [
    {
     "data": {
      "text/plain": [
       "(0, 1)"
      ]
     },
     "execution_count": 14,
     "metadata": {},
     "output_type": "execute_result"
    },
    {
     "data": {
      "image/png": "[encoded data removed]",
      "text/plain": [
       "<Figure size 648x432 with 1 Axes>"
      ]
     },
     "metadata": {
      "needs_background": "light"
     },
     "output_type": "display_data"
    }
   ],
   "source": [
    "fig, ax = plt.subplots(figsize=(9,6))\n",
    "ax.hist(mu_list, bins=50);\n",
    "ax.set_xlim(0,1)"
   ]
  },
  {
   "cell_type": "code",
   "execution_count": 15,
   "metadata": {},
   "outputs": [],
   "source": [
    "GO_dists = squareform(D.loc[GO_genes,GO_genes])\n",
    "GO_mu  = np.mean(GO_dists)\n",
    "GO_var = np.var( GO_dists)"
   ]
  },
  {
   "cell_type": "code",
   "execution_count": 16,
   "metadata": {},
   "outputs": [],
   "source": [
    "ecdf_mu  = ECDF(mu_list )\n",
    "ecdf_var = ECDF(var_list)"
   ]
  },
  {
   "cell_type": "code",
   "execution_count": 17,
   "metadata": {},
   "outputs": [
    {
     "data": {
      "text/plain": [
       "(0.006, 0.001)"
      ]
     },
     "execution_count": 17,
     "metadata": {},
     "output_type": "execute_result"
    }
   ],
   "source": [
    "ecdf_mu( GO_mu ), ecdf_var(GO_var)"
   ]
  },
  {
   "cell_type": "code",
   "execution_count": 29,
   "metadata": {},
   "outputs": [],
   "source": [
    "sample_genes = random.sample(all_genes,k)\n",
    "sample_dists = squareform(D.loc[sample_genes,sample_genes])"
   ]
  },
  {
   "cell_type": "code",
   "execution_count": 34,
   "metadata": {},
   "outputs": [],
   "source": [
    "prototype = GCV.loc[all_genes, Eq].mean()"
   ]
  },
  {
   "cell_type": "code",
   "execution_count": 35,
   "metadata": {},
   "outputs": [],
   "source": [
    "for gene in all_genes:\n",
    "    break"
   ]
  },
  {
   "cell_type": "code",
   "execution_count": 39,
   "metadata": {},
   "outputs": [
    {
     "data": {
      "text/plain": [
       "1.0794814630489125"
      ]
     },
     "execution_count": 39,
     "metadata": {},
     "output_type": "execute_result"
    }
   ],
   "source": [
    "graco.distance(GCV.loc[gene,Eq], prototype, distance)"
   ]
  },
  {
   "cell_type": "code",
   "execution_count": null,
   "metadata": {},
   "outputs": [],
   "source": [
    "def get_mu_and_var_dist(k, all_genes, D, sample_size=100):\n",
    "    mu_list  = []\n",
    "    var_list = []\n",
    "\n",
    "    for _ in range(sample_size):\n",
    "        sample_genes = random.sample(all_genes,k)\n",
    "        sample_dists = squareform(D.loc[sample_genes,sample_genes])\n",
    "\n",
    "        mu_list.append( np.mean(sample_dists))\n",
    "        #var_list.append(np.var( sample_dists))"
   ]
  },
  {
   "cell_type": "code",
   "execution_count": 19,
   "metadata": {},
   "outputs": [
    {
     "name": "stdout",
     "output_type": "stream",
     "text": [
      "141 negative regulation of transcription by RNA polymerase II\n",
      "105 generation of precursor metabolites and energy\n",
      "1145 nucleobase-containing compound metabolic process\n",
      "359 DNA metabolic process\n",
      "220 DNA repair\n",
      "147 DNA recombination\n",
      "280 chromatin organization\n",
      "112 chromatin silencing\n",
      "102 transcription, DNA-templated\n",
      "531 regulation of transcription, DNA-templated\n",
      "384 regulation of transcription by RNA polymerase II\n",
      "223 rRNA processing\n",
      "431 RNA processing\n",
      "120 mRNA processing\n",
      "117 RNA export from nucleus\n",
      "522 cellular protein modification process\n",
      "123 protein phosphorylation\n",
      "239 proteolysis\n",
      "156 ubiquitin-dependent protein catabolic process\n",
      "104 peptide metabolic process\n",
      "1208 cellular aromatic compound metabolic process\n",
      "2059 nitrogen compound metabolic process\n",
      "917 transport\n",
      "336 intracellular protein transport\n",
      "154 nucleocytoplasmic transport\n",
      "129 autophagy\n",
      "585 response to stress\n",
      "261 cellular response to DNA damage stimulus\n",
      "716 organelle organization\n",
      "133 cytoskeleton organization\n",
      "149 vacuolar transport\n",
      "135 regulation of mitotic cell cycle\n",
      "501 protein localization\n",
      "4272 biological_process\n",
      "2534 metabolic process\n",
      "561 catabolic process\n",
      "296 macromolecule catabolic process\n",
      "850 biosynthetic process\n",
      "395 macromolecule biosynthetic process\n",
      "100 nucleotide metabolic process\n",
      "714 regulation of biosynthetic process\n",
      "314 negative regulation of biosynthetic process\n",
      "358 positive regulation of biosynthetic process\n",
      "463 negative regulation of metabolic process\n",
      "478 positive regulation of metabolic process\n",
      "100 regulation of signal transduction\n",
      "3658 cellular process\n",
      "105 response to organic substance\n",
      "720 regulation of gene expression\n",
      "125 proteasomal protein catabolic process\n",
      "684 regulation of macromolecule biosynthetic process\n",
      "345 positive regulation of macromolecule biosynthetic process\n",
      "293 negative regulation of macromolecule biosynthetic process\n",
      "183 regulation of cell cycle process\n",
      "438 positive regulation of macromolecule metabolic process\n",
      "431 negative regulation of macromolecule metabolic process\n",
      "344 positive regulation of gene expression\n",
      "354 negative regulation of gene expression\n",
      "106 positive regulation of organelle organization\n",
      "131 negative regulation of organelle organization\n",
      "106 regulation of cell communication\n",
      "358 protein transport\n",
      "362 peptide transport\n",
      "159 nucleobase-containing compound transport\n",
      "1450 cellular component organization\n",
      "120 organic acid biosynthetic process\n",
      "722 RNA metabolic process\n",
      "217 mRNA metabolic process\n",
      "239 rRNA metabolic process\n",
      "308 vesicle-mediated transport\n",
      "149 phosphorylation\n",
      "116 gene silencing\n",
      "106 protein import\n",
      "382 heterocycle biosynthetic process\n",
      "616 regulation of nucleobase-containing compound metabolic process\n",
      "127 regulation of phosphate metabolic process\n",
      "973 regulation of metabolic process\n",
      "369 aromatic compound biosynthetic process\n",
      "803 protein metabolic process\n",
      "156 modification-dependent protein catabolic process\n",
      "478 cell cycle process\n",
      "107 cellular component disassembly\n",
      "582 cellular component assembly\n",
      "124 ribonucleoprotein complex assembly\n",
      "100 regulation of signaling\n",
      "146 protein catabolic process\n",
      "899 regulation of cellular metabolic process\n",
      "385 negative regulation of cellular metabolic process\n",
      "469 positive regulation of cellular metabolic process\n",
      "712 regulation of cellular biosynthetic process\n",
      "314 negative regulation of cellular biosynthetic process\n",
      "358 positive regulation of cellular biosynthetic process\n",
      "127 regulation of protein modification process\n",
      "245 regulation of cellular protein metabolic process\n",
      "108 positive regulation of cellular protein metabolic process\n",
      "188 RNA biosynthetic process\n",
      "140 regulation of localization\n",
      "522 macromolecule localization\n",
      "295 regulation of organelle organization\n",
      "114 regulation of chromosome organization\n",
      "329 protein localization to organelle\n",
      "537 cellular response to stress\n",
      "120 chromatin organization involved in regulation of transcription\n",
      "326 ncRNA processing\n",
      "408 cellular protein localization\n",
      "383 cellular protein-containing complex assembly\n",
      "1323 cellular nitrogen compound metabolic process\n",
      "293 cellular macromolecule biosynthetic process\n",
      "315 nucleobase-containing compound biosynthetic process\n",
      "381 ncRNA metabolic process\n",
      "522 protein modification process\n",
      "129 regulation of gene expression, epigenetic\n",
      "282 response to chemical\n",
      "370 amide transport\n",
      "122 proteasome-mediated ubiquitin-dependent protein catabolic process\n",
      "1736 macromolecule metabolic process\n",
      "276 oxoacid metabolic process\n",
      "154 cellular amide metabolic process\n",
      "111 amide biosynthetic process\n",
      "178 modification-dependent macromolecule catabolic process\n",
      "497 protein-containing complex subunit organization\n",
      "98 cellular component biogenesis\n",
      "164 regulation of cellular component biogenesis\n",
      "2444 cellular metabolic process\n",
      "2172 primary metabolic process\n",
      "776 cellular biosynthetic process\n",
      "1258 cellular macromolecule metabolic process\n",
      "285 cellular macromolecule catabolic process\n",
      "627 cellular protein metabolic process\n",
      "464 cellular nitrogen compound biosynthetic process\n",
      "378 establishment of protein localization\n",
      "109 negative regulation of cell cycle\n",
      "112 negative regulation of gene expression, epigenetic\n",
      "245 negative regulation of transcription, DNA-templated\n",
      "297 positive regulation of transcription, DNA-templated\n",
      "278 negative regulation of nucleobase-containing compound metabolic process\n",
      "329 positive regulation of nucleobase-containing compound metabolic process\n",
      "257 positive regulation of transcription by RNA polymerase II\n",
      "120 carboxylic acid biosynthetic process\n",
      "1220 heterocycle metabolic process\n",
      "547 intracellular transport\n",
      "170 Golgi vesicle transport\n",
      "629 positive regulation of biological process\n",
      "632 negative regulation of biological process\n",
      "609 positive regulation of cellular process\n",
      "546 negative regulation of cellular process\n",
      "144 regulation of response to stimulus\n",
      "124 nucleic acid transport\n",
      "122 RNA transport\n",
      "1381 regulation of biological process\n",
      "154 regulation of catalytic activity\n",
      "1286 regulation of cellular process\n",
      "709 response to stimulus\n",
      "396 regulation of cellular component organization\n",
      "139 negative regulation of cellular component organization\n",
      "136 positive regulation of cellular component organization\n",
      "119 nuclear export\n",
      "154 nuclear transport\n",
      "825 regulation of nitrogen compound metabolic process\n",
      "350 negative regulation of nitrogen compound metabolic process\n",
      "429 positive regulation of nitrogen compound metabolic process\n",
      "127 regulation of phosphorus metabolic process\n",
      "1118 localization\n",
      "949 establishment of localization\n",
      "122 establishment of RNA localization\n",
      "252 regulation of protein metabolic process\n",
      "111 positive regulation of protein metabolic process\n",
      "562 regulation of RNA metabolic process\n",
      "253 negative regulation of RNA metabolic process\n",
      "311 positive regulation of RNA metabolic process\n",
      "226 chromosome organization\n",
      "172 proteolysis involved in cellular protein catabolic process\n",
      "144 organelle localization\n",
      "748 cellular localization\n",
      "612 cellular response to stimulus\n",
      "238 regulation of cell cycle\n",
      "107 regulation of nuclear division\n",
      "906 regulation of macromolecule metabolic process\n",
      "138 process utilizing autophagic mechanism\n",
      "395 protein-containing complex assembly\n",
      "1611 biological regulation\n",
      "179 regulation of molecular function\n",
      "121 protein modification by small protein conjugation or removal\n",
      "429 cellular macromolecule localization\n",
      "171 cellular response to chemical stimulus\n",
      "565 organic substance transport\n",
      "2360 organic substance metabolic process\n",
      "505 nitrogen compound transport\n",
      "136 protein-DNA complex subunit organization\n",
      "131 ribonucleoprotein complex subunit organization\n",
      "1522 cellular component organization or biogenesis\n",
      "268 establishment of protein localization to organelle\n",
      "103 protein localization to vacuole\n",
      "863 regulation of primary metabolic process\n",
      "1008 nucleic acid metabolic process\n",
      "119 nucleic acid phosphodiester bond hydrolysis\n",
      "119 chromatin organization involved in negative regulation of transcription\n",
      "102 nucleic acid-templated transcription\n",
      "1268 organic cyclic compound metabolic process\n",
      "416 organic cyclic compound biosynthetic process\n",
      "1203 organonitrogen compound metabolic process\n",
      "211 organonitrogen compound catabolic process\n",
      "346 organonitrogen compound biosynthetic process\n",
      "826 organic substance biosynthetic process\n",
      "245 negative regulation of RNA biosynthetic process\n",
      "297 positive regulation of RNA biosynthetic process\n"
     ]
    },
    {
     "name": "stdout",
     "output_type": "stream",
     "text": [
      "254 mitotic cell cycle process\n",
      "531 regulation of nucleic acid-templated transcription\n",
      "245 negative regulation of nucleic acid-templated transcription\n",
      "297 positive regulation of nucleic acid-templated transcription\n",
      "677 regulation of cellular macromolecule biosynthetic process\n",
      "293 negative regulation of cellular macromolecule biosynthetic process\n",
      "531 regulation of RNA biosynthetic process\n"
     ]
    }
   ],
   "source": [
    "sample_size = 100\n",
    "significant_GO_list = []\n",
    "\n",
    "for GO_id in abundand_GO:\n",
    "    \n",
    "    GO_genes  = GO2genes[GO_id]              & set(GCV[Eq].dropna().index)\n",
    "    nGO_genes = (gene_population - GO_genes) & set(GCV[Eq].dropna().index)\n",
    "    \n",
    "    k = len(GO_genes)\n",
    "\n",
    "    assert len(all_genes) == len(GO_genes) + len(nGO_genes)\n",
    "    \n",
    "    mu_list  = []\n",
    "    #var_list = []\n",
    "\n",
    "    for _ in range(sample_size):\n",
    "        sample_genes = random.sample(all_genes,k)\n",
    "        sample_dists = squareform(D.loc[sample_genes,sample_genes])\n",
    "\n",
    "        mu_list.append( np.mean(sample_dists))\n",
    "        #var_list.append(np.var( sample_dists))\n",
    "        \n",
    "    GO_dists = squareform(D.loc[GO_genes,GO_genes])\n",
    "    GO_mu  = np.mean(GO_dists)\n",
    "    #GO_var = np.var( GO_dists)\n",
    "    \n",
    "    #ecdf_mu  = ECDF(mu_list )\n",
    "    #ecdf_var = ECDF(var_list)\n",
    "    \n",
    "    #p_mu  = ecdf_mu( GO_mu )\n",
    "    #p_var = ecdf_var(GO_var)\n",
    "    \n",
    "    if GO_mu < sorted(mu_list)[1]:\n",
    "        print(k, go_dag[GO_id].name)\n",
    "        significant_GO_list.append(GO_id)\n",
    "        #print(f\"p-value mu : {p_mu :.9f}\")\n",
    "        #print(f\"p-value var: {p_var:.9f}\")"
   ]
  },
  {
   "cell_type": "code",
   "execution_count": 20,
   "metadata": {},
   "outputs": [
    {
     "data": {
      "text/plain": [
       "(213, 293)"
      ]
     },
     "execution_count": 20,
     "metadata": {},
     "output_type": "execute_result"
    }
   ],
   "source": [
    "len(significant_GO_list), len(abundand_GO)"
   ]
  },
  {
   "cell_type": "code",
   "execution_count": 21,
   "metadata": {},
   "outputs": [],
   "source": [
    "GO_id = significant_GO_list[0]"
   ]
  },
  {
   "cell_type": "code",
   "execution_count": 23,
   "metadata": {},
   "outputs": [],
   "source": [
    "GO_genes  = GO2genes[GO_id]              & set(GCV[Eq].dropna().index)\n",
    "nGO_genes = (gene_population - GO_genes) & set(GCV[Eq].dropna().index)\n",
    "\n",
    "k = len(GO_genes)\n",
    "\n",
    "assert len(all_genes) == len(GO_genes) + len(nGO_genes)\n",
    "\n",
    "mu_list  = []\n",
    "#var_list = []\n",
    "\n",
    "for _ in range(2**10):\n",
    "    sample_genes = random.sample(all_genes,k)\n",
    "    sample_dists = squareform(D.loc[sample_genes,sample_genes])\n",
    "\n",
    "    mu_list.append( np.mean(sample_dists))\n",
    "    #var_list.append(np.var( sample_dists))\n",
    "\n",
    "GO_dists = squareform(D.loc[GO_genes,GO_genes])\n",
    "GO_mu  = np.mean(GO_dists)"
   ]
  },
  {
   "cell_type": "code",
   "execution_count": 24,
   "metadata": {},
   "outputs": [
    {
     "data": {
      "image/png": "[encoded data removed]",
      "text/plain": [
       "<Figure size 648x432 with 1 Axes>"
      ]
     },
     "metadata": {
      "needs_background": "light"
     },
     "output_type": "display_data"
    }
   ],
   "source": [
    "fig, ax = plt.subplots(figsize=(9,6))\n",
    "bars, pos, sth = ax.hist(mu_list, bins=50, density=True)\n",
    "ax.plot([GO_mu,GO_mu], [0,max(bars)]);"
   ]
  },
  {
   "cell_type": "code",
   "execution_count": 25,
   "metadata": {},
   "outputs": [
    {
     "data": {
      "image/png": "[encoded data removed]",
      "text/plain": [
       "<Figure size 648x432 with 1 Axes>"
      ]
     },
     "metadata": {
      "needs_background": "light"
     },
     "output_type": "display_data"
    }
   ],
   "source": [
    "fig, ax = plt.subplots(figsize=(9,6))\n",
    "bars, pos, sth = ax.hist(var_list, bins=50, density=True)\n",
    "ax.plot([GO_var,GO_var], [0,max(bars)]);"
   ]
  },
  {
   "cell_type": "code",
   "execution_count": 26,
   "metadata": {},
   "outputs": [],
   "source": [
    "data = GCV[Eq].dropna()\n",
    "data['hue'] = 0\n",
    "\n",
    "GO_data = data.loc[GO_genes]\n",
    "GO_data['hue'] = 1\n",
    "\n",
    "sample_data = data.loc[sample_genes]\n",
    "sample_data['hue'] = 2\n",
    "\n",
    "data = data.append([GO_data,sample_data])"
   ]
  },
  {
   "cell_type": "code",
   "execution_count": 28,
   "metadata": {},
   "outputs": [
    {
     "data": {
      "text/html": [
       "<div>\n",
       "<style scoped>\n",
       "    .dataframe tbody tr th:only-of-type {\n",
       "        vertical-align: middle;\n",
       "    }\n",
       "\n",
       "    .dataframe tbody tr th {\n",
       "        vertical-align: top;\n",
       "    }\n",
       "\n",
       "    .dataframe thead tr th {\n",
       "        text-align: left;\n",
       "    }\n",
       "</style>\n",
       "<table border=\"1\" class=\"dataframe\">\n",
       "  <thead>\n",
       "    <tr>\n",
       "      <th>Equation</th>\n",
       "      <th colspan=\"2\" halign=\"left\">0</th>\n",
       "      <th colspan=\"4\" halign=\"left\">1</th>\n",
       "      <th colspan=\"3\" halign=\"left\">2</th>\n",
       "      <th colspan=\"3\" halign=\"left\">3</th>\n",
       "      <th>hue</th>\n",
       "    </tr>\n",
       "    <tr>\n",
       "      <th>Orbit</th>\n",
       "      <th>2</th>\n",
       "      <th>3</th>\n",
       "      <th>10</th>\n",
       "      <th>12</th>\n",
       "      <th>5</th>\n",
       "      <th>8</th>\n",
       "      <th>11</th>\n",
       "      <th>13</th>\n",
       "      <th>7</th>\n",
       "      <th>11</th>\n",
       "      <th>13</th>\n",
       "      <th>14</th>\n",
       "      <th></th>\n",
       "    </tr>\n",
       "  </thead>\n",
       "  <tbody>\n",
       "    <tr>\n",
       "      <th>YLR418C</th>\n",
       "      <td>0.716298</td>\n",
       "      <td>0.283702</td>\n",
       "      <td>0.448191</td>\n",
       "      <td>0.051512</td>\n",
       "      <td>0.465943</td>\n",
       "      <td>0.034354</td>\n",
       "      <td>0.350676</td>\n",
       "      <td>0.074459</td>\n",
       "      <td>0.574866</td>\n",
       "      <td>0.442697</td>\n",
       "      <td>0.375989</td>\n",
       "      <td>0.181314</td>\n",
       "      <td>0</td>\n",
       "    </tr>\n",
       "    <tr>\n",
       "      <th>YOL145C</th>\n",
       "      <td>0.712994</td>\n",
       "      <td>0.287006</td>\n",
       "      <td>0.424165</td>\n",
       "      <td>0.061155</td>\n",
       "      <td>0.477013</td>\n",
       "      <td>0.037667</td>\n",
       "      <td>0.339691</td>\n",
       "      <td>0.083229</td>\n",
       "      <td>0.577081</td>\n",
       "      <td>0.421939</td>\n",
       "      <td>0.413522</td>\n",
       "      <td>0.164540</td>\n",
       "      <td>0</td>\n",
       "    </tr>\n",
       "    <tr>\n",
       "      <th>YOR123C</th>\n",
       "      <td>0.527738</td>\n",
       "      <td>0.472262</td>\n",
       "      <td>0.486947</td>\n",
       "      <td>0.094954</td>\n",
       "      <td>0.373118</td>\n",
       "      <td>0.044981</td>\n",
       "      <td>0.478586</td>\n",
       "      <td>0.201108</td>\n",
       "      <td>0.320305</td>\n",
       "      <td>0.267403</td>\n",
       "      <td>0.449465</td>\n",
       "      <td>0.283133</td>\n",
       "      <td>0</td>\n",
       "    </tr>\n",
       "    <tr>\n",
       "      <th>YBR279W</th>\n",
       "      <td>0.699565</td>\n",
       "      <td>0.300435</td>\n",
       "      <td>0.439870</td>\n",
       "      <td>0.059224</td>\n",
       "      <td>0.462896</td>\n",
       "      <td>0.038010</td>\n",
       "      <td>0.348832</td>\n",
       "      <td>0.089842</td>\n",
       "      <td>0.561325</td>\n",
       "      <td>0.406129</td>\n",
       "      <td>0.418395</td>\n",
       "      <td>0.175476</td>\n",
       "      <td>0</td>\n",
       "    </tr>\n",
       "    <tr>\n",
       "      <th>YML069W</th>\n",
       "      <td>0.708524</td>\n",
       "      <td>0.291476</td>\n",
       "      <td>0.491373</td>\n",
       "      <td>0.052778</td>\n",
       "      <td>0.427800</td>\n",
       "      <td>0.028050</td>\n",
       "      <td>0.317771</td>\n",
       "      <td>0.084666</td>\n",
       "      <td>0.597563</td>\n",
       "      <td>0.386221</td>\n",
       "      <td>0.411613</td>\n",
       "      <td>0.202166</td>\n",
       "      <td>0</td>\n",
       "    </tr>\n",
       "    <tr>\n",
       "      <th>...</th>\n",
       "      <td>...</td>\n",
       "      <td>...</td>\n",
       "      <td>...</td>\n",
       "      <td>...</td>\n",
       "      <td>...</td>\n",
       "      <td>...</td>\n",
       "      <td>...</td>\n",
       "      <td>...</td>\n",
       "      <td>...</td>\n",
       "      <td>...</td>\n",
       "      <td>...</td>\n",
       "      <td>...</td>\n",
       "      <td>...</td>\n",
       "    </tr>\n",
       "    <tr>\n",
       "      <th>YAR033W</th>\n",
       "      <td>0.694444</td>\n",
       "      <td>0.305556</td>\n",
       "      <td>0.383953</td>\n",
       "      <td>0.049577</td>\n",
       "      <td>0.465170</td>\n",
       "      <td>0.101300</td>\n",
       "      <td>0.434286</td>\n",
       "      <td>0.102857</td>\n",
       "      <td>0.462857</td>\n",
       "      <td>0.493506</td>\n",
       "      <td>0.467532</td>\n",
       "      <td>0.038961</td>\n",
       "      <td>2</td>\n",
       "    </tr>\n",
       "    <tr>\n",
       "      <th>YLR367W</th>\n",
       "      <td>0.639223</td>\n",
       "      <td>0.360777</td>\n",
       "      <td>0.425241</td>\n",
       "      <td>0.095877</td>\n",
       "      <td>0.405412</td>\n",
       "      <td>0.073470</td>\n",
       "      <td>0.387844</td>\n",
       "      <td>0.121466</td>\n",
       "      <td>0.490690</td>\n",
       "      <td>0.343590</td>\n",
       "      <td>0.430427</td>\n",
       "      <td>0.225983</td>\n",
       "      <td>2</td>\n",
       "    </tr>\n",
       "    <tr>\n",
       "      <th>YGR136W</th>\n",
       "      <td>0.826840</td>\n",
       "      <td>0.173160</td>\n",
       "      <td>0.222990</td>\n",
       "      <td>0.041528</td>\n",
       "      <td>0.700332</td>\n",
       "      <td>0.035151</td>\n",
       "      <td>0.253403</td>\n",
       "      <td>0.033508</td>\n",
       "      <td>0.713089</td>\n",
       "      <td>0.605000</td>\n",
       "      <td>0.320000</td>\n",
       "      <td>0.075000</td>\n",
       "      <td>2</td>\n",
       "    </tr>\n",
       "    <tr>\n",
       "      <th>YFR032C-A</th>\n",
       "      <td>0.588235</td>\n",
       "      <td>0.411765</td>\n",
       "      <td>0.422214</td>\n",
       "      <td>0.115335</td>\n",
       "      <td>0.367809</td>\n",
       "      <td>0.094642</td>\n",
       "      <td>0.423333</td>\n",
       "      <td>0.169167</td>\n",
       "      <td>0.407500</td>\n",
       "      <td>0.302381</td>\n",
       "      <td>0.483333</td>\n",
       "      <td>0.214286</td>\n",
       "      <td>2</td>\n",
       "    </tr>\n",
       "    <tr>\n",
       "      <th>YLR447C</th>\n",
       "      <td>0.792308</td>\n",
       "      <td>0.207692</td>\n",
       "      <td>0.298731</td>\n",
       "      <td>0.059695</td>\n",
       "      <td>0.588556</td>\n",
       "      <td>0.053018</td>\n",
       "      <td>0.283768</td>\n",
       "      <td>0.042369</td>\n",
       "      <td>0.673863</td>\n",
       "      <td>0.541261</td>\n",
       "      <td>0.323262</td>\n",
       "      <td>0.135478</td>\n",
       "      <td>2</td>\n",
       "    </tr>\n",
       "  </tbody>\n",
       "</table>\n",
       "<p>5466 rows × 13 columns</p>\n",
       "</div>"
      ],
      "text/plain": [
       "Equation          0                   1                                \\\n",
       "Orbit             2         3        10        12         5         8   \n",
       "YLR418C    0.716298  0.283702  0.448191  0.051512  0.465943  0.034354   \n",
       "YOL145C    0.712994  0.287006  0.424165  0.061155  0.477013  0.037667   \n",
       "YOR123C    0.527738  0.472262  0.486947  0.094954  0.373118  0.044981   \n",
       "YBR279W    0.699565  0.300435  0.439870  0.059224  0.462896  0.038010   \n",
       "YML069W    0.708524  0.291476  0.491373  0.052778  0.427800  0.028050   \n",
       "...             ...       ...       ...       ...       ...       ...   \n",
       "YAR033W    0.694444  0.305556  0.383953  0.049577  0.465170  0.101300   \n",
       "YLR367W    0.639223  0.360777  0.425241  0.095877  0.405412  0.073470   \n",
       "YGR136W    0.826840  0.173160  0.222990  0.041528  0.700332  0.035151   \n",
       "YFR032C-A  0.588235  0.411765  0.422214  0.115335  0.367809  0.094642   \n",
       "YLR447C    0.792308  0.207692  0.298731  0.059695  0.588556  0.053018   \n",
       "\n",
       "Equation          2                             3                     hue  \n",
       "Orbit            11        13         7        11        13        14      \n",
       "YLR418C    0.350676  0.074459  0.574866  0.442697  0.375989  0.181314   0  \n",
       "YOL145C    0.339691  0.083229  0.577081  0.421939  0.413522  0.164540   0  \n",
       "YOR123C    0.478586  0.201108  0.320305  0.267403  0.449465  0.283133   0  \n",
       "YBR279W    0.348832  0.089842  0.561325  0.406129  0.418395  0.175476   0  \n",
       "YML069W    0.317771  0.084666  0.597563  0.386221  0.411613  0.202166   0  \n",
       "...             ...       ...       ...       ...       ...       ...  ..  \n",
       "YAR033W    0.434286  0.102857  0.462857  0.493506  0.467532  0.038961   2  \n",
       "YLR367W    0.387844  0.121466  0.490690  0.343590  0.430427  0.225983   2  \n",
       "YGR136W    0.253403  0.033508  0.713089  0.605000  0.320000  0.075000   2  \n",
       "YFR032C-A  0.423333  0.169167  0.407500  0.302381  0.483333  0.214286   2  \n",
       "YLR447C    0.283768  0.042369  0.673863  0.541261  0.323262  0.135478   2  \n",
       "\n",
       "[5466 rows x 13 columns]"
      ]
     },
     "execution_count": 28,
     "metadata": {},
     "output_type": "execute_result"
    }
   ],
   "source": [
    "data"
   ]
  },
  {
   "cell_type": "code",
   "execution_count": 27,
   "metadata": {},
   "outputs": [
    {
     "ename": "ValueError",
     "evalue": "Wrong number of items passed 3, placement implies 5466",
     "output_type": "error",
     "traceback": [
      "\u001b[0;31m---------------------------------------------------------------------------\u001b[0m",
      "\u001b[0;31mValueError\u001b[0m                                Traceback (most recent call last)",
      "\u001b[0;32m<ipython-input-27-2de4f847e2d2>\u001b[0m in \u001b[0;36m<module>\u001b[0;34m\u001b[0m\n\u001b[1;32m      5\u001b[0m \u001b[0max\u001b[0m\u001b[0;34m.\u001b[0m\u001b[0maxis\u001b[0m\u001b[0;34m(\u001b[0m\u001b[0;34m'off'\u001b[0m\u001b[0;34m)\u001b[0m\u001b[0;34m\u001b[0m\u001b[0;34m\u001b[0m\u001b[0m\n\u001b[1;32m      6\u001b[0m \u001b[0;34m\u001b[0m\u001b[0m\n\u001b[0;32m----> 7\u001b[0;31m \u001b[0msns\u001b[0m\u001b[0;34m.\u001b[0m\u001b[0mstripplot\u001b[0m\u001b[0;34m(\u001b[0m\u001b[0mx\u001b[0m\u001b[0;34m=\u001b[0m\u001b[0;34m'hue'\u001b[0m\u001b[0;34m,\u001b[0m \u001b[0my\u001b[0m\u001b[0;34m=\u001b[0m\u001b[0;34m'2'\u001b[0m\u001b[0;34m,\u001b[0m\u001b[0mdata\u001b[0m\u001b[0;34m=\u001b[0m\u001b[0mdata\u001b[0m\u001b[0;34m,\u001b[0m \u001b[0max\u001b[0m\u001b[0;34m=\u001b[0m\u001b[0max\u001b[0m\u001b[0;34m)\u001b[0m\u001b[0;34m;\u001b[0m\u001b[0;34m\u001b[0m\u001b[0;34m\u001b[0m\u001b[0m\n\u001b[0m",
      "\u001b[0;32m~/Desktop/git/supplements/venv/graco/lib/python3.6/site-packages/seaborn/categorical.py\u001b[0m in \u001b[0;36mstripplot\u001b[0;34m(x, y, hue, data, order, hue_order, jitter, dodge, orient, color, palette, size, edgecolor, linewidth, ax, **kwargs)\u001b[0m\n\u001b[1;32m   2776\u001b[0m \u001b[0;34m\u001b[0m\u001b[0m\n\u001b[1;32m   2777\u001b[0m     plotter = _StripPlotter(x, y, hue, data, order, hue_order,\n\u001b[0;32m-> 2778\u001b[0;31m                             jitter, dodge, orient, color, palette)\n\u001b[0m\u001b[1;32m   2779\u001b[0m     \u001b[0;32mif\u001b[0m \u001b[0max\u001b[0m \u001b[0;32mis\u001b[0m \u001b[0;32mNone\u001b[0m\u001b[0;34m:\u001b[0m\u001b[0;34m\u001b[0m\u001b[0;34m\u001b[0m\u001b[0m\n\u001b[1;32m   2780\u001b[0m         \u001b[0max\u001b[0m \u001b[0;34m=\u001b[0m \u001b[0mplt\u001b[0m\u001b[0;34m.\u001b[0m\u001b[0mgca\u001b[0m\u001b[0;34m(\u001b[0m\u001b[0;34m)\u001b[0m\u001b[0;34m\u001b[0m\u001b[0;34m\u001b[0m\u001b[0m\n",
      "\u001b[0;32m~/Desktop/git/supplements/venv/graco/lib/python3.6/site-packages/seaborn/categorical.py\u001b[0m in \u001b[0;36m__init__\u001b[0;34m(self, x, y, hue, data, order, hue_order, jitter, dodge, orient, color, palette)\u001b[0m\n\u001b[1;32m   1141\u001b[0m                  jitter, dodge, orient, color, palette):\n\u001b[1;32m   1142\u001b[0m         \u001b[0;34m\"\"\"Initialize the plotter.\"\"\"\u001b[0m\u001b[0;34m\u001b[0m\u001b[0;34m\u001b[0m\u001b[0m\n\u001b[0;32m-> 1143\u001b[0;31m         \u001b[0mself\u001b[0m\u001b[0;34m.\u001b[0m\u001b[0mestablish_variables\u001b[0m\u001b[0;34m(\u001b[0m\u001b[0mx\u001b[0m\u001b[0;34m,\u001b[0m \u001b[0my\u001b[0m\u001b[0;34m,\u001b[0m \u001b[0mhue\u001b[0m\u001b[0;34m,\u001b[0m \u001b[0mdata\u001b[0m\u001b[0;34m,\u001b[0m \u001b[0morient\u001b[0m\u001b[0;34m,\u001b[0m \u001b[0morder\u001b[0m\u001b[0;34m,\u001b[0m \u001b[0mhue_order\u001b[0m\u001b[0;34m)\u001b[0m\u001b[0;34m\u001b[0m\u001b[0;34m\u001b[0m\u001b[0m\n\u001b[0m\u001b[1;32m   1144\u001b[0m         \u001b[0mself\u001b[0m\u001b[0;34m.\u001b[0m\u001b[0mestablish_colors\u001b[0m\u001b[0;34m(\u001b[0m\u001b[0mcolor\u001b[0m\u001b[0;34m,\u001b[0m \u001b[0mpalette\u001b[0m\u001b[0;34m,\u001b[0m \u001b[0;36m1\u001b[0m\u001b[0;34m)\u001b[0m\u001b[0;34m\u001b[0m\u001b[0;34m\u001b[0m\u001b[0m\n\u001b[1;32m   1145\u001b[0m \u001b[0;34m\u001b[0m\u001b[0m\n",
      "\u001b[0;32m~/Desktop/git/supplements/venv/graco/lib/python3.6/site-packages/seaborn/categorical.py\u001b[0m in \u001b[0;36mestablish_variables\u001b[0;34m(self, x, y, hue, data, orient, order, hue_order, units)\u001b[0m\n\u001b[1;32m    205\u001b[0m                 \u001b[0;31m# Group the numeric data\u001b[0m\u001b[0;34m\u001b[0m\u001b[0;34m\u001b[0m\u001b[0;34m\u001b[0m\u001b[0m\n\u001b[1;32m    206\u001b[0m                 plot_data, value_label = self._group_longform(vals, groups,\n\u001b[0;32m--> 207\u001b[0;31m                                                               group_names)\n\u001b[0m\u001b[1;32m    208\u001b[0m \u001b[0;34m\u001b[0m\u001b[0m\n\u001b[1;32m    209\u001b[0m                 \u001b[0;31m# Now handle the hue levels for nested ordering\u001b[0m\u001b[0;34m\u001b[0m\u001b[0;34m\u001b[0m\u001b[0;34m\u001b[0m\u001b[0m\n",
      "\u001b[0;32m~/Desktop/git/supplements/venv/graco/lib/python3.6/site-packages/seaborn/categorical.py\u001b[0m in \u001b[0;36m_group_longform\u001b[0;34m(self, vals, grouper, order)\u001b[0m\n\u001b[1;32m    244\u001b[0m         \u001b[0;31m# Ensure that the groupby will work\u001b[0m\u001b[0;34m\u001b[0m\u001b[0;34m\u001b[0m\u001b[0;34m\u001b[0m\u001b[0m\n\u001b[1;32m    245\u001b[0m         \u001b[0;32mif\u001b[0m \u001b[0;32mnot\u001b[0m \u001b[0misinstance\u001b[0m\u001b[0;34m(\u001b[0m\u001b[0mvals\u001b[0m\u001b[0;34m,\u001b[0m \u001b[0mpd\u001b[0m\u001b[0;34m.\u001b[0m\u001b[0mSeries\u001b[0m\u001b[0;34m)\u001b[0m\u001b[0;34m:\u001b[0m\u001b[0;34m\u001b[0m\u001b[0;34m\u001b[0m\u001b[0m\n\u001b[0;32m--> 246\u001b[0;31m             \u001b[0mvals\u001b[0m \u001b[0;34m=\u001b[0m \u001b[0mpd\u001b[0m\u001b[0;34m.\u001b[0m\u001b[0mSeries\u001b[0m\u001b[0;34m(\u001b[0m\u001b[0mvals\u001b[0m\u001b[0;34m)\u001b[0m\u001b[0;34m\u001b[0m\u001b[0;34m\u001b[0m\u001b[0m\n\u001b[0m\u001b[1;32m    247\u001b[0m \u001b[0;34m\u001b[0m\u001b[0m\n\u001b[1;32m    248\u001b[0m         \u001b[0;31m# Group the val data\u001b[0m\u001b[0;34m\u001b[0m\u001b[0;34m\u001b[0m\u001b[0;34m\u001b[0m\u001b[0m\n",
      "\u001b[0;32m~/Desktop/git/supplements/venv/graco/lib/python3.6/site-packages/pandas/core/series.py\u001b[0m in \u001b[0;36m__init__\u001b[0;34m(self, data, index, dtype, name, copy, fastpath)\u001b[0m\n\u001b[1;32m    314\u001b[0m                 \u001b[0mdata\u001b[0m \u001b[0;34m=\u001b[0m \u001b[0msanitize_array\u001b[0m\u001b[0;34m(\u001b[0m\u001b[0mdata\u001b[0m\u001b[0;34m,\u001b[0m \u001b[0mindex\u001b[0m\u001b[0;34m,\u001b[0m \u001b[0mdtype\u001b[0m\u001b[0;34m,\u001b[0m \u001b[0mcopy\u001b[0m\u001b[0;34m,\u001b[0m \u001b[0mraise_cast_failure\u001b[0m\u001b[0;34m=\u001b[0m\u001b[0;32mTrue\u001b[0m\u001b[0;34m)\u001b[0m\u001b[0;34m\u001b[0m\u001b[0;34m\u001b[0m\u001b[0m\n\u001b[1;32m    315\u001b[0m \u001b[0;34m\u001b[0m\u001b[0m\n\u001b[0;32m--> 316\u001b[0;31m                 \u001b[0mdata\u001b[0m \u001b[0;34m=\u001b[0m \u001b[0mSingleBlockManager\u001b[0m\u001b[0;34m(\u001b[0m\u001b[0mdata\u001b[0m\u001b[0;34m,\u001b[0m \u001b[0mindex\u001b[0m\u001b[0;34m,\u001b[0m \u001b[0mfastpath\u001b[0m\u001b[0;34m=\u001b[0m\u001b[0;32mTrue\u001b[0m\u001b[0;34m)\u001b[0m\u001b[0;34m\u001b[0m\u001b[0;34m\u001b[0m\u001b[0m\n\u001b[0m\u001b[1;32m    317\u001b[0m \u001b[0;34m\u001b[0m\u001b[0m\n\u001b[1;32m    318\u001b[0m         \u001b[0mgeneric\u001b[0m\u001b[0;34m.\u001b[0m\u001b[0mNDFrame\u001b[0m\u001b[0;34m.\u001b[0m\u001b[0m__init__\u001b[0m\u001b[0;34m(\u001b[0m\u001b[0mself\u001b[0m\u001b[0;34m,\u001b[0m \u001b[0mdata\u001b[0m\u001b[0;34m,\u001b[0m \u001b[0mfastpath\u001b[0m\u001b[0;34m=\u001b[0m\u001b[0;32mTrue\u001b[0m\u001b[0;34m)\u001b[0m\u001b[0;34m\u001b[0m\u001b[0;34m\u001b[0m\u001b[0m\n",
      "\u001b[0;32m~/Desktop/git/supplements/venv/graco/lib/python3.6/site-packages/pandas/core/internals/managers.py\u001b[0m in \u001b[0;36m__init__\u001b[0;34m(self, block, axis, do_integrity_check, fastpath)\u001b[0m\n\u001b[1;32m   1514\u001b[0m \u001b[0;34m\u001b[0m\u001b[0m\n\u001b[1;32m   1515\u001b[0m         \u001b[0;32mif\u001b[0m \u001b[0;32mnot\u001b[0m \u001b[0misinstance\u001b[0m\u001b[0;34m(\u001b[0m\u001b[0mblock\u001b[0m\u001b[0;34m,\u001b[0m \u001b[0mBlock\u001b[0m\u001b[0;34m)\u001b[0m\u001b[0;34m:\u001b[0m\u001b[0;34m\u001b[0m\u001b[0;34m\u001b[0m\u001b[0m\n\u001b[0;32m-> 1516\u001b[0;31m             \u001b[0mblock\u001b[0m \u001b[0;34m=\u001b[0m \u001b[0mmake_block\u001b[0m\u001b[0;34m(\u001b[0m\u001b[0mblock\u001b[0m\u001b[0;34m,\u001b[0m \u001b[0mplacement\u001b[0m\u001b[0;34m=\u001b[0m\u001b[0mslice\u001b[0m\u001b[0;34m(\u001b[0m\u001b[0;36m0\u001b[0m\u001b[0;34m,\u001b[0m \u001b[0mlen\u001b[0m\u001b[0;34m(\u001b[0m\u001b[0maxis\u001b[0m\u001b[0;34m)\u001b[0m\u001b[0;34m)\u001b[0m\u001b[0;34m,\u001b[0m \u001b[0mndim\u001b[0m\u001b[0;34m=\u001b[0m\u001b[0;36m1\u001b[0m\u001b[0;34m)\u001b[0m\u001b[0;34m\u001b[0m\u001b[0;34m\u001b[0m\u001b[0m\n\u001b[0m\u001b[1;32m   1517\u001b[0m \u001b[0;34m\u001b[0m\u001b[0m\n\u001b[1;32m   1518\u001b[0m         \u001b[0mself\u001b[0m\u001b[0;34m.\u001b[0m\u001b[0mblocks\u001b[0m \u001b[0;34m=\u001b[0m \u001b[0mtuple\u001b[0m\u001b[0;34m(\u001b[0m\u001b[0;34m[\u001b[0m\u001b[0mblock\u001b[0m\u001b[0;34m]\u001b[0m\u001b[0;34m)\u001b[0m\u001b[0;34m\u001b[0m\u001b[0;34m\u001b[0m\u001b[0m\n",
      "\u001b[0;32m~/Desktop/git/supplements/venv/graco/lib/python3.6/site-packages/pandas/core/internals/blocks.py\u001b[0m in \u001b[0;36mmake_block\u001b[0;34m(values, placement, klass, ndim, dtype, fastpath)\u001b[0m\n\u001b[1;32m   3282\u001b[0m         \u001b[0mvalues\u001b[0m \u001b[0;34m=\u001b[0m \u001b[0mDatetimeArray\u001b[0m\u001b[0;34m.\u001b[0m\u001b[0m_simple_new\u001b[0m\u001b[0;34m(\u001b[0m\u001b[0mvalues\u001b[0m\u001b[0;34m,\u001b[0m \u001b[0mdtype\u001b[0m\u001b[0;34m=\u001b[0m\u001b[0mdtype\u001b[0m\u001b[0;34m)\u001b[0m\u001b[0;34m\u001b[0m\u001b[0;34m\u001b[0m\u001b[0m\n\u001b[1;32m   3283\u001b[0m \u001b[0;34m\u001b[0m\u001b[0m\n\u001b[0;32m-> 3284\u001b[0;31m     \u001b[0;32mreturn\u001b[0m \u001b[0mklass\u001b[0m\u001b[0;34m(\u001b[0m\u001b[0mvalues\u001b[0m\u001b[0;34m,\u001b[0m \u001b[0mndim\u001b[0m\u001b[0;34m=\u001b[0m\u001b[0mndim\u001b[0m\u001b[0;34m,\u001b[0m \u001b[0mplacement\u001b[0m\u001b[0;34m=\u001b[0m\u001b[0mplacement\u001b[0m\u001b[0;34m)\u001b[0m\u001b[0;34m\u001b[0m\u001b[0;34m\u001b[0m\u001b[0m\n\u001b[0m\u001b[1;32m   3285\u001b[0m \u001b[0;34m\u001b[0m\u001b[0m\n\u001b[1;32m   3286\u001b[0m \u001b[0;34m\u001b[0m\u001b[0m\n",
      "\u001b[0;32m~/Desktop/git/supplements/venv/graco/lib/python3.6/site-packages/pandas/core/internals/blocks.py\u001b[0m in \u001b[0;36m__init__\u001b[0;34m(self, values, placement, ndim)\u001b[0m\n\u001b[1;32m   2790\u001b[0m             \u001b[0mvalues\u001b[0m \u001b[0;34m=\u001b[0m \u001b[0mnp\u001b[0m\u001b[0;34m.\u001b[0m\u001b[0marray\u001b[0m\u001b[0;34m(\u001b[0m\u001b[0mvalues\u001b[0m\u001b[0;34m,\u001b[0m \u001b[0mdtype\u001b[0m\u001b[0;34m=\u001b[0m\u001b[0mobject\u001b[0m\u001b[0;34m)\u001b[0m\u001b[0;34m\u001b[0m\u001b[0;34m\u001b[0m\u001b[0m\n\u001b[1;32m   2791\u001b[0m \u001b[0;34m\u001b[0m\u001b[0m\n\u001b[0;32m-> 2792\u001b[0;31m         \u001b[0msuper\u001b[0m\u001b[0;34m(\u001b[0m\u001b[0;34m)\u001b[0m\u001b[0;34m.\u001b[0m\u001b[0m__init__\u001b[0m\u001b[0;34m(\u001b[0m\u001b[0mvalues\u001b[0m\u001b[0;34m,\u001b[0m \u001b[0mndim\u001b[0m\u001b[0;34m=\u001b[0m\u001b[0mndim\u001b[0m\u001b[0;34m,\u001b[0m \u001b[0mplacement\u001b[0m\u001b[0;34m=\u001b[0m\u001b[0mplacement\u001b[0m\u001b[0;34m)\u001b[0m\u001b[0;34m\u001b[0m\u001b[0;34m\u001b[0m\u001b[0m\n\u001b[0m\u001b[1;32m   2793\u001b[0m \u001b[0;34m\u001b[0m\u001b[0m\n\u001b[1;32m   2794\u001b[0m     \u001b[0;34m@\u001b[0m\u001b[0mproperty\u001b[0m\u001b[0;34m\u001b[0m\u001b[0;34m\u001b[0m\u001b[0m\n",
      "\u001b[0;32m~/Desktop/git/supplements/venv/graco/lib/python3.6/site-packages/pandas/core/internals/blocks.py\u001b[0m in \u001b[0;36m__init__\u001b[0;34m(self, values, placement, ndim)\u001b[0m\n\u001b[1;32m    126\u001b[0m             raise ValueError(\n\u001b[1;32m    127\u001b[0m                 \u001b[0;34m\"Wrong number of items passed {val}, placement implies \"\u001b[0m\u001b[0;34m\u001b[0m\u001b[0;34m\u001b[0m\u001b[0m\n\u001b[0;32m--> 128\u001b[0;31m                 \u001b[0;34m\"{mgr}\"\u001b[0m\u001b[0;34m.\u001b[0m\u001b[0mformat\u001b[0m\u001b[0;34m(\u001b[0m\u001b[0mval\u001b[0m\u001b[0;34m=\u001b[0m\u001b[0mlen\u001b[0m\u001b[0;34m(\u001b[0m\u001b[0mself\u001b[0m\u001b[0;34m.\u001b[0m\u001b[0mvalues\u001b[0m\u001b[0;34m)\u001b[0m\u001b[0;34m,\u001b[0m \u001b[0mmgr\u001b[0m\u001b[0;34m=\u001b[0m\u001b[0mlen\u001b[0m\u001b[0;34m(\u001b[0m\u001b[0mself\u001b[0m\u001b[0;34m.\u001b[0m\u001b[0mmgr_locs\u001b[0m\u001b[0;34m)\u001b[0m\u001b[0;34m)\u001b[0m\u001b[0;34m\u001b[0m\u001b[0;34m\u001b[0m\u001b[0m\n\u001b[0m\u001b[1;32m    129\u001b[0m             )\n\u001b[1;32m    130\u001b[0m \u001b[0;34m\u001b[0m\u001b[0m\n",
      "\u001b[0;31mValueError\u001b[0m: Wrong number of items passed 3, placement implies 5466"
     ]
    },
    {
     "data": {
      "image/png": "[encoded data removed]",
      "text/plain": [
       "<Figure size 864x648 with 1 Axes>"
      ]
     },
     "metadata": {
      "needs_background": "light"
     },
     "output_type": "display_data"
    }
   ],
   "source": [
    "fig, ax = plt.subplots(figsize=(12,9))\n",
    "fig.patch.set_alpha(0)\n",
    "ax.patch.set_alpha(0)\n",
    "\n",
    "ax.axis('off')\n",
    "\n",
    "sns.stripplot(x='hue', y='2',data=data, ax=ax);"
   ]
  },
  {
   "cell_type": "code",
   "execution_count": 40,
   "metadata": {},
   "outputs": [],
   "source": [
    "GO_genes = GO2genes['GO:0006281']"
   ]
  },
  {
   "cell_type": "code",
   "execution_count": 42,
   "metadata": {},
   "outputs": [
    {
     "data": {
      "text/html": [
       "<div>\n",
       "<style scoped>\n",
       "    .dataframe tbody tr th:only-of-type {\n",
       "        vertical-align: middle;\n",
       "    }\n",
       "\n",
       "    .dataframe tbody tr th {\n",
       "        vertical-align: top;\n",
       "    }\n",
       "\n",
       "    .dataframe thead th {\n",
       "        text-align: right;\n",
       "    }\n",
       "</style>\n",
       "<table border=\"1\" class=\"dataframe\">\n",
       "  <thead>\n",
       "    <tr style=\"text-align: right;\">\n",
       "      <th>Orbit</th>\n",
       "      <th>2</th>\n",
       "      <th>3</th>\n",
       "    </tr>\n",
       "  </thead>\n",
       "  <tbody>\n",
       "    <tr>\n",
       "      <th>YDL084W</th>\n",
       "      <td>0.707345</td>\n",
       "      <td>0.292655</td>\n",
       "    </tr>\n",
       "    <tr>\n",
       "      <th>YMR039C</th>\n",
       "      <td>0.747036</td>\n",
       "      <td>0.252964</td>\n",
       "    </tr>\n",
       "    <tr>\n",
       "      <th>YBR098W</th>\n",
       "      <td>0.801471</td>\n",
       "      <td>0.198529</td>\n",
       "    </tr>\n",
       "    <tr>\n",
       "      <th>YOL090W</th>\n",
       "      <td>0.824390</td>\n",
       "      <td>0.175610</td>\n",
       "    </tr>\n",
       "    <tr>\n",
       "      <th>YBR278W</th>\n",
       "      <td>0.633987</td>\n",
       "      <td>0.366013</td>\n",
       "    </tr>\n",
       "    <tr>\n",
       "      <th>...</th>\n",
       "      <td>...</td>\n",
       "      <td>...</td>\n",
       "    </tr>\n",
       "    <tr>\n",
       "      <th>YDR013W</th>\n",
       "      <td>0.532468</td>\n",
       "      <td>0.467532</td>\n",
       "    </tr>\n",
       "    <tr>\n",
       "      <th>YGL126W</th>\n",
       "      <td>0.733333</td>\n",
       "      <td>0.266667</td>\n",
       "    </tr>\n",
       "    <tr>\n",
       "      <th>YDR439W</th>\n",
       "      <td>0.889617</td>\n",
       "      <td>0.110383</td>\n",
       "    </tr>\n",
       "    <tr>\n",
       "      <th>YCL061C</th>\n",
       "      <td>0.689218</td>\n",
       "      <td>0.310782</td>\n",
       "    </tr>\n",
       "    <tr>\n",
       "      <th>YOR290C</th>\n",
       "      <td>0.822803</td>\n",
       "      <td>0.177197</td>\n",
       "    </tr>\n",
       "  </tbody>\n",
       "</table>\n",
       "<p>225 rows × 2 columns</p>\n",
       "</div>"
      ],
      "text/plain": [
       "Orbit           2         3\n",
       "YDL084W  0.707345  0.292655\n",
       "YMR039C  0.747036  0.252964\n",
       "YBR098W  0.801471  0.198529\n",
       "YOL090W  0.824390  0.175610\n",
       "YBR278W  0.633987  0.366013\n",
       "...           ...       ...\n",
       "YDR013W  0.532468  0.467532\n",
       "YGL126W  0.733333  0.266667\n",
       "YDR439W  0.889617  0.110383\n",
       "YCL061C  0.689218  0.310782\n",
       "YOR290C  0.822803  0.177197\n",
       "\n",
       "[225 rows x 2 columns]"
      ]
     },
     "execution_count": 42,
     "metadata": {},
     "output_type": "execute_result"
    }
   ],
   "source": [
    "GCV[Eq].loc[GO_genes]"
   ]
  },
  {
   "cell_type": "code",
   "execution_count": 45,
   "metadata": {},
   "outputs": [
    {
     "data": {
      "text/plain": [
       "23"
      ]
     },
     "execution_count": 45,
     "metadata": {},
     "output_type": "execute_result"
    }
   ],
   "source": [
    "len(set(GCV.columns.droplevel([depth-1])))"
   ]
  },
  {
   "cell_type": "code",
   "execution_count": 8,
   "metadata": {},
   "outputs": [
    {
     "data": {
      "image/png": "[encoded data removed]",
      "text/plain": [
       "<Figure size 432x432 with 3 Axes>"
      ]
     },
     "metadata": {
      "needs_background": "light"
     },
     "output_type": "display_data"
    }
   ],
   "source": [
    "ax = sns.jointplot(data=data, x='1', y='2')"
   ]
  },
  {
   "cell_type": "code",
   "execution_count": 9,
   "metadata": {},
   "outputs": [
    {
     "data": {
      "text/html": [
       "<div>\n",
       "<style scoped>\n",
       "    .dataframe tbody tr th:only-of-type {\n",
       "        vertical-align: middle;\n",
       "    }\n",
       "\n",
       "    .dataframe tbody tr th {\n",
       "        vertical-align: top;\n",
       "    }\n",
       "\n",
       "    .dataframe thead th {\n",
       "        text-align: right;\n",
       "    }\n",
       "</style>\n",
       "<table border=\"1\" class=\"dataframe\">\n",
       "  <thead>\n",
       "    <tr style=\"text-align: right;\">\n",
       "      <th>Orbit</th>\n",
       "      <th>2</th>\n",
       "      <th>3</th>\n",
       "      <th>1</th>\n",
       "      <th>3</th>\n",
       "    </tr>\n",
       "  </thead>\n",
       "  <tbody>\n",
       "    <tr>\n",
       "      <th>YAL021C</th>\n",
       "      <td>0.006051</td>\n",
       "      <td>0.993949</td>\n",
       "      <td>0.571985</td>\n",
       "      <td>0.428015</td>\n",
       "    </tr>\n",
       "    <tr>\n",
       "      <th>YGL122C</th>\n",
       "      <td>0.007651</td>\n",
       "      <td>0.992349</td>\n",
       "      <td>0.529801</td>\n",
       "      <td>0.470199</td>\n",
       "    </tr>\n",
       "    <tr>\n",
       "      <th>YDL160C</th>\n",
       "      <td>0.008952</td>\n",
       "      <td>0.991048</td>\n",
       "      <td>0.809326</td>\n",
       "      <td>0.190674</td>\n",
       "    </tr>\n",
       "  </tbody>\n",
       "</table>\n",
       "</div>"
      ],
      "text/plain": [
       "Orbit           2         3         1         3\n",
       "YAL021C  0.006051  0.993949  0.571985  0.428015\n",
       "YGL122C  0.007651  0.992349  0.529801  0.470199\n",
       "YDL160C  0.008952  0.991048  0.809326  0.190674"
      ]
     },
     "execution_count": 9,
     "metadata": {},
     "output_type": "execute_result"
    }
   ],
   "source": [
    "genes = data[data['1']>0.5]\n",
    "genes"
   ]
  },
  {
   "cell_type": "code",
   "execution_count": 11,
   "metadata": {},
   "outputs": [
    {
     "data": {
      "text/plain": [
       "array(['GO:0009987', 'GO:0065007', 'GO:0008152', 'GO:0051179',\n",
       "       'GO:0071840'], dtype=object)"
      ]
     },
     "execution_count": 11,
     "metadata": {},
     "output_type": "execute_result"
    }
   ],
   "source": [
    "annotation_df[(annotation_df.Systematic_ID.isin(genes.index)) & (annotation_df.Level == 1)].GO_ID.unique()"
   ]
  },
  {
   "cell_type": "code",
   "execution_count": 12,
   "metadata": {},
   "outputs": [
    {
     "data": {
      "text/plain": [
       "18"
      ]
     },
     "execution_count": 12,
     "metadata": {},
     "output_type": "execute_result"
    }
   ],
   "source": [
    "len(annotation_df[annotation_df.Level == 1].GO_ID.unique())"
   ]
  },
  {
   "cell_type": "code",
   "execution_count": 22,
   "metadata": {},
   "outputs": [
    {
     "name": "stdout",
     "output_type": "stream",
     "text": [
      "biological regulation\n",
      "cellular process\n",
      "metabolic process\n",
      "reproductive process\n",
      "cellular component organization or biogenesis\n",
      "localization\n",
      "developmental process\n",
      "growth\n",
      "response to stimulus\n",
      "reproduction\n",
      "biological adhesion\n",
      "multi-organism process\n",
      "nitrogen utilization\n",
      "cell aggregation\n",
      "detoxification\n",
      "carbon utilization\n",
      "rhythmic process\n",
      "immune system process\n"
     ]
    }
   ],
   "source": [
    "for go_id in annotation_df[annotation_df.Level == 1].GO_ID.unique():\n",
    "    print(go_dag[go_id].name)"
   ]
  },
  {
   "cell_type": "code",
   "execution_count": 116,
   "metadata": {},
   "outputs": [
    {
     "data": {
      "text/plain": [
       "3510"
      ]
     },
     "execution_count": 116,
     "metadata": {},
     "output_type": "execute_result"
    }
   ],
   "source": [
    "n = 123\n",
    "m = 45\n",
    "\n",
    "nx.barabasi_albert_graph(n,m).number_of_edges()"
   ]
  },
  {
   "cell_type": "code",
   "execution_count": 117,
   "metadata": {},
   "outputs": [
    {
     "data": {
      "text/plain": [
       "3510"
      ]
     },
     "execution_count": 117,
     "metadata": {},
     "output_type": "execute_result"
    }
   ],
   "source": [
    "m*(n-m)"
   ]
  },
  {
   "cell_type": "code",
   "execution_count": 124,
   "metadata": {},
   "outputs": [],
   "source": [
    "n = 5000\n",
    "rho = 0.005"
   ]
  },
  {
   "cell_type": "code",
   "execution_count": 135,
   "metadata": {},
   "outputs": [
    {
     "data": {
      "text/plain": [
       "25.121215089514862"
      ]
     },
     "execution_count": 135,
     "metadata": {},
     "output_type": "execute_result"
    }
   ],
   "source": [
    "n/2 - np.sqrt(n**2/4 - n*(n-1)*rho/2)"
   ]
  },
  {
   "cell_type": "code",
   "execution_count": 136,
   "metadata": {},
   "outputs": [
    {
     "data": {
      "text/plain": [
       "0.009951990398079615"
      ]
     },
     "execution_count": 136,
     "metadata": {},
     "output_type": "execute_result"
    }
   ],
   "source": [
    "nx.density(nx.barabasi_albert_graph(n,25))"
   ]
  },
  {
   "cell_type": "code",
   "execution_count": 142,
   "metadata": {},
   "outputs": [],
   "source": []
  },
  {
   "cell_type": "code",
   "execution_count": null,
   "metadata": {},
   "outputs": [],
   "source": []
  }
 ],
 "metadata": {
  "kernelspec": {
   "display_name": "graco",
   "language": "python",
   "name": "graco"
  },
  "language_info": {
   "codemirror_mode": {
    "name": "ipython",
    "version": 3
   },
   "file_extension": ".py",
   "mimetype": "text/x-python",
   "name": "python",
   "nbconvert_exporter": "python",
   "pygments_lexer": "ipython3",
   "version": "3.6.8"
  }
 },
 "nbformat": 4,
 "nbformat_minor": 2
}
