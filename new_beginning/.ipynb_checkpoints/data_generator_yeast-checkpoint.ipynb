{
 "cells": [
  {
   "cell_type": "code",
   "execution_count": 1,
   "metadata": {},
   "outputs": [],
   "source": [
    "from goatools import obo_parser\n",
    "from zipfile import ZipFile\n",
    "\n",
    "import os\n",
    "import gzip\n",
    "import graco\n",
    "import shutil\n",
    "import requests\n",
    "import numpy as np\n",
    "import pandas as pd\n",
    "import networkx as nx\n",
    "import Bio.UniProt.GOA as GOA"
   ]
  },
  {
   "cell_type": "code",
   "execution_count": 2,
   "metadata": {},
   "outputs": [],
   "source": [
    "pd.set_option(\"display.max_columns\", 50)\n",
    "pd.set_option(\"display.max_rows\", 50)\n",
    "\n",
    "DATA_DIRECTORY = \"/media/clusterduck123/joe/data/\"\n",
    "RAW_DATA_DIRECTORY = f\"{DATA_DIRECTORY}/raw-data\"\n",
    "YEAST_DIRECTORY = f\"{DATA_DIRECTORY}/processed-data/yeast\"\n",
    "NETWORK_DIRECTORY = f\"{YEAST_DIRECTORY}/networks\"\n",
    "ANNOTATION_DIRECTORY = f\"{YEAST_DIRECTORY}/annotations\""
   ]
  },
  {
   "cell_type": "markdown",
   "metadata": {},
   "source": [
    "# Downloads"
   ]
  },
  {
   "cell_type": "markdown",
   "metadata": {},
   "source": [
    "## COEXPRESdb"
   ]
  },
  {
   "cell_type": "code",
   "execution_count": 3,
   "metadata": {},
   "outputs": [],
   "source": [
    "if not os.path.exists(RAW_DATA_DIRECTORY):\n",
    "     os.makedirs(directory)\n",
    "\n",
    "COEXPRESdb_FILENAME = f\"Sce-u.v18-11.G5879-S4798.combat_pca_subagging.mrgeo.d.zip\"\n",
    "COEXPRESdb_URL = f\"https://coxpresdb.jp/download/Sce-u.c2-0/coex/\"\n",
    "COEXPRESdb_FILEPATH = f\"{RAW_DATA_DIRECTORY}/{COEXPRESdb_FILENAME}\" "
   ]
  },
  {
   "cell_type": "code",
   "execution_count": 4,
   "metadata": {},
   "outputs": [],
   "source": [
    "# Download\n",
    "r = requests.get(f\"{COEXPRESdb_URL}\", allow_redirects=True)\n",
    "with open(COEXPRESdb_FILEPATH, 'wb') as f:\n",
    "    f.write(r.content)"
   ]
  },
  {
   "cell_type": "code",
   "execution_count": 8,
   "metadata": {},
   "outputs": [],
   "source": [
    "# Unzip folder\n",
    "\n",
    "COEXPRESdb_FOLDER = \"Sce-u.v18-11.G5879-S4798.combat_pca_subagging.mrgeo.d\"\n",
    "with ZipFile(COEXPRESdb_FILEPATH, 'r') as z:\n",
    "    z.extractall(RAW_DATA_DIRECTORY)"
   ]
  },
  {
   "cell_type": "markdown",
   "metadata": {},
   "source": [
    "## BioGRID"
   ]
  },
  {
   "cell_type": "code",
   "execution_count": 3,
   "metadata": {},
   "outputs": [],
   "source": [
    "if not os.path.exists(RAW_DATA_DIRECTORY):\n",
    "     os.makedirs(directory)\n",
    "\n",
    "VERSION = \"3.5.181\"\n",
    "BioGRID_FILENAME = f\"BIOGRID-ORGANISM-{VERSION}.tab2.zip\"\n",
    "BioGRID_URL = f\"https://downloads.thebiogrid.org/Download/BioGRID/Release-Archive/BIOGRID-{VERSION}\"\n",
    "BioGRID_FILEPATH = f\"{RAW_DATA_DIRECTORY}/{BioGRID_FILENAME}\" "
   ]
  },
  {
   "cell_type": "code",
   "execution_count": 4,
   "metadata": {},
   "outputs": [],
   "source": [
    "# Download\n",
    "r = requests.get(f\"{BioGRID_URL}/{BioGRID_FILENAME}\", allow_redirects=True)\n",
    "with open(BioGRID_FILEPATH, 'wb') as f:\n",
    "    f.write(r.content)"
   ]
  },
  {
   "cell_type": "markdown",
   "metadata": {},
   "source": [
    "#### select yeast"
   ]
  },
  {
   "cell_type": "code",
   "execution_count": 5,
   "metadata": {},
   "outputs": [],
   "source": [
    "# Unzip Saccharomyces cerevisiae file\n",
    "with ZipFile(BioGRID_FILEPATH, 'r') as z:\n",
    "    BioGRID_sc_FILENAME, = [name for name in z.namelist() if 'cerevisiae' in name.lower()]\n",
    "    z.extract(BioGRID_sc_FILENAME, RAW_DATA_DIRECTORY)"
   ]
  },
  {
   "cell_type": "markdown",
   "metadata": {},
   "source": [
    "### SGD annotations"
   ]
  },
  {
   "cell_type": "code",
   "execution_count": 8,
   "metadata": {},
   "outputs": [],
   "source": [
    "SGD_FILENAME = \"sgd.gaf.gz\"\n",
    "SGD_URL = \"http://current.geneontology.org/annotations\"\n",
    "SGD_FILEPATH = f\"{RAW_DATA_DIRECTORY}/{SGD_FILENAME}\""
   ]
  },
  {
   "cell_type": "code",
   "execution_count": 9,
   "metadata": {},
   "outputs": [],
   "source": [
    "# Download\n",
    "r = requests.get(f\"{SGD_URL}/{SGD_FILENAME}\", allow_redirects=True)\n",
    "with open(SGD_FILEPATH, 'wb') as f:\n",
    "    f.write(r.content)"
   ]
  },
  {
   "cell_type": "markdown",
   "metadata": {},
   "source": [
    "### GO"
   ]
  },
  {
   "cell_type": "code",
   "execution_count": 10,
   "metadata": {},
   "outputs": [],
   "source": [
    "GO_FILENAME = \"go-basic.obo\"\n",
    "GO_URL = \"http://purl.obolibrary.org/obo/go\"\n",
    "GO_FILEPATH = f\"{RAW_DATA_DIRECTORY}/{GO_FILENAME}\""
   ]
  },
  {
   "cell_type": "code",
   "execution_count": 11,
   "metadata": {},
   "outputs": [],
   "source": [
    "# Download\n",
    "r = requests.get(f\"{GO_URL}/{GO_FILENAME}\", allow_redirects=True)\n",
    "with open(GO_FILEPATH, 'wb') as f:\n",
    "    f.write(r.content)"
   ]
  },
  {
   "cell_type": "markdown",
   "metadata": {},
   "source": [
    "## DEG"
   ]
  },
  {
   "cell_type": "code",
   "execution_count": 3,
   "metadata": {},
   "outputs": [],
   "source": [
    "DEG_FILENAME = \"deg-e-15.2.zip\"\n",
    "DEG_URL = f\"http://origin.tubic.org/deg/public/static/download/{DEG_FILENAME}\"\n",
    "DEG_FILEPATH = f\"{RAW_DATA_DIRECTORY}/{DEG_FILENAME}\""
   ]
  },
  {
   "cell_type": "code",
   "execution_count": 4,
   "metadata": {},
   "outputs": [],
   "source": [
    "# Download\n",
    "r = requests.get(f\"{DEG_URL}\", allow_redirects=True)\n",
    "with open(DEG_FILEPATH, 'wb') as f:\n",
    "    f.write(r.content)"
   ]
  },
  {
   "cell_type": "markdown",
   "metadata": {},
   "source": [
    "### select annotations"
   ]
  },
  {
   "cell_type": "code",
   "execution_count": 5,
   "metadata": {},
   "outputs": [],
   "source": [
    "# Unzip Saccharomyces cerevisiae file\n",
    "with ZipFile(DEG_FILEPATH, 'r') as z:\n",
    "    DEG_ANN_FILENAME, = ['degannotation-e.dat']\n",
    "    z.extract(DEG_ANN_FILENAME, RAW_DATA_DIRECTORY)"
   ]
  },
  {
   "cell_type": "markdown",
   "metadata": {},
   "source": [
    "# BioGRID full PPI"
   ]
  },
  {
   "cell_type": "markdown",
   "metadata": {},
   "source": [
    "### Load BioGRID as dataframe"
   ]
  },
  {
   "cell_type": "code",
   "execution_count": 3,
   "metadata": {},
   "outputs": [],
   "source": [
    "VERSION = \"3.5.181\"\n",
    "\n",
    "# load BioGRID file as dataframe\n",
    "organism_FILENAME = f\"BIOGRID-ORGANISM-Saccharomyces_cerevisiae_S288c-{VERSION}.tab2.txt\"\n",
    "organism_FILEPATH = f\"{RAW_DATA_DIRECTORY}/{organism_FILENAME}\"\n",
    "\n",
    "# remove entrez_id column and score_column because of mixed datatypes \n",
    "BioGRID_df = pd.read_csv(organism_FILEPATH, delimiter='\\t',\n",
    "                           usecols=[index for index in range(24) if index not in {1,2,18}])"
   ]
  },
  {
   "cell_type": "markdown",
   "metadata": {},
   "source": [
    "### Flilter for evidence code"
   ]
  },
  {
   "cell_type": "code",
   "execution_count": 4,
   "metadata": {},
   "outputs": [],
   "source": [
    "# Filter for (reliable) physical interactions\n",
    "EXPERIMENTAL_SYSTEM = {'Two-hybrid', \n",
    "                       'Affinity Capture-Luminescence',\n",
    "                       'Affinity Capture-MS', \n",
    "                       'Affinity Capture-RNA', \n",
    "                       'Affinity Capture-Western'}\n",
    "\n",
    "physical_interaction_df = BioGRID_df[BioGRID_df['Experimental System'].isin(EXPERIMENTAL_SYSTEM)]\n",
    "\n",
    "# Check if all evidence codes measure physical interactions\n",
    "EXPERIMENTAL_SYSTEM_TYPE = {'physical'} \n",
    "assert physical_interaction_df['Experimental System Type'].isin(EXPERIMENTAL_SYSTEM_TYPE).all()"
   ]
  },
  {
   "cell_type": "markdown",
   "metadata": {},
   "source": [
    "### Define PPI"
   ]
  },
  {
   "cell_type": "code",
   "execution_count": 5,
   "metadata": {},
   "outputs": [],
   "source": [
    "# Reduce PPI to simple network\n",
    "PPI_nx = nx.from_pandas_edgelist(physical_interaction_df,\n",
    "                                 'BioGRID ID Interactor A', \n",
    "                                 'BioGRID ID Interactor B')\n",
    "PPI_nx.remove_edges_from(nx.selfloop_edges(PPI_nx))"
   ]
  },
  {
   "cell_type": "markdown",
   "metadata": {},
   "source": [
    "### Summary"
   ]
  },
  {
   "cell_type": "code",
   "execution_count": 6,
   "metadata": {},
   "outputs": [
    {
     "name": "stdout",
     "output_type": "stream",
     "text": [
      "PPI nodes  :   6715\n",
      "PPI edges  :  96618\n",
      "PPI density: 0.0043\n"
     ]
    }
   ],
   "source": [
    "print(f\"PPI nodes  : {PPI_nx.number_of_nodes():>6d}\")\n",
    "print(f\"PPI edges  : {PPI_nx.number_of_edges():>6d}\")\n",
    "print(f\"PPI density: {nx.density(PPI_nx):.4f}\")"
   ]
  },
  {
   "cell_type": "markdown",
   "metadata": {},
   "source": [
    "### Save"
   ]
  },
  {
   "cell_type": "code",
   "execution_count": 7,
   "metadata": {},
   "outputs": [],
   "source": [
    "if not os.path.exists(NETWORK_DIRECTORY):\n",
    "    os.makedirs(NETWORK_DIRECTORY)\n",
    "\n",
    "nx.write_edgelist(PPI_nx, f\"{NETWORK_DIRECTORY}/full_PPI_BioGRID.txt\", data=False)"
   ]
  },
  {
   "cell_type": "markdown",
   "metadata": {},
   "source": [
    "# BioGRID systematic PPI"
   ]
  },
  {
   "cell_type": "markdown",
   "metadata": {},
   "source": [
    "### Define systematic dictionary"
   ]
  },
  {
   "cell_type": "code",
   "execution_count": 36,
   "metadata": {},
   "outputs": [],
   "source": [
    "identifier_df = pd.read_csv(f\"{RAW_DATA_DIRECTORY}/BIOGRID_SC_IDENTIFIERS-3.5.181.csv\", index_col=0)\n",
    "identifier_df = identifier_df[identifier_df.IDENTIFIER_TYPE == 'SYSTEMATIC NAME']\n",
    "identifier_s = pd.Series(identifier_df.IDENTIFIER_VALUE.values, index=identifier_df.BIOGRID_ID)"
   ]
  },
  {
   "cell_type": "markdown",
   "metadata": {},
   "source": [
    "### Define systematic PPI"
   ]
  },
  {
   "cell_type": "code",
   "execution_count": 37,
   "metadata": {},
   "outputs": [],
   "source": [
    "PPI_nx = nx.read_edgelist(f\"{NETWORK_DIRECTORY}/full_PPI_BioGRID.txt\", nodetype=int)\n",
    "\n",
    "sys_PPI_nx = nx.relabel_nodes(PPI_nx, identifier_s)\n",
    "\n",
    "nodes = filter(lambda x:str(x).startswith('Y'),sys_PPI_nx.nodes())\n",
    "sys_PPI_nx = nx.induced_subgraph(sys_PPI_nx, nodes)\n",
    "sys_PPI_nx = nx.induced_subgraph(sys_PPI_nx,\n",
    "                                 max(nx.connected_components(sys_PPI_nx), \n",
    "                                     key=len))"
   ]
  },
  {
   "cell_type": "markdown",
   "metadata": {},
   "source": [
    "### Summary"
   ]
  },
  {
   "cell_type": "code",
   "execution_count": 38,
   "metadata": {},
   "outputs": [
    {
     "name": "stdout",
     "output_type": "stream",
     "text": [
      "      full PPI nodes  :   6715\n",
      "      full PPI edges  :  96618\n",
      "      full PPI density: 0.0043\n",
      "------------------------------\n",
      "systematic PPI nodes  :   5691\n",
      "systematic PPI edges  :  92866\n",
      "systematic PPI density: 0.0057\n"
     ]
    }
   ],
   "source": [
    "print(f\"      full PPI nodes  : {PPI_nx.number_of_nodes():>6d}\")\n",
    "print(f\"      full PPI edges  : {PPI_nx.number_of_edges():>6d}\")\n",
    "print(f\"      full PPI density: {nx.density(PPI_nx):.4f}\")\n",
    "print('------------------------------')\n",
    "print(f\"systematic PPI nodes  : {sys_PPI_nx.number_of_nodes():>6d}\")\n",
    "print(f\"systematic PPI edges  : {sys_PPI_nx.number_of_edges():>6d}\")\n",
    "print(f\"systematic PPI density: {nx.density(sys_PPI_nx):.4f}\")"
   ]
  },
  {
   "cell_type": "markdown",
   "metadata": {},
   "source": [
    "# BioGRID systematic PPI"
   ]
  },
  {
   "cell_type": "markdown",
   "metadata": {},
   "source": [
    "### Define interactor universes"
   ]
  },
  {
   "cell_type": "code",
   "execution_count": 21,
   "metadata": {},
   "outputs": [],
   "source": [
    "VERSION = \"3.5.181\"\n",
    "\n",
    "# load BioGRID file as dataframe\n",
    "organism_FILENAME = f\"BIOGRID-ORGANISM-Saccharomyces_cerevisiae_S288c-{VERSION}.tab2.txt\"\n",
    "organism_FILEPATH = f\"{RAW_DATA_DIRECTORY}/{organism_FILENAME}\"\n",
    "\n",
    "# remove entrez ids and scores because of mixed datatypes \n",
    "BioGRID_df = pd.read_csv(organism_FILEPATH, delimiter='\\t',\n",
    "                           usecols=[index for index in range(24) if index not in {1,2,18}])"
   ]
  },
  {
   "cell_type": "code",
   "execution_count": 22,
   "metadata": {},
   "outputs": [],
   "source": [
    "# BioGRID universe is the collection of every gene known to BioGRID\n",
    "universe = set(BioGRID_df['BioGRID ID Interactor A']) | \\\n",
    "           set(BioGRID_df['BioGRID ID Interactor B'])\n",
    "\n",
    "systematic_universe = set(BioGRID_df['Systematic Name Interactor A']) | \\\n",
    "                      set(BioGRID_df['Systematic Name Interactor B'])\n",
    "systematic_universe.remove('-')"
   ]
  },
  {
   "cell_type": "code",
   "execution_count": 27,
   "metadata": {},
   "outputs": [],
   "source": [
    "# Filter for (reliable) physical interactions\n",
    "EXPERIMENTAL_SYSTEM = {'Two-hybrid', \n",
    "                       'Affinity Capture-Luminescence',\n",
    "                       'Affinity Capture-MS', \n",
    "                       'Affinity Capture-RNA', \n",
    "                       'Affinity Capture-Western'}\n",
    "\n",
    "physical_interaction_df = BioGRID_df[BioGRID_df['Experimental System'].isin(EXPERIMENTAL_SYSTEM)]\n",
    "\n",
    "# Check if all evidence codes measure physical interactions\n",
    "EXPERIMENTAL_SYSTEM_TYPE = {'physical'} \n",
    "assert physical_interaction_df['Experimental System Type'].isin(EXPERIMENTAL_SYSTEM_TYPE).all()"
   ]
  },
  {
   "cell_type": "markdown",
   "metadata": {},
   "source": [
    "### Define PPI"
   ]
  },
  {
   "cell_type": "code",
   "execution_count": 28,
   "metadata": {},
   "outputs": [],
   "source": [
    "# PPI in dataframe\n",
    "PPI_df = physical_interaction_df[\n",
    "    physical_interaction_df[\"Systematic Name Interactor A\"].str.startswith('Y') & \\\n",
    "    physical_interaction_df[\"Systematic Name Interactor B\"].str.startswith('Y')]\n",
    "\n",
    "PPI_universe = set(PPI_df['Systematic Name Interactor A']) | \\\n",
    "               set(PPI_df['Systematic Name Interactor B'])"
   ]
  },
  {
   "cell_type": "code",
   "execution_count": 29,
   "metadata": {},
   "outputs": [],
   "source": [
    "# Reduce PPI to simple network\n",
    "PPI_nx = nx.from_pandas_edgelist(PPI_df,'Systematic Name Interactor A', 'Systematic Name Interactor B')\n",
    "PPI_nx.remove_edges_from(nx.selfloop_edges(PPI_nx))"
   ]
  },
  {
   "cell_type": "markdown",
   "metadata": {},
   "source": [
    "### Summary"
   ]
  },
  {
   "cell_type": "code",
   "execution_count": 30,
   "metadata": {},
   "outputs": [
    {
     "name": "stdout",
     "output_type": "stream",
     "text": [
      "BioGRID universe sizes:\n",
      "=========================\n",
      "    -         -    : 7327\n",
      "systematic    -    : 6584\n",
      "    -      physical: 6715\n",
      "systematic physical: 6173\n",
      "-------------------------\n",
      "PPI nodes  :  5726\n",
      "PPI edges  : 92974\n",
      "PPI density: 0.006\n"
     ]
    }
   ],
   "source": [
    "print(\"BioGRID universe sizes:\")\n",
    "print(\"=========================\")\n",
    "print(f\"    -         -    : {len(universe)}\")\n",
    "print(f\"systematic    -    : {len(systematic_universe)}\")\n",
    "print(f\"    -      physical: {len(physical_universe)}\")\n",
    "print(f\"systematic physical: {len(systematic_physical_universe)}\")\n",
    "print(\"-------------------------\")\n",
    "print(f\"PPI nodes  : {PPI_nx.number_of_nodes():>5d}\")\n",
    "print(f\"PPI edges  : {PPI_nx.number_of_edges()}\")\n",
    "print(f\"PPI density: {nx.density(PPI_nx):.3f}\")"
   ]
  },
  {
   "cell_type": "markdown",
   "metadata": {},
   "source": [
    "### Save"
   ]
  },
  {
   "cell_type": "code",
   "execution_count": 9,
   "metadata": {},
   "outputs": [],
   "source": [
    "if not os.path.exists(NETWORK_DIRECTORY):\n",
    "    os.makedirs(NETWORK_DIRECTORY)\n",
    "\n",
    "nx.write_edgelist(PPI_nx, f\"{NETWORK_DIRECTORY}/PPI_systematic_BioGRID.txt\", data=False)"
   ]
  },
  {
   "cell_type": "markdown",
   "metadata": {},
   "source": [
    "# BioGRID official PPI"
   ]
  },
  {
   "cell_type": "code",
   "execution_count": 6,
   "metadata": {},
   "outputs": [],
   "source": [
    "VERSION = \"3.5.178\"\n",
    "\n",
    "# load BioGRID file as dataframe\n",
    "organism_FILENAME = f\"BIOGRID-ORGANISM-Saccharomyces_cerevisiae_S288c-{VERSION}.tab2.txt\"\n",
    "organism_FILEPATH = f\"{RAW_DATA_DIRECTORY}/{organism_FILENAME}\"\n",
    "\n",
    "# remove entrez ids and scores because of mixed datatypes \n",
    "BioGRID_df = pd.read_csv(organism_FILEPATH, delimiter='\\t',\n",
    "                           usecols=[index for index in range(24) if index not in {1,2,18}])"
   ]
  },
  {
   "cell_type": "code",
   "execution_count": 7,
   "metadata": {},
   "outputs": [],
   "source": [
    "# BioGRID universe is the collection of every gene known to BioGRID\n",
    "universe = set(BioGRID_df['BioGRID ID Interactor A']) | \\\n",
    "           set(BioGRID_df['BioGRID ID Interactor B'])\n",
    "\n",
    "official_universe = set(BioGRID_df['Official Symbol Interactor A']) | \\\n",
    "                    set(BioGRID_df['Official Symbol Interactor B'])"
   ]
  },
  {
   "cell_type": "code",
   "execution_count": 8,
   "metadata": {},
   "outputs": [],
   "source": [
    "# Filter for (reliable) physical interactions\n",
    "EXPERIMENTAL_SYSTEM = {'Two-hybrid', \n",
    "                       'Affinity Capture-Luminescence',\n",
    "                       'Affinity Capture-MS', \n",
    "                       'Affinity Capture-RNA', \n",
    "                       'Affinity Capture-Western'}\n",
    "EXPERIMENTAL_SYSTEM_TYPE = {'physical'} # redundant because of experimental evidence filtering\n",
    "\n",
    "physical_interaction_df = BioGRID_df[BioGRID_df['Experimental System'].isin(EXPERIMENTAL_SYSTEM)]\n",
    "physical_interaction_df = physical_interaction_df[\n",
    "    physical_interaction_df['Experimental System Type'].isin(EXPERIMENTAL_SYSTEM_TYPE)] # just in case...\n",
    "\n",
    "\n",
    "physical_universe = set(physical_interaction_df['BioGRID ID Interactor A']) | \\\n",
    "                    set(physical_interaction_df['BioGRID ID Interactor B'])\n",
    "\n",
    "official_physical_universe = set(physical_interaction_df['Official Symbol Interactor A']) | \\\n",
    "                             set(physical_interaction_df['Official Symbol Interactor B'])"
   ]
  },
  {
   "cell_type": "markdown",
   "metadata": {},
   "source": [
    "### Define PPI"
   ]
  },
  {
   "cell_type": "code",
   "execution_count": 9,
   "metadata": {},
   "outputs": [],
   "source": [
    "# PPI in dataframe\n",
    "PPI_df = physical_interaction_df\n",
    "\n",
    "PPI_universe = set(PPI_df['Official Symbol Interactor A']) | \\\n",
    "               set(PPI_df['Official Symbol Interactor B'])"
   ]
  },
  {
   "cell_type": "code",
   "execution_count": 10,
   "metadata": {},
   "outputs": [],
   "source": [
    "# Reduce PPI to simple network\n",
    "PPI_nx = nx.from_pandas_edgelist(PPI_df,'Official Symbol Interactor A', 'Official Symbol Interactor B')\n",
    "PPI_nx.remove_edges_from(nx.selfloop_edges(PPI_nx))"
   ]
  },
  {
   "cell_type": "markdown",
   "metadata": {},
   "source": [
    "### Summary"
   ]
  },
  {
   "cell_type": "code",
   "execution_count": 11,
   "metadata": {},
   "outputs": [
    {
     "name": "stdout",
     "output_type": "stream",
     "text": [
      "BioGRID universe sizes:\n",
      "=========================\n",
      "    -       -    : 7175\n",
      "official    -    : 7091\n",
      "    -    physical: 6553\n",
      "official physical: 6502\n",
      "-------------------------\n",
      "PPI population size: 6502\n"
     ]
    }
   ],
   "source": [
    "print(\"BioGRID universe sizes:\")\n",
    "print(\"=========================\")\n",
    "print(f\"    -       -    : {len(universe)}\")\n",
    "print(f\"official    -    : {len(official_universe)}\")\n",
    "print(f\"    -    physical: {len(physical_universe)}\")\n",
    "print(f\"official physical: {len(official_physical_universe)}\")\n",
    "print(\"-------------------------\")\n",
    "print(f\"PPI nodes  : {PPI_nx.number_of_nodes()}\")\n",
    "print(f\"PPI edges  : {PPI_nx.number_of_edges()}\")\n",
    "print(f\"PPI density: {nx.density(PPI_nx)}\")"
   ]
  },
  {
   "cell_type": "markdown",
   "metadata": {},
   "source": [
    "### Save"
   ]
  },
  {
   "cell_type": "code",
   "execution_count": 12,
   "metadata": {},
   "outputs": [],
   "source": [
    "if not os.path.exists(NETWORK_DIRECTORY):\n",
    "    os.makedirs(NETWORK_DIRECTORY)\n",
    "\n",
    "nx.write_edgelist(PPI_nx, f\"{NETWORK_DIRECTORY}/PPI_BioGRID_official.txt\", data=False)"
   ]
  },
  {
   "cell_type": "markdown",
   "metadata": {},
   "source": [
    "# COEXPRESdb CeEx"
   ]
  },
  {
   "cell_type": "markdown",
   "metadata": {},
   "source": [
    "### Define CoEx"
   ]
  },
  {
   "cell_type": "code",
   "execution_count": 15,
   "metadata": {},
   "outputs": [],
   "source": [
    "COEXPRESdb_DIRPATH = f\"{RAW_DATA_DIRECTORY}/Sce-u.v18-11.G5879-S4798.combat_pca_subagging.mrgeo.d/\"\n",
    "TOP_PERCENTAGE = 0.01\n",
    "\n",
    "edge_dict = dict()\n",
    "for source in os.listdir(COEXPRESdb_DIRPATH):\n",
    "    with open(COEXPRESdb_DIRPATH + source, 'r') as f:\n",
    "        content = f.readlines()\n",
    "    selected_lines = iter(content[1:int(len(content) * TOP_PERCENTAGE)+1])\n",
    "    target_list   = map(lambda x:x.split()[0], selected_lines)\n",
    "    edge_dict[source] = target_list\n",
    "\n",
    "CoEx_nx = nx.Graph()\n",
    "CoEx_nx.add_edges_from([(source,target) for source,target_list in edge_dict.items() \n",
    "                                  for target in target_list])"
   ]
  },
  {
   "cell_type": "markdown",
   "metadata": {},
   "source": [
    "### Summary"
   ]
  },
  {
   "cell_type": "code",
   "execution_count": 16,
   "metadata": {},
   "outputs": [
    {
     "name": "stdout",
     "output_type": "stream",
     "text": [
      "CoEx nodes  :   5879\n",
      "CoEx edges  : 231974\n",
      "CoEx density: 0.0134\n"
     ]
    }
   ],
   "source": [
    "print(f\"CoEx nodes  : {CoEx_nx.number_of_nodes():>6d}\")\n",
    "print(f\"CoEx edges  : {CoEx_nx.number_of_edges()}\")\n",
    "print(f\"CoEx density: {nx.density(CoEx_nx):.4f}\")"
   ]
  },
  {
   "cell_type": "markdown",
   "metadata": {},
   "source": [
    "### Save"
   ]
  },
  {
   "cell_type": "code",
   "execution_count": 17,
   "metadata": {},
   "outputs": [],
   "source": [
    "if not os.path.exists(NETWORK_DIRECTORY):\n",
    "    os.makedirs(NETWORK_DIRECTORY)\n",
    "\n",
    "nx.write_edgelist(CoEx_nx, f\"{NETWORK_DIRECTORY}/CoEx_COEXPRESdb.txt\", data=False)"
   ]
  },
  {
   "cell_type": "markdown",
   "metadata": {},
   "source": [
    "# COEXPRESdb systematic CoEx"
   ]
  },
  {
   "cell_type": "markdown",
   "metadata": {},
   "source": [
    "### Define systematic dictionary"
   ]
  },
  {
   "cell_type": "code",
   "execution_count": 4,
   "metadata": {},
   "outputs": [],
   "source": [
    "identifiers = {'SYSTEMATIC NAME', 'ENTREZ_GENE'}\n",
    "\n",
    "identifier_df = pd.read_csv(f\"{RAW_DATA_DIRECTORY}/BIOGRID_SC_IDENTIFIERS-3.5.181.csv\", index_col=0)\n",
    "identifier_df = identifier_df[identifier_df.IDENTIFIER_TYPE.isin(identifiers)]\n",
    "identifier_dict = dict(entry.IDENTIFIER_VALUE.values \n",
    "                              for BioGRID_ID, entry in identifier_df.groupby('BIOGRID_ID'))\n",
    "\n",
    "assert all(map(str.isdigit,identifier_dict.values()))"
   ]
  },
  {
   "cell_type": "markdown",
   "metadata": {},
   "source": [
    "### Define systematic CoEx network"
   ]
  },
  {
   "cell_type": "code",
   "execution_count": 11,
   "metadata": {},
   "outputs": [],
   "source": [
    "CoEx_nx = nx.read_edgelist(f\"{NETWORK_DIRECTORY}/CoEx_COEXPRESdb.txt\")\n",
    "systematic_CoEx_nx = nx.relabel_nodes(CoEx_nx, identifier_dict)"
   ]
  },
  {
   "cell_type": "code",
   "execution_count": 12,
   "metadata": {},
   "outputs": [
    {
     "data": {
      "text/plain": [
       "(5879, 5879)"
      ]
     },
     "execution_count": 12,
     "metadata": {},
     "output_type": "execute_result"
    }
   ],
   "source": [
    "CoEx_nx.number_of_nodes(), systematic_CoEx_nx.number_of_nodes()"
   ]
  },
  {
   "cell_type": "code",
   "execution_count": 13,
   "metadata": {},
   "outputs": [
    {
     "data": {
      "text/plain": [
       "NodeView(('852743', '852336', '854306', '854418', '855050', '856200', '855522', '854053', '856039', '856227', '855965', '852523', '852054', '852747', '855150', '854120', '852256', '854222', '854985', '854816', '852724', '856096', '856170', '851567', '856694', '856724', '855051', '854406', '853461', '852921', '853708', '855168', '854114', '853304', '854966', '855905', '852335', '854764', '851858', '850766', '854537', '855616', '852470', '852839', '853683', '851908', '855561', '855624', '856387', '856914', '852985', '854202', '855052', '855041', '851621', '850995', '855241', '854287', '854776', '856539', '850910', '850583', '853151', '854753', '854396', '852247', '856253', '850845', '856468', '853034', '855947', '855968', '854821', '852764', '855932', '856246', '856922', '856074', '854640', '852679', '850861', '854924', '852695', '854814', '856424', '853111', '855598', '856330', '855292', '853594', '850696', '856522', '854030', '855120', '852559', '852761', '852648', '852821', '854031', '854297', '851060', '852031', '854690', '855084', '851506', '853575', '852442', '851987', '852723', '853573', '853356', '850514', '850714', '851536', '852323', '855825', '855121', '853951', '853154', '854333', '856511', '850635', '851178', '852232', '855056', '855313', '853776', '855692', '855606', '855993', '856538', '1466506', '853927', '851572', '856134', '852308', '856358', '853020', '851303', '854765', '853910', '854851', '851573', '852710', '850988', '851923', '854503', '852404', '1466500', '851147', '856566', '851135', '856532', '854954', '852696', '853735', '850798', '853898', '850691', '855005', '854775', '851591', '854698', '855887', '856739', '855942', '856472', '851542', '852861', '854701', '853712', '854932', '856896', '855630', '854138', '850630', '854979', '853710', '854343', '853723', '854284', '855651', '853138', '852001', '852881', '854474', '852028', '853806', '854236', '851320', '855294', '855528', '9164981', '852506', '855860', '853449', '851884', '856490', '852096', '853846', '856216', '853718', '854431', '853787', '851569', '852145', '852593', '852106', '854318', '855757', '852463', '852392', '854828', '851441', '850326', '852242', '850399', '851563', '856031', '852074', '853355', '855073', '850760', '853432', '855676', '853150', '855101', '852084', '856251', '851661', '850495', '855731', '851831', '851933', '850601', '854242', '852447', '851906', '854086', '853439', '851755', '852963', '856087', '854480', '856451', '856102', '850457', '856199', '856124', '852900', '856045', '852237', '856777', '851021', '856934', '850670', '850788', '851995', '853542', '853994', '852599', '853680', '852454', '856531', '856555', '852920', '850368', '855880', '1466501', '855856', '856541', '850972', '3077355', '1466419', '851553', '853047', '850827', '855109', '853007', '855954', '853351', '855229', '850811', '852692', '851132', '854064', '853477', '853065', '856327', '856496', '851606', '851631', '855622', '851374', '851432', '856083', '852290', '855775', '852324', '852590', '855736', '853292', '853302', '851328', '856890', '851802', '1466509', '853049', '856565', '854323', '856818', '851776', '855928', '856750', '855461', '855472', '856034', '851308', '854128', '854473', '851655', '850703', '853935', '856055', '852293', '854548', '851836', '856161', '854917', '855929', '856928', '856316', '854166', '856201', '852596', '855476', '850626', '856561', '852529', '853937', '855422', '852557', '850837', '855708', '856298', '855952', '854208', '855889', '851787', '855310', '856085', '851779', '852886', '855008', '853788', '851932', '855508', '855936', '852657', '855491', '853857', '854886', '853658', '850797', '856524', '855145', '850382', '856380', '1466459', '850517', '9164983', '856927', '855208', '855620', '855061', '856700', '856275', '850720', '851688', '854952', '856696', '851507', '850328', '855763', '855699', '856133', '854129', '853688', '853301', '853946', '855253', '855970', '854520', '855677', '855492', '851559', '854156', '851338', '855060', '851435', '851470', '852260', '851774', '852809', '852287', '855568', '855689', '851731', '855920', '850741', '851723', '851968', '850366', '856908', '855648', '854657', '851730', '851119', '851485', '851071', '854102', '851428', '855320', '855055', '853315', '851115', '852794', '856850', '852755', '851721', '851701', '851161', '854899', '851580', '856431', '853990', '855006', '851767', '853774', '856518', '850642', '852449', '854082', '852071', '853865', '851039', '1466439', '852814', '850826', '851452', '852035', '856030', '851846', '851592', '856482', '854780', '854713', '855154', '851962', '853891', '853756', '853153', '851909', '853900', '854662', '850534', '852783', '853801', '854363', '852592', '853971', '851261', '852847', '850699', '852194', '854032', '852654', '851781', '851445', '851593', '852678', '853574', '851527', '851059', '850511', '854094', '851086', '851676', '855605', '851985', '854699', '851503', '855983', '854818', '854449', '853492', '855195', '853110', '852539', '856866', '850574', '851641', '853186', '852405', '855449', '855541', '853964', '855868', '854327', '854545', '855296', '856537', '850520', '854368', '852416', '854761', '852837', '850886', '855200', '854111', '856075', '856038', '856221', '855239', '856301', '854232', '851870', '853650', '853803', '852307', '852845', '855819', '855097', '851904', '854141', '855988', '854190', '852932', '851430', '855646', '855086', '853744', '856016', '851375', '854981', '853390', '855053', '855650', '856220', '856050', '852968', '855945', '856037', '856690', '855940', '850787', '850812', '855882', '851097', '856081', '850768', '851089', '855869', '850992', '852863', '853102', '851088', '854437', '852306', '855680', '856440', '852278', '853136', '856546', '850770', '852856', '850783', '855681', '855899', '851851', '856861', '855859', '855607', '850607', '853512', '855795', '855806', '850888', '855119', '852331', '851384', '852171', '853374', '855405', '856198', '856763', '853373', '855913', '856062', '853938', '855907', '855033', '854876', '856800', '856571', '855953', '852550', '850498', '856007', '853669', '851605', '851329', '851598', '856013', '850923', '851686', '855864', '856778', '854342', '852760', '855822', '854209', '855872', '855225', '853976', '851378', '852369', '856591', '853943', '856072', '853619', '856315', '853509', '851594', '853161', '856143', '851180', '853876', '856162', '851416', '853072', '856041', '856309', '855141', '855922', '855430', '856271', '853893', '856203', '853825', '856455', '851549', '855267', '853576', '853030', '856318', '854230', '855339', '852399', '856307', '856052', '852712', '856204', '854993', '853816', '855900', '1466454', '851866', '852994', '855192', '855888', '855997', '9164986', '851868', '853336', '853337', '856791', '852543', '850433', '856652', '851809', '855363', '850668', '854789', '851158', '854946', '851817', '855969', '855669', '853386', '853528', '852858', '855009', '854778', '850432', '856721', '851835', '850420', '852495', '855732', '852525', '855152', '852598', '855682', '855278', '855478', '856831', '853118', '850324', '853693', '851625', '1466427', '855156', '852050', '850599', '852159', '851072', '856618', '854937', '851964', '856239', '852059', '851271', '855329', '854674', '851187', '851197', '852655', '856426', '851691', '852991', '852228', '854941', '851400', '850529', '853880', '856648', '850879', '854675', '854240', '855597', '852391', '852193', '856736', '851067', '852274', '856263', '854360', '852295', '853242', '856219', '852316', '851358', '853353', '853539', '853041', '850567', '855505', '850907', '854098', '850585', '853818', '854336', '855975', '855102', '852248', '855701', '852209', '852348', '855517', '856630', '1466457', '855043', '852580', '853826', '855140', '856028', '852789', '856403', '854933', '852464', '854433', '851408', '852575', '851740', '853438', '854063', '853462', '852651', '852896', '850964', '851557', '856223', '856837', '852778', '856306', '851797', '850402', '854108', '853447', '853962', '853182', '855281', '850358', '855386', '851076', '853550', '853489', '853936', '853177', '851148', '854664', '852834', '854119', '852939', '851103', '856249', '854415', '855260', '851991', '850390', '856841', '855222', '852122', '854157', '853521', '856245', '853845', '856194', '853890', '853255', '852532', '853077', '2732686', '854652', '854206', '853644', '854539', '855785', '853121', '856059', '853475', '856792', '854747', '854334', '851666', '850587', '852564', '854295', '854131', '852186', '853391', '851448', '854834', '856756', '855237', '851425', '856435', '853985', '856812', '852895', '853698', '852799', '855406', '856479', '856061', '856416', '853828', '852822', '853504', '855545', '856843', '854500', '854017', '853552', '852018', '852746', '855673', '856502', '853068', '855433', '852806', '854013', '852203', '851729', '851190', '856304', '852218', '852175', '854479', '854523', '853848', '851793', '856799', '852292', '856869', '852697', '855318', '855672', '856745', '852885', '853975', '856637', '854660', '852214', '851789', '854535', '854841', '854383', '851794', '852744', '850361', '851128', '855805', '856397', '1466465', '852032', '851396', '852518', '855843', '853516', '1466436', '854244', '853010', '850392', '852465', '854875', '854826', '852492', '853719', '856060', '851077', '852899', '855382', '852567', '852889', '852450', '852461', '853986', '852205', '852795', '856536', '855574', '850559', '852421', '856146', '853167', '854087', '850347', '852070', '853453', '852472', '851827', '855274', '856572', '856920', '855840', '852777', '853325', '851918', '854436', '850381', '855164', '854099', '854918', '853871', '852869', '851033', '856136', '851841', '851753', '852219', '852239', '852222', '850562', '851034', '850613', '854142', '851424', '856594', '850949', '854293', '855951', '852066', '851814', '855042', '851800', '856474', '853862', '855016', '854663', '850914', '853319', '850541', '853421', '852996', '856915', '850302', '850674', '853992', '856183', '856611', '853808', '850983', '853130', '851172', '853246', '850943', '855263', '853678', '852962', '851028', '854443', '854331', '853630', '852261', '854552', '854718', '850701', '851030', '854541', '856356', '851121', '853308', '851976', '855446', '853112', '853601', '852025', '851486', '852344', '850624', '852136', '855118', '850762', '850609', '854864', '852612', '854678', '854877', '852309', '854472', '856663', '850752', '854960', '852438', '854161', '854542', '853459', '852484', '1466487', '853980', '852238', '850673', '851130', '850351', '854171', '852428', '853307', '850717', '856494', '1466537', '851479', '851174', '854774', '850921', '856556', '856374', '854482', '853214', '852083', '855901', '851638', '851522', '850555', '854716', '850924', '850818', '1466491', '852988', '852733', '851808', '852455', '854058', '856789', '854274', '856883', '853400', '852823', '850604', '851112', '851491', '850352', '853393', '850310', '856181', '851744', '854532', '855037', '13393611', '855463', '856787', '854133', '854763', '851223', '856714', '856106', '853195', '856391', '852893', '854742', '852966', '854815', '855203', '851900', '853295', '852189', '854878', '1466432', '851709', '851585', '855392', '851570', '855307', '854153', '855468', '855687', '852095', '856291', '856732', '856901', '853832', '851262', '855271', '851710', '851714', '853080', '854163', '854806', '852717', '852915', '856362', '851482', '852153', '855935', '853868', '851699', '852063', '854184', '856009', '853107', '856752', '853310', '856004', '850387', '851041', '850712', '855506', '856772', '855359', '851929', '856454', '856599', '855586', '851682', '851481', '852892', '852576', '851459', '853647', '851626', '850990', '855625', '853884', '852798', '851815', '853586', '852916', '855548', '853159', '855589', '852024', '853017', '855934', '850430', '854928', '853518', '854926', '855489', '850705', '856290', '856098', '855925', '856056', '854938', '852560', '855897', '856036', '855991', '855833', '851379', '851772', '856844', '851998', '854684', '850344', '850591', '855081', '851936', '856303', '856297', '853617', '856329', '853294', '856010', '856159', '853090', '854376', '853773', '854849', '856699', '852649', '856171', '855948', '853858', '856148', '855665', '856100', '854904', '856923', '855345', '855974', '850516', '856296', '853892', '853229', '853334', '854062', '854355', '856684', '855870', '854934', '852528', '855885', '855955', '853126', '856562', '856688', '855194', '851683', '855312', '852933', '851637', '856712', '851568', '853078', '851423', '852110', '856393', '855087', '851994', '853772', '856882', '851882', '853874', '852937', '851265', '854739', '851401', '851647', '856105', '851879', '850934', '852466', '852426', '854337', '854719', '850373', '854490', '851199', '854014', '3799968', '1466496', '856695', '855879', '850323', '856840', '855117', '856513', '856838', '855205', '851564', '853771', '851406', '854769', '853923', '854081', '856822', '856429', '853265', '853589', '854998', '853769', '852467', '852979', '854912', '856723', '854089', '856832', '851876', '851531', '855956', '854667', '852049', '852262', '852705', '854563', '856722', '854470', '852983', '854113', '852038', '9164944', '853606', '852608', '31009438', '855251', '856865', '856930', '851129', '851083', '854432', '854325', '852741', '855557', '850993', '853224', '855157', '856485', '851821', '850355', '854516', '855973', '852508', '851880', '1466466', '1466441', '855004', '855365', '855507', '855095', '856213', '851487', '853147', '856827', '852572', '851822', '854986', '855182', '850794', '850528', '850603', '853219', '1466516', '855773', '854549', '851413', '853833', '851657', '852676', '855113', '850610', '852403', '856932', '852699', '851153', '854199', '853014', '855230', '850318', '852422', '852168', '852088', '856515', '856092', '854992', '853759', '853060', '853899', '851126', '851716', '851706', '856601', '856737', '854434', '850573', '854655', '856477', '855026', '855470', '854158', '851302', '852526', '854183', '855104', '850825', '853345', '856167', '854507', '854092', '850464', '853607', '855867', '856867', '853783', '855128', '853668', '856141', '855300', '852243', '853733', '856168', '855583', '856828', '851742', '853401', '855331', '852618', '855781', '854475', '855171', '856560', '853375', '852477', '851654', '852190', '856509', '853827', '853363', '852610', '855324', '853221', '853257', '853724', '853261', '854065', '853406', '854352', '851483', '852919', '851518', '856602', '851992', '851832', '852882', '853364', '852722', '856386', '853700', '850509', '852780', '854204', '856851', '856377', '855690', '851690', '852212', '856366', '853819', '851201', '854345', '851558', '854801', '854167', '855908', '852109', '853296', '853841', '853193', '853755', '855273', '851513', '853942', '852908', '855964', '853561', '851648', '854485', '850808', '851151', '850372', '852768', '850908', '851142', '851653', '853634', '851627', '853551', '850939', '851454', '854553', '853583', '851679', '853859', '855088', '853961', '851108', '853191', '853780', '855138', '855385', '850515', '850976', '850786', '851738', '854037', '855122', '856208', '854847', '855534', '851442', '850657', '854453', '856682', '856310', '851451', '851741', '856909', '853330', '853763', '854843', '856196', '851377', '853673', '854264', '851867', '854654', '853766', '855939', '853556', '853276', '853641', '856576', '855987', '856605', '853342', '851347', '856609', '850997', '856698', '855137', '854554', '851581', '852664', '856855', '856302', '851467', '853009', '854357', '852266', '854467', '853798', '853777', '852235', '853254', '855183', '851167', '856402', '851726', '854257', '852425', '853384', '855971', '854681', '4036073', '852731', '852057', '855926', '854358', '853140', '855565', '850693', '856222', '853450', '852512', '851639', '851005', '853398', '852230', '855017', '853881', '854550', '852964', '851640', '853544', '852941', '9164978', '852498', '852033', '856534', '855456', '852046', '854299', '851635', '855034', '850961', '856018', '856278', '854125', '850501', '852583', '855829', '855995', '854057', '855980', '851785', '855170', '851784', '856225', '855898', '853389', '856797', '852624', '856076', '850782', '852346', '851960', '856005', '851206', '856704', '855304', '850792', '856104', '853286', '850953', '853715', '854292', '854766', '850844', '852715', '854722', '854103', '855895', '850305', '852192', '855498', '854810', '854205', '853563', '9164982', '856158', '855877', '856873', '852045', '851833', '855769', '851516', '850439', '1466462', '851720', '855916', '852448', '1466522', '852690', '852334', '855588', '853613', '852902', '854556', '852446', '855482', '850360', '852064', '852286', '856365', '855608', '851881', '851360', '854529', '851361', '852530', '850841', '852000', '852314', '851433', '854463', '855291', '856813', '854309', '853510', '852436', '850974', '852721', '853614', '854908', '851474', '850362', '853918', '856090', '855091', '853995', '855444', '1500487', '855530', '854990', '854894', '855500', '854151', '853866', '855059', '855644', '856023', '855078', '850403', '850920', '851367', '855223', '851905', '853312', '851634', '855535', '852207', '856697', '855453', '856709', '854659', '851818', '855481', '850513', '854515', '852133', '853974', '854676', '856427', '853148', '852661', '854945', '853593', '850675', '854916', '850821', '852051', '852496', '856788', '9164899', '853039', '855629', '856260', '850594', '850850', '856583', '851857', '855766', '851862', '851861', '853173', '851566', '856180', '855250', '852090', '854733', '855421', '854835', '855563', '854091', '851219', '855484', '851938', '851611', '853807', '852086', '854225', '855765', '852407', '855641', '852953', '851855', '851981', '850860', '850666', '1466401', '855244', '851915', '856617', '856820', '850761', '850955', '850885', '850758', '856000', '854124', '853081', '850996', '856660', '856135', '854536', '856078', '855123', '850779', '851098', '850963', '855202', '855727', '855114', '852002', '856001', '852332', '856419', '851084', '855930', '853075', '856400', '853392', '853639', '855231', '855931', '854135', '852904', '854740', '850940', '852734', '855401', '854715', '853053', '852443', '855768', '851075', '854790', '852842', '852491', '851823', '856067', '854440', '852474', '854644', '855366', '1466453', '856711', '855531', '851069', '856613', '852877', '852982', '855628', '853967', '855656', '855357', '854409', '856024', '855919', '851137', '854741', '854283', '853248', '853947', '852082', '856091', '853369', '852824', '855301', '856293', '856255', '856678', '852838', '856877', '855139', '850981', '853531', '853227', '856173', '855305', '855996', '855615', '855487', '855986', '850384', '853429', '850966', '852800', '854411', '856466', '851618', '855569', '850944', '852556', '854892', '855789', '856675', '854757', '852197', '855751', '856382', '855633', '854130', '855999', '850321', '851150', '853109', '856476', '854380', '851196', '852541', '850872', '854265', '852352', '852075', '852582', '854927', '851222', '850549', '853811', '852126', '852569', '852974', '853701', '854964', '850756', '852451', '853914', '856793', '854483', '851859', '851520', '855349', '851191', '851440', '850320', '851524', '855674', '855678', '851844', '853750', '855276', '855728', '854373', '850419', '851372', '853840', '856859', '856824', '853037', '854767', '852773', '853318', '851392', '853908', '855221', '853922', '855645', '853050', '856186', '851565', '850329', '853538', '851037', '853965', '855578', '853902', '852101', '855336', '852667', '853341', '854220', '851330', '855323', '854073', '852181', '855518', '853158', '852513', '852116', '851333', '856741', '850490', '850859', '855479', '855647', '854280', '856137', '853941', '850441', '852787', '852871', '853416', '856887', '854919', '853408', '854251', '854831', '852015', '854534', '855990', '853495', '856506', '856174', '853125', '9164888', '853929', '855944', '852397', '852614', '855662', '853165', '850530', '851845', '850385', '853043', '850444', '855741', '854168', '855126', '850641', '856757', '854185', '854083', '852231', '855726', '855836', '850443', '851177', '856277', '855837', '856089', '856761', '856452', '852398', '855497', '853513', '855454', '851762', '855264', '855429', '855994', '856035', '851997', '854931', '855471', '852373', '852016', '851953', '853313', '850589', '853757', '855488', '853767', '854971', '851306', '855803', '852681', '851718', '853166', '852080', '852486', '852772', '855787', '853747', '855259', '852427', '853917', '854488', '850784', '855570', '851032', '851473', '853122', '854165', '850553', '852097', '856153', '851914', '854201', '851747', '855739', '853157', '854300', '856367', '856354', '852351', '853152', '852694', '852971', '851421', '855640', '851202', '854748', '852515', '851381', '850606', '850330', '853545', '854817', '852644', '855172', '855210', '850510', '855927', '855423', '856769', '856117', '852363', '856771', '852502', '855399', '853696', '851164', '852480', '853422', '854271', '852989', '850829', '855802', '851145', '850984', '852077', '856425', '856726', '856144', '852562', '853524', '851417', '856852', '853346', '853934', '852765', '854497', '852732', '855184', '855603', '853930', '854703', '851583', '854702', '852918', '851830', '851584', '850421', '855280', '856892', '852972', '852646', '852948', '850401', '856603', '854711', '851907', '852439', '852107', '855539', '854286', '854388', '853796', '854696', '855467', '855326', '851517', '854686', '853079', '852967', '856433', '855886', '854329', '852105', '855469', '851921', '851694', '850558', '851937', '856917', '853720', '856160', '851911', '856491', '852748', '854955', '851778', '855190', '852553', '855188', '852493', '850795', '855035', '856428', '856816', '852573', '851843', '852805', '855718', '851364', '855784', '854350', '855556', '851545', '855361', '856916', '853274', '855201', '853646', '851623', '856551', '852574', '855198', '853338', '853423', '854145', '852499', '852635', '851664', '853469', '854371', '853849', '855858', '853636', '853666', '851380', '850817', '851511', '855402', '854558', '854351', '852888', '853863', '856608', '856598', '850408', '855499', '855169', '856040', '851617', '851615', '851745', '852462', '856521', '855841', '852244', '853332', '854261', '854940', '855116', '850551', '854785', '852039', '851450', '854792', '855703', '852645', '856169', '855162', '853216', '851091', '850690', '856417', '851040', '1466502', '850722', '853909', '851687', '854272', '1466497', '850725', '850947', '852753', '850774', '851696', '850708', '851143', '850878', '851027', '852660', '850977', '854704', '1466492', '851120', '850735', '851281', '853979', '856323', '852623', '854793', '854188', '855142', '853115', '852756', '856670', '853279', '855115', '855293', '851646', '855131', '852414', '855871', '854344', '852381', '854911', '856314', '851642', '856653', '856487', '854193', '853706', '855770', '852934', '851323', '854950', '851304', '851311', '851480', '853172', '855447', '854670', '850875', '853464', '853559', '856289', '855236', '856893', '853707', '850962', '854872', '852891', '854965', '856705', '852215', '856504', '852124', '856759', '852961', '856781', '855878', '856142', '855212', '854773', '854791', '854020', '1466513', '852591', '855049', '853016', '855906', '852607', '1466460', '853385', '854661', '854290', '855957', '855891', '851874', '850598', '851373', '854369', '851195', '853383', '855772', '853642', '850413', '856516', '855002', '853491', '853382', '852073', '850300', '855756', '853939', '852123', '855410', '855265', '853578', '850651', '853298', '850901', '854460', '852220', '855330', '855776', '855654', '856006', '855189', '850434', '853687', '853867', '853812', '854210', '856786', '854321', '853129', '853960', '852811', '853875', '854359', '855536', '854649', '855601', '856214', '851948', '851515', '856552', '852571', '853547', '853349', '850900', '851890', '856295', '854910', '853093', '853379', '851692', '853407', '855014', '853503', '853537', '856048', '851251', '852616', '855537', '851989', '851550', '855918', '850915', '3799967', '856829', '853568', '856910', '855824', '856312', '851192', '2777172', '852866', '853597', '854811', '853507', '853290', '851651', '851106', '855782', '853454', '855778', '856650', '852830', '856112', '3799972', '856252', '851492', '856383', '13393614', '853225', '852626', '852014', '856581', '853600', '854944', '852310', '855287', '852419', '856693', '852585', '853135', '852104', '856456', '853721', '852388', '850789', '854540', '852566', '855383', '856094', '852221', '854564', '854887', '856165', '854067', '856884', '850890', '853775', '851595', '853684', '852325', '854459', '856385', '855643', '854978', '855585', '853085', '852483', '852973', '853033', '856121', '854745', '854565', '855592', '856580', '850299', '854018', '854893', '851869', '855576', '854010', '850504', '851514', '854760', '855243', '856384', '856395', '851107', '853716', '854983', '856176', '850800', '851733', '854980', '853692', '855153', '851252', '856008', '851366', '851754', '853823', '1466438', '855857', '854897', '851085', '856821', '850830', '1466517', '856898', '851160', '9164869', '850446', '850418', '856241', '855752', '850595', '9164917', '852167', '851232', '853640', '853340', '853906', '854407', '852188', '850359', '856776', '855754', '851022', '854709', '850865', '856889', '9164965', '854842', '852417', '855226', '854077', '850563', '853259', '855436', '856931', '852312', '851244', '1466535', '851309', '850694', '853565', '855082', '852771', '855039', '851325', '855309', '856360', '852277', '854839', '854672', '852975', '852041', '851529', '851693', '851345', '856500', '856390', '855298', '852142', '852684', '851922', '853853', '852327', '852801', '853540', '850593', '850469', '856399', '856738', '851892', '856027', '856642', '850987', '851002', '856448', '856197', '2746859', '851560', '850727', '856131', '851758', '853585', '852250', '853273', '856321', '854231', '852177', '851983', '853095', '852688', '854289', '850739', '854521', '850485', '850524', '5142379', '853591', '851111', '855638', '851353', '853794', '856325', '855842', '852125', '852669', '852138', '855675', '852763', '855544', '856926', '852406', '856748', '853621', '856140', '853082', '852926', '855409', '851579', '853502', '850973', '855036', '850802', '850898', '854855', '854930', '853991', '853201', '852536', '852625', '855691', '852909', '852006', '1466503', '856274', '1466473', '851124', '851218', '855525', '855985', '851633', '853146', '853743', '854820', '852558', '853804', '855107', '851979', '852364', '855998', '852315', '853123', '851259', '854192', '855440', '855224', '853418', '850636', '852376', '850370', '856667', '855652', '854833', '854869', '856353', '1466461', '853120', '852955', '853322', '856686', '855341', '850343', '856229', '852017', '853256', '856126', '855368', '850930', '853178', '854420', '852890', '851437', '853820', '851860', '853237', '850295', '1466475', '851544', '854635', '856774', '852255', '1466445', '854668', '854813', '856806', '851959', '851903', '853137', '854439', '851919', '5814844', '850839', '855338', '852816', '852198', '855268', '855510', '852826', '852930', '850395', '852708', '851896', '850646', '852511', '854771', '854270', '855959', '856676', '856935', '850684', '852993', '853611', '856128', '856152', '853162', '852429', '855299', '850653', '850388', '850647', '853119', '851284', '850411', '852288', '856132', '853751', '851775', '852081', '856032', '850686', '853002', '854182', '854687', '850507', '856372', '855744', '853548', '853543', '850868', '853741', '3628034', '3799971', '1466431', '9164979', '854159', '850969', '9164893', '852944', '855623', '856486', '9164879', '851466', '856068', '856347', '855602', '854026', '855325', '851811', '856811', '850497', '856475', '853886', '855176', '850556', '853584', '854386', '856689', '856262', '851013', '854883', '851982', '855552', '854303', '851109', '855866', '850527', '853709', '855705', '850685', '851322', '852271', '854511', '856042', '9164909', '856802', '852387', '852561', '9164872', '856338', '852127', '856335', '851508', '850731', '856692', '856644', '1466511', '851554', '851426', '1466476', '856785', '854006', '9164951', '851652', '855513', '852285', '850322', '854856', '851070', '851596', '855587', '852408', '1466399', '851898', '1466470', '852652', '851418', '1466526', '851986', '9164974', '1466480', '855933', '9164915', '851472', '23547381', '851717', '853405', '855653', '853377', '855343', '854997', '852997', '855306', '852609', '852675', '853536', '851248', '856547', '855717', '852386', '855213', '853414', '855015', '854562', '850803', '850706', '851943', '852945', '855235', '851110', '856903', '856658', '850431', '852259', '851750', '1466493', '854454', '852925', '854896', '1466538', '856641', '856728', '851065', '1466467', '850911', '850672', '852321', '856049', '854007', '856071', '856240', '856345', '852876', '855797', '855909', '851680', '853727', '853916', '856780', '851061', '852154', '855284', '852366', '856545', '852311', '853660', '854637', '852320', '854105', '853481', '851113', '852265', '853978', '855832', '855080', '850832', '856671', '852196', '851356', '855249', '852791', '854416', '856740', '856888', '850721', '852546', '856350', '850502', '852637', '855369', '851346', '850616', '852956', '854566', '31009439', '852844', '855504', '854324', '854970', '851713', '850745', '853149', '855215', '850470', '850471', '856184', '852360', '856444', '853945', '850796', '856657', '852931', '850332', '851173', '855308', '850806', '850671', '856346', '855637', '856231', '856331', '855978', '853253', '856919', '855812', '850702', '851100', '1466417', '856503', '855155', '850777', '855030', '850776', '856588', '853035', '850982', '856332', '856017', '854853', '853652', '855442', '855077', '855022', '850648', '854700', '853283', '853200', '856193', '853076', '850518', '855844', '854246', '850748', '855792', '852322', '851950', '851848', '852431', '851007', '856810', '852030', '853920', '850436', '852594', '852279', '855151', '856643', '853793', '851917', '854494', '855852', '851355', '850736', '853679', '854743', '851042', '852087', '853104', '853926', '854401', '852689', '854689', '853570', '852147', '854320', '854478', '853280', '854857', '856662', '850615', '852958', '850742', '850491', '855828', '851235', '851312', '854127', '850519', '851141', '856593', '854164', '856115', '850772', '850710', '853205', '854080', '850871', '852737', '856233', '854046', '855801', '851704', '853426', '854803', '9164961', '1466434', '852023', '855593', '850971', '854989', '855511', '853901', '854484', '854296', '851547', '852735', '852289', '856430', '855738', '851760', '855390', '856849', '854247', '850718', '854762', '853052', '856523', '850353', '850970', '850838', '856768', '856587', '850394', '852317', '853142', '851786', '853131', '854233', '855261', '856918', '853954', '855252', '856029', '853388', '853588', '850912', '856077', '852269', '851049', '853428', '852275', '850746', '850649', '850707', '855800', '855660', '850625', '854152', '853894', '852226', '853560', '850688', '853376', '851497', '850678', '853784', '851125', '854717', '850656', '854461', '853957', '855745', '855977', '851123', '856760', '855332', '855912', '853810', '854408', '855465', '850655', '854517', '851054', '855559', '850550', '850938', '855764', '855245', '850631', '852377', '855967', '855135', '853155', '854441', '854525', '855855', '852788', '853592', '853739', '855958', '853465', '854212', '853984', '856188', '855793', '856236', '855029', '856911', '852905', '856311', '854634', '850773', '853460', '854260', '852540', '856442', '856280', '853643', '851891', '851181', '852817', '852647', '855923', '852361', '855502', '854977', '850400', '852102', '853861', '851131', '851087', '854093', '856669', '854139', '854061', '856447', '856687', '855850', '855425', '854259', '851095', '856002', '855683', '854572', '852586', '853608', '852485', '852545', '854252', '853241', '855438', '855159', '855395', '852459', '851920', '853455', '855180', '852870', '856665', '851616', '853612', '851931', '851114', '856845', '854076', '850980', '851761', '855258', '851885', '853358', '850785', '852170', '856478', '856210', '851289', '851014', '854874', '852047', '851029', '853834', '850835', '850968', '850884', '851019', '856099', '850454', '856570', '1466447', '853983', '852501', '850494', '853662', '854146', '853207', '854000', '855711', '850902', '851409', '853815', '854005', '1466530', '854389', '855372', '856762', '854506', '3799975', '854573', '855809', '855807', '856322', '855794', '855032', '855941', '854364', '853924', '851295', '855353', '853045', '854832', '854106', '855373', '851249', '853362', '855085', '850870', '855984', '854011', '852433', '851449', '856211', '9164871', '853190', '852135', '851656', '850709', '852211', '853654', '856025', '855746', '855495', '851478', '852253', '850689', '855758', '855289', '854285', '851939', '856408', '854381', '9164976', '856405', '850293', '855914', '852368', '854531', '854959', '853671', '850303', '854797', '853571', '855917', '856058', '855370', '856899', '855780', '854471', '853006', '853005', '854387', '856484', '854728', '852851', '851650', '850451', '856394', '855272', '850338', '856138', '855577', '854868', '853223', '856499', '851877', '853681', '856569', '852820', '855462', '850331', '850889', '850489', '854808', '855451', '1466469', '851296', '854571', '851324', '855799', '854560', '852638', '853458', '850414', '852767', '855709', '851698', '856481', '853734', '854317', '854136', '851963', '850807', '856488', '854162', '856891', '851504', '851335', '850389', '851597', '852415', '852951', '852872', '855355', '851055', '850733', '852370', '853282', '853805', '852343', '853311', '850951', '856681', '854379', '851193', '853106', '856579', '852326', '851620', '851946', '854444', '851993', '852986', '855389', '856846', '851462', '854421', '850846', '856589', '856279', '852897', '853196', '850506', '856766', '855804', '852740', '1466498', '1466437', '1466398', '9164897', '853086', '854068', '853367', '852923', '854830', '852714', '852478', '854900', '851213', '855911', '852380', '855018', '851644', '853580', '851220', '854756', '856069', '852304', '855092', '854095', '850780', '850747', '850665', '851340', '855830', '851697', '850621', '854025', '855747', '852389', '853839', '850877', '851211', '1466448', '856359', '853244', '856807', '856349', '852946', '854404', '853854', '853396', '851926', '850577', '853285', '853218', '852924', '855962', '855483', '855458', '856612', '852762', '852867', '852199', '856519', '852048', '855387', '855214', '852709', '853632', '853352', '852579', '853410', '855256', '850376', '852437', '853651', '854527', '851414', '853532', '851525', '852236', '854994', '856175', '854746', '855424', '852884', '854060', '850704', '852832', '852659', '855571', '854425', '855360', '853713', '852865', '856234', '855547', '855902', '856836', '1466504', '856921', '856701', '850386', '1466485', '852356', '856348', '851056', '852868', '853498', '853029', '855460', '854004', '852328', '3799973', '854863', '852019', '856449', '856209', '852060', '851766', '856317', '856471', '855831', '856070', '850377', '852636', '850415', '850597', '854871', '852751', '9164887', '854477', '854991', '856437', '852639', '855394', '851667', '852666', '853117', '856913', '855512', '851394', '855783', '850314', '854915', '1466443', '855103', '853124', '853058', '852169', '855808', '851829', '856646', '2746858', '855011', '852537', '855247', '852264', '854867', '856370', '850730', '853361', '852365', '851803', '852726', '854248', '23547380', '853885', '851194', '850565', '855364', '851613', '854567', '850891', '854846', '851658', '854788', '851246', '855796', '855686', '855851', '854744', '1466446', '854692', '856381', '851282', '1466532', '850813', '1466404', '850816', '856937', '854047', '854724', '856938', '853596', '855881', '850578', '852318', '852482', '855821', '850346', '854384', '854238', '855076', '853198', '850828', '851856', '855178', '852738', '855207', '852303', '851434', '854781', '850998', '851734', '854181', '850753', '850650', '852887', '854755', '853233', '852631', '854237', '851354', '854002', '853977', '851574', '852149', '851092', '854214', '852072', '855342', '853919', '853366', '854683', '854307', '853409', '853326', '855352', '850313', '853569', '851548', '852862', '855416', '856438', '850612', '855749', '856668', '853281', '856420', '855358', '852359', '850348', '853822', '852100', '854314', '855439', '853896', '855262', '855761', '850623', '856458', '852548', '851447', '856680', '856493', '851847', '852494', '855317', '855400', '856548', '852330', '853851', '854034', '852013', '855396', '854177', '851318', '853999', '1466518', '856272', '855562', '853399', '855163', '852481', '852251', '851539', '856779', '850532', '852146', '855315', '852716', '854104', '855527', '850637', '856672', '856093', '854332', '9164913', '851415', '856044', '855356', '855428', '854055', '853133', '855196', '852305', '855661', '855524', '854322', '852313', '851212', '852680', '856758', '850455', '851665', '855875', '853181', '850307', '9164911', '850539', '853748', '854973', '855710', '856445', '9164867', '855220', '856155', '9164950', '853966', '854027', '854685', '855667', '851363', '855240', '856054', '851163', '853309', '853199', '855127', '854036', '851011', '856616', '855019', '856881', '1466484', '853061', '1466481', '853387', '851171', '851321', '851146', '851074', '851910', '851066', '855020', '856066', '851280', '854936', '856636', '854001', '850466', '852150', '850482', '852634', '5848745', '850410', '852152', '850677', '855798', '853194', '850537', '855811', '855054', '852179', '854643', '851073', '851272', '854090', '851582', '851956', '850327', '855346', '856782', '853955', '852401', '856268', '852098', '854356', '851705', '855501', '855149', '856783', '851182', '855227', '852617', '856567', '856683', '856790', '853792', '853357', '855443', '854508', '854943', '851897', '852990', '852246', '850958', '1500486', '855963', '855724', '854737', '855720', '854802', '852641', '854738', '854362', '850398', '852395', '852011', '854423', '851350', '852115', '850545', '856342', '852628', '852629', '850357', '856088', '852382', '852504', '855337', '852521', '852094', '851819', '854953', '855854', '851954', '9164894', '853175', '855755', '853785', '854266', '852998', '851973', '852008', '854491', '1466418', '1466474', '850738', '23547378', '855659', '854493', '855946', '851157', '856710', '852960', '851015', '852987', '853368', '856177', '855452', '850427', '856817', '852849', '851722', '856230', '851735', '850873', '850771', '851975', '850726', '854419', '850836', '850719', '850767', '855596', '856809', '853467', '855658', '854385', '854427', '856388', '851169', '856026', '853557', '850737', '851058', '851636', '851104', '856250', '853931', '852853', '853864', '851035', '853993', '854982', '856401', '856415', '854338', '852058', '852479', '853250', '856656', '852976', '851162', '853015', '850764', '856839', '854902', '855655', '856805', '855960', '852754', '852061', '854551', '852111', '855414', '852026', '855415', '850750', '856352', '855270', '852775', '852191', '850592', '852487', '852337', '854263', '856853', '851477', '853249', '856842', '856101', '851207', '854888', '856392', '853595', '854514', '854466', '853335', '855639', '854772', '854865', '852004', '855025', '854726', '856123', '856344', '1466489', '852601', '856326', '851101', '853441', '856803', '853523', '854268', '851947', '854024', '850544', '851610', '853347', '851299', '854050', '854195', '852390', '856276', '854428', '856775', '853690', '854925', '852020', '855558', '850645', '851825', '852225', '854666', '853323', '853765', '855668', '854043', '856287', '9164880', '854294', '856854', '852620', '853725', '9164947', '856364', '855418', '852453', '853882', '852258', '852329', '853514', '852984', '852600', '854174', '851945', '1466531', '856585', '855031', '856620', '853618', '852910', '854066', '850369', '852342', '853590', '853675', '851279', '852538', '854149', '851700', '852393', '854253', '852423', '851978', '852233', '856423', '853275', '851334', '854291', '855328', '850922', '854430', '850496', '851977', '855721', '850463', '852458', '854097', '854538', '853968', '856443', '850605', '855333', '851168', '852440', '856876', '856432', '855125', '856860', '854770', '853699', '853870', '854335', '851362', '850917', '856389', '853243', '853170', '853272', '852424', '852341', '856351', '850643', '851475', '854398', '852555', '855216', '854435', '853638', '850956', '852200', '855012', '851757', '855509', '852354', '852503', '850952', '854109', '855093', '853036', '854544', '851532', '853168', '851140', '851930', '852835', '851777', '850611', '850554', '856830', '856731', '851461', '850505', '853456', '853768', '852302', '854256', '855094', '856673', '851899', '852224', '851865', '852187', '854812', '851878', '854721', '851018', '856480', '851175', '855350', '853011', '850570', '851543', '853008', '854255', '856510', '853113', '854694', '852796', '855464', '851807', '852992', '856207', '850698', '856874', '854035', '852300', '850941', '853856', '854710', '850325', '850306', '851310', '853695', '855044', '853028', '850367', '856742', '854326', '856021', '853490', '854922', '853667', '852873', '853887', '853829', '851365', '853567', '854682', '851888', '851264', '856716', '854346', '853267', '851902', '852650', '854310', '851685', '856533', '853764', '853247', '854903', '853717', '854840', '851226', '852456', '851314', '1466528', '853581', '854347', '850602', '851339', '852774', '852589', '850438', '850312', '856421', '855457', '852977', '851763', '850809', '853472', '853925', '852130', '855344', '855441', '856014', '851006', '851217', '853729', '854200', '850942', '850906', '856597', '852605', '856473', '856294', '853268', '854372', '852372', '855729', '855277', '853872', '854734', '853732', '855584', '850301', '853457', '855147', '850950', '854305', '852720', '855420', '853433', '851935', '853973', '851420', '853738', '854795', '852878', '854568', '855303', '853452', '853522', '855136', '854394', '853300', '853553', '853686', '854179', '853031', '856835', '856862', '850453', '854988', '853494', '853932', '851952', '1466488', '855937', '854819', '851535', '850568', '854447', '856755', '856111', '856796', '851670', '854650', '852685', '854921', '850874', '851838', '855295', '851359', '855047', '851205', '854187', '850692', '852833', '853042', '853761', '852622', '853665', '853888', '853497', '850619', '854499', '855753', '850391', '850396', '850687', '854677', '851216', '855679', '855110', '855187', '850354', '850580', '853026', '854995', '855348', '855873', '851746', '854735', '851805', '855876', '852640', '855206', '852434', '856409', '855521', '852846', '855771', '851225', '854072', '851974', '854777', '855949', '851996', '853758', '850819', '852642', '854405', '853108', '853562', '854071', '855553', '854805', '854854', '1466422', '852291', '852276', '850904', '856376', '850916', '1466520', '855742', '851368', '853269', '856733', '856729', '852128', '856103', '855075', '855166', '856885', '851751', '852874', '854228', '855411', '854395', '851385', '854651', '855045', '856497', '853842', '851842', '854693', '853800', '850315', '855632', '854217', '850769', '854390', '853212', '851541', '852785', '850633', '851707', '850715', '850620', '856540', '855827', '855380', '852044', '853661', '851537', '856337', '854935', '856647', '854498', '856743', '854235', '850863', '850840', '851501', '851957', '853598', '850728', '852069', '851934', '851756', '850600', '853852', '856270', '851239', '854695', '851677', '851004', '856543', '851628', '854783', '855057', '854144', '855040', '856051', '852828', '852577', '853525', '852079', '851224', '850775', '853670', '851337', '851410', '856702', '9164958', '9164866', '855132', '852117', '855248', '851502', '851439', '855910', '856654', '855706', '852358', '855108', '855938', '856505', '856564', '853240', '851708', '1466515', '854462', '856410', '853789', '854126', '852114', '856749', '854671', '854052', '851770', '856369', '850823', '855566', '852500', '851469', '853572', '854403', '854402', '856713', '854038', '851887', '852670', '853098', '852092', '850903', '854974', '851727', '854033', '852857', '852879', '856501', '854084', '852445', '852053', '855322', '853096', '852736', '851599', '851051', '854465', '852507', '854180', '1466482', '852173', '855129', '856512', '850933', '853959', '855266', '851812', '852880', '851237', '856767', '9164949', '855112', '852240', '850676', '856097', '853963', '856187', '853348', '855096', '856717', '850755', '850459', '851602', '852621', '1466510', '853174', '856517', '854669', '854353', '851238', '853579', '855748', '850317', '853830', '850614', '853163', '850569', '854110', '852411', '854706', '855480', '850572', '852531', '853843', '855083', '854688', '853869', '853183', '855275', '854227', '855722', '850999', '854216', '850892', '855532', '856460', '853782', '852903', '856659', '851643', '856145', '854042', '851488', '850458', '854559', '851268', '850576', '856645', '854891', '856770', '852435', '850531', '856924', '855321', '854495', '850425', '852444', '850979', '856357', '852935', '850319', '855554', '856514', '855412', '855090', '854277', '854824', '852702', '856649', '854822', '851332', '856020', '854276', '856283', '851342', '851286', '855750', '853089', '850450', '855712', '852728', '853912', '854850', '851243', '852818', '852813', '855580', '855688', '1466416', '856441', '853904', '856764', '852563', '851533', '855549', '853116', '852632', '856113', '852611', '855130', '852270', '855010', '851471', '854725', '853027', '852357', '852700', '854226', '856596', '850465', '850291', '851269', '854170', '851703', '855067', '851266', '852713', '852938', '852665', '855893', '851457', '851024', '855404', '856422', '855642', '850540', '851455', '851458', '856254', '851099', '853821', '854786', '855950', '852003', '855254', '856595', '853032', '850456', '856191', '853753', '851840', '853344', '853287', '856870', '855704', '853185', '855297', '856355', '851431', '851824', '853970', '850711', '852394', '851916', '856814', '854243', '850810', '850309', '852468', '855567', '852037', '850801', '856086', '855197', '851886', '851725', '853958', '852568', '855496', '854413', '850543', '850500', '851663', '850683', '850805', '850308', '852471', '854882', '854328', '856218', '856886', '856607', '851247', '852216', '852947', '851649', '852727', '851234', '853626', '852441', '856368', '855388', '855760', '855186', '855564', '851839', '1466494', '852108', '1466512', '853468', '852252', '850824', '852476', '856492', '850523', '856718', '852803', '853169', '1466536', '851255', '855538', '855167', '853952', '856178', '853631', '855089', '852749', '853555', '854956', '854653', '853836', '854976', '850349', '852848', '851274', '855219', '853635', '852750', '856232', '856453', '850957', '852797', '854836', '850445', '850822', '851133', '850333', '856324', '855179', '854197', '9164906', '855713', '855316', '851352', '851156', '851719', '854691', '853187', '856847', '852068', '851275', '850405', '850412', '850356', '852595', '3799974', '852137', '853073', '853339', '1466424', '850535', '856080', '851965', '853179', '855393', '854009', '856053', '851500', '851351', '855618', '850429', '852121', '853529', '851608', '9164910', '1466499', '850345', '856691', '855459', '853354', '853928', '850628', '853705', '855450', '851852', '852229', '852786', '855834', '856623', '854365', '853484', '3077354', '850340', '852174', '851972', '850521', '856734', '855144', '854155', '1466402', '852517', '852673', '854150', '850896', '852662', '855362', '851834', '855246', '856434', '854957', '1466433', '851429', '852172', '853981', '850946', '856179', '856341', '855228', '851209', '850442', '853982', '853616', '856582', '856361', '851988', '851263', '851681', '851250', '851214', '853288', '851512', '856284', '853436', '856559', '853770', '852249', '855976', '851788', '856558', '853139', '856578', '855238', '852533', '852294', '856577', '856754', '850447', '855255', '855099', '851925', '855013', '855048', '851724', '853554', '856535', '854223', '853088', '850887', '854085', '854079', '853003', '9164889', '852516', '856895', '852663', '852790', '852860', '852980', '852949', '853877', '854680', '853271', '853350', '856130', '856563', '851702', '850484', '852402', '853164', '851236', '851737', '855485', '850437', '850440', '856281', '855725', '852410', '851748', '851801', '855529', '850928', '850462', '853950', '853989', '855105', '852719', '854697', '854424', '850927', '851348', '856398', '851063', '852752', '851971', '9164964', '850959', '855062', '852280', '852299', '851674', '850409', '853873', '1466508', '851924', '853603', '856125', '854173', '856464', '850663', '851210', '856897', '855884', '854999', '854881', '854414', '850639', '854901', '850304', '855716', '852547', '855408', '851969', '856129', '851170', '855158', '856261', '852898', '856084', '856022', '851230', '856640', '852683', '851233', '850492', '856379', '850290', '850654', '854860', '855490', '856664', '855288', '856904', '853372', '854929', '853878', '854656', '853605', '852633', '855818', '855218', '853395', '851577', '850608', '851645', '851276', '853127', '850790', '853541', '854448', '856343', '852597', '851604', '850743', '853057', '853204', '854920', '850364', '850424', '851036', '856147', '854505', '854570', '853425', '852603', '854382', '854302', '851980', '854852', '850483', '852850', '854349', '852602', '853209', '851273', '856794', '856065', '856530', '852062', '855175', '850734', '852091', '854458', '851285', '856114', '853620', '850781', '854412', '853217', '853659', '855631', '856933', '850669', '3799978', '852978', '855021', '851064', '853649', '852552', '856107', '851096', '852432', '853889', '852940', '856264', '856320', '855890', '850695', '853188', '855514', '9164902', '9164885', '1466521', '853972', '851799', '851327', '853558', '850579', '850700', '850680', '852793', '851215', '853203', '855612', '852825', '855003', '852184', '856079', '855845', '855242', '853653', '856226', '855835', '856744', '854501', '852129', '853427', '856925', '852522', '856313', '3799977', '850632', '856212', '855427', '852119', '853760', '852141', '853238', '852758', '856520', '851376', '851590', '851068', '855619', '855384', '852042', '854361', '851624', '850477', '852093', '855626', '855426', '855177', '856621', '855786', '856470', '853730', '852544', '854913', '851008', '852883', '855779', '855883', '850905', '852131', '850538', '850423', '855700', '852587', '853297', '850833', '854708', '851804', '855595', '852012', '851444', '853677', '854267', '853482', '851317', '852950', '852542', '1466451', '854845', '855285', '853413', '851016', '856108', '850536', '856527', '856568', '856720', '852457', '852957', '854457', '855503', '853790', '856815', '851530', '853236', '850763', '855621', '851391', '850793', '852245', '851561', '855448', '850334', '853371', '855217', '853252', '853752', '851671', '850297', '856801', '854315', '852385', '854942', '856305', '854241', '853500', '853100', '852112', '853487', '855636', '850880', '851102', '854370', '851267', '854143', '853264', '854972', '853056', '851315', '852362', '853434', '854504', '855820', '852819', '855407', '852578', '855861', '852284', '854281', '855743', '853327', '851889', '850909', '851023', '853824', '850584', '850658', '851949', '851873', '851456', '855892', '856528', '854198', '850638', '851453', '855555', '854647', '854987', '854123', '850935', '856554', '856237', '851810', '851371', '852283', '851759', '9164892', '851399', '855515', '855540', '853488', '855979', '853817', '850847', '854889', '854051', '853582', '851551', '852273', '853266', '852701', '851105', '852383', '850937', '854279', '851464', '851576', '854203', '853520', '851813', '852180', '854191', '853609', '854391', '854016', '855533', '854555', '855403', '854825', '854019', '853746', '853814', '851764', '852009', '856655', '9164956', '855874', '852099', '852584', '852815', '851460', '852234', '856373', '854645', '854059', '851875', '855475', '1500489', '852535', '852554', '1466483', '852782', '853222', '856574', '850499', '851495', '850627', '850508', '9164883', '850296', '856418', '856319', '851204', '854909', '851672', '9164937', '856404', '9164953', '856498', '853417', '852469', '855417', '854827', '854481', '850713', '851612', '851048', '854392', '853144', '855474', '854213', '853091', '851494', '854282', '851791', '854040', '854088', '851468', '851411', '850744', '856459', '856467', '853381', '854147', '852223', '855634', '851782', '851695', '852338', '854249', '852766', '9164870', '853365', '851521', '853445', '853071', '852371', '9164877', '855695', '854866', '852349', '852497', '855066', '853895', '855311', '856436', '855028', '851403', '856864', '854245', '856719', '851404', '854456', '853850', '9164890', '855981', '854749', '854221', '856751', '851768', '851256', '856247', '855282', '854319', '854186', '851313', '851436', '854844', '852139', '852452', '855023', '853535', '851739', '853048', '856753', '853762', '855862', '854446', '855790', '852021', '853714', '854469', '853160', '855737', '853197', '854021', '853847', '854829', '852007', '852208', '852969', '854273', '852770', '9164955', '853953', '853277', '851562', '852089', '856463', '856063', '850740', '854879', '851388', '853471', '855573', '854679', '850449', '851389', '856614', '855520', '9164907', '851208', '855319', '855600', '856674', '853737', '1500485', '853317', '853599', '851412', '853997', '851895', '851446', '855347', '851894', '850552', '852703', '9164972', '854895', '852707', '853478', '852514', '855723', '850561', '855788', '856057', '851386', '854023', '856765', '853530', '856508', '854194', '853499', '853333', '853527', '851798', '853359', '855579', '853316', '856228', '851893', '853419', '851499', '854116', '850652', '851407', '852549', '850757', '851117', '854258', '855599', '853083', '855774', '856243', '855204', '854533', '855697', '850289', '850778', '852643', '852936', '853944', '854115', '854008', '853566', '9164962', '856542', '850862', '854646', '852588', '852134', '853226', '852282', '850493', '853648', '854278', '854134', '853988', '856573', '853470', '855707', '851307', '854642', '856606', '851166', '1466458', '852340', '856507', '852143', '854069', '852350', '9164914', '854452', '851025', '856858', '854569', '854750', '856823', '853097', '1466421', '855943', '851771', '856746', '854543', '851752', '852202', '851383', '851136', '851942', '852606', '851152', '852952', '854732', '853855', '854339', '854513', '856195', '9164925', '854301', '853025', '9164959', '850820', '853114', '850919', '853397', '852418', '852875', '856119', '854519', '852378', '853664', '854417', '856019', '855865', '850945', '855269', '855591', '856095', '855068', '855894', '853546', '850749', '9164898', '854211', '855160', '854914', '9164960', '856154', '856462', '853508', '852296', '851955', '851241', '853604', '855594', '852565', '852144', '854848', '854175', '856411', '856483', '852619', '856848', '855762', '853697', '3799976', '852810', '9164987', '850991', '9164896', '853463', '853260', '9164874', '855826', '854509', '851967', '851203', '856182', '854022', '853615', '855810', '9164881', '853019', '853202', '856584', '855863', '854804', '850754', '852864', '851587', '853602', '854160', '851254', '855767', '1466430', '850799', '854530', '3799970', '855134', '851944', '852034', '851493', '856439', '854799', '850759', '853940', '9164908', '9164984', '9164912', '856149', '850525', '855526', '852943', '854070', '856043', '853479', '854154', '856677', '850732', '856639', '851245', '851928', '854039', '853628', '850503', '853629', '856163', '852353', '856489', '854723', '853702', '854898', '9164985', '856118', '855575', '854949', '856715', '853442', '853526', '9164868', '856900', '9164916', '854673', '854118', '851476', '854229', '854758', '851614', '856166', '854648', '854796', '853969', '856529', '853781', '854948', '856413', '851000', '850894', '855283', '853809', '851122', '850883', '854487', '856011', '9164977', '853728', '856725', '851200', '856590', '850452', '854399', '856727', '855838', '852065', '856292', '850522', '853023', '856819', '856912', '855335', '855257', '1466468', '9164884', '856856', '850342', '851659', '1466463', '851260', '851139', '853802', '854275', '854330', '851159', '852263', '9164886', '854731', '855649', '854377', '852729', '852779', '855371', '851820', '856804', '852691', '850435', '851387', '9164878', '856553', '853062', '856604', '856575', '853293', '851154', '855730', '850422', '852241', '850893', '856375', '855664', '856012', '856267', '855663', '855581', '851678', '853996', '855161', '852704', '854518', '852995', '852076', '852802', '854078', '853956', '851240', '850918', '851078', '851765', '854075', '852970', '855609', '851079', '852757', '853320', '855473', '852257', '853099', '851743', '854056', '853534', '853860', '855613', '850869', '854426', '853064', '855611', '850375', '852854', '853682', '851326', '856557', '851221', '853145', '850897', '853192', '853949', '856457', '852460', '854714', '851736', '850581', '854397', '852519', '852672', '852412', '853466', '854641', '851984', '851398', '9164927', '854445', '856615', '853473', '850298', '851660', '851319', '856600', '855302', '851010', '852113', '850664', '853059', '854768', '853778', '856625', '850397', '9164967', '851872', '854557', '853663', '856461', '856412', '853128', '855143', '852551', '9164975', '854442', '850588', '854736', '851017', '855982', '852739', '855398', '851080', '854429', '9164882', '855972', '853844', '850876', '850967', '850383', '854809', '856638', '1466534', '854262', '9164969', '9164922', '9164873', '854450', '856626', '851607', '850843', '851369', '856465', '853230', '853303', '851632', '855466', '851509', '854939', '853933', '9164876', '852852', '856610', '854117', '852804', '853262', '853506', '850682', '851052', '853674', '850882', '853587', '853610', '856863', '852206', '856371', '854489', '853051', '855173', '852730', '852379', '855477', '854029', '852254', '855543', '856825', '852742', '852319', '855174', '852489', '850590', '854658', '856217', '854794', '854468', '9164895', '9164952', '851498', '9164966', '856784', '855232', '856868', '851589', '850716', '855903', '851575', '854759', '850994', '9164968', '9164970', '852922', '854096', '9164980', '851990', '853305', '852686', '854028', '856156', '852185', '852911', '851484', '851045', '850864', '851427', '854984', '854354', '851336', '856544', '855560', '856015', '9164973', '851419', '851082', '9164954', '9164963', '9164875', '9164971', '9164957', '9164901'))"
      ]
     },
     "execution_count": 13,
     "metadata": {},
     "output_type": "execute_result"
    }
   ],
   "source": [
    "systematic_CoEx_nx.nodes()"
   ]
  },
  {
   "cell_type": "code",
   "execution_count": 14,
   "metadata": {},
   "outputs": [],
   "source": [
    "identifier_df = pd.read_csv(f\"{RAW_DATA_DIRECTORY}/BIOGRID_SC_IDENTIFIERS-3.5.181.csv\", index_col=0)"
   ]
  },
  {
   "cell_type": "code",
   "execution_count": 27,
   "metadata": {},
   "outputs": [],
   "source": [
    "for nr,(ID, entry) in enumerate(identifier_df.groupby('BIOGRID_ID')):\n",
    "    if not entry.IDENTIFIER_TYPE.str.contains('SYSTEMATIC NAME').any():\n",
    "        print(5)\n",
    "        break"
   ]
  },
  {
   "cell_type": "code",
   "execution_count": 28,
   "metadata": {},
   "outputs": [
    {
     "data": {
      "text/plain": [
       "6164"
      ]
     },
     "execution_count": 28,
     "metadata": {},
     "output_type": "execute_result"
    }
   ],
   "source": [
    "nr"
   ]
  },
  {
   "cell_type": "code",
   "execution_count": 25,
   "metadata": {},
   "outputs": [
    {
     "data": {
      "text/plain": [
       "True"
      ]
     },
     "execution_count": 25,
     "metadata": {},
     "output_type": "execute_result"
    }
   ],
   "source": [
    "entry.IDENTIFIER_TYPE.str.contains('SYSTEMATIC NAME').any()"
   ]
  },
  {
   "cell_type": "code",
   "execution_count": 22,
   "metadata": {},
   "outputs": [
    {
     "data": {
      "text/plain": [
       "'SYSTEMATIC NAME'"
      ]
     },
     "execution_count": 22,
     "metadata": {},
     "output_type": "execute_result"
    }
   ],
   "source": [
    "entry.IDENTIFIER_TYPE[1]"
   ]
  },
  {
   "cell_type": "markdown",
   "metadata": {},
   "source": [
    "# Annotations"
   ]
  },
  {
   "cell_type": "markdown",
   "metadata": {},
   "source": [
    "## SGD (S. cerevisiae)"
   ]
  },
  {
   "cell_type": "code",
   "execution_count": 11,
   "metadata": {},
   "outputs": [],
   "source": [
    "SGD_FILENAME = \"sgd.gaf.gz\"\n",
    "SGD_FILEPATH = f\"{RAW_DATA_DIRECTORY}/{SGD_FILENAME}\"\n",
    "\n",
    "# load SGD gaf-file as dataframe \n",
    "with gzip.open(SGD_FILEPATH, 'rt') as gz:\n",
    "    SGD_df = pd.DataFrame(annotation for annotation in GOA.gafiterator(gz))\n",
    "    \n",
    "# Define column with systematic gene names. In SGD this is always the first synonym.\n",
    "SGD_df['Systematic_ID']  = SGD_df.Synonym.apply(lambda list_:list_[0])"
   ]
  },
  {
   "cell_type": "code",
   "execution_count": 12,
   "metadata": {},
   "outputs": [],
   "source": [
    "# Filter for proteins\n",
    "lc_protein_gaf_df = SGD_df[SGD_df['Systematic_ID'].str.startswith('Y')]\n",
    "\n",
    "# Filter through evidence code\n",
    "protein_gaf_df = lc_protein_gaf_df[lc_protein_gaf_df['Evidence'].isin(['EXP', 'IDA', 'IPI', 'IMP', 'IGI', 'IEP'])]\n",
    "\n",
    "# Split into the three GOs\n",
    "protein_BP_gaf_df = protein_gaf_df[protein_gaf_df['Aspect']=='P']\n",
    "protein_MF_gaf_df = protein_gaf_df[protein_gaf_df['Aspect']=='F']\n",
    "protein_CC_gaf_df = protein_gaf_df[protein_gaf_df['Aspect']=='C']"
   ]
  },
  {
   "cell_type": "code",
   "execution_count": 13,
   "metadata": {},
   "outputs": [],
   "source": [
    "# Get rid of all unnecesarry columns in the GAFs\n",
    "high_IC_annotations_df = protein_gaf_df[['Systematic_ID', 'GO_ID']].dropna().drop_duplicates()\n",
    "\n",
    "# Split into the three GOs\n",
    "high_IC_BP_annotations_df = protein_BP_gaf_df[['Systematic_ID', 'GO_ID']].dropna().drop_duplicates()\n",
    "high_IC_MF_annotations_df = protein_MF_gaf_df[['Systematic_ID', 'GO_ID']].dropna().drop_duplicates()\n",
    "high_IC_CC_annotations_df = protein_CC_gaf_df[['Systematic_ID', 'GO_ID']].dropna().drop_duplicates()"
   ]
  },
  {
   "cell_type": "markdown",
   "metadata": {},
   "source": [
    "### GO DAG extention (Yeast2GO)"
   ]
  },
  {
   "cell_type": "code",
   "execution_count": 14,
   "metadata": {},
   "outputs": [
    {
     "name": "stdout",
     "output_type": "stream",
     "text": [
      "/home/clusterduck123/Desktop/git/supplements/data/raw-data/go-basic.obo: fmt(1.2) rel(2019-10-07) 47,285 GO Terms\n"
     ]
    }
   ],
   "source": [
    "# Load obo and gaf files\n",
    "GO_FILENAME = \"go-basic.obo\"\n",
    "GO_FILEPATH = f\"{RAW_DATA_DIRECTORY}/{GO_FILENAME}\"\n",
    "\n",
    "# Create annotations with all upstream terms in dict\n",
    "go_dag = obo_parser.GODag(GO_FILEPATH)\n",
    "go2parents = {go_id:{*go_dag[go_id].get_all_parents(), go_id} for go_id in go_dag.keys()}"
   ]
  },
  {
   "cell_type": "code",
   "execution_count": 15,
   "metadata": {},
   "outputs": [],
   "source": [
    "# Create full list/dataframe of annotations\n",
    "all_annotations_list = [(gene_id, go_term, go_dag[go_term].level) \n",
    "                                for _, (gene_id, go_id) in high_IC_annotations_df.iterrows()\n",
    "                                    for go_term in go2parents[go_id]]\n",
    "all_annotations_df = pd.DataFrame(\n",
    "                            all_annotations_list,  \n",
    "                            columns = ['Systematic_ID', 'GO_ID', 'Level']).drop_duplicates()\n",
    "\n",
    "# Split into the three GOs\n",
    "all_BP_annotations_list = [entry for entry in all_annotations_list \n",
    "                               if go_dag[entry[1]].namespace == \"biological_process\"]\n",
    "all_MF_annotations_list = [entry for entry in all_annotations_list \n",
    "                               if go_dag[entry[1]].namespace == \"molecular_function\"]\n",
    "all_CC_annotations_list = [entry for entry in all_annotations_list \n",
    "                               if go_dag[entry[1]].namespace == \"cellular_component\"]\n",
    "\n",
    "all_BP_annotations_df = pd.DataFrame(\n",
    "                            all_BP_annotations_list,  \n",
    "                            columns = ['Systematic_ID', 'GO_ID', 'Level']).drop_duplicates()\n",
    "all_MF_annotations_df = pd.DataFrame(\n",
    "                            all_MF_annotations_list,  \n",
    "                            columns = ['Systematic_ID', 'GO_ID', 'Level']).drop_duplicates()\n",
    "all_CC_annotations_df = pd.DataFrame(\n",
    "                            all_CC_annotations_list,  \n",
    "                            columns = ['Systematic_ID', 'GO_ID', 'Level']).drop_duplicates()"
   ]
  },
  {
   "cell_type": "markdown",
   "metadata": {},
   "source": [
    "### Summary"
   ]
  },
  {
   "cell_type": "code",
   "execution_count": 16,
   "metadata": {},
   "outputs": [
    {
     "name": "stdout",
     "output_type": "stream",
     "text": [
      "SGD universe sizes:\n",
      "============================================\n",
      "Biological Process : 4532 genes, 4662 GO-IDs \n",
      "Molecular Functions: 3564 genes, 2105 GO-IDs \n",
      "Cellular Components: 4013 genes, 904  GO-IDs \n",
      "--------------------------------------------\n",
      "All annotations    : 4967 genes, 7671 GO-IDs \n"
     ]
    }
   ],
   "source": [
    "print(\"SGD universe sizes:\")\n",
    "print(\"============================================\")\n",
    "print(\"Biological Process : \" \n",
    "    f\"{len(set(map(lambda x:x[0],all_BP_annotations_list)))} genes, \"\n",
    "    f\"{len(set(map(lambda x:x[1],all_BP_annotations_list)))} GO-IDs \")\n",
    "print(\"Molecular Functions: \" \n",
    "    f\"{len(set(map(lambda x:x[0],all_MF_annotations_list)))} genes, \"\n",
    "    f\"{len(set(map(lambda x:x[1],all_MF_annotations_list)))} GO-IDs \")\n",
    "print(\"Cellular Components: \" \n",
    "    f\"{len(set(map(lambda x:x[0],all_CC_annotations_list)))} genes, \"\n",
    "    f\"{len(set(map(lambda x:x[1],all_CC_annotations_list)))}  GO-IDs \")\n",
    "print('--------------------------------------------')\n",
    "print(\"All annotations    : \" \n",
    "    f\"{len(set(map(lambda x:x[0],all_annotations_list)))} genes, \"\n",
    "    f\"{len(set(map(lambda x:x[1],all_annotations_list)))} GO-IDs \")"
   ]
  },
  {
   "cell_type": "markdown",
   "metadata": {},
   "source": [
    "### Save"
   ]
  },
  {
   "cell_type": "code",
   "execution_count": 17,
   "metadata": {},
   "outputs": [],
   "source": [
    "if not os.path.exists(ANNOTATION_DIRECTORY):\n",
    "    os.makedirs(ANNOTATION_DIRECTORY)\n",
    "\n",
    "all_annotations_df.to_csv(f\"{ANNOTATION_DIRECTORY}/GO_all_SGD.csv\", index=False)\n",
    "\n",
    "all_BP_annotations_df.to_csv(f\"{ANNOTATION_DIRECTORY}/GO_BP_SGD.csv\", index=False)\n",
    "all_MF_annotations_df.to_csv(f\"{ANNOTATION_DIRECTORY}/GO_MF_SGD.csv\", index=False)\n",
    "all_CC_annotations_df.to_csv(f\"{ANNOTATION_DIRECTORY}/GO_CC_SGD.csv\", index=False)"
   ]
  },
  {
   "cell_type": "markdown",
   "metadata": {},
   "source": [
    "## BioGRID $\\cap$ SGD"
   ]
  },
  {
   "cell_type": "code",
   "execution_count": 18,
   "metadata": {},
   "outputs": [],
   "source": [
    "PPI_nx = nx.read_edgelist(f\"{NETWORK_DIRECTORY}/PPI_BioGRID.txt\")\n",
    "\n",
    "all_annotations_df = pd.read_csv(f\"{ANNOTATION_DIRECTORY}/GO_all_SGD.csv\")\n",
    "\n",
    "all_BP_annotations_df = pd.read_csv(f\"{ANNOTATION_DIRECTORY}/GO_BP_SGD.csv\")\n",
    "all_MF_annotations_df = pd.read_csv(f\"{ANNOTATION_DIRECTORY}/GO_MF_SGD.csv\")\n",
    "all_CC_annotations_df = pd.read_csv(f\"{ANNOTATION_DIRECTORY}/GO_CC_SGD.csv\")"
   ]
  },
  {
   "cell_type": "code",
   "execution_count": 19,
   "metadata": {},
   "outputs": [],
   "source": [
    "PPI_annotations_df = all_annotations_df[all_annotations_df.Systematic_ID.isin(PPI_nx.nodes)]\n",
    "\n",
    "PPI_BP_annotations_df = all_BP_annotations_df[all_BP_annotations_df.Systematic_ID.isin(PPI_nx.nodes)]\n",
    "PPI_MF_annotations_df = all_MF_annotations_df[all_MF_annotations_df.Systematic_ID.isin(PPI_nx.nodes)]\n",
    "PPI_CC_annotations_df = all_CC_annotations_df[all_CC_annotations_df.Systematic_ID.isin(PPI_nx.nodes)]"
   ]
  },
  {
   "cell_type": "markdown",
   "metadata": {},
   "source": [
    "### Summary"
   ]
  },
  {
   "cell_type": "code",
   "execution_count": 20,
   "metadata": {},
   "outputs": [
    {
     "name": "stdout",
     "output_type": "stream",
     "text": [
      "SGD ∩ BioGRID universe sizes:\n",
      "============================================\n",
      "Biological Process : 4496 genes, 4658 GO-IDs \n",
      "Molecular Functions: 3537 genes, 2097 GO-IDs \n",
      "Cellular Components: 3993 genes, 904  GO-IDs \n",
      "--------------------------------------------\n",
      "All annotations    : 4923 genes, 7659 GO-IDs \n"
     ]
    }
   ],
   "source": [
    "print(r\"SGD ∩ BioGRID universe sizes:\")\n",
    "print(\"============================================\")\n",
    "print(\"Biological Process : \" \n",
    "    f\"{len(set(PPI_BP_annotations_df.Systematic_ID))} genes, \"\n",
    "    f\"{len(set(PPI_BP_annotations_df.GO_ID))} GO-IDs \")\n",
    "print(\"Molecular Functions: \" \n",
    "    f\"{len(set(PPI_MF_annotations_df.Systematic_ID))} genes, \"\n",
    "    f\"{len(set(PPI_MF_annotations_df.GO_ID))} GO-IDs \")\n",
    "print(\"Cellular Components: \" \n",
    "    f\"{len(set(PPI_CC_annotations_df.Systematic_ID))} genes, \"\n",
    "    f\"{len(set(PPI_CC_annotations_df.GO_ID))}  GO-IDs \")\n",
    "print('--------------------------------------------')\n",
    "print(\"All annotations    : \" \n",
    "    f\"{len(set(PPI_annotations_df.Systematic_ID))} genes, \"\n",
    "    f\"{len(set(PPI_annotations_df.GO_ID))} GO-IDs \")"
   ]
  },
  {
   "cell_type": "markdown",
   "metadata": {},
   "source": [
    "### Save"
   ]
  },
  {
   "cell_type": "code",
   "execution_count": 21,
   "metadata": {},
   "outputs": [],
   "source": [
    "PPI_annotations_df.to_csv(f\"{ANNOTATION_DIRECTORY}/GO_all_BioGRID-SGD.csv\", index=False)\n",
    "\n",
    "PPI_BP_annotations_df.to_csv(f\"{ANNOTATION_DIRECTORY}/GO_BP_BioGRID-SGD.csv\", index=False)\n",
    "PPI_MF_annotations_df.to_csv(f\"{ANNOTATION_DIRECTORY}/GO_MF_BioGRID-SGD.csv\", index=False)\n",
    "PPI_CC_annotations_df.to_csv(f\"{ANNOTATION_DIRECTORY}/GO_CC_BioGRID-SGD.csv\", index=False)"
   ]
  }
 ],
 "metadata": {
  "kernelspec": {
   "display_name": "graco",
   "language": "python",
   "name": "graco"
  },
  "language_info": {
   "codemirror_mode": {
    "name": "ipython",
    "version": 3
   },
   "file_extension": ".py",
   "mimetype": "text/x-python",
   "name": "python",
   "nbconvert_exporter": "python",
   "pygments_lexer": "ipython3",
   "version": "3.6.8"
  }
 },
 "nbformat": 4,
 "nbformat_minor": 2
}
