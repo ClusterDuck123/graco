{
 "cells": [
  {
   "cell_type": "code",
   "execution_count": 1,
   "metadata": {},
   "outputs": [],
   "source": [
    "from itertools import islice, combinations, product\n",
    "from pyclustering.cluster.kmedoids import kmedoids\n",
    "from collections import defaultdict\n",
    "from scipy.stats import hypergeom\n",
    "from goatools import obo_parser\n",
    "from functools import partial\n",
    "\n",
    "import os\n",
    "import time\n",
    "import graco\n",
    "import numpy as np\n",
    "import pandas as pd\n",
    "import networkx as nx"
   ]
  },
  {
   "cell_type": "code",
   "execution_count": 2,
   "metadata": {},
   "outputs": [],
   "source": [
    "pd.set_option(\"display.max_columns\", 50)\n",
    "\n",
    "DATA_DIRECTORY = \"/home/clusterduck123/Desktop/git/supplements/data\"\n",
    "CPP_DIRECTORY = \"/home/clusterduck123/Desktop/git/graco/graco/cpp\"\n",
    "\n",
    "RAW_DATA_DIRECTORY = f\"{DATA_DIRECTORY}/raw_data\"\n",
    "PPI_DIRECTORY = f\"{DATA_DIRECTORY}/PPI\"\n",
    "ANNOTATIONS_DIRECTORY = f\"{DATA_DIRECTORY}/annotations\"\n",
    "MATRIX_DIRECTORY = f\"{DATA_DIRECTORY}/matrix\"\n",
    "CLUSTERS_DIRECTORY = f\"{DATA_DIRECTORY}/clusters\""
   ]
  },
  {
   "cell_type": "markdown",
   "metadata": {},
   "source": [
    "# Enrichement"
   ]
  },
  {
   "cell_type": "markdown",
   "metadata": {},
   "source": [
    "#### Set parameters"
   ]
  },
  {
   "cell_type": "code",
   "execution_count": 3,
   "metadata": {},
   "outputs": [],
   "source": [
    "namespace = 'BP'\n",
    "lb_GO = 5\n",
    "ub_GO = 500\n",
    "min_lvl = 0\n",
    "max_lvl = 100"
   ]
  },
  {
   "cell_type": "markdown",
   "metadata": {},
   "source": [
    "#### Load and parse annotation data"
   ]
  },
  {
   "cell_type": "code",
   "execution_count": 4,
   "metadata": {},
   "outputs": [
    {
     "name": "stdout",
     "output_type": "stream",
     "text": [
      "/home/clusterduck123/Desktop/git/supplements/data/raw_data/go-basic.obo: fmt(1.2) rel(2019-10-07) 47,285 GO Terms\n"
     ]
    }
   ],
   "source": [
    "PPI = nx.read_edgelist(f\"{PPI_DIRECTORY}/BioGRID_sc.txt\")\n",
    "\n",
    "annotation_df = all_CC_annotations_df = pd.read_csv(f\"{ANNOTATIONS_DIRECTORY}/BioGRID-SGD_{namespace}_sc.csv\")\n",
    "\n",
    "go_dag = obo_parser.GODag(f\"{RAW_DATA_DIRECTORY}/go-basic.obo\")\n",
    "\n",
    "GO_population = {go_id for go_id in set(annotation_df.GO_ID) \n",
    "                           if (lb_GO <= len(annotation_df[annotation_df.GO_ID == go_id]) <= ub_GO and\n",
    "                               min_lvl <= go_dag[go_id].level <= max_lvl)}\n",
    "\n",
    "annotation_df = annotation_df[annotation_df.GO_ID.isin(GO_population)]"
   ]
  },
  {
   "cell_type": "markdown",
   "metadata": {},
   "source": [
    "#### Define convenient dictionaries"
   ]
  },
  {
   "cell_type": "code",
   "execution_count": 5,
   "metadata": {},
   "outputs": [],
   "source": [
    "# Conversion dictionaries\n",
    "int2GO = dict(enumerate(GO_population))\n",
    "GO2int = dict(zip(int2GO.values(), int2GO.keys()))\n",
    "\n",
    "GO2genes = {go_id:set(annotation_df.Systematic_ID[annotation_df.GO_ID == go_id])\n",
    "                for go_id in GO_population}\n",
    "\n",
    "gene2GOs = {gene :set(annotation_df.GO_ID[annotation_df.Systematic_ID == gene]) \n",
    "                for gene in PPI}"
   ]
  },
  {
   "cell_type": "markdown",
   "metadata": {},
   "source": [
    "## Here we GO"
   ]
  },
  {
   "cell_type": "markdown",
   "metadata": {},
   "source": [
    "#### Functions"
   ]
  },
  {
   "cell_type": "code",
   "execution_count": 6,
   "metadata": {},
   "outputs": [],
   "source": [
    "def gene_enriched_in_cluster(gene, cluster, enrichment):\n",
    "    return bool(gene2GOs[gene] & set(GO_index[enrichment[cluster]]))\n",
    "\n",
    "def get_enrichment_df(alpha, p_values):\n",
    "    m = p_values.size\n",
    "    c = np.log(m) + np.euler_gamma + 1/(2*m)\n",
    "    sorted_p_values = np.sort(p_values.values.flatten())\n",
    "    for k,P_k in enumerate(sorted_p_values,1):\n",
    "        if P_k > k/(m*c) * alpha:\n",
    "            break\n",
    "    threshold = sorted_p_values[k-2]\n",
    "    return p_values_df < threshold\n",
    "\n",
    "def get_number_of_max_runs(GV, distance, n_clusters):\n",
    "    runs = max(int(run) for run,species,db,ncluster_txt in \n",
    "             map(partial(str.split, sep='_'), os.listdir(f\"{CLUSTERS_DIRECTORY}/{GV}/{distance}\"))\n",
    "                if int(ncluster_txt.split('.')[0]) == n_clusters)\n",
    "    return runs"
   ]
  },
  {
   "cell_type": "markdown",
   "metadata": {},
   "source": [
    "#### Cluster independent arrays"
   ]
  },
  {
   "cell_type": "code",
   "execution_count": 7,
   "metadata": {},
   "outputs": [],
   "source": [
    "list_of_success_states = list(GO2genes.values())\n",
    "array_of_total_successes = np.array(list(map(len,list_of_success_states))).reshape(-1,1)"
   ]
  },
  {
   "cell_type": "code",
   "execution_count": 8,
   "metadata": {},
   "outputs": [],
   "source": [
    "alpha = 0.05\n",
    "MIN_CLUSTERS = 2\n",
    "MAX_CLUSTERS = 100\n",
    "MAX_RUNS = 20\n",
    "\n",
    "cluster_coverages = defaultdict(pd.DataFrame)\n",
    "GO_coverages      = defaultdict(pd.DataFrame)\n",
    "gene_coverages    = defaultdict(pd.DataFrame)"
   ]
  },
  {
   "cell_type": "code",
   "execution_count": 10,
   "metadata": {},
   "outputs": [
    {
     "name": "stdout",
     "output_type": "stream",
     "text": [
      "gGCV-normalizedlinf 0\n",
      "99: 125.62sec\n"
     ]
    }
   ],
   "source": [
    "for method in ['gGCV_normalizedlinf']:\n",
    "    \n",
    "    if not os.path.exists(f\"{DATA_DIRECTORY}/enrichments/{namespace}/{method}\"):\n",
    "        os.makedirs(f\"{DATA_DIRECTORY}/enrichments/{namespace}/{method}\")\n",
    "    \n",
    "    GV, distance = method.split('_')\n",
    "    runs = min(get_number_of_max_runs(GV, distance, MAX_CLUSTERS-1), MAX_RUNS)\n",
    "\n",
    "    for run in range(runs+1):\n",
    "        \n",
    "        t1 = time.time()\n",
    "        print(f\"{GV}-{distance} {run}\")\n",
    "        \n",
    "        cluster_coverages[method][run] = pd.Series(np.nan, index=range(MIN_CLUSTERS, MAX_CLUSTERS))\n",
    "        GO_coverages[method][run] = pd.Series(np.nan, index=range(MIN_CLUSTERS, MAX_CLUSTERS))\n",
    "        gene_coverages[method][run] = pd.Series(np.nan, index=range(MIN_CLUSTERS, MAX_CLUSTERS))\n",
    "        \n",
    "        for n_clusters in range(MIN_CLUSTERS, MAX_CLUSTERS):\n",
    "            \n",
    "\n",
    "            with open(f\"{CLUSTERS_DIRECTORY}/{GV}/{distance}/{run}_sc_BioGRID_{n_clusters}.txt\", 'r') as f:\n",
    "                    list_of_experiments = [set(line.split()) for line in f] \n",
    "\n",
    "            clusters = dict(enumerate(list_of_experiments))\n",
    "\n",
    "            # For each GO term and cluster we get an experiment \n",
    "            array_of_observed_successes = np.array([[len(draws & success_states) for draws in list_of_experiments]\n",
    "                                                for success_states in list_of_success_states])\n",
    "\n",
    "\n",
    "\n",
    "            K = array_of_total_successes             # defined in section 'Preparation'\n",
    "            n = list(map(len, list_of_experiments))  # cluster lengths\n",
    "            k = array_of_observed_successes          # number of annotated genes found in cluster\n",
    "            N = sum(n)                               # PPI size, i.e. number of all genes that appear in a cluster\n",
    "\n",
    "            # scipy has a really messed up nomeclature... \n",
    "            p_values_array = 1-hypergeom.cdf(k=k-1, M=N, N=n, n=K)\n",
    "            p_values_df    = pd.DataFrame(p_values_array, index=GO_population)\n",
    "            GO_index = p_values_df.index\n",
    "\n",
    "            m = p_values_array.size\n",
    "            enrichment_df = get_enrichment_df(alpha,p_values_df)\n",
    "            \n",
    "            cluster_coverages[method][run][n_clusters] = sum(enrichment_df.any())      /n_clusters\n",
    "            GO_coverages[method][run][n_clusters] = sum(enrichment_df.any(axis=1))/len(GO_population)\n",
    "            gene_coverages[method][run][n_clusters] = sum(1 for cluster in clusters for gene in clusters[cluster] \n",
    "                                                if gene_enriched_in_cluster(gene, cluster, enrichment_df))/N\n",
    "\n",
    "            t2 = time.time()\n",
    "            print(f'{n_clusters}: {t2-t1:.2f}sec', end='\\r')\n",
    "        \n",
    "    cluster_coverages[method].to_csv(f\"{DATA_DIRECTORY}/enrichments/{namespace}/{method}/cluster_coverage.txt\")\n",
    "    GO_coverages[method].to_csv(f\"{DATA_DIRECTORY}/enrichments/{namespace}/{method}/GO_coverage.txt\")\n",
    "    gene_coverages[method].to_csv(f\"{DATA_DIRECTORY}/enrichments/{namespace}/{method}/gene_coverage.txt\")\n",
    "    print()"
   ]
  },
  {
   "cell_type": "code",
   "execution_count": null,
   "metadata": {},
   "outputs": [],
   "source": []
  }
 ],
 "metadata": {
  "kernelspec": {
   "display_name": "graco",
   "language": "python",
   "name": "graco"
  },
  "language_info": {
   "codemirror_mode": {
    "name": "ipython",
    "version": 3
   },
   "file_extension": ".py",
   "mimetype": "text/x-python",
   "name": "python",
   "nbconvert_exporter": "python",
   "pygments_lexer": "ipython3",
   "version": "3.6.8"
  }
 },
 "nbformat": 4,
 "nbformat_minor": 2
}
