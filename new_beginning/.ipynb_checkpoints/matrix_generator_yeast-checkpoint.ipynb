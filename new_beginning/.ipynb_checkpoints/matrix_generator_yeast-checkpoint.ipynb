{
 "cells": [
  {
   "cell_type": "code",
   "execution_count": 4,
   "metadata": {},
   "outputs": [],
   "source": [
    "from scipy.spatial.distance import squareform, cdist, pdist\n",
    "from itertools import combinations\n",
    "from functools import partial\n",
    "\n",
    "import os\n",
    "import graco\n",
    "import numpy as np\n",
    "import pandas as pd\n",
    "import networkx as nx"
   ]
  },
  {
   "cell_type": "code",
   "execution_count": 5,
   "metadata": {},
   "outputs": [],
   "source": [
    "pd.set_option(\"display.max_columns\", 50)\n",
    "\n",
    "DATA_DIRECTORY = \"/media/clusterduck123/joe/data\"\n",
    "YEAST_DIRECTORY = f\"{DATA_DIRECTORY}/processed-data/yeast\"\n",
    "NETWORK_DIRECTORY = f\"{YEAST_DIRECTORY}/networks\"\n",
    "MATRIX_DIRECTORY  = f\"{YEAST_DIRECTORY}/distance-matrices\""
   ]
  },
  {
   "cell_type": "markdown",
   "metadata": {},
   "source": [
    "# Distance matrices"
   ]
  },
  {
   "cell_type": "code",
   "execution_count": 6,
   "metadata": {},
   "outputs": [],
   "source": [
    "all_distances = ['cityblock', 'euclidean', 'chebyshev', \n",
    "                 'sqeuclidean', 'canberra', \n",
    "                 'normalized1_l1', 'normalized1_l2', 'normalized1_linf', \n",
    "                 'normalized2_l1', 'normalized2_l2', 'normalized2_linf', 'mahalanobis', 'seuclidean',\n",
    "                 'cosine', 'correlation', 'braycurtis']"
   ]
  },
  {
   "cell_type": "code",
   "execution_count": 7,
   "metadata": {},
   "outputs": [],
   "source": [
    "PPI_nx = nx.read_edgelist(f\"{NETWORK_DIRECTORY}/PPI_BioGRID.txt\")\n",
    "GDV = graco.orbits(PPI_nx)\n",
    "GCV = graco.coefficients(GDV)"
   ]
  },
  {
   "cell_type": "markdown",
   "metadata": {},
   "source": [
    "## GDV"
   ]
  },
  {
   "cell_type": "code",
   "execution_count": 5,
   "metadata": {},
   "outputs": [],
   "source": [
    "feature = 'GDV'\n",
    "\n",
    "if not os.path.exists(f\"{MATRIX_DIRECTORY}/{feature}\"):\n",
    "    os.makedirs(f\"{MATRIX_DIRECTORY}/{feature}/\")"
   ]
  },
  {
   "cell_type": "code",
   "execution_count": 8,
   "metadata": {},
   "outputs": [],
   "source": [
    "for distance in all_distances:\n",
    "    D = graco.distance_matrix(GDV, distance)\n",
    "    np.savetxt(f\"{MATRIX_DIRECTORY}/{feature}/{distance}_BioGRID.txt\", D, \n",
    "           fmt='%.7f', header=' '.join(PPI_nx), comments='')"
   ]
  },
  {
   "cell_type": "code",
   "execution_count": null,
   "metadata": {},
   "outputs": [],
   "source": [
    "D = graco.distance_matrix(GDV, distance)\n",
    "np.savetxt(f\"{MATRIX_DIRECTORY}/{feature}/GDV_similarity_BioGRID.txt\", D, \n",
    "       fmt='%.7f', header=' '.join(PPI_nx), comments='')"
   ]
  },
  {
   "cell_type": "markdown",
   "metadata": {},
   "source": [
    "## GCV-D"
   ]
  },
  {
   "cell_type": "code",
   "execution_count": 5,
   "metadata": {},
   "outputs": [],
   "source": [
    "feature = 'GCV-D'\n",
    "\n",
    "if not os.path.exists(f\"{MATRIX_DIRECTORY}/{feature}\"):\n",
    "    os.makedirs(f\"{MATRIX_DIRECTORY}/{feature}/\")"
   ]
  },
  {
   "cell_type": "code",
   "execution_count": 7,
   "metadata": {
    "collapsed": true
   },
   "outputs": [
    {
     "ename": "Exception",
     "evalue": "Datatype not understood.",
     "output_type": "error",
     "traceback": [
      "\u001b[0;31m---------------------------------------------------------------------------\u001b[0m",
      "\u001b[0;31mException\u001b[0m                                 Traceback (most recent call last)",
      "\u001b[0;32m<ipython-input-7-89f08cc92472>\u001b[0m in \u001b[0;36m<module>\u001b[0;34m\u001b[0m\n\u001b[1;32m      1\u001b[0m \u001b[0;32mfor\u001b[0m \u001b[0mdistance\u001b[0m \u001b[0;32min\u001b[0m \u001b[0mall_distances\u001b[0m\u001b[0;34m:\u001b[0m\u001b[0;34m\u001b[0m\u001b[0;34m\u001b[0m\u001b[0m\n\u001b[0;32m----> 2\u001b[0;31m     \u001b[0mD\u001b[0m \u001b[0;34m=\u001b[0m \u001b[0mgraco\u001b[0m\u001b[0;34m.\u001b[0m\u001b[0mGCV_distance\u001b[0m\u001b[0;34m(\u001b[0m\u001b[0mGCV\u001b[0m\u001b[0;34m[\u001b[0m\u001b[0;34m'D'\u001b[0m\u001b[0;34m]\u001b[0m\u001b[0;34m,\u001b[0m \u001b[0mdistance\u001b[0m\u001b[0;34m)\u001b[0m\u001b[0;34m\u001b[0m\u001b[0;34m\u001b[0m\u001b[0m\n\u001b[0m\u001b[1;32m      3\u001b[0m     np.savetxt(f\"{MATRIX_DIRECTORY}/{feature}/{distance}_BioGRID.txt\", D, \n\u001b[1;32m      4\u001b[0m            fmt='%.7f', header=' '.join(PPI_nx), comments='')\n",
      "\u001b[0;32m~/Desktop/git/supplements/venv/graco/lib/python3.6/site-packages/graco/core.py\u001b[0m in \u001b[0;36mGCV_distance\u001b[0;34m(GCV, distance, nan)\u001b[0m\n\u001b[1;32m     76\u001b[0m             \u001b[0;32mfor\u001b[0m \u001b[0meq\u001b[0m \u001b[0;32min\u001b[0m \u001b[0mset\u001b[0m\u001b[0;34m(\u001b[0m\u001b[0mGCV\u001b[0m\u001b[0;34m.\u001b[0m\u001b[0mcolumns\u001b[0m\u001b[0;34m.\u001b[0m\u001b[0mdroplevel\u001b[0m\u001b[0;34m(\u001b[0m\u001b[0;34m[\u001b[0m\u001b[0mdepth\u001b[0m\u001b[0;34m-\u001b[0m\u001b[0;36m1\u001b[0m\u001b[0;34m]\u001b[0m\u001b[0;34m)\u001b[0m\u001b[0;34m)\u001b[0m\u001b[0;34m:\u001b[0m\u001b[0;34m\u001b[0m\u001b[0;34m\u001b[0m\u001b[0m\n\u001b[1;32m     77\u001b[0m                 \u001b[0mlength\u001b[0m \u001b[0;34m=\u001b[0m \u001b[0mlen\u001b[0m\u001b[0;34m(\u001b[0m\u001b[0mGCV\u001b[0m\u001b[0;34m[\u001b[0m\u001b[0meq\u001b[0m\u001b[0;34m]\u001b[0m\u001b[0;34m.\u001b[0m\u001b[0mT\u001b[0m\u001b[0;34m)\u001b[0m\u001b[0;34m\u001b[0m\u001b[0;34m\u001b[0m\u001b[0m\n\u001b[0;32m---> 78\u001b[0;31m                 \u001b[0mD_i\u001b[0m \u001b[0;34m=\u001b[0m \u001b[0mgraco\u001b[0m\u001b[0;34m.\u001b[0m\u001b[0mdistance_matrix\u001b[0m\u001b[0;34m(\u001b[0m\u001b[0mGCV\u001b[0m\u001b[0;34m[\u001b[0m\u001b[0meq\u001b[0m\u001b[0;34m]\u001b[0m\u001b[0;34m.\u001b[0m\u001b[0mdropna\u001b[0m\u001b[0;34m(\u001b[0m\u001b[0;34m)\u001b[0m\u001b[0;34m,\u001b[0m \u001b[0mdistance\u001b[0m\u001b[0;34m)\u001b[0m \u001b[0;34m/\u001b[0m\u001b[0;31m \u001b[0m\u001b[0;31m\\\u001b[0m\u001b[0;34m\u001b[0m\u001b[0;34m\u001b[0m\u001b[0m\n\u001b[0m\u001b[1;32m     79\u001b[0m                       \u001b[0mnormalizer\u001b[0m\u001b[0;34m(\u001b[0m\u001b[0mdistance\u001b[0m\u001b[0;34m,\u001b[0m\u001b[0mlength\u001b[0m\u001b[0;34m)\u001b[0m\u001b[0;34m\u001b[0m\u001b[0;34m\u001b[0m\u001b[0m\n\u001b[1;32m     80\u001b[0m                 \u001b[0mnot_nan_indices\u001b[0m \u001b[0;34m=\u001b[0m \u001b[0mGCV\u001b[0m\u001b[0;34m.\u001b[0m\u001b[0mindex\u001b[0m\u001b[0;34m[\u001b[0m\u001b[0;34m~\u001b[0m\u001b[0mGCV\u001b[0m\u001b[0;34m[\u001b[0m\u001b[0meq\u001b[0m\u001b[0;34m]\u001b[0m\u001b[0;34m.\u001b[0m\u001b[0misna\u001b[0m\u001b[0;34m(\u001b[0m\u001b[0;34m)\u001b[0m\u001b[0;34m.\u001b[0m\u001b[0many\u001b[0m\u001b[0;34m(\u001b[0m\u001b[0maxis\u001b[0m\u001b[0;34m=\u001b[0m\u001b[0;36m1\u001b[0m\u001b[0;34m)\u001b[0m\u001b[0;34m]\u001b[0m\u001b[0;34m\u001b[0m\u001b[0;34m\u001b[0m\u001b[0m\n",
      "\u001b[0;32m~/Desktop/git/supplements/venv/graco/lib/python3.6/site-packages/graco/core.py\u001b[0m in \u001b[0;36mdistance_matrix\u001b[0;34m(M, dist)\u001b[0m\n\u001b[1;32m     61\u001b[0m             \u001b[0;32mreturn\u001b[0m \u001b[0mgraco\u001b[0m\u001b[0;34m.\u001b[0m\u001b[0mdistance_matrices\u001b[0m\u001b[0;34m.\u001b[0m\u001b[0mnormalized2_lp\u001b[0m\u001b[0;34m(\u001b[0m\u001b[0mM\u001b[0m\u001b[0;34m,\u001b[0m \u001b[0mp\u001b[0m \u001b[0;34m=\u001b[0m \u001b[0mint\u001b[0m\u001b[0;34m(\u001b[0m\u001b[0mp\u001b[0m\u001b[0;34m)\u001b[0m\u001b[0;34m)\u001b[0m\u001b[0;34m\u001b[0m\u001b[0;34m\u001b[0m\u001b[0m\n\u001b[1;32m     62\u001b[0m     \u001b[0;32melif\u001b[0m \u001b[0mdist\u001b[0m \u001b[0;34m==\u001b[0m \u001b[0;34m'GDV_similarity'\u001b[0m\u001b[0;34m:\u001b[0m\u001b[0;34m\u001b[0m\u001b[0;34m\u001b[0m\u001b[0m\n\u001b[0;32m---> 63\u001b[0;31m         \u001b[0;32mreturn\u001b[0m \u001b[0mgraco\u001b[0m\u001b[0;34m.\u001b[0m\u001b[0mdistance_matrices\u001b[0m\u001b[0;34m.\u001b[0m\u001b[0mGDV_similarity\u001b[0m\u001b[0;34m(\u001b[0m\u001b[0mM\u001b[0m\u001b[0;34m)\u001b[0m\u001b[0;34m\u001b[0m\u001b[0;34m\u001b[0m\u001b[0m\n\u001b[0m\u001b[1;32m     64\u001b[0m     \u001b[0;32melse\u001b[0m\u001b[0;34m:\u001b[0m\u001b[0;34m\u001b[0m\u001b[0;34m\u001b[0m\u001b[0m\n\u001b[1;32m     65\u001b[0m         \u001b[0;32mreturn\u001b[0m \u001b[0msquareform\u001b[0m\u001b[0;34m(\u001b[0m\u001b[0mpdist\u001b[0m\u001b[0;34m(\u001b[0m\u001b[0mM\u001b[0m\u001b[0;34m,\u001b[0m \u001b[0mdist\u001b[0m\u001b[0;34m)\u001b[0m\u001b[0;34m)\u001b[0m\u001b[0;34m\u001b[0m\u001b[0;34m\u001b[0m\u001b[0m\n",
      "\u001b[0;32m~/Desktop/git/supplements/venv/graco/lib/python3.6/site-packages/graco/distance_matrices.py\u001b[0m in \u001b[0;36mGDV_similarity\u001b[0;34m(M)\u001b[0m\n\u001b[1;32m     38\u001b[0m         \u001b[0;32mreturn\u001b[0m \u001b[0mnp\u001b[0m\u001b[0;34m.\u001b[0m\u001b[0mloadtxt\u001b[0m\u001b[0;34m(\u001b[0m\u001b[0mmatrix_out\u001b[0m\u001b[0;34m)\u001b[0m\u001b[0;34m\u001b[0m\u001b[0;34m\u001b[0m\u001b[0m\n\u001b[1;32m     39\u001b[0m     \u001b[0;32melse\u001b[0m\u001b[0;34m:\u001b[0m\u001b[0;34m\u001b[0m\u001b[0;34m\u001b[0m\u001b[0m\n\u001b[0;32m---> 40\u001b[0;31m         \u001b[0;32mraise\u001b[0m \u001b[0mException\u001b[0m\u001b[0;34m(\u001b[0m\u001b[0;34m\"Datatype not understood.\"\u001b[0m\u001b[0;34m)\u001b[0m\u001b[0;34m\u001b[0m\u001b[0;34m\u001b[0m\u001b[0m\n\u001b[0m\u001b[1;32m     41\u001b[0m \u001b[0;34m\u001b[0m\u001b[0m\n\u001b[1;32m     42\u001b[0m \u001b[0;34m\u001b[0m\u001b[0m\n",
      "\u001b[0;31mException\u001b[0m: Datatype not understood."
     ]
    }
   ],
   "source": [
    "for distance in all_distances:\n",
    "    D = graco.GCV_distance(GCV['D'], distance)\n",
    "    np.savetxt(f\"{MATRIX_DIRECTORY}/{feature}/{distance}_BioGRID.txt\", D, \n",
    "           fmt='%.7f', header=' '.join(PPI_nx), comments='')"
   ]
  },
  {
   "cell_type": "code",
   "execution_count": 6,
   "metadata": {},
   "outputs": [],
   "source": [
    "D = graco.GCV_distance(GCV['D'], 'hellinger')\n",
    "np.savetxt(f\"{MATRIX_DIRECTORY}/{feature}/hellinger_BioGRID.txt\", D, \n",
    "       fmt='%.7f', header=' '.join(PPI_nx), comments='')"
   ]
  },
  {
   "cell_type": "markdown",
   "metadata": {},
   "source": [
    "## GCV-A"
   ]
  },
  {
   "cell_type": "code",
   "execution_count": 5,
   "metadata": {},
   "outputs": [],
   "source": [
    "feature = 'GCV-A'\n",
    "\n",
    "if not os.path.exists(f\"{MATRIX_DIRECTORY}/{feature}\"):\n",
    "    os.makedirs(f\"{MATRIX_DIRECTORY}/{feature}/\")"
   ]
  },
  {
   "cell_type": "code",
   "execution_count": 6,
   "metadata": {},
   "outputs": [],
   "source": [
    "D = graco.GCV_distance(feature_matrix, 'hellinger')\n",
    "np.savetxt(f\"{MATRIX_DIRECTORY}/{feature}/hellinger_BioGRID.txt\", D, \n",
    "       fmt='%.7f', header=' '.join(PPI_nx), comments='')"
   ]
  },
  {
   "cell_type": "code",
   "execution_count": 7,
   "metadata": {},
   "outputs": [],
   "source": [
    "for distance in all_distances:\n",
    "    D = graco.GCV_distance(GCV['A'], distance)\n",
    "    np.savetxt(f\"{MATRIX_DIRECTORY}/{feature}/{distance}_BioGRID.txt\", D, \n",
    "           fmt='%.7f', header=' '.join(PPI_nx), comments='')"
   ]
  },
  {
   "cell_type": "markdown",
   "metadata": {},
   "source": [
    "## GCV-G"
   ]
  },
  {
   "cell_type": "code",
   "execution_count": 8,
   "metadata": {},
   "outputs": [],
   "source": [
    "feature = 'GCV-G'\n",
    "feature_matrix = GCV.loc[:,['G']]\n",
    "\n",
    "if not os.path.exists(f\"{MATRIX_DIRECTORY}/{feature}\"):\n",
    "    os.makedirs(f\"{MATRIX_DIRECTORY}/{feature}/\")"
   ]
  },
  {
   "cell_type": "code",
   "execution_count": null,
   "metadata": {},
   "outputs": [],
   "source": [
    "for distance in {'canberra', 'cityblock'}:\n",
    "    D = graco.GCV_distance(feature_matrix, distance)\n",
    "    np.savetxt(f\"{MATRIX_DIRECTORY}/{feature}/{distance}_BioGRID.txt\", D, \n",
    "           fmt='%.7f', header=' '.join(PPI_nx), comments='')"
   ]
  },
  {
   "cell_type": "code",
   "execution_count": 9,
   "metadata": {},
   "outputs": [],
   "source": [
    "D = graco.GCV_distance(feature_matrix, 'hellinger')\n",
    "np.savetxt(f\"{MATRIX_DIRECTORY}/{feature}/hellinger_BioGRID.txt\", D, \n",
    "       fmt='%.7f', header=' '.join(PPI_nx), comments='')"
   ]
  },
  {
   "cell_type": "markdown",
   "metadata": {},
   "source": [
    "## GCV-Gsym"
   ]
  },
  {
   "cell_type": "code",
   "execution_count": 6,
   "metadata": {},
   "outputs": [],
   "source": [
    "feature = 'GCV-Gsym'\n",
    "feature_matrix = GCV.loc[:,['G']]\n",
    "del feature_matrix[('G','1-2')]\n",
    "del feature_matrix[('G','2-1')]\n",
    "\n",
    "if not os.path.exists(f\"{MATRIX_DIRECTORY}/{feature}\"):\n",
    "    os.makedirs(f\"{MATRIX_DIRECTORY}/{feature}/\")"
   ]
  },
  {
   "cell_type": "code",
   "execution_count": 7,
   "metadata": {},
   "outputs": [],
   "source": [
    "for distance in {'canberra', 'cityblock'}:\n",
    "    D = graco.GCV_distance(feature_matrix, distance)\n",
    "    np.savetxt(f\"{MATRIX_DIRECTORY}/{feature}/{distance}_BioGRID.txt\", D, \n",
    "           fmt='%.7f', header=' '.join(PPI_nx), comments='')"
   ]
  },
  {
   "cell_type": "code",
   "execution_count": 8,
   "metadata": {},
   "outputs": [],
   "source": [
    "D = graco.GCV_distance(feature_matrix, 'hellinger')\n",
    "np.savetxt(f\"{MATRIX_DIRECTORY}/{feature}/hellinger_BioGRID.txt\", D, \n",
    "       fmt='%.7f', header=' '.join(PPI_nx), comments='')"
   ]
  },
  {
   "cell_type": "markdown",
   "metadata": {},
   "source": [
    "## GCV-DA"
   ]
  },
  {
   "cell_type": "code",
   "execution_count": 13,
   "metadata": {},
   "outputs": [],
   "source": [
    "feature = 'GCV-DA'\n",
    "\n",
    "if not os.path.exists(f\"{MATRIX_DIRECTORY}/{feature}\"):\n",
    "    os.makedirs(f\"{MATRIX_DIRECTORY}/{feature}/\")"
   ]
  },
  {
   "cell_type": "code",
   "execution_count": 14,
   "metadata": {},
   "outputs": [
    {
     "name": "stderr",
     "output_type": "stream",
     "text": [
      "/home/clusterduck123/Desktop/git/supplements/venv/graco/lib/python3.6/site-packages/IPython/core/interactiveshell.py:2881: PerformanceWarning: indexing past lexsort depth may impact performance.\n",
      "  return runner(coro)\n"
     ]
    }
   ],
   "source": [
    "for distance in all_distances:\n",
    "    D = graco.GCV_distance(GCV[['D','A']], distance)\n",
    "    np.savetxt(f\"{MATRIX_DIRECTORY}/{feature}/{distance}_BioGRID.txt\", D, \n",
    "           fmt='%.7f', header=' '.join(PPI_nx), comments='')"
   ]
  },
  {
   "cell_type": "code",
   "execution_count": 15,
   "metadata": {},
   "outputs": [],
   "source": [
    "D = graco.GCV_distance(GCV[['D','A']], 'hellinger')\n",
    "np.savetxt(f\"{MATRIX_DIRECTORY}/{feature}/hellinger_BioGRID.txt\", D, \n",
    "       fmt='%.7f', header=' '.join(PPI_nx), comments='')"
   ]
  },
  {
   "cell_type": "markdown",
   "metadata": {},
   "source": [
    "## GCV-DG"
   ]
  },
  {
   "cell_type": "code",
   "execution_count": 16,
   "metadata": {},
   "outputs": [],
   "source": [
    "feature = 'GCV-DG'\n",
    "\n",
    "if not os.path.exists(f\"{MATRIX_DIRECTORY}/{feature}\"):\n",
    "    os.makedirs(f\"{MATRIX_DIRECTORY}/{feature}/\")"
   ]
  },
  {
   "cell_type": "code",
   "execution_count": 17,
   "metadata": {},
   "outputs": [],
   "source": [
    "for distance in all_distances:\n",
    "    D = graco.GCV_distance(feature_matrix, distance)\n",
    "    np.savetxt(f\"{MATRIX_DIRECTORY}/{feature}/{distance}_BioGRID.txt\", D, \n",
    "           fmt='%.7f', header=' '.join(PPI_nx), comments='')"
   ]
  },
  {
   "cell_type": "code",
   "execution_count": 18,
   "metadata": {},
   "outputs": [],
   "source": [
    "D = graco.GCV_distance(feature_matrix, 'hellinger')\n",
    "np.savetxt(f\"{MATRIX_DIRECTORY}/{feature}/hellinger_BioGRID.txt\", D, \n",
    "       fmt='%.7f', header=' '.join(PPI_nx), comments='')"
   ]
  },
  {
   "cell_type": "markdown",
   "metadata": {},
   "source": [
    "## GCV-DG-short"
   ]
  },
  {
   "cell_type": "code",
   "execution_count": 14,
   "metadata": {},
   "outputs": [],
   "source": [
    "feature = 'GCV-DC-short'\n",
    "feature_matrix = GCV.loc[:,['D','G']]\n",
    "del feature_matrix[('G','1-2')]\n",
    "del feature_matrix[('G','2-1')]\n",
    "\n",
    "if not os.path.exists(f\"{MATRIX_DIRECTORY}/{feature}\"):\n",
    "    os.makedirs(f\"{MATRIX_DIRECTORY}/{feature}/\")"
   ]
  },
  {
   "cell_type": "code",
   "execution_count": 15,
   "metadata": {},
   "outputs": [],
   "source": [
    "for distance in all_distances:\n",
    "    D = graco.GCV_distance(feature_matrix, distance)\n",
    "    np.savetxt(f\"{MATRIX_DIRECTORY}/{feature}/{distance}_BioGRID.txt\", D, \n",
    "           fmt='%.7f', header=' '.join(PPI_nx), comments='')"
   ]
  },
  {
   "cell_type": "code",
   "execution_count": 16,
   "metadata": {},
   "outputs": [],
   "source": [
    "D = graco.GCV_distance(feature_matrix, 'hellinger')\n",
    "np.savetxt(f\"{MATRIX_DIRECTORY}/{feature}/hellinger_BioGRID.txt\", D, \n",
    "       fmt='%.7f', header=' '.join(PPI_nx), comments='')"
   ]
  },
  {
   "cell_type": "markdown",
   "metadata": {},
   "source": [
    "## GCV-all"
   ]
  },
  {
   "cell_type": "code",
   "execution_count": 19,
   "metadata": {},
   "outputs": [],
   "source": [
    "feature = 'GCV-all'\n",
    "feature_matrix = GCV.loc[:,['D','A','G']]\n",
    "del feature_matrix[('G','0-0')]\n",
    "\n",
    "if not os.path.exists(f\"{MATRIX_DIRECTORY}/{feature}\"):\n",
    "    os.makedirs(f\"{MATRIX_DIRECTORY}/{feature}/\")"
   ]
  },
  {
   "cell_type": "code",
   "execution_count": 20,
   "metadata": {},
   "outputs": [],
   "source": [
    "for distance in all_distances:\n",
    "    D = graco.GCV_distance(feature_matrix, distance)\n",
    "    np.savetxt(f\"{MATRIX_DIRECTORY}/{feature}/{distance}_BioGRID.txt\", D, \n",
    "           fmt='%.7f', header=' '.join(PPI_nx), comments='')"
   ]
  },
  {
   "cell_type": "code",
   "execution_count": 21,
   "metadata": {},
   "outputs": [],
   "source": [
    "D = graco.GCV_distance(feature_matrix, 'hellinger')\n",
    "np.savetxt(f\"{MATRIX_DIRECTORY}/{feature}/hellinger_BioGRID.txt\", D, \n",
    "       fmt='%.7f', header=' '.join(PPI_nx), comments='')"
   ]
  },
  {
   "cell_type": "markdown",
   "metadata": {},
   "source": [
    "## GCV-nonredundant"
   ]
  },
  {
   "cell_type": "code",
   "execution_count": 5,
   "metadata": {},
   "outputs": [],
   "source": [
    "feature = 'GCV-nonredundant'\n",
    "feature_matrix = GCV.loc[:,['D','A','G']]\n",
    "del feature_matrix[('G','0-0')]\n",
    "del feature_matrix[('G','1-1')]\n",
    "del feature_matrix[('G','1-2')]\n",
    "del feature_matrix[('G','2-1')]\n",
    "\n",
    "if not os.path.exists(f\"{MATRIX_DIRECTORY}/{feature}\"):\n",
    "    os.makedirs(f\"{MATRIX_DIRECTORY}/{feature}/\")"
   ]
  },
  {
   "cell_type": "code",
   "execution_count": 23,
   "metadata": {},
   "outputs": [],
   "source": [
    "for distance in all_distances:\n",
    "    D = graco.GCV_distance(feature_matrix, distance)\n",
    "    np.savetxt(f\"{MATRIX_DIRECTORY}/{feature}/{distance}_BioGRID.txt\", D, \n",
    "           fmt='%.7f', header=' '.join(PPI_nx), comments='')"
   ]
  },
  {
   "cell_type": "code",
   "execution_count": 24,
   "metadata": {},
   "outputs": [],
   "source": [
    "D = graco.GCV_distance(feature_matrix, 'hellinger')\n",
    "np.savetxt(f\"{MATRIX_DIRECTORY}/{feature}/hellinger_BioGRID.txt\", D, \n",
    "       fmt='%.7f', header=' '.join(PPI_nx), comments='')"
   ]
  },
  {
   "cell_type": "markdown",
   "metadata": {},
   "source": [
    "## GCV-orca"
   ]
  },
  {
   "cell_type": "code",
   "execution_count": 7,
   "metadata": {},
   "outputs": [],
   "source": [
    "feature = 'GCV-orca'\n",
    "feature_matrix = GCV['O']\n",
    "\n",
    "if not os.path.exists(f\"{MATRIX_DIRECTORY}/{feature}\"):\n",
    "    os.makedirs(f\"{MATRIX_DIRECTORY}/{feature}/\")"
   ]
  },
  {
   "cell_type": "code",
   "execution_count": 8,
   "metadata": {},
   "outputs": [],
   "source": [
    "for distance in {'hellinger'}:\n",
    "    D = graco.GCV_distance(feature_matrix, distance)\n",
    "    np.savetxt(f\"{MATRIX_DIRECTORY}/{feature}/{distance}_BioGRID.txt\", D, \n",
    "           fmt='%.7f', header=' '.join(PPI_nx), comments='')"
   ]
  },
  {
   "cell_type": "markdown",
   "metadata": {},
   "source": [
    "## GCV-orca+"
   ]
  },
  {
   "cell_type": "code",
   "execution_count": 9,
   "metadata": {},
   "outputs": [],
   "source": [
    "feature = 'GCV-orca+'\n",
    "feature_matrix = GCV.loc[:,['O','A','D']]\n",
    "\n",
    "del feature_matrix[('A','1')]\n",
    "del feature_matrix[('A','2')]\n",
    "del feature_matrix[('A','3')]\n",
    "\n",
    "del feature_matrix[('D','1')]\n",
    "del feature_matrix[('D','2')]\n",
    "del feature_matrix[('D','3')]\n",
    "\n",
    "if not os.path.exists(f\"{MATRIX_DIRECTORY}/{feature}\"):\n",
    "    os.makedirs(f\"{MATRIX_DIRECTORY}/{feature}/\")"
   ]
  },
  {
   "cell_type": "code",
   "execution_count": 12,
   "metadata": {},
   "outputs": [],
   "source": [
    "for distance in {'hellinger'}:\n",
    "    D = graco.GCV_distance(feature_matrix, distance)\n",
    "    np.savetxt(f\"{MATRIX_DIRECTORY}/{feature}/{distance}_BioGRID.txt\", D, \n",
    "           fmt='%.7f', header=' '.join(PPI_nx), comments='')"
   ]
  },
  {
   "cell_type": "code",
   "execution_count": null,
   "metadata": {},
   "outputs": [],
   "source": []
  }
 ],
 "metadata": {
  "kernelspec": {
   "display_name": "graco",
   "language": "python",
   "name": "graco"
  },
  "language_info": {
   "codemirror_mode": {
    "name": "ipython",
    "version": 3
   },
   "file_extension": ".py",
   "mimetype": "text/x-python",
   "name": "python",
   "nbconvert_exporter": "python",
   "pygments_lexer": "ipython3",
   "version": "3.6.8"
  }
 },
 "nbformat": 4,
 "nbformat_minor": 2
}
