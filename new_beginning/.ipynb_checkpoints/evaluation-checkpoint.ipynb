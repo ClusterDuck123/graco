{
 "cells": [
  {
   "cell_type": "code",
   "execution_count": 1,
   "metadata": {},
   "outputs": [],
   "source": [
    "from itertools import product\n",
    "from collections import Counter, defaultdict\n",
    "\n",
    "import os\n",
    "import sys\n",
    "import graco\n",
    "import numpy as np\n",
    "import pandas as pd\n",
    "import networkx as nx"
   ]
  },
  {
   "cell_type": "code",
   "execution_count": 81,
   "metadata": {},
   "outputs": [],
   "source": [
    "class InputParameters():\n",
    "    RUN   = sys.argv[1]\n",
    "    RANGE = 10\n",
    "\n",
    "    ALPHA = 0.05\n",
    "    MIN_GO = 5\n",
    "    MAX_GO = 500\n",
    "    MIN_LVL = 0\n",
    "    MAX_LVL = np.inf\n",
    "    CORRECTION = 'BY'\n",
    "\n",
    "    def __init__(self, network_name, feature, metric, method, aspect):\n",
    "        self.network_name = network_name\n",
    "        self.feature = feature\n",
    "        self.metric  = metric\n",
    "        self.method  = method\n",
    "        self.aspect  = aspect\n",
    "\n",
    "class Paths():\n",
    "    DATA_DIRECTORY = \"/Users/markusyoussef/Desktop/git/supplements/data\"\n",
    "    RAW_DATA_DIRECTORY = f\"{DATA_DIRECTORY}/raw_data\"\n",
    "    YEAST_DIRECTORY = f\"{DATA_DIRECTORY}/processed_data/yeast\"\n",
    "    NETWORK_DIRECTORY = f\"{YEAST_DIRECTORY}/networks\"\n",
    "    ANNOTATION_DIRECTORY = f\"{YEAST_DIRECTORY}/annotations\"\n",
    "\n",
    "    def __init__(self, in_parms):\n",
    "        self.NETWORK_FILE    = f\"{self.NETWORK_DIRECTORY}/{in_parms.network_name}.txt\"\n",
    "        self.ANNOTATION_FILE = f\"{self.ANNOTATION_DIRECTORY}/GO_{in_parms.aspect}_systematic_SGD.csv\"\n",
    "\n",
    "        network_to_method = f\"{in_parms.network_name}/{in_parms.feature}/{in_parms.metric}/{in_parms.method}\"\n",
    "        self.CLUSTER_DIRECTORY    = f\"{self.YEAST_DIRECTORY}/clusterings/\"   \\\n",
    "                                    f\"{network_to_method}\"\n",
    "        self.PVALUE_DIRECTORY     = f\"{self.YEAST_DIRECTORY}/pvalues/\"       \\\n",
    "                                    f\"{network_to_method}/{in_parms.aspect}\"\n",
    "        self.ENRICHMENT_DIRECTORY = f\"{self.YEAST_DIRECTORY}/enrichments/\"   \\\n",
    "                                    f\"{network_to_method}/{in_parms.aspect}/{in_parms.CORRECTION}\"\n",
    "\n",
    "        if not os.path.exists(self.ENRICHMENT_DIRECTORY):\n",
    "            os.makedirs(self.ENRICHMENT_DIRECTORY)"
   ]
  },
  {
   "cell_type": "code",
   "execution_count": 82,
   "metadata": {},
   "outputs": [],
   "source": [
    "# =============================================================================\n",
    "#  ----------------------------------- INIT -----------------------------------\n",
    "# =============================================================================\n",
    "\n",
    "network_names = ['systematic_PPI_BioGRID', 'GI_Constanzo2016',\n",
    "                 'systematic_CoEx_COEXPRESdb']\n",
    "features = ['GCV-G']\n",
    "metrics  = [#'mahalanobis', 'seuclidean', 'GDV_similarity',\n",
    "            'cityblock', 'euclidean', 'chebyshev', 'canberra', 'cosine',\n",
    "            'correlation', 'braycurtis', 'sqeuclidean', #'hellinger'\n",
    "]\n",
    "methods  = ['kmedoid']\n",
    "aspects  = ['BP', 'MF', 'CC']"
   ]
  },
  {
   "cell_type": "code",
   "execution_count": 83,
   "metadata": {},
   "outputs": [],
   "source": [
    "GDV_dfs = {}\n",
    "for aspect in aspects:\n",
    "    GDV_dfs[aspect] = pd.DataFrame()\n",
    "\n",
    "loop_product = product(network_names, features, metrics, methods, aspects)\n",
    "for network_name, feature, metric, method, aspect in loop_product:\n",
    "    in_parms = InputParameters(network_name, feature, metric, method, aspect)\n",
    "    ENRICHMENT_DIRECTORY = Paths(in_parms).ENRICHMENT_DIRECTORY\n",
    "    AUCs = [np.mean(np.loadtxt(f\"{ENRICHMENT_DIRECTORY}/{file}\"))\n",
    "         for file in os.listdir(ENRICHMENT_DIRECTORY) if file.endswith('genes.csv')]\n",
    "    GDV_dfs[aspect].loc[metric,network_name] = np.mean(AUCs) \n",
    "    \n",
    "    assert len(os.listdir(ENRICHMENT_DIRECTORY))/3 == 10, len(os.listdir(ENRICHMENT_DIRECTORY))/3"
   ]
  },
  {
   "cell_type": "code",
   "execution_count": 84,
   "metadata": {},
   "outputs": [
    {
     "data": {
      "text/html": [
       "<div>\n",
       "<style scoped>\n",
       "    .dataframe tbody tr th:only-of-type {\n",
       "        vertical-align: middle;\n",
       "    }\n",
       "\n",
       "    .dataframe tbody tr th {\n",
       "        vertical-align: top;\n",
       "    }\n",
       "\n",
       "    .dataframe thead tr th {\n",
       "        text-align: left;\n",
       "    }\n",
       "</style>\n",
       "<table border=\"1\" class=\"dataframe\">\n",
       "  <thead>\n",
       "    <tr>\n",
       "      <th></th>\n",
       "      <th colspan=\"2\" halign=\"left\">BP</th>\n",
       "      <th colspan=\"2\" halign=\"left\">MF</th>\n",
       "      <th colspan=\"2\" halign=\"left\">CC</th>\n",
       "    </tr>\n",
       "    <tr>\n",
       "      <th></th>\n",
       "      <th>metric</th>\n",
       "      <th>enrichment</th>\n",
       "      <th>metric</th>\n",
       "      <th>enrichment</th>\n",
       "      <th>metric</th>\n",
       "      <th>enrichment</th>\n",
       "    </tr>\n",
       "  </thead>\n",
       "  <tbody>\n",
       "    <tr>\n",
       "      <th>0</th>\n",
       "      <td>braycurtis</td>\n",
       "      <td>0.293133</td>\n",
       "      <td>braycurtis</td>\n",
       "      <td>0.197501</td>\n",
       "      <td>braycurtis</td>\n",
       "      <td>0.250916</td>\n",
       "    </tr>\n",
       "    <tr>\n",
       "      <th>1</th>\n",
       "      <td>euclidean</td>\n",
       "      <td>0.270524</td>\n",
       "      <td>cosine</td>\n",
       "      <td>0.174534</td>\n",
       "      <td>euclidean</td>\n",
       "      <td>0.226589</td>\n",
       "    </tr>\n",
       "    <tr>\n",
       "      <th>2</th>\n",
       "      <td>cosine</td>\n",
       "      <td>0.265086</td>\n",
       "      <td>euclidean</td>\n",
       "      <td>0.173690</td>\n",
       "      <td>cosine</td>\n",
       "      <td>0.224040</td>\n",
       "    </tr>\n",
       "    <tr>\n",
       "      <th>3</th>\n",
       "      <td>cityblock</td>\n",
       "      <td>0.264286</td>\n",
       "      <td>cityblock</td>\n",
       "      <td>0.166936</td>\n",
       "      <td>cityblock</td>\n",
       "      <td>0.223446</td>\n",
       "    </tr>\n",
       "    <tr>\n",
       "      <th>4</th>\n",
       "      <td>sqeuclidean</td>\n",
       "      <td>0.255733</td>\n",
       "      <td>sqeuclidean</td>\n",
       "      <td>0.156956</td>\n",
       "      <td>sqeuclidean</td>\n",
       "      <td>0.210565</td>\n",
       "    </tr>\n",
       "    <tr>\n",
       "      <th>5</th>\n",
       "      <td>canberra</td>\n",
       "      <td>0.228921</td>\n",
       "      <td>correlation</td>\n",
       "      <td>0.126992</td>\n",
       "      <td>canberra</td>\n",
       "      <td>0.201235</td>\n",
       "    </tr>\n",
       "    <tr>\n",
       "      <th>6</th>\n",
       "      <td>correlation</td>\n",
       "      <td>0.216898</td>\n",
       "      <td>canberra</td>\n",
       "      <td>0.122892</td>\n",
       "      <td>correlation</td>\n",
       "      <td>0.173171</td>\n",
       "    </tr>\n",
       "    <tr>\n",
       "      <th>7</th>\n",
       "      <td>chebyshev</td>\n",
       "      <td>0.164284</td>\n",
       "      <td>chebyshev</td>\n",
       "      <td>0.067308</td>\n",
       "      <td>chebyshev</td>\n",
       "      <td>0.133064</td>\n",
       "    </tr>\n",
       "  </tbody>\n",
       "</table>\n",
       "</div>"
      ],
      "text/plain": [
       "            BP                      MF                      CC           \n",
       "        metric enrichment       metric enrichment       metric enrichment\n",
       "0   braycurtis   0.293133   braycurtis   0.197501   braycurtis   0.250916\n",
       "1    euclidean   0.270524       cosine   0.174534    euclidean   0.226589\n",
       "2       cosine   0.265086    euclidean   0.173690       cosine   0.224040\n",
       "3    cityblock   0.264286    cityblock   0.166936    cityblock   0.223446\n",
       "4  sqeuclidean   0.255733  sqeuclidean   0.156956  sqeuclidean   0.210565\n",
       "5     canberra   0.228921  correlation   0.126992     canberra   0.201235\n",
       "6  correlation   0.216898     canberra   0.122892  correlation   0.173171\n",
       "7    chebyshev   0.164284    chebyshev   0.067308    chebyshev   0.133064"
      ]
     },
     "execution_count": 84,
     "metadata": {},
     "output_type": "execute_result"
    }
   ],
   "source": [
    "network = 'systematic_PPI_BioGRID'\n",
    "df = pd.concat([GDV_dfs[aspect].nlargest(10, network)[[network]].reset_index() for aspect in aspects], axis=1)\n",
    "df.columns = pd.MultiIndex.from_product([aspects, ('metric','enrichment')])\n",
    "df"
   ]
  },
  {
   "cell_type": "code",
   "execution_count": 85,
   "metadata": {
    "scrolled": true
   },
   "outputs": [
    {
     "data": {
      "text/html": [
       "<div>\n",
       "<style scoped>\n",
       "    .dataframe tbody tr th:only-of-type {\n",
       "        vertical-align: middle;\n",
       "    }\n",
       "\n",
       "    .dataframe tbody tr th {\n",
       "        vertical-align: top;\n",
       "    }\n",
       "\n",
       "    .dataframe thead tr th {\n",
       "        text-align: left;\n",
       "    }\n",
       "</style>\n",
       "<table border=\"1\" class=\"dataframe\">\n",
       "  <thead>\n",
       "    <tr>\n",
       "      <th></th>\n",
       "      <th colspan=\"2\" halign=\"left\">BP</th>\n",
       "      <th colspan=\"2\" halign=\"left\">MF</th>\n",
       "      <th colspan=\"2\" halign=\"left\">CC</th>\n",
       "    </tr>\n",
       "    <tr>\n",
       "      <th></th>\n",
       "      <th>metric</th>\n",
       "      <th>enrichment</th>\n",
       "      <th>metric</th>\n",
       "      <th>enrichment</th>\n",
       "      <th>metric</th>\n",
       "      <th>enrichment</th>\n",
       "    </tr>\n",
       "  </thead>\n",
       "  <tbody>\n",
       "    <tr>\n",
       "      <th>0</th>\n",
       "      <td>chebyshev</td>\n",
       "      <td>0.167651</td>\n",
       "      <td>canberra</td>\n",
       "      <td>0.084266</td>\n",
       "      <td>chebyshev</td>\n",
       "      <td>0.162841</td>\n",
       "    </tr>\n",
       "    <tr>\n",
       "      <th>1</th>\n",
       "      <td>cosine</td>\n",
       "      <td>0.166468</td>\n",
       "      <td>chebyshev</td>\n",
       "      <td>0.083848</td>\n",
       "      <td>correlation</td>\n",
       "      <td>0.162415</td>\n",
       "    </tr>\n",
       "    <tr>\n",
       "      <th>2</th>\n",
       "      <td>correlation</td>\n",
       "      <td>0.164879</td>\n",
       "      <td>sqeuclidean</td>\n",
       "      <td>0.081688</td>\n",
       "      <td>cosine</td>\n",
       "      <td>0.162248</td>\n",
       "    </tr>\n",
       "    <tr>\n",
       "      <th>3</th>\n",
       "      <td>sqeuclidean</td>\n",
       "      <td>0.162433</td>\n",
       "      <td>cityblock</td>\n",
       "      <td>0.080718</td>\n",
       "      <td>sqeuclidean</td>\n",
       "      <td>0.158584</td>\n",
       "    </tr>\n",
       "    <tr>\n",
       "      <th>4</th>\n",
       "      <td>euclidean</td>\n",
       "      <td>0.161602</td>\n",
       "      <td>euclidean</td>\n",
       "      <td>0.080389</td>\n",
       "      <td>canberra</td>\n",
       "      <td>0.157542</td>\n",
       "    </tr>\n",
       "    <tr>\n",
       "      <th>5</th>\n",
       "      <td>canberra</td>\n",
       "      <td>0.161580</td>\n",
       "      <td>braycurtis</td>\n",
       "      <td>0.079996</td>\n",
       "      <td>euclidean</td>\n",
       "      <td>0.156907</td>\n",
       "    </tr>\n",
       "    <tr>\n",
       "      <th>6</th>\n",
       "      <td>cityblock</td>\n",
       "      <td>0.156746</td>\n",
       "      <td>cosine</td>\n",
       "      <td>0.079586</td>\n",
       "      <td>braycurtis</td>\n",
       "      <td>0.154524</td>\n",
       "    </tr>\n",
       "    <tr>\n",
       "      <th>7</th>\n",
       "      <td>braycurtis</td>\n",
       "      <td>0.156105</td>\n",
       "      <td>correlation</td>\n",
       "      <td>0.075425</td>\n",
       "      <td>cityblock</td>\n",
       "      <td>0.154169</td>\n",
       "    </tr>\n",
       "  </tbody>\n",
       "</table>\n",
       "</div>"
      ],
      "text/plain": [
       "            BP                      MF                      CC           \n",
       "        metric enrichment       metric enrichment       metric enrichment\n",
       "0    chebyshev   0.167651     canberra   0.084266    chebyshev   0.162841\n",
       "1       cosine   0.166468    chebyshev   0.083848  correlation   0.162415\n",
       "2  correlation   0.164879  sqeuclidean   0.081688       cosine   0.162248\n",
       "3  sqeuclidean   0.162433    cityblock   0.080718  sqeuclidean   0.158584\n",
       "4    euclidean   0.161602    euclidean   0.080389     canberra   0.157542\n",
       "5     canberra   0.161580   braycurtis   0.079996    euclidean   0.156907\n",
       "6    cityblock   0.156746       cosine   0.079586   braycurtis   0.154524\n",
       "7   braycurtis   0.156105  correlation   0.075425    cityblock   0.154169"
      ]
     },
     "execution_count": 85,
     "metadata": {},
     "output_type": "execute_result"
    }
   ],
   "source": [
    "network = 'systematic_CoEx_COEXPRESdb'\n",
    "df = pd.concat([GDV_dfs[aspect].nlargest(10, network)[[network]].reset_index() for aspect in aspects], axis=1)\n",
    "df.columns = pd.MultiIndex.from_product([aspects, ('metric','enrichment')])\n",
    "df"
   ]
  },
  {
   "cell_type": "code",
   "execution_count": 86,
   "metadata": {},
   "outputs": [
    {
     "data": {
      "text/html": [
       "<div>\n",
       "<style scoped>\n",
       "    .dataframe tbody tr th:only-of-type {\n",
       "        vertical-align: middle;\n",
       "    }\n",
       "\n",
       "    .dataframe tbody tr th {\n",
       "        vertical-align: top;\n",
       "    }\n",
       "\n",
       "    .dataframe thead tr th {\n",
       "        text-align: left;\n",
       "    }\n",
       "</style>\n",
       "<table border=\"1\" class=\"dataframe\">\n",
       "  <thead>\n",
       "    <tr>\n",
       "      <th></th>\n",
       "      <th colspan=\"2\" halign=\"left\">BP</th>\n",
       "      <th colspan=\"2\" halign=\"left\">MF</th>\n",
       "      <th colspan=\"2\" halign=\"left\">CC</th>\n",
       "    </tr>\n",
       "    <tr>\n",
       "      <th></th>\n",
       "      <th>metric</th>\n",
       "      <th>enrichment</th>\n",
       "      <th>metric</th>\n",
       "      <th>enrichment</th>\n",
       "      <th>metric</th>\n",
       "      <th>enrichment</th>\n",
       "    </tr>\n",
       "  </thead>\n",
       "  <tbody>\n",
       "    <tr>\n",
       "      <th>0</th>\n",
       "      <td>braycurtis</td>\n",
       "      <td>0.999995</td>\n",
       "      <td>sqeuclidean</td>\n",
       "      <td>0.999929</td>\n",
       "      <td>cosine</td>\n",
       "      <td>0.999836</td>\n",
       "    </tr>\n",
       "    <tr>\n",
       "      <th>1</th>\n",
       "      <td>euclidean</td>\n",
       "      <td>0.999993</td>\n",
       "      <td>cityblock</td>\n",
       "      <td>0.999922</td>\n",
       "      <td>euclidean</td>\n",
       "      <td>0.999800</td>\n",
       "    </tr>\n",
       "    <tr>\n",
       "      <th>2</th>\n",
       "      <td>correlation</td>\n",
       "      <td>0.999990</td>\n",
       "      <td>cosine</td>\n",
       "      <td>0.999886</td>\n",
       "      <td>cityblock</td>\n",
       "      <td>0.999531</td>\n",
       "    </tr>\n",
       "    <tr>\n",
       "      <th>3</th>\n",
       "      <td>sqeuclidean</td>\n",
       "      <td>0.999979</td>\n",
       "      <td>euclidean</td>\n",
       "      <td>0.999880</td>\n",
       "      <td>correlation</td>\n",
       "      <td>0.999451</td>\n",
       "    </tr>\n",
       "    <tr>\n",
       "      <th>4</th>\n",
       "      <td>cosine</td>\n",
       "      <td>0.999977</td>\n",
       "      <td>braycurtis</td>\n",
       "      <td>0.999858</td>\n",
       "      <td>sqeuclidean</td>\n",
       "      <td>0.999446</td>\n",
       "    </tr>\n",
       "    <tr>\n",
       "      <th>5</th>\n",
       "      <td>cityblock</td>\n",
       "      <td>0.999975</td>\n",
       "      <td>correlation</td>\n",
       "      <td>0.999853</td>\n",
       "      <td>braycurtis</td>\n",
       "      <td>0.999228</td>\n",
       "    </tr>\n",
       "    <tr>\n",
       "      <th>6</th>\n",
       "      <td>chebyshev</td>\n",
       "      <td>0.075406</td>\n",
       "      <td>canberra</td>\n",
       "      <td>0.304297</td>\n",
       "      <td>chebyshev</td>\n",
       "      <td>0.066853</td>\n",
       "    </tr>\n",
       "    <tr>\n",
       "      <th>7</th>\n",
       "      <td>canberra</td>\n",
       "      <td>0.064260</td>\n",
       "      <td>chebyshev</td>\n",
       "      <td>0.265509</td>\n",
       "      <td>canberra</td>\n",
       "      <td>0.060728</td>\n",
       "    </tr>\n",
       "  </tbody>\n",
       "</table>\n",
       "</div>"
      ],
      "text/plain": [
       "            BP                      MF                      CC           \n",
       "        metric enrichment       metric enrichment       metric enrichment\n",
       "0   braycurtis   0.999995  sqeuclidean   0.999929       cosine   0.999836\n",
       "1    euclidean   0.999993    cityblock   0.999922    euclidean   0.999800\n",
       "2  correlation   0.999990       cosine   0.999886    cityblock   0.999531\n",
       "3  sqeuclidean   0.999979    euclidean   0.999880  correlation   0.999451\n",
       "4       cosine   0.999977   braycurtis   0.999858  sqeuclidean   0.999446\n",
       "5    cityblock   0.999975  correlation   0.999853   braycurtis   0.999228\n",
       "6    chebyshev   0.075406     canberra   0.304297    chebyshev   0.066853\n",
       "7     canberra   0.064260    chebyshev   0.265509     canberra   0.060728"
      ]
     },
     "execution_count": 86,
     "metadata": {},
     "output_type": "execute_result"
    }
   ],
   "source": [
    "network = 'GI_Constanzo2016'\n",
    "df = pd.concat([GDV_dfs[aspect].nlargest(10, network)[[network]].reset_index() for aspect in aspects], axis=1)\n",
    "df.columns = pd.MultiIndex.from_product([aspects, ('metric','enrichment')])\n",
    "df"
   ]
  },
  {
   "cell_type": "markdown",
   "metadata": {},
   "source": [
    "---"
   ]
  },
  {
   "cell_type": "code",
   "execution_count": 4,
   "metadata": {},
   "outputs": [
    {
     "ename": "FileNotFoundError",
     "evalue": "[Errno 2] No such file or directory: '/media/clusterduck123/joe/new_MareNostrum/enrichments/systematic_PPI_BioGRID/GDV/mahalanobis/kmedoid/BP/BY'",
     "output_type": "error",
     "traceback": [
      "\u001b[0;31m---------------------------------------------------------------------------\u001b[0m",
      "\u001b[0;31mFileNotFoundError\u001b[0m                         Traceback (most recent call last)",
      "\u001b[0;32m<ipython-input-4-c5d40debe085>\u001b[0m in \u001b[0;36m<module>\u001b[0;34m\u001b[0m\n\u001b[1;32m     31\u001b[0m         df.loc[feature,metric] = np.mean(\n\u001b[1;32m     32\u001b[0m             [np.mean(np.loadtxt(f\"{ENRICHMENT_DIRECTORY}/{file}\")) \n\u001b[0;32m---> 33\u001b[0;31m                 for file in os.listdir(ENRICHMENT_DIRECTORY) if file.endswith('GO-terms.csv')])\n\u001b[0m\u001b[1;32m     34\u001b[0m \u001b[0;34m\u001b[0m\u001b[0m\n\u001b[1;32m     35\u001b[0m     \u001b[0menrichments\u001b[0m\u001b[0;34m[\u001b[0m\u001b[0mnetwork\u001b[0m\u001b[0;34m]\u001b[0m\u001b[0;34m[\u001b[0m\u001b[0maspect\u001b[0m\u001b[0;34m]\u001b[0m \u001b[0;34m=\u001b[0m \u001b[0mdf\u001b[0m\u001b[0;34m.\u001b[0m\u001b[0mcopy\u001b[0m\u001b[0;34m(\u001b[0m\u001b[0;34m)\u001b[0m\u001b[0;34m\u001b[0m\u001b[0;34m\u001b[0m\u001b[0m\n",
      "\u001b[0;31mFileNotFoundError\u001b[0m: [Errno 2] No such file or directory: '/media/clusterduck123/joe/new_MareNostrum/enrichments/systematic_PPI_BioGRID/GDV/mahalanobis/kmedoid/BP/BY'"
     ]
    }
   ],
   "source": [
    "feature_counter = Counter()\n",
    "counter = Counter()\n",
    "\n",
    "enrichments = defaultdict(dict)\n",
    "\n",
    "for network, aspect in product(networks, aspects):\n",
    "    df = pd.DataFrame()\n",
    "    features = {'GDV', \n",
    "                #'GCV-DG-sym',\n",
    "#                 'GCV-G', 'GCV-A', 'GCV-3', 'GCV-G-sym', 'GCV-O', 'GCV-O+', \n",
    "#                 'GCV-DAG', 'GCV-DA', 'GCV-DG'\n",
    "               }\n",
    "    metrics  = {'mahalanobis'\n",
    "        #'cityblock', 'hellinger',\n",
    "#                 'seuclidean', 'sqeuclidean', 'GDV_similarity'\n",
    "#                 'euclidean', 'chebyshev', 'sqeuclidean', 'canberra', \n",
    "#                 'cosine', 'correlation', 'braycurtis', \n",
    "               }\n",
    "\n",
    "    for feature, metric in  product(features, metrics):\n",
    "        if not feature == 'GDV' and metric in {'GDV_similarity', 'mahalanobis', 'seuclidean'}:\n",
    "            continue\n",
    "        ENRICHMENT_DIRECTORY = f\"/media/clusterduck123/joe/new_MareNostrum/enrichments/\" \\\n",
    "                        f\"{network}/{feature}/{metric}/{method}/{aspect}/{correction}\"\n",
    "\n",
    "        df.loc[feature,metric] = np.mean(\n",
    "            [np.mean(np.loadtxt(f\"{ENRICHMENT_DIRECTORY}/{file}\")) \n",
    "                for file in os.listdir(ENRICHMENT_DIRECTORY) if file.endswith('GO-terms.csv')])\n",
    "    \n",
    "    enrichments[network][aspect] = df.copy()\n",
    "    \n",
    "    break\n",
    "        \n",
    "    for i in range(5):\n",
    "        arr = np.nan_to_num(df.values)\n",
    "        idx, col = np.unravel_index(arr.argmax(), arr.shape)\n",
    "        counter.update([(df.index[idx], df.columns[col])])\n",
    "        df.iloc[idx, col] = 0\n",
    "        \n",
    "        feature_counter.update([df.index[idx]])"
   ]
  },
  {
   "cell_type": "code",
   "execution_count": 20,
   "metadata": {},
   "outputs": [],
   "source": [
    "G = nx.read_edgelist(\"/Users/markusyoussef/Desktop/git/supplements/data/processed_data/yeast/networks/GI_Constanzo2016.txt\")"
   ]
  },
  {
   "cell_type": "code",
   "execution_count": 24,
   "metadata": {},
   "outputs": [],
   "source": [
    "genesets = list(nx.connected_components(G))"
   ]
  },
  {
   "cell_type": "code",
   "execution_count": 35,
   "metadata": {},
   "outputs": [
    {
     "data": {
      "text/plain": [
       "4628"
      ]
     },
     "execution_count": 35,
     "metadata": {},
     "output_type": "execute_result"
    }
   ],
   "source": [
    "len(genesets[0])"
   ]
  },
  {
   "cell_type": "code",
   "execution_count": 29,
   "metadata": {},
   "outputs": [
    {
     "name": "stdout",
     "output_type": "stream",
     "text": [
      "{'YKR099W', 'YDL106C', 'YPR033C'}\n",
      "\n",
      "{'YJL058C', 'YKL033W-A', 'YKL147C'}\n",
      "\n",
      "{'YOR061W', 'YDR029W', 'YGL019W', 'YOR039W'}\n",
      "\n",
      "{'YER096W', 'YDR401W', 'YDR402C'}\n",
      "\n",
      "{'YOL073C', 'YOR223W', 'YOR222W'}\n",
      "\n",
      "{'YOL042W', 'YDR317W', 'YHR182W', 'YER039C-A', 'YNL125C'}\n",
      "\n",
      "{'YMR016C', 'YOR140W', 'YOR139C', 'YKL166C'}\n",
      "\n",
      "{'YAR044W', 'YAR042W', 'YAR043C'}\n",
      "\n"
     ]
    }
   ],
   "source": [
    "for geneset in genesets:\n",
    "    if len(geneset) > 10:\n",
    "        continue\n",
    "    print(geneset)\n",
    "    print()"
   ]
  },
  {
   "cell_type": "code",
   "execution_count": 31,
   "metadata": {},
   "outputs": [],
   "source": [
    "GCV = graco.coefficients(G)"
   ]
  },
  {
   "cell_type": "code",
   "execution_count": 44,
   "metadata": {},
   "outputs": [
    {
     "data": {
      "image/png": "[encoded data removed]",
      "text/plain": [
       "<Figure size 432x288 with 1 Axes>"
      ]
     },
     "metadata": {},
     "output_type": "display_data"
    }
   ],
   "source": [
    "nx.draw(nx.induced_subgraph(G,genesets[3]), with_labels=True)"
   ]
  },
  {
   "cell_type": "code",
   "execution_count": 43,
   "metadata": {},
   "outputs": [
    {
     "data": {
      "text/plain": [
       "Group  Equation  Orbit\n",
       "A      0         1        1.0\n",
       "                 3        0.0\n",
       "       3         12       0.0\n",
       "                 14       0.0\n",
       "                 9        1.0\n",
       "G      0-0       1        1.0\n",
       "                 3        0.0\n",
       "       1-1       12       0.0\n",
       "                 4        0.0\n",
       "                 8        0.0\n",
       "                 9        1.0\n",
       "       1-2       10       0.0\n",
       "                 12       0.0\n",
       "                 6        0.0\n",
       "                 9        1.0\n",
       "O      G1-c      6        0.0\n",
       "                 9        1.0\n",
       "       G1-d      12       0.0\n",
       "                 9        1.0\n",
       "Name: YDR029W, dtype: float64"
      ]
     },
     "execution_count": 43,
     "metadata": {},
     "output_type": "execute_result"
    }
   ],
   "source": [
    "GCV.loc['YDR029W'].dropna()"
   ]
  },
  {
   "cell_type": "markdown",
   "metadata": {},
   "source": [
    "## Big finder"
   ]
  },
  {
   "cell_type": "code",
   "execution_count": 63,
   "metadata": {},
   "outputs": [],
   "source": [
    "def filter_GOterms(annotation_df, all_genes):\n",
    "    def lvl_filter(min_lvl = InputParameters.MIN_LVL,\n",
    "                   max_lvl = InputParameters.MAX_LVL):\n",
    "        return annotation_df.Level.between(min_lvl, max_lvl)\n",
    "    def GO_filter(geneset,\n",
    "                  min_GO = InputParameters.MIN_GO,\n",
    "                  max_GO = InputParameters.MAX_GO):\n",
    "        return min_GO <= len(geneset) <= max_GO\n",
    "\n",
    "    annotation_df = annotation_df[annotation_df.Systematic_ID.isin(all_genes)]\n",
    "    annotation_df = annotation_df[lvl_filter()]\n",
    "    annotation_df = annotation_df.groupby('GO_ID').filter(GO_filter)\n",
    "\n",
    "    return annotation_df"
   ]
  },
  {
   "cell_type": "code",
   "execution_count": 64,
   "metadata": {},
   "outputs": [],
   "source": [
    "network_nx = nx.read_edgelist(Paths(in_parms).NETWORK_FILE)\n",
    "annotation_df = pd.read_csv(Paths(in_parms).ANNOTATION_FILE)\n",
    "annotation_df = filter_GOterms(annotation_df, network_nx.nodes)\n",
    "\n",
    "annotated_genes = set(annotation_df.Systematic_ID)\n",
    "filtered_GOset  = set(annotation_df.GO_ID)\n",
    "\n",
    "gene2GOset = {gene : set(go_ids.GO_ID)        for gene, go_ids in annotation_df.groupby('Systematic_ID')}\n",
    "GO2geneset = {go_id: set(genes.Systematic_ID) for go_id, genes in annotation_df.groupby('GO_ID')}\n",
    "\n",
    "GO2geneset_s = pd.Series(GO2geneset).sort_values()"
   ]
  },
  {
   "cell_type": "code",
   "execution_count": 65,
   "metadata": {},
   "outputs": [],
   "source": [
    "in_parms = InputParameters('GI_Constanzo2016', 'GCV-O+', 'chebyshev', 'kmedoid', 'BP')\n",
    "paths = Paths(in_parms)"
   ]
  },
  {
   "cell_type": "code",
   "execution_count": 66,
   "metadata": {},
   "outputs": [],
   "source": [
    "pvalues = pd.read_csv(f\"{paths.PVALUE_DIRECTORY}/0_38.txt\", index_col=0)\n",
    "pvalues.columns = map(int, pvalues.columns)"
   ]
  },
  {
   "cell_type": "markdown",
   "metadata": {},
   "source": [
    "# Testing"
   ]
  },
  {
   "cell_type": "code",
   "execution_count": 45,
   "metadata": {},
   "outputs": [],
   "source": [
    "# =============================================================================\n",
    "#  ----------------------------------- INIT -----------------------------------\n",
    "# =============================================================================\n",
    "\n",
    "network_names = 'GI_Constanzo2016'\n",
    "features = ['GDV']\n",
    "metrics  = [\n",
    "            'cityblock', 'euclidean', 'chebyshev', 'canberra', 'cosine',\n",
    "            'correlation', 'braycurtis', 'sqeuclidean']\n",
    "methods  = ['kmedoid']\n",
    "aspects  = ['BP', 'MF', 'CC']"
   ]
  },
  {
   "cell_type": "code",
   "execution_count": null,
   "metadata": {},
   "outputs": [],
   "source": [
    "Path"
   ]
  }
 ],
 "metadata": {
  "kernelspec": {
   "display_name": "graco",
   "language": "python",
   "name": "graco"
  },
  "language_info": {
   "codemirror_mode": {
    "name": "ipython",
    "version": 3
   },
   "file_extension": ".py",
   "mimetype": "text/x-python",
   "name": "python",
   "nbconvert_exporter": "python",
   "pygments_lexer": "ipython3",
   "version": "3.7.4"
  }
 },
 "nbformat": 4,
 "nbformat_minor": 2
}
