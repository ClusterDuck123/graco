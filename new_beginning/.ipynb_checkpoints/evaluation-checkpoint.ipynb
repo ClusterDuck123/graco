{
 "cells": [
  {
   "cell_type": "code",
   "execution_count": 1,
   "metadata": {},
   "outputs": [],
   "source": [
    "from itertools import product\n",
    "from collections import Counter, defaultdict\n",
    "\n",
    "import os\n",
    "import sys\n",
    "import numpy as np\n",
    "import pandas as pd"
   ]
  },
  {
   "cell_type": "code",
   "execution_count": 5,
   "metadata": {},
   "outputs": [],
   "source": [
    "# =============================================================================\n",
    "#  --------------------- INPUT PARAMETER AND PATH CLASSES ---------------------\n",
    "# =============================================================================\n",
    "\n",
    "class InputParameters():\n",
    "    RUN   = 0  #sys.argv[1]\n",
    "    RANGE = 10\n",
    "    CORRECTION = 'BY'\n",
    "    \n",
    "    def __init__(self, network_name, feature, metric, method, aspect):\n",
    "        self.network_name = network_name\n",
    "        self.feature = feature\n",
    "        self.metric  = metric\n",
    "        self.method  = method\n",
    "        self.aspect  = aspect\n",
    "            \n",
    "class Paths():\n",
    "    DATA_DIRECTORY = \"/Users/markusyoussef/Desktop/git/supplements/data\"\n",
    "    RAW_DATA_DIRECTORY = f\"{DATA_DIRECTORY}/raw_data\"\n",
    "    YEAST_DIRECTORY = f\"{DATA_DIRECTORY}/processed_data/yeast\"\n",
    "    NETWORK_DIRECTORY = f\"{YEAST_DIRECTORY}/networks\"\n",
    "    ANNOTATION_DIRECTORY = f\"{YEAST_DIRECTORY}/annotations\"\n",
    "    \n",
    "    def __init__(self, in_parms):\n",
    "        self.NETWORK_FILE    = f\"{self.NETWORK_DIRECTORY}/{in_parms.network_name}.txt\"\n",
    "        self.ANNOTATION_FILE = f\"{self.ANNOTATION_DIRECTORY}/GO_{in_parms.aspect}_systematic_SGD.csv\"\n",
    "        self.ENRICHMENT_DIRECTORY = f\"{self.YEAST_DIRECTORY}/enrichments/\"   \\\n",
    "                                    f\"{network_to_method}/{in_parms.aspect}/{in_parms.CORRECTION}\"\n",
    "        "
   ]
  },
  {
   "cell_type": "code",
   "execution_count": null,
   "metadata": {},
   "outputs": [],
   "source": [
    "# =============================================================================\n",
    "#  ----------------------------------- INIT -----------------------------------\n",
    "# =============================================================================\n",
    "\n",
    "# Input parameters\n",
    "network_name = 'systematic_PPI_BioGRID'\n",
    "feature = 'GDV'\n",
    "metric  = 'mahalanobis'\n",
    "method  = 'kmedoid'\n",
    "aspect  = 'BP' \n",
    "\n",
    "in_parms = InputParameters(network_name, feature, metric, method, aspect)"
   ]
  },
  {
   "cell_type": "code",
   "execution_count": null,
   "metadata": {},
   "outputs": [],
   "source": [
    "df.loc[feature,metric] = np.mean(\n",
    "            [np.mean(np.loadtxt(f\"{ENRICHMENT_DIRECTORY}/{file}\")) \n",
    "                for file in os.listdir(ENRICHMENT_DIRECTORY) if file.endswith('GO-terms.csv')])"
   ]
  },
  {
   "cell_type": "code",
   "execution_count": 4,
   "metadata": {},
   "outputs": [
    {
     "ename": "FileNotFoundError",
     "evalue": "[Errno 2] No such file or directory: '/media/clusterduck123/joe/new_MareNostrum/enrichments/systematic_PPI_BioGRID/GDV/mahalanobis/kmedoid/BP/BY'",
     "output_type": "error",
     "traceback": [
      "\u001b[0;31m---------------------------------------------------------------------------\u001b[0m",
      "\u001b[0;31mFileNotFoundError\u001b[0m                         Traceback (most recent call last)",
      "\u001b[0;32m<ipython-input-4-c5d40debe085>\u001b[0m in \u001b[0;36m<module>\u001b[0;34m\u001b[0m\n\u001b[1;32m     31\u001b[0m         df.loc[feature,metric] = np.mean(\n\u001b[1;32m     32\u001b[0m             [np.mean(np.loadtxt(f\"{ENRICHMENT_DIRECTORY}/{file}\")) \n\u001b[0;32m---> 33\u001b[0;31m                 for file in os.listdir(ENRICHMENT_DIRECTORY) if file.endswith('GO-terms.csv')])\n\u001b[0m\u001b[1;32m     34\u001b[0m \u001b[0;34m\u001b[0m\u001b[0m\n\u001b[1;32m     35\u001b[0m     \u001b[0menrichments\u001b[0m\u001b[0;34m[\u001b[0m\u001b[0mnetwork\u001b[0m\u001b[0;34m]\u001b[0m\u001b[0;34m[\u001b[0m\u001b[0maspect\u001b[0m\u001b[0;34m]\u001b[0m \u001b[0;34m=\u001b[0m \u001b[0mdf\u001b[0m\u001b[0;34m.\u001b[0m\u001b[0mcopy\u001b[0m\u001b[0;34m(\u001b[0m\u001b[0;34m)\u001b[0m\u001b[0;34m\u001b[0m\u001b[0;34m\u001b[0m\u001b[0m\n",
      "\u001b[0;31mFileNotFoundError\u001b[0m: [Errno 2] No such file or directory: '/media/clusterduck123/joe/new_MareNostrum/enrichments/systematic_PPI_BioGRID/GDV/mahalanobis/kmedoid/BP/BY'"
     ]
    }
   ],
   "source": [
    "feature_counter = Counter()\n",
    "counter = Counter()\n",
    "\n",
    "enrichments = defaultdict(dict)\n",
    "\n",
    "for network, aspect in product(networks, aspects):\n",
    "    df = pd.DataFrame()\n",
    "    features = {'GDV', \n",
    "                #'GCV-DG-sym',\n",
    "#                 'GCV-G', 'GCV-A', 'GCV-3', 'GCV-G-sym', 'GCV-O', 'GCV-O+', \n",
    "#                 'GCV-DAG', 'GCV-DA', 'GCV-DG'\n",
    "               }\n",
    "    metrics  = {'mahalanobis'\n",
    "        #'cityblock', 'hellinger',\n",
    "#                 'seuclidean', 'sqeuclidean', 'GDV_similarity'\n",
    "#                 'euclidean', 'chebyshev', 'sqeuclidean', 'canberra', \n",
    "#                 'cosine', 'correlation', 'braycurtis', \n",
    "               }\n",
    "\n",
    "    for feature, metric in  product(features, metrics):\n",
    "        if not feature == 'GDV' and metric in {'GDV_similarity', 'mahalanobis', 'seuclidean'}:\n",
    "            continue\n",
    "        ENRICHMENT_DIRECTORY = f\"/media/clusterduck123/joe/new_MareNostrum/enrichments/\" \\\n",
    "                        f\"{network}/{feature}/{metric}/{method}/{aspect}/{correction}\"\n",
    "\n",
    "        df.loc[feature,metric] = np.mean(\n",
    "            [np.mean(np.loadtxt(f\"{ENRICHMENT_DIRECTORY}/{file}\")) \n",
    "                for file in os.listdir(ENRICHMENT_DIRECTORY) if file.endswith('GO-terms.csv')])\n",
    "    \n",
    "    enrichments[network][aspect] = df.copy()\n",
    "    \n",
    "    break\n",
    "        \n",
    "    for i in range(5):\n",
    "        arr = np.nan_to_num(df.values)\n",
    "        idx, col = np.unravel_index(arr.argmax(), arr.shape)\n",
    "        counter.update([(df.index[idx], df.columns[col])])\n",
    "        df.iloc[idx, col] = 0\n",
    "        \n",
    "        feature_counter.update([df.index[idx]])"
   ]
  },
  {
   "cell_type": "code",
   "execution_count": 15,
   "metadata": {},
   "outputs": [
    {
     "data": {
      "text/html": [
       "<div>\n",
       "<style scoped>\n",
       "    .dataframe tbody tr th:only-of-type {\n",
       "        vertical-align: middle;\n",
       "    }\n",
       "\n",
       "    .dataframe tbody tr th {\n",
       "        vertical-align: top;\n",
       "    }\n",
       "\n",
       "    .dataframe thead th {\n",
       "        text-align: right;\n",
       "    }\n",
       "</style>\n",
       "<table border=\"1\" class=\"dataframe\">\n",
       "  <thead>\n",
       "    <tr style=\"text-align: right;\">\n",
       "      <th></th>\n",
       "      <th>hellinger</th>\n",
       "      <th>cityblock</th>\n",
       "    </tr>\n",
       "  </thead>\n",
       "  <tbody>\n",
       "    <tr>\n",
       "      <th>GDV</th>\n",
       "      <td>0.105993</td>\n",
       "      <td>0.198774</td>\n",
       "    </tr>\n",
       "    <tr>\n",
       "      <th>GCV-DG-sym</th>\n",
       "      <td>2.103019</td>\n",
       "      <td>2.103019</td>\n",
       "    </tr>\n",
       "  </tbody>\n",
       "</table>\n",
       "</div>"
      ],
      "text/plain": [
       "            hellinger  cityblock\n",
       "GDV          0.105993   0.198774\n",
       "GCV-DG-sym   2.103019   2.103019"
      ]
     },
     "execution_count": 15,
     "metadata": {},
     "output_type": "execute_result"
    }
   ],
   "source": [
    "df"
   ]
  },
  {
   "cell_type": "code",
   "execution_count": 13,
   "metadata": {},
   "outputs": [
    {
     "data": {
      "text/plain": [
       "'GI_Constanzo2016'"
      ]
     },
     "execution_count": 13,
     "metadata": {},
     "output_type": "execute_result"
    }
   ],
   "source": [
    "network"
   ]
  },
  {
   "cell_type": "code",
   "execution_count": 10,
   "metadata": {},
   "outputs": [
    {
     "data": {
      "text/plain": [
       "Counter({'GCV-DG-sym': 8, 'GDV': 12})"
      ]
     },
     "execution_count": 10,
     "metadata": {},
     "output_type": "execute_result"
    }
   ],
   "source": [
    "feature_counter"
   ]
  },
  {
   "cell_type": "code",
   "execution_count": 22,
   "metadata": {},
   "outputs": [
    {
     "data": {
      "text/plain": [
       "[('GCV-O', 3), ('GCV-G', 3), ('GCV-O+', 3), ('GCV-DG-sym', 2), ('GCV-DG', 2)]"
      ]
     },
     "execution_count": 22,
     "metadata": {},
     "output_type": "execute_result"
    }
   ],
   "source": [
    "feature_counter.most_common(5)"
   ]
  },
  {
   "cell_type": "code",
   "execution_count": 13,
   "metadata": {},
   "outputs": [
    {
     "data": {
      "text/plain": [
       "GDV           0.129322\n",
       "GCV-DG        0.079581\n",
       "GCV-G         0.082358\n",
       "GCV-O         0.087043\n",
       "GCV-DA        0.066541\n",
       "GCV-O+        0.082366\n",
       "GCV-A         0.059231\n",
       "GCV-DG-sym    0.079245\n",
       "GCV-DAG       0.077285\n",
       "GCV-G-sym     0.085842\n",
       "GCV-3         0.046147\n",
       "dtype: float64"
      ]
     },
     "execution_count": 13,
     "metadata": {},
     "output_type": "execute_result"
    }
   ],
   "source": [
    "df.T.max()"
   ]
  },
  {
   "cell_type": "code",
   "execution_count": 26,
   "metadata": {},
   "outputs": [],
   "source": [
    "m = map(lambda x : x**2, range(10))"
   ]
  },
  {
   "cell_type": "code",
   "execution_count": 27,
   "metadata": {},
   "outputs": [
    {
     "data": {
      "text/plain": [
       "map"
      ]
     },
     "execution_count": 27,
     "metadata": {},
     "output_type": "execute_result"
    }
   ],
   "source": [
    "asdf "
   ]
  },
  {
   "cell_type": "code",
   "execution_count": 4,
   "metadata": {},
   "outputs": [
    {
     "data": {
      "text/plain": [
       "[(('GDV', 'mahalanobis'), 3),\n",
       " (('GDV', 'seuclidean'), 3),\n",
       " (('GCV-G-sym', 'hellinger'), 3),\n",
       " (('GCV-G-sym', 'canberra'), 2),\n",
       " (('GCV-G', 'hellinger'), 2)]"
      ]
     },
     "execution_count": 4,
     "metadata": {},
     "output_type": "execute_result"
    }
   ],
   "source": [
    "counter.most_common(5)"
   ]
  },
  {
   "cell_type": "code",
   "execution_count": 159,
   "metadata": {},
   "outputs": [
    {
     "data": {
      "text/html": [
       "<div>\n",
       "<style scoped>\n",
       "    .dataframe tbody tr th:only-of-type {\n",
       "        vertical-align: middle;\n",
       "    }\n",
       "\n",
       "    .dataframe tbody tr th {\n",
       "        vertical-align: top;\n",
       "    }\n",
       "\n",
       "    .dataframe thead th {\n",
       "        text-align: right;\n",
       "    }\n",
       "</style>\n",
       "<table border=\"1\" class=\"dataframe\">\n",
       "  <thead>\n",
       "    <tr style=\"text-align: right;\">\n",
       "      <th></th>\n",
       "      <th>braycurtis</th>\n",
       "      <th>sqeuclidean</th>\n",
       "      <th>euclidean</th>\n",
       "      <th>correlation</th>\n",
       "      <th>cosine</th>\n",
       "      <th>cityblock</th>\n",
       "      <th>hellinger</th>\n",
       "      <th>chebyshev</th>\n",
       "      <th>canberra</th>\n",
       "      <th>mahalanobis</th>\n",
       "      <th>seuclidean</th>\n",
       "      <th>GDV_similarity</th>\n",
       "    </tr>\n",
       "  </thead>\n",
       "  <tbody>\n",
       "    <tr>\n",
       "      <th>GCV-O</th>\n",
       "      <td>0.250993</td>\n",
       "      <td>0.260695</td>\n",
       "      <td>0.258136</td>\n",
       "      <td>0.221505</td>\n",
       "      <td>0.254354</td>\n",
       "      <td>0.268831</td>\n",
       "      <td>0.265584</td>\n",
       "      <td>0.224714</td>\n",
       "      <td>0.259740</td>\n",
       "      <td>NaN</td>\n",
       "      <td>NaN</td>\n",
       "      <td>NaN</td>\n",
       "    </tr>\n",
       "    <tr>\n",
       "      <th>GCV-O+</th>\n",
       "      <td>0.249503</td>\n",
       "      <td>0.247250</td>\n",
       "      <td>0.263331</td>\n",
       "      <td>0.215279</td>\n",
       "      <td>0.247212</td>\n",
       "      <td>0.240985</td>\n",
       "      <td>0.252979</td>\n",
       "      <td>0.231513</td>\n",
       "      <td>0.247785</td>\n",
       "      <td>NaN</td>\n",
       "      <td>NaN</td>\n",
       "      <td>NaN</td>\n",
       "    </tr>\n",
       "  </tbody>\n",
       "</table>\n",
       "</div>"
      ],
      "text/plain": [
       "        braycurtis  sqeuclidean  euclidean  correlation    cosine  cityblock  \\\n",
       "GCV-O     0.250993     0.260695   0.258136     0.221505  0.254354   0.268831   \n",
       "GCV-O+    0.249503     0.247250   0.263331     0.215279  0.247212   0.240985   \n",
       "\n",
       "        hellinger  chebyshev  canberra  mahalanobis  seuclidean  \\\n",
       "GCV-O    0.265584   0.224714  0.259740          NaN         NaN   \n",
       "GCV-O+   0.252979   0.231513  0.247785          NaN         NaN   \n",
       "\n",
       "        GDV_similarity  \n",
       "GCV-O              NaN  \n",
       "GCV-O+             NaN  "
      ]
     },
     "execution_count": 159,
     "metadata": {},
     "output_type": "execute_result"
    }
   ],
   "source": [
    "enrichments['systematic_CoEx_COEXPRESdb']['BP'].loc[['GCV-O', 'GCV-O+']]"
   ]
  },
  {
   "cell_type": "code",
   "execution_count": 112,
   "metadata": {},
   "outputs": [
    {
     "data": {
      "text/html": [
       "<div>\n",
       "<style scoped>\n",
       "    .dataframe tbody tr th:only-of-type {\n",
       "        vertical-align: middle;\n",
       "    }\n",
       "\n",
       "    .dataframe tbody tr th {\n",
       "        vertical-align: top;\n",
       "    }\n",
       "\n",
       "    .dataframe thead th {\n",
       "        text-align: right;\n",
       "    }\n",
       "</style>\n",
       "<table border=\"1\" class=\"dataframe\">\n",
       "  <thead>\n",
       "    <tr style=\"text-align: right;\">\n",
       "      <th></th>\n",
       "      <th>braycurtis</th>\n",
       "      <th>sqeuclidean</th>\n",
       "      <th>euclidean</th>\n",
       "      <th>correlation</th>\n",
       "      <th>cosine</th>\n",
       "      <th>cityblock</th>\n",
       "      <th>hellinger</th>\n",
       "      <th>chebyshev</th>\n",
       "      <th>canberra</th>\n",
       "      <th>mahalanobis</th>\n",
       "      <th>seuclidean</th>\n",
       "      <th>GDV_similarity</th>\n",
       "    </tr>\n",
       "  </thead>\n",
       "  <tbody>\n",
       "    <tr>\n",
       "      <th>GCV-A</th>\n",
       "      <td>0.260915</td>\n",
       "      <td>0.257986</td>\n",
       "      <td>0.250961</td>\n",
       "      <td>0.250841</td>\n",
       "      <td>0.253922</td>\n",
       "      <td>0.261725</td>\n",
       "      <td>0.304488</td>\n",
       "      <td>0.252540</td>\n",
       "      <td>0.277967</td>\n",
       "      <td>NaN</td>\n",
       "      <td>NaN</td>\n",
       "      <td>NaN</td>\n",
       "    </tr>\n",
       "    <tr>\n",
       "      <th>GDV</th>\n",
       "      <td>0.098104</td>\n",
       "      <td>0.057275</td>\n",
       "      <td>0.077568</td>\n",
       "      <td>0.198949</td>\n",
       "      <td>0.198503</td>\n",
       "      <td>0.097650</td>\n",
       "      <td>0.237046</td>\n",
       "      <td>0.059331</td>\n",
       "      <td>0.287556</td>\n",
       "      <td>0.293964</td>\n",
       "      <td>0.208229</td>\n",
       "      <td>0.287072</td>\n",
       "    </tr>\n",
       "    <tr>\n",
       "      <th>GCV-3</th>\n",
       "      <td>0.231821</td>\n",
       "      <td>0.211896</td>\n",
       "      <td>0.256946</td>\n",
       "      <td>0.061799</td>\n",
       "      <td>0.193551</td>\n",
       "      <td>0.203442</td>\n",
       "      <td>0.274450</td>\n",
       "      <td>0.313038</td>\n",
       "      <td>0.302917</td>\n",
       "      <td>NaN</td>\n",
       "      <td>NaN</td>\n",
       "      <td>NaN</td>\n",
       "    </tr>\n",
       "    <tr>\n",
       "      <th>GCV-G</th>\n",
       "      <td>0.000000</td>\n",
       "      <td>0.000000</td>\n",
       "      <td>0.000000</td>\n",
       "      <td>0.278181</td>\n",
       "      <td>0.000000</td>\n",
       "      <td>0.326160</td>\n",
       "      <td>0.000000</td>\n",
       "      <td>0.252755</td>\n",
       "      <td>0.329502</td>\n",
       "      <td>NaN</td>\n",
       "      <td>NaN</td>\n",
       "      <td>NaN</td>\n",
       "    </tr>\n",
       "  </tbody>\n",
       "</table>\n",
       "</div>"
      ],
      "text/plain": [
       "       braycurtis  sqeuclidean  euclidean  correlation    cosine  cityblock  \\\n",
       "GCV-A    0.260915     0.257986   0.250961     0.250841  0.253922   0.261725   \n",
       "GDV      0.098104     0.057275   0.077568     0.198949  0.198503   0.097650   \n",
       "GCV-3    0.231821     0.211896   0.256946     0.061799  0.193551   0.203442   \n",
       "GCV-G    0.000000     0.000000   0.000000     0.278181  0.000000   0.326160   \n",
       "\n",
       "       hellinger  chebyshev  canberra  mahalanobis  seuclidean  GDV_similarity  \n",
       "GCV-A   0.304488   0.252540  0.277967          NaN         NaN             NaN  \n",
       "GDV     0.237046   0.059331  0.287556     0.293964    0.208229        0.287072  \n",
       "GCV-3   0.274450   0.313038  0.302917          NaN         NaN             NaN  \n",
       "GCV-G   0.000000   0.252755  0.329502          NaN         NaN             NaN  "
      ]
     },
     "execution_count": 112,
     "metadata": {},
     "output_type": "execute_result"
    }
   ],
   "source": [
    "df"
   ]
  },
  {
   "cell_type": "code",
   "execution_count": 73,
   "metadata": {},
   "outputs": [
    {
     "name": "stdout",
     "output_type": "stream",
     "text": [
      "GCV-G braycurtis\n",
      "0.6525728266687054\n",
      "\n",
      "GCV-G euclidean\n",
      "0.6286795626576955\n",
      "\n",
      "GCV-G sqeuclidean\n",
      "0.4768522058261335\n",
      "\n",
      "GCV-G cosine\n",
      "0.4669890664423886\n",
      "\n",
      "GCV-G cityblock\n",
      "0.4302316690878508\n",
      "\n"
     ]
    }
   ],
   "source": [
    "for i in range(5):\n",
    "    arr = np.nan_to_num(df.values)\n",
    "    idx, col = np.unravel_index(arr.argmax(), arr.shape)\n",
    "    print(df.index[idx], df.columns[col])\n",
    "    print(df.iloc[idx, col])\n",
    "    print()\n",
    "    df.iloc[idx, col] = 0"
   ]
  },
  {
   "cell_type": "code",
   "execution_count": 74,
   "metadata": {},
   "outputs": [
    {
     "data": {
      "text/html": [
       "<div>\n",
       "<style scoped>\n",
       "    .dataframe tbody tr th:only-of-type {\n",
       "        vertical-align: middle;\n",
       "    }\n",
       "\n",
       "    .dataframe tbody tr th {\n",
       "        vertical-align: top;\n",
       "    }\n",
       "\n",
       "    .dataframe thead th {\n",
       "        text-align: right;\n",
       "    }\n",
       "</style>\n",
       "<table border=\"1\" class=\"dataframe\">\n",
       "  <thead>\n",
       "    <tr style=\"text-align: right;\">\n",
       "      <th></th>\n",
       "      <th>braycurtis</th>\n",
       "      <th>sqeuclidean</th>\n",
       "      <th>euclidean</th>\n",
       "      <th>correlation</th>\n",
       "      <th>cosine</th>\n",
       "      <th>cityblock</th>\n",
       "      <th>hellinger</th>\n",
       "      <th>chebyshev</th>\n",
       "      <th>canberra</th>\n",
       "      <th>mahalanobis</th>\n",
       "      <th>seuclidean</th>\n",
       "      <th>GDV_similarity</th>\n",
       "    </tr>\n",
       "  </thead>\n",
       "  <tbody>\n",
       "    <tr>\n",
       "      <th>GCV-A</th>\n",
       "      <td>0.278901</td>\n",
       "      <td>0.285668</td>\n",
       "      <td>0.285209</td>\n",
       "      <td>0.283584</td>\n",
       "      <td>0.293581</td>\n",
       "      <td>0.292702</td>\n",
       "      <td>0.364783</td>\n",
       "      <td>0.281635</td>\n",
       "      <td>0.307114</td>\n",
       "      <td>NaN</td>\n",
       "      <td>NaN</td>\n",
       "      <td>NaN</td>\n",
       "    </tr>\n",
       "    <tr>\n",
       "      <th>GDV</th>\n",
       "      <td>0.105184</td>\n",
       "      <td>0.064084</td>\n",
       "      <td>0.081310</td>\n",
       "      <td>0.189047</td>\n",
       "      <td>0.190729</td>\n",
       "      <td>0.104419</td>\n",
       "      <td>0.234857</td>\n",
       "      <td>0.062788</td>\n",
       "      <td>0.321504</td>\n",
       "      <td>0.406709</td>\n",
       "      <td>0.22418</td>\n",
       "      <td>0.329563</td>\n",
       "    </tr>\n",
       "    <tr>\n",
       "      <th>GCV-3</th>\n",
       "      <td>0.337182</td>\n",
       "      <td>0.259462</td>\n",
       "      <td>0.414749</td>\n",
       "      <td>0.065544</td>\n",
       "      <td>0.239812</td>\n",
       "      <td>0.257053</td>\n",
       "      <td>0.323075</td>\n",
       "      <td>0.332403</td>\n",
       "      <td>0.379119</td>\n",
       "      <td>NaN</td>\n",
       "      <td>NaN</td>\n",
       "      <td>NaN</td>\n",
       "    </tr>\n",
       "    <tr>\n",
       "      <th>GCV-G</th>\n",
       "      <td>0.000000</td>\n",
       "      <td>0.000000</td>\n",
       "      <td>0.000000</td>\n",
       "      <td>0.288248</td>\n",
       "      <td>0.000000</td>\n",
       "      <td>0.000000</td>\n",
       "      <td>0.295894</td>\n",
       "      <td>0.300157</td>\n",
       "      <td>0.390339</td>\n",
       "      <td>NaN</td>\n",
       "      <td>NaN</td>\n",
       "      <td>NaN</td>\n",
       "    </tr>\n",
       "  </tbody>\n",
       "</table>\n",
       "</div>"
      ],
      "text/plain": [
       "       braycurtis  sqeuclidean  euclidean  correlation    cosine  cityblock  \\\n",
       "GCV-A    0.278901     0.285668   0.285209     0.283584  0.293581   0.292702   \n",
       "GDV      0.105184     0.064084   0.081310     0.189047  0.190729   0.104419   \n",
       "GCV-3    0.337182     0.259462   0.414749     0.065544  0.239812   0.257053   \n",
       "GCV-G    0.000000     0.000000   0.000000     0.288248  0.000000   0.000000   \n",
       "\n",
       "       hellinger  chebyshev  canberra  mahalanobis  seuclidean  GDV_similarity  \n",
       "GCV-A   0.364783   0.281635  0.307114          NaN         NaN             NaN  \n",
       "GDV     0.234857   0.062788  0.321504     0.406709     0.22418        0.329563  \n",
       "GCV-3   0.323075   0.332403  0.379119          NaN         NaN             NaN  \n",
       "GCV-G   0.295894   0.300157  0.390339          NaN         NaN             NaN  "
      ]
     },
     "execution_count": 74,
     "metadata": {},
     "output_type": "execute_result"
    }
   ],
   "source": [
    "df"
   ]
  },
  {
   "cell_type": "code",
   "execution_count": 57,
   "metadata": {},
   "outputs": [],
   "source": [
    "idx, col = np.unravel_index(arr.argmax(), arr.shape)"
   ]
  },
  {
   "cell_type": "code",
   "execution_count": 58,
   "metadata": {},
   "outputs": [
    {
     "data": {
      "text/plain": [
       "('GDV', 'mahalanobis')"
      ]
     },
     "execution_count": 58,
     "metadata": {},
     "output_type": "execute_result"
    }
   ],
   "source": [
    "df.index[idx], df.columns[col]"
   ]
  },
  {
   "cell_type": "code",
   "execution_count": 54,
   "metadata": {},
   "outputs": [
    {
     "data": {
      "text/html": [
       "<div>\n",
       "<style scoped>\n",
       "    .dataframe tbody tr th:only-of-type {\n",
       "        vertical-align: middle;\n",
       "    }\n",
       "\n",
       "    .dataframe tbody tr th {\n",
       "        vertical-align: top;\n",
       "    }\n",
       "\n",
       "    .dataframe thead th {\n",
       "        text-align: right;\n",
       "    }\n",
       "</style>\n",
       "<table border=\"1\" class=\"dataframe\">\n",
       "  <thead>\n",
       "    <tr style=\"text-align: right;\">\n",
       "      <th></th>\n",
       "      <th>braycurtis</th>\n",
       "      <th>sqeuclidean</th>\n",
       "      <th>euclidean</th>\n",
       "      <th>correlation</th>\n",
       "      <th>cosine</th>\n",
       "      <th>cityblock</th>\n",
       "      <th>hellinger</th>\n",
       "      <th>chebyshev</th>\n",
       "      <th>canberra</th>\n",
       "      <th>mahalanobis</th>\n",
       "      <th>seuclidean</th>\n",
       "      <th>GDV_similarity</th>\n",
       "    </tr>\n",
       "  </thead>\n",
       "  <tbody>\n",
       "    <tr>\n",
       "      <th>GCV-A</th>\n",
       "      <td>0.151184</td>\n",
       "      <td>0.172307</td>\n",
       "      <td>0.164133</td>\n",
       "      <td>0.192666</td>\n",
       "      <td>0.171218</td>\n",
       "      <td>0.157086</td>\n",
       "      <td>0.174408</td>\n",
       "      <td>0.168583</td>\n",
       "      <td>0.164840</td>\n",
       "      <td>NaN</td>\n",
       "      <td>NaN</td>\n",
       "      <td>NaN</td>\n",
       "    </tr>\n",
       "    <tr>\n",
       "      <th>GDV</th>\n",
       "      <td>0.180982</td>\n",
       "      <td>0.168919</td>\n",
       "      <td>0.163388</td>\n",
       "      <td>0.146784</td>\n",
       "      <td>0.148323</td>\n",
       "      <td>0.178690</td>\n",
       "      <td>0.179179</td>\n",
       "      <td>0.134228</td>\n",
       "      <td>0.198293</td>\n",
       "      <td>0.330355</td>\n",
       "      <td>0.251505</td>\n",
       "      <td>0.187078</td>\n",
       "    </tr>\n",
       "    <tr>\n",
       "      <th>GCV-3</th>\n",
       "      <td>0.122364</td>\n",
       "      <td>0.127063</td>\n",
       "      <td>0.125134</td>\n",
       "      <td>0.067609</td>\n",
       "      <td>0.123988</td>\n",
       "      <td>0.118793</td>\n",
       "      <td>0.124637</td>\n",
       "      <td>0.126623</td>\n",
       "      <td>0.120264</td>\n",
       "      <td>NaN</td>\n",
       "      <td>NaN</td>\n",
       "      <td>NaN</td>\n",
       "    </tr>\n",
       "    <tr>\n",
       "      <th>GCV-G</th>\n",
       "      <td>0.243163</td>\n",
       "      <td>0.251986</td>\n",
       "      <td>0.254889</td>\n",
       "      <td>0.257200</td>\n",
       "      <td>0.262070</td>\n",
       "      <td>0.244328</td>\n",
       "      <td>0.269347</td>\n",
       "      <td>0.261077</td>\n",
       "      <td>0.255405</td>\n",
       "      <td>NaN</td>\n",
       "      <td>NaN</td>\n",
       "      <td>NaN</td>\n",
       "    </tr>\n",
       "  </tbody>\n",
       "</table>\n",
       "</div>"
      ],
      "text/plain": [
       "       braycurtis  sqeuclidean  euclidean  correlation    cosine  cityblock  \\\n",
       "GCV-A    0.151184     0.172307   0.164133     0.192666  0.171218   0.157086   \n",
       "GDV      0.180982     0.168919   0.163388     0.146784  0.148323   0.178690   \n",
       "GCV-3    0.122364     0.127063   0.125134     0.067609  0.123988   0.118793   \n",
       "GCV-G    0.243163     0.251986   0.254889     0.257200  0.262070   0.244328   \n",
       "\n",
       "       hellinger  chebyshev  canberra  mahalanobis  seuclidean  GDV_similarity  \n",
       "GCV-A   0.174408   0.168583  0.164840          NaN         NaN             NaN  \n",
       "GDV     0.179179   0.134228  0.198293     0.330355    0.251505        0.187078  \n",
       "GCV-3   0.124637   0.126623  0.120264          NaN         NaN             NaN  \n",
       "GCV-G   0.269347   0.261077  0.255405          NaN         NaN             NaN  "
      ]
     },
     "execution_count": 54,
     "metadata": {},
     "output_type": "execute_result"
    }
   ],
   "source": [
    "df"
   ]
  },
  {
   "cell_type": "code",
   "execution_count": 40,
   "metadata": {},
   "outputs": [],
   "source": [
    "? np.amax"
   ]
  },
  {
   "cell_type": "code",
   "execution_count": 18,
   "metadata": {},
   "outputs": [
    {
     "data": {
      "text/html": [
       "<div>\n",
       "<style scoped>\n",
       "    .dataframe tbody tr th:only-of-type {\n",
       "        vertical-align: middle;\n",
       "    }\n",
       "\n",
       "    .dataframe tbody tr th {\n",
       "        vertical-align: top;\n",
       "    }\n",
       "\n",
       "    .dataframe thead th {\n",
       "        text-align: right;\n",
       "    }\n",
       "</style>\n",
       "<table border=\"1\" class=\"dataframe\">\n",
       "  <thead>\n",
       "    <tr style=\"text-align: right;\">\n",
       "      <th></th>\n",
       "      <th>braycurtis</th>\n",
       "      <th>sqeuclidean</th>\n",
       "      <th>euclidean</th>\n",
       "      <th>correlation</th>\n",
       "      <th>cosine</th>\n",
       "      <th>cityblock</th>\n",
       "      <th>hellinger</th>\n",
       "      <th>chebyshev</th>\n",
       "      <th>canberra</th>\n",
       "      <th>mahalanobis</th>\n",
       "      <th>seuclidean</th>\n",
       "      <th>GDV_similarity</th>\n",
       "    </tr>\n",
       "  </thead>\n",
       "  <tbody>\n",
       "    <tr>\n",
       "      <th>GCV-G</th>\n",
       "      <td>0.243163</td>\n",
       "      <td>0.251986</td>\n",
       "      <td>0.254889</td>\n",
       "      <td>0.257200</td>\n",
       "      <td>0.262070</td>\n",
       "      <td>0.244328</td>\n",
       "      <td>0.269347</td>\n",
       "      <td>0.261077</td>\n",
       "      <td>0.255405</td>\n",
       "      <td>NaN</td>\n",
       "      <td>NaN</td>\n",
       "      <td>NaN</td>\n",
       "    </tr>\n",
       "    <tr>\n",
       "      <th>GCV-G</th>\n",
       "      <td>0.243163</td>\n",
       "      <td>0.251986</td>\n",
       "      <td>0.254889</td>\n",
       "      <td>0.257200</td>\n",
       "      <td>0.262070</td>\n",
       "      <td>0.244328</td>\n",
       "      <td>0.269347</td>\n",
       "      <td>0.261077</td>\n",
       "      <td>0.255405</td>\n",
       "      <td>NaN</td>\n",
       "      <td>NaN</td>\n",
       "      <td>NaN</td>\n",
       "    </tr>\n",
       "    <tr>\n",
       "      <th>GCV-G</th>\n",
       "      <td>0.243163</td>\n",
       "      <td>0.251986</td>\n",
       "      <td>0.254889</td>\n",
       "      <td>0.257200</td>\n",
       "      <td>0.262070</td>\n",
       "      <td>0.244328</td>\n",
       "      <td>0.269347</td>\n",
       "      <td>0.261077</td>\n",
       "      <td>0.255405</td>\n",
       "      <td>NaN</td>\n",
       "      <td>NaN</td>\n",
       "      <td>NaN</td>\n",
       "    </tr>\n",
       "    <tr>\n",
       "      <th>GCV-G</th>\n",
       "      <td>0.243163</td>\n",
       "      <td>0.251986</td>\n",
       "      <td>0.254889</td>\n",
       "      <td>0.257200</td>\n",
       "      <td>0.262070</td>\n",
       "      <td>0.244328</td>\n",
       "      <td>0.269347</td>\n",
       "      <td>0.261077</td>\n",
       "      <td>0.255405</td>\n",
       "      <td>NaN</td>\n",
       "      <td>NaN</td>\n",
       "      <td>NaN</td>\n",
       "    </tr>\n",
       "    <tr>\n",
       "      <th>GCV-G</th>\n",
       "      <td>0.243163</td>\n",
       "      <td>0.251986</td>\n",
       "      <td>0.254889</td>\n",
       "      <td>0.257200</td>\n",
       "      <td>0.262070</td>\n",
       "      <td>0.244328</td>\n",
       "      <td>0.269347</td>\n",
       "      <td>0.261077</td>\n",
       "      <td>0.255405</td>\n",
       "      <td>NaN</td>\n",
       "      <td>NaN</td>\n",
       "      <td>NaN</td>\n",
       "    </tr>\n",
       "    <tr>\n",
       "      <th>GCV-G</th>\n",
       "      <td>0.243163</td>\n",
       "      <td>0.251986</td>\n",
       "      <td>0.254889</td>\n",
       "      <td>0.257200</td>\n",
       "      <td>0.262070</td>\n",
       "      <td>0.244328</td>\n",
       "      <td>0.269347</td>\n",
       "      <td>0.261077</td>\n",
       "      <td>0.255405</td>\n",
       "      <td>NaN</td>\n",
       "      <td>NaN</td>\n",
       "      <td>NaN</td>\n",
       "    </tr>\n",
       "    <tr>\n",
       "      <th>GCV-G</th>\n",
       "      <td>0.243163</td>\n",
       "      <td>0.251986</td>\n",
       "      <td>0.254889</td>\n",
       "      <td>0.257200</td>\n",
       "      <td>0.262070</td>\n",
       "      <td>0.244328</td>\n",
       "      <td>0.269347</td>\n",
       "      <td>0.261077</td>\n",
       "      <td>0.255405</td>\n",
       "      <td>NaN</td>\n",
       "      <td>NaN</td>\n",
       "      <td>NaN</td>\n",
       "    </tr>\n",
       "    <tr>\n",
       "      <th>GCV-G</th>\n",
       "      <td>0.243163</td>\n",
       "      <td>0.251986</td>\n",
       "      <td>0.254889</td>\n",
       "      <td>0.257200</td>\n",
       "      <td>0.262070</td>\n",
       "      <td>0.244328</td>\n",
       "      <td>0.269347</td>\n",
       "      <td>0.261077</td>\n",
       "      <td>0.255405</td>\n",
       "      <td>NaN</td>\n",
       "      <td>NaN</td>\n",
       "      <td>NaN</td>\n",
       "    </tr>\n",
       "    <tr>\n",
       "      <th>GCV-G</th>\n",
       "      <td>0.243163</td>\n",
       "      <td>0.251986</td>\n",
       "      <td>0.254889</td>\n",
       "      <td>0.257200</td>\n",
       "      <td>0.262070</td>\n",
       "      <td>0.244328</td>\n",
       "      <td>0.269347</td>\n",
       "      <td>0.261077</td>\n",
       "      <td>0.255405</td>\n",
       "      <td>NaN</td>\n",
       "      <td>NaN</td>\n",
       "      <td>NaN</td>\n",
       "    </tr>\n",
       "    <tr>\n",
       "      <th>GDV</th>\n",
       "      <td>0.180982</td>\n",
       "      <td>0.168919</td>\n",
       "      <td>0.163388</td>\n",
       "      <td>0.146784</td>\n",
       "      <td>0.148323</td>\n",
       "      <td>0.178690</td>\n",
       "      <td>0.179179</td>\n",
       "      <td>0.134228</td>\n",
       "      <td>0.198293</td>\n",
       "      <td>0.330355</td>\n",
       "      <td>0.251505</td>\n",
       "      <td>0.187078</td>\n",
       "    </tr>\n",
       "    <tr>\n",
       "      <th>GDV</th>\n",
       "      <td>0.180982</td>\n",
       "      <td>0.168919</td>\n",
       "      <td>0.163388</td>\n",
       "      <td>0.146784</td>\n",
       "      <td>0.148323</td>\n",
       "      <td>0.178690</td>\n",
       "      <td>0.179179</td>\n",
       "      <td>0.134228</td>\n",
       "      <td>0.198293</td>\n",
       "      <td>0.330355</td>\n",
       "      <td>0.251505</td>\n",
       "      <td>0.187078</td>\n",
       "    </tr>\n",
       "    <tr>\n",
       "      <th>GDV</th>\n",
       "      <td>0.180982</td>\n",
       "      <td>0.168919</td>\n",
       "      <td>0.163388</td>\n",
       "      <td>0.146784</td>\n",
       "      <td>0.148323</td>\n",
       "      <td>0.178690</td>\n",
       "      <td>0.179179</td>\n",
       "      <td>0.134228</td>\n",
       "      <td>0.198293</td>\n",
       "      <td>0.330355</td>\n",
       "      <td>0.251505</td>\n",
       "      <td>0.187078</td>\n",
       "    </tr>\n",
       "  </tbody>\n",
       "</table>\n",
       "</div>"
      ],
      "text/plain": [
       "       braycurtis  sqeuclidean  euclidean  correlation    cosine  cityblock  \\\n",
       "GCV-G    0.243163     0.251986   0.254889     0.257200  0.262070   0.244328   \n",
       "GCV-G    0.243163     0.251986   0.254889     0.257200  0.262070   0.244328   \n",
       "GCV-G    0.243163     0.251986   0.254889     0.257200  0.262070   0.244328   \n",
       "GCV-G    0.243163     0.251986   0.254889     0.257200  0.262070   0.244328   \n",
       "GCV-G    0.243163     0.251986   0.254889     0.257200  0.262070   0.244328   \n",
       "GCV-G    0.243163     0.251986   0.254889     0.257200  0.262070   0.244328   \n",
       "GCV-G    0.243163     0.251986   0.254889     0.257200  0.262070   0.244328   \n",
       "GCV-G    0.243163     0.251986   0.254889     0.257200  0.262070   0.244328   \n",
       "GCV-G    0.243163     0.251986   0.254889     0.257200  0.262070   0.244328   \n",
       "GDV      0.180982     0.168919   0.163388     0.146784  0.148323   0.178690   \n",
       "GDV      0.180982     0.168919   0.163388     0.146784  0.148323   0.178690   \n",
       "GDV      0.180982     0.168919   0.163388     0.146784  0.148323   0.178690   \n",
       "\n",
       "       hellinger  chebyshev  canberra  mahalanobis  seuclidean  GDV_similarity  \n",
       "GCV-G   0.269347   0.261077  0.255405          NaN         NaN             NaN  \n",
       "GCV-G   0.269347   0.261077  0.255405          NaN         NaN             NaN  \n",
       "GCV-G   0.269347   0.261077  0.255405          NaN         NaN             NaN  \n",
       "GCV-G   0.269347   0.261077  0.255405          NaN         NaN             NaN  \n",
       "GCV-G   0.269347   0.261077  0.255405          NaN         NaN             NaN  \n",
       "GCV-G   0.269347   0.261077  0.255405          NaN         NaN             NaN  \n",
       "GCV-G   0.269347   0.261077  0.255405          NaN         NaN             NaN  \n",
       "GCV-G   0.269347   0.261077  0.255405          NaN         NaN             NaN  \n",
       "GCV-G   0.269347   0.261077  0.255405          NaN         NaN             NaN  \n",
       "GDV     0.179179   0.134228  0.198293     0.330355    0.251505        0.187078  \n",
       "GDV     0.179179   0.134228  0.198293     0.330355    0.251505        0.187078  \n",
       "GDV     0.179179   0.134228  0.198293     0.330355    0.251505        0.187078  "
      ]
     },
     "execution_count": 18,
     "metadata": {},
     "output_type": "execute_result"
    }
   ],
   "source": [
    "df.loc[idx]"
   ]
  },
  {
   "cell_type": "code",
   "execution_count": 9,
   "metadata": {},
   "outputs": [
    {
     "data": {
      "text/html": [
       "<div>\n",
       "<style scoped>\n",
       "    .dataframe tbody tr th:only-of-type {\n",
       "        vertical-align: middle;\n",
       "    }\n",
       "\n",
       "    .dataframe tbody tr th {\n",
       "        vertical-align: top;\n",
       "    }\n",
       "\n",
       "    .dataframe thead th {\n",
       "        text-align: right;\n",
       "    }\n",
       "</style>\n",
       "<table border=\"1\" class=\"dataframe\">\n",
       "  <thead>\n",
       "    <tr style=\"text-align: right;\">\n",
       "      <th></th>\n",
       "      <th>braycurtis</th>\n",
       "      <th>sqeuclidean</th>\n",
       "      <th>euclidean</th>\n",
       "      <th>correlation</th>\n",
       "      <th>cosine</th>\n",
       "      <th>cityblock</th>\n",
       "      <th>hellinger</th>\n",
       "      <th>chebyshev</th>\n",
       "      <th>canberra</th>\n",
       "      <th>mahalanobis</th>\n",
       "      <th>seuclidean</th>\n",
       "      <th>GDV_similarity</th>\n",
       "    </tr>\n",
       "  </thead>\n",
       "  <tbody>\n",
       "    <tr>\n",
       "      <th>GCV-A</th>\n",
       "      <td>0.151184</td>\n",
       "      <td>0.172307</td>\n",
       "      <td>0.164133</td>\n",
       "      <td>0.192666</td>\n",
       "      <td>0.171218</td>\n",
       "      <td>0.157086</td>\n",
       "      <td>0.174408</td>\n",
       "      <td>0.168583</td>\n",
       "      <td>0.164840</td>\n",
       "      <td>NaN</td>\n",
       "      <td>NaN</td>\n",
       "      <td>NaN</td>\n",
       "    </tr>\n",
       "    <tr>\n",
       "      <th>GDV</th>\n",
       "      <td>0.180982</td>\n",
       "      <td>0.168919</td>\n",
       "      <td>0.163388</td>\n",
       "      <td>0.146784</td>\n",
       "      <td>0.148323</td>\n",
       "      <td>0.178690</td>\n",
       "      <td>0.179179</td>\n",
       "      <td>0.134228</td>\n",
       "      <td>0.198293</td>\n",
       "      <td>0.330355</td>\n",
       "      <td>0.251505</td>\n",
       "      <td>0.187078</td>\n",
       "    </tr>\n",
       "    <tr>\n",
       "      <th>GCV-3</th>\n",
       "      <td>0.122364</td>\n",
       "      <td>0.127063</td>\n",
       "      <td>0.125134</td>\n",
       "      <td>0.067609</td>\n",
       "      <td>0.123988</td>\n",
       "      <td>0.118793</td>\n",
       "      <td>0.124637</td>\n",
       "      <td>0.126623</td>\n",
       "      <td>0.120264</td>\n",
       "      <td>NaN</td>\n",
       "      <td>NaN</td>\n",
       "      <td>NaN</td>\n",
       "    </tr>\n",
       "    <tr>\n",
       "      <th>GCV-G</th>\n",
       "      <td>0.243163</td>\n",
       "      <td>0.251986</td>\n",
       "      <td>0.254889</td>\n",
       "      <td>0.257200</td>\n",
       "      <td>0.262070</td>\n",
       "      <td>0.244328</td>\n",
       "      <td>0.269347</td>\n",
       "      <td>0.261077</td>\n",
       "      <td>0.255405</td>\n",
       "      <td>NaN</td>\n",
       "      <td>NaN</td>\n",
       "      <td>NaN</td>\n",
       "    </tr>\n",
       "  </tbody>\n",
       "</table>\n",
       "</div>"
      ],
      "text/plain": [
       "       braycurtis  sqeuclidean  euclidean  correlation    cosine  cityblock  \\\n",
       "GCV-A    0.151184     0.172307   0.164133     0.192666  0.171218   0.157086   \n",
       "GDV      0.180982     0.168919   0.163388     0.146784  0.148323   0.178690   \n",
       "GCV-3    0.122364     0.127063   0.125134     0.067609  0.123988   0.118793   \n",
       "GCV-G    0.243163     0.251986   0.254889     0.257200  0.262070   0.244328   \n",
       "\n",
       "       hellinger  chebyshev  canberra  mahalanobis  seuclidean  GDV_similarity  \n",
       "GCV-A   0.174408   0.168583  0.164840          NaN         NaN             NaN  \n",
       "GDV     0.179179   0.134228  0.198293     0.330355    0.251505        0.187078  \n",
       "GCV-3   0.124637   0.126623  0.120264          NaN         NaN             NaN  \n",
       "GCV-G   0.269347   0.261077  0.255405          NaN         NaN             NaN  "
      ]
     },
     "execution_count": 9,
     "metadata": {},
     "output_type": "execute_result"
    }
   ],
   "source": [
    "df"
   ]
  },
  {
   "cell_type": "code",
   "execution_count": 24,
   "metadata": {},
   "outputs": [
    {
     "data": {
      "text/html": [
       "<div>\n",
       "<style scoped>\n",
       "    .dataframe tbody tr th:only-of-type {\n",
       "        vertical-align: middle;\n",
       "    }\n",
       "\n",
       "    .dataframe tbody tr th {\n",
       "        vertical-align: top;\n",
       "    }\n",
       "\n",
       "    .dataframe thead th {\n",
       "        text-align: right;\n",
       "    }\n",
       "</style>\n",
       "<table border=\"1\" class=\"dataframe\">\n",
       "  <thead>\n",
       "    <tr style=\"text-align: right;\">\n",
       "      <th></th>\n",
       "      <th>GDV</th>\n",
       "    </tr>\n",
       "  </thead>\n",
       "  <tbody>\n",
       "    <tr>\n",
       "      <th>mahalanobis</th>\n",
       "      <td>0.286341</td>\n",
       "    </tr>\n",
       "    <tr>\n",
       "      <th>seuclidean</th>\n",
       "      <td>0.239450</td>\n",
       "    </tr>\n",
       "    <tr>\n",
       "      <th>canberra</th>\n",
       "      <td>0.192285</td>\n",
       "    </tr>\n",
       "    <tr>\n",
       "      <th>braycurtis</th>\n",
       "      <td>0.188662</td>\n",
       "    </tr>\n",
       "    <tr>\n",
       "      <th>cityblock</th>\n",
       "      <td>0.184667</td>\n",
       "    </tr>\n",
       "    <tr>\n",
       "      <th>GDV_similarity</th>\n",
       "      <td>0.182297</td>\n",
       "    </tr>\n",
       "  </tbody>\n",
       "</table>\n",
       "</div>"
      ],
      "text/plain": [
       "                     GDV\n",
       "mahalanobis     0.286341\n",
       "seuclidean      0.239450\n",
       "canberra        0.192285\n",
       "braycurtis      0.188662\n",
       "cityblock       0.184667\n",
       "GDV_similarity  0.182297"
      ]
     },
     "execution_count": 24,
     "metadata": {},
     "output_type": "execute_result"
    }
   ],
   "source": [
    "df.T.nlargest(6, 'GDV')"
   ]
  },
  {
   "cell_type": "code",
   "execution_count": 17,
   "metadata": {},
   "outputs": [
    {
     "data": {
      "text/plain": [
       "'/usr/lib/python36.zip'"
      ]
     },
     "execution_count": 17,
     "metadata": {},
     "output_type": "execute_result"
    }
   ],
   "source": [
    "sys.path[0]"
   ]
  },
  {
   "cell_type": "code",
   "execution_count": 4,
   "metadata": {},
   "outputs": [
    {
     "data": {
      "text/plain": [
       "0.21400504341164456"
      ]
     },
     "execution_count": 4,
     "metadata": {},
     "output_type": "execute_result"
    }
   ],
   "source": [
    "np.mean([np.mean(np.loadtxt(f\"{ENRICHMENT_DIRECTORY}/{file}\")) \n",
    "            for file in os.listdir(ENRICHMENT_DIRECTORY) if file.endswith('genes.csv')])"
   ]
  },
  {
   "cell_type": "code",
   "execution_count": 5,
   "metadata": {},
   "outputs": [
    {
     "data": {
      "text/plain": [
       "10"
      ]
     },
     "execution_count": 5,
     "metadata": {},
     "output_type": "execute_result"
    }
   ],
   "source": [
    "len([np.mean(np.loadtxt(f\"{ENRICHMENT_DIRECTORY}/{file}\")) \n",
    "            for file in os.listdir(ENRICHMENT_DIRECTORY) if file.endswith('genes.csv')])"
   ]
  },
  {
   "cell_type": "code",
   "execution_count": 10,
   "metadata": {},
   "outputs": [
    {
     "ename": "SyntaxError",
     "evalue": "invalid syntax (<ipython-input-10-12f8e8eefdf6>, line 1)",
     "output_type": "error",
     "traceback": [
      "\u001b[0;36m  File \u001b[0;32m\"<ipython-input-10-12f8e8eefdf6>\"\u001b[0;36m, line \u001b[0;32m1\u001b[0m\n\u001b[0;31m    for file in os.listdir(ENRICHMENT_DIRECTORY) if True:\u001b[0m\n\u001b[0m                                                        ^\u001b[0m\n\u001b[0;31mSyntaxError\u001b[0m\u001b[0;31m:\u001b[0m invalid syntax\n"
     ]
    }
   ],
   "source": [
    "avg_gene_coverage = "
   ]
  },
  {
   "cell_type": "code",
   "execution_count": 7,
   "metadata": {},
   "outputs": [],
   "source": [
    "df = pd.DataFrame()"
   ]
  },
  {
   "cell_type": "code",
   "execution_count": 8,
   "metadata": {},
   "outputs": [],
   "source": [
    "df.loc['a','b'] = 0"
   ]
  },
  {
   "cell_type": "code",
   "execution_count": null,
   "metadata": {},
   "outputs": [],
   "source": []
  }
 ],
 "metadata": {
  "kernelspec": {
   "display_name": "graco",
   "language": "python",
   "name": "graco"
  },
  "language_info": {
   "codemirror_mode": {
    "name": "ipython",
    "version": 3
   },
   "file_extension": ".py",
   "mimetype": "text/x-python",
   "name": "python",
   "nbconvert_exporter": "python",
   "pygments_lexer": "ipython3",
   "version": "3.7.4"
  }
 },
 "nbformat": 4,
 "nbformat_minor": 2
}
