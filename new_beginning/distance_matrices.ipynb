{
 "cells": [
  {
   "cell_type": "code",
   "execution_count": 1,
   "metadata": {},
   "outputs": [],
   "source": [
    "from scipy.spatial.distance import squareform, pdist, cdist\n",
    "from itertools import islice, combinations, product\n",
    "from pyclustering.cluster.kmedoids import kmedoids\n",
    "\n",
    "import os\n",
    "import time\n",
    "import graco\n",
    "import numpy as np\n",
    "import pandas as pd\n",
    "import seaborn as sns\n",
    "import networkx as nx\n",
    "import matplotlib.pyplot as plt"
   ]
  },
  {
   "cell_type": "code",
   "execution_count": 2,
   "metadata": {},
   "outputs": [],
   "source": [
    "%matplotlib inline\n",
    "sns.set()\n",
    "pd.set_option(\"display.max_columns\", 50)\n",
    "\n",
    "DATA_DIRECTORY = \"/home/clusterduck123/Desktop/git/supplements/data\"\n",
    "CPP_DIRECTORY = \"/home/clusterduck123/Desktop/git/graco/graco/cpp\""
   ]
  },
  {
   "cell_type": "code",
   "execution_count": 3,
   "metadata": {},
   "outputs": [],
   "source": [
    "RAW_DATA_DIRECTORY = f\"{DATA_DIRECTORY}/raw_data\"\n",
    "PPI_DIRECTORY = f\"{DATA_DIRECTORY}/PPI\"\n",
    "ANNOTATIONS_DIRECTORY = f\"{DATA_DIRECTORY}/annotations\"\n",
    "MATRIX_DIRECTORY = f\"{DATA_DIRECTORY}/matrix\"\n",
    "CLUSTERS_DIRECTORY = f\"{DATA_DIRECTORY}/clusters\"\n",
    "\n",
    "if not os.path.exists(DATA_DIRECTORY):\n",
    "    os.makedirs(DATA_DIRECTORY)\n",
    "        \n",
    "if not os.path.exists(RAW_DATA_DIRECTORY):\n",
    "    os.makedirs(RAW_DATA_DIRECTORY)     \n",
    "    \n",
    "if not os.path.exists(PPI_DIRECTORY):\n",
    "    os.makedirs(PPI_DIRECTORY)\n",
    "    \n",
    "if not os.path.exists(ANNOTATIONS_DIRECTORY):\n",
    "    os.makedirs(ANNOTATIONS_DIRECTORY)\n",
    "    \n",
    "if not os.path.exists(MATRIX_DIRECTORY):\n",
    "    os.makedirs(MATRIX_DIRECTORY)\n",
    "    \n",
    "if not os.path.exists(CLUSTERS_DIRECTORY):\n",
    "    os.makedirs(CLUSTERS_DIRECTORY)"
   ]
  },
  {
   "cell_type": "markdown",
   "metadata": {},
   "source": [
    "# Distance matrices"
   ]
  },
  {
   "cell_type": "code",
   "execution_count": 4,
   "metadata": {},
   "outputs": [],
   "source": [
    "PPI_nx = nx.read_edgelist(f\"{PPI_DIRECTORY}/BioGRID_sc.txt\")\n",
    "GDV = graco.orbits(PPI_nx)\n",
    "GCV = graco.coefficients(GDV)"
   ]
  },
  {
   "cell_type": "markdown",
   "metadata": {},
   "source": [
    "## GDV-based"
   ]
  },
  {
   "cell_type": "markdown",
   "metadata": {},
   "source": [
    "### GDV similarity"
   ]
  },
  {
   "cell_type": "code",
   "execution_count": 22,
   "metadata": {},
   "outputs": [],
   "source": [
    "np.savetxt(f\"{CPP_DIRECTORY}/matrix.in\", GDV, \n",
    "           header=f\"{len(GDV)} 15\", fmt='%d')"
   ]
  },
  {
   "cell_type": "code",
   "execution_count": 23,
   "metadata": {},
   "outputs": [],
   "source": [
    "D = np.genfromtxt(f\"{CPP_DIRECTORY}/matrix.out\")\n",
    "np.savetxt(f\"{MATRIX_DIRECTORY}/sc_BioGRID_GDV_similarity.txt\", D, \n",
    "           fmt='%.7f', header=' '.join(PPI_nx), comments='')"
   ]
  },
  {
   "cell_type": "markdown",
   "metadata": {},
   "source": [
    "#### Rest"
   ]
  },
  {
   "cell_type": "code",
   "execution_count": 20,
   "metadata": {},
   "outputs": [],
   "source": [
    "all_distances = ['euclidean', 'cityblock', 'seuclidean', 'sqeuclidean', \n",
    "                 'cosine', 'correlation', 'chebyshev', 'canberra', \n",
    "                 'braycurtis', 'mahalanobis']"
   ]
  },
  {
   "cell_type": "code",
   "execution_count": 21,
   "metadata": {},
   "outputs": [],
   "source": [
    "for distance in all_distances:\n",
    "    D = cdist(GDV.values, GDV.values, distance)\n",
    "    np.savetxt(f\"{MATRIX_DIRECTORY}/sc_BioGRID_GDV_{distance}.txt\", D, \n",
    "               fmt='%.7f', header=' '.join(PPI_nx), comments='')"
   ]
  },
  {
   "cell_type": "markdown",
   "metadata": {},
   "source": [
    "## GCV-based"
   ]
  },
  {
   "cell_type": "code",
   "execution_count": 5,
   "metadata": {},
   "outputs": [],
   "source": [
    "PPI_nx = nx.read_edgelist(f\"{PPI_DIRECTORY}/BioGRID_sc.txt\")\n",
    "GCV = graco.coefficients(PPI_nx)"
   ]
  },
  {
   "cell_type": "markdown",
   "metadata": {},
   "source": [
    "### Hellinger - single"
   ]
  },
  {
   "cell_type": "code",
   "execution_count": 6,
   "metadata": {},
   "outputs": [],
   "source": [
    "_SQRT2 = np.sqrt(2) \n",
    "\n",
    "def hellinger(p, q):\n",
    "    return np.sqrt(np.sum((np.sqrt(p) - np.sqrt(q)) ** 2)) / _SQRT2"
   ]
  },
  {
   "cell_type": "code",
   "execution_count": null,
   "metadata": {},
   "outputs": [
    {
     "name": "stdout",
     "output_type": "stream",
     "text": [
      "0-0: 242.75sec\n"
     ]
    }
   ],
   "source": [
    "for order,source in set((order,source) for order,source,target in GCV.columns):\n",
    "    t1 = time.time()\n",
    "    D = cdist(np.array(GCV[order][source]), np.array(GCV[order][source]), hellinger)\n",
    "    t2 = time.time()\n",
    "    print(f'{order}-{source}: {t2-t1:.2f}sec')  \n",
    "    np.savetxt(f\"{MATRIX_DIRECTORY}/sc_BioGRID_{order}GCV{source}_hellinger.txt\", D, \n",
    "               fmt='%.7f', header=' '.join(PPI_nx), comments='')"
   ]
  },
  {
   "cell_type": "markdown",
   "metadata": {},
   "source": [
    "### Hellinger - combination"
   ]
  },
  {
   "cell_type": "code",
   "execution_count": null,
   "metadata": {},
   "outputs": [],
   "source": [
    "D_list = []\n",
    "\n",
    "for order,source in set((order,source) for order,source,target in GCV.columns):\n",
    "    df = pd.read_csv(f\"{MATRIX_DIRECTORY}/sc_BioGRID_{order}GCV{source}_hellinger.txt\", delimiter=' ')\n",
    "    D_list.append(np.array(df))\n",
    "\n",
    "D = np.nanmean(D_list, axis=0)\n",
    "np.savetxt(f\"{MATRIX_DIRECTORY}/sc_BioGRID_GCV_hellinger.txt\", D, \n",
    "               fmt='%.7f', header=' '.join(PPI_nx), comments='')"
   ]
  },
  {
   "cell_type": "markdown",
   "metadata": {},
   "source": [
    "### TVD - single"
   ]
  },
  {
   "cell_type": "code",
   "execution_count": null,
   "metadata": {},
   "outputs": [],
   "source": [
    "for order,source in set((order,source) for order,source,target in GCV.columns):\n",
    "    t1 = time.time()\n",
    "    D = cdist(np.array(GCV[order][source]), np.array(GCV[order][source]), graco.functions.tvd)\n",
    "    t2 = time.time()\n",
    "    print(f'{order}-{source}: {t2-t1:.2f}sec')  \n",
    "    np.savetxt(f\"{MATRIX_DIRECTORY}/sc_BioGRID_{order}GCV{source}_tvd.txt\", D, \n",
    "               fmt='%.7f', header=' '.join(PPI_nx), comments='')"
   ]
  },
  {
   "cell_type": "markdown",
   "metadata": {},
   "source": [
    "### TVD - combination"
   ]
  },
  {
   "cell_type": "code",
   "execution_count": null,
   "metadata": {},
   "outputs": [],
   "source": [
    "D_list = []\n",
    "\n",
    "for order,source in set((order,source) for order,source,target in GCV.columns):\n",
    "    df = pd.read_csv(f\"{MATRIX_DIRECTORY}/sc_BioGRID_{order}GCV{source}_TVD.txt\", delimiter=' ')\n",
    "    D_list.append(np.array(df))\n",
    "\n",
    "D = np.nanmean(D_list, axis=0)\n",
    "np.savetxt(f\"{MATRIX_DIRECTORY}/sc_BioGRID_GCV_TVD.txt\", D, \n",
    "               fmt='%.7f', header=' '.join(PPI_nx), comments='')"
   ]
  },
  {
   "cell_type": "markdown",
   "metadata": {},
   "source": [
    "### Rest"
   ]
  },
  {
   "cell_type": "code",
   "execution_count": 7,
   "metadata": {},
   "outputs": [],
   "source": [
    "GCV = GCV.fillna(0)\n",
    "all_distances = ['euclidean', 'cityblock', 'seuclidean', 'sqeuclidean', \n",
    "                 'cosine', 'correlation', 'chebyshev', 'canberra', \n",
    "                 'braycurtis', 'mahalanobis']"
   ]
  },
  {
   "cell_type": "code",
   "execution_count": 16,
   "metadata": {},
   "outputs": [],
   "source": [
    "for distance in all_distances:\n",
    "    D = cdist(GCV.values, GCV.values, distance)\n",
    "    np.savetxt(f\"{MATRIX_DIRECTORY}/sc_BioGRID_GCV_{distance}.txt\", D, \n",
    "               fmt='%.7f', header=' '.join(PPI_nx), comments='')"
   ]
  },
  {
   "cell_type": "markdown",
   "metadata": {},
   "source": [
    "# Clustering"
   ]
  },
  {
   "cell_type": "code",
   "execution_count": null,
   "metadata": {},
   "outputs": [],
   "source": []
  }
 ],
 "metadata": {
  "kernelspec": {
   "display_name": "graco",
   "language": "python",
   "name": "graco"
  },
  "language_info": {
   "codemirror_mode": {
    "name": "ipython",
    "version": 3
   },
   "file_extension": ".py",
   "mimetype": "text/x-python",
   "name": "python",
   "nbconvert_exporter": "python",
   "pygments_lexer": "ipython3",
   "version": "3.6.8"
  }
 },
 "nbformat": 4,
 "nbformat_minor": 2
}
