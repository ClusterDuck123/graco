{
 "cells": [
  {
   "cell_type": "code",
   "execution_count": 1,
   "metadata": {},
   "outputs": [],
   "source": [
    "from sklearn.metrics.pairwise import cosine_distances\n",
    "from scipy.spatial.distance import squareform, pdist, cdist\n",
    "from itertools import islice, combinations, product\n",
    "from pyclustering.cluster.kmedoids import kmedoids\n",
    "from collections import defaultdict\n",
    "from sklearn.cluster import KMeans\n",
    "from scipy.stats import hypergeom\n",
    "from goatools import obo_parser\n",
    "from scipy.linalg import eigh\n",
    "from zipfile import ZipFile\n",
    "\n",
    "import os\n",
    "import time\n",
    "import gzip\n",
    "import graco\n",
    "import shutil\n",
    "import requests\n",
    "import numpy as np\n",
    "import pandas as pd\n",
    "import seaborn as sns\n",
    "import networkx as nx\n",
    "import Bio.UniProt.GOA as GOA\n",
    "import matplotlib.pyplot as plt"
   ]
  },
  {
   "cell_type": "code",
   "execution_count": 4,
   "metadata": {},
   "outputs": [],
   "source": [
    "%matplotlib inline\n",
    "sns.set()\n",
    "pd.set_option(\"display.max_columns\", 50)\n",
    "\n",
    "DATA_DIRECTORY = \"/Users/markusyoussef/Desktop/git/supplements/data\"\n",
    "CPP_DIRECTORY = \"/Users/markusyoussef/Desktop/git/graco/graco/cpp\""
   ]
  },
  {
   "cell_type": "code",
   "execution_count": 5,
   "metadata": {},
   "outputs": [],
   "source": [
    "RAW_DATA_DIRECTORY = f\"{DATA_DIRECTORY}/raw_data\"\n",
    "PPI_DIRECTORY = f\"{DATA_DIRECTORY}/PPI\"\n",
    "ANNOTATIONS_DIRECTORY = f\"{DATA_DIRECTORY}/annotations\"\n",
    "MATRIX_DIRECTORY = f\"{DATA_DIRECTORY}/matrix\"\n",
    "CLUSTERS_DIRECTORY = f\"{DATA_DIRECTORY}/clusters\"\n",
    "\n",
    "if not os.path.exists(DATA_DIRECTORY):\n",
    "    os.makedirs(DATA_DIRECTORY)\n",
    "        \n",
    "if not os.path.exists(RAW_DATA_DIRECTORY):\n",
    "    os.makedirs(RAW_DATA_DIRECTORY)     \n",
    "    \n",
    "if not os.path.exists(PPI_DIRECTORY):\n",
    "    os.makedirs(PPI_DIRECTORY)\n",
    "    \n",
    "if not os.path.exists(ANNOTATIONS_DIRECTORY):\n",
    "    os.makedirs(ANNOTATIONS_DIRECTORY)\n",
    "    \n",
    "if not os.path.exists(MATRIX_DIRECTORY):\n",
    "    os.makedirs(MATRIX_DIRECTORY)\n",
    "    \n",
    "if not os.path.exists(CLUSTERS_DIRECTORY):\n",
    "    os.makedirs(CLUSTERS_DIRECTORY)"
   ]
  },
  {
   "cell_type": "markdown",
   "metadata": {},
   "source": [
    "# Downloads"
   ]
  },
  {
   "cell_type": "markdown",
   "metadata": {},
   "source": [
    "### BioGRID"
   ]
  },
  {
   "cell_type": "code",
   "execution_count": 6,
   "metadata": {},
   "outputs": [],
   "source": [
    "if not os.path.exists(RAW_DATA_DIRECTORY):\n",
    "     os.makedirs(directory)\n",
    "\n",
    "BioGRID_FILENAME = \"BIOGRID-ORGANISM-3.5.177.tab2.zip\"\n",
    "BioGRID_URL = \"https://downloads.thebiogrid.org/Download/BioGRID/Release-Archive/BIOGRID-3.5.177\"\n",
    "BioGRID_FILEPATH = f\"{RAW_DATA_DIRECTORY}/{BioGRID_FILENAME}\" "
   ]
  },
  {
   "cell_type": "code",
   "execution_count": 7,
   "metadata": {},
   "outputs": [],
   "source": [
    "# Download\n",
    "r = requests.get(f\"{BioGRID_URL}/{BioGRID_FILENAME}\", allow_redirects=True)\n",
    "with open(BioGRID_FILEPATH, 'wb') as f:\n",
    "    f.write(r.content)"
   ]
  },
  {
   "cell_type": "code",
   "execution_count": 8,
   "metadata": {},
   "outputs": [],
   "source": [
    "# Unzip Saccharomyces cerevisiae file\n",
    "with ZipFile(BioGRID_FILEPATH, 'r') as z:\n",
    "    BioGRID_sc_FILENAME, = [name for name in z.namelist() if 'cerevisiae' in name.lower()]\n",
    "    z.extract(BioGRID_sc_FILENAME, RAW_DATA_DIRECTORY)"
   ]
  },
  {
   "cell_type": "markdown",
   "metadata": {},
   "source": [
    "### SGD annotations"
   ]
  },
  {
   "cell_type": "code",
   "execution_count": 9,
   "metadata": {},
   "outputs": [],
   "source": [
    "SGD_FILENAME = \"sgd.gaf.gz\"\n",
    "SGD_URL = \"http://current.geneontology.org/annotations\"\n",
    "SGD_FILEPATH = f\"{RAW_DATA_DIRECTORY}/{SGD_FILENAME}\""
   ]
  },
  {
   "cell_type": "code",
   "execution_count": 10,
   "metadata": {},
   "outputs": [],
   "source": [
    "# Download\n",
    "r = requests.get(f\"{SGD_URL}/{SGD_FILENAME}\", allow_redirects=True)\n",
    "with open(SGD_FILEPATH, 'wb') as f:\n",
    "    f.write(r.content)"
   ]
  },
  {
   "cell_type": "markdown",
   "metadata": {},
   "source": [
    "### GO"
   ]
  },
  {
   "cell_type": "code",
   "execution_count": 11,
   "metadata": {},
   "outputs": [],
   "source": [
    "GO_FILENAME = \"go-basic.obo\"\n",
    "GO_URL = \"http://purl.obolibrary.org/obo/go\"\n",
    "GO_FILEPATH = f\"{RAW_DATA_DIRECTORY}/{GO_FILENAME}\""
   ]
  },
  {
   "cell_type": "code",
   "execution_count": 12,
   "metadata": {},
   "outputs": [],
   "source": [
    "# Download\n",
    "r = requests.get(f\"{GO_URL}/{GO_FILENAME}\", allow_redirects=True)\n",
    "with open(GO_FILEPATH, 'wb') as f:\n",
    "    f.write(r.content)"
   ]
  },
  {
   "cell_type": "markdown",
   "metadata": {},
   "source": [
    "# BioGRID PPI (S. cerevisiae)"
   ]
  },
  {
   "cell_type": "markdown",
   "metadata": {},
   "source": [
    "## Define interactor universes"
   ]
  },
  {
   "cell_type": "code",
   "execution_count": 13,
   "metadata": {},
   "outputs": [],
   "source": [
    "# load BioGRID file as dataframe\n",
    "organism_FILENAME = \"BIOGRID-ORGANISM-Saccharomyces_cerevisiae_S288c-3.5.177.tab2.txt\"\n",
    "organism_FILEPATH = f\"{RAW_DATA_DIRECTORY}/{organism_FILENAME}\"\n",
    "\n",
    "# remove entrez ids and scores because of mixed datatypes \n",
    "BioGRID_df = pd.read_csv(organism_FILEPATH, delimiter='\\t',\n",
    "                           usecols=[index for index in range(24) if index not in {1,2,18}])"
   ]
  },
  {
   "cell_type": "code",
   "execution_count": 14,
   "metadata": {},
   "outputs": [],
   "source": [
    "# BioGRID universe is the collection of every gene known to BioGRID\n",
    "universe = set(BioGRID_df['BioGRID ID Interactor A']) | \\\n",
    "           set(BioGRID_df['BioGRID ID Interactor B'])\n",
    "\n",
    "systematic_universe = set(BioGRID_df['Systematic Name Interactor A']) | \\\n",
    "                      set(BioGRID_df['Systematic Name Interactor B'])\n",
    "systematic_universe.remove('-')"
   ]
  },
  {
   "cell_type": "code",
   "execution_count": 15,
   "metadata": {},
   "outputs": [],
   "source": [
    "# Filter for (reliable) physical interactions\n",
    "EXPERIMENTAL_SYSTEM = {'Two-hybrid', \n",
    "                       'Affinity Capture-Luminescence',\n",
    "                       'Affinity Capture-MS', \n",
    "                       'Affinity Capture-RNA', \n",
    "                       'Affinity Capture-Western'}\n",
    "EXPERIMENTAL_SYSTEM_TYPE = {'physical'} # redundant because of experimental evidence filtering\n",
    "\n",
    "physical_interaction_df = BioGRID_df[BioGRID_df['Experimental System'].isin(EXPERIMENTAL_SYSTEM)]\n",
    "physical_interaction_df = physical_interaction_df[\n",
    "    physical_interaction_df['Experimental System Type'].isin(EXPERIMENTAL_SYSTEM_TYPE)] # just in case...\n",
    "\n",
    "\n",
    "physical_universe = set(physical_interaction_df['BioGRID ID Interactor A']) | \\\n",
    "                            set(physical_interaction_df['BioGRID ID Interactor B'])\n",
    "\n",
    "systematic_physical_universe = set(physical_interaction_df['Systematic Name Interactor A']) | \\\n",
    "                                       set(physical_interaction_df['Systematic Name Interactor B'])\n",
    "systematic_physical_universe.remove('-')"
   ]
  },
  {
   "cell_type": "markdown",
   "metadata": {},
   "source": [
    "## Define PPI"
   ]
  },
  {
   "cell_type": "code",
   "execution_count": 16,
   "metadata": {},
   "outputs": [],
   "source": [
    "# PPI in dataframe\n",
    "PPI_df = physical_interaction_df[\n",
    "    physical_interaction_df[\"Systematic Name Interactor A\"].str.startswith('Y') & \\\n",
    "    physical_interaction_df[\"Systematic Name Interactor B\"].str.startswith('Y')]\n",
    "\n",
    "PPI_universe = set(PPI_df['Systematic Name Interactor A']) | \\\n",
    "               set(PPI_df['Systematic Name Interactor B'])"
   ]
  },
  {
   "cell_type": "code",
   "execution_count": 17,
   "metadata": {},
   "outputs": [],
   "source": [
    "# Reduce PPI to simple network\n",
    "PPI_nx = nx.from_pandas_edgelist(PPI_df,'Systematic Name Interactor A', 'Systematic Name Interactor B')\n",
    "PPI_nx.remove_edges_from(nx.selfloop_edges(PPI_nx))"
   ]
  },
  {
   "cell_type": "markdown",
   "metadata": {},
   "source": [
    "### Summary"
   ]
  },
  {
   "cell_type": "code",
   "execution_count": 18,
   "metadata": {},
   "outputs": [
    {
     "name": "stdout",
     "output_type": "stream",
     "text": [
      "BioGRID universe sizes:\n",
      "=========================\n",
      "    -         -    : 7172\n",
      "systematic    -    : 6535\n",
      "    -      physical: 6551\n",
      "systematic physical: 6121\n",
      "-------------------------\n",
      "PPI population size: 5726\n"
     ]
    }
   ],
   "source": [
    "print(\"BioGRID universe sizes:\")\n",
    "print(\"=========================\")\n",
    "print(f\"    -         -    : {len(universe)}\")\n",
    "print(f\"systematic    -    : {len(systematic_universe)}\")\n",
    "print(f\"    -      physical: {len(physical_universe)}\")\n",
    "print(f\"systematic physical: {len(systematic_physical_universe)}\")\n",
    "print(\"-------------------------\")\n",
    "print(f\"PPI population size: {PPI_nx.number_of_nodes()}\")"
   ]
  },
  {
   "cell_type": "markdown",
   "metadata": {},
   "source": [
    "### Save"
   ]
  },
  {
   "cell_type": "code",
   "execution_count": 19,
   "metadata": {},
   "outputs": [],
   "source": [
    "nx.write_edgelist(PPI_nx, f\"{PPI_DIRECTORY}/BioGRID_sc.txt\", data=False)"
   ]
  },
  {
   "cell_type": "markdown",
   "metadata": {},
   "source": [
    "# SGD annotations (S. cerevisiae)"
   ]
  },
  {
   "cell_type": "code",
   "execution_count": 20,
   "metadata": {},
   "outputs": [],
   "source": [
    "SGD_FILENAME = \"sgd.gaf.gz\"\n",
    "SGD_FILEPATH = f\"{RAW_DATA_DIRECTORY}/{SGD_FILENAME}\"\n",
    "\n",
    "# load SGD gaf-file as dataframe \n",
    "with gzip.open(SGD_FILEPATH, 'rt') as gz:\n",
    "    SGD_df = pd.DataFrame(annotation for annotation in GOA.gafiterator(gz))\n",
    "    \n",
    "# Define column with systematic gene names. In SGD this is always the first synonym.\n",
    "SGD_df['Systematic_ID']  = SGD_df.Synonym.apply(lambda list_:list_[0])"
   ]
  },
  {
   "cell_type": "code",
   "execution_count": 21,
   "metadata": {},
   "outputs": [],
   "source": [
    "# Filter for proteins\n",
    "lc_protein_gaf_df = SGD_df[SGD_df['Systematic_ID'].str.startswith('Y')]\n",
    "\n",
    "# Filter through evidence code\n",
    "protein_gaf_df = lc_protein_gaf_df[lc_protein_gaf_df['Evidence'].isin(['EXP', 'IDA', 'IPI', 'IMP', 'IGI', 'IEP'])]\n",
    "\n",
    "# Split into the three GOs\n",
    "protein_BP_gaf_df = protein_gaf_df[protein_gaf_df['Aspect']=='P']\n",
    "protein_MF_gaf_df = protein_gaf_df[protein_gaf_df['Aspect']=='F']\n",
    "protein_CC_gaf_df = protein_gaf_df[protein_gaf_df['Aspect']=='C']"
   ]
  },
  {
   "cell_type": "code",
   "execution_count": 22,
   "metadata": {},
   "outputs": [],
   "source": [
    "# Get rid of all unnecesarry columns in the GAFs\n",
    "high_IC_annotations_df = protein_gaf_df[['Systematic_ID', 'GO_ID']].dropna().drop_duplicates()\n",
    "\n",
    "# Split into the three GOs\n",
    "high_IC_BP_annotations_df = protein_BP_gaf_df[['Systematic_ID', 'GO_ID']].dropna().drop_duplicates()\n",
    "high_IC_MF_annotations_df = protein_MF_gaf_df[['Systematic_ID', 'GO_ID']].dropna().drop_duplicates()\n",
    "high_IC_CC_annotations_df = protein_CC_gaf_df[['Systematic_ID', 'GO_ID']].dropna().drop_duplicates()"
   ]
  },
  {
   "cell_type": "markdown",
   "metadata": {},
   "source": [
    "### GO DAG extention"
   ]
  },
  {
   "cell_type": "code",
   "execution_count": 23,
   "metadata": {},
   "outputs": [
    {
     "name": "stdout",
     "output_type": "stream",
     "text": [
      "/Users/markusyoussef/Desktop/git/supplements/data/raw_data/go-basic.obo: fmt(1.2) rel(2019-10-07) 47,285 GO Terms\n"
     ]
    }
   ],
   "source": [
    "# Load obo and gaf files\n",
    "GO_FILENAME = \"go-basic.obo\"\n",
    "GO_FILEPATH = f\"{RAW_DATA_DIRECTORY}/{GO_FILENAME}\"\n",
    "\n",
    "# Create annotations with all upstream terms in dict\n",
    "go_dag = obo_parser.GODag(GO_FILEPATH)\n",
    "go2parents = {go_id:{*go_dag[go_id].get_all_parents(), go_id} for go_id in go_dag.keys()}"
   ]
  },
  {
   "cell_type": "code",
   "execution_count": 24,
   "metadata": {},
   "outputs": [],
   "source": [
    "# Create full list/dataframe of annotations\n",
    "all_annotations_list = [(gene_id, go_term, go_dag[go_term].level) \n",
    "                                for _, (gene_id, go_id) in high_IC_annotations_df.iterrows()\n",
    "                                    for go_term in go2parents[go_id]]\n",
    "all_annotations_df = pd.DataFrame(\n",
    "                            all_annotations_list,  \n",
    "                            columns = ['Systematic_ID', 'GO_ID', 'Level']).drop_duplicates()\n",
    "\n",
    "# Split into the three GOs\n",
    "all_BP_annotations_list = [entry for entry in all_annotations_list \n",
    "                               if go_dag[entry[1]].namespace == \"biological_process\"]\n",
    "all_MF_annotations_list = [entry for entry in all_annotations_list \n",
    "                               if go_dag[entry[1]].namespace == \"molecular_function\"]\n",
    "all_CC_annotations_list = [entry for entry in all_annotations_list \n",
    "                               if go_dag[entry[1]].namespace == \"cellular_component\"]\n",
    "\n",
    "all_BP_annotations_df = pd.DataFrame(\n",
    "                            all_BP_annotations_list,  \n",
    "                            columns = ['Systematic_ID', 'GO_ID', 'Level']).drop_duplicates()\n",
    "all_MF_annotations_df = pd.DataFrame(\n",
    "                            all_MF_annotations_list,  \n",
    "                            columns = ['Systematic_ID', 'GO_ID', 'Level']).drop_duplicates()\n",
    "all_CC_annotations_df = pd.DataFrame(\n",
    "                            all_CC_annotations_list,  \n",
    "                            columns = ['Systematic_ID', 'GO_ID', 'Level']).drop_duplicates()"
   ]
  },
  {
   "cell_type": "markdown",
   "metadata": {},
   "source": [
    "### Summary"
   ]
  },
  {
   "cell_type": "code",
   "execution_count": 25,
   "metadata": {},
   "outputs": [
    {
     "name": "stdout",
     "output_type": "stream",
     "text": [
      "SGD universe sizes:\n",
      "============================================\n",
      "Biological Process : 4532 genes, 4662 GO-IDs \n",
      "Molecular Functions: 3564 genes, 2105 GO-IDs \n",
      "Cellular Components: 4013 genes, 904  GO-IDs \n",
      "--------------------------------------------\n",
      "All annotations    : 4967 genes, 7671 GO-IDs \n"
     ]
    }
   ],
   "source": [
    "print(\"SGD universe sizes:\")\n",
    "print(\"============================================\")\n",
    "print(\"Biological Process : \" \n",
    "    f\"{len(set(map(lambda x:x[0],all_BP_annotations_list)))} genes, \"\n",
    "    f\"{len(set(map(lambda x:x[1],all_BP_annotations_list)))} GO-IDs \")\n",
    "print(\"Molecular Functions: \" \n",
    "    f\"{len(set(map(lambda x:x[0],all_MF_annotations_list)))} genes, \"\n",
    "    f\"{len(set(map(lambda x:x[1],all_MF_annotations_list)))} GO-IDs \")\n",
    "print(\"Cellular Components: \" \n",
    "    f\"{len(set(map(lambda x:x[0],all_CC_annotations_list)))} genes, \"\n",
    "    f\"{len(set(map(lambda x:x[1],all_CC_annotations_list)))}  GO-IDs \")\n",
    "print('--------------------------------------------')\n",
    "print(\"All annotations    : \" \n",
    "    f\"{len(set(map(lambda x:x[0],all_annotations_list)))} genes, \"\n",
    "    f\"{len(set(map(lambda x:x[1],all_annotations_list)))} GO-IDs \")"
   ]
  },
  {
   "cell_type": "markdown",
   "metadata": {},
   "source": [
    "### Save"
   ]
  },
  {
   "cell_type": "code",
   "execution_count": 26,
   "metadata": {},
   "outputs": [],
   "source": [
    "all_annotations_df.to_csv(f\"{ANNOTATIONS_DIRECTORY}/SGD_sc.csv\", index=False)\n",
    "\n",
    "all_BP_annotations_df.to_csv(f\"{ANNOTATIONS_DIRECTORY}/SGD_BP_sc.csv\", index=False)\n",
    "all_MF_annotations_df.to_csv(f\"{ANNOTATIONS_DIRECTORY}/SGD_MF_sc.csv\", index=False)\n",
    "all_CC_annotations_df.to_csv(f\"{ANNOTATIONS_DIRECTORY}/SGD_CC_sc.csv\", index=False)"
   ]
  },
  {
   "cell_type": "markdown",
   "metadata": {},
   "source": [
    "# BioGRID $\\cap$ SGD"
   ]
  },
  {
   "cell_type": "code",
   "execution_count": 27,
   "metadata": {},
   "outputs": [],
   "source": [
    "PPI_nx = nx.read_edgelist(f\"{PPI_DIRECTORY}/BioGRID_sc.txt\")\n",
    "\n",
    "all_annotations_df = pd.read_csv(f\"{ANNOTATIONS_DIRECTORY}/SGD_sc.csv\")\n",
    "\n",
    "all_BP_annotations_df = pd.read_csv(f\"{ANNOTATIONS_DIRECTORY}/SGD_BP_sc.csv\")\n",
    "all_MF_annotations_df = pd.read_csv(f\"{ANNOTATIONS_DIRECTORY}/SGD_MF_sc.csv\")\n",
    "all_CC_annotations_df = pd.read_csv(f\"{ANNOTATIONS_DIRECTORY}/SGD_CC_sc.csv\")"
   ]
  },
  {
   "cell_type": "code",
   "execution_count": 28,
   "metadata": {},
   "outputs": [],
   "source": [
    "PPI_annotations_df = all_annotations_df[all_annotations_df.Systematic_ID.isin(PPI_nx.nodes)]\n",
    "\n",
    "PPI_BP_annotations_df = all_BP_annotations_df[all_BP_annotations_df.Systematic_ID.isin(PPI_nx.nodes)]\n",
    "PPI_MF_annotations_df = all_MF_annotations_df[all_MF_annotations_df.Systematic_ID.isin(PPI_nx.nodes)]\n",
    "PPI_CC_annotations_df = all_CC_annotations_df[all_CC_annotations_df.Systematic_ID.isin(PPI_nx.nodes)]"
   ]
  },
  {
   "cell_type": "markdown",
   "metadata": {},
   "source": [
    "### Summary"
   ]
  },
  {
   "cell_type": "code",
   "execution_count": 29,
   "metadata": {},
   "outputs": [
    {
     "name": "stdout",
     "output_type": "stream",
     "text": [
      "SGD ∩ BioGRID universe sizes:\n",
      "============================================\n",
      "Biological Process : 4496 genes, 4496 GO-IDs \n",
      "Molecular Functions: 3537 genes, 3537 GO-IDs \n",
      "Cellular Components: 3993 genes, 3993  GO-IDs \n",
      "--------------------------------------------\n",
      "All annotations    : 4923 genes, 4923 GO-IDs \n"
     ]
    }
   ],
   "source": [
    "print(r\"SGD ∩ BioGRID universe sizes:\")\n",
    "print(\"============================================\")\n",
    "print(\"Biological Process : \" \n",
    "    f\"{len(set(PPI_BP_annotations_df.Systematic_ID))} genes, \"\n",
    "    f\"{len(set(PPI_BP_annotations_df.Systematic_ID))} GO-IDs \")\n",
    "print(\"Molecular Functions: \" \n",
    "    f\"{len(set(PPI_MF_annotations_df.Systematic_ID))} genes, \"\n",
    "    f\"{len(set(PPI_MF_annotations_df.Systematic_ID))} GO-IDs \")\n",
    "print(\"Cellular Components: \" \n",
    "    f\"{len(set(PPI_CC_annotations_df.Systematic_ID))} genes, \"\n",
    "    f\"{len(set(PPI_CC_annotations_df.Systematic_ID))}  GO-IDs \")\n",
    "print('--------------------------------------------')\n",
    "print(\"All annotations    : \" \n",
    "    f\"{len(set(PPI_annotations_df.Systematic_ID))} genes, \"\n",
    "    f\"{len(set(PPI_annotations_df.Systematic_ID))} GO-IDs \")"
   ]
  },
  {
   "cell_type": "markdown",
   "metadata": {},
   "source": [
    "### Save"
   ]
  },
  {
   "cell_type": "code",
   "execution_count": 30,
   "metadata": {},
   "outputs": [],
   "source": [
    "PPI_annotations_df.to_csv(f\"{ANNOTATIONS_DIRECTORY}/BioGRID-SGD_sc.csv\", index=False)\n",
    "\n",
    "PPI_BP_annotations_df.to_csv(f\"{ANNOTATIONS_DIRECTORY}/BioGRID-SGD_BP_sc.csv\", index=False)\n",
    "PPI_MF_annotations_df.to_csv(f\"{ANNOTATIONS_DIRECTORY}/BioGRID-SGD_MF_sc.csv\", index=False)\n",
    "PPI_CC_annotations_df.to_csv(f\"{ANNOTATIONS_DIRECTORY}/BioGRID-SGD_CC_sc.csv\", index=False)"
   ]
  },
  {
   "cell_type": "markdown",
   "metadata": {},
   "source": [
    "# Distance matrices"
   ]
  },
  {
   "cell_type": "markdown",
   "metadata": {},
   "source": [
    "## GraCo distances"
   ]
  },
  {
   "cell_type": "markdown",
   "metadata": {},
   "source": [
    "### Individuals"
   ]
  },
  {
   "cell_type": "code",
   "execution_count": 6,
   "metadata": {},
   "outputs": [],
   "source": [
    "# Get orbit-specific graphlet coefficients\n",
    "PPI_nx = nx.read_edgelist(f\"{PPI_DIRECTORY}/BioGRID_sc.txt\")\n",
    "GDV = graco.orbits(PPI_nx)\n",
    "GCV = graco.coefficients(GDV)"
   ]
  },
  {
   "cell_type": "code",
   "execution_count": 7,
   "metadata": {},
   "outputs": [],
   "source": [
    "C0 = np.array(GCV[['c_0-2' , 'c_0-3']])\n",
    "C1 = np.array(GCV[['c_1-5' , 'c_1-8' , 'c_1-10', 'c_1-12']])\n",
    "C2 = np.array(GCV[['c_2-7' , 'c_2-11', 'c_2-13']])\n",
    "C3 = np.array(GCV[['c_3-11', 'c_3-13', 'c_3-14']])"
   ]
  },
  {
   "cell_type": "code",
   "execution_count": 9,
   "metadata": {},
   "outputs": [
    {
     "name": "stdout",
     "output_type": "stream",
     "text": [
      "5726 Nodes: 100% - 776.28sec\r"
     ]
    }
   ],
   "source": [
    "tvd = '0'\n",
    "N = PPI_nx.number_of_nodes()\n",
    "\n",
    "t1 = time.time()\n",
    "sqD = [graco.functions.tvd(eval(f'C{tvd}[{i}]'),eval(f'C{tvd}[{j}]')) \n",
    "            for (i,j) in combinations(range(N), 2)]\n",
    "t2 = time.time()\n",
    "print(f'{N} Nodes: 100% - {t2-t1:.2f}sec', end='\\r')\n",
    "    \n",
    "D_tvd = squareform(sqD)\n",
    "np.savetxt(f\"{MATRIX_DIRECTORY}/sc_BioGRID_tvd{tvd}.txt\", D_tvd, \n",
    "           fmt='%.7f', header=' '.join(PPI_nx), comments='')"
   ]
  },
  {
   "cell_type": "markdown",
   "metadata": {},
   "source": [
    "### Combinations"
   ]
  },
  {
   "cell_type": "code",
   "execution_count": null,
   "metadata": {},
   "outputs": [],
   "source": [
    "MATRIX_NAME0 = \"sc_BioGRID_tvd0\"\n",
    "D0_df = pd.read_csv(f\"{MATRIX_DIRECTORY}/{MATRIX_NAME0}.txt\", delimiter=' ')\n",
    "\n",
    "MATRIX_NAME1 = \"sc_BioGRID_tvd1\"\n",
    "D1_df = pd.read_csv(f\"{MATRIX_DIRECTORY}/{MATRIX_NAME1}.txt\", delimiter=' ')\n",
    "\n",
    "MATRIX_NAME2 = \"sc_BioGRID_tvd2\"\n",
    "D2_df = pd.read_csv(f\"{MATRIX_DIRECTORY}/{MATRIX_NAME2}.txt\", delimiter=' ')\n",
    "\n",
    "MATRIX_NAME3 = \"sc_BioGRID_tvd3\"\n",
    "D3_df = pd.read_csv(f\"{MATRIX_DIRECTORY}/{MATRIX_NAME3}.txt\", delimiter=' ')\n",
    "\n",
    "MATRIX_NAMEt = \"sc_BioGRID_tijana\"\n",
    "Dt_df = pd.read_csv(f\"{MATRIX_DIRECTORY}/{MATRIX_NAMEt}.txt\", delimiter=' ')\n",
    "\n",
    "D_df = (D0_df + D1_df + D2_df + D3_df)/4\n",
    "int2gene = dict(enumerate(D1_df.columns))\n",
    "\n",
    "del D0_df, D1_df, D2_df, D3_df"
   ]
  },
  {
   "cell_type": "code",
   "execution_count": null,
   "metadata": {},
   "outputs": [],
   "source": [
    "MATRIX_NAME = \"sc_BioGRID_tvd0123\"\n",
    "\n",
    "t1 = time.time()\n",
    "for n_clusters in range(2,100):\n",
    "    initial_medoids = range(n_clusters)\n",
    "    kmedoids_instance = kmedoids(np.array(D_df), initial_medoids, data_type='distance_matrix')\n",
    "    kmedoids_instance.process()\n",
    "\n",
    "    with open(f\"{CLUSTERS_DIRECTORY}/{METHOD}/{MATRIX_NAME}_{n_clusters}.txt\", 'w') as f:\n",
    "        for cluster in kmedoids_instance.get_clusters():\n",
    "            f.write(' '.join(map(int2gene.get,cluster)) + '\\n')\n",
    "    t2 = time.time()\n",
    "    print(f'{n_clusters}: {t2-t1:.2f}sec', end='\\r')"
   ]
  },
  {
   "cell_type": "markdown",
   "metadata": {},
   "source": [
    "### Signature similarity"
   ]
  },
  {
   "cell_type": "code",
   "execution_count": 114,
   "metadata": {},
   "outputs": [],
   "source": [
    "def tijana_distance(GDV):\n",
    "    LogGDV = np.log(np.array(GDV+1))\n",
    "\n",
    "    orbit_dependencies = np.array((1,2,2,2,3,4,3,3,4,3,4,4,4,4,3))\n",
    "    weights = 1 - np.log(orbit_dependencies) / np.log(len(orbit_dependencies))\n",
    "    \n",
    "    sqD = [np.sum(weights*np.abs(LogGDV[i,:]-LogGDV[j,:]) / np.log(np.max([GDV[i,:],GDV[j,:]], axis=0)+2))\n",
    "              for (i,j) in combinations(range(len(GDV)), 2)]\n",
    "\n",
    "    return squareform(sqD) / np.sum(weights)"
   ]
  },
  {
   "cell_type": "code",
   "execution_count": 6,
   "metadata": {},
   "outputs": [],
   "source": [
    "# Calculate signature distance matrix\n",
    "PPI_nx = nx.read_edgelist(f\"{PPI_DIRECTORY}/BioGRID_sc.txt\")\n",
    "GDV = graco.orbits(PPI_nx)\n",
    "np.savetxt(f\"{CPP_DIRECTORY}/matrix.in\", GDV, \n",
    "           header=f\"{len(GDV)} 15\", fmt='%d')"
   ]
  },
  {
   "cell_type": "code",
   "execution_count": 7,
   "metadata": {},
   "outputs": [],
   "source": [
    "D_tijana = np.genfromtxt(f\"{CPP_DIRECTORY}/matrix.out\")\n",
    "np.savetxt(f\"{MATRIX_DIRECTORY}/sc_BioGRID_tijana.txt\", D_tijana, \n",
    "           fmt='%.7f', header=' '.join(PPI_nx), comments='')"
   ]
  },
  {
   "cell_type": "markdown",
   "metadata": {},
   "source": [
    "### pdist"
   ]
  },
  {
   "cell_type": "markdown",
   "metadata": {},
   "source": [
    "#### GDV"
   ]
  },
  {
   "cell_type": "code",
   "execution_count": 4,
   "metadata": {},
   "outputs": [],
   "source": [
    "PPI_nx = nx.read_edgelist(f\"{PPI_DIRECTORY}/BioGRID_sc.txt\")\n",
    "GDV = graco.orbits(PPI_nx)"
   ]
  },
  {
   "cell_type": "code",
   "execution_count": 6,
   "metadata": {},
   "outputs": [],
   "source": [
    "# Automated\n",
    "for distance in ['euclidean', 'cityblock', 'seuclidean', \n",
    "                 'sqeuclidean', 'cosine', 'correlation', \n",
    "                 'chebyshev', 'canberra', 'braycurtis', \n",
    "                 'mahalanobis']:\n",
    "    D = squareform(pdist(GDV, distance))\n",
    "    np.savetxt(f\"{MATRIX_DIRECTORY}/sc_BioGRID_GDV_{distance}.txt\", D, \n",
    "               fmt='%.7f', header=' '.join(PPI_nx), comments='')"
   ]
  },
  {
   "cell_type": "code",
   "execution_count": 17,
   "metadata": {},
   "outputs": [],
   "source": [
    "D_GDV_euclidean = squareform(pdist(GDV))\n",
    "np.savetxt(f\"{MATRIX_DIRECTORY}/sc_BioGRID_GDV_euclidean.txt\", D_GDV_euclidean, \n",
    "           fmt='%.7f', header=' '.join(PPI_nx), comments='')"
   ]
  },
  {
   "cell_type": "markdown",
   "metadata": {},
   "source": [
    "#### GCV"
   ]
  },
  {
   "cell_type": "code",
   "execution_count": null,
   "metadata": {},
   "outputs": [],
   "source": [
    "PPI_nx = nx.read_edgelist(f\"{PPI_DIRECTORY}/BioGRID_sc.txt\")\n",
    "GDV = graco.orbits(PPI_nx)\n",
    "GCV = graco.coefficients(GDV).fillna(0)"
   ]
  },
  {
   "cell_type": "code",
   "execution_count": null,
   "metadata": {},
   "outputs": [],
   "source": [
    "# Automated\n",
    "for distance in ['euclidean', 'cityblock', 'seuclidean', \n",
    "                 'sqeuclidean', 'cosine', 'correlation', \n",
    "                 'chebyshev', 'canberra', 'braycurtis', \n",
    "                 'mahalanobis']:\n",
    "    D = squareform(pdist(GDV, distance))\n",
    "    np.savetxt(f\"{MATRIX_DIRECTORY}/sc_BioGRID_GDV_{distance}.txt\", D, \n",
    "               fmt='%.7f', header=' '.join(PPI_nx), comments='')"
   ]
  },
  {
   "cell_type": "code",
   "execution_count": 19,
   "metadata": {},
   "outputs": [
    {
     "name": "stdout",
     "output_type": "stream",
     "text": [
      "0.3039555549621582\n"
     ]
    }
   ],
   "source": [
    "D_GCV_euclidean = squareform(pdist(GCV))\n",
    "np.savetxt(f\"{MATRIX_DIRECTORY}/sc_BioGRID_GCV_euclidean.txt\", D_GCV_euclidean, \n",
    "           fmt='%.7f', header=' '.join(PPI_nx), comments='')"
   ]
  },
  {
   "cell_type": "markdown",
   "metadata": {},
   "source": [
    "### Z-score"
   ]
  },
  {
   "cell_type": "code",
   "execution_count": 4,
   "metadata": {},
   "outputs": [],
   "source": [
    "PPI_nx = nx.read_edgelist(f\"{PPI_DIRECTORY}/BioGRID_sc.txt\")\n",
    "GDV = graco.orbits(PPI_nx)\n",
    "z_GDV = (GDV-GDV.mean())/GDV.std()"
   ]
  },
  {
   "cell_type": "code",
   "execution_count": 7,
   "metadata": {},
   "outputs": [],
   "source": [
    "# Automated\n",
    "for distance in ['euclidean', 'cityblock', 'seuclidean', \n",
    "                 'sqeuclidean', 'cosine', 'correlation', \n",
    "                 'chebyshev', 'canberra', 'braycurtis', \n",
    "                 'mahalanobis']:\n",
    "    D = squareform(pdist(z_GDV, distance))\n",
    "    np.savetxt(f\"{MATRIX_DIRECTORY}/sc_BioGRID_GDV_zscore_{distance}.txt\", D, \n",
    "               fmt='%.7f', header=' '.join(PPI_nx), comments='')"
   ]
  },
  {
   "cell_type": "code",
   "execution_count": 21,
   "metadata": {},
   "outputs": [],
   "source": [
    "D_GDV_zscore1 = cdist(z_GDV, z_GDV, 'cityblock')\n",
    "np.savetxt(f\"{MATRIX_DIRECTORY}/sc_BioGRID_GDV_zscore1.txt\", D_GDV_zscore1, \n",
    "           fmt='%.7f', header=' '.join(PPI_nx), comments='')"
   ]
  },
  {
   "cell_type": "markdown",
   "metadata": {},
   "source": [
    "### Spectral stuff"
   ]
  },
  {
   "cell_type": "code",
   "execution_count": 18,
   "metadata": {},
   "outputs": [],
   "source": [
    "def normalized_laplacian(D):\n",
    "    # can be optimized more\n",
    "    diag = ((len(D)-1) - np.sum(D, axis=0)).reshape(-1,1)\n",
    "    L  = D-1\n",
    "    np.fill_diagonal(L, diag)\n",
    "    L0 = np.multiply(np.multiply(diag**(-1/2),L).T,diag**(-1/2))\n",
    "    return L0"
   ]
  },
  {
   "cell_type": "markdown",
   "metadata": {},
   "source": [
    "# Clustering "
   ]
  },
  {
   "cell_type": "markdown",
   "metadata": {},
   "source": [
    "## k-medoid"
   ]
  },
  {
   "cell_type": "code",
   "execution_count": 4,
   "metadata": {},
   "outputs": [],
   "source": [
    "METHOD = \"kmedoids\"\n",
    "\n",
    "if not os.path.exists(f\"{CLUSTERS_DIRECTORY}/{METHOD}\"):\n",
    "    os.makedirs(f\"{CLUSTERS_DIRECTORY}/{METHOD}\")"
   ]
  },
  {
   "cell_type": "markdown",
   "metadata": {},
   "source": [
    "### GDV"
   ]
  },
  {
   "cell_type": "code",
   "execution_count": 5,
   "metadata": {
    "collapsed": true
   },
   "outputs": [
    {
     "name": "stdout",
     "output_type": "stream",
     "text": [
      "sqeuclidean\n",
      "99: 533.32sec\n",
      "chebyshev\n",
      "99: 526.23sec\n",
      "canberra\n",
      "99: 521.68sec\n",
      "braycurtis\n",
      "99: 527.86sec\n",
      "mahalanobis\n",
      "99: 505.18sec\n",
      "euclidean\n"
     ]
    },
    {
     "ename": "KeyboardInterrupt",
     "evalue": "",
     "output_type": "error",
     "traceback": [
      "\u001b[0;31m---------------------------------------------------------------------------\u001b[0m",
      "\u001b[0;31mKeyboardInterrupt\u001b[0m                         Traceback (most recent call last)",
      "\u001b[0;32m<ipython-input-5-29f643c5f71c>\u001b[0m in \u001b[0;36m<module>\u001b[0;34m\u001b[0m\n\u001b[1;32m     13\u001b[0m     \u001b[0;32mwith\u001b[0m \u001b[0mopen\u001b[0m\u001b[0;34m(\u001b[0m\u001b[0;34mf\"{MATRIX_DIRECTORY}/{MATRIX_NAME}.txt\"\u001b[0m\u001b[0;34m,\u001b[0m \u001b[0;34m'r'\u001b[0m\u001b[0;34m)\u001b[0m \u001b[0;32mas\u001b[0m \u001b[0mf\u001b[0m\u001b[0;34m:\u001b[0m\u001b[0;34m\u001b[0m\u001b[0;34m\u001b[0m\u001b[0m\n\u001b[1;32m     14\u001b[0m         \u001b[0mline\u001b[0m \u001b[0;34m=\u001b[0m \u001b[0mf\u001b[0m\u001b[0;34m.\u001b[0m\u001b[0mreadline\u001b[0m\u001b[0;34m(\u001b[0m\u001b[0;34m)\u001b[0m\u001b[0;34m\u001b[0m\u001b[0;34m\u001b[0m\u001b[0m\n\u001b[0;32m---> 15\u001b[0;31m     \u001b[0mD\u001b[0m \u001b[0;34m=\u001b[0m \u001b[0mnp\u001b[0m\u001b[0;34m.\u001b[0m\u001b[0mgenfromtxt\u001b[0m\u001b[0;34m(\u001b[0m\u001b[0;34mf\"{MATRIX_DIRECTORY}/{MATRIX_NAME}.txt\"\u001b[0m\u001b[0;34m,\u001b[0m \u001b[0mskip_header\u001b[0m\u001b[0;34m=\u001b[0m\u001b[0;36m1\u001b[0m\u001b[0;34m)\u001b[0m\u001b[0;34m\u001b[0m\u001b[0;34m\u001b[0m\u001b[0m\n\u001b[0m\u001b[1;32m     16\u001b[0m \u001b[0;34m\u001b[0m\u001b[0m\n\u001b[1;32m     17\u001b[0m     \u001b[0mint2gene\u001b[0m \u001b[0;34m=\u001b[0m \u001b[0mdict\u001b[0m\u001b[0;34m(\u001b[0m\u001b[0menumerate\u001b[0m\u001b[0;34m(\u001b[0m\u001b[0mline\u001b[0m\u001b[0;34m.\u001b[0m\u001b[0msplit\u001b[0m\u001b[0;34m(\u001b[0m\u001b[0;34m)\u001b[0m\u001b[0;34m)\u001b[0m\u001b[0;34m)\u001b[0m\u001b[0;34m\u001b[0m\u001b[0;34m\u001b[0m\u001b[0m\n",
      "\u001b[0;32m~/Desktop/git/supplements/venv/graco/lib/python3.6/site-packages/numpy/lib/npyio.py\u001b[0m in \u001b[0;36mgenfromtxt\u001b[0;34m(fname, dtype, comments, delimiter, skip_header, skip_footer, converters, missing_values, filling_values, usecols, names, excludelist, deletechars, replace_space, autostrip, case_sensitive, defaultfmt, unpack, usemask, loose, invalid_raise, max_rows, encoding)\u001b[0m\n\u001b[1;32m   2023\u001b[0m         \u001b[0;31m# Parse each line\u001b[0m\u001b[0;34m\u001b[0m\u001b[0;34m\u001b[0m\u001b[0;34m\u001b[0m\u001b[0m\n\u001b[1;32m   2024\u001b[0m         \u001b[0;32mfor\u001b[0m \u001b[0;34m(\u001b[0m\u001b[0mi\u001b[0m\u001b[0;34m,\u001b[0m \u001b[0mline\u001b[0m\u001b[0;34m)\u001b[0m \u001b[0;32min\u001b[0m \u001b[0menumerate\u001b[0m\u001b[0;34m(\u001b[0m\u001b[0mitertools\u001b[0m\u001b[0;34m.\u001b[0m\u001b[0mchain\u001b[0m\u001b[0;34m(\u001b[0m\u001b[0;34m[\u001b[0m\u001b[0mfirst_line\u001b[0m\u001b[0;34m,\u001b[0m \u001b[0;34m]\u001b[0m\u001b[0;34m,\u001b[0m \u001b[0mfhd\u001b[0m\u001b[0;34m)\u001b[0m\u001b[0;34m)\u001b[0m\u001b[0;34m:\u001b[0m\u001b[0;34m\u001b[0m\u001b[0;34m\u001b[0m\u001b[0m\n\u001b[0;32m-> 2025\u001b[0;31m             \u001b[0mvalues\u001b[0m \u001b[0;34m=\u001b[0m \u001b[0msplit_line\u001b[0m\u001b[0;34m(\u001b[0m\u001b[0mline\u001b[0m\u001b[0;34m)\u001b[0m\u001b[0;34m\u001b[0m\u001b[0;34m\u001b[0m\u001b[0m\n\u001b[0m\u001b[1;32m   2026\u001b[0m             \u001b[0mnbvalues\u001b[0m \u001b[0;34m=\u001b[0m \u001b[0mlen\u001b[0m\u001b[0;34m(\u001b[0m\u001b[0mvalues\u001b[0m\u001b[0;34m)\u001b[0m\u001b[0;34m\u001b[0m\u001b[0;34m\u001b[0m\u001b[0m\n\u001b[1;32m   2027\u001b[0m             \u001b[0;31m# Skip an empty line\u001b[0m\u001b[0;34m\u001b[0m\u001b[0;34m\u001b[0m\u001b[0;34m\u001b[0m\u001b[0m\n",
      "\u001b[0;32m~/Desktop/git/supplements/venv/graco/lib/python3.6/site-packages/numpy/lib/_iotools.py\u001b[0m in \u001b[0;36m__call__\u001b[0;34m(self, line)\u001b[0m\n\u001b[1;32m    271\u001b[0m \u001b[0;34m\u001b[0m\u001b[0m\n\u001b[1;32m    272\u001b[0m     \u001b[0;32mdef\u001b[0m \u001b[0m__call__\u001b[0m\u001b[0;34m(\u001b[0m\u001b[0mself\u001b[0m\u001b[0;34m,\u001b[0m \u001b[0mline\u001b[0m\u001b[0;34m)\u001b[0m\u001b[0;34m:\u001b[0m\u001b[0;34m\u001b[0m\u001b[0;34m\u001b[0m\u001b[0m\n\u001b[0;32m--> 273\u001b[0;31m         \u001b[0;32mreturn\u001b[0m \u001b[0mself\u001b[0m\u001b[0;34m.\u001b[0m\u001b[0m_handyman\u001b[0m\u001b[0;34m(\u001b[0m\u001b[0m_decode_line\u001b[0m\u001b[0;34m(\u001b[0m\u001b[0mline\u001b[0m\u001b[0;34m,\u001b[0m \u001b[0mself\u001b[0m\u001b[0;34m.\u001b[0m\u001b[0mencoding\u001b[0m\u001b[0;34m)\u001b[0m\u001b[0;34m)\u001b[0m\u001b[0;34m\u001b[0m\u001b[0;34m\u001b[0m\u001b[0m\n\u001b[0m\u001b[1;32m    274\u001b[0m \u001b[0;34m\u001b[0m\u001b[0m\n\u001b[1;32m    275\u001b[0m \u001b[0;34m\u001b[0m\u001b[0m\n",
      "\u001b[0;32m~/Desktop/git/supplements/venv/graco/lib/python3.6/site-packages/numpy/lib/_iotools.py\u001b[0m in \u001b[0;36m_delimited_splitter\u001b[0;34m(self, line)\u001b[0m\n\u001b[1;32m    244\u001b[0m         \u001b[0;32mif\u001b[0m \u001b[0mself\u001b[0m\u001b[0;34m.\u001b[0m\u001b[0mcomments\u001b[0m \u001b[0;32mis\u001b[0m \u001b[0;32mnot\u001b[0m \u001b[0;32mNone\u001b[0m\u001b[0;34m:\u001b[0m\u001b[0;34m\u001b[0m\u001b[0;34m\u001b[0m\u001b[0m\n\u001b[1;32m    245\u001b[0m             \u001b[0mline\u001b[0m \u001b[0;34m=\u001b[0m \u001b[0mline\u001b[0m\u001b[0;34m.\u001b[0m\u001b[0msplit\u001b[0m\u001b[0;34m(\u001b[0m\u001b[0mself\u001b[0m\u001b[0;34m.\u001b[0m\u001b[0mcomments\u001b[0m\u001b[0;34m)\u001b[0m\u001b[0;34m[\u001b[0m\u001b[0;36m0\u001b[0m\u001b[0;34m]\u001b[0m\u001b[0;34m\u001b[0m\u001b[0;34m\u001b[0m\u001b[0m\n\u001b[0;32m--> 246\u001b[0;31m         \u001b[0mline\u001b[0m \u001b[0;34m=\u001b[0m \u001b[0mline\u001b[0m\u001b[0;34m.\u001b[0m\u001b[0mstrip\u001b[0m\u001b[0;34m(\u001b[0m\u001b[0;34m\" \\r\\n\"\u001b[0m\u001b[0;34m)\u001b[0m\u001b[0;34m\u001b[0m\u001b[0;34m\u001b[0m\u001b[0m\n\u001b[0m\u001b[1;32m    247\u001b[0m         \u001b[0;32mif\u001b[0m \u001b[0;32mnot\u001b[0m \u001b[0mline\u001b[0m\u001b[0;34m:\u001b[0m\u001b[0;34m\u001b[0m\u001b[0;34m\u001b[0m\u001b[0m\n\u001b[1;32m    248\u001b[0m             \u001b[0;32mreturn\u001b[0m \u001b[0;34m[\u001b[0m\u001b[0;34m]\u001b[0m\u001b[0;34m\u001b[0m\u001b[0;34m\u001b[0m\u001b[0m\n",
      "\u001b[0;31mKeyboardInterrupt\u001b[0m: "
     ]
    }
   ],
   "source": [
    "# Automated\n",
    "all_distances = ['euclidean', 'cityblock', 'seuclidean', \n",
    "                 'sqeuclidean', 'cosine', 'correlation', \n",
    "                 'chebyshev', 'canberra', 'braycurtis', \n",
    "                 'mahalanobis']\n",
    "\n",
    "for distance in ['sqeuclidean', 'chebyshev', 'canberra', 'braycurtis', \n",
    "                 'mahalanobis', 'euclidean', 'cityblock', 'seuclidean', \n",
    "                 'cosine', 'correlation']:\n",
    "    print(distance)\n",
    "    MATRIX_NAME = f\"sc_BioGRID_GDV_{distance}\"\n",
    "    with open(f\"{MATRIX_DIRECTORY}/{MATRIX_NAME}.txt\", 'r') as f:\n",
    "        line = f.readline()\n",
    "    D = np.genfromtxt(f\"{MATRIX_DIRECTORY}/{MATRIX_NAME}.txt\", skip_header=1)\n",
    "\n",
    "    int2gene = dict(enumerate(line.split()))\n",
    "\n",
    "    t1 = time.time()\n",
    "    for n_clusters in range(2, 100):\n",
    "        initial_medoids = range(n_clusters)\n",
    "        kmedoids_instance = kmedoids(D, initial_medoids, data_type='distance_matrix')\n",
    "        kmedoids_instance.process()\n",
    "\n",
    "        with open(f\"{CLUSTERS_DIRECTORY}/{METHOD}/{MATRIX_NAME}_{n_clusters}.txt\", 'w') as f:\n",
    "            for cluster in kmedoids_instance.get_clusters():\n",
    "                f.write(' '.join(map(int2gene.get,cluster)) + '\\n')\n",
    "        t2 = time.time()\n",
    "        print(f'{n_clusters}: {t2-t1:.2f}sec', end='\\r')\n",
    "    print()"
   ]
  },
  {
   "cell_type": "markdown",
   "metadata": {},
   "source": [
    "### z-GDV"
   ]
  },
  {
   "cell_type": "code",
   "execution_count": 6,
   "metadata": {},
   "outputs": [
    {
     "name": "stdout",
     "output_type": "stream",
     "text": [
      "sqeuclidean\n",
      "99: 512.07sec\n",
      "chebyshev\n",
      "99: 506.98sec\n",
      "canberra\n",
      "99: 507.52sec\n",
      "braycurtis\n",
      "99: 496.15sec\n",
      "mahalanobis\n",
      "99: 502.34sec\n",
      "euclidean\n",
      "99: 515.79sec\n",
      "cityblock\n",
      "99: 513.60sec\n",
      "seuclidean\n",
      "99: 518.31sec\n",
      "cosine\n",
      "99: 523.45sec\n",
      "correlation\n",
      "99: 518.05sec\n"
     ]
    }
   ],
   "source": [
    "# Automated\n",
    "all_distances = ['euclidean', 'cityblock', 'seuclidean', \n",
    "                 'sqeuclidean', 'cosine', 'correlation', \n",
    "                 'chebyshev', 'canberra', 'braycurtis', \n",
    "                 'mahalanobis']\n",
    "\n",
    "for distance in ['sqeuclidean', 'chebyshev', 'canberra', 'braycurtis', \n",
    "                 'mahalanobis', 'euclidean', 'cityblock', 'seuclidean', \n",
    "                 'cosine', 'correlation']:\n",
    "    print(distance)\n",
    "    MATRIX_NAME = f\"sc_BioGRID_GDV_zscore_{distance}\"\n",
    "    with open(f\"{MATRIX_DIRECTORY}/{MATRIX_NAME}.txt\", 'r') as f:\n",
    "        line = f.readline()\n",
    "    D = np.genfromtxt(f\"{MATRIX_DIRECTORY}/{MATRIX_NAME}.txt\", skip_header=1)\n",
    "\n",
    "    int2gene = dict(enumerate(line.split()))\n",
    "\n",
    "    t1 = time.time()\n",
    "    for n_clusters in range(2, 100):\n",
    "        initial_medoids = range(n_clusters)\n",
    "        kmedoids_instance = kmedoids(D, initial_medoids, data_type='distance_matrix')\n",
    "        kmedoids_instance.process()\n",
    "\n",
    "        with open(f\"{CLUSTERS_DIRECTORY}/{METHOD}/{MATRIX_NAME}_{n_clusters}.txt\", 'w') as f:\n",
    "            for cluster in kmedoids_instance.get_clusters():\n",
    "                f.write(' '.join(map(int2gene.get,cluster)) + '\\n')\n",
    "        t2 = time.time()\n",
    "        print(f'{n_clusters}: {t2-t1:.2f}sec', end='\\r')\n",
    "    print()"
   ]
  },
  {
   "cell_type": "markdown",
   "metadata": {},
   "source": [
    "### GCV"
   ]
  },
  {
   "cell_type": "code",
   "execution_count": null,
   "metadata": {},
   "outputs": [],
   "source": [
    "# Automated\n",
    "all_distances = ['euclidean', 'cityblock', 'seuclidean', \n",
    "                 'sqeuclidean', 'cosine', 'correlation', \n",
    "                 'chebyshev', 'canberra', 'braycurtis', \n",
    "                 'mahalanobis']\n",
    "\n",
    "for distance in ['sqeuclidean', 'chebyshev', 'canberra', 'braycurtis', \n",
    "                 'mahalanobis', 'euclidean', 'cityblock', 'seuclidean', \n",
    "                 'cosine', 'correlation']:\n",
    "    print(distance)\n",
    "    MATRIX_NAME = f\"sc_BioGRID_GCV_{distance}\"\n",
    "    with open(f\"{MATRIX_DIRECTORY}/{MATRIX_NAME}.txt\", 'r') as f:\n",
    "        line = f.readline()\n",
    "    D = np.genfromtxt(f\"{MATRIX_DIRECTORY}/{MATRIX_NAME}.txt\", skip_header=1)\n",
    "\n",
    "    int2gene = dict(enumerate(line.split()))\n",
    "\n",
    "    t1 = time.time()\n",
    "    for n_clusters in range(2, 100):\n",
    "        initial_medoids = range(n_clusters)\n",
    "        kmedoids_instance = kmedoids(D, initial_medoids, data_type='distance_matrix')\n",
    "        kmedoids_instance.process()\n",
    "\n",
    "        with open(f\"{CLUSTERS_DIRECTORY}/{METHOD}/{MATRIX_NAME}_{n_clusters}.txt\", 'w') as f:\n",
    "            for cluster in kmedoids_instance.get_clusters():\n",
    "                f.write(' '.join(map(int2gene.get,cluster)) + '\\n')\n",
    "        t2 = time.time()\n",
    "        print(f'{n_clusters}: {t2-t1:.2f}sec', end='\\r')\n",
    "    print()"
   ]
  },
  {
   "cell_type": "markdown",
   "metadata": {},
   "source": [
    "### z-GCV"
   ]
  },
  {
   "cell_type": "code",
   "execution_count": null,
   "metadata": {},
   "outputs": [],
   "source": [
    "# Automated\n",
    "all_distances = ['euclidean', 'cityblock', 'seuclidean', \n",
    "                 'sqeuclidean', 'cosine', 'correlation', \n",
    "                 'chebyshev', 'canberra', 'braycurtis', \n",
    "                 'mahalanobis']\n",
    "\n",
    "for distance in ['sqeuclidean', 'chebyshev', 'canberra', 'braycurtis', \n",
    "                 'mahalanobis', 'euclidean', 'cityblock', 'seuclidean', \n",
    "                 'cosine', 'correlation']:\n",
    "    print(distance)\n",
    "    MATRIX_NAME = f\"sc_BioGRID_GCV_zscore_{distance}\"\n",
    "    with open(f\"{MATRIX_DIRECTORY}/{MATRIX_NAME}.txt\", 'r') as f:\n",
    "        line = f.readline()\n",
    "    D = np.genfromtxt(f\"{MATRIX_DIRECTORY}/{MATRIX_NAME}.txt\", skip_header=1)\n",
    "\n",
    "    int2gene = dict(enumerate(line.split()))\n",
    "\n",
    "    t1 = time.time()\n",
    "    for n_clusters in range(2, 100):\n",
    "        initial_medoids = range(n_clusters)\n",
    "        kmedoids_instance = kmedoids(D, initial_medoids, data_type='distance_matrix')\n",
    "        kmedoids_instance.process()\n",
    "\n",
    "        with open(f\"{CLUSTERS_DIRECTORY}/{METHOD}/{MATRIX_NAME}_{n_clusters}.txt\", 'w') as f:\n",
    "            for cluster in kmedoids_instance.get_clusters():\n",
    "                f.write(' '.join(map(int2gene.get,cluster)) + '\\n')\n",
    "        t2 = time.time()\n",
    "        print(f'{n_clusters}: {t2-t1:.2f}sec', end='\\r')\n",
    "    print()"
   ]
  },
  {
   "cell_type": "markdown",
   "metadata": {},
   "source": [
    "### TVDs"
   ]
  },
  {
   "cell_type": "code",
   "execution_count": 22,
   "metadata": {},
   "outputs": [
    {
     "name": "stdout",
     "output_type": "stream",
     "text": [
      "49: 273.25sec\r"
     ]
    }
   ],
   "source": [
    "MATRIX_NAME = \"sc_BioGRID_tvd3\"\n",
    "D_df = pd.read_csv(f\"{MATRIX_DIRECTORY}/{MATRIX_NAME}.txt\", delimiter=' ')\n",
    "\n",
    "int2gene = dict(enumerate(D_df.columns))\n",
    "\n",
    "t1 = time.time()\n",
    "for n_clusters in range(2,50):\n",
    "    initial_medoids = range(n_clusters)\n",
    "    kmedoids_instance = kmedoids(np.array(D_df), initial_medoids, data_type='distance_matrix')\n",
    "    kmedoids_instance.process()\n",
    "\n",
    "    with open(f\"{CLUSTERS_DIRECTORY}/{METHOD}/{MATRIX_NAME}_{n_clusters}.txt\", 'w') as f:\n",
    "        for cluster in kmedoids_instance.get_clusters():\n",
    "            f.write(' '.join(map(int2gene.get,cluster)) + '\\n')\n",
    "    t2 = time.time()\n",
    "    print(f'{n_clusters}: {t2-t1:.2f}sec', end='\\r')"
   ]
  }
 ],
 "metadata": {
  "kernelspec": {
   "display_name": "graco",
   "language": "python",
   "name": "graco"
  },
  "language_info": {
   "codemirror_mode": {
    "name": "ipython",
    "version": 3
   },
   "file_extension": ".py",
   "mimetype": "text/x-python",
   "name": "python",
   "nbconvert_exporter": "python",
   "pygments_lexer": "ipython3",
   "version": "3.7.3"
  }
 },
 "nbformat": 4,
 "nbformat_minor": 2
}
