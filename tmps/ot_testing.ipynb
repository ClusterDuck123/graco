{
 "cells": [
  {
   "cell_type": "code",
   "execution_count": 1,
   "metadata": {},
   "outputs": [],
   "source": [
    "from scipy.stats import wasserstein_distance\n",
    "\n",
    "import graco\n",
    "import numpy as np"
   ]
  },
  {
   "cell_type": "code",
   "execution_count": 16,
   "metadata": {},
   "outputs": [],
   "source": [
    "xs = np.array([[0,1],[0.5,1],[1,1]]).T\n",
    "xt = np.array([[0.5,0],[0.5,0],[0.5,0]]).T"
   ]
  },
  {
   "cell_type": "code",
   "execution_count": 17,
   "metadata": {},
   "outputs": [
    {
     "data": {
      "text/plain": [
       "((2, 3), (2, 3))"
      ]
     },
     "execution_count": 17,
     "metadata": {},
     "output_type": "execute_result"
    }
   ],
   "source": [
    "xs.shape, xt.shape"
   ]
  },
  {
   "cell_type": "code",
   "execution_count": 18,
   "metadata": {},
   "outputs": [
    {
     "data": {
      "text/plain": [
       "0.9920296962671667"
      ]
     },
     "execution_count": 18,
     "metadata": {},
     "output_type": "execute_result"
    }
   ],
   "source": [
    "graco.emd(xs,xt)"
   ]
  },
  {
   "cell_type": "code",
   "execution_count": 19,
   "metadata": {},
   "outputs": [
    {
     "data": {
      "text/plain": [
       "1.0786893258332633"
      ]
     },
     "execution_count": 19,
     "metadata": {},
     "output_type": "execute_result"
    }
   ],
   "source": [
    "1/3 * (1 + np.sqrt(5))"
   ]
  },
  {
   "cell_type": "code",
   "execution_count": 7,
   "metadata": {},
   "outputs": [
    {
     "data": {
      "text/plain": [
       "((100,), (200,))"
      ]
     },
     "execution_count": 7,
     "metadata": {},
     "output_type": "execute_result"
    }
   ],
   "source": [
    "xs.shape, xt.shape"
   ]
  },
  {
   "cell_type": "code",
   "execution_count": 20,
   "metadata": {},
   "outputs": [
    {
     "name": "stdout",
     "output_type": "stream",
     "text": [
      "139948870303616\n",
      "(100, 1)\n",
      "(100, 1)\n",
      "(200,)\n",
      "\n",
      "139948870348928\n",
      "(200, 1)\n",
      "(100, 1)\n",
      "(200, 1)\n",
      "\n"
     ]
    }
   ],
   "source": [
    "for x_ in [xs,xt]:\n",
    "    print(id(x_))\n",
    "    if len(x_.shape) == 1:\n",
    "        x_.shape = (-1,1)\n",
    "        print(x_.shape)\n",
    "        print(xs.shape)\n",
    "        print(xt.shape)\n",
    "        print()"
   ]
  },
  {
   "cell_type": "code",
   "execution_count": 19,
   "metadata": {},
   "outputs": [],
   "source": [
    "? xs.reshape"
   ]
  },
  {
   "cell_type": "code",
   "execution_count": 11,
   "metadata": {},
   "outputs": [],
   "source": [
    "t = xs"
   ]
  },
  {
   "cell_type": "code",
   "execution_count": 12,
   "metadata": {},
   "outputs": [
    {
     "data": {
      "text/plain": [
       "139948870303616"
      ]
     },
     "execution_count": 12,
     "metadata": {},
     "output_type": "execute_result"
    }
   ],
   "source": [
    "id(t)"
   ]
  },
  {
   "cell_type": "code",
   "execution_count": 13,
   "metadata": {},
   "outputs": [],
   "source": [
    "t[0] = 300"
   ]
  },
  {
   "cell_type": "code",
   "execution_count": 15,
   "metadata": {},
   "outputs": [
    {
     "data": {
      "text/plain": [
       "array([3.00000000e+02, 1.78927655e-01, 9.14178149e-01, 6.74973815e-01,\n",
       "       6.72840026e-02, 6.93090954e-01, 9.73956737e-01, 5.03524431e-01,\n",
       "       3.43597619e-01, 1.19154590e-01, 4.47874482e-01, 1.98671974e-02,\n",
       "       6.86220515e-01, 1.42877166e-01, 6.55371163e-01, 2.36943836e-01,\n",
       "       3.40250925e-01, 9.06257447e-01, 2.41702694e-01, 2.03624535e-01,\n",
       "       5.49691840e-01, 1.21754575e-01, 6.54769685e-01, 6.01012925e-01,\n",
       "       7.41776457e-02, 1.00308876e-01, 6.66434466e-01, 1.18470544e-01,\n",
       "       3.74829049e-01, 4.90918565e-02, 8.63900210e-01, 4.07418636e-01,\n",
       "       5.49118871e-01, 6.86270458e-01, 1.84943691e-02, 7.70698003e-01,\n",
       "       1.98868250e-01, 9.44777789e-02, 6.36923738e-01, 3.34056228e-01,\n",
       "       9.73221768e-01, 2.43079401e-01, 4.05228239e-02, 1.86813467e-02,\n",
       "       9.42750004e-01, 1.64878864e-01, 7.36979774e-01, 7.06819448e-01,\n",
       "       5.04710898e-01, 4.25223682e-01, 8.70601336e-01, 7.55392346e-01,\n",
       "       5.15927225e-01, 6.06609838e-01, 5.95491608e-01, 6.67678988e-01,\n",
       "       4.41231712e-01, 8.28269919e-01, 5.90511052e-01, 5.65126042e-04,\n",
       "       4.44427672e-01, 4.41031925e-01, 1.42798526e-01, 3.15508019e-01,\n",
       "       9.90025793e-01, 6.98784246e-01, 1.62671237e-02, 4.85339751e-01,\n",
       "       8.64826742e-01, 3.67339107e-03, 5.21520935e-01, 4.66955127e-02,\n",
       "       7.72627213e-01, 7.95894254e-01, 8.55325624e-01, 2.19865480e-01,\n",
       "       4.01943525e-01, 4.97360064e-01, 8.52661867e-01, 5.30314721e-01,\n",
       "       9.27936173e-01, 9.75701450e-01, 5.52888614e-01, 5.10395699e-01,\n",
       "       9.92000547e-01, 9.25623072e-01, 7.63040668e-01, 9.61745510e-01,\n",
       "       3.43190773e-01, 1.84268356e-01, 3.87080956e-01, 2.11341985e-01,\n",
       "       1.34844761e-01, 6.04419315e-01, 8.11329098e-01, 7.65135291e-01,\n",
       "       4.10958748e-02, 9.47602672e-01, 5.18730395e-01, 5.75529089e-01])"
      ]
     },
     "execution_count": 15,
     "metadata": {},
     "output_type": "execute_result"
    }
   ],
   "source": [
    "xs"
   ]
  },
  {
   "cell_type": "code",
   "execution_count": null,
   "metadata": {},
   "outputs": [],
   "source": []
  }
 ],
 "metadata": {
  "kernelspec": {
   "display_name": "graco",
   "language": "python",
   "name": "graco"
  },
  "language_info": {
   "codemirror_mode": {
    "name": "ipython",
    "version": 3
   },
   "file_extension": ".py",
   "mimetype": "text/x-python",
   "name": "python",
   "nbconvert_exporter": "python",
   "pygments_lexer": "ipython3",
   "version": "3.6.9"
  }
 },
 "nbformat": 4,
 "nbformat_minor": 2
}
