{
 "cells": [
  {
   "cell_type": "code",
   "execution_count": 29,
   "metadata": {},
   "outputs": [],
   "source": [
    "from itertools import combinations\n",
    "from numpy.linalg import matrix_rank as rank\n",
    "from scipy.linalg import null_space  as kernel\n",
    "\n",
    "import graco\n",
    "import numpy as np\n",
    "import pandas as pd\n",
    "import networkx as nx\n",
    "\n",
    "%matplotlib inline"
   ]
  },
  {
   "cell_type": "code",
   "execution_count": 119,
   "metadata": {},
   "outputs": [],
   "source": [
    "G = nx.barabasi_albert_graph(100,3)\n",
    "GDV = graco.orbits(G)"
   ]
  },
  {
   "cell_type": "code",
   "execution_count": 120,
   "metadata": {},
   "outputs": [],
   "source": [
    "a = nx.adj_matrix(G)\n",
    "t = (a@a).multiply(a)"
   ]
  },
  {
   "cell_type": "code",
   "execution_count": 209,
   "metadata": {},
   "outputs": [],
   "source": [
    "c   = np.zeros(100)\n",
    "tmp = np.zeros(100)\n",
    "for x in range(100):\n",
    "    for y in G[x]:\n",
    "        for z in G[y]:\n",
    "            if z <= y or not z in G[x]:\n",
    "                continue\n",
    "            else:\n",
    "                c[x] += - len(set(G[x]) & set(G[y])) - len(set(G[x]) & set(G[z]))"
   ]
  },
  {
   "cell_type": "code",
   "execution_count": 211,
   "metadata": {},
   "outputs": [
    {
     "data": {
      "text/plain": [
       "0      474.0\n",
       "1      260.0\n",
       "2       48.0\n",
       "3     3788.0\n",
       "4      678.0\n",
       "       ...  \n",
       "95       4.0\n",
       "96       4.0\n",
       "97       0.0\n",
       "98       0.0\n",
       "99       0.0\n",
       "Length: 100, dtype: float64"
      ]
     },
     "execution_count": 211,
     "metadata": {},
     "output_type": "execute_result"
    }
   ],
   "source": [
    "2*GDV['0']*GDV['3'] + c"
   ]
  },
  {
   "cell_type": "code",
   "execution_count": 200,
   "metadata": {},
   "outputs": [
    {
     "data": {
      "text/plain": [
       "0      474\n",
       "1      260\n",
       "2       48\n",
       "3     3788\n",
       "4      678\n",
       "      ... \n",
       "95       4\n",
       "96       4\n",
       "97       0\n",
       "98       0\n",
       "99       0\n",
       "Length: 100, dtype: int64"
      ]
     },
     "execution_count": 200,
     "metadata": {},
     "output_type": "execute_result"
    }
   ],
   "source": [
    "2*GDV['11'] + 2*GDV['13'] + 2*GDV['3']"
   ]
  },
  {
   "cell_type": "code",
   "execution_count": 164,
   "metadata": {},
   "outputs": [
    {
     "data": {
      "text/plain": [
       "0     138\n",
       "1      60\n",
       "2      12\n",
       "3     452\n",
       "4     196\n",
       "     ... \n",
       "95      2\n",
       "96      2\n",
       "97      0\n",
       "98      0\n",
       "99      0\n",
       "Length: 100, dtype: int64"
      ]
     },
     "execution_count": 164,
     "metadata": {},
     "output_type": "execute_result"
    }
   ],
   "source": [
    "t@GDV['0'] - 2*GDV['3'] - 2*GDV['12'] - GDV['10']"
   ]
  },
  {
   "cell_type": "code",
   "execution_count": 122,
   "metadata": {},
   "outputs": [
    {
     "data": {
      "text/plain": [
       "0      -22\n",
       "1      -37\n",
       "2      -77\n",
       "3     3078\n",
       "4       77\n",
       "      ... \n",
       "95      -8\n",
       "96     -25\n",
       "97       0\n",
       "98       0\n",
       "99       0\n",
       "Length: 100, dtype: int64"
      ]
     },
     "execution_count": 122,
     "metadata": {},
     "output_type": "execute_result"
    }
   ],
   "source": [
    "2*GDV['11'] + 2*GDV['13'] - 2*GDV['12'] - GDV['10']"
   ]
  },
  {
   "cell_type": "code",
   "execution_count": 110,
   "metadata": {},
   "outputs": [
    {
     "data": {
      "image/png": "[encoded data removed]",
      "text/plain": [
       "<Figure size 432x288 with 1 Axes>"
      ]
     },
     "metadata": {},
     "output_type": "display_data"
    }
   ],
   "source": [
    "nx.draw(G, with_labels=True)"
   ]
  },
  {
   "cell_type": "code",
   "execution_count": 112,
   "metadata": {},
   "outputs": [],
   "source": [
    "A = nx.adjacency_matrix(G)\n",
    "Tmp = (A@A@A)\n",
    "T = Tmp - Tmp.multiply(A)\n",
    "T.setdiag(0)"
   ]
  },
  {
   "cell_type": "code",
   "execution_count": 116,
   "metadata": {},
   "outputs": [
    {
     "data": {
      "text/plain": [
       "array([[2, 4, 5, 6, 1, 4],\n",
       "       [4, 0, 1, 1, 1, 0],\n",
       "       [5, 1, 2, 4, 1, 1],\n",
       "       [6, 1, 4, 2, 3, 1],\n",
       "       [1, 1, 1, 3, 0, 1],\n",
       "       [4, 0, 1, 1, 1, 0]], dtype=int64)"
      ]
     },
     "execution_count": 116,
     "metadata": {},
     "output_type": "execute_result"
    }
   ],
   "source": [
    "Tmp.A"
   ]
  },
  {
   "cell_type": "code",
   "execution_count": 114,
   "metadata": {},
   "outputs": [
    {
     "data": {
      "text/plain": [
       "array([[0, 0, 0, 0, 1, 0],\n",
       "       [0, 0, 1, 1, 1, 0],\n",
       "       [0, 1, 0, 0, 1, 1],\n",
       "       [0, 1, 0, 0, 0, 1],\n",
       "       [1, 1, 1, 0, 0, 1],\n",
       "       [0, 0, 1, 1, 1, 0]], dtype=int64)"
      ]
     },
     "execution_count": 114,
     "metadata": {},
     "output_type": "execute_result"
    }
   ],
   "source": [
    "T.A"
   ]
  },
  {
   "cell_type": "code",
   "execution_count": 105,
   "metadata": {},
   "outputs": [
    {
     "data": {
      "text/plain": [
       "array([[0, 0, 0, 0, 1, 0],\n",
       "       [0, 0, 1, 1, 1, 0],\n",
       "       [0, 1, 0, 0, 1, 1],\n",
       "       [0, 1, 0, 0, 0, 1],\n",
       "       [1, 1, 1, 0, 0, 1],\n",
       "       [0, 0, 1, 1, 1, 0]], dtype=int64)"
      ]
     },
     "execution_count": 105,
     "metadata": {},
     "output_type": "execute_result"
    }
   ],
   "source": [
    "T.A"
   ]
  },
  {
   "cell_type": "code",
   "execution_count": 106,
   "metadata": {},
   "outputs": [
    {
     "data": {
      "text/plain": [
       "0    0\n",
       "1    1\n",
       "2    0\n",
       "3    0\n",
       "4    2\n",
       "6    1\n",
       "Name: 4, dtype: int64"
      ]
     },
     "execution_count": 106,
     "metadata": {},
     "output_type": "execute_result"
    }
   ],
   "source": [
    "GDV['4']"
   ]
  },
  {
   "cell_type": "code",
   "execution_count": 117,
   "metadata": {
    "scrolled": true
   },
   "outputs": [
    {
     "data": {
      "text/plain": [
       "0    False\n",
       "1    False\n",
       "2    False\n",
       "3    False\n",
       "4    False\n",
       "6    False\n",
       "Name: 4, dtype: bool"
      ]
     },
     "execution_count": 117,
     "metadata": {},
     "output_type": "execute_result"
    }
   ],
   "source": [
    "T.sum(axis=0).A.flatten() == GDV['4']"
   ]
  },
  {
   "cell_type": "code",
   "execution_count": 66,
   "metadata": {},
   "outputs": [
    {
     "data": {
      "text/plain": [
       "matrix([[0, 1, 1, 0, 2]], dtype=int64)"
      ]
     },
     "execution_count": 66,
     "metadata": {},
     "output_type": "execute_result"
    }
   ],
   "source": [
    "np.sum(T, axis=0)"
   ]
  },
  {
   "cell_type": "code",
   "execution_count": 19,
   "metadata": {},
   "outputs": [
    {
     "data": {
      "text/plain": [
       "matrix([[ 8195,  8829,  8304,  6980,  8062,  7847,  7429,  6351,  7848,\n",
       "          7941,  8242,  8203,  7107,  6723,  7903,  9470,  6129,  5887,\n",
       "          8803,  5782,  9880,  7375,  8258,  6694,  6347,  7017,  9642,\n",
       "          5512,  6393,  9365,  9055,  6629,  7489,  6767,  7162,  6620,\n",
       "         10097,  7749,  7771,  8087,  8472,  7878,  9661,  6417,  7744,\n",
       "          8390,  6917,  4231,  6893,  7384,  9602,  8593,  8147,  5951,\n",
       "          8665,  7407,  6683,  7272,  6533,  6442,  9485, 10615,  8758,\n",
       "          7550,  8301,  4540,  7833,  5590,  9615,  6880,  7547,  5510,\n",
       "          5086,  9719,  7177,  6253, 10945,  8913,  7200,  8337,  8157,\n",
       "          7508,  6185,  5676, 10304,  6358,  8113,  6762,  7978,  6125,\n",
       "          8537,  6955,  9564,  9237,  8551,  7748,  9143,  6629,  6149,\n",
       "          5454,  7413,  6880,  5893,  7221,  6826,  8652,  8070,  7240,\n",
       "          7687,  8457,  8836,  5357,  5772,  6479,  6528,  6304,  7335,\n",
       "          7500,  4215,  9070,  5949,  8245,  5335,  3663,  7615,  8462,\n",
       "          8016,  8701,  9873,  7710,  5266,  6567,  5985,  7060,  4976,\n",
       "          8640,  6127,  9324,  8052,  7886,  5960,  8575,  4777,  8558,\n",
       "          6209,  8910,  8221,  5474,  7476,  8231,  6409,  7256,  6547,\n",
       "          7000,  7033,  8144,  7001, 10417,  7938,  8034,  8611,  8476,\n",
       "          5964,  6820,  7904,  8141,  5283,  4977,  6189,  7253,  9085,\n",
       "          6903,  8181,  6932,  6346,  6160,  5793,  6192,  8002,  5483,\n",
       "          6523,  4394,  9081,  7372,  8309,  6828,  4943,  5990,  6224,\n",
       "          4672,  7431,  6135,  6287,  6971, 10942,  7214,  6869,  6604,\n",
       "          7059,  7947]], dtype=int64)"
      ]
     },
     "execution_count": 19,
     "metadata": {},
     "output_type": "execute_result"
    }
   ],
   "source": [
    "T.sum(axis=0)"
   ]
  },
  {
   "cell_type": "code",
   "execution_count": 20,
   "metadata": {},
   "outputs": [
    {
     "data": {
      "text/plain": [
       "0      6444\n",
       "1      6933\n",
       "2      6456\n",
       "3      5825\n",
       "4      6271\n",
       "       ... \n",
       "195    5881\n",
       "196    5475\n",
       "197    5350\n",
       "198    5520\n",
       "199    6302\n",
       "Name: 4, Length: 200, dtype: int64"
      ]
     },
     "execution_count": 20,
     "metadata": {},
     "output_type": "execute_result"
    }
   ],
   "source": [
    "GDV['4']"
   ]
  },
  {
   "cell_type": "code",
   "execution_count": 38,
   "metadata": {},
   "outputs": [],
   "source": [
    "A = nx.to_numpy_array(G)\n",
    "\n",
    "Asq = A@A\n",
    "T = Asq*A\n",
    "\n",
    "D = Asq-T\n",
    "np.fill_diagonal(D,0)\n",
    "\n",
    "deg = np.array([d for n, d in G.degree()])\n",
    "B   = A*(deg)-T"
   ]
  },
  {
   "cell_type": "code",
   "execution_count": 51,
   "metadata": {},
   "outputs": [],
   "source": [
    "A_ = B+B.T+T+D+A\n",
    "B_ = np.diag([1 for n,deg in G.degree])"
   ]
  },
  {
   "cell_type": "code",
   "execution_count": 52,
   "metadata": {},
   "outputs": [],
   "source": [
    "def find_equation(tmp_GDV):\n",
    "    A_orbits = [orbit for orbit in tmp_GDV.columns if orbit.startswith('A')]\n",
    "    for nb_orbits in range(1,15):\n",
    "        for comb in combinations(range(15), nb_orbits):\n",
    "            B_orbits  = list(map(lambda x:'B'+str(x),comb))\n",
    "            eq_orbits = B_orbits + A_orbits\n",
    "            if rank(tmp_GDV[eq_orbits]) == len(eq_orbits)-1:\n",
    "                ker = kernel(tmp_GDV[eq_orbits])\n",
    "                vec = ker/min(abs(ker))\n",
    "                int_vec = np.around(vec).astype(int)\n",
    "                np.testing.assert_almost_equal(vec, int_vec)\n",
    "\n",
    "                return pd.Series({orbit:int(coeff) for orbit,coeff in zip(eq_orbits,int_vec)})\n",
    "            \n",
    "def print_equation(s):\n",
    "    s_iter = s.items()\n",
    "    orbit, coeff = next(s_iter)\n",
    "\n",
    "    print(f\"{coeff}*{orbit}\", end=' ')\n",
    "\n",
    "    for orbit,coeff in s_iter:\n",
    "\n",
    "        if orbit.startswith('A'):\n",
    "            break\n",
    "\n",
    "        if   coeff > 0:\n",
    "            print('+', end=' ')\n",
    "        elif coeff < 0:\n",
    "            print('-', end=' ')\n",
    "        else:\n",
    "            raise Exception\n",
    "\n",
    "        print(f\"{abs(coeff)}*{orbit}\", end=' ')\n",
    "\n",
    "    print(f\"= {-coeff}*{orbit}\")"
   ]
  },
  {
   "cell_type": "code",
   "execution_count": 53,
   "metadata": {
    "scrolled": true
   },
   "outputs": [
    {
     "name": "stdout",
     "output_type": "stream",
     "text": [
      "1\n",
      "3*B0 + 6*B1 + 2*B2 + 10*B3 + 1*B4 + 1*B5 + 2*B6 + 4*B8 + 4*B9 + 2*B10 + 2*B11 + 6*B12 + 4*B13 + 6*B14 = 1*A0\n"
     ]
    }
   ],
   "source": [
    "for orbit in GDV.columns:\n",
    "    tmp_GDV = B_@GDV\n",
    "    tmp_GDV.columns = map(lambda x:'B'+x,tmp_GDV.columns)\n",
    "    tmp_GDV['A'+orbit] = A_@GDV[orbit]\n",
    "    m,n = kernel(tmp_GDV).shape\n",
    "    if n:\n",
    "        print(n)\n",
    "        equation = find_equation(tmp_GDV)\n",
    "        print_equation(equation)"
   ]
  },
  {
   "cell_type": "code",
   "execution_count": 43,
   "metadata": {
    "collapsed": true
   },
   "outputs": [
    {
     "ename": "AssertionError",
     "evalue": "\nArrays are not almost equal to 7 decimals\n\nMismatch: 85.7%\nMax absolute difference: 0.4765625\nMax relative difference: 1.20500757e-14\n x: array([[ 1.0000000e+00],\n       [ 5.5108575e+13],\n       [ 2.7554288e+13],...\n y: array([[              1],\n       [ 55108575040023],\n       [ 27554287520011],...",
     "output_type": "error",
     "traceback": [
      "\u001b[0;31m---------------------------------------------------------------------------\u001b[0m",
      "\u001b[0;31mAssertionError\u001b[0m                            Traceback (most recent call last)",
      "\u001b[0;32m<ipython-input-43-3420ef9926b5>\u001b[0m in \u001b[0;36m<module>\u001b[0;34m\u001b[0m\n\u001b[1;32m      7\u001b[0m             \u001b[0mvec\u001b[0m \u001b[0;34m=\u001b[0m \u001b[0mker\u001b[0m\u001b[0;34m/\u001b[0m\u001b[0mmin\u001b[0m\u001b[0;34m(\u001b[0m\u001b[0mabs\u001b[0m\u001b[0;34m(\u001b[0m\u001b[0mker\u001b[0m\u001b[0;34m)\u001b[0m\u001b[0;34m)\u001b[0m\u001b[0;34m\u001b[0m\u001b[0;34m\u001b[0m\u001b[0m\n\u001b[1;32m      8\u001b[0m             \u001b[0mint_vec\u001b[0m \u001b[0;34m=\u001b[0m \u001b[0mnp\u001b[0m\u001b[0;34m.\u001b[0m\u001b[0maround\u001b[0m\u001b[0;34m(\u001b[0m\u001b[0mvec\u001b[0m\u001b[0;34m)\u001b[0m\u001b[0;34m.\u001b[0m\u001b[0mastype\u001b[0m\u001b[0;34m(\u001b[0m\u001b[0mint\u001b[0m\u001b[0;34m)\u001b[0m\u001b[0;34m\u001b[0m\u001b[0;34m\u001b[0m\u001b[0m\n\u001b[0;32m----> 9\u001b[0;31m             \u001b[0mnp\u001b[0m\u001b[0;34m.\u001b[0m\u001b[0mtesting\u001b[0m\u001b[0;34m.\u001b[0m\u001b[0massert_almost_equal\u001b[0m\u001b[0;34m(\u001b[0m\u001b[0mvec\u001b[0m\u001b[0;34m,\u001b[0m \u001b[0mint_vec\u001b[0m\u001b[0;34m)\u001b[0m\u001b[0;34m\u001b[0m\u001b[0;34m\u001b[0m\u001b[0m\n\u001b[0m\u001b[1;32m     10\u001b[0m \u001b[0;34m\u001b[0m\u001b[0m\n\u001b[1;32m     11\u001b[0m             \u001b[0ms\u001b[0m \u001b[0;34m=\u001b[0m \u001b[0mpd\u001b[0m\u001b[0;34m.\u001b[0m\u001b[0mSeries\u001b[0m\u001b[0;34m(\u001b[0m\u001b[0;34m{\u001b[0m\u001b[0morbit\u001b[0m\u001b[0;34m:\u001b[0m\u001b[0mint\u001b[0m\u001b[0;34m(\u001b[0m\u001b[0mcoeff\u001b[0m\u001b[0;34m)\u001b[0m \u001b[0;32mfor\u001b[0m \u001b[0morbit\u001b[0m\u001b[0;34m,\u001b[0m\u001b[0mcoeff\u001b[0m \u001b[0;32min\u001b[0m \u001b[0mzip\u001b[0m\u001b[0;34m(\u001b[0m\u001b[0meq_orbits\u001b[0m\u001b[0;34m,\u001b[0m\u001b[0mint_vec\u001b[0m\u001b[0;34m)\u001b[0m\u001b[0;34m}\u001b[0m\u001b[0;34m)\u001b[0m\u001b[0;34m\u001b[0m\u001b[0;34m\u001b[0m\u001b[0m\n",
      "\u001b[0;32m/anaconda3/lib/python3.7/site-packages/numpy/testing/_private/utils.py\u001b[0m in \u001b[0;36massert_almost_equal\u001b[0;34m(actual, desired, decimal, err_msg, verbose)\u001b[0m\n\u001b[1;32m    582\u001b[0m     \u001b[0;32mif\u001b[0m \u001b[0misinstance\u001b[0m\u001b[0;34m(\u001b[0m\u001b[0mactual\u001b[0m\u001b[0;34m,\u001b[0m \u001b[0;34m(\u001b[0m\u001b[0mndarray\u001b[0m\u001b[0;34m,\u001b[0m \u001b[0mtuple\u001b[0m\u001b[0;34m,\u001b[0m \u001b[0mlist\u001b[0m\u001b[0;34m)\u001b[0m\u001b[0;34m)\u001b[0m\u001b[0;31m \u001b[0m\u001b[0;31m\\\u001b[0m\u001b[0;34m\u001b[0m\u001b[0;34m\u001b[0m\u001b[0m\n\u001b[1;32m    583\u001b[0m             \u001b[0;32mor\u001b[0m \u001b[0misinstance\u001b[0m\u001b[0;34m(\u001b[0m\u001b[0mdesired\u001b[0m\u001b[0;34m,\u001b[0m \u001b[0;34m(\u001b[0m\u001b[0mndarray\u001b[0m\u001b[0;34m,\u001b[0m \u001b[0mtuple\u001b[0m\u001b[0;34m,\u001b[0m \u001b[0mlist\u001b[0m\u001b[0;34m)\u001b[0m\u001b[0;34m)\u001b[0m\u001b[0;34m:\u001b[0m\u001b[0;34m\u001b[0m\u001b[0;34m\u001b[0m\u001b[0m\n\u001b[0;32m--> 584\u001b[0;31m         \u001b[0;32mreturn\u001b[0m \u001b[0massert_array_almost_equal\u001b[0m\u001b[0;34m(\u001b[0m\u001b[0mactual\u001b[0m\u001b[0;34m,\u001b[0m \u001b[0mdesired\u001b[0m\u001b[0;34m,\u001b[0m \u001b[0mdecimal\u001b[0m\u001b[0;34m,\u001b[0m \u001b[0merr_msg\u001b[0m\u001b[0;34m)\u001b[0m\u001b[0;34m\u001b[0m\u001b[0;34m\u001b[0m\u001b[0m\n\u001b[0m\u001b[1;32m    585\u001b[0m     \u001b[0;32mtry\u001b[0m\u001b[0;34m:\u001b[0m\u001b[0;34m\u001b[0m\u001b[0;34m\u001b[0m\u001b[0m\n\u001b[1;32m    586\u001b[0m         \u001b[0;31m# If one of desired/actual is not finite, handle it specially here:\u001b[0m\u001b[0;34m\u001b[0m\u001b[0;34m\u001b[0m\u001b[0;34m\u001b[0m\u001b[0m\n",
      "\u001b[0;32m/anaconda3/lib/python3.7/site-packages/numpy/testing/_private/utils.py\u001b[0m in \u001b[0;36massert_array_almost_equal\u001b[0;34m(x, y, decimal, err_msg, verbose)\u001b[0m\n\u001b[1;32m   1027\u001b[0m     assert_array_compare(compare, x, y, err_msg=err_msg, verbose=verbose,\n\u001b[1;32m   1028\u001b[0m              \u001b[0mheader\u001b[0m\u001b[0;34m=\u001b[0m\u001b[0;34m(\u001b[0m\u001b[0;34m'Arrays are not almost equal to %d decimals'\u001b[0m \u001b[0;34m%\u001b[0m \u001b[0mdecimal\u001b[0m\u001b[0;34m)\u001b[0m\u001b[0;34m,\u001b[0m\u001b[0;34m\u001b[0m\u001b[0;34m\u001b[0m\u001b[0m\n\u001b[0;32m-> 1029\u001b[0;31m              precision=decimal)\n\u001b[0m\u001b[1;32m   1030\u001b[0m \u001b[0;34m\u001b[0m\u001b[0m\n\u001b[1;32m   1031\u001b[0m \u001b[0;34m\u001b[0m\u001b[0m\n",
      "\u001b[0;32m/anaconda3/lib/python3.7/site-packages/numpy/testing/_private/utils.py\u001b[0m in \u001b[0;36massert_array_compare\u001b[0;34m(comparison, x, y, err_msg, verbose, header, precision, equal_nan, equal_inf)\u001b[0m\n\u001b[1;32m    839\u001b[0m                                 \u001b[0mverbose\u001b[0m\u001b[0;34m=\u001b[0m\u001b[0mverbose\u001b[0m\u001b[0;34m,\u001b[0m \u001b[0mheader\u001b[0m\u001b[0;34m=\u001b[0m\u001b[0mheader\u001b[0m\u001b[0;34m,\u001b[0m\u001b[0;34m\u001b[0m\u001b[0;34m\u001b[0m\u001b[0m\n\u001b[1;32m    840\u001b[0m                                 names=('x', 'y'), precision=precision)\n\u001b[0;32m--> 841\u001b[0;31m             \u001b[0;32mraise\u001b[0m \u001b[0mAssertionError\u001b[0m\u001b[0;34m(\u001b[0m\u001b[0mmsg\u001b[0m\u001b[0;34m)\u001b[0m\u001b[0;34m\u001b[0m\u001b[0;34m\u001b[0m\u001b[0m\n\u001b[0m\u001b[1;32m    842\u001b[0m     \u001b[0;32mexcept\u001b[0m \u001b[0mValueError\u001b[0m\u001b[0;34m:\u001b[0m\u001b[0;34m\u001b[0m\u001b[0;34m\u001b[0m\u001b[0m\n\u001b[1;32m    843\u001b[0m         \u001b[0;32mimport\u001b[0m \u001b[0mtraceback\u001b[0m\u001b[0;34m\u001b[0m\u001b[0;34m\u001b[0m\u001b[0m\n",
      "\u001b[0;31mAssertionError\u001b[0m: \nArrays are not almost equal to 7 decimals\n\nMismatch: 85.7%\nMax absolute difference: 0.4765625\nMax relative difference: 1.20500757e-14\n x: array([[ 1.0000000e+00],\n       [ 5.5108575e+13],\n       [ 2.7554288e+13],...\n y: array([[              1],\n       [ 55108575040023],\n       [ 27554287520011],..."
     ]
    }
   ],
   "source": [
    "tmp = tmp_GDV.columns[-1]\n",
    "for nb_orbits in range(1,15):\n",
    "    for comb in combinations(range(15), nb_orbits):\n",
    "        eq_orbits = list(map(lambda x:'C'+str(x),comb)) + [tmp]\n",
    "        if rank(tmp_GDV[eq_orbits]) == nb_orbits:\n",
    "            ker = kernel(tmp_GDV[eq_orbits])\n",
    "            vec = ker/min(abs(ker))\n",
    "            int_vec = np.around(vec).astype(int)\n",
    "            np.testing.assert_almost_equal(vec, int_vec)\n",
    "\n",
    "            s = pd.Series({orbit:int(coeff) for orbit,coeff in zip(eq_orbits,int_vec)})"
   ]
  },
  {
   "cell_type": "code",
   "execution_count": 67,
   "metadata": {},
   "outputs": [
    {
     "data": {
      "text/plain": [
       "Index(['AC0', 'AC4'], dtype='object')"
      ]
     },
     "execution_count": 67,
     "metadata": {},
     "output_type": "execute_result"
    }
   ],
   "source": [
    "tmp_GDV.columns[15:]"
   ]
  },
  {
   "cell_type": "code",
   "execution_count": 42,
   "metadata": {},
   "outputs": [
    {
     "data": {
      "text/plain": [
       "array([[ 2],\n",
       "       [ 1],\n",
       "       [ 2],\n",
       "       [ 1],\n",
       "       [ 2],\n",
       "       [-1]])"
      ]
     },
     "execution_count": 42,
     "metadata": {},
     "output_type": "execute_result"
    }
   ],
   "source": [
    "np.around(vec).astype(int)"
   ]
  },
  {
   "cell_type": "code",
   "execution_count": 28,
   "metadata": {},
   "outputs": [
    {
     "name": "stdout",
     "output_type": "stream",
     "text": [
      "1*C0 + 1*C1 + 2*C3 = -1*AC0 "
     ]
    }
   ],
   "source": [
    "s_iter = s.items()\n",
    "\n",
    "orbit, coeff = next(s_iter)\n",
    "\n",
    "print(f\"{coeff}*{orbit}\", end=' ')\n",
    "\n",
    "for orbit,coeff in s_iter:\n",
    "    \n",
    "    if orbit.startswith('A'):\n",
    "        break\n",
    "    \n",
    "    if   coeff > 0:\n",
    "        print('+', end=' ')\n",
    "    elif coeff < 0:\n",
    "        print('-', end=' ')\n",
    "    else:\n",
    "        raise Exception\n",
    "        \n",
    "    print(f\"{abs(coeff)}*{orbit}\", end=' ')\n",
    "    \n",
    "print(f\"= {coeff}*{orbit}\", end=' ')"
   ]
  },
  {
   "cell_type": "code",
   "execution_count": 25,
   "metadata": {},
   "outputs": [
    {
     "data": {
      "text/plain": [
       "['0', '1', '3', 'A']"
      ]
     },
     "execution_count": 25,
     "metadata": {},
     "output_type": "execute_result"
    }
   ],
   "source": [
    "eq_orbits"
   ]
  },
  {
   "cell_type": "code",
   "execution_count": 43,
   "metadata": {},
   "outputs": [],
   "source": [
    "np.testing.assert_almost_equal(vec, vec.astype(int))"
   ]
  },
  {
   "cell_type": "code",
   "execution_count": 53,
   "metadata": {},
   "outputs": [],
   "source": [
    "s = pd.Series({orbit:int(coeff) for orbit,coeff in zip(eq_orbits,vec)})"
   ]
  },
  {
   "cell_type": "code",
   "execution_count": 54,
   "metadata": {},
   "outputs": [
    {
     "data": {
      "text/plain": [
       "0   -1\n",
       "1   -1\n",
       "3   -2\n",
       "A    1\n",
       "dtype: int64"
      ]
     },
     "execution_count": 54,
     "metadata": {},
     "output_type": "execute_result"
    }
   ],
   "source": [
    "s"
   ]
  },
  {
   "cell_type": "code",
   "execution_count": 10,
   "metadata": {},
   "outputs": [
    {
     "data": {
      "text/plain": [
       "'AC0'"
      ]
     },
     "execution_count": 10,
     "metadata": {},
     "output_type": "execute_result"
    }
   ],
   "source": [
    "tmp_GDV.columns[-1]"
   ]
  },
  {
   "cell_type": "code",
   "execution_count": 54,
   "metadata": {},
   "outputs": [],
   "source": [
    "M = np.array([\n",
    "    [1,0,2,2,0,0,0,0,0,0,0,0,0,0,0],\n",
    "    [0,1,0,0,0,1,0,0,2,0,1,0,2,0,0],\n",
    "    [0,0,1,0,0,0,0,3,0,0,0,2,0,1,0],\n",
    "    [0,0,0,0,0,0,0,0,0,0,0,1,0,3,3],\n",
    "    [1,1,0,2,0,0,0,0,0,0,0,0,0,0,0],\n",
    "    [0,1,0,0,1,0,0,0,2,2,0,0,2,0,0],\n",
    "    [0,2,0,0,0,0,2,0,0,2,1,0,2,0,0],\n",
    "    [0,0,2,0,0,1,0,0,2,0,0,2,0,2,0],\n",
    "    [0,0,0,4,0,0,0,0,0,0,1,0,2,2,6],\n",
    "    [1,1,0,2,0,0,0,0,0,0,0,0,0,0,0],\n",
    "    [0,0,2,0,1,0,0,0,2,0,1,0,0,2,0],\n",
    "    [0,1,0,0,0,0,1,0,0,0,1,0,0,1,0],\n",
    "    [0,0,0,2,0,0,0,0,0,1,0,0,2,0,3],\n",
    "    \n",
    "    [1,1,2,6,1,0,0,0,2,2,1,0,4,2,6],  # A@A\n",
    "    [0,0,0,4,0,0,0,0,0,0,1,0,2,2,6],  # (A@A)*A\n",
    "    [1,1,2,6,0,1,0,0,2,0,1,2,2,4,6],  # D@A\n",
    "    [1,3,0,6,0,0,2,0,0,2,2,0,4,2,6],  # A@D\n",
    "    [0,2,0,4,0,0,2,0,0,2,2,0,4,2,6],  # A(deg-1)\n",
    "    [2,4,2,4,0,1,2,0,2,2,1,2,2,2,0],  # B+B.T\n",
    "    [2,5,2,4,1,1,2,0,4,4,1,2,4,2,0],  # B+B.T+D\n",
    "    [2,4,2,8,0,1,2,0,2,2,2,2,4,4,6],  # B+B.T+T\n",
    "    [3,6,2,10,1,1,2,0,4,4,2,2,6,4,6]])"
   ]
  },
  {
   "cell_type": "code",
   "execution_count": 55,
   "metadata": {},
   "outputs": [],
   "source": [
    "N = np.array([\n",
    "    [1,0,2,2,0,0,0,0,0,0,0,0,0,0,0],\n",
    "    [0,1,0,0,0,1,0,0,2,0,1,0,2,0,0],\n",
    "    [0,0,1,0,0,0,0,3,0,0,0,2,0,1,0],\n",
    "    [0,0,0,0,0,0,0,0,0,0,0,1,0,3,3],\n",
    "#    [1,1,0,2,0,0,0,0,0,0,0,0,0,0,0],\n",
    "#    [0,1,0,0,1,0,0,0,2,2,0,0,2,0,0], \n",
    "#    [0,2,0,0,0,0,2,0,0,2,1,0,2,0,0],\n",
    "    [0,0,2,0,0,1,0,0,2,0,0,2,0,2,0],\n",
    "    [0,0,0,4,0,0,0,0,0,0,1,0,2,2,6],\n",
    "    [1,1,0,2,0,0,0,0,0,0,0,0,0,0,0],\n",
    "    [0,0,2,0,1,0,0,0,2,0,1,0,0,2,0],\n",
    "    [0,1,0,0,0,0,1,0,0,0,1,0,0,1,0],\n",
    "    [0,0,0,2,0,0,0,0,0,1,0,0,2,0,3]])"
   ]
  },
  {
   "cell_type": "code",
   "execution_count": 56,
   "metadata": {},
   "outputs": [
    {
     "data": {
      "text/plain": [
       "(10, 10)"
      ]
     },
     "execution_count": 56,
     "metadata": {},
     "output_type": "execute_result"
    }
   ],
   "source": [
    "rank(M), rank(N)"
   ]
  },
  {
   "cell_type": "code",
   "execution_count": 9,
   "metadata": {},
   "outputs": [
    {
     "data": {
      "text/plain": [
       "(10, 15)"
      ]
     },
     "execution_count": 9,
     "metadata": {},
     "output_type": "execute_result"
    }
   ],
   "source": [
    "N.shape"
   ]
  },
  {
   "cell_type": "code",
   "execution_count": null,
   "metadata": {},
   "outputs": [],
   "source": [
    "1*B0 + 1*B1 + 2*B2 + 6*B3 + 1*B5 + 2*B8 + 1*B10 + 2*B11 + 2*B12 + 4*B13 + 6*B14"
   ]
  },
  {
   "cell_type": "code",
   "execution_count": 61,
   "metadata": {},
   "outputs": [
    {
     "data": {
      "text/plain": [
       "(True, True, True, True, True)"
      ]
     },
     "execution_count": 61,
     "metadata": {},
     "output_type": "execute_result"
    }
   ],
   "source": [
    "A = nx.to_numpy_array(G)\n",
    "\n",
    "Asq = A@A\n",
    "T = Asq*A\n",
    "\n",
    "D = Asq-T\n",
    "np.fill_diagonal(D,0)\n",
    "\n",
    "deg = np.array([d for n, d in G.degree()])\n",
    "BB   = A*(deg-1)-T\n",
    "\n",
    "\n",
    "(1*GDV['1']  + 2*GDV['3']                              == A@(GDV['0']-1)).all(), \\\n",
    "(1*GDV['4']  + 2*GDV['8']  + 2*GDV['9']  + 2*GDV['12'] == D@(GDV['0']-1)).all(), \\\n",
    "(1*GDV['10'] + 2*GDV['12'] + 6*GDV['14'] + 2*GDV['13'] == T@(GDV['0']-2)).all(), \\\n",
    "(2*GDV['6']  + 1*GDV['10'] + 2*GDV['9']  + 2*GDV['12'] == BB@(GDV['0']-2)).all(), \\\n",
    "(1*GDV['5']  + 2*GDV['11'] + 2*GDV['8']  + 2*GDV['13'] == BB.T@(GDV['0']-1)).all()"
   ]
  },
  {
   "cell_type": "code",
   "execution_count": 49,
   "metadata": {},
   "outputs": [],
   "source": [
    "D = Asq-T\n",
    "np.fill_diagonal(D,0)"
   ]
  },
  {
   "cell_type": "code",
   "execution_count": null,
   "metadata": {},
   "outputs": [],
   "source": [
    "3,6,2,10,1,1,2,0,4,4,2,2,6,4,6"
   ]
  }
 ],
 "metadata": {
  "kernelspec": {
   "display_name": "graco",
   "language": "python",
   "name": "graco"
  },
  "language_info": {
   "codemirror_mode": {
    "name": "ipython",
    "version": 3
   },
   "file_extension": ".py",
   "mimetype": "text/x-python",
   "name": "python",
   "nbconvert_exporter": "python",
   "pygments_lexer": "ipython3",
   "version": "3.7.3"
  }
 },
 "nbformat": 4,
 "nbformat_minor": 2
}
