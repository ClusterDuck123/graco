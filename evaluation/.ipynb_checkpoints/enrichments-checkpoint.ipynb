{
 "cells": [
  {
   "cell_type": "code",
   "execution_count": 1,
   "metadata": {},
   "outputs": [],
   "source": [
    "from pathlib import Path\n",
    "from itertools import product\n",
    "from collections import Counter, defaultdict\n",
    "\n",
    "import re\n",
    "import os\n",
    "import sys\n",
    "import graco\n",
    "import numpy as np\n",
    "import pandas as pd\n",
    "import networkx as nx"
   ]
  },
  {
   "cell_type": "code",
   "execution_count": 2,
   "metadata": {},
   "outputs": [],
   "source": [
    "simple_name = {\n",
    "    'systematic_PPI_BioGRID'     : 'PPI', \n",
    "    'GI_Constanzo2016'           : 'GI',\n",
    "    'systematic_CoEx_COEXPRESdb' : 'CoEx'\n",
    "}"
   ]
  },
  {
   "cell_type": "code",
   "execution_count": 3,
   "metadata": {},
   "outputs": [],
   "source": [
    "class InputParameters():\n",
    "    RUN   = sys.argv[1]\n",
    "    RANGE = 10\n",
    "\n",
    "    ALPHA = 0.05\n",
    "    MIN_GO = 5\n",
    "    MAX_GO = 500\n",
    "    MIN_LVL = 0\n",
    "    MAX_LVL = np.inf\n",
    "    CORRECTION = 'BY'\n",
    "\n",
    "    def __init__(self, network_name, feature, metric, method, aspect):\n",
    "        self.network_name = network_name\n",
    "        self.feature = feature\n",
    "        self.metric  = metric\n",
    "        self.method  = method\n",
    "        self.aspect  = aspect\n",
    "\n",
    "class Paths():\n",
    "    DATA_DIRECTORY = \"/Users/markusyoussef/Desktop/git/supplements/data\"\n",
    "    RAW_DATA_DIRECTORY = f\"{DATA_DIRECTORY}/raw_data\"\n",
    "    YEAST_DIRECTORY = f\"{DATA_DIRECTORY}/processed_data/yeast\"\n",
    "    NETWORK_DIRECTORY = f\"{YEAST_DIRECTORY}/networks\"\n",
    "    ANNOTATION_DIRECTORY = f\"{YEAST_DIRECTORY}/annotations\"\n",
    "\n",
    "    def __init__(self, in_parms):\n",
    "        self.NETWORK_FILE    = f\"{self.NETWORK_DIRECTORY}/{in_parms.network_name}.txt\"\n",
    "        self.ANNOTATION_FILE = f\"{self.ANNOTATION_DIRECTORY}/GO_{in_parms.aspect}_systematic_SGD.csv\"\n",
    "\n",
    "        network_to_method = f\"{in_parms.network_name}/{in_parms.feature}/{in_parms.metric}/{in_parms.method}\"\n",
    "        self.CLUSTER_DIRECTORY    = f\"{self.YEAST_DIRECTORY}/clusterings/\"   \\\n",
    "                                    f\"{network_to_method}\"\n",
    "        self.PVALUE_DIRECTORY     = f\"{self.YEAST_DIRECTORY}/pvalues/\"       \\\n",
    "                                    f\"{network_to_method}/{in_parms.aspect}\"\n",
    "        self.ENRICHMENT_DIRECTORY = f\"{self.YEAST_DIRECTORY}/enrichments/\"   \\\n",
    "                                    f\"{network_to_method}/{in_parms.aspect}/{in_parms.CORRECTION}\"\n",
    "\n",
    "        if not os.path.exists(self.ENRICHMENT_DIRECTORY):\n",
    "            os.makedirs(self.ENRICHMENT_DIRECTORY)"
   ]
  },
  {
   "cell_type": "code",
   "execution_count": 4,
   "metadata": {},
   "outputs": [],
   "source": [
    "# =============================================================================\n",
    "#  ----------------------------------- INIT -----------------------------------\n",
    "# =============================================================================\n",
    "\n",
    "NETWORK_NAMES = ['systematic_PPI_BioGRID', 'systematic_CoEx_COEXPRESdb','GI_Constanzo2016']\n",
    "FEATURES = ['GDV', \n",
    "            'GCV-A' , 'GCV-G' , 'GCV-O', \n",
    "            'GCV-DA', 'GCV-DG', 'GCV-DO',\n",
    "            'GCV-O+', 'GCV-all', 'GCV-3',\n",
    "            'triangle']\n",
    "METRICS  = ['mahalanobis', 'GDV_similarity', 'triangle',\n",
    "            'cityblock', 'euclidean', 'chebyshev', 'canberra', \n",
    "            'cosine', 'correlation', 'braycurtis', 'sqeuclidean', \n",
    "            'hellinger', 'js_divergence', 'seuclidean']\n",
    "METHODS  = ['kmedoid']\n",
    "ASPECTS  = ['BP', 'MF', 'CC']"
   ]
  },
  {
   "cell_type": "code",
   "execution_count": 5,
   "metadata": {},
   "outputs": [],
   "source": [
    "with open(\"/Users/markusyoussef/Desktop/git/supplements/data/processed_data/yeast/clusterings/output.txt\", 'r') as f:\n",
    "    unbalanced_clusters = pd.DataFrame(map(str.split,f), \n",
    "                                       columns=['network_name', 'feature', 'metric'])"
   ]
  },
  {
   "cell_type": "code",
   "execution_count": 6,
   "metadata": {},
   "outputs": [],
   "source": [
    "def id_metric_cells(html, metric, id_name):\n",
    "    \"\"\" \n",
    "    Adds id=id_name to all td tags containing ‘metric' and the one immediately after.\n",
    "    \"\"\"\n",
    "    old_strings = re.findall(f'<td>{metric}</td>\\s*<td>\\s*.*</td>', html)\n",
    "    for old in old_strings:\n",
    "        new = old.replace('<td>',f'<td id={id_name}>')\n",
    "        html = html.replace(old,new)\n",
    "    return html"
   ]
  },
  {
   "cell_type": "code",
   "execution_count": 7,
   "metadata": {},
   "outputs": [],
   "source": [
    "def edit_unbalanced_cells(html):\n",
    "    color = 'FFC0C0'\n",
    "    before, substr, after = html.partition('<td>-1')\n",
    "    \n",
    "    before_idx = before.rfind('<td>')\n",
    "    after_idx  = after.find( '</td>')\n",
    "    find_str = before[before_idx:] + substr + after[:after_idx+5]\n",
    "    repl_str = f'<td style=\"background-color:#{color}\">' + before[before_idx+4:] + \\\n",
    "               f'<td style=\"background-color:#{color}; text-align: center\"> - </td>'\n",
    "    \n",
    "    return html.replace(find_str, repl_str)"
   ]
  },
  {
   "cell_type": "code",
   "execution_count": 8,
   "metadata": {
    "scrolled": true
   },
   "outputs": [
    {
     "ename": "NameError",
     "evalue": "name 'features' is not defined",
     "output_type": "error",
     "traceback": [
      "\u001b[0;31m---------------------------------------------------------------------------\u001b[0m",
      "\u001b[0;31mNameError\u001b[0m                                 Traceback (most recent call last)",
      "\u001b[0;32m<ipython-input-8-6123e9d7ed9a>\u001b[0m in \u001b[0;36m<module>\u001b[0;34m\u001b[0m\n\u001b[1;32m      1\u001b[0m \u001b[0mfinal_html\u001b[0m \u001b[0;34m=\u001b[0m \u001b[0;34m''\u001b[0m\u001b[0;34m\u001b[0m\u001b[0;34m\u001b[0m\u001b[0m\n\u001b[1;32m      2\u001b[0m \u001b[0;34m\u001b[0m\u001b[0m\n\u001b[0;32m----> 3\u001b[0;31m \u001b[0;32mfor\u001b[0m \u001b[0mfeature\u001b[0m \u001b[0;32min\u001b[0m \u001b[0mfeatures\u001b[0m\u001b[0;34m:\u001b[0m\u001b[0;34m\u001b[0m\u001b[0;34m\u001b[0m\u001b[0m\n\u001b[0m\u001b[1;32m      4\u001b[0m     \u001b[0mGDV_dfs\u001b[0m \u001b[0;34m=\u001b[0m \u001b[0;34m{\u001b[0m\u001b[0;34m}\u001b[0m\u001b[0;34m\u001b[0m\u001b[0;34m\u001b[0m\u001b[0m\n\u001b[1;32m      5\u001b[0m     \u001b[0;32mfor\u001b[0m \u001b[0maspect\u001b[0m \u001b[0;32min\u001b[0m \u001b[0maspects\u001b[0m\u001b[0;34m:\u001b[0m\u001b[0;34m\u001b[0m\u001b[0;34m\u001b[0m\u001b[0m\n",
      "\u001b[0;31mNameError\u001b[0m: name 'features' is not defined"
     ]
    }
   ],
   "source": [
    "final_html = ''\n",
    "\n",
    "for feature in features:\n",
    "    GDV_dfs = {}\n",
    "    for aspect in aspects:\n",
    "        GDV_dfs[aspect] = pd.DataFrame()\n",
    "\n",
    "    for network_name, aspect in product(network_names, aspects):\n",
    "        path = Path(Paths.DATA_DIRECTORY)/'processed_data'/'yeast'/'enrichments'/network_name/feature\n",
    "        for metric_dir in path.glob('*'):\n",
    "            metric = metric_dir.stem\n",
    "            in_parms = InputParameters(network_name, feature, metric, 'kmedoid', aspect)\n",
    "            enrichment_dir = Path(Paths(in_parms).ENRICHMENT_DIRECTORY)\n",
    "            AUCs = [np.mean(np.loadtxt(enrichment_dir/file)) for file in enrichment_dir.glob('*genes.csv')]\n",
    "\n",
    "            #if [network_name, feature, metric] in unbalanced_clusters.values:\n",
    "            #    GDV_dfs[aspect].loc[metric,network_name] = -1\n",
    "            GDV_dfs[aspect].loc[metric,network_name] = np.mean(AUCs)  \n",
    "            \n",
    "            n_files = len(list(enrichment_dir.glob('*')))/3\n",
    "            assert n_files == 10, n_files\n",
    "    \n",
    "    network_df_list = []\n",
    "    for network in network_names:\n",
    "        network_df = pd.concat([GDV_dfs[aspect].nlargest(15, network)[[network]].reset_index() for aspect in aspects], axis=1)\n",
    "        network_df.columns = pd.MultiIndex.from_product([(simple_name[network],), aspects, ('metric','enrichment')])\n",
    "        network_df.columns.names = ['network', 'annotation', ' ']\n",
    "        network_df_list.append(network_df)\n",
    "    \n",
    "    feature_df = pd.concat(network_df_list, axis=1)\n",
    "    feature_df.index = pd.MultiIndex.from_product([(feature,), range(1,len(network_df)+1)])\n",
    "    \n",
    "    if feature == 'GDV':\n",
    "        top_metrics = ['mahalanobis', 'canberra', 'GDV_similarity']\n",
    "    else:\n",
    "        top_metrics = ['js_divergence', 'hellinger', 'canberra']\n",
    "        \n",
    "    html = feature_df.to_html()\n",
    "    \n",
    "    for nr, top_metric in enumerate(top_metrics,1):\n",
    "        html = id_metric_cells(html, top_metric, f'metric{nr}')\n",
    "        \n",
    "    final_html += html + '\\n\\n<hr>\\n\\n'\n",
    "    \n",
    "final_html = final_html.replace('GDV_similarity','GDV_distance')"
   ]
  },
  {
   "cell_type": "code",
   "execution_count": 9,
   "metadata": {},
   "outputs": [],
   "source": [
    "header = \"\"\"\n",
    "<!DOCTYPE html>\n",
    "<html>\n",
    "<style>\n",
    "#metric1 {background-color:#FFDDC0}\n",
    "#metric2 {background-color:#B8F4B8}\n",
    "#metric3 {background-color:#B0E9E9}\n",
    "</style>\n",
    "\n",
    "\"\"\"\n",
    "\n",
    "footer = '</html>'"
   ]
  },
  {
   "cell_type": "code",
   "execution_count": 10,
   "metadata": {},
   "outputs": [],
   "source": [
    "output_path = '/Users/markusyoussef/Desktop/jupyter_output/test.html'\n",
    "\n",
    "with open(output_path, 'w') as f:\n",
    "    f.write(header + final_html + footer)"
   ]
  },
  {
   "cell_type": "markdown",
   "metadata": {},
   "source": [
    "### New"
   ]
  },
  {
   "cell_type": "code",
   "execution_count": 9,
   "metadata": {},
   "outputs": [],
   "source": [
    "def id_unbalanced_cells(html, feature_unbalanced_clusters):\n",
    "    \"\"\" \n",
    "    Adds id=id_name to all td tags containing ‘metric' and the one immediately after.\n",
    "    \"\"\"\n",
    "    \n",
    "    for idx, (network_name, feature, metric) in feature_unbalanced_clusters.iterrows():\n",
    "        idx = NETWORK_NAMES.index(network_name)\n",
    "        select = slice(3*idx,3*(idx+1))\n",
    "\n",
    "        for block_str in re.findall(f\"(<tr>\\s*(?:<th\\s.*?)?<th>\\d+.*?</tr>)\", html, flags=re.DOTALL):\n",
    "            for old_str in re.findall(2*'<td.*</td>\\s*', block_str)[select]:\n",
    "                if metric in old_str:\n",
    "                    new_str = old_str.replace('<td>',f'<td id=unbalanced>')\n",
    "                    html = html.replace(old_str,new_str)\n",
    "    return html"
   ]
  },
  {
   "cell_type": "code",
   "execution_count": 10,
   "metadata": {},
   "outputs": [],
   "source": [
    "final_html = ''\n",
    "\n",
    "for feature in FEATURES:\n",
    "    GDV_dfs = {}\n",
    "    for aspect in ASPECTS:\n",
    "        GDV_dfs[aspect] = pd.DataFrame()\n",
    "\n",
    "    for network_name, aspect in product(NETWORK_NAMES, ASPECTS):\n",
    "        path = Path(Paths.DATA_DIRECTORY)/'processed_data'/'yeast'/'enrichments'/network_name/feature\n",
    "        for metric_dir in path.glob('*'):\n",
    "            metric = metric_dir.stem\n",
    "            in_parms = InputParameters(network_name, feature, metric, 'kmedoid', aspect)\n",
    "            enrichment_dir = Path(Paths(in_parms).ENRICHMENT_DIRECTORY)\n",
    "            AUCs = [np.mean(np.loadtxt(enrichment_dir/file)) for file in enrichment_dir.glob('*genes.csv')]\n",
    "\n",
    "            GDV_dfs[aspect].loc[metric,network_name] = np.mean(AUCs)  \n",
    "            \n",
    "            n_files = len(list(enrichment_dir.glob('*')))/3\n",
    "            assert n_files == 10, n_files\n",
    "    \n",
    "    network_df_list = []\n",
    "    for network in NETWORK_NAMES:\n",
    "        network_df = pd.concat([GDV_dfs[aspect].nlargest(15, network)[[network]].reset_index() for aspect in ASPECTS], axis=1)\n",
    "        network_df.columns = pd.MultiIndex.from_product([(simple_name[network],), ASPECTS, ('metric','enrichment')])\n",
    "        network_df.columns.names = ['network', 'annotation', ' ']\n",
    "        network_df_list.append(network_df)\n",
    "    \n",
    "    feature_df = pd.concat(network_df_list, axis=1)\n",
    "    feature_df.index = pd.MultiIndex.from_product([(feature,), range(1,len(network_df)+1)])\n",
    "    \n",
    "    if feature == 'GDV':\n",
    "        top_metrics = ['mahalanobis', 'canberra', 'GDV_similarity']\n",
    "    else:\n",
    "        top_metrics = ['js_divergence', 'hellinger', 'canberra']\n",
    "        \n",
    "    html = feature_df.to_html()\n",
    "    \n",
    "    feature_unbalanced_clusters = unbalanced_clusters[unbalanced_clusters.feature==feature]\n",
    "    html = id_unbalanced_cells(html, feature_unbalanced_clusters)\n",
    "    \n",
    "    for nr, top_metric in enumerate(top_metrics,1):\n",
    "        html = id_metric_cells(html, top_metric, f'metric{nr}')\n",
    "        \n",
    "    final_html += html + '\\n\\n<hr>\\n\\n'\n",
    "    \n",
    "final_html = final_html.replace('GDV_similarity','GDV_distance')"
   ]
  },
  {
   "cell_type": "code",
   "execution_count": 11,
   "metadata": {},
   "outputs": [],
   "source": [
    "header = \"\"\"\n",
    "<!DOCTYPE html>\n",
    "<html>\n",
    "<head>\n",
    "<style>\n",
    "#metric1 {background-color:#FFDDC0}\n",
    "#metric2 {background-color:#B8F4B8}\n",
    "#metric3 {background-color:#B0E9E9}\n",
    "#unbalanced {background-color:#FFC0C0}\n",
    "</style>\n",
    "\"\"\""
   ]
  },
  {
   "cell_type": "code",
   "execution_count": 12,
   "metadata": {},
   "outputs": [],
   "source": [
    "output_path = '/Users/markusyoussef/Desktop/jupyter_output/test.html'\n",
    "\n",
    "with open(output_path, 'w') as f:\n",
    "    f.write(header + final_html)"
   ]
  },
  {
   "cell_type": "code",
   "execution_count": 20,
   "metadata": {},
   "outputs": [
    {
     "data": {
      "text/html": [
       "<div>\n",
       "<style scoped>\n",
       "    .dataframe tbody tr th:only-of-type {\n",
       "        vertical-align: middle;\n",
       "    }\n",
       "\n",
       "    .dataframe tbody tr th {\n",
       "        vertical-align: top;\n",
       "    }\n",
       "\n",
       "    .dataframe thead th {\n",
       "        text-align: right;\n",
       "    }\n",
       "</style>\n",
       "<table border=\"1\" class=\"dataframe\">\n",
       "  <thead>\n",
       "    <tr style=\"text-align: right;\">\n",
       "      <th></th>\n",
       "      <th>network_name</th>\n",
       "      <th>feature</th>\n",
       "      <th>metric</th>\n",
       "    </tr>\n",
       "  </thead>\n",
       "  <tbody>\n",
       "    <tr>\n",
       "      <th>2</th>\n",
       "      <td>systematic_CoEx_COEXPRESdb</td>\n",
       "      <td>GCV-O</td>\n",
       "      <td>correlation</td>\n",
       "    </tr>\n",
       "    <tr>\n",
       "      <th>13</th>\n",
       "      <td>systematic_PPI_BioGRID</td>\n",
       "      <td>GCV-O</td>\n",
       "      <td>correlation</td>\n",
       "    </tr>\n",
       "    <tr>\n",
       "      <th>14</th>\n",
       "      <td>systematic_PPI_BioGRID</td>\n",
       "      <td>GCV-O</td>\n",
       "      <td>cosine</td>\n",
       "    </tr>\n",
       "    <tr>\n",
       "      <th>47</th>\n",
       "      <td>GI_Constanzo2016</td>\n",
       "      <td>GCV-O</td>\n",
       "      <td>sqeuclidean</td>\n",
       "    </tr>\n",
       "    <tr>\n",
       "      <th>48</th>\n",
       "      <td>GI_Constanzo2016</td>\n",
       "      <td>GCV-O</td>\n",
       "      <td>chebyshev</td>\n",
       "    </tr>\n",
       "    <tr>\n",
       "      <th>49</th>\n",
       "      <td>GI_Constanzo2016</td>\n",
       "      <td>GCV-O</td>\n",
       "      <td>correlation</td>\n",
       "    </tr>\n",
       "    <tr>\n",
       "      <th>50</th>\n",
       "      <td>GI_Constanzo2016</td>\n",
       "      <td>GCV-O</td>\n",
       "      <td>seuclidean</td>\n",
       "    </tr>\n",
       "    <tr>\n",
       "      <th>51</th>\n",
       "      <td>GI_Constanzo2016</td>\n",
       "      <td>GCV-O</td>\n",
       "      <td>braycurtis</td>\n",
       "    </tr>\n",
       "  </tbody>\n",
       "</table>\n",
       "</div>"
      ],
      "text/plain": [
       "                  network_name feature       metric\n",
       "2   systematic_CoEx_COEXPRESdb   GCV-O  correlation\n",
       "13      systematic_PPI_BioGRID   GCV-O  correlation\n",
       "14      systematic_PPI_BioGRID   GCV-O       cosine\n",
       "47            GI_Constanzo2016   GCV-O  sqeuclidean\n",
       "48            GI_Constanzo2016   GCV-O    chebyshev\n",
       "49            GI_Constanzo2016   GCV-O  correlation\n",
       "50            GI_Constanzo2016   GCV-O   seuclidean\n",
       "51            GI_Constanzo2016   GCV-O   braycurtis"
      ]
     },
     "execution_count": 20,
     "metadata": {},
     "output_type": "execute_result"
    }
   ],
   "source": [
    "unbalanced_clusters[unbalanced_clusters.feature=='GCV-O']"
   ]
  },
  {
   "cell_type": "code",
   "execution_count": 23,
   "metadata": {},
   "outputs": [
    {
     "data": {
      "text/plain": [
       "[0, 1, 2]"
      ]
     },
     "execution_count": 23,
     "metadata": {},
     "output_type": "execute_result"
    }
   ],
   "source": [
    "[0,1,2,3,4,5][slice(0,3)]"
   ]
  },
  {
   "cell_type": "code",
   "execution_count": null,
   "metadata": {},
   "outputs": [],
   "source": []
  }
 ],
 "metadata": {
  "kernelspec": {
   "display_name": "graco",
   "language": "python",
   "name": "graco"
  },
  "language_info": {
   "codemirror_mode": {
    "name": "ipython",
    "version": 3
   },
   "file_extension": ".py",
   "mimetype": "text/x-python",
   "name": "python",
   "nbconvert_exporter": "python",
   "pygments_lexer": "ipython3",
   "version": "3.7.7"
  }
 },
 "nbformat": 4,
 "nbformat_minor": 2
}
