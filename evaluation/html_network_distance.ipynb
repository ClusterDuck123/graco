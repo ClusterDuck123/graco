{
 "cells": [
  {
   "cell_type": "code",
   "execution_count": 1,
   "metadata": {},
   "outputs": [],
   "source": [
    "from pathlib import Path\n",
    "from itertools import product\n",
    "from collections import Counter, defaultdict\n",
    "from scipy.spatial.distance import squareform\n",
    "from sklearn.metrics import precision_recall_curve, roc_auc_score, roc_curve\n",
    "\n",
    "import re\n",
    "import os\n",
    "import sys\n",
    "import graco\n",
    "import numpy as np\n",
    "import pandas as pd\n",
    "import networkx as nx\n",
    "import sklearn.metrics"
   ]
  },
  {
   "cell_type": "code",
   "execution_count": 2,
   "metadata": {},
   "outputs": [],
   "source": [
    "def get_AUCs(df):\n",
    "\n",
    "    y_scores = 1-squareform(df)\n",
    "    y_true   = pd.DataFrame(np.zeros(df.shape, dtype=int), \n",
    "                            columns = df.columns, \n",
    "                            index   = df.index)\n",
    "\n",
    "    for mod in df.index.get_level_values(0).unique():\n",
    "        y_true.loc[mod,mod] = 1\n",
    "\n",
    "    y_true = squareform(y_true, checks=False)\n",
    "    prec, reca, thre = precision_recall_curve(y_true=y_true, probas_pred=y_scores)\n",
    "    AUC = sklearn.metrics.auc(reca, prec)\n",
    "\n",
    "    fpr, tpr, thre = roc_curve(y_true=y_true, y_score=y_scores)\n",
    "    ROC_AUC = roc_auc_score(y_true=y_true, y_score=y_scores)\n",
    "    \n",
    "    return AUC, ROC_AUC"
   ]
  },
  {
   "cell_type": "code",
   "execution_count": 3,
   "metadata": {},
   "outputs": [],
   "source": [
    "# =============================================================================\n",
    "#  ----------------------------------- INIT -----------------------------------\n",
    "# =============================================================================\n",
    "\n",
    "NETWORK_NAMES = ['synt', 'real']\n",
    "FEATURES = ['GCM', \n",
    "            'avg_D' , 'avg_A', 'avg_G' , 'avg_O',\n",
    "            'avg_DA', 'avg_DG' , 'avg_DO',\n",
    "            'avg_O3', 'avg_DAGO', 'avg_3',\n",
    "            'avg_clu0', 'avg_clus', \n",
    "            'avg_com0', 'avg_comm',\n",
    "            'avg_Del0', 'avg_Delt',\n",
    "            'emd_clu0', 'emd_clus', \n",
    "            'emd_com0', 'emd_comm',\n",
    "            'emd_Del0', 'emd_Delt',]\n",
    "METRICS  = ['city', 'eucl', 'cheb', 'canb', \n",
    "            'corr', 'hell', 'jsdi'\n",
    "            #'braycurtis', 'sqeuclidean', 'cosine'\n",
    "           ]\n",
    "AUCS = ['PR','ROC']"
   ]
  },
  {
   "cell_type": "code",
   "execution_count": 4,
   "metadata": {},
   "outputs": [],
   "source": [
    "def id_metric_cells(html, metric, id_name):\n",
    "    \"\"\" \n",
    "    Adds id=id_name to all td tags containing ‘metric' and the one immediately after.\n",
    "    \"\"\"\n",
    "    old_strings = re.findall(rf'<td>{metric}</td>\\s*<td>\\s*.*</td>', html)\n",
    "    for old in old_strings:\n",
    "        new = old.replace('<td>',f'<td id={id_name}>')\n",
    "        html = html.replace(old,new)\n",
    "    return html"
   ]
  },
  {
   "cell_type": "code",
   "execution_count": 5,
   "metadata": {},
   "outputs": [],
   "source": [
    "def prepare_dataframe(df):\n",
    "    return pd.DataFrame(squareform(squareform(df, checks=False)), \n",
    "                        index = df.index,\n",
    "                        columns = df.columns)"
   ]
  },
  {
   "cell_type": "code",
   "execution_count": 6,
   "metadata": {
    "scrolled": true
   },
   "outputs": [],
   "source": [
    "path = Path(\"/home/clusterduck123/Desktop/transfere/network_distances/\")\n",
    "final_html = ''\n",
    "\n",
    "for feature in FEATURES:\n",
    "    GDV_dfs = {}\n",
    "    for auc in AUCS:\n",
    "        GDV_dfs[auc] = pd.DataFrame()\n",
    "\n",
    "    for network_name in NETWORK_NAMES:\n",
    "        for file in path.glob(f'{network_name}_{feature}_*'):\n",
    "            metric = file.stem.split('_')[-1]\n",
    "            df = pd.read_csv(file, header = [0,1], index_col=[0,1])\n",
    "            df = prepare_dataframe(df)\n",
    "            try:\n",
    "                auc_pr, auc_roc =  get_AUCs(df)\n",
    "            except ValueError:\n",
    "                auc_pr, auc_roc = -1, -1\n",
    "            GDV_dfs['PR' ].loc[metric,network_name] = auc_pr\n",
    "            GDV_dfs['ROC'].loc[metric,network_name] = auc_roc\n",
    "    \n",
    "    \n",
    "    network_df_list = []\n",
    "    for network in NETWORK_NAMES:\n",
    "        network_df = pd.concat([GDV_dfs[auc].nlargest(15, network)[[network]].reset_index() for auc in AUCS], axis=1)\n",
    "        network_df.columns = pd.MultiIndex.from_product([(network,), AUCS, ('metric','AUC')])\n",
    "        network_df.columns.names = ['network', 'curve', ' ']\n",
    "        network_df_list.append(network_df)\n",
    "    \n",
    "    feature_df = pd.concat(network_df_list, axis=1)\n",
    "    feature_df.index = pd.MultiIndex.from_product([(feature,), range(1,len(network_df)+1)])\n",
    "    \n",
    "    if feature == 'GCM':\n",
    "        top_metrics = ['GCD11', 'canberra', 'GDV_similarity']\n",
    "    elif feature.startswith('emd'):\n",
    "        top_metrics = ['eucl', 'canberra', 'GDV_similarity']\n",
    "    else:\n",
    "        top_metrics = ['jsdi', 'hell', 'canb']\n",
    "        \n",
    "    html = feature_df.to_html()\n",
    "    \n",
    "    for nr, top_metric in enumerate(top_metrics,1):\n",
    "        html = id_metric_cells(html, top_metric, f'metric{nr}')\n",
    "        \n",
    "    final_html += html + '\\n\\n<hr>\\n\\n'"
   ]
  },
  {
   "cell_type": "code",
   "execution_count": 7,
   "metadata": {},
   "outputs": [],
   "source": [
    "header = \"\"\"\n",
    "<!DOCTYPE html>\n",
    "<html>\n",
    "<style>\n",
    "#metric1 {background-color:#FFDDC0}\n",
    "#metric2 {background-color:#B8F4B8}\n",
    "#metric3 {background-color:#B0E9E9}\n",
    "</style>\n",
    "\n",
    "\"\"\"\n",
    "\n",
    "footer = '</html>'"
   ]
  },
  {
   "cell_type": "code",
   "execution_count": 8,
   "metadata": {},
   "outputs": [],
   "source": [
    "output_path = '/home/clusterduck123/Desktop/test.html'\n",
    "\n",
    "with open(output_path, 'w') as f:\n",
    "    f.write(header + final_html + footer)"
   ]
  },
  {
   "cell_type": "code",
   "execution_count": null,
   "metadata": {},
   "outputs": [],
   "source": []
  }
 ],
 "metadata": {
  "kernelspec": {
   "display_name": "graco",
   "language": "python",
   "name": "graco"
  },
  "language_info": {
   "codemirror_mode": {
    "name": "ipython",
    "version": 3
   },
   "file_extension": ".py",
   "mimetype": "text/x-python",
   "name": "python",
   "nbconvert_exporter": "python",
   "pygments_lexer": "ipython3",
   "version": "3.6.9"
  }
 },
 "nbformat": 4,
 "nbformat_minor": 2
}
