{
 "cells": [
  {
   "cell_type": "code",
   "execution_count": 9,
   "metadata": {},
   "outputs": [],
   "source": [
    "from pyclustering.cluster.kmedoids import kmedoids\n",
    "from collections import defaultdict\n",
    "from sklearn.cluster import KMeans\n",
    "from scipy.stats import hypergeom\n",
    "\n",
    "import time\n",
    "import random\n",
    "import numpy as np\n",
    "import pandas as pd\n",
    "import seaborn as sns\n",
    "import networkx as nx\n",
    "import matplotlib.pyplot as plt"
   ]
  },
  {
   "cell_type": "code",
   "execution_count": 2,
   "metadata": {},
   "outputs": [],
   "source": [
    "%matplotlib inline\n",
    "sns.set()\n",
    "DATA_DIRECTORY = \"/Users/markusyoussef/Desktop/git/data\"\n",
    "\n",
    "\n",
    "RAW_DATA_DIRECTORY = f\"{DATA_DIRECTORY}/raw_data\"\n",
    "PPI_DIRECTORY = f\"{DATA_DIRECTORY}/PPI\"\n",
    "ANNOTATIONS_DIRECTORY = f\"{DATA_DIRECTORY}/annotations\"\n",
    "MATRIX_DIRECTORY = f\"{DATA_DIRECTORY}/matrix\""
   ]
  },
  {
   "cell_type": "markdown",
   "metadata": {},
   "source": [
    "### Functions"
   ]
  },
  {
   "cell_type": "code",
   "execution_count": 3,
   "metadata": {},
   "outputs": [],
   "source": [
    "def normalized_laplacian(D):\n",
    "    # can be optimized more\n",
    "    diag = ((len(D)-1) - np.sum(D, axis=0)).reshape(-1,1)\n",
    "    L  = D-1\n",
    "    np.fill_diagonal(L, diag)\n",
    "    L0 = np.multiply(np.multiply(diag**(-1/2),L).T,diag**(-1/2))\n",
    "    return L0\n",
    "\n",
    "\n",
    "# def p_value(n_GO_terms, \n",
    "#             n_cluster, \n",
    "#             list_of_success_states,\n",
    "#             list_of_draws,\n",
    "#             list_of_observed_successes):\n",
    "#     \n",
    "#     success_states = list_of_success_states[n_GO_terms]\n",
    "#     draws = list_of_draws[n_cluster]\n",
    "#     observed_successes = list_of_observed_successes[n_GO_terms][n_clusters]\n",
    "# \n",
    "#     K = len(success_states)\n",
    "#     n = len(draws)\n",
    "#     k = len(observed_successes)\n",
    "#     \n",
    "#     return 1-hypergeom.cdf(k-1, N, n, K)"
   ]
  },
  {
   "cell_type": "markdown",
   "metadata": {},
   "source": [
    "### Cluster independent variables"
   ]
  },
  {
   "cell_type": "code",
   "execution_count": 4,
   "metadata": {},
   "outputs": [],
   "source": [
    "annotation_df = pd.read_csv(f\"{ANNOTATIONS_DIRECTORY}/BioGRID-SGD_BP_sc.csv\")\n",
    "PPI_nx = nx.read_edgelist(f\"{PPI_DIRECTORY}/BioGRID_sc.txt\")\n",
    "D = np.genfromtxt(f\"{MATRIX_DIRECTORY}/sc_BioGRID_tvd0.txt\")\n",
    "\n",
    "GO_population = set(annotation_df.GO_ID)\n",
    "PPI_population = set(PPI_nx.nodes())"
   ]
  },
  {
   "cell_type": "markdown",
   "metadata": {},
   "source": [
    "### Name-to-Integer dictionaries"
   ]
  },
  {
   "cell_type": "code",
   "execution_count": 5,
   "metadata": {},
   "outputs": [],
   "source": [
    "int2gene = dict(enumerate(PPI_population))\n",
    "gene2int = dict(zip(int2gene.values(), int2gene.keys()))\n",
    "\n",
    "int2GO = dict(enumerate(GO_population))\n",
    "GO2int = dict(zip(int2GO.values(), int2GO.keys()))"
   ]
  },
  {
   "cell_type": "markdown",
   "metadata": {},
   "source": [
    "### Preparation"
   ]
  },
  {
   "cell_type": "markdown",
   "metadata": {},
   "source": [
    "Let $N$ be the number of genes in the PPI.   \n",
    "Each GO-term defines a 'state' in which $K$ proteins are annotated with this term; these are seen a _successes_.    \n",
    "A given cluster defines an 'experiment', in which the number of draws, $n$, corresponds to the length of the cluster.    \n",
    "The number of _successful draws_ $k$ corresponds to the number of annotated genes in the given cluster."
   ]
  },
  {
   "cell_type": "code",
   "execution_count": 6,
   "metadata": {},
   "outputs": [],
   "source": [
    "# Number of drawable elements is fixed throughout the whole analysis\n",
    "N = len(PPI_population)\n",
    "\n",
    "list_of_success_states = [set(map(gene2int.get, annotation_df.Systematic_ID[annotation_df.GO_ID == go_id]))\n",
    "                              for go_id in GO_population]\n",
    "\n",
    "# This will be our K, see below\n",
    "array_of_total_successes = np.array(list(map(len,list_of_success_states))).reshape(-1,1)"
   ]
  },
  {
   "cell_type": "markdown",
   "metadata": {},
   "source": [
    "### Here we GO"
   ]
  },
  {
   "cell_type": "code",
   "execution_count": 15,
   "metadata": {},
   "outputs": [],
   "source": [
    "MAX_CLUSTERS = 5\n",
    "alpha = [0.001, 0.01, 0.05]"
   ]
  },
  {
   "cell_type": "code",
   "execution_count": 16,
   "metadata": {},
   "outputs": [
    {
     "name": "stdout",
     "output_type": "stream",
     "text": [
      "2: 0.00sec\n"
     ]
    },
    {
     "ename": "KeyboardInterrupt",
     "evalue": "",
     "output_type": "error",
     "traceback": [
      "\u001b[0;31m---------------------------------------------------------------------------\u001b[0m",
      "\u001b[0;31mKeyboardInterrupt\u001b[0m                         Traceback (most recent call last)",
      "\u001b[0;32m<ipython-input-16-672c6e1e0c8b>\u001b[0m in \u001b[0;36m<module>\u001b[0;34m\u001b[0m\n\u001b[1;32m     12\u001b[0m     \u001b[0minitial_medoids\u001b[0m \u001b[0;34m=\u001b[0m \u001b[0mrandom\u001b[0m\u001b[0;34m.\u001b[0m\u001b[0msample\u001b[0m\u001b[0;34m(\u001b[0m\u001b[0mrange\u001b[0m\u001b[0;34m(\u001b[0m\u001b[0mN\u001b[0m\u001b[0;34m)\u001b[0m\u001b[0;34m,\u001b[0m \u001b[0mn_clusters\u001b[0m\u001b[0;34m)\u001b[0m\u001b[0;34m\u001b[0m\u001b[0;34m\u001b[0m\u001b[0m\n\u001b[1;32m     13\u001b[0m     \u001b[0mkmedoids_instance\u001b[0m \u001b[0;34m=\u001b[0m \u001b[0mkmedoids\u001b[0m\u001b[0;34m(\u001b[0m\u001b[0;36m1\u001b[0m\u001b[0;34m-\u001b[0m\u001b[0mD\u001b[0m\u001b[0;34m,\u001b[0m \u001b[0minitial_medoids\u001b[0m\u001b[0;34m,\u001b[0m \u001b[0mdata_type\u001b[0m\u001b[0;34m=\u001b[0m\u001b[0;34m'distance_matrix'\u001b[0m\u001b[0;34m)\u001b[0m\u001b[0;34m\u001b[0m\u001b[0;34m\u001b[0m\u001b[0m\n\u001b[0;32m---> 14\u001b[0;31m     \u001b[0mkmedoids_instance\u001b[0m\u001b[0;34m.\u001b[0m\u001b[0mprocess\u001b[0m\u001b[0;34m(\u001b[0m\u001b[0;34m)\u001b[0m\u001b[0;34m\u001b[0m\u001b[0;34m\u001b[0m\u001b[0m\n\u001b[0m\u001b[1;32m     15\u001b[0m     \u001b[0mclusters\u001b[0m \u001b[0;34m=\u001b[0m \u001b[0mkmedoids_instance\u001b[0m\u001b[0;34m.\u001b[0m\u001b[0mget_clusters\u001b[0m\u001b[0;34m(\u001b[0m\u001b[0;34m)\u001b[0m\u001b[0;34m\u001b[0m\u001b[0;34m\u001b[0m\u001b[0m\n\u001b[1;32m     16\u001b[0m \u001b[0;34m\u001b[0m\u001b[0m\n",
      "\u001b[0;32m~/Desktop/git/graco/venv/lib/python3.7/site-packages/pyclustering/cluster/kmedoids.py\u001b[0m in \u001b[0;36mprocess\u001b[0;34m(self)\u001b[0m\n\u001b[1;32m    156\u001b[0m         \u001b[0;32mif\u001b[0m \u001b[0mself\u001b[0m\u001b[0;34m.\u001b[0m\u001b[0m__ccore\u001b[0m \u001b[0;32mis\u001b[0m \u001b[0;32mTrue\u001b[0m\u001b[0;34m:\u001b[0m\u001b[0;34m\u001b[0m\u001b[0;34m\u001b[0m\u001b[0m\n\u001b[1;32m    157\u001b[0m             \u001b[0mccore_metric\u001b[0m \u001b[0;34m=\u001b[0m \u001b[0mmetric_wrapper\u001b[0m\u001b[0;34m.\u001b[0m\u001b[0mcreate_instance\u001b[0m\u001b[0;34m(\u001b[0m\u001b[0mself\u001b[0m\u001b[0;34m.\u001b[0m\u001b[0m__metric\u001b[0m\u001b[0;34m)\u001b[0m\u001b[0;34m\u001b[0m\u001b[0;34m\u001b[0m\u001b[0m\n\u001b[0;32m--> 158\u001b[0;31m             \u001b[0mself\u001b[0m\u001b[0;34m.\u001b[0m\u001b[0m__clusters\u001b[0m\u001b[0;34m,\u001b[0m \u001b[0mself\u001b[0m\u001b[0;34m.\u001b[0m\u001b[0m__medoid_indexes\u001b[0m \u001b[0;34m=\u001b[0m \u001b[0mwrapper\u001b[0m\u001b[0;34m.\u001b[0m\u001b[0mkmedoids\u001b[0m\u001b[0;34m(\u001b[0m\u001b[0mself\u001b[0m\u001b[0;34m.\u001b[0m\u001b[0m__pointer_data\u001b[0m\u001b[0;34m,\u001b[0m \u001b[0mself\u001b[0m\u001b[0;34m.\u001b[0m\u001b[0m__medoid_indexes\u001b[0m\u001b[0;34m,\u001b[0m \u001b[0mself\u001b[0m\u001b[0;34m.\u001b[0m\u001b[0m__tolerance\u001b[0m\u001b[0;34m,\u001b[0m \u001b[0mself\u001b[0m\u001b[0;34m.\u001b[0m\u001b[0m__itermax\u001b[0m\u001b[0;34m,\u001b[0m \u001b[0mccore_metric\u001b[0m\u001b[0;34m.\u001b[0m\u001b[0mget_pointer\u001b[0m\u001b[0;34m(\u001b[0m\u001b[0;34m)\u001b[0m\u001b[0;34m,\u001b[0m \u001b[0mself\u001b[0m\u001b[0;34m.\u001b[0m\u001b[0m__data_type\u001b[0m\u001b[0;34m)\u001b[0m\u001b[0;34m\u001b[0m\u001b[0;34m\u001b[0m\u001b[0m\n\u001b[0m\u001b[1;32m    159\u001b[0m \u001b[0;34m\u001b[0m\u001b[0m\n\u001b[1;32m    160\u001b[0m         \u001b[0;32melse\u001b[0m\u001b[0;34m:\u001b[0m\u001b[0;34m\u001b[0m\u001b[0;34m\u001b[0m\u001b[0m\n",
      "\u001b[0;32m~/Desktop/git/graco/venv/lib/python3.7/site-packages/pyclustering/core/kmedoids_wrapper.py\u001b[0m in \u001b[0;36mkmedoids\u001b[0;34m(sample, medoids, tolerance, itermax, metric_pointer, data_type)\u001b[0m\n\u001b[1;32m     40\u001b[0m \u001b[0;34m\u001b[0m\u001b[0m\n\u001b[1;32m     41\u001b[0m     \u001b[0mccore\u001b[0m\u001b[0;34m.\u001b[0m\u001b[0mkmedoids_algorithm\u001b[0m\u001b[0;34m.\u001b[0m\u001b[0mrestype\u001b[0m \u001b[0;34m=\u001b[0m \u001b[0mPOINTER\u001b[0m\u001b[0;34m(\u001b[0m\u001b[0mpyclustering_package\u001b[0m\u001b[0;34m)\u001b[0m\u001b[0;34m\u001b[0m\u001b[0;34m\u001b[0m\u001b[0m\n\u001b[0;32m---> 42\u001b[0;31m     \u001b[0mpackage\u001b[0m \u001b[0;34m=\u001b[0m \u001b[0mccore\u001b[0m\u001b[0;34m.\u001b[0m\u001b[0mkmedoids_algorithm\u001b[0m\u001b[0;34m(\u001b[0m\u001b[0mpointer_data\u001b[0m\u001b[0;34m,\u001b[0m \u001b[0mmedoids_package\u001b[0m\u001b[0;34m,\u001b[0m \u001b[0mc_double\u001b[0m\u001b[0;34m(\u001b[0m\u001b[0mtolerance\u001b[0m\u001b[0;34m)\u001b[0m\u001b[0;34m,\u001b[0m \u001b[0mc_size_t\u001b[0m\u001b[0;34m(\u001b[0m\u001b[0mitermax\u001b[0m\u001b[0;34m)\u001b[0m\u001b[0;34m,\u001b[0m \u001b[0mmetric_pointer\u001b[0m\u001b[0;34m,\u001b[0m \u001b[0mc_data_type\u001b[0m\u001b[0;34m)\u001b[0m\u001b[0;34m\u001b[0m\u001b[0;34m\u001b[0m\u001b[0m\n\u001b[0m\u001b[1;32m     43\u001b[0m \u001b[0;34m\u001b[0m\u001b[0m\n\u001b[1;32m     44\u001b[0m     \u001b[0mresult\u001b[0m \u001b[0;34m=\u001b[0m \u001b[0mpackage_extractor\u001b[0m\u001b[0;34m(\u001b[0m\u001b[0mpackage\u001b[0m\u001b[0;34m)\u001b[0m\u001b[0;34m.\u001b[0m\u001b[0mextract\u001b[0m\u001b[0;34m(\u001b[0m\u001b[0;34m)\u001b[0m\u001b[0;34m\u001b[0m\u001b[0;34m\u001b[0m\u001b[0m\n",
      "\u001b[0;31mKeyboardInterrupt\u001b[0m: "
     ]
    }
   ],
   "source": [
    "tvd0_high_coverage = []\n",
    "tvd0_middle_coverage = []\n",
    "tvd0_low_coverage = []\n",
    "\n",
    "t1 = time.time()\n",
    "\n",
    "for n_clusters in range(2, MAX_CLUSTERS):\n",
    "    t2 = time.time()\n",
    "    print(f'{n_clusters}: {t2-t1:.2f}sec')\n",
    "    \n",
    "    # Perform clustering\n",
    "    initial_medoids = random.sample(range(N), n_clusters)\n",
    "    kmedoids_instance = kmedoids(1-D, initial_medoids, data_type='distance_matrix')\n",
    "    kmedoids_instance.process()\n",
    "    clusters = kmedoids_instance.get_clusters()\n",
    "    \n",
    "    list_of_experiments = [set(cluster) for cluster in clusters]\n",
    "    \n",
    "    # For each GO term and cluster we get an experiment \n",
    "    array_of_observed_successes = np.array([[len(draws & success_states) for draws in list_of_experiments]\n",
    "                                        for success_states in list_of_success_states])\n",
    "    \n",
    "    \n",
    "    N = N                            # defined in section 'Preparation'\n",
    "    K = array_of_total_successes     # defined in section 'Preparation'\n",
    "    n = list(map(len, clusters))     # cluster length\n",
    "    k = array_of_observed_successes \n",
    "    \n",
    "    # scipy has a really messed up nomeclature... \n",
    "    p_values_array = 1-hypergeom.cdf(k=k-1, M=N, N=n, n=K)\n",
    "    p_values_df    = pd.DataFrame(p_values_array, index=GO_population)\n",
    "    \n",
    "    m = p_values_array.size\n",
    "    \n",
    "    hc_enrichment_df = p_values_df < alpha[0]/m\n",
    "    mc_enrichment_df = p_values_df < alpha[1]/m\n",
    "    lc_enrichment_df = p_values_df < alpha[2]/m\n",
    "    \n",
    "    tvd0_high_coverage.append(  sum(hc_enrichment_df.any())/n_clusters)\n",
    "    tvd0_middle_coverage.append(sum(mc_enrichment_df.any())/n_clusters)\n",
    "    tvd0_low_coverage.append(   sum(lc_enrichment_df.any())/n_clusters)"
   ]
  },
  {
   "cell_type": "code",
   "execution_count": null,
   "metadata": {},
   "outputs": [],
   "source": [
    "tvd='0'\n",
    "\n",
    "fig, ax = plt.subplots(figsize=(12,9))\n",
    "fig.patch.set_alpha(0)\n",
    "ax.patch.set_alpha(0)\n",
    "\n",
    "plt.plot(range(2,MAX_CLUSTERS), eval(f\"tvd{tvd}_middle_coverage\"), \n",
    "         label=r'$TVD_{123}$', \n",
    "         linewidth=2.5);\n",
    "plt.fill_between(range(2,MAX_CLUSTERS), \n",
    "                 eval(f\"tvd{tvd}_high_coverage\"), \n",
    "                 eval(f\"tvd{tvd}_low_coverage\"), \n",
    "                 alpha=0.1);\n",
    "\n",
    "\n",
    "#plt.plot(range(2,MAX_CLUSTER), tijana_spectral_middle_coverage, \n",
    "#         label=r'Tijana',\n",
    "#         linewidth=2.5);\n",
    "#plt.fill_between(range(2,MAX_CLUSTER), tijana_spectral_high_coverage, tijana_spectral_low_coverage, alpha=0.1);\n",
    "\n",
    "\n",
    "ax.set_xlabel('# clusters', fontsize=32)\n",
    "ax.set_ylabel('% enriched', fontsize=32)\n",
    "ax.tick_params(axis='both', which='major', labelsize=24)\n",
    "\n",
    "ax.spines['left'].set_linewidth(2.5)\n",
    "ax.spines['left'].set_color('black')\n",
    "\n",
    "ax.spines['bottom'].set_linewidth(2.5)\n",
    "ax.spines['bottom'].set_color('black')\n",
    "\n",
    "ax.legend(fontsize=28, shadow=True, facecolor=[0.95, 0.95, 0.95, 0]);\n",
    "#fig.savefig(f\"data/plots/tvd_{tvd}.png\")"
   ]
  },
  {
   "cell_type": "code",
   "execution_count": 111,
   "metadata": {},
   "outputs": [
    {
     "data": {
      "text/plain": [
       "9316"
      ]
     },
     "execution_count": 111,
     "metadata": {},
     "output_type": "execute_result"
    }
   ],
   "source": [
    "k.size"
   ]
  },
  {
   "cell_type": "code",
   "execution_count": 106,
   "metadata": {},
   "outputs": [
    {
     "data": {
      "text/plain": [
       "array([[0.33339506, 0.8128368 ],\n",
       "       [0.61143458, 0.75665344],\n",
       "       [0.47888955, 0.55283378],\n",
       "       ...,\n",
       "       [0.9918345 , 0.06204634],\n",
       "       [0.83500817, 0.57260943],\n",
       "       [1.        , 0.30086436]])"
      ]
     },
     "execution_count": 106,
     "metadata": {},
     "output_type": "execute_result"
    }
   ],
   "source": [
    "1-hypergeom.cdf(k=k-1, M=N, N=list(map(len, clusters)), n=K)"
   ]
  },
  {
   "cell_type": "code",
   "execution_count": 108,
   "metadata": {},
   "outputs": [
    {
     "data": {
      "text/plain": [
       "array([[0.66660494, 0.8128368 ],\n",
       "       [0.75665344, 0.75665344],\n",
       "       [0.99999999, 0.55283378],\n",
       "       ...,\n",
       "       [0.9982849 , 0.06204634],\n",
       "       [0.90805015, 0.57260943],\n",
       "       [1.        , 0.30086436]])"
      ]
     },
     "execution_count": 108,
     "metadata": {},
     "output_type": "execute_result"
    }
   ],
   "source": [
    "1- hypergeom.cdf(k-1, M=N, N=3141, n=K)"
   ]
  },
  {
   "cell_type": "code",
   "execution_count": 95,
   "metadata": {},
   "outputs": [],
   "source": [
    "N    = N                                    # defined in section 'Preparation'\n",
    "K    = array_of_total_successes             # defined in section 'Preparation'\n",
    "_, n = array_of_observed_successes.shape    # #rows = #GO-terms\n",
    "k    = array_of_observed_successes "
   ]
  },
  {
   "cell_type": "code",
   "execution_count": 100,
   "metadata": {},
   "outputs": [
    {
     "data": {
      "text/plain": [
       "2585"
      ]
     },
     "execution_count": 100,
     "metadata": {},
     "output_type": "execute_result"
    }
   ],
   "source": [
    "len(clusters[0])"
   ]
  },
  {
   "cell_type": "code",
   "execution_count": 101,
   "metadata": {},
   "outputs": [
    {
     "data": {
      "text/plain": [
       "[<matplotlib.lines.Line2D at 0x128df3278>]"
      ]
     },
     "execution_count": 101,
     "metadata": {},
     "output_type": "execute_result"
    },
    {
     "data": {
      "image/png": "[encoded data removed]",
      "text/plain": [
       "<Figure size 432x288 with 1 Axes>"
      ]
     },
     "metadata": {},
     "output_type": "display_data"
    }
   ],
   "source": [
    "fig, ax = plt.subplots()\n",
    "ax.plot(range(5), hypergeom.cdf(range(5), M=N, n=19, N=2585))#\n",
    "#ax.set_ylim(0,1);"
   ]
  },
  {
   "cell_type": "code",
   "execution_count": 87,
   "metadata": {},
   "outputs": [
    {
     "data": {
      "text/plain": [
       "array([nan, nan, nan, nan, nan])"
      ]
     },
     "execution_count": 87,
     "metadata": {},
     "output_type": "execute_result"
    }
   ],
   "source": [
    "hypergeom.cdf(range(5), M=2, N=19, n=5726)"
   ]
  },
  {
   "cell_type": "code",
   "execution_count": 67,
   "metadata": {},
   "outputs": [
    {
     "data": {
      "text/plain": [
       "'1.3.1'"
      ]
     },
     "execution_count": 67,
     "metadata": {},
     "output_type": "execute_result"
    }
   ],
   "source": [
    "scipy.__version__"
   ]
  },
  {
   "cell_type": "markdown",
   "metadata": {},
   "source": [
    "# Test"
   ]
  },
  {
   "cell_type": "code",
   "execution_count": 9,
   "metadata": {},
   "outputs": [],
   "source": [
    "# Perform clustering\n",
    "initial_medoids = [1, 500]\n",
    "kmedoids_instance = kmedoids(D, initial_medoids, data_type='distance_matrix')\n",
    "kmedoids_instance.process()\n",
    "clusters = kmedoids_instance.get_clusters()\n",
    "\n",
    "list_of_experiments = [set(cluster) for cluster in clusters]\n",
    "\n",
    "# For each GO term and cluster we get an experiment \n",
    "array_of_observed_successes = np.array([[len(draws & success_states) for draws in list_of_experiments]\n",
    "                                    for success_states in list_of_success_states])"
   ]
  },
  {
   "cell_type": "code",
   "execution_count": 28,
   "metadata": {},
   "outputs": [],
   "source": [
    "_, n = array_of_observed_successes.shape\n",
    "K = np.array(list(map(len,list_of_success_states)))"
   ]
  },
  {
   "cell_type": "code",
   "execution_count": 29,
   "metadata": {},
   "outputs": [
    {
     "data": {
      "text/plain": [
       "array([[36, 42],\n",
       "       [ 0,  3],\n",
       "       [ 1,  0],\n",
       "       ...,\n",
       "       [ 2,  3],\n",
       "       [ 1,  0],\n",
       "       [ 8,  7]])"
      ]
     },
     "execution_count": 29,
     "metadata": {},
     "output_type": "execute_result"
    }
   ],
   "source": [
    "array_of_observed_successes"
   ]
  },
  {
   "cell_type": "code",
   "execution_count": 38,
   "metadata": {},
   "outputs": [],
   "source": [
    "test = 1-hypergeom.cdf(array_of_observed_successes-1, N, n, K.reshape(-1,1))"
   ]
  },
  {
   "cell_type": "code",
   "execution_count": 39,
   "metadata": {},
   "outputs": [
    {
     "data": {
      "text/plain": [
       "(4658, 2)"
      ]
     },
     "execution_count": 39,
     "metadata": {},
     "output_type": "execute_result"
    }
   ],
   "source": [
    "test.shape"
   ]
  },
  {
   "cell_type": "code",
   "execution_count": 41,
   "metadata": {},
   "outputs": [
    {
     "data": {
      "text/plain": [
       "array([78,  3,  1, ...,  5,  1, 15])"
      ]
     },
     "execution_count": 41,
     "metadata": {},
     "output_type": "execute_result"
    }
   ],
   "source": [
    "array_of_observed_successes.sum(axis=1)"
   ]
  },
  {
   "cell_type": "code",
   "execution_count": 8,
   "metadata": {},
   "outputs": [],
   "source": [
    "import random\n",
    "import string\n",
    "\n",
    "def randomString(stringLength=10):\n",
    "    \"\"\"Generate a random string of fixed length \"\"\"\n",
    "    letters = string.ascii_lowercase\n",
    "    return ''.join(random.choice(letters) for i in range(stringLength))"
   ]
  },
  {
   "cell_type": "code",
   "execution_count": null,
   "metadata": {},
   "outputs": [],
   "source": [
    "my_map = { i: randomString(10) for i in range(100)}"
   ]
  },
  {
   "cell_type": "code",
   "execution_count": 10,
   "metadata": {},
   "outputs": [
    {
     "name": "stdout",
     "output_type": "stream",
     "text": [
      "39.5 µs ± 4.09 µs per loop (mean ± std. dev. of 7 runs, 10000 loops each)\n"
     ]
    }
   ],
   "source": [
    "%%timeit\n",
    "dict(map(reversed, my_map.items()))"
   ]
  },
  {
   "cell_type": "code",
   "execution_count": 11,
   "metadata": {},
   "outputs": [
    {
     "name": "stdout",
     "output_type": "stream",
     "text": [
      "10.7 µs ± 331 ns per loop (mean ± std. dev. of 7 runs, 100000 loops each)\n"
     ]
    }
   ],
   "source": [
    "%%timeit\n",
    "{v: k for k, v in my_map.items()}"
   ]
  },
  {
   "cell_type": "code",
   "execution_count": 12,
   "metadata": {},
   "outputs": [
    {
     "name": "stdout",
     "output_type": "stream",
     "text": [
      "7.91 µs ± 69.3 ns per loop (mean ± std. dev. of 7 runs, 100000 loops each)\n"
     ]
    }
   ],
   "source": [
    "%%timeit\n",
    "dict(zip(my_map.values(), my_map.keys()))"
   ]
  },
  {
   "cell_type": "code",
   "execution_count": null,
   "metadata": {},
   "outputs": [],
   "source": []
  }
 ],
 "metadata": {
  "kernelspec": {
   "display_name": "graco",
   "language": "python",
   "name": "graco"
  },
  "language_info": {
   "codemirror_mode": {
    "name": "ipython",
    "version": 3
   },
   "file_extension": ".py",
   "mimetype": "text/x-python",
   "name": "python",
   "nbconvert_exporter": "python",
   "pygments_lexer": "ipython3",
   "version": "3.7.3"
  }
 },
 "nbformat": 4,
 "nbformat_minor": 2
}
