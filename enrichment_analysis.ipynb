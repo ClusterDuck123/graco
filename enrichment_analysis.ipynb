{
 "cells": [
  {
   "cell_type": "code",
   "execution_count": 1,
   "metadata": {},
   "outputs": [],
   "source": [
    "from pyclustering.cluster.kmedoids import kmedoids\n",
    "from collections import defaultdict\n",
    "from sklearn.cluster import KMeans\n",
    "from scipy.stats import hypergeom\n",
    "\n",
    "import time\n",
    "import random\n",
    "import numpy as np\n",
    "import pandas as pd\n",
    "import seaborn as sns\n",
    "import networkx as nx\n",
    "import matplotlib.pyplot as plt"
   ]
  },
  {
   "cell_type": "code",
   "execution_count": 2,
   "metadata": {},
   "outputs": [],
   "source": [
    "%matplotlib inline\n",
    "sns.set()\n",
    "DATA_DIRECTORY = \"/home/clusterduck123/Desktop/git/supplements/data\"\n",
    "\n",
    "\n",
    "RAW_DATA_DIRECTORY = f\"{DATA_DIRECTORY}/raw_data\"\n",
    "PPI_DIRECTORY = f\"{DATA_DIRECTORY}/PPI\"\n",
    "ANNOTATIONS_DIRECTORY = f\"{DATA_DIRECTORY}/annotations\"\n",
    "MATRIX_DIRECTORY = f\"{DATA_DIRECTORY}/matrix\""
   ]
  },
  {
   "cell_type": "markdown",
   "metadata": {},
   "source": [
    "### Functions"
   ]
  },
  {
   "cell_type": "code",
   "execution_count": 3,
   "metadata": {},
   "outputs": [],
   "source": [
    "def normalized_laplacian(D):\n",
    "    # can be optimized more\n",
    "    diag = ((len(D)-1) - np.sum(D, axis=0)).reshape(-1,1)\n",
    "    L  = D-1\n",
    "    np.fill_diagonal(L, diag)\n",
    "    L0 = np.multiply(np.multiply(diag**(-1/2),L).T,diag**(-1/2))\n",
    "    return L0\n",
    "\n",
    "\n",
    "# def p_value(n_GO_terms, \n",
    "#             n_cluster, \n",
    "#             list_of_success_states,\n",
    "#             list_of_draws,\n",
    "#             list_of_observed_successes):\n",
    "#     \n",
    "#     success_states = list_of_success_states[n_GO_terms]\n",
    "#     draws = list_of_draws[n_cluster]\n",
    "#     observed_successes = list_of_observed_successes[n_GO_terms][n_clusters]\n",
    "# \n",
    "#     K = len(success_states)\n",
    "#     n = len(draws)\n",
    "#     k = len(observed_successes)\n",
    "#     \n",
    "#     return 1-hypergeom.cdf(k-1, N, n, K)"
   ]
  },
  {
   "cell_type": "markdown",
   "metadata": {},
   "source": [
    "### Cluster independent variables"
   ]
  },
  {
   "cell_type": "code",
   "execution_count": 224,
   "metadata": {},
   "outputs": [],
   "source": [
    "annotation_df = pd.read_csv(f\"{ANNOTATIONS_DIRECTORY}/BioGRID-SGD_BP_sc.csv\")\n",
    "PPI_nx = nx.read_edgelist(f\"{PPI_DIRECTORY}/BioGRID_sc.txt\")\n",
    "\n",
    "D_df = pd.read_csv(f\"{MATRIX_DIRECTORY}/sc_BioGRID_tvd0.txt\", delimiter=' ')\n",
    "\n",
    "GO_population = set(annotation_df.GO_ID)\n",
    "PPI_population = set(PPI_nx.nodes())"
   ]
  },
  {
   "cell_type": "markdown",
   "metadata": {},
   "source": [
    "### Name-to-Integer dictionaries"
   ]
  },
  {
   "cell_type": "code",
   "execution_count": 226,
   "metadata": {},
   "outputs": [],
   "source": [
    "int2gene = dict(enumerate(D_df.columns))\n",
    "gene2int = dict(zip(int2gene.values(), int2gene.keys()))\n",
    "\n",
    "int2GO = dict(enumerate(GO_population))\n",
    "GO2int = dict(zip(int2GO.values(), int2GO.keys()))"
   ]
  },
  {
   "cell_type": "markdown",
   "metadata": {},
   "source": [
    "### Preparation"
   ]
  },
  {
   "cell_type": "markdown",
   "metadata": {},
   "source": [
    "Let $N$ be the number of genes in the PPI.   \n",
    "Each GO-term defines a 'state' in which $K$ proteins are annotated with this term; these are seen a _successes_.    \n",
    "A given cluster defines an 'experiment', in which the number of draws, $n$, corresponds to the length of the cluster.    \n",
    "The number of _successful draws_ $k$ corresponds to the number of annotated genes in the given cluster."
   ]
  },
  {
   "cell_type": "code",
   "execution_count": 227,
   "metadata": {},
   "outputs": [],
   "source": [
    "# Number of drawable elements is fixed throughout the whole analysis\n",
    "N = len(PPI_population)\n",
    "\n",
    "list_of_success_states = [set(map(gene2int.get, annotation_df.Systematic_ID[annotation_df.GO_ID == go_id]))\n",
    "                              for go_id in GO_population]\n",
    "\n",
    "# This will be our K, see below\n",
    "array_of_total_successes = np.array(list(map(len,list_of_success_states))).reshape(-1,1)"
   ]
  },
  {
   "cell_type": "markdown",
   "metadata": {},
   "source": [
    "### Here we GO"
   ]
  },
  {
   "cell_type": "code",
   "execution_count": 228,
   "metadata": {},
   "outputs": [],
   "source": [
    "MAX_CLUSTERS = 10\n",
    "alpha = [0.01, 0.05, 0.1]"
   ]
  },
  {
   "cell_type": "code",
   "execution_count": 232,
   "metadata": {},
   "outputs": [
    {
     "name": "stdout",
     "output_type": "stream",
     "text": [
      "2: 0.00sec\n",
      "3: 6.24sec\n",
      "4: 12.99sec\n",
      "5: 19.43sec\n",
      "6: 25.97sec\n",
      "7: 31.91sec\n",
      "8: 38.21sec\n",
      "9: 44.49sec\n",
      "10: 50.80sec\n",
      "11: 57.06sec\n",
      "12: 63.83sec\n",
      "13: 70.30sec\n",
      "14: 76.61sec\n",
      "15: 83.07sec\n",
      "16: 89.55sec\n",
      "17: 96.23sec\n",
      "18: 103.00sec\n",
      "19: 109.26sec\n"
     ]
    }
   ],
   "source": [
    "tvd0_high_coverage = []\n",
    "tvd0_middle_coverage = []\n",
    "tvd0_low_coverage = []\n",
    "\n",
    "t1 = time.time()\n",
    "\n",
    "for n_clusters in range(2, MAX_CLUSTERS):\n",
    "    t2 = time.time()\n",
    "    print(f'{n_clusters}: {t2-t1:.2f}sec')\n",
    "    \n",
    "    # Perform clustering\n",
    "    initial_medoids = random.sample(range(N), n_clusters)\n",
    "    kmedoids_instance = kmedoids(np.array(D_df), initial_medoids, data_type='distance_matrix')\n",
    "    kmedoids_instance.process()\n",
    "    clusters = kmedoids_instance.get_clusters()\n",
    "    \n",
    "    list_of_experiments = [set(cluster) for cluster in clusters]\n",
    "    \n",
    "    # For each GO term and cluster we get an experiment \n",
    "    array_of_observed_successes = np.array([[len(draws & success_states) for draws in list_of_experiments]\n",
    "                                        for success_states in list_of_success_states])\n",
    "    \n",
    "    \n",
    "    N = N                            # defined in section 'Preparation'\n",
    "    K = array_of_total_successes     # defined in section 'Preparation'\n",
    "    n = list(map(len, clusters))     # cluster length\n",
    "    k = array_of_observed_successes \n",
    "    \n",
    "    # scipy has a really messed up nomeclature... \n",
    "    p_values_array = 1-hypergeom.cdf(k=k-1, M=N, N=n, n=K)\n",
    "    p_values_df    = pd.DataFrame(p_values_array, index=GO_population)\n",
    "    \n",
    "    m = p_values_array.size\n",
    "    \n",
    "    hc_enrichment_df = p_values_df < alpha[0]/m\n",
    "    mc_enrichment_df = p_values_df < alpha[1]/m\n",
    "    lc_enrichment_df = p_values_df < alpha[2]/m\n",
    "    \n",
    "    tvd0_high_coverage.append(  sum(hc_enrichment_df.any())/n_clusters)\n",
    "    tvd0_middle_coverage.append(sum(mc_enrichment_df.any())/n_clusters)\n",
    "    tvd0_low_coverage.append(   sum(lc_enrichment_df.any())/n_clusters)"
   ]
  },
  {
   "cell_type": "code",
   "execution_count": 233,
   "metadata": {},
   "outputs": [
    {
     "data": {
      "image/png": "[encoded data removed]",
      "text/plain": [
       "<Figure size 864x648 with 1 Axes>"
      ]
     },
     "metadata": {
      "needs_background": "light"
     },
     "output_type": "display_data"
    }
   ],
   "source": [
    "tvd='0'\n",
    "\n",
    "fig, ax = plt.subplots(figsize=(12,9))\n",
    "fig.patch.set_alpha(0)\n",
    "ax.patch.set_alpha(0)\n",
    "\n",
    "plt.plot(range(2,MAX_CLUSTERS), eval(f\"tvd{tvd}_middle_coverage\"), \n",
    "         label=r'$TVD_{123}$', \n",
    "         linewidth=2.5);\n",
    "plt.fill_between(range(2,MAX_CLUSTERS), \n",
    "                 eval(f\"tvd{tvd}_high_coverage\"), \n",
    "                 eval(f\"tvd{tvd}_low_coverage\"), \n",
    "                 alpha=0.1);\n",
    "\n",
    "\n",
    "#plt.plot(range(2,MAX_CLUSTER), tijana_spectral_middle_coverage, \n",
    "#         label=r'Tijana',\n",
    "#         linewidth=2.5);\n",
    "#plt.fill_between(range(2,MAX_CLUSTER), tijana_spectral_high_coverage, tijana_spectral_low_coverage, alpha=0.1);\n",
    "\n",
    "\n",
    "ax.set_xlabel('# clusters', fontsize=32)\n",
    "ax.set_ylabel('% enriched', fontsize=32)\n",
    "ax.tick_params(axis='both', which='major', labelsize=24)\n",
    "\n",
    "ax.spines['left'].set_linewidth(2.5)\n",
    "ax.spines['left'].set_color('black')\n",
    "\n",
    "ax.spines['bottom'].set_linewidth(2.5)\n",
    "ax.spines['bottom'].set_color('black')\n",
    "\n",
    "ax.legend(fontsize=28, shadow=True, facecolor=[0.95, 0.95, 0.95, 0]);\n",
    "#fig.savefig(f\"data/plots/tvd_{tvd}.png\")"
   ]
  },
  {
   "cell_type": "code",
   "execution_count": 16,
   "metadata": {},
   "outputs": [
    {
     "data": {
      "text/html": [
       "<div>\n",
       "<style scoped>\n",
       "    .dataframe tbody tr th:only-of-type {\n",
       "        vertical-align: middle;\n",
       "    }\n",
       "\n",
       "    .dataframe tbody tr th {\n",
       "        vertical-align: top;\n",
       "    }\n",
       "\n",
       "    .dataframe thead th {\n",
       "        text-align: right;\n",
       "    }\n",
       "</style>\n",
       "<table border=\"1\" class=\"dataframe\">\n",
       "  <thead>\n",
       "    <tr style=\"text-align: right;\">\n",
       "      <th></th>\n",
       "      <th>0</th>\n",
       "      <th>1</th>\n",
       "      <th>2</th>\n",
       "      <th>3</th>\n",
       "    </tr>\n",
       "  </thead>\n",
       "  <tbody>\n",
       "    <tr>\n",
       "      <th>GO:0009179</th>\n",
       "      <td>0.435787</td>\n",
       "      <td>0.854621</td>\n",
       "      <td>0.874886</td>\n",
       "      <td>0.195193</td>\n",
       "    </tr>\n",
       "    <tr>\n",
       "      <th>GO:0031930</th>\n",
       "      <td>0.948812</td>\n",
       "      <td>0.233231</td>\n",
       "      <td>0.124960</td>\n",
       "      <td>1.000000</td>\n",
       "    </tr>\n",
       "    <tr>\n",
       "      <th>GO:1901607</th>\n",
       "      <td>0.315805</td>\n",
       "      <td>0.559427</td>\n",
       "      <td>0.520811</td>\n",
       "      <td>0.798656</td>\n",
       "    </tr>\n",
       "    <tr>\n",
       "      <th>GO:0006338</th>\n",
       "      <td>0.160620</td>\n",
       "      <td>0.694693</td>\n",
       "      <td>0.575221</td>\n",
       "      <td>0.830187</td>\n",
       "    </tr>\n",
       "    <tr>\n",
       "      <th>GO:0061157</th>\n",
       "      <td>0.344392</td>\n",
       "      <td>1.000000</td>\n",
       "      <td>0.709633</td>\n",
       "      <td>0.401084</td>\n",
       "    </tr>\n",
       "    <tr>\n",
       "      <th>...</th>\n",
       "      <td>...</td>\n",
       "      <td>...</td>\n",
       "      <td>...</td>\n",
       "      <td>...</td>\n",
       "    </tr>\n",
       "    <tr>\n",
       "      <th>GO:0042402</th>\n",
       "      <td>0.759113</td>\n",
       "      <td>0.542674</td>\n",
       "      <td>0.384950</td>\n",
       "      <td>0.829227</td>\n",
       "    </tr>\n",
       "    <tr>\n",
       "      <th>GO:1901564</th>\n",
       "      <td>0.707581</td>\n",
       "      <td>0.047994</td>\n",
       "      <td>0.954667</td>\n",
       "      <td>0.373305</td>\n",
       "    </tr>\n",
       "    <tr>\n",
       "      <th>GO:0019323</th>\n",
       "      <td>1.000000</td>\n",
       "      <td>0.098244</td>\n",
       "      <td>0.643139</td>\n",
       "      <td>0.716967</td>\n",
       "    </tr>\n",
       "    <tr>\n",
       "      <th>GO:0010961</th>\n",
       "      <td>0.345791</td>\n",
       "      <td>1.000000</td>\n",
       "      <td>1.000000</td>\n",
       "      <td>1.000000</td>\n",
       "    </tr>\n",
       "    <tr>\n",
       "      <th>GO:2000370</th>\n",
       "      <td>0.816927</td>\n",
       "      <td>0.253309</td>\n",
       "      <td>0.561435</td>\n",
       "      <td>1.000000</td>\n",
       "    </tr>\n",
       "  </tbody>\n",
       "</table>\n",
       "<p>4658 rows × 4 columns</p>\n",
       "</div>"
      ],
      "text/plain": [
       "                   0         1         2         3\n",
       "GO:0009179  0.435787  0.854621  0.874886  0.195193\n",
       "GO:0031930  0.948812  0.233231  0.124960  1.000000\n",
       "GO:1901607  0.315805  0.559427  0.520811  0.798656\n",
       "GO:0006338  0.160620  0.694693  0.575221  0.830187\n",
       "GO:0061157  0.344392  1.000000  0.709633  0.401084\n",
       "...              ...       ...       ...       ...\n",
       "GO:0042402  0.759113  0.542674  0.384950  0.829227\n",
       "GO:1901564  0.707581  0.047994  0.954667  0.373305\n",
       "GO:0019323  1.000000  0.098244  0.643139  0.716967\n",
       "GO:0010961  0.345791  1.000000  1.000000  1.000000\n",
       "GO:2000370  0.816927  0.253309  0.561435  1.000000\n",
       "\n",
       "[4658 rows x 4 columns]"
      ]
     },
     "execution_count": 16,
     "metadata": {},
     "output_type": "execute_result"
    }
   ],
   "source": [
    "p_values_df"
   ]
  },
  {
   "cell_type": "code",
   "execution_count": 40,
   "metadata": {},
   "outputs": [
    {
     "data": {
      "text/plain": [
       "(5726, 18, 1277, 6)"
      ]
     },
     "execution_count": 40,
     "metadata": {},
     "output_type": "execute_result"
    }
   ],
   "source": [
    "i = 0\n",
    "j = 3\n",
    "\n",
    "N, *K[i], n[j], k[i,j]"
   ]
  },
  {
   "cell_type": "code",
   "execution_count": 41,
   "metadata": {},
   "outputs": [
    {
     "data": {
      "text/plain": [
       "array([0.8048068])"
      ]
     },
     "execution_count": 41,
     "metadata": {},
     "output_type": "execute_result"
    }
   ],
   "source": [
    "hypergeom.cdf(k=k[i,j]-1, M=N, N=n[j], n=K[i])"
   ]
  },
  {
   "cell_type": "code",
   "execution_count": 31,
   "metadata": {},
   "outputs": [
    {
     "data": {
      "text/plain": [
       "array([[0.43578658, 0.85462139, 0.87488618, 0.1951932 ],\n",
       "       [0.94881151, 0.23323146, 0.12495982, 1.        ],\n",
       "       [0.31580539, 0.55942718, 0.52081074, 0.79865637],\n",
       "       ...,\n",
       "       [1.        , 0.09824448, 0.64313886, 0.71696674],\n",
       "       [0.34579113, 1.        , 1.        , 1.        ],\n",
       "       [0.81692668, 0.25330925, 0.56143482, 1.        ]])"
      ]
     },
     "execution_count": 31,
     "metadata": {},
     "output_type": "execute_result"
    }
   ],
   "source": [
    "1-hypergeom.cdf(k=k-1, M=N, N=n, n=K)"
   ]
  },
  {
   "cell_type": "code",
   "execution_count": 95,
   "metadata": {},
   "outputs": [],
   "source": [
    "N    = N                                    # defined in section 'Preparation'\n",
    "K    = array_of_total_successes             # defined in section 'Preparation'\n",
    "_, n = array_of_observed_successes.shape    # #rows = #GO-terms\n",
    "k    = array_of_observed_successes "
   ]
  },
  {
   "cell_type": "code",
   "execution_count": 100,
   "metadata": {},
   "outputs": [
    {
     "data": {
      "text/plain": [
       "2585"
      ]
     },
     "execution_count": 100,
     "metadata": {},
     "output_type": "execute_result"
    }
   ],
   "source": [
    "len(clusters[0])"
   ]
  },
  {
   "cell_type": "code",
   "execution_count": 101,
   "metadata": {},
   "outputs": [
    {
     "data": {
      "text/plain": [
       "[<matplotlib.lines.Line2D at 0x128df3278>]"
      ]
     },
     "execution_count": 101,
     "metadata": {},
     "output_type": "execute_result"
    },
    {
     "data": {
      "image/png": "[encoded data removed]",
      "text/plain": [
       "<Figure size 432x288 with 1 Axes>"
      ]
     },
     "metadata": {},
     "output_type": "display_data"
    }
   ],
   "source": [
    "fig, ax = plt.subplots()\n",
    "ax.plot(range(5), hypergeom.cdf(range(5), M=N, n=19, N=2585))#\n",
    "#ax.set_ylim(0,1);"
   ]
  },
  {
   "cell_type": "code",
   "execution_count": 87,
   "metadata": {},
   "outputs": [
    {
     "data": {
      "text/plain": [
       "array([nan, nan, nan, nan, nan])"
      ]
     },
     "execution_count": 87,
     "metadata": {},
     "output_type": "execute_result"
    }
   ],
   "source": [
    "hypergeom.cdf(range(5), M=2, N=19, n=5726)"
   ]
  },
  {
   "cell_type": "code",
   "execution_count": 67,
   "metadata": {},
   "outputs": [
    {
     "data": {
      "text/plain": [
       "'1.3.1'"
      ]
     },
     "execution_count": 67,
     "metadata": {},
     "output_type": "execute_result"
    }
   ],
   "source": [
    "scipy.__version__"
   ]
  },
  {
   "cell_type": "markdown",
   "metadata": {},
   "source": [
    "# Test"
   ]
  },
  {
   "cell_type": "code",
   "execution_count": 9,
   "metadata": {},
   "outputs": [],
   "source": [
    "# Perform clustering\n",
    "initial_medoids = [1, 500]\n",
    "kmedoids_instance = kmedoids(D, initial_medoids, data_type='distance_matrix')\n",
    "kmedoids_instance.process()\n",
    "clusters = kmedoids_instance.get_clusters()\n",
    "\n",
    "list_of_experiments = [set(cluster) for cluster in clusters]\n",
    "\n",
    "# For each GO term and cluster we get an experiment \n",
    "array_of_observed_successes = np.array([[len(draws & success_states) for draws in list_of_experiments]\n",
    "                                    for success_states in list_of_success_states])"
   ]
  },
  {
   "cell_type": "code",
   "execution_count": 28,
   "metadata": {},
   "outputs": [],
   "source": [
    "_, n = array_of_observed_successes.shape\n",
    "K = np.array(list(map(len,list_of_success_states)))"
   ]
  },
  {
   "cell_type": "code",
   "execution_count": 29,
   "metadata": {},
   "outputs": [
    {
     "data": {
      "text/plain": [
       "array([[36, 42],\n",
       "       [ 0,  3],\n",
       "       [ 1,  0],\n",
       "       ...,\n",
       "       [ 2,  3],\n",
       "       [ 1,  0],\n",
       "       [ 8,  7]])"
      ]
     },
     "execution_count": 29,
     "metadata": {},
     "output_type": "execute_result"
    }
   ],
   "source": [
    "array_of_observed_successes"
   ]
  },
  {
   "cell_type": "code",
   "execution_count": 38,
   "metadata": {},
   "outputs": [],
   "source": [
    "test = 1-hypergeom.cdf(array_of_observed_successes-1, N, n, K.reshape(-1,1))"
   ]
  },
  {
   "cell_type": "code",
   "execution_count": 39,
   "metadata": {},
   "outputs": [
    {
     "data": {
      "text/plain": [
       "(4658, 2)"
      ]
     },
     "execution_count": 39,
     "metadata": {},
     "output_type": "execute_result"
    }
   ],
   "source": [
    "test.shape"
   ]
  },
  {
   "cell_type": "code",
   "execution_count": 41,
   "metadata": {},
   "outputs": [
    {
     "data": {
      "text/plain": [
       "array([78,  3,  1, ...,  5,  1, 15])"
      ]
     },
     "execution_count": 41,
     "metadata": {},
     "output_type": "execute_result"
    }
   ],
   "source": [
    "array_of_observed_successes.sum(axis=1)"
   ]
  },
  {
   "cell_type": "code",
   "execution_count": 8,
   "metadata": {},
   "outputs": [],
   "source": [
    "import random\n",
    "import string\n",
    "\n",
    "def randomString(stringLength=10):\n",
    "    \"\"\"Generate a random string of fixed length \"\"\"\n",
    "    letters = string.ascii_lowercase\n",
    "    return ''.join(random.choice(letters) for i in range(stringLength))"
   ]
  },
  {
   "cell_type": "code",
   "execution_count": null,
   "metadata": {},
   "outputs": [],
   "source": [
    "my_map = { i: randomString(10) for i in range(100)}"
   ]
  },
  {
   "cell_type": "code",
   "execution_count": 10,
   "metadata": {},
   "outputs": [
    {
     "name": "stdout",
     "output_type": "stream",
     "text": [
      "39.5 µs ± 4.09 µs per loop (mean ± std. dev. of 7 runs, 10000 loops each)\n"
     ]
    }
   ],
   "source": [
    "%%timeit\n",
    "dict(map(reversed, my_map.items()))"
   ]
  },
  {
   "cell_type": "code",
   "execution_count": 11,
   "metadata": {},
   "outputs": [
    {
     "name": "stdout",
     "output_type": "stream",
     "text": [
      "10.7 µs ± 331 ns per loop (mean ± std. dev. of 7 runs, 100000 loops each)\n"
     ]
    }
   ],
   "source": [
    "%%timeit\n",
    "{v: k for k, v in my_map.items()}"
   ]
  },
  {
   "cell_type": "code",
   "execution_count": 12,
   "metadata": {},
   "outputs": [
    {
     "name": "stdout",
     "output_type": "stream",
     "text": [
      "7.91 µs ± 69.3 ns per loop (mean ± std. dev. of 7 runs, 100000 loops each)\n"
     ]
    }
   ],
   "source": [
    "%%timeit\n",
    "dict(zip(my_map.values(), my_map.keys()))"
   ]
  },
  {
   "cell_type": "markdown",
   "metadata": {},
   "source": [
    "### Tmp"
   ]
  },
  {
   "cell_type": "code",
   "execution_count": 102,
   "metadata": {},
   "outputs": [],
   "source": [
    "import string\n",
    "import random\n",
    "from itertools import islice"
   ]
  },
  {
   "cell_type": "code",
   "execution_count": 220,
   "metadata": {},
   "outputs": [],
   "source": [
    "n = 6\n",
    "k = 3\n",
    "\n",
    "A = np.random.uniform(size=[n,n])\n",
    "np.fill_diagonal(A, 1)\n",
    "A = (A + A.T)/2\n",
    "\n",
    "Allels = list(string.ascii_lowercase[:n])\n",
    "Genes  = [string.ascii_uppercase[i] for i in sorted(np.random.randint(k, size=n))]\n",
    "\n",
    "allels2genes = {allele:gene for (allele,gene) in zip(Allels,Genes)}\n",
    "\n",
    "df = pd.DataFrame(A,\n",
    "             columns = Allels,\n",
    "             index   = Allels)\n",
    "# df.insert(0, 'Allels', list(map('-'.join,zip(Genes,Allels))))\n",
    "# df.insert(0, 'Genes', Genes)"
   ]
  },
  {
   "cell_type": "code",
   "execution_count": 222,
   "metadata": {},
   "outputs": [
    {
     "data": {
      "text/html": [
       "<div>\n",
       "<style scoped>\n",
       "    .dataframe tbody tr th:only-of-type {\n",
       "        vertical-align: middle;\n",
       "    }\n",
       "\n",
       "    .dataframe tbody tr th {\n",
       "        vertical-align: top;\n",
       "    }\n",
       "\n",
       "    .dataframe thead th {\n",
       "        text-align: right;\n",
       "    }\n",
       "</style>\n",
       "<table border=\"1\" class=\"dataframe\">\n",
       "  <thead>\n",
       "    <tr style=\"text-align: right;\">\n",
       "      <th></th>\n",
       "      <th>a</th>\n",
       "      <th>b</th>\n",
       "      <th>c</th>\n",
       "      <th>d</th>\n",
       "      <th>e</th>\n",
       "      <th>f</th>\n",
       "    </tr>\n",
       "  </thead>\n",
       "  <tbody>\n",
       "    <tr>\n",
       "      <th>a</th>\n",
       "      <td>1.000000</td>\n",
       "      <td>NaN</td>\n",
       "      <td>0.683207</td>\n",
       "      <td>0.582937</td>\n",
       "      <td>0.604258</td>\n",
       "      <td>NaN</td>\n",
       "    </tr>\n",
       "    <tr>\n",
       "      <th>b</th>\n",
       "      <td>NaN</td>\n",
       "      <td>1.000000</td>\n",
       "      <td>0.598504</td>\n",
       "      <td>0.755417</td>\n",
       "      <td>0.525792</td>\n",
       "      <td>NaN</td>\n",
       "    </tr>\n",
       "    <tr>\n",
       "      <th>c</th>\n",
       "      <td>0.683207</td>\n",
       "      <td>0.598504</td>\n",
       "      <td>1.000000</td>\n",
       "      <td>NaN</td>\n",
       "      <td>0.567623</td>\n",
       "      <td>NaN</td>\n",
       "    </tr>\n",
       "    <tr>\n",
       "      <th>d</th>\n",
       "      <td>0.582937</td>\n",
       "      <td>0.755417</td>\n",
       "      <td>NaN</td>\n",
       "      <td>1.000000</td>\n",
       "      <td>0.560348</td>\n",
       "      <td>0.576196</td>\n",
       "    </tr>\n",
       "    <tr>\n",
       "      <th>e</th>\n",
       "      <td>0.604258</td>\n",
       "      <td>0.525792</td>\n",
       "      <td>0.567623</td>\n",
       "      <td>0.560348</td>\n",
       "      <td>1.000000</td>\n",
       "      <td>0.527481</td>\n",
       "    </tr>\n",
       "    <tr>\n",
       "      <th>f</th>\n",
       "      <td>NaN</td>\n",
       "      <td>NaN</td>\n",
       "      <td>NaN</td>\n",
       "      <td>0.576196</td>\n",
       "      <td>0.527481</td>\n",
       "      <td>1.000000</td>\n",
       "    </tr>\n",
       "  </tbody>\n",
       "</table>\n",
       "</div>"
      ],
      "text/plain": [
       "          a         b         c         d         e         f\n",
       "a  1.000000       NaN  0.683207  0.582937  0.604258       NaN\n",
       "b       NaN  1.000000  0.598504  0.755417  0.525792       NaN\n",
       "c  0.683207  0.598504  1.000000       NaN  0.567623       NaN\n",
       "d  0.582937  0.755417       NaN  1.000000  0.560348  0.576196\n",
       "e  0.604258  0.525792  0.567623  0.560348  1.000000  0.527481\n",
       "f       NaN       NaN       NaN  0.576196  0.527481  1.000000"
      ]
     },
     "execution_count": 222,
     "metadata": {},
     "output_type": "execute_result"
    }
   ],
   "source": [
    "df[df>0.5]"
   ]
  },
  {
   "cell_type": "code",
   "execution_count": 167,
   "metadata": {},
   "outputs": [],
   "source": [
    "tuples = [(gene,allele) for (allele,gene) in zip(Allels,Genes)]\n",
    "index = pd.MultiIndex.from_tuples(tuples, names=['Genes', 'Allels'])\n",
    "\n",
    "df.index = index\n",
    "df.columns = index"
   ]
  },
  {
   "cell_type": "code",
   "execution_count": 168,
   "metadata": {},
   "outputs": [
    {
     "data": {
      "text/html": [
       "<div>\n",
       "<style scoped>\n",
       "    .dataframe tbody tr th:only-of-type {\n",
       "        vertical-align: middle;\n",
       "    }\n",
       "\n",
       "    .dataframe tbody tr th {\n",
       "        vertical-align: top;\n",
       "    }\n",
       "\n",
       "    .dataframe thead tr th {\n",
       "        text-align: left;\n",
       "    }\n",
       "\n",
       "    .dataframe thead tr:last-of-type th {\n",
       "        text-align: right;\n",
       "    }\n",
       "</style>\n",
       "<table border=\"1\" class=\"dataframe\">\n",
       "  <thead>\n",
       "    <tr>\n",
       "      <th>Genes</th>\n",
       "      <th colspan=\"2\" halign=\"left\">A</th>\n",
       "      <th colspan=\"3\" halign=\"left\">B</th>\n",
       "      <th>C</th>\n",
       "    </tr>\n",
       "    <tr>\n",
       "      <th>Allels</th>\n",
       "      <th>a</th>\n",
       "      <th>b</th>\n",
       "      <th>c</th>\n",
       "      <th>d</th>\n",
       "      <th>e</th>\n",
       "      <th>f</th>\n",
       "    </tr>\n",
       "    <tr>\n",
       "      <th>Genes</th>\n",
       "      <th></th>\n",
       "      <th></th>\n",
       "      <th></th>\n",
       "      <th></th>\n",
       "      <th></th>\n",
       "      <th></th>\n",
       "    </tr>\n",
       "  </thead>\n",
       "  <tbody>\n",
       "    <tr>\n",
       "      <th>A</th>\n",
       "      <td>1.000000</td>\n",
       "      <td>1.000000</td>\n",
       "      <td>0.809951</td>\n",
       "      <td>0.669683</td>\n",
       "      <td>0.545178</td>\n",
       "      <td>0.513568</td>\n",
       "    </tr>\n",
       "    <tr>\n",
       "      <th>B</th>\n",
       "      <td>0.669683</td>\n",
       "      <td>0.809951</td>\n",
       "      <td>1.000000</td>\n",
       "      <td>1.000000</td>\n",
       "      <td>1.000000</td>\n",
       "      <td>0.586174</td>\n",
       "    </tr>\n",
       "    <tr>\n",
       "      <th>C</th>\n",
       "      <td>0.204599</td>\n",
       "      <td>0.513568</td>\n",
       "      <td>0.586174</td>\n",
       "      <td>0.377076</td>\n",
       "      <td>0.107624</td>\n",
       "      <td>1.000000</td>\n",
       "    </tr>\n",
       "  </tbody>\n",
       "</table>\n",
       "</div>"
      ],
      "text/plain": [
       "Genes          A                   B                             C\n",
       "Allels         a         b         c         d         e         f\n",
       "Genes                                                             \n",
       "A       1.000000  1.000000  0.809951  0.669683  0.545178  0.513568\n",
       "B       0.669683  0.809951  1.000000  1.000000  1.000000  0.586174\n",
       "C       0.204599  0.513568  0.586174  0.377076  0.107624  1.000000"
      ]
     },
     "execution_count": 168,
     "metadata": {},
     "output_type": "execute_result"
    }
   ],
   "source": [
    "df.groupby('Genes', level=0).max()"
   ]
  },
  {
   "cell_type": "code",
   "execution_count": 169,
   "metadata": {},
   "outputs": [],
   "source": [
    "gene, data = next(iter(df.groupby('Genes')))"
   ]
  },
  {
   "cell_type": "code",
   "execution_count": 196,
   "metadata": {},
   "outputs": [],
   "source": [
    "gene2, data2 = next(islice(data.T.groupby('Genes'), 1, 2))"
   ]
  },
  {
   "cell_type": "code",
   "execution_count": 200,
   "metadata": {},
   "outputs": [
    {
     "data": {
      "text/html": [
       "<div>\n",
       "<style scoped>\n",
       "    .dataframe tbody tr th:only-of-type {\n",
       "        vertical-align: middle;\n",
       "    }\n",
       "\n",
       "    .dataframe tbody tr th {\n",
       "        vertical-align: top;\n",
       "    }\n",
       "\n",
       "    .dataframe thead tr th {\n",
       "        text-align: left;\n",
       "    }\n",
       "\n",
       "    .dataframe thead tr:last-of-type th {\n",
       "        text-align: right;\n",
       "    }\n",
       "</style>\n",
       "<table border=\"1\" class=\"dataframe\">\n",
       "  <thead>\n",
       "    <tr>\n",
       "      <th></th>\n",
       "      <th>Genes</th>\n",
       "      <th colspan=\"2\" halign=\"left\">A</th>\n",
       "    </tr>\n",
       "    <tr>\n",
       "      <th></th>\n",
       "      <th>Allels</th>\n",
       "      <th>a</th>\n",
       "      <th>b</th>\n",
       "    </tr>\n",
       "    <tr>\n",
       "      <th>Genes</th>\n",
       "      <th>Allels</th>\n",
       "      <th></th>\n",
       "      <th></th>\n",
       "    </tr>\n",
       "  </thead>\n",
       "  <tbody>\n",
       "    <tr>\n",
       "      <th rowspan=\"3\" valign=\"top\">B</th>\n",
       "      <th>c</th>\n",
       "      <td>0.641366</td>\n",
       "      <td>0.809951</td>\n",
       "    </tr>\n",
       "    <tr>\n",
       "      <th>d</th>\n",
       "      <td>0.669683</td>\n",
       "      <td>0.483467</td>\n",
       "    </tr>\n",
       "    <tr>\n",
       "      <th>e</th>\n",
       "      <td>0.545178</td>\n",
       "      <td>0.506034</td>\n",
       "    </tr>\n",
       "  </tbody>\n",
       "</table>\n",
       "</div>"
      ],
      "text/plain": [
       "Genes                A          \n",
       "Allels               a         b\n",
       "Genes Allels                    \n",
       "B     c       0.641366  0.809951\n",
       "      d       0.669683  0.483467\n",
       "      e       0.545178  0.506034"
      ]
     },
     "execution_count": 200,
     "metadata": {},
     "output_type": "execute_result"
    }
   ],
   "source": [
    "data2"
   ]
  },
  {
   "cell_type": "code",
   "execution_count": 186,
   "metadata": {},
   "outputs": [],
   "source": [
    "? islice"
   ]
  },
  {
   "cell_type": "code",
   "execution_count": null,
   "metadata": {},
   "outputs": [],
   "source": []
  }
 ],
 "metadata": {
  "kernelspec": {
   "display_name": "graco",
   "language": "python",
   "name": "graco"
  },
  "language_info": {
   "codemirror_mode": {
    "name": "ipython",
    "version": 3
   },
   "file_extension": ".py",
   "mimetype": "text/x-python",
   "name": "python",
   "nbconvert_exporter": "python",
   "pygments_lexer": "ipython3",
   "version": "3.6.8"
  }
 },
 "nbformat": 4,
 "nbformat_minor": 2
}
