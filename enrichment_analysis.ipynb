{
 "cells": [
  {
   "cell_type": "code",
   "execution_count": 31,
   "metadata": {},
   "outputs": [],
   "source": [
    "from pyclustering.cluster.kmedoids import kmedoids\n",
    "from collections import defaultdict\n",
    "from sklearn.cluster import KMeans\n",
    "from scipy.stats import hypergeom\n",
    "\n",
    "import time\n",
    "import numpy as np\n",
    "import pandas as pd\n",
    "import seaborn as sns\n",
    "import networkx as nx\n",
    "import matplotlib.pyplot as plt"
   ]
  },
  {
   "cell_type": "code",
   "execution_count": 2,
   "metadata": {},
   "outputs": [],
   "source": [
    "%matplotlib inline\n",
    "sns.set()\n",
    "\n",
    "DATA_DIRECTORY = \"/home/clusterduck123/Desktop/git/supplements/data\"\n",
    "ANNOTATIONS_DIRECTORY = f\"{DATA_DIRECTORY}/annotations\"\n",
    "MATRIX_DIRECTORY = f\"{DATA_DIRECTORY}/matrix\"\n",
    "PPI_DIRECTORY = f\"{DATA_DIRECTORY}/PPI\""
   ]
  },
  {
   "cell_type": "markdown",
   "metadata": {},
   "source": [
    "### Functions"
   ]
  },
  {
   "cell_type": "code",
   "execution_count": 3,
   "metadata": {},
   "outputs": [],
   "source": [
    "def normalized_laplacian(D):\n",
    "    # can be optimized more\n",
    "    diag = ((len(D)-1) - np.sum(D, axis=0)).reshape(-1,1)\n",
    "    L  = D-1\n",
    "    np.fill_diagonal(L, diag)\n",
    "    L0 = np.multiply(np.multiply(diag**(-1/2),L).T,diag**(-1/2))\n",
    "    return L0\n",
    "\n",
    "\n",
    "# def p_value(n_GO_terms, \n",
    "#             n_cluster, \n",
    "#             list_of_success_states,\n",
    "#             list_of_draws,\n",
    "#             list_of_observed_successes):\n",
    "#     \n",
    "#     success_states = list_of_success_states[n_GO_terms]\n",
    "#     draws = list_of_draws[n_cluster]\n",
    "#     observed_successes = list_of_observed_successes[n_GO_terms][n_clusters]\n",
    "# \n",
    "#     K = len(success_states)\n",
    "#     n = len(draws)\n",
    "#     k = len(observed_successes)\n",
    "#     \n",
    "#     return 1-hypergeom.cdf(k-1, N, n, K)"
   ]
  },
  {
   "cell_type": "markdown",
   "metadata": {},
   "source": [
    "### Cluster independent variables"
   ]
  },
  {
   "cell_type": "code",
   "execution_count": 4,
   "metadata": {},
   "outputs": [],
   "source": [
    "annotation_df = pd.read_csv(f\"{ANNOTATIONS_DIRECTORY}/BioGRID-SGD_BP_sc.csv\")\n",
    "PPI_nx = nx.read_edgelist(f\"{PPI_DIRECTORY}/BioGRID_sc.txt\")\n",
    "D = np.genfromtxt(f\"{MATRIX_DIRECTORY}/sc_BioGRID_tvd0.txt\")\n",
    "\n",
    "GO_population = set(annotation_df.GO_ID)\n",
    "PPI_population = set(PPI_nx.nodes())"
   ]
  },
  {
   "cell_type": "markdown",
   "metadata": {},
   "source": [
    "### Name-to-Integer dictionaries"
   ]
  },
  {
   "cell_type": "code",
   "execution_count": 7,
   "metadata": {},
   "outputs": [],
   "source": [
    "int2gene = dict(enumerate(PPI_population))\n",
    "gene2int = {gene:n for n,gene in int2gene.items()}\n",
    "\n",
    "int2GO = dict(enumerate(GO_population))\n",
    "GO2int = {go_id:n for n,go_id in int2GO.items()}"
   ]
  },
  {
   "cell_type": "markdown",
   "metadata": {},
   "source": [
    "### Preparation"
   ]
  },
  {
   "cell_type": "markdown",
   "metadata": {},
   "source": [
    "Let $N$ be the number of genes in the PPI.   \n",
    "Each GO-term defines a 'state' in which $K$ proteins are annotated with this term; these are seen a _successes_.    \n",
    "A given cluster defines an 'experiment', in which the number of draws, $n$, corresponds to the length of the cluster.    \n",
    "The number of _successful draws_ $k$ corresponds to the number of annotated genes in the given cluster."
   ]
  },
  {
   "cell_type": "code",
   "execution_count": 47,
   "metadata": {},
   "outputs": [],
   "source": [
    "# Number of drawable elements is fixed throughout the whole analysis\n",
    "N = len(PPI_population)\n",
    "\n",
    "list_of_success_states = [set(map(gene2int.get, annotation_df.Systematic_ID[annotation_df.GO_ID == go_id]))\n",
    "                              for go_id in GO_population]\n",
    "\n",
    "# This will be our K, see below\n",
    "array_of_total_successes = np.array(list(map(len,list_of_success_states))).reshape(-1,1)"
   ]
  },
  {
   "cell_type": "markdown",
   "metadata": {},
   "source": [
    "### Here we GO"
   ]
  },
  {
   "cell_type": "code",
   "execution_count": 48,
   "metadata": {},
   "outputs": [],
   "source": [
    "MAX_CLUSTERS = 10"
   ]
  },
  {
   "cell_type": "code",
   "execution_count": 51,
   "metadata": {},
   "outputs": [
    {
     "name": "stdout",
     "output_type": "stream",
     "text": [
      "2: 0.00sec\n"
     ]
    },
    {
     "ename": "NameError",
     "evalue": "name 'cluster_nr' is not defined",
     "output_type": "error",
     "traceback": [
      "\u001b[0;31m---------------------------------------------------------------------------\u001b[0m",
      "\u001b[0;31mNameError\u001b[0m                                 Traceback (most recent call last)",
      "\u001b[0;32m<ipython-input-51-ba09dca77847>\u001b[0m in \u001b[0;36m<module>\u001b[0;34m\u001b[0m\n\u001b[1;32m     31\u001b[0m     \u001b[0mp_values_df\u001b[0m    \u001b[0;34m=\u001b[0m \u001b[0mpd\u001b[0m\u001b[0;34m.\u001b[0m\u001b[0mDataFrame\u001b[0m\u001b[0;34m(\u001b[0m\u001b[0mp_values_array\u001b[0m\u001b[0;34m,\u001b[0m \u001b[0mindex\u001b[0m\u001b[0;34m=\u001b[0m\u001b[0mGO_population\u001b[0m\u001b[0;34m)\u001b[0m\u001b[0;34m\u001b[0m\u001b[0;34m\u001b[0m\u001b[0m\n\u001b[1;32m     32\u001b[0m \u001b[0;34m\u001b[0m\u001b[0m\n\u001b[0;32m---> 33\u001b[0;31m     \u001b[0mm2\u001b[0m \u001b[0;34m=\u001b[0m \u001b[0mcluster_nr\u001b[0m\u001b[0;34m\u001b[0m\u001b[0;34m\u001b[0m\u001b[0m\n\u001b[0m\u001b[1;32m     34\u001b[0m     \u001b[0mm\u001b[0m \u001b[0;34m=\u001b[0m \u001b[0mm1\u001b[0m\u001b[0;34m*\u001b[0m\u001b[0mm2\u001b[0m\u001b[0;34m\u001b[0m\u001b[0;34m\u001b[0m\u001b[0m\n\u001b[1;32m     35\u001b[0m \u001b[0;34m\u001b[0m\u001b[0m\n",
      "\u001b[0;31mNameError\u001b[0m: name 'cluster_nr' is not defined"
     ]
    }
   ],
   "source": [
    "tvd0_high_coverage = []\n",
    "tvd0_middle_coverage = []\n",
    "tvd0_low_coverage = []\n",
    "\n",
    "t1 = time.time()\n",
    "\n",
    "for n_clusters in range(2, MAX_CLUSTERS):\n",
    "    t2 = time.time()\n",
    "    print(f'{n_clusters}: {t2-t1:.2f}sec')\n",
    "    \n",
    "    # Perform clustering\n",
    "    initial_medoids = [1, 500]\n",
    "    kmedoids_instance = kmedoids(D, initial_medoids, data_type='distance_matrix')\n",
    "    kmedoids_instance.process()\n",
    "    clusters = kmedoids_instance.get_clusters()\n",
    "    \n",
    "    list_of_experiments = [set(cluster) for cluster in clusters]\n",
    "    \n",
    "    # For each GO term and cluster we get an experiment \n",
    "    array_of_observed_successes = np.array([[len(draws & success_states) for draws in list_of_experiments]\n",
    "                                        for success_states in list_of_success_states])\n",
    "    \n",
    "    \n",
    "    N    = N                                    # defined in section 'Preparation'\n",
    "    K    = array_of_total_successes             # defined in section 'Preparation'\n",
    "    _, n = array_of_observed_successes.shape    # #rows = #GO-terms\n",
    "    k    = array_of_observed_successes \n",
    "    \n",
    "    # scipy has a really messed up nomeclature... \n",
    "    p_values_array = 1-hypergeom.cdf(k=k-1, M=N, N=n, n=K)\n",
    "    p_values_df    = pd.DataFrame(p_values_array, index=GO_population)\n",
    "    \n",
    "    m2 = cluster_nr\n",
    "    m = m1*m2\n",
    "    \n",
    "    hc_enrichment_df = GO_enrichment_df < alpha[0]/m\n",
    "    mc_enrichment_df = GO_enrichment_df < alpha[1]/m\n",
    "    lc_enrichment_df = GO_enrichment_df < alpha[2]/m\n",
    "    \n",
    "    tvd0_high_coverage.append(  sum(spectral_high_significant_enrichment_df.any())  /cluster_nr)\n",
    "    tvd0_middle_coverage.append(sum(spectral_middle_significant_enrichment_df.any())/cluster_nr)\n",
    "    tvd0_low_coverage.append(   sum(spectral_low_significant_enrichment_df.any())   /cluster_nr)"
   ]
  },
  {
   "cell_type": "code",
   "execution_count": 60,
   "metadata": {},
   "outputs": [
    {
     "data": {
      "text/html": [
       "<div>\n",
       "<style scoped>\n",
       "    .dataframe tbody tr th:only-of-type {\n",
       "        vertical-align: middle;\n",
       "    }\n",
       "\n",
       "    .dataframe tbody tr th {\n",
       "        vertical-align: top;\n",
       "    }\n",
       "\n",
       "    .dataframe thead th {\n",
       "        text-align: right;\n",
       "    }\n",
       "</style>\n",
       "<table border=\"1\" class=\"dataframe\">\n",
       "  <thead>\n",
       "    <tr style=\"text-align: right;\">\n",
       "      <th></th>\n",
       "      <th>0</th>\n",
       "      <th>1</th>\n",
       "    </tr>\n",
       "  </thead>\n",
       "  <tbody>\n",
       "    <tr>\n",
       "      <th>count</th>\n",
       "      <td>4.658000e+03</td>\n",
       "      <td>4658.000000</td>\n",
       "    </tr>\n",
       "    <tr>\n",
       "      <th>mean</th>\n",
       "      <td>1.764241e-01</td>\n",
       "      <td>0.135390</td>\n",
       "    </tr>\n",
       "    <tr>\n",
       "      <th>std</th>\n",
       "      <td>3.810011e-01</td>\n",
       "      <td>0.341974</td>\n",
       "    </tr>\n",
       "    <tr>\n",
       "      <th>min</th>\n",
       "      <td>0.000000e+00</td>\n",
       "      <td>0.000000</td>\n",
       "    </tr>\n",
       "    <tr>\n",
       "      <th>25%</th>\n",
       "      <td>0.000000e+00</td>\n",
       "      <td>0.000000</td>\n",
       "    </tr>\n",
       "    <tr>\n",
       "      <th>50%</th>\n",
       "      <td>6.099941e-08</td>\n",
       "      <td>0.000000</td>\n",
       "    </tr>\n",
       "    <tr>\n",
       "      <th>75%</th>\n",
       "      <td>6.985069e-04</td>\n",
       "      <td>0.000349</td>\n",
       "    </tr>\n",
       "    <tr>\n",
       "      <th>max</th>\n",
       "      <td>1.000000e+00</td>\n",
       "      <td>1.000000</td>\n",
       "    </tr>\n",
       "  </tbody>\n",
       "</table>\n",
       "</div>"
      ],
      "text/plain": [
       "                  0            1\n",
       "count  4.658000e+03  4658.000000\n",
       "mean   1.764241e-01     0.135390\n",
       "std    3.810011e-01     0.341974\n",
       "min    0.000000e+00     0.000000\n",
       "25%    0.000000e+00     0.000000\n",
       "50%    6.099941e-08     0.000000\n",
       "75%    6.985069e-04     0.000349\n",
       "max    1.000000e+00     1.000000"
      ]
     },
     "execution_count": 60,
     "metadata": {},
     "output_type": "execute_result"
    }
   ],
   "source": []
  },
  {
   "cell_type": "markdown",
   "metadata": {},
   "source": [
    "# Test"
   ]
  },
  {
   "cell_type": "code",
   "execution_count": 9,
   "metadata": {},
   "outputs": [],
   "source": [
    "# Perform clustering\n",
    "initial_medoids = [1, 500]\n",
    "kmedoids_instance = kmedoids(D, initial_medoids, data_type='distance_matrix')\n",
    "kmedoids_instance.process()\n",
    "clusters = kmedoids_instance.get_clusters()\n",
    "\n",
    "list_of_experiments = [set(cluster) for cluster in clusters]\n",
    "\n",
    "# For each GO term and cluster we get an experiment \n",
    "array_of_observed_successes = np.array([[len(draws & success_states) for draws in list_of_experiments]\n",
    "                                    for success_states in list_of_success_states])"
   ]
  },
  {
   "cell_type": "code",
   "execution_count": 28,
   "metadata": {},
   "outputs": [],
   "source": [
    "_, n = array_of_observed_successes.shape\n",
    "K = np.array(list(map(len,list_of_success_states)))"
   ]
  },
  {
   "cell_type": "code",
   "execution_count": 29,
   "metadata": {},
   "outputs": [
    {
     "data": {
      "text/plain": [
       "array([[36, 42],\n",
       "       [ 0,  3],\n",
       "       [ 1,  0],\n",
       "       ...,\n",
       "       [ 2,  3],\n",
       "       [ 1,  0],\n",
       "       [ 8,  7]])"
      ]
     },
     "execution_count": 29,
     "metadata": {},
     "output_type": "execute_result"
    }
   ],
   "source": [
    "array_of_observed_successes"
   ]
  },
  {
   "cell_type": "code",
   "execution_count": 38,
   "metadata": {},
   "outputs": [],
   "source": [
    "test = 1-hypergeom.cdf(array_of_observed_successes-1, N, n, K.reshape(-1,1))"
   ]
  },
  {
   "cell_type": "code",
   "execution_count": 39,
   "metadata": {},
   "outputs": [
    {
     "data": {
      "text/plain": [
       "(4658, 2)"
      ]
     },
     "execution_count": 39,
     "metadata": {},
     "output_type": "execute_result"
    }
   ],
   "source": [
    "test.shape"
   ]
  },
  {
   "cell_type": "code",
   "execution_count": 41,
   "metadata": {},
   "outputs": [
    {
     "data": {
      "text/plain": [
       "array([78,  3,  1, ...,  5,  1, 15])"
      ]
     },
     "execution_count": 41,
     "metadata": {},
     "output_type": "execute_result"
    }
   ],
   "source": [
    "array_of_observed_successes.sum(axis=1)"
   ]
  },
  {
   "cell_type": "code",
   "execution_count": 42,
   "metadata": {},
   "outputs": [
    {
     "data": {
      "text/plain": [
       "array([78,  3,  1, ...,  5,  1, 15])"
      ]
     },
     "execution_count": 42,
     "metadata": {},
     "output_type": "execute_result"
    }
   ],
   "source": [
    "K"
   ]
  },
  {
   "cell_type": "code",
   "execution_count": 43,
   "metadata": {},
   "outputs": [],
   "source": [
    "? hypergeom.cdf"
   ]
  },
  {
   "cell_type": "code",
   "execution_count": null,
   "metadata": {},
   "outputs": [],
   "source": []
  }
 ],
 "metadata": {
  "kernelspec": {
   "display_name": "graco",
   "language": "python",
   "name": "graco"
  },
  "language_info": {
   "codemirror_mode": {
    "name": "ipython",
    "version": 3
   },
   "file_extension": ".py",
   "mimetype": "text/x-python",
   "name": "python",
   "nbconvert_exporter": "python",
   "pygments_lexer": "ipython3",
   "version": "3.6.8"
  }
 },
 "nbformat": 4,
 "nbformat_minor": 2
}
