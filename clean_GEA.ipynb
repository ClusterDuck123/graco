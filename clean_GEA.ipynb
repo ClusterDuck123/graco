{
 "cells": [
  {
   "cell_type": "code",
   "execution_count": 1,
   "metadata": {},
   "outputs": [],
   "source": [
    "from itertools import islice, combinations, product\n",
    "from pyclustering.cluster.kmedoids import kmedoids\n",
    "from scipy.spatial.distance import squareform\n",
    "from collections import defaultdict\n",
    "from sklearn.cluster import KMeans\n",
    "from scipy.stats import hypergeom\n",
    "from goatools import obo_parser\n",
    "from scipy.linalg import eigh\n",
    "from zipfile import ZipFile\n",
    "\n",
    "import time\n",
    "import gzip\n",
    "import graco\n",
    "import shutil\n",
    "import requests\n",
    "import numpy as np\n",
    "import pandas as pd\n",
    "import seaborn as sns\n",
    "import networkx as nx\n",
    "import Bio.UniProt.GOA as GOA\n",
    "import matplotlib.pyplot as plt"
   ]
  },
  {
   "cell_type": "code",
   "execution_count": 2,
   "metadata": {},
   "outputs": [],
   "source": [
    "%matplotlib inline\n",
    "sns.set()\n",
    "pd.set_option(\"display.max_columns\", 50)\n",
    "\n",
    "DATA_DIRECTORY = \"/Users/markusyoussef/Desktop/git/graco/data\""
   ]
  },
  {
   "cell_type": "markdown",
   "metadata": {},
   "source": [
    "# Downloads"
   ]
  },
  {
   "cell_type": "markdown",
   "metadata": {},
   "source": [
    "### BioGRID"
   ]
  },
  {
   "cell_type": "code",
   "execution_count": 3,
   "metadata": {},
   "outputs": [],
   "source": [
    "BioGRID_FILENAME = \"BIOGRID-ORGANISM-3.5.177.tab2.zip\"\n",
    "BioGRID_URL = \"https://downloads.thebiogrid.org/Download/BioGRID/Release-Archive/BIOGRID-3.5.177\"\n",
    "BioGRID_FILEPATH = f\"{DATA_DIRECTORY}/{BioGRID_FILENAME}\" "
   ]
  },
  {
   "cell_type": "code",
   "execution_count": 6,
   "metadata": {},
   "outputs": [],
   "source": [
    "# Download\n",
    "r = requests.get(f\"{BioGRID_URL}/{BioGRID_FILENAME}\", allow_redirects=True)\n",
    "with open(BioGRID_FILEPATH, 'wb') as f:\n",
    "    f.write(r.content)"
   ]
  },
  {
   "cell_type": "code",
   "execution_count": 7,
   "metadata": {},
   "outputs": [],
   "source": [
    "# Unzip Saccharomyces cerevisiae file\n",
    "with ZipFile(BioGRID_FILEPATH, 'r') as z:\n",
    "    BioGRID_sc_FILENAME, = [name for name in z.namelist() if 'cerevisiae' in name.lower()]\n",
    "    z.extract(BioGRID_sc_FILENAME, DATA_DIRECTORY)"
   ]
  },
  {
   "cell_type": "markdown",
   "metadata": {},
   "source": [
    "### SGD annotations"
   ]
  },
  {
   "cell_type": "code",
   "execution_count": 3,
   "metadata": {},
   "outputs": [],
   "source": [
    "SGD_FILENAME = \"sgd.gaf.gz\"\n",
    "SGD_URL = \"http://current.geneontology.org/annotations\"\n",
    "SGD_FILEPATH = f\"{DATA_DIRECTORY}/{SGD_FILENAME}\""
   ]
  },
  {
   "cell_type": "code",
   "execution_count": 4,
   "metadata": {},
   "outputs": [],
   "source": [
    "# Download\n",
    "r = requests.get(f\"{SGD_URL}/{SGD_FILENAME}\", allow_redirects=True)\n",
    "with open(SGD_FILEPATH, 'wb') as f:\n",
    "    f.write(r.content)"
   ]
  },
  {
   "cell_type": "markdown",
   "metadata": {},
   "source": [
    "### GO"
   ]
  },
  {
   "cell_type": "code",
   "execution_count": 5,
   "metadata": {},
   "outputs": [],
   "source": [
    "GO_FILENAME = \"go-basic.obo\"\n",
    "GO_URL = \"http://purl.obolibrary.org/obo/go\"\n",
    "GO_FILEPATH = f\"{DATA_DIRECTORY}/{GO_FILENAME}\""
   ]
  },
  {
   "cell_type": "code",
   "execution_count": 6,
   "metadata": {},
   "outputs": [],
   "source": [
    "# Download\n",
    "r = requests.get(f\"{GO_URL}/{GO_FILENAME}\", allow_redirects=True)\n",
    "with open(GO_FILEPATH, 'wb') as f:\n",
    "    f.write(r.content)"
   ]
  },
  {
   "cell_type": "markdown",
   "metadata": {},
   "source": [
    "# PPI (S. cerevisiae, BioGRID)"
   ]
  },
  {
   "cell_type": "markdown",
   "metadata": {},
   "source": [
    "### Define interactor universes"
   ]
  },
  {
   "cell_type": "code",
   "execution_count": 4,
   "metadata": {},
   "outputs": [],
   "source": [
    "# load BioGRID file as dataframe\n",
    "organism_FILENAME = \"BIOGRID-ORGANISM-Saccharomyces_cerevisiae_S288c-3.5.177.tab2.txt\"\n",
    "organism_FILEPATH = f\"{DATA_DIRECTORY}/{organism_FILENAME}\"\n",
    "\n",
    "# remove entrez ids and scores because of mixed datatypes \n",
    "interaction_df = pd.read_csv(organism_FILEPATH, delimiter='\\t',\n",
    "                           usecols=[index for index in range(24) if index not in {1,2,18}])"
   ]
  },
  {
   "cell_type": "code",
   "execution_count": 5,
   "metadata": {},
   "outputs": [],
   "source": [
    "# BioGRID universe is the collection of every gene known to BioGRID\n",
    "universe = set(interaction_df['BioGRID ID Interactor A']) | \\\n",
    "           set(interaction_df['BioGRID ID Interactor B'])\n",
    "\n",
    "systematic_universe = set(interaction_df['Systematic Name Interactor A']) | \\\n",
    "                      set(interaction_df['Systematic Name Interactor B'])\n",
    "systematic_universe.remove('-')"
   ]
  },
  {
   "cell_type": "code",
   "execution_count": 6,
   "metadata": {},
   "outputs": [],
   "source": [
    "# Filter for (reliable) physical interactions\n",
    "EXPERIMENTAL_SYSTEM = {'Two-hybrid', \n",
    "                       'Affinity Capture-Luminescence',\n",
    "                       'Affinity Capture-MS', \n",
    "                       'Affinity Capture-RNA', \n",
    "                       'Affinity Capture-Western'}\n",
    "EXPERIMENTAL_SYSTEM_TYPE = {'physical'} # redundant because of experimental evidence filtering\n",
    "\n",
    "physical_interaction_df = interaction_df[interaction_df['Experimental System'].isin(EXPERIMENTAL_SYSTEM)]\n",
    "physical_interaction_df = physical_interaction_df[physical_interaction_df['Experimental System Type'].isin(EXPERIMENTAL_SYSTEM_TYPE)] # just in case...\n",
    "\n",
    "\n",
    "physical_universe = set(physical_interaction_df['BioGRID ID Interactor A']) | \\\n",
    "                            set(physical_interaction_df['BioGRID ID Interactor B'])\n",
    "\n",
    "systematic_physical_universe = set(physical_interaction_df['Systematic Name Interactor A']) | \\\n",
    "                                       set(physical_interaction_df['Systematic Name Interactor B'])\n",
    "systematic_physical_universe.remove('-')"
   ]
  },
  {
   "cell_type": "markdown",
   "metadata": {},
   "source": [
    "### Summary"
   ]
  },
  {
   "cell_type": "code",
   "execution_count": 7,
   "metadata": {},
   "outputs": [
    {
     "name": "stdout",
     "output_type": "stream",
     "text": [
      "BioGRID universe sizes:\n",
      "=========================\n",
      "    -         -    : 7172\n",
      "systematic    -    : 6535\n",
      "    -      physical: 6551\n",
      "systematic physical: 6121\n"
     ]
    }
   ],
   "source": [
    "print(\"BioGRID universe sizes:\")\n",
    "print(\"=========================\")\n",
    "print(f\"    -         -    : {len(universe)}\")\n",
    "print(f\"systematic    -    : {len(systematic_universe)}\")\n",
    "print(f\"    -      physical: {len(physical_universe)}\")\n",
    "print(f\"systematic physical: {len(systematic_physical_universe)}\")"
   ]
  },
  {
   "cell_type": "markdown",
   "metadata": {},
   "source": [
    "### PPI"
   ]
  },
  {
   "cell_type": "code",
   "execution_count": 8,
   "metadata": {},
   "outputs": [],
   "source": [
    "PPI_df = physical_interaction_df[\n",
    "    physical_interaction_df[\"Systematic Name Interactor A\"].str.startswith('Y') & \\\n",
    "    physical_interaction_df[\"Systematic Name Interactor B\"].str.startswith('Y')]\n",
    "\n",
    "PPI_universe = set(PPI_df['Systematic Name Interactor A']) | \\\n",
    "               set(PPI_df['Systematic Name Interactor B'])"
   ]
  },
  {
   "cell_type": "code",
   "execution_count": 9,
   "metadata": {},
   "outputs": [],
   "source": [
    "PPI_nx = nx.from_pandas_edgelist(PPI_df,'Systematic Name Interactor A', 'Systematic Name Interactor B')\n",
    "PPI_nx.remove_edges_from(nx.selfloop_edges(PPI_nx))"
   ]
  },
  {
   "cell_type": "markdown",
   "metadata": {},
   "source": [
    "# SGD annotations"
   ]
  },
  {
   "cell_type": "code",
   "execution_count": 25,
   "metadata": {},
   "outputs": [],
   "source": [
    "SGD_FILENAME = \"sgd.gaf.gz\"\n",
    "SGD_FILEPATH = f\"{DATA_DIRECTORY}/{SGD_FILENAME}\"\n",
    "\n",
    "# load SGD gaf-file as dataframe \n",
    "with gzip.open(SGD_FILEPATH, 'rt') as gz:\n",
    "    gaf_df = pd.DataFrame(annotation for annotation in GOA.gafiterator(gz))\n",
    "    \n",
    "# define column with systematic gene names\n",
    "gaf_df['Systematic_ID']  = gaf_df.Synonym.apply(\n",
    "    lambda list_ : next(iter(set(list_) & systematic_universe), np.nan))\n",
    "\n",
    "# Filter for proteins\n",
    "gaf_df = gaf_df.dropna()\n",
    "gaf_df = gaf_df[gaf_df['Systematic_ID'].str.startswith('Y')]"
   ]
  },
  {
   "cell_type": "markdown",
   "metadata": {},
   "source": [
    "## GO, annulus2GO"
   ]
  },
  {
   "cell_type": "code",
   "execution_count": 8,
   "metadata": {},
   "outputs": [
    {
     "name": "stdout",
     "output_type": "stream",
     "text": [
      "/Users/markusyoussef/Desktop/git/graco/data/go-basic.obo: fmt(1.2) rel(2019-10-07) 47,285 GO Terms\n"
     ]
    },
    {
     "ename": "NameError",
     "evalue": "name 'gaf_df' is not defined",
     "output_type": "error",
     "traceback": [
      "\u001b[0;31m---------------------------------------------------------------------------\u001b[0m",
      "\u001b[0;31mNameError\u001b[0m                                 Traceback (most recent call last)",
      "\u001b[0;32m<ipython-input-8-59e8fb60400e>\u001b[0m in \u001b[0;36m<module>\u001b[0;34m\u001b[0m\n\u001b[1;32m      8\u001b[0m \u001b[0;34m\u001b[0m\u001b[0m\n\u001b[1;32m      9\u001b[0m \u001b[0;31m# Filter through evidence code and GO-term namespace\u001b[0m\u001b[0;34m\u001b[0m\u001b[0;34m\u001b[0m\u001b[0;34m\u001b[0m\u001b[0m\n\u001b[0;32m---> 10\u001b[0;31m \u001b[0mgaf_df\u001b[0m \u001b[0;34m=\u001b[0m \u001b[0mgaf_df\u001b[0m\u001b[0;34m[\u001b[0m\u001b[0mgaf_df\u001b[0m\u001b[0;34m[\u001b[0m\u001b[0;34m'Evidence'\u001b[0m\u001b[0;34m]\u001b[0m\u001b[0;34m.\u001b[0m\u001b[0misin\u001b[0m\u001b[0;34m(\u001b[0m\u001b[0;34m[\u001b[0m\u001b[0;34m'EXP'\u001b[0m\u001b[0;34m,\u001b[0m \u001b[0;34m'IDA'\u001b[0m\u001b[0;34m,\u001b[0m \u001b[0;34m'IPI'\u001b[0m\u001b[0;34m,\u001b[0m \u001b[0;34m'IMP'\u001b[0m\u001b[0;34m,\u001b[0m \u001b[0;34m'IGI'\u001b[0m\u001b[0;34m,\u001b[0m \u001b[0;34m'IEP'\u001b[0m\u001b[0;34m]\u001b[0m\u001b[0;34m)\u001b[0m\u001b[0;34m]\u001b[0m\u001b[0;34m\u001b[0m\u001b[0;34m\u001b[0m\u001b[0m\n\u001b[0m\u001b[1;32m     11\u001b[0m \u001b[0mgaf_df\u001b[0m \u001b[0;34m=\u001b[0m \u001b[0mgaf_df\u001b[0m\u001b[0;34m[\u001b[0m\u001b[0mgaf_df\u001b[0m\u001b[0;34m[\u001b[0m\u001b[0;34m'Aspect'\u001b[0m\u001b[0;34m]\u001b[0m\u001b[0;34m==\u001b[0m\u001b[0;34m'P'\u001b[0m\u001b[0;34m]\u001b[0m\u001b[0;34m\u001b[0m\u001b[0;34m\u001b[0m\u001b[0m\n\u001b[1;32m     12\u001b[0m \u001b[0;34m\u001b[0m\u001b[0m\n",
      "\u001b[0;31mNameError\u001b[0m: name 'gaf_df' is not defined"
     ]
    }
   ],
   "source": [
    "# Load obo and gaf files\n",
    "GO_FILENAME = \"go-basic.obo\"\n",
    "GO_FILEPATH = f\"{DATA_DIRECTORY}/{GO_FILENAME}\"\n",
    "\n",
    "# Define dictionary of all upstream go-terms\n",
    "go_dag = obo_parser.GODag(GO_FILEPATH)\n",
    "go2parents = {go_id:set(go_dag[go_id].get_all_parents()) | {go_id} for go_id in go_dag.keys()}\n",
    "\n",
    "# Filter through evidence code and GO-term namespace\n",
    "gaf_df = gaf_df[gaf_df['Evidence'].isin(['EXP', 'IDA', 'IPI', 'IMP', 'IGI', 'IEP'])]\n",
    "gaf_df = gaf_df[gaf_df['Aspect']=='P']\n",
    "\n",
    "# Extract annotation dataframe\n",
    "specific_annotations = gaf_df[['Systematic_ID', 'GO_ID']].dropna().drop_duplicates()\n",
    "\n",
    "# Create annotations with all upstream terms in list\n",
    "all_annotations_list = [(gene_id, go_term, go_dag[go_term].level) \n",
    "                                for _, (gene_id, go_id) in specific_annotations.iterrows()\n",
    "                                    for go_term in go2parents[go_id]]\n",
    "\n",
    "# Convert annotation list to dataframe\n",
    "all_annotations_df = pd.DataFrame(\n",
    "                            all_annotations_list,  \n",
    "                            columns = ['Systematic_ID', 'GO_ID', 'Level']).drop_duplicates()\n",
    "\n",
    "# Remove level 0 annotations\n",
    "all_annotations_df = all_annotations_df[all_annotations_df.Level != 0]\n",
    "\n",
    "PPI_annotations_df = all_annotations_df[all_annotations_df.Systematic_ID.isin(PPI_nx.nodes)]"
   ]
  },
  {
   "cell_type": "markdown",
   "metadata": {},
   "source": [
    "## Similarity matrices"
   ]
  },
  {
   "cell_type": "markdown",
   "metadata": {},
   "source": [
    "### GraCo similarity"
   ]
  },
  {
   "cell_type": "code",
   "execution_count": 5,
   "metadata": {},
   "outputs": [],
   "source": [
    "int2gene = dict(enumerate(PPI_nx))\n",
    "gene2int = {gene:n for n,gene in int2gene.items()}\n",
    "\n",
    "# Get orbit-specific graphlet coefficients\n",
    "GDV  = graco.orbits(PPI_nx)\n",
    "GCCV = graco.clusterings(PPI_nx)\n",
    "\n",
    "C0 = np.array(GCCV[['c_02', 'c_03']])\n",
    "C1 = np.array(GCCV[['c_15', 'c_18', 'c_110', 'c_112']])\n",
    "C2 = np.array(GCCV[['c_27', 'c_211', 'c_213']])\n",
    "C3 = np.array(GCCV[['c_311', 'c_313', 'c_314']])"
   ]
  },
  {
   "cell_type": "code",
   "execution_count": 31,
   "metadata": {},
   "outputs": [
    {
     "name": "stdout",
     "output_type": "stream",
     "text": [
      "5721 Nodes: 100% - 188.61secec\r"
     ]
    }
   ],
   "source": [
    "def graco_distance(i, j):\n",
    "    return sum(graco.functions.tvd(C[i],C[j])/C_len for C in C_list)\n",
    "\n",
    "# Chose TVD combination\n",
    "numbers = [0]\n",
    "C_list = [eval(f'C{nr}') for nr in numbers]\n",
    "C_len  = len(C_list)\n",
    "\n",
    "# Calculate TVD matrix\n",
    "N = PPI_nx.number_of_nodes()\n",
    "sqD = squareform(np.zeros([N,N]))\n",
    "\n",
    "t1 = time.time()\n",
    "for nr, (i,j) in enumerate(combinations(range(N), 2)):\n",
    "    sqD[nr] = graco_distance(i,j)\n",
    "    \n",
    "    if nr % 10000 == 0:\n",
    "        t2 = time.time()\n",
    "        print(f'{N} Nodes: {200*(nr+1)/(N*(N-1)):.2f}% - {t2-t1:.2f}sec', end='\\r')\n",
    "        \n",
    "t2 = time.time()\n",
    "print(f'{N} Nodes: 100% - {t2-t1:.2f}sec', end='\\r')\n",
    "    \n",
    "D_tvd = squareform(sqD)"
   ]
  },
  {
   "cell_type": "code",
   "execution_count": 32,
   "metadata": {},
   "outputs": [
    {
     "name": "stdout",
     "output_type": "stream",
     "text": [
      "150.2326033115387\n"
     ]
    }
   ],
   "source": [
    "t1 = time.time()\n",
    "sqD = [graco.functions.tvd(C0[i],C0[j]) for (i,j) in combinations(range(N), 2)]\n",
    "t2 = time.time()\n",
    "print(t2-t1)"
   ]
  },
  {
   "cell_type": "code",
   "execution_count": 34,
   "metadata": {},
   "outputs": [
    {
     "data": {
      "text/plain": [
       "True"
      ]
     },
     "execution_count": 34,
     "metadata": {},
     "output_type": "execute_result"
    }
   ],
   "source": [
    "(D_tvd == squareform(sqD)).all()"
   ]
  },
  {
   "cell_type": "markdown",
   "metadata": {},
   "source": [
    "### Signature similarity"
   ]
  },
  {
   "cell_type": "code",
   "execution_count": 70,
   "metadata": {},
   "outputs": [],
   "source": [
    "LogGDV = np.log(np.array(GDV+1))\n",
    "\n",
    "orbit_dependencies = np.array((1,2,2,2,3,4,3,3,4,3,4,4,4,4,3))\n",
    "weights = 1 - np.log(orbit_dependencies) / np.log(len(orbit_dependencies))\n",
    "weight_sum = np.sum(weights)"
   ]
  },
  {
   "cell_type": "code",
   "execution_count": 74,
   "metadata": {},
   "outputs": [
    {
     "name": "stdout",
     "output_type": "stream",
     "text": [
      "5723 Nodes: 100% - 4155.66sec\r"
     ]
    }
   ],
   "source": [
    "# Calculate signature distance matrix\n",
    "N = PPI_nx.number_of_nodes()\n",
    "D = np.zeros([N,N])\n",
    "\n",
    "t1 = time.time()\n",
    "for (i,j) in combinations(range(N), 2):\n",
    "    u = GDV.iloc[i]\n",
    "    v = GDV.iloc[j]\n",
    "    d = weights*np.abs(LogGDV[i,:]-LogGDV[j,:]) / np.log(np.max([u,v], axis=0)+2)\n",
    "\n",
    "    sqD[nr] = np.sum(d)\n",
    "    if nr % 10000 == 0:\n",
    "        t2 = time.time()\n",
    "        print(f'{N} Nodes: {200*(nr+1)/(N*(N-1)):.2f}% - {t2-t1:.2f}sec', end='\\r')\n",
    "\n",
    "t2 = time.time()\n",
    "print(f'{N} Nodes: 100% - {t2-t1:.2f}sec', end='\\r')\n",
    "    \n",
    "D_signature = squareform(sqD) / weight_sum"
   ]
  },
  {
   "cell_type": "markdown",
   "metadata": {},
   "source": [
    "---"
   ]
  },
  {
   "cell_type": "code",
   "execution_count": 7,
   "metadata": {},
   "outputs": [],
   "source": [
    "S_tvd = 1-D_tvd\n",
    "L_tvd = -S_tvd\n",
    "np.fill_diagonal(L_tvd, np.sum(S_tvd, axis=0)-1)\n",
    "diag = np.diag(L).reshape(1, -1)**(-1/2)\n",
    "L0_tvd = diag.T * L * diag"
   ]
  },
  {
   "cell_type": "code",
   "execution_count": 8,
   "metadata": {},
   "outputs": [],
   "source": [
    "spec0_tvd, Basis0_tvd = eigh(L0_tvd)\n",
    "Basis0_tvd = Basis0_tvd[:,np.argsort(spec0_tvd)]\n",
    "spec0_tvd = spec0_tvd[np.argsort(spec0_tvd)]"
   ]
  },
  {
   "cell_type": "markdown",
   "metadata": {},
   "source": [
    "---"
   ]
  },
  {
   "cell_type": "markdown",
   "metadata": {},
   "source": [
    "## Enrichement analysis"
   ]
  },
  {
   "cell_type": "code",
   "execution_count": 10,
   "metadata": {},
   "outputs": [],
   "source": [
    "def p_value(GO_term_nr, \n",
    "            cluster_nr, \n",
    "            list_of_success_states,\n",
    "            list_of_draws,\n",
    "            list_of_observed_successes):\n",
    "    \n",
    "    success_states = list_of_success_states[GO_term_nr]\n",
    "    draws = list_of_draws[cluster_nr]\n",
    "    observed_successes = list_of_observed_successes[GO_term_nr][cluster_nr]\n",
    "\n",
    "    K = len(success_states)\n",
    "    n = len(draws)\n",
    "    k = len(observed_successes)\n",
    "    \n",
    "    return 1-hypergeom.cdf(k-1, N, n, K)"
   ]
  },
  {
   "cell_type": "code",
   "execution_count": 11,
   "metadata": {},
   "outputs": [],
   "source": [
    "# Cluster independent variables\n",
    "\n",
    "GO_population = set(PPI_annotations_df.GO_ID)\n",
    "PPI_population = set(PPI_nx.nodes())\n",
    "\n",
    "int2GO = dict(enumerate(GO_population))\n",
    "GO2int = {gene:n for n,gene in int2GO.items()}\n",
    "\n",
    "dict_of_success_states = {go_id:set(PPI_annotations_df.Systematic_ID[PPI_annotations_df.GO_ID == go_id])\n",
    "                              for go_id in GO_population}\n",
    "list_of_success_states = list(dict_of_success_states.values())"
   ]
  },
  {
   "cell_type": "code",
   "execution_count": 12,
   "metadata": {},
   "outputs": [],
   "source": [
    "N = len(PPI_population)\n",
    "alpha = [0.01, 0.05, 0.1]\n",
    "m1    = len(GO_population)\n",
    "\n",
    "MAX_CLUSTER = 10"
   ]
  },
  {
   "cell_type": "code",
   "execution_count": 13,
   "metadata": {},
   "outputs": [
    {
     "name": "stdout",
     "output_type": "stream",
     "text": [
      "2: 0.00sec\n",
      "3: 6.80sec\n",
      "4: 13.46sec\n",
      "5: 20.31sec\n",
      "6: 27.30sec\n",
      "7: 34.50sec\n",
      "8: 42.07sec\n",
      "9: 49.53sec\n"
     ]
    }
   ],
   "source": [
    "kmedoid_high_coverage = []\n",
    "kmedoid_middle_coverage = []\n",
    "kmedoid_low_coverage = []\n",
    "\n",
    "t1 = time.time()\n",
    "\n",
    "for cluster_nr in range(2, MAX_CLUSTER):\n",
    "    t2 = time.time()\n",
    "    print(f'{cluster_nr}: {t2-t1:.2f}sec')\n",
    "    \n",
    "    kmedoids_instance = kmedoids(D, range(cluster_nr), data_type = 'distance_matrix')\n",
    "    kmedoids_instance.process()\n",
    "    int_clusters  = kmedoids_instance.get_clusters()\n",
    "\n",
    "    \n",
    "    kmedoid_clusters = [{int2gene[i] for i in int_cluster} for int_cluster in int_clusters]\n",
    "\n",
    "    \n",
    "    list_of_kmedoid_draws = [set(kmedoid_clusters[i]) for i in range(cluster_nr)]\n",
    "\n",
    "    list_of_kmedoid_observed_successes = [[draws & success_states for draws in list_of_kmedoid_draws]\n",
    "                                            for success_states in list_of_success_states]\n",
    "        \n",
    "    kmedoid_GO_enrichment_list = [   \n",
    "            [p_value(\n",
    "                        GO_term_nr=GO_term_nr, \n",
    "                        cluster_nr=cluster_nr,\n",
    "                        list_of_success_states=list_of_success_states,\n",
    "                        list_of_draws=list_of_kmedoid_draws,\n",
    "                        list_of_observed_successes=list_of_kmedoid_observed_successes) \n",
    "                    for GO_term_nr in range(len(GO_population))]\n",
    "                for cluster_nr in range(cluster_nr)]\n",
    "\n",
    "    kmedoid_GO_enrichment_df = pd.DataFrame(kmedoid_GO_enrichment_list, columns=GO_population).T\n",
    "    \n",
    "    m2 = cluster_nr\n",
    "    m = m1*m2\n",
    "    \n",
    "    kmedoid_high_significant_enrichment_df   = kmedoid_GO_enrichment_df < alpha[0]/m\n",
    "    kmedoid_middle_significant_enrichment_df = kmedoid_GO_enrichment_df < alpha[1]/m\n",
    "    kmedoid_low_significant_enrichment_df    = kmedoid_GO_enrichment_df < alpha[2]/m\n",
    "    \n",
    "    kmedoid_high_coverage.append(  sum(kmedoid_high_significant_enrichment_df.any())  /cluster_nr)\n",
    "    kmedoid_middle_coverage.append(sum(kmedoid_middle_significant_enrichment_df.any())/cluster_nr)\n",
    "    kmedoid_low_coverage.append(   sum(kmedoid_low_significant_enrichment_df.any())   /cluster_nr)"
   ]
  },
  {
   "cell_type": "code",
   "execution_count": 14,
   "metadata": {},
   "outputs": [
    {
     "name": "stdout",
     "output_type": "stream",
     "text": [
      "2: 0.00sec\n",
      "3: 0.96sec\n",
      "4: 2.39sec\n",
      "5: 4.03sec\n",
      "6: 6.05sec\n",
      "7: 8.50sec\n",
      "8: 11.04sec\n",
      "9: 13.97sec\n"
     ]
    }
   ],
   "source": [
    "spectral_high_coverage = []\n",
    "spectral_middle_coverage = []\n",
    "spectral_low_coverage = []\n",
    "# kmedoid_coverage  = []\n",
    "\n",
    "t1 = time.time()\n",
    "\n",
    "for cluster_nr in range(2, MAX_CLUSTER):\n",
    "    t2 = time.time()\n",
    "    print(f'{cluster_nr}: {t2-t1:.2f}sec')\n",
    "    \n",
    "    kmeans = KMeans(n_clusters=cluster_nr)\n",
    "    kmeans.fit(Basis0[:,1:cluster_nr])\n",
    "    \n",
    "    spectral_clusters = [{int2gene[i] for i, x in enumerate(kmeans.labels_) if x == cluster_nr}\n",
    "                        for cluster_nr in range(cluster_nr)]\n",
    "    \n",
    "    list_of_spectral_draws = [set(spectral_clusters[i]) for i in range(cluster_nr)]\n",
    "    list_of_spectral_observed_successes = [[draws & success_states for draws in list_of_spectral_draws]\n",
    "                                        for success_states in list_of_success_states]\n",
    "\n",
    "    spectral_GO_enrichment_list = [   \n",
    "            [p_value(\n",
    "                        GO_term_nr=GO_term_nr, \n",
    "                        cluster_nr=cluster_nr,\n",
    "                        list_of_success_states=list_of_success_states,\n",
    "                        list_of_draws=list_of_spectral_draws,\n",
    "                        list_of_observed_successes=list_of_spectral_observed_successes) \n",
    "                    for GO_term_nr in range(len(GO_population))]\n",
    "                for cluster_nr in range(cluster_nr)]\n",
    "\n",
    "    spectral_GO_enrichment_df = pd.DataFrame(spectral_GO_enrichment_list, columns=GO_population).T\n",
    "    \n",
    "    m2 = cluster_nr\n",
    "    m = m1*m2\n",
    "    \n",
    "    spectral_high_significant_enrichment_df   = spectral_GO_enrichment_df < alpha[0]/m\n",
    "    spectral_middle_significant_enrichment_df = spectral_GO_enrichment_df < alpha[1]/m\n",
    "    spectral_low_significant_enrichment_df    = spectral_GO_enrichment_df < alpha[2]/m\n",
    "    \n",
    "    spectral_high_coverage.append(  sum(spectral_high_significant_enrichment_df.any())  /cluster_nr)\n",
    "    spectral_middle_coverage.append(sum(spectral_middle_significant_enrichment_df.any())/cluster_nr)\n",
    "    spectral_low_coverage.append(   sum(spectral_low_significant_enrichment_df.any())   /cluster_nr)"
   ]
  },
  {
   "cell_type": "code",
   "execution_count": 15,
   "metadata": {},
   "outputs": [
    {
     "data": {
      "image/png": "[encoded data removed]",
      "text/plain": [
       "<Figure size 432x288 with 1 Axes>"
      ]
     },
     "metadata": {
      "needs_background": "light"
     },
     "output_type": "display_data"
    }
   ],
   "source": [
    "plt.plot(range(2,MAX_CLUSTER), spectral_middle_coverage);\n",
    "plt.fill_between(range(2,MAX_CLUSTER), spectral_high_coverage, spectral_low_coverage, alpha=0.1);\n",
    "\n",
    "plt.plot(range(2,MAX_CLUSTER), kmedoid_middle_coverage);\n",
    "plt.fill_between(range(2,MAX_CLUSTER), kmedoid_high_coverage, kmedoid_low_coverage, alpha=0.1);"
   ]
  },
  {
   "cell_type": "code",
   "execution_count": null,
   "metadata": {},
   "outputs": [],
   "source": []
  }
 ],
 "metadata": {
  "kernelspec": {
   "display_name": "graco",
   "language": "python",
   "name": "graco"
  },
  "language_info": {
   "codemirror_mode": {
    "name": "ipython",
    "version": 3
   },
   "file_extension": ".py",
   "mimetype": "text/x-python",
   "name": "python",
   "nbconvert_exporter": "python",
   "pygments_lexer": "ipython3",
   "version": "3.7.3"
  }
 },
 "nbformat": 4,
 "nbformat_minor": 2
}
