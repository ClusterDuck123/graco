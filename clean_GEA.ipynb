{
 "cells": [
  {
   "cell_type": "code",
   "execution_count": 1,
   "metadata": {},
   "outputs": [],
   "source": [
    "from itertools import islice, combinations, product\n",
    "from pyclustering.cluster.kmedoids import kmedoids\n",
    "from scipy.spatial.distance import squareform\n",
    "from collections import defaultdict\n",
    "from sklearn.cluster import KMeans\n",
    "from scipy.stats import hypergeom\n",
    "from goatools import obo_parser\n",
    "from scipy.linalg import eigh\n",
    "from zipfile import ZipFile\n",
    "\n",
    "import os\n",
    "import time\n",
    "import gzip\n",
    "import graco\n",
    "import shutil\n",
    "import requests\n",
    "import numpy as np\n",
    "import pandas as pd\n",
    "import seaborn as sns\n",
    "import networkx as nx\n",
    "import Bio.UniProt.GOA as GOA\n",
    "import matplotlib.pyplot as plt"
   ]
  },
  {
   "cell_type": "code",
   "execution_count": 4,
   "metadata": {},
   "outputs": [],
   "source": [
    "%matplotlib inline\n",
    "sns.set()\n",
    "pd.set_option(\"display.max_columns\", 50)\n",
    "\n",
    "DATA_DIRECTORY = \"/home/clusterduck123/Desktop/git/supplements/data\"\n",
    "CPP_DIRECTORY = \"/home/clusterduck123/Desktop/git/graco/graco/cpp\""
   ]
  },
  {
   "cell_type": "code",
   "execution_count": 5,
   "metadata": {},
   "outputs": [],
   "source": [
    "RAW_DATA_DIRECTORY = f\"{DATA_DIRECTORY}/raw_data\"\n",
    "PPI_DIRECTORY = f\"{DATA_DIRECTORY}/PPI\"\n",
    "ANNOTATIONS_DIRECTORY = f\"{DATA_DIRECTORY}/annotations\"\n",
    "MATRIX_DIRECTORY = f\"{DATA_DIRECTORY}/matrix\"\n",
    "CLUSTERS_DIRECTORY = f\"{DATA_DIRECTORY}/clusters\"\n",
    "\n",
    "if not os.path.exists(DATA_DIRECTORY):\n",
    "    os.makedirs(DATA_DIRECTORY)\n",
    "        \n",
    "if not os.path.exists(RAW_DATA_DIRECTORY):\n",
    "    os.makedirs(RAW_DATA_DIRECTORY)     \n",
    "    \n",
    "if not os.path.exists(PPI_DIRECTORY):\n",
    "    os.makedirs(PPI_DIRECTORY)\n",
    "    \n",
    "if not os.path.exists(ANNOTATIONS_DIRECTORY):\n",
    "    os.makedirs(ANNOTATIONS_DIRECTORY)\n",
    "    \n",
    "if not os.path.exists(MATRIX_DIRECTORY):\n",
    "    os.makedirs(MATRIX_DIRECTORY)\n",
    "    \n",
    "if not os.path.exists(CLUSTERS_DIRECTORY):\n",
    "    os.makedirs(CLUSTERS_DIRECTORY)"
   ]
  },
  {
   "cell_type": "markdown",
   "metadata": {},
   "source": [
    "# Downloads"
   ]
  },
  {
   "cell_type": "markdown",
   "metadata": {},
   "source": [
    "### BioGRID"
   ]
  },
  {
   "cell_type": "code",
   "execution_count": 4,
   "metadata": {},
   "outputs": [],
   "source": [
    "if not os.path.exists(RAW_DATA_DIRECTORY):\n",
    "     os.makedirs(directory)\n",
    "\n",
    "BioGRID_FILENAME = \"BIOGRID-ORGANISM-3.5.177.tab2.zip\"\n",
    "BioGRID_URL = \"https://downloads.thebiogrid.org/Download/BioGRID/Release-Archive/BIOGRID-3.5.177\"\n",
    "BioGRID_FILEPATH = f\"{RAW_DATA_DIRECTORY}/{BioGRID_FILENAME}\" "
   ]
  },
  {
   "cell_type": "code",
   "execution_count": 5,
   "metadata": {},
   "outputs": [],
   "source": [
    "# Download\n",
    "r = requests.get(f\"{BioGRID_URL}/{BioGRID_FILENAME}\", allow_redirects=True)\n",
    "with open(BioGRID_FILEPATH, 'wb') as f:\n",
    "    f.write(r.content)"
   ]
  },
  {
   "cell_type": "code",
   "execution_count": 6,
   "metadata": {},
   "outputs": [],
   "source": [
    "# Unzip Saccharomyces cerevisiae file\n",
    "with ZipFile(BioGRID_FILEPATH, 'r') as z:\n",
    "    BioGRID_sc_FILENAME, = [name for name in z.namelist() if 'cerevisiae' in name.lower()]\n",
    "    z.extract(BioGRID_sc_FILENAME, RAW_DATA_DIRECTORY)"
   ]
  },
  {
   "cell_type": "markdown",
   "metadata": {},
   "source": [
    "### SGD annotations"
   ]
  },
  {
   "cell_type": "code",
   "execution_count": 7,
   "metadata": {},
   "outputs": [],
   "source": [
    "SGD_FILENAME = \"sgd.gaf.gz\"\n",
    "SGD_URL = \"http://current.geneontology.org/annotations\"\n",
    "SGD_FILEPATH = f\"{RAW_DATA_DIRECTORY}/{SGD_FILENAME}\""
   ]
  },
  {
   "cell_type": "code",
   "execution_count": 8,
   "metadata": {},
   "outputs": [],
   "source": [
    "# Download\n",
    "r = requests.get(f\"{SGD_URL}/{SGD_FILENAME}\", allow_redirects=True)\n",
    "with open(SGD_FILEPATH, 'wb') as f:\n",
    "    f.write(r.content)"
   ]
  },
  {
   "cell_type": "markdown",
   "metadata": {},
   "source": [
    "### GO"
   ]
  },
  {
   "cell_type": "code",
   "execution_count": 9,
   "metadata": {},
   "outputs": [],
   "source": [
    "GO_FILENAME = \"go-basic.obo\"\n",
    "GO_URL = \"http://purl.obolibrary.org/obo/go\"\n",
    "GO_FILEPATH = f\"{RAW_DATA_DIRECTORY}/{GO_FILENAME}\""
   ]
  },
  {
   "cell_type": "code",
   "execution_count": 10,
   "metadata": {},
   "outputs": [],
   "source": [
    "# Download\n",
    "r = requests.get(f\"{GO_URL}/{GO_FILENAME}\", allow_redirects=True)\n",
    "with open(GO_FILEPATH, 'wb') as f:\n",
    "    f.write(r.content)"
   ]
  },
  {
   "cell_type": "markdown",
   "metadata": {},
   "source": [
    "# BioGRID PPI (S. cerevisiae)"
   ]
  },
  {
   "cell_type": "markdown",
   "metadata": {},
   "source": [
    "## Define interactor universes"
   ]
  },
  {
   "cell_type": "code",
   "execution_count": 4,
   "metadata": {},
   "outputs": [],
   "source": [
    "# load BioGRID file as dataframe\n",
    "organism_FILENAME = \"BIOGRID-ORGANISM-Saccharomyces_cerevisiae_S288c-3.5.177.tab2.txt\"\n",
    "organism_FILEPATH = f\"{RAW_DATA_DIRECTORY}/{organism_FILENAME}\"\n",
    "\n",
    "# remove entrez ids and scores because of mixed datatypes \n",
    "BioGRID_df = pd.read_csv(organism_FILEPATH, delimiter='\\t',\n",
    "                           usecols=[index for index in range(24) if index not in {1,2,18}])"
   ]
  },
  {
   "cell_type": "code",
   "execution_count": 5,
   "metadata": {},
   "outputs": [],
   "source": [
    "# BioGRID universe is the collection of every gene known to BioGRID\n",
    "universe = set(BioGRID_df['BioGRID ID Interactor A']) | \\\n",
    "           set(BioGRID_df['BioGRID ID Interactor B'])\n",
    "\n",
    "systematic_universe = set(BioGRID_df['Systematic Name Interactor A']) | \\\n",
    "                      set(BioGRID_df['Systematic Name Interactor B'])\n",
    "systematic_universe.remove('-')"
   ]
  },
  {
   "cell_type": "code",
   "execution_count": 6,
   "metadata": {},
   "outputs": [],
   "source": [
    "# Filter for (reliable) physical interactions\n",
    "EXPERIMENTAL_SYSTEM = {'Two-hybrid', \n",
    "                       'Affinity Capture-Luminescence',\n",
    "                       'Affinity Capture-MS', \n",
    "                       'Affinity Capture-RNA', \n",
    "                       'Affinity Capture-Western'}\n",
    "EXPERIMENTAL_SYSTEM_TYPE = {'physical'} # redundant because of experimental evidence filtering\n",
    "\n",
    "physical_interaction_df = BioGRID_df[BioGRID_df['Experimental System'].isin(EXPERIMENTAL_SYSTEM)]\n",
    "physical_interaction_df = physical_interaction_df[\n",
    "    physical_interaction_df['Experimental System Type'].isin(EXPERIMENTAL_SYSTEM_TYPE)] # just in case...\n",
    "\n",
    "\n",
    "physical_universe = set(physical_interaction_df['BioGRID ID Interactor A']) | \\\n",
    "                            set(physical_interaction_df['BioGRID ID Interactor B'])\n",
    "\n",
    "systematic_physical_universe = set(physical_interaction_df['Systematic Name Interactor A']) | \\\n",
    "                                       set(physical_interaction_df['Systematic Name Interactor B'])\n",
    "systematic_physical_universe.remove('-')"
   ]
  },
  {
   "cell_type": "markdown",
   "metadata": {},
   "source": [
    "## Define PPI"
   ]
  },
  {
   "cell_type": "code",
   "execution_count": 7,
   "metadata": {},
   "outputs": [],
   "source": [
    "# PPI in dataframe\n",
    "PPI_df = physical_interaction_df[\n",
    "    physical_interaction_df[\"Systematic Name Interactor A\"].str.startswith('Y') & \\\n",
    "    physical_interaction_df[\"Systematic Name Interactor B\"].str.startswith('Y')]\n",
    "\n",
    "PPI_universe = set(PPI_df['Systematic Name Interactor A']) | \\\n",
    "               set(PPI_df['Systematic Name Interactor B'])"
   ]
  },
  {
   "cell_type": "code",
   "execution_count": 8,
   "metadata": {},
   "outputs": [],
   "source": [
    "# Reduce PPI to simple network\n",
    "PPI_nx = nx.from_pandas_edgelist(PPI_df,'Systematic Name Interactor A', 'Systematic Name Interactor B')\n",
    "PPI_nx.remove_edges_from(nx.selfloop_edges(PPI_nx))"
   ]
  },
  {
   "cell_type": "markdown",
   "metadata": {},
   "source": [
    "### Summary"
   ]
  },
  {
   "cell_type": "code",
   "execution_count": 9,
   "metadata": {},
   "outputs": [
    {
     "name": "stdout",
     "output_type": "stream",
     "text": [
      "BioGRID universe sizes:\n",
      "=========================\n",
      "    -         -    : 7172\n",
      "systematic    -    : 6535\n",
      "    -      physical: 6551\n",
      "systematic physical: 6121\n",
      "-------------------------\n",
      "PPI population size: 5726\n"
     ]
    }
   ],
   "source": [
    "print(\"BioGRID universe sizes:\")\n",
    "print(\"=========================\")\n",
    "print(f\"    -         -    : {len(universe)}\")\n",
    "print(f\"systematic    -    : {len(systematic_universe)}\")\n",
    "print(f\"    -      physical: {len(physical_universe)}\")\n",
    "print(f\"systematic physical: {len(systematic_physical_universe)}\")\n",
    "print(\"-------------------------\")\n",
    "print(f\"PPI population size: {PPI_nx.number_of_nodes()}\")"
   ]
  },
  {
   "cell_type": "markdown",
   "metadata": {},
   "source": [
    "### Save"
   ]
  },
  {
   "cell_type": "code",
   "execution_count": 10,
   "metadata": {},
   "outputs": [],
   "source": [
    "nx.write_edgelist(PPI_nx, f\"{PPI_DIRECTORY}/BioGRID_sc.txt\", data=False)"
   ]
  },
  {
   "cell_type": "markdown",
   "metadata": {},
   "source": [
    "# SGD annotations (S. cerevisiae)"
   ]
  },
  {
   "cell_type": "code",
   "execution_count": 11,
   "metadata": {},
   "outputs": [],
   "source": [
    "SGD_FILENAME = \"sgd.gaf.gz\"\n",
    "SGD_FILEPATH = f\"{RAW_DATA_DIRECTORY}/{SGD_FILENAME}\"\n",
    "\n",
    "# load SGD gaf-file as dataframe \n",
    "with gzip.open(SGD_FILEPATH, 'rt') as gz:\n",
    "    SGD_df = pd.DataFrame(annotation for annotation in GOA.gafiterator(gz))\n",
    "    \n",
    "# Define column with systematic gene names. In SGD this is always the first synonym.\n",
    "SGD_df['Systematic_ID']  = SGD_df.Synonym.apply(lambda list_:list_[0])"
   ]
  },
  {
   "cell_type": "code",
   "execution_count": 12,
   "metadata": {},
   "outputs": [],
   "source": [
    "# Filter for proteins\n",
    "lc_protein_gaf_df = SGD_df[SGD_df['Systematic_ID'].str.startswith('Y')]\n",
    "\n",
    "# Filter through evidence code\n",
    "protein_gaf_df = lc_protein_gaf_df[lc_protein_gaf_df['Evidence'].isin(['EXP', 'IDA', 'IPI', 'IMP', 'IGI', 'IEP'])]\n",
    "\n",
    "# Split into the three GOs\n",
    "protein_BP_gaf_df = protein_gaf_df[protein_gaf_df['Aspect']=='P']\n",
    "protein_MF_gaf_df = protein_gaf_df[protein_gaf_df['Aspect']=='F']\n",
    "protein_CC_gaf_df = protein_gaf_df[protein_gaf_df['Aspect']=='C']"
   ]
  },
  {
   "cell_type": "code",
   "execution_count": 13,
   "metadata": {},
   "outputs": [],
   "source": [
    "# Get rid of all unnecesarry columns in the GAFs\n",
    "high_IC_annotations_df = protein_gaf_df[['Systematic_ID', 'GO_ID']].dropna().drop_duplicates()\n",
    "\n",
    "# Split into the three GOs\n",
    "high_IC_BP_annotations_df = protein_BP_gaf_df[['Systematic_ID', 'GO_ID']].dropna().drop_duplicates()\n",
    "high_IC_MF_annotations_df = protein_MF_gaf_df[['Systematic_ID', 'GO_ID']].dropna().drop_duplicates()\n",
    "high_IC_CC_annotations_df = protein_CC_gaf_df[['Systematic_ID', 'GO_ID']].dropna().drop_duplicates()"
   ]
  },
  {
   "cell_type": "markdown",
   "metadata": {},
   "source": [
    "### GO DAG extention"
   ]
  },
  {
   "cell_type": "code",
   "execution_count": 14,
   "metadata": {},
   "outputs": [
    {
     "name": "stdout",
     "output_type": "stream",
     "text": [
      "/home/clusterduck123/Desktop/git/supplements/data/raw_data/go-basic.obo: fmt(1.2) rel(2019-10-07) 47,285 GO Terms\n"
     ]
    }
   ],
   "source": [
    "# Load obo and gaf files\n",
    "GO_FILENAME = \"go-basic.obo\"\n",
    "GO_FILEPATH = f\"{RAW_DATA_DIRECTORY}/{GO_FILENAME}\"\n",
    "\n",
    "# Create annotations with all upstream terms in dict\n",
    "go_dag = obo_parser.GODag(GO_FILEPATH)\n",
    "go2parents = {go_id:{*go_dag[go_id].get_all_parents(), go_id} for go_id in go_dag.keys()}"
   ]
  },
  {
   "cell_type": "code",
   "execution_count": 15,
   "metadata": {},
   "outputs": [],
   "source": [
    "# Create full list/dataframe of annotations\n",
    "all_annotations_list = [(gene_id, go_term, go_dag[go_term].level) \n",
    "                                for _, (gene_id, go_id) in high_IC_annotations_df.iterrows()\n",
    "                                    for go_term in go2parents[go_id]]\n",
    "all_annotations_df = pd.DataFrame(\n",
    "                            all_annotations_list,  \n",
    "                            columns = ['Systematic_ID', 'GO_ID', 'Level']).drop_duplicates()\n",
    "\n",
    "# Split into the three GOs\n",
    "all_BP_annotations_list = [entry for entry in all_annotations_list \n",
    "                               if go_dag[entry[1]].namespace == \"biological_process\"]\n",
    "all_MF_annotations_list = [entry for entry in all_annotations_list \n",
    "                               if go_dag[entry[1]].namespace == \"molecular_function\"]\n",
    "all_CC_annotations_list = [entry for entry in all_annotations_list \n",
    "                               if go_dag[entry[1]].namespace == \"cellular_component\"]\n",
    "\n",
    "all_BP_annotations_df = pd.DataFrame(\n",
    "                            all_BP_annotations_list,  \n",
    "                            columns = ['Systematic_ID', 'GO_ID', 'Level']).drop_duplicates()\n",
    "all_MF_annotations_df = pd.DataFrame(\n",
    "                            all_MF_annotations_list,  \n",
    "                            columns = ['Systematic_ID', 'GO_ID', 'Level']).drop_duplicates()\n",
    "all_CC_annotations_df = pd.DataFrame(\n",
    "                            all_CC_annotations_list,  \n",
    "                            columns = ['Systematic_ID', 'GO_ID', 'Level']).drop_duplicates()"
   ]
  },
  {
   "cell_type": "markdown",
   "metadata": {},
   "source": [
    "### Summary"
   ]
  },
  {
   "cell_type": "code",
   "execution_count": 16,
   "metadata": {},
   "outputs": [
    {
     "name": "stdout",
     "output_type": "stream",
     "text": [
      "SGD universe sizes:\n",
      "============================================\n",
      "Biological Process : 4532 genes, 4662 GO-IDs \n",
      "Molecular Functions: 3564 genes, 2105 GO-IDs \n",
      "Cellular Components: 4013 genes, 904  GO-IDs \n",
      "--------------------------------------------\n",
      "All annotations    : 4967 genes, 7671 GO-IDs \n"
     ]
    }
   ],
   "source": [
    "print(\"SGD universe sizes:\")\n",
    "print(\"============================================\")\n",
    "print(\"Biological Process : \" \n",
    "    f\"{len(set(map(lambda x:x[0],all_BP_annotations_list)))} genes, \"\n",
    "    f\"{len(set(map(lambda x:x[1],all_BP_annotations_list)))} GO-IDs \")\n",
    "print(\"Molecular Functions: \" \n",
    "    f\"{len(set(map(lambda x:x[0],all_MF_annotations_list)))} genes, \"\n",
    "    f\"{len(set(map(lambda x:x[1],all_MF_annotations_list)))} GO-IDs \")\n",
    "print(\"Cellular Components: \" \n",
    "    f\"{len(set(map(lambda x:x[0],all_CC_annotations_list)))} genes, \"\n",
    "    f\"{len(set(map(lambda x:x[1],all_CC_annotations_list)))}  GO-IDs \")\n",
    "print('--------------------------------------------')\n",
    "print(\"All annotations    : \" \n",
    "    f\"{len(set(map(lambda x:x[0],all_annotations_list)))} genes, \"\n",
    "    f\"{len(set(map(lambda x:x[1],all_annotations_list)))} GO-IDs \")"
   ]
  },
  {
   "cell_type": "markdown",
   "metadata": {},
   "source": [
    "### Save"
   ]
  },
  {
   "cell_type": "code",
   "execution_count": 17,
   "metadata": {},
   "outputs": [],
   "source": [
    "all_annotations_df.to_csv(f\"{ANNOTATIONS_DIRECTORY}/SGD_sc.csv\", index=False)\n",
    "\n",
    "all_BP_annotations_df.to_csv(f\"{ANNOTATIONS_DIRECTORY}/SGD_BP_sc.csv\", index=False)\n",
    "all_MF_annotations_df.to_csv(f\"{ANNOTATIONS_DIRECTORY}/SGD_MF_sc.csv\", index=False)\n",
    "all_CC_annotations_df.to_csv(f\"{ANNOTATIONS_DIRECTORY}/SGD_CC_sc.csv\", index=False)"
   ]
  },
  {
   "cell_type": "markdown",
   "metadata": {},
   "source": [
    "# BioGRID $\\cap$ SGD"
   ]
  },
  {
   "cell_type": "code",
   "execution_count": 18,
   "metadata": {},
   "outputs": [],
   "source": [
    "PPI_nx = nx.read_edgelist(f\"{PPI_DIRECTORY}/BioGRID_sc.txt\")\n",
    "\n",
    "all_annotations_df = pd.read_csv(f\"{ANNOTATIONS_DIRECTORY}/SGD_sc.csv\")\n",
    "\n",
    "all_BP_annotations_df = pd.read_csv(f\"{ANNOTATIONS_DIRECTORY}/SGD_BP_sc.csv\")\n",
    "all_MF_annotations_df = pd.read_csv(f\"{ANNOTATIONS_DIRECTORY}/SGD_MF_sc.csv\")\n",
    "all_CC_annotations_df = pd.read_csv(f\"{ANNOTATIONS_DIRECTORY}/SGD_CC_sc.csv\")"
   ]
  },
  {
   "cell_type": "code",
   "execution_count": 19,
   "metadata": {},
   "outputs": [],
   "source": [
    "PPI_annotations_df = all_annotations_df[all_annotations_df.Systematic_ID.isin(PPI_nx.nodes)]\n",
    "\n",
    "PPI_BP_annotations_df = all_BP_annotations_df[all_BP_annotations_df.Systematic_ID.isin(PPI_nx.nodes)]\n",
    "PPI_MF_annotations_df = all_MF_annotations_df[all_MF_annotations_df.Systematic_ID.isin(PPI_nx.nodes)]\n",
    "PPI_CC_annotations_df = all_CC_annotations_df[all_CC_annotations_df.Systematic_ID.isin(PPI_nx.nodes)]"
   ]
  },
  {
   "cell_type": "markdown",
   "metadata": {},
   "source": [
    "### Summary"
   ]
  },
  {
   "cell_type": "code",
   "execution_count": 20,
   "metadata": {},
   "outputs": [
    {
     "name": "stdout",
     "output_type": "stream",
     "text": [
      "SGD ∩ BioGRID universe sizes:\n",
      "============================================\n",
      "Biological Process : 4496 genes, 4496 GO-IDs \n",
      "Molecular Functions: 3537 genes, 3537 GO-IDs \n",
      "Cellular Components: 3993 genes, 3993  GO-IDs \n",
      "--------------------------------------------\n",
      "All annotations    : 4923 genes, 4923 GO-IDs \n"
     ]
    }
   ],
   "source": [
    "print(r\"SGD ∩ BioGRID universe sizes:\")\n",
    "print(\"============================================\")\n",
    "print(\"Biological Process : \" \n",
    "    f\"{len(set(PPI_BP_annotations_df.Systematic_ID))} genes, \"\n",
    "    f\"{len(set(PPI_BP_annotations_df.Systematic_ID))} GO-IDs \")\n",
    "print(\"Molecular Functions: \" \n",
    "    f\"{len(set(PPI_MF_annotations_df.Systematic_ID))} genes, \"\n",
    "    f\"{len(set(PPI_MF_annotations_df.Systematic_ID))} GO-IDs \")\n",
    "print(\"Cellular Components: \" \n",
    "    f\"{len(set(PPI_CC_annotations_df.Systematic_ID))} genes, \"\n",
    "    f\"{len(set(PPI_CC_annotations_df.Systematic_ID))}  GO-IDs \")\n",
    "print('--------------------------------------------')\n",
    "print(\"All annotations    : \" \n",
    "    f\"{len(set(PPI_annotations_df.Systematic_ID))} genes, \"\n",
    "    f\"{len(set(PPI_annotations_df.Systematic_ID))} GO-IDs \")"
   ]
  },
  {
   "cell_type": "markdown",
   "metadata": {},
   "source": [
    "### Save"
   ]
  },
  {
   "cell_type": "code",
   "execution_count": 21,
   "metadata": {},
   "outputs": [],
   "source": [
    "PPI_annotations_df.to_csv(f\"{ANNOTATIONS_DIRECTORY}/BioGRID-SGD_sc.csv\", index=False)\n",
    "\n",
    "PPI_BP_annotations_df.to_csv(f\"{ANNOTATIONS_DIRECTORY}/BioGRID-SGD_BP_sc.csv\", index=False)\n",
    "PPI_MF_annotations_df.to_csv(f\"{ANNOTATIONS_DIRECTORY}/BioGRID-SGD_MF_sc.csv\", index=False)\n",
    "PPI_CC_annotations_df.to_csv(f\"{ANNOTATIONS_DIRECTORY}/BioGRID-SGD_CC_sc.csv\", index=False)"
   ]
  },
  {
   "cell_type": "markdown",
   "metadata": {},
   "source": [
    "# Similarity matrices"
   ]
  },
  {
   "cell_type": "markdown",
   "metadata": {},
   "source": [
    "### GraCo similarity"
   ]
  },
  {
   "cell_type": "code",
   "execution_count": 6,
   "metadata": {},
   "outputs": [],
   "source": [
    "# Get orbit-specific graphlet coefficients\n",
    "PPI_nx = nx.read_edgelist(f\"{PPI_DIRECTORY}/BioGRID_sc.txt\")\n",
    "GDV = graco.orbits(PPI_nx)\n",
    "GCV = graco.coefficients(GDV)"
   ]
  },
  {
   "cell_type": "code",
   "execution_count": 7,
   "metadata": {},
   "outputs": [],
   "source": [
    "C0 = np.array(GCV[['c_0-2' , 'c_0-3']])\n",
    "C1 = np.array(GCV[['c_1-5' , 'c_1-8' , 'c_1-10', 'c_1-12']])\n",
    "C2 = np.array(GCV[['c_2-7' , 'c_2-11', 'c_2-13']])\n",
    "C3 = np.array(GCV[['c_3-11', 'c_3-13', 'c_3-14']])"
   ]
  },
  {
   "cell_type": "code",
   "execution_count": 9,
   "metadata": {},
   "outputs": [
    {
     "name": "stdout",
     "output_type": "stream",
     "text": [
      "5726 Nodes: 100% - 776.28sec\r"
     ]
    }
   ],
   "source": [
    "tvd = '0'\n",
    "N = PPI_nx.number_of_nodes()\n",
    "\n",
    "t1 = time.time()\n",
    "sqD = [graco.functions.tvd(eval(f'C{tvd}[{i}]'),eval(f'C{tvd}[{j}]')) \n",
    "            for (i,j) in combinations(range(N), 2)]\n",
    "t2 = time.time()\n",
    "print(f'{N} Nodes: 100% - {t2-t1:.2f}sec', end='\\r')\n",
    "    \n",
    "D_tvd = squareform(sqD)\n",
    "np.savetxt(f\"{MATRIX_DIRECTORY}/sc_BioGRID_tvd{tvd}.txt\", D_tvd, \n",
    "           fmt='%.7f', header=' '.join(PPI_nx), comments='')"
   ]
  },
  {
   "cell_type": "code",
   "execution_count": 10,
   "metadata": {},
   "outputs": [
    {
     "name": "stdout",
     "output_type": "stream",
     "text": [
      "5726 Nodes: 100% - 821.49sec\r"
     ]
    }
   ],
   "source": [
    "tvd = '2'\n",
    "N = PPI_nx.number_of_nodes()\n",
    "\n",
    "t1 = time.time()\n",
    "sqD = [graco.functions.tvd(eval(f'C{tvd}[{i}]'),eval(f'C{tvd}[{j}]')) \n",
    "            for (i,j) in combinations(range(N), 2)]\n",
    "t2 = time.time()\n",
    "print(f'{N} Nodes: 100% - {t2-t1:.2f}sec', end='\\r')\n",
    "    \n",
    "D_tvd = squareform(sqD)\n",
    "np.savetxt(f\"{MATRIX_DIRECTORY}/sc_BioGRID_tvd{tvd}.txt\", D_tvd, \n",
    "           fmt='%.7f', header=' '.join(PPI_nx), comments='')"
   ]
  },
  {
   "cell_type": "code",
   "execution_count": 11,
   "metadata": {},
   "outputs": [
    {
     "name": "stdout",
     "output_type": "stream",
     "text": [
      "5726 Nodes: 100% - 852.06sec\r"
     ]
    }
   ],
   "source": [
    "tvd = '3'\n",
    "N = PPI_nx.number_of_nodes()\n",
    "\n",
    "t1 = time.time()\n",
    "sqD = [graco.functions.tvd(eval(f'C{tvd}[{i}]'),eval(f'C{tvd}[{j}]')) \n",
    "            for (i,j) in combinations(range(N), 2)]\n",
    "t2 = time.time()\n",
    "print(f'{N} Nodes: 100% - {t2-t1:.2f}sec', end='\\r')\n",
    "    \n",
    "D_tvd = squareform(sqD)\n",
    "np.savetxt(f\"{MATRIX_DIRECTORY}/sc_BioGRID_tvd{tvd}.txt\", D_tvd, \n",
    "           fmt='%.7f', header=' '.join(PPI_nx), comments='')"
   ]
  },
  {
   "cell_type": "markdown",
   "metadata": {},
   "source": [
    "### Signature similarity"
   ]
  },
  {
   "cell_type": "code",
   "execution_count": 114,
   "metadata": {},
   "outputs": [],
   "source": [
    "def tijana_distance(GDV):\n",
    "    LogGDV = np.log(np.array(GDV+1))\n",
    "\n",
    "    orbit_dependencies = np.array((1,2,2,2,3,4,3,3,4,3,4,4,4,4,3))\n",
    "    weights = 1 - np.log(orbit_dependencies) / np.log(len(orbit_dependencies))\n",
    "    \n",
    "    sqD = [np.sum(weights*np.abs(LogGDV[i,:]-LogGDV[j,:]) / np.log(np.max([GDV[i,:],GDV[j,:]], axis=0)+2))\n",
    "              for (i,j) in combinations(range(len(GDV)), 2)]\n",
    "\n",
    "    return squareform(sqD) / np.sum(weights)"
   ]
  },
  {
   "cell_type": "code",
   "execution_count": 6,
   "metadata": {},
   "outputs": [],
   "source": [
    "# Calculate signature distance matrix\n",
    "PPI_nx = nx.read_edgelist(f\"{PPI_DIRECTORY}/BioGRID_sc.txt\")\n",
    "GDV = graco.orbits(PPI_nx)\n",
    "np.savetxt(f\"{CPP_DIRECTORY}/matrix.in\", GDV, \n",
    "           header=f\"{len(GDV)} 15\", fmt='%d')"
   ]
  },
  {
   "cell_type": "code",
   "execution_count": 7,
   "metadata": {},
   "outputs": [],
   "source": [
    "D_tijana = np.genfromtxt(f\"{CPP_DIRECTORY}/matrix.out\")\n",
    "np.savetxt(f\"{MATRIX_DIRECTORY}/sc_BioGRID_tijana.txt\", D_tijana, \n",
    "           fmt='%.7f', header=' '.join(PPI_nx), comments='')"
   ]
  },
  {
   "cell_type": "markdown",
   "metadata": {},
   "source": [
    "### Spectral stuff"
   ]
  },
  {
   "cell_type": "code",
   "execution_count": 18,
   "metadata": {},
   "outputs": [],
   "source": [
    "def normalized_laplacian(D):\n",
    "    # can be optimized more\n",
    "    diag = ((len(D)-1) - np.sum(D, axis=0)).reshape(-1,1)\n",
    "    L  = D-1\n",
    "    np.fill_diagonal(L, diag)\n",
    "    L0 = np.multiply(np.multiply(diag**(-1/2),L).T,diag**(-1/2))\n",
    "    return L0"
   ]
  },
  {
   "cell_type": "markdown",
   "metadata": {},
   "source": [
    "# Clustering "
   ]
  },
  {
   "cell_type": "code",
   "execution_count": 35,
   "metadata": {},
   "outputs": [],
   "source": [
    "MATRIX_NAME = \"sc_BioGRID_tvd3\"\n",
    "D_df = pd.read_csv(f\"{MATRIX_DIRECTORY}/{MATRIX_NAME}.txt\", delimiter=' ')\n",
    "\n",
    "int2gene = dict(enumerate(D_df.columns))"
   ]
  },
  {
   "cell_type": "code",
   "execution_count": 36,
   "metadata": {},
   "outputs": [],
   "source": [
    "METHOD = \"kmedoids\"\n",
    "\n",
    "if not os.path.exists(f\"{CLUSTERS_DIRECTORY}/{METHOD}\"):\n",
    "    os.makedirs(f\"{CLUSTERS_DIRECTORY}/{METHOD}\")"
   ]
  },
  {
   "cell_type": "code",
   "execution_count": 37,
   "metadata": {},
   "outputs": [
    {
     "name": "stdout",
     "output_type": "stream",
     "text": [
      "99: 267.44sec\r"
     ]
    }
   ],
   "source": [
    "t1 = time.time()\n",
    "for n_clusters in range(50, 100):\n",
    "    initial_medoids = range(n_clusters)\n",
    "    kmedoids_instance = kmedoids(np.array(D_df), initial_medoids, data_type='distance_matrix')\n",
    "    kmedoids_instance.process()\n",
    "\n",
    "    with open(f\"{CLUSTERS_DIRECTORY}/{METHOD}/{MATRIX_NAME}_{n_clusters}.txt\", 'w') as f:\n",
    "        for cluster in kmedoids_instance.get_clusters():\n",
    "            f.write(' '.join(map(int2gene.get,cluster)) + '\\n')\n",
    "    t2 = time.time()\n",
    "    print(f'{n_clusters}: {t2-t1:.2f}sec', end='\\r')"
   ]
  },
  {
   "cell_type": "markdown",
   "metadata": {},
   "source": [
    "---"
   ]
  },
  {
   "cell_type": "code",
   "execution_count": 20,
   "metadata": {},
   "outputs": [
    {
     "name": "stdout",
     "output_type": "stream",
     "text": [
      "49: 255.42sec\r"
     ]
    }
   ],
   "source": [
    "MATRIX_NAME = \"sc_BioGRID_tvd1\"\n",
    "D_df = pd.read_csv(f\"{MATRIX_DIRECTORY}/{MATRIX_NAME}.txt\", delimiter=' ')\n",
    "\n",
    "t1 = time.time()\n",
    "for n_clusters in range(2,50):\n",
    "    initial_medoids = range(n_clusters)\n",
    "    kmedoids_instance = kmedoids(np.array(D_df), initial_medoids, data_type='distance_matrix')\n",
    "    kmedoids_instance.process()\n",
    "\n",
    "    with open(f\"{CLUSTERS_DIRECTORY}/{METHOD}/{MATRIX_NAME}_{n_clusters}.txt\", 'w') as f:\n",
    "        for cluster in kmedoids_instance.get_clusters():\n",
    "            f.write(' '.join(map(int2gene.get,cluster)) + '\\n')\n",
    "    t2 = time.time()\n",
    "    print(f'{n_clusters}: {t2-t1:.2f}sec', end='\\r')"
   ]
  },
  {
   "cell_type": "code",
   "execution_count": 21,
   "metadata": {},
   "outputs": [
    {
     "name": "stdout",
     "output_type": "stream",
     "text": [
      "49: 267.51sec\r"
     ]
    }
   ],
   "source": [
    "MATRIX_NAME = \"sc_BioGRID_tvd2\"\n",
    "D_df = pd.read_csv(f\"{MATRIX_DIRECTORY}/{MATRIX_NAME}.txt\", delimiter=' ')\n",
    "\n",
    "t1 = time.time()\n",
    "for n_clusters in range(2,50):\n",
    "    initial_medoids = range(n_clusters)\n",
    "    kmedoids_instance = kmedoids(np.array(D_df), initial_medoids, data_type='distance_matrix')\n",
    "    kmedoids_instance.process()\n",
    "\n",
    "    with open(f\"{CLUSTERS_DIRECTORY}/{METHOD}/{MATRIX_NAME}_{n_clusters}.txt\", 'w') as f:\n",
    "        for cluster in kmedoids_instance.get_clusters():\n",
    "            f.write(' '.join(map(int2gene.get,cluster)) + '\\n')\n",
    "    t2 = time.time()\n",
    "    print(f'{n_clusters}: {t2-t1:.2f}sec', end='\\r')"
   ]
  },
  {
   "cell_type": "code",
   "execution_count": 22,
   "metadata": {},
   "outputs": [
    {
     "name": "stdout",
     "output_type": "stream",
     "text": [
      "49: 273.25sec\r"
     ]
    }
   ],
   "source": [
    "MATRIX_NAME = \"sc_BioGRID_tvd3\"\n",
    "D_df = pd.read_csv(f\"{MATRIX_DIRECTORY}/{MATRIX_NAME}.txt\", delimiter=' ')\n",
    "\n",
    "t1 = time.time()\n",
    "for n_clusters in range(2,50):\n",
    "    initial_medoids = range(n_clusters)\n",
    "    kmedoids_instance = kmedoids(np.array(D_df), initial_medoids, data_type='distance_matrix')\n",
    "    kmedoids_instance.process()\n",
    "\n",
    "    with open(f\"{CLUSTERS_DIRECTORY}/{METHOD}/{MATRIX_NAME}_{n_clusters}.txt\", 'w') as f:\n",
    "        for cluster in kmedoids_instance.get_clusters():\n",
    "            f.write(' '.join(map(int2gene.get,cluster)) + '\\n')\n",
    "    t2 = time.time()\n",
    "    print(f'{n_clusters}: {t2-t1:.2f}sec', end='\\r')"
   ]
  },
  {
   "cell_type": "markdown",
   "metadata": {},
   "source": [
    "### Combinations"
   ]
  },
  {
   "cell_type": "code",
   "execution_count": 40,
   "metadata": {},
   "outputs": [],
   "source": [
    "MATRIX_NAME0 = \"sc_BioGRID_tvd0\"\n",
    "D0_df = pd.read_csv(f\"{MATRIX_DIRECTORY}/{MATRIX_NAME0}.txt\", delimiter=' ')\n",
    "\n",
    "MATRIX_NAME1 = \"sc_BioGRID_tvd1\"\n",
    "D1_df = pd.read_csv(f\"{MATRIX_DIRECTORY}/{MATRIX_NAME1}.txt\", delimiter=' ')\n",
    "\n",
    "MATRIX_NAME2 = \"sc_BioGRID_tvd2\"\n",
    "D2_df = pd.read_csv(f\"{MATRIX_DIRECTORY}/{MATRIX_NAME2}.txt\", delimiter=' ')\n",
    "\n",
    "MATRIX_NAME3 = \"sc_BioGRID_tvd3\"\n",
    "D3_df = pd.read_csv(f\"{MATRIX_DIRECTORY}/{MATRIX_NAME3}.txt\", delimiter=' ')\n",
    "\n",
    "MATRIX_NAMEt = \"sc_BioGRID_tijana\"\n",
    "Dt_df = pd.read_csv(f\"{MATRIX_DIRECTORY}/{MATRIX_NAMEt}.txt\", delimiter=' ')\n",
    "\n",
    "D_df = (D0_df + D1_df + D2_df + D3_df)/4\n",
    "int2gene = dict(enumerate(D1_df.columns))\n",
    "\n",
    "del D0_df, D1_df, D2_df, D3_df"
   ]
  },
  {
   "cell_type": "code",
   "execution_count": 41,
   "metadata": {},
   "outputs": [
    {
     "name": "stdout",
     "output_type": "stream",
     "text": [
      "99: 514.90sec\r"
     ]
    }
   ],
   "source": [
    "MATRIX_NAME = \"sc_BioGRID_tvd0123\"\n",
    "\n",
    "t1 = time.time()\n",
    "for n_clusters in range(2,100):\n",
    "    initial_medoids = range(n_clusters)\n",
    "    kmedoids_instance = kmedoids(np.array(D_df), initial_medoids, data_type='distance_matrix')\n",
    "    kmedoids_instance.process()\n",
    "\n",
    "    with open(f\"{CLUSTERS_DIRECTORY}/{METHOD}/{MATRIX_NAME}_{n_clusters}.txt\", 'w') as f:\n",
    "        for cluster in kmedoids_instance.get_clusters():\n",
    "            f.write(' '.join(map(int2gene.get,cluster)) + '\\n')\n",
    "    t2 = time.time()\n",
    "    print(f'{n_clusters}: {t2-t1:.2f}sec', end='\\r')"
   ]
  },
  {
   "cell_type": "markdown",
   "metadata": {},
   "source": [
    "## Enrichement analysis"
   ]
  },
  {
   "cell_type": "code",
   "execution_count": 16,
   "metadata": {},
   "outputs": [],
   "source": [
    "def normalized_laplacian(D):\n",
    "    # can be optimized more\n",
    "    diag = ((len(D)-1) - np.sum(D, axis=0)).reshape(-1,1)\n",
    "    L  = D-1\n",
    "    np.fill_diagonal(L, diag)\n",
    "    L0 = np.multiply(np.multiply(diag**(-1/2),L).T,diag**(-1/2))\n",
    "    return L0"
   ]
  },
  {
   "cell_type": "code",
   "execution_count": 17,
   "metadata": {},
   "outputs": [],
   "source": [
    "def p_value(GO_term_nr, \n",
    "            cluster_nr, \n",
    "            list_of_success_states,\n",
    "            list_of_draws,\n",
    "            list_of_observed_successes):\n",
    "    \n",
    "    success_states = list_of_success_states[GO_term_nr]\n",
    "    draws = list_of_draws[cluster_nr]\n",
    "    observed_successes = list_of_observed_successes[GO_term_nr][cluster_nr]\n",
    "\n",
    "    K = len(success_states)\n",
    "    n = len(draws)\n",
    "    k = len(observed_successes)\n",
    "    \n",
    "    return 1-hypergeom.cdf(k-1, N, n, K)"
   ]
  },
  {
   "cell_type": "code",
   "execution_count": 18,
   "metadata": {},
   "outputs": [],
   "source": [
    "# Cluster independent variables\n",
    "\n",
    "GO_population = set(all_BP_annotation_df.GO_ID)\n",
    "PPI_population = set(PPI_nx.nodes())\n",
    "\n",
    "int2GO = dict(enumerate(GO_population))\n",
    "GO2int = {gene:n for n,gene in int2GO.items()}\n",
    "\n",
    "dict_of_success_states = {go_id:set(all_BP_annotation_df.Systematic_ID[all_BP_annotation_df.GO_ID == go_id])\n",
    "                              for go_id in GO_population}\n",
    "list_of_success_states = list(dict_of_success_states.values())"
   ]
  },
  {
   "cell_type": "code",
   "execution_count": 95,
   "metadata": {},
   "outputs": [],
   "source": [
    "D123 = (D1+D2+D3)/3\n",
    "L123 = normalized_laplacian(D123)\n",
    "spec123, Basis123 = eigh(L123)\n",
    "np.savetxt(f\"/Users/markusyoussef/Desktop/git/graco/data/EV_sc/Basis_123.txt\", Basis123, fmt='%.7f')"
   ]
  },
  {
   "cell_type": "code",
   "execution_count": 49,
   "metadata": {},
   "outputs": [],
   "source": [
    "D_tijana = np.genfromtxt(f\"/Users/markusyoussef/Desktop/git/graco/data/D_sc/tijana.txt\")\n",
    "L_tijana = normalized_laplacian(D_tijana)\n",
    "spec_tijana, Basis_tijana = eigh(L_tijana)\n",
    "np.savetxt(f\"/Users/markusyoussef/Desktop/git/graco/data/EV_sc/Basis_tijana.txt\", Basis_tijana, fmt='%.7f')"
   ]
  },
  {
   "cell_type": "code",
   "execution_count": 37,
   "metadata": {},
   "outputs": [],
   "source": [
    "N = len(PPI_population)\n",
    "alpha = [0.01, 0.05, 0.1]\n",
    "m1    = len(GO_population)\n",
    "\n",
    "MAX_CLUSTER = 30"
   ]
  },
  {
   "cell_type": "code",
   "execution_count": 50,
   "metadata": {},
   "outputs": [
    {
     "name": "stdout",
     "output_type": "stream",
     "text": [
      "2: 0.00sec\n",
      "3: 4.55sec\n",
      "4: 8.88sec\n",
      "5: 13.34sec\n",
      "6: 21.07sec\n",
      "7: 26.72sec\n",
      "8: 33.54sec\n",
      "9: 42.78sec\n",
      "10: 51.07sec\n",
      "11: 59.59sec\n",
      "12: 69.38sec\n",
      "13: 78.33sec\n",
      "14: 88.13sec\n",
      "15: 98.54sec\n",
      "16: 110.93sec\n",
      "17: 124.52sec\n",
      "18: 135.78sec\n",
      "19: 147.13sec\n",
      "20: 160.02sec\n",
      "21: 172.89sec\n",
      "22: 186.42sec\n",
      "23: 200.91sec\n",
      "24: 214.94sec\n",
      "25: 233.05sec\n",
      "26: 258.65sec\n",
      "27: 281.57sec\n",
      "28: 303.82sec\n",
      "29: 320.90sec\n"
     ]
    }
   ],
   "source": [
    "tijana_spectral_high_coverage = []\n",
    "tijana_spectral_middle_coverage = []\n",
    "tijana_spectral_low_coverage = []\n",
    "\n",
    "t1 = time.time()\n",
    "\n",
    "for cluster_nr in range(2, MAX_CLUSTER):\n",
    "    t2 = time.time()\n",
    "    print(f'{cluster_nr}: {t2-t1:.2f}sec')\n",
    "    \n",
    "    kmeans = KMeans(n_clusters=cluster_nr)\n",
    "    kmeans.fit(Basis_tijana[:,1:cluster_nr])\n",
    "    \n",
    "    spectral_clusters = [{int2gene[i] for i, x in enumerate(kmeans.labels_) if x == cluster_nr}\n",
    "                        for cluster_nr in range(cluster_nr)]\n",
    "    \n",
    "    list_of_spectral_draws = [set(spectral_clusters[i]) for i in range(cluster_nr)]\n",
    "    list_of_spectral_observed_successes = [[draws & success_states for draws in list_of_spectral_draws]\n",
    "                                        for success_states in list_of_success_states]\n",
    "\n",
    "    spectral_GO_enrichment_list = [   \n",
    "            [p_value(\n",
    "                        GO_term_nr=GO_term_nr, \n",
    "                        cluster_nr=cluster_nr,\n",
    "                        list_of_success_states=list_of_success_states,\n",
    "                        list_of_draws=list_of_spectral_draws,\n",
    "                        list_of_observed_successes=list_of_spectral_observed_successes) \n",
    "                    for GO_term_nr in range(len(GO_population))]\n",
    "                for cluster_nr in range(cluster_nr)]\n",
    "\n",
    "    spectral_GO_enrichment_df = pd.DataFrame(spectral_GO_enrichment_list, columns=GO_population).T\n",
    "    \n",
    "    m2 = cluster_nr\n",
    "    m = m1*m2\n",
    "    \n",
    "    spectral_high_significant_enrichment_df   = spectral_GO_enrichment_df < alpha[0]/m\n",
    "    spectral_middle_significant_enrichment_df = spectral_GO_enrichment_df < alpha[1]/m\n",
    "    spectral_low_significant_enrichment_df    = spectral_GO_enrichment_df < alpha[2]/m\n",
    "    \n",
    "    tijana_spectral_high_coverage.append(  sum(spectral_high_significant_enrichment_df.any())  /cluster_nr)\n",
    "    tijana_spectral_middle_coverage.append(sum(spectral_middle_significant_enrichment_df.any())/cluster_nr)\n",
    "    tijana_spectral_low_coverage.append(   sum(spectral_low_significant_enrichment_df.any())   /cluster_nr)"
   ]
  },
  {
   "cell_type": "code",
   "execution_count": 96,
   "metadata": {},
   "outputs": [
    {
     "name": "stdout",
     "output_type": "stream",
     "text": [
      "2: 0.00sec\n",
      "3: 2.71sec\n",
      "4: 6.13sec\n",
      "5: 10.46sec\n",
      "6: 15.50sec\n",
      "7: 20.93sec\n",
      "8: 29.56sec\n",
      "9: 35.96sec\n",
      "10: 42.00sec\n",
      "11: 48.70sec\n",
      "12: 56.13sec\n",
      "13: 64.66sec\n",
      "14: 73.30sec\n",
      "15: 82.52sec\n",
      "16: 92.63sec\n",
      "17: 103.73sec\n",
      "18: 114.74sec\n",
      "19: 126.11sec\n",
      "20: 138.36sec\n",
      "21: 151.03sec\n",
      "22: 164.20sec\n",
      "23: 178.09sec\n",
      "24: 192.39sec\n",
      "25: 207.26sec\n",
      "26: 225.23sec\n",
      "27: 248.43sec\n",
      "28: 266.44sec\n",
      "29: 294.28sec\n"
     ]
    }
   ],
   "source": [
    "tvd123_spectral_high_coverage = []\n",
    "tvd123_spectral_middle_coverage = []\n",
    "tvd123_spectral_low_coverage = []\n",
    "\n",
    "t1 = time.time()\n",
    "\n",
    "for cluster_nr in range(2, MAX_CLUSTER):\n",
    "    t2 = time.time()\n",
    "    print(f'{cluster_nr}: {t2-t1:.2f}sec')\n",
    "    \n",
    "    kmeans = KMeans(n_clusters=cluster_nr)\n",
    "    kmeans.fit(Basis123[:,1:cluster_nr])\n",
    "    \n",
    "    spectral_clusters = [{int2gene[i] for i, x in enumerate(kmeans.labels_) if x == cluster_nr}\n",
    "                        for cluster_nr in range(cluster_nr)]\n",
    "    \n",
    "    list_of_spectral_draws = [set(spectral_clusters[i]) for i in range(cluster_nr)]\n",
    "    list_of_spectral_observed_successes = [[draws & success_states for draws in list_of_spectral_draws]\n",
    "                                        for success_states in list_of_success_states]\n",
    "\n",
    "    spectral_GO_enrichment_list = [   \n",
    "            [p_value(\n",
    "                        GO_term_nr=GO_term_nr, \n",
    "                        cluster_nr=cluster_nr,\n",
    "                        list_of_success_states=list_of_success_states,\n",
    "                        list_of_draws=list_of_spectral_draws,\n",
    "                        list_of_observed_successes=list_of_spectral_observed_successes) \n",
    "                    for GO_term_nr in range(len(GO_population))]\n",
    "                for cluster_nr in range(cluster_nr)]\n",
    "\n",
    "    spectral_GO_enrichment_df = pd.DataFrame(spectral_GO_enrichment_list, columns=GO_population).T\n",
    "    \n",
    "    m2 = cluster_nr\n",
    "    m = m1*m2\n",
    "    \n",
    "    spectral_high_significant_enrichment_df   = spectral_GO_enrichment_df < alpha[0]/m\n",
    "    spectral_middle_significant_enrichment_df = spectral_GO_enrichment_df < alpha[1]/m\n",
    "    spectral_low_significant_enrichment_df    = spectral_GO_enrichment_df < alpha[2]/m\n",
    "    \n",
    "    tvd123_spectral_high_coverage.append(  sum(spectral_high_significant_enrichment_df.any())  /cluster_nr)\n",
    "    tvd123_spectral_middle_coverage.append(sum(spectral_middle_significant_enrichment_df.any())/cluster_nr)\n",
    "    tvd123_spectral_low_coverage.append(   sum(spectral_low_significant_enrichment_df.any())   /cluster_nr)"
   ]
  },
  {
   "cell_type": "code",
   "execution_count": 55,
   "metadata": {},
   "outputs": [
    {
     "data": {
      "image/png": "[encoded data removed]",
      "text/plain": [
       "<Figure size 1152x864 with 1 Axes>"
      ]
     },
     "metadata": {},
     "output_type": "display_data"
    }
   ],
   "source": [
    "fig, ax = plt.subplots(figsize=(16,12))\n",
    "\n",
    "plt.plot(range(2,MAX_CLUSTER), tvd0_spectral_middle_coverage, label=r'$TVD_0$');\n",
    "#plt.fill_between(range(2,MAX_CLUSTER), tvd0_spectral_high_coverage, tvd0_spectral_low_coverage, alpha=0.1);\n",
    "\n",
    "plt.plot(range(2,MAX_CLUSTER), tvd1_spectral_middle_coverage, label=r'$TVD_1$');\n",
    "#plt.fill_between(range(2,MAX_CLUSTER), tvd1_spectral_high_coverage, tvd1_spectral_low_coverage, alpha=0.1);\n",
    "\n",
    "plt.plot(range(2,MAX_CLUSTER), tvd2_spectral_middle_coverage, label=r'$TVD_2$');\n",
    "#plt.fill_between(range(2,MAX_CLUSTER), tvd2_spectral_high_coverage, tvd2_spectral_low_coverage, alpha=0.1);\n",
    "\n",
    "plt.plot(range(2,MAX_CLUSTER), tvd3_spectral_middle_coverage, label=r'$TVD_3$');\n",
    "#plt.fill_between(range(2,MAX_CLUSTER), tvd3_spectral_high_coverage, tvd3_spectral_low_coverage, alpha=0.1);\n",
    "\n",
    "plt.plot(range(2,MAX_CLUSTER), tvd0123_spectral_middle_coverage, label=r'$TVD_{0123}$');\n",
    "#plt.fill_between(range(2,MAX_CLUSTER), tvd0123_spectral_high_coverage, tvd0123_spectral_low_coverage, alpha=0.1);\n",
    "\n",
    "plt.plot(range(2,MAX_CLUSTER), tijana_spectral_middle_coverage, label=r'Tijana');\n",
    "#plt.fill_between(range(2,MAX_CLUSTER), tijana_spectral_high_coverage, tijana_spectral_low_coverage, alpha=0.1);\n",
    "\n",
    "ax.legend(fontsize=28, shadow=True, facecolor=[0.95, 0.95, 0.95, 0]);"
   ]
  },
  {
   "cell_type": "code",
   "execution_count": 97,
   "metadata": {},
   "outputs": [
    {
     "data": {
      "image/png": "[encoded data removed]",
      "text/plain": [
       "<Figure size 864x648 with 1 Axes>"
      ]
     },
     "metadata": {
      "needs_background": "light"
     },
     "output_type": "display_data"
    }
   ],
   "source": [
    "tvd='123'\n",
    "\n",
    "fig, ax = plt.subplots(figsize=(12,9))\n",
    "fig.patch.set_alpha(0)\n",
    "ax.patch.set_alpha(0)\n",
    "\n",
    "plt.plot(range(2,MAX_CLUSTER), eval(f\"tvd{tvd}_spectral_middle_coverage\"), \n",
    "         label=r'$TVD_{123}$', \n",
    "         linewidth=2.5);\n",
    "plt.fill_between(range(2,MAX_CLUSTER), \n",
    "                 eval(f\"tvd{tvd}_spectral_high_coverage\"), \n",
    "                 eval(f\"tvd{tvd}_spectral_low_coverage\"), \n",
    "                 alpha=0.1);\n",
    "\n",
    "\n",
    "plt.plot(range(2,MAX_CLUSTER), tijana_spectral_middle_coverage, \n",
    "         label=r'Tijana',\n",
    "         linewidth=2.5);\n",
    "plt.fill_between(range(2,MAX_CLUSTER), tijana_spectral_high_coverage, tijana_spectral_low_coverage, alpha=0.1);\n",
    "\n",
    "\n",
    "ax.set_xlabel('# clusters', fontsize=32)\n",
    "ax.set_ylabel('% enriched', fontsize=32)\n",
    "ax.tick_params(axis='both', which='major', labelsize=24)\n",
    "\n",
    "ax.spines['left'].set_linewidth(2.5)\n",
    "ax.spines['left'].set_color('black')\n",
    "\n",
    "ax.spines['bottom'].set_linewidth(2.5)\n",
    "ax.spines['bottom'].set_color('black')\n",
    "\n",
    "ax.legend(fontsize=28, shadow=True, facecolor=[0.95, 0.95, 0.95, 0]);\n",
    "fig.savefig(f\"data/plots/tvd_{tvd}.png\")"
   ]
  },
  {
   "cell_type": "markdown",
   "metadata": {},
   "source": [
    "### Testing tijana.cpp"
   ]
  },
  {
   "cell_type": "code",
   "execution_count": 40,
   "metadata": {},
   "outputs": [],
   "source": [
    "def tijana_distance(GDV):\n",
    "    LogGDV = np.log(np.array(GDV+1))\n",
    "\n",
    "    orbit_dependencies = np.array((1,2,2,2,3,4,3,3,4,3,4,4,4,4,3))\n",
    "    weights = 1 - np.log(orbit_dependencies) / np.log(len(orbit_dependencies))\n",
    "    \n",
    "    sqD = [np.sum(weights*np.abs(LogGDV[i,:]-LogGDV[j,:]) / np.log(np.max([GDV[i,:],GDV[j,:]], axis=0)+2))\n",
    "              for (i,j) in combinations(range(len(GDV)), 2)]\n",
    "\n",
    "    return squareform(sqD) / np.sum(weights)"
   ]
  },
  {
   "cell_type": "code",
   "execution_count": null,
   "metadata": {},
   "outputs": [],
   "source": [
    "n = 500\n",
    "G = nx.erdos_renyi_graph(n,0.5)\n",
    "GDV = graco.orbits(G, dtype=np.ndarray)"
   ]
  },
  {
   "cell_type": "code",
   "execution_count": 44,
   "metadata": {},
   "outputs": [],
   "source": [
    "np.savetxt(f\"/Users/markusyoussef/Desktop/git/graco/graco/cpp/matrix.in\", test, \n",
    "           header=f\"{len(test)} 15\", fmt='%d')"
   ]
  },
  {
   "cell_type": "code",
   "execution_count": 49,
   "metadata": {},
   "outputs": [],
   "source": [
    "D1 = tijana_distance(test)\n",
    "D2 = np.genfromtxt(f\"/Users/markusyoussef/Desktop/git/graco/graco/cpp/matrix.out\")"
   ]
  },
  {
   "cell_type": "code",
   "execution_count": 14,
   "metadata": {},
   "outputs": [],
   "source": [
    "G = nx.erdos_renyi_graph(100, 0.01)\n",
    "GDV = graco.orbits(G)"
   ]
  },
  {
   "cell_type": "code",
   "execution_count": 16,
   "metadata": {},
   "outputs": [],
   "source": [
    "np.savetxt(\"/home/clusterduck123/Desktop/sam/GDV.in\", GDV,\n",
    "            header=f\"{len(GDV)} 15\", fmt=\"%d\")"
   ]
  },
  {
   "cell_type": "code",
   "execution_count": null,
   "metadata": {},
   "outputs": [],
   "source": [
    "from scipy.spatial.distance import squareform"
   ]
  }
 ],
 "metadata": {
  "kernelspec": {
   "display_name": "graco",
   "language": "python",
   "name": "graco"
  },
  "language_info": {
   "codemirror_mode": {
    "name": "ipython",
    "version": 3
   },
   "file_extension": ".py",
   "mimetype": "text/x-python",
   "name": "python",
   "nbconvert_exporter": "python",
   "pygments_lexer": "ipython3",
   "version": "3.6.8"
  }
 },
 "nbformat": 4,
 "nbformat_minor": 2
}
